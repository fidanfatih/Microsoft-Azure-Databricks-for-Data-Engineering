{
 "cells": [
  {
   "cell_type": "markdown",
   "metadata": {
    "application/vnd.databricks.v1+cell": {
     "cellMetadata": {},
     "inputWidgets": {},
     "nuid": "91173802-6a49-4a37-8123-9a3e0f221c88",
     "showTitle": false,
     "title": ""
    }
   },
   "source": [
    "#Use aggregate functions\n",
    "\n",
    "** Data Source **\n",
    "* English Wikipedia pageviews by second\n",
    "* Size on Disk: ~255 MB\n",
    "* Type: Parquet files\n",
    "* More Info: <a href=\"https://datahub.io/en/dataset/english-wikipedia-pageviews-by-second\" target=\"_blank\">https&#58;//datahub.io/en/dataset/english-wikipedia-pageviews-by-second</a>\n",
    "\n",
    "**Technical Accomplishments:**\n",
    "* Introduce the various aggregate functions."
   ]
  },
  {
   "cell_type": "markdown",
   "metadata": {
    "application/vnd.databricks.v1+cell": {
     "cellMetadata": {},
     "inputWidgets": {},
     "nuid": "f57d99dd-77e2-4200-a0d4-97cf825312fb",
     "showTitle": false,
     "title": ""
    }
   },
   "source": [
    "##![Spark Logo Tiny](https://files.training.databricks.com/images/105/logo_spark_tiny.png) Getting Started\n",
    "\n",
    "Run the following cell to configure our \"classroom.\""
   ]
  },
  {
   "cell_type": "code",
   "execution_count": 0,
   "metadata": {
    "application/vnd.databricks.v1+cell": {
     "cellMetadata": {
      "byteLimit": 2048000,
      "rowLimit": 10000
     },
     "inputWidgets": {},
     "nuid": "41634e63-0747-4d1c-b099-ace3c1d5ac09",
     "showTitle": false,
     "title": ""
    }
   },
   "outputs": [
    {
     "output_type": "display_data",
     "data": {
      "text/html": [
       "Initialized classroom variables & functions..."
      ]
     },
     "metadata": {
      "application/vnd.databricks.v1+output": {
       "addedWidgets": {},
       "arguments": {},
       "data": "Initialized classroom variables & functions...",
       "datasetInfos": [],
       "metadata": {
        "isDbfsCommandResult": false
       },
       "removedWidgets": [],
       "textData": null,
       "type": "htmlSandbox"
      }
     },
     "output_type": "display_data"
    },
    {
     "output_type": "display_data",
     "data": {
      "text/html": [
       "Datasets are already mounted to <b>/mnt/training</b> from <b>wasbs://training@dbtrainwesteurope.blob.core.windows.net/</b>"
      ]
     },
     "metadata": {
      "application/vnd.databricks.v1+output": {
       "addedWidgets": {},
       "arguments": {},
       "data": "Datasets are already mounted to <b>/mnt/training</b> from <b>wasbs://training@dbtrainwesteurope.blob.core.windows.net/</b>",
       "datasetInfos": [],
       "metadata": {
        "isDbfsCommandResult": false
       },
       "removedWidgets": [],
       "textData": null,
       "type": "htmlSandbox"
      }
     },
     "output_type": "display_data"
    },
    {
     "output_type": "display_data",
     "data": {
      "text/html": [
       "Created user-specific database"
      ]
     },
     "metadata": {
      "application/vnd.databricks.v1+output": {
       "addedWidgets": {},
       "arguments": {},
       "data": "Created user-specific database",
       "datasetInfos": [],
       "metadata": {
        "isDbfsCommandResult": false
       },
       "removedWidgets": [],
       "textData": null,
       "type": "htmlSandbox"
      }
     },
     "output_type": "display_data"
    },
    {
     "output_type": "display_data",
     "data": {
      "text/html": [
       "Using the database <b style=\"color:green\">fatihfidan52_gmail_com_db</b>."
      ]
     },
     "metadata": {
      "application/vnd.databricks.v1+output": {
       "addedWidgets": {},
       "arguments": {},
       "data": "Using the database <b style=\"color:green\">fatihfidan52_gmail_com_db</b>.",
       "datasetInfos": [],
       "metadata": {
        "isDbfsCommandResult": false
       },
       "removedWidgets": [],
       "textData": null,
       "type": "htmlSandbox"
      }
     },
     "output_type": "display_data"
    },
    {
     "output_type": "display_data",
     "data": {
      "text/html": [
       "All done!"
      ]
     },
     "metadata": {
      "application/vnd.databricks.v1+output": {
       "addedWidgets": {},
       "arguments": {},
       "data": "All done!",
       "datasetInfos": [],
       "metadata": {},
       "removedWidgets": [],
       "textData": null,
       "type": "htmlSandbox"
      }
     },
     "output_type": "display_data"
    }
   ],
   "source": [
    "%run \"./Includes/Classroom-Setup\""
   ]
  },
  {
   "cell_type": "markdown",
   "metadata": {
    "application/vnd.databricks.v1+cell": {
     "cellMetadata": {},
     "inputWidgets": {},
     "nuid": "b5e30287-4fe2-486b-93e0-27f04d52fc1c",
     "showTitle": false,
     "title": ""
    }
   },
   "source": [
    "##![Spark Logo Tiny](https://files.training.databricks.com/images/105/logo_spark_tiny.png) The Data Source\n",
    "\n",
    "This data uses the **Pageviews By Seconds** data set."
   ]
  },
  {
   "cell_type": "code",
   "execution_count": 0,
   "metadata": {
    "application/vnd.databricks.v1+cell": {
     "cellMetadata": {
      "byteLimit": 2048000,
      "rowLimit": 10000
     },
     "inputWidgets": {},
     "nuid": "b87d86fc-c4db-4b46-9173-71dc7ae3fc6b",
     "showTitle": false,
     "title": ""
    }
   },
   "outputs": [],
   "source": [
    "from pyspark.sql.functions import *\n",
    "from pyspark.sql.types import *\n",
    "\n",
    "# I've already gone through the exercise to determine\n",
    "# how many partitions I want and in this case it is...\n",
    "partitions = 8\n",
    "\n",
    "# Make sure wide operations don't repartition to 200\n",
    "spark.conf.set(\"spark.sql.shuffle.partitions\", str(partitions))"
   ]
  },
  {
   "cell_type": "code",
   "execution_count": 0,
   "metadata": {
    "application/vnd.databricks.v1+cell": {
     "cellMetadata": {
      "byteLimit": 2048000,
      "rowLimit": 10000
     },
     "inputWidgets": {},
     "nuid": "0053e1f4-7140-4b4a-bdc3-32aee474632c",
     "showTitle": false,
     "title": ""
    }
   },
   "outputs": [
    {
     "output_type": "stream",
     "name": "stdout",
     "output_type": "stream",
     "text": [
      "Out[9]: 7200000"
     ]
    }
   ],
   "source": [
    "file='/databricks-datasets/wikipedia-datasets/data-001/pageviews/raw/pageviews_by_second.tsv'\n",
    "\n",
    "# Required for StructField, StringType, IntegerType, etc.\n",
    "from pyspark.sql.types import *\n",
    "\n",
    "csvSchema = StructType([\n",
    "  StructField(\"timestamp\", StringType(), False),\n",
    "  StructField(\"site\", StringType(), False),\n",
    "  StructField(\"request\", IntegerType(), False),\n",
    "])\n",
    "\n",
    "initialDF= spark.read.option(\"header\", \"true\").option(\"sep\", \"\\t\").schema(csvSchema).csv(file).repartition(partitions).cache()\n",
    "\n",
    "initialDF.count()\n",
    "\n",
    "# rename the timestamp column and cast to a timestamp data type\n",
    "pageviewsDF = (initialDF\n",
    "  .withColumnRenamed(\"timestamp\", \"capturedAt\")\n",
    "  .withColumn(\"capturedAt\", unix_timestamp( col(\"capturedAt\"), \"yyyy-MM-dd'T'HH:mm:ss\").cast(\"timestamp\") )\n",
    ")\n",
    "\n",
    "# cache the transformations on our new DataFrame by marking the DataFrame as cached and then materialize the result\n",
    "pageviewsDF.cache().count()"
   ]
  },
  {
   "cell_type": "markdown",
   "metadata": {
    "application/vnd.databricks.v1+cell": {
     "cellMetadata": {},
     "inputWidgets": {},
     "nuid": "b8a535bd-ee07-427c-9bcb-6e35ce501d8a",
     "showTitle": false,
     "title": ""
    }
   },
   "source": [
    "##![Spark Logo Tiny](https://files.training.databricks.com/images/105/logo_spark_tiny.png) groupBy()\n",
    "\n",
    "Aggregating data is one of the more common tasks when working with big data.\n",
    "* How many customers are over 65?\n",
    "* What is the ratio of men to women?\n",
    "* Group all emails by their sender.\n",
    "\n",
    "The function `groupBy()` is one tool that we can use for this purpose.\n",
    "\n",
    "If you look at the API docs, `groupBy(..)` is described like this:\n",
    "> Groups the Dataset using the specified columns, so that we can run aggregation on them.\n",
    "\n",
    "This function is a **wide** transformation - it will produce a shuffle and conclude a stage boundary.\n",
    "\n",
    "Unlike all of the other transformations we've seen so far, this transformation does not return a `DataFrame`.\n",
    "* In Scala it returns `RelationalGroupedDataset`\n",
    "* In Python it returns `GroupedData`\n",
    "\n",
    "This is because the call `groupBy(..)` is only 1/2 of the transformation.\n",
    "\n",
    "To see the other half, we need to take a look at it's return type, `RelationalGroupedDataset`."
   ]
  },
  {
   "cell_type": "markdown",
   "metadata": {
    "application/vnd.databricks.v1+cell": {
     "cellMetadata": {},
     "inputWidgets": {},
     "nuid": "d7cb51c0-acb4-4c06-ac2c-2886293dd3ac",
     "showTitle": false,
     "title": ""
    }
   },
   "source": [
    "### RelationalGroupedDataset\n",
    "\n",
    "If we take a look at the API docs for `RelationalGroupedDataset`, we can see that it supports the following aggregations:\n",
    "\n",
    "| Method | Description |\n",
    "|--------|-------------|\n",
    "| `avg(..)` | Compute the mean value for each numeric columns for each group. |\n",
    "| `count(..)` | Count the number of rows for each group. |\n",
    "| `sum(..)` | Compute the sum for each numeric columns for each group. |\n",
    "| `min(..)` | Compute the min value for each numeric column for each group. |\n",
    "| `max(..)` | Compute the max value for each numeric columns for each group. |\n",
    "| `mean(..)` | Compute the average value for each numeric columns for each group. |\n",
    "| `agg(..)` | Compute aggregates by specifying a series of aggregate columns. |\n",
    "| `pivot(..)` | Pivots a column of the current DataFrame and perform the specified aggregation. |\n",
    "\n",
    "With the exception of `pivot(..)`, each of these functions return our new `DataFrame`."
   ]
  },
  {
   "cell_type": "markdown",
   "metadata": {
    "application/vnd.databricks.v1+cell": {
     "cellMetadata": {},
     "inputWidgets": {},
     "nuid": "c7677141-5414-431d-9858-2778cf7bfe9a",
     "showTitle": false,
     "title": ""
    }
   },
   "source": [
    "Together, `groupBy(..)` and `RelationalGroupedDataset` (or `GroupedData` in Python) give us what we need to answer some basic questions.\n",
    "\n",
    "For Example, how many more request did the desktop site receive than the mobile site receive?\n",
    "\n",
    "For this all we need to do is group all records by **site** and then sum all the request."
   ]
  },
  {
   "cell_type": "code",
   "execution_count": 0,
   "metadata": {
    "application/vnd.databricks.v1+cell": {
     "cellMetadata": {
      "byteLimit": 2048000,
      "rowLimit": 10000
     },
     "inputWidgets": {},
     "nuid": "38460be4-b67a-4a49-a6a0-e8f37829a279",
     "showTitle": false,
     "title": ""
    }
   },
   "outputs": [
    {
     "output_type": "stream",
     "name": "stdout",
     "output_type": "stream",
     "text": [
      "+-------------------+-------+-------+\n|capturedAt         |site   |request|\n+-------------------+-------+-------+\n|2015-03-24 22:14:37|desktop|2640   |\n|2015-03-21 21:29:38|mobile |1671   |\n|2015-03-22 22:40:38|mobile |1682   |\n|2015-03-24 03:37:28|mobile |1391   |\n|2015-03-22 10:16:37|desktop|1925   |\n+-------------------+-------+-------+\nonly showing top 5 rows\n\n"
     ]
    }
   ],
   "source": [
    "pageviewsDF.show(5, False)"
   ]
  },
  {
   "cell_type": "code",
   "execution_count": 0,
   "metadata": {
    "application/vnd.databricks.v1+cell": {
     "cellMetadata": {
      "byteLimit": 2048000,
      "rowLimit": 10000
     },
     "inputWidgets": {},
     "nuid": "2a4fe614-32ee-4e25-9659-0c9728ae5d72",
     "showTitle": false,
     "title": ""
    }
   },
   "outputs": [
    {
     "output_type": "display_data",
     "data": {
      "text/html": [
       "<style scoped>\n  .table-result-container {\n    max-height: 300px;\n    overflow: auto;\n  }\n  table, th, td {\n    border: 1px solid black;\n    border-collapse: collapse;\n  }\n  th, td {\n    padding: 5px;\n  }\n  th {\n    text-align: left;\n  }\n</style><div class='table-result-container'><table class='table-result'><thead style='background-color: white'><tr><th>site</th><th>sum(request)</th></tr></thead><tbody><tr><td>desktop</td><td>8737180972</td></tr><tr><td>mobile</td><td>4605797962</td></tr></tbody></table></div>"
      ]
     },
     "metadata": {
      "application/vnd.databricks.v1+output": {
       "addedWidgets": {},
       "aggData": [],
       "aggError": "",
       "aggOverflow": false,
       "aggSchema": [],
       "aggSeriesLimitReached": false,
       "aggType": "",
       "arguments": {},
       "columnCustomDisplayInfos": {},
       "data": [
        [
         "desktop",
         8737180972
        ],
        [
         "mobile",
         4605797962
        ]
       ],
       "datasetInfos": [],
       "dbfsResultPath": null,
       "isJsonSchema": true,
       "metadata": {},
       "overflow": false,
       "plotOptions": {
        "customPlotOptions": {},
        "displayType": "table",
        "pivotAggregation": null,
        "pivotColumns": null,
        "xColumns": null,
        "yColumns": null
       },
       "removedWidgets": [],
       "schema": [
        {
         "metadata": "{}",
         "name": "site",
         "type": "\"string\""
        },
        {
         "metadata": "{}",
         "name": "sum(request)",
         "type": "\"long\""
        }
       ],
       "type": "table"
      }
     },
     "output_type": "display_data"
    }
   ],
   "source": [
    "display(\n",
    "  pageviewsDF\n",
    "    .groupBy( col(\"site\") )\n",
    "    .sum()\n",
    ")"
   ]
  },
  {
   "cell_type": "markdown",
   "metadata": {
    "application/vnd.databricks.v1+cell": {
     "cellMetadata": {},
     "inputWidgets": {},
     "nuid": "a6732fd3-0623-452e-ab76-ef042bd814e4",
     "showTitle": false,
     "title": ""
    }
   },
   "source": [
    "Notice above that we didn't actually specify which column we were summing....\n",
    "\n",
    "In this case you will actually receive a total for all numerical values.\n",
    "\n",
    "There is a performance catch to that - if I have 2, 5, 10? columns, then they will all be summed and I may only need one.\n",
    "\n",
    "I can first reduce my columns to those that I wanted or I can simply specify which column(s) to sum up."
   ]
  },
  {
   "cell_type": "code",
   "execution_count": 0,
   "metadata": {
    "application/vnd.databricks.v1+cell": {
     "cellMetadata": {
      "byteLimit": 2048000,
      "rowLimit": 10000
     },
     "inputWidgets": {},
     "nuid": "dafa2b0b-bc3e-4857-9199-1c76b2fa295a",
     "showTitle": false,
     "title": ""
    }
   },
   "outputs": [
    {
     "output_type": "display_data",
     "data": {
      "text/html": [
       "<style scoped>\n  .table-result-container {\n    max-height: 300px;\n    overflow: auto;\n  }\n  table, th, td {\n    border: 1px solid black;\n    border-collapse: collapse;\n  }\n  th, td {\n    padding: 5px;\n  }\n  th {\n    text-align: left;\n  }\n</style><div class='table-result-container'><table class='table-result'><thead style='background-color: white'><tr><th>site</th><th>sum(request)</th></tr></thead><tbody><tr><td>desktop</td><td>8737180972</td></tr><tr><td>mobile</td><td>4605797962</td></tr></tbody></table></div>"
      ]
     },
     "metadata": {
      "application/vnd.databricks.v1+output": {
       "addedWidgets": {},
       "aggData": [],
       "aggError": "",
       "aggOverflow": false,
       "aggSchema": [],
       "aggSeriesLimitReached": false,
       "aggType": "",
       "arguments": {},
       "columnCustomDisplayInfos": {},
       "data": [
        [
         "desktop",
         8737180972
        ],
        [
         "mobile",
         4605797962
        ]
       ],
       "datasetInfos": [],
       "dbfsResultPath": null,
       "isJsonSchema": true,
       "metadata": {},
       "overflow": false,
       "plotOptions": {
        "customPlotOptions": {},
        "displayType": "table",
        "pivotAggregation": null,
        "pivotColumns": null,
        "xColumns": null,
        "yColumns": null
       },
       "removedWidgets": [],
       "schema": [
        {
         "metadata": "{}",
         "name": "site",
         "type": "\"string\""
        },
        {
         "metadata": "{}",
         "name": "sum(request)",
         "type": "\"long\""
        }
       ],
       "type": "table"
      }
     },
     "output_type": "display_data"
    }
   ],
   "source": [
    "display(\n",
    "  pageviewsDF\n",
    "    .groupBy( col(\"site\") )\n",
    "    .sum(\"request\")\n",
    ")"
   ]
  },
  {
   "cell_type": "markdown",
   "metadata": {
    "application/vnd.databricks.v1+cell": {
     "cellMetadata": {},
     "inputWidgets": {},
     "nuid": "284c0fef-48e4-423d-98b9-8107859c2610",
     "showTitle": false,
     "title": ""
    }
   },
   "source": [
    "And because I don't like the resulting column name, **sum(request)** I can easily rename it..."
   ]
  },
  {
   "cell_type": "code",
   "execution_count": 0,
   "metadata": {
    "application/vnd.databricks.v1+cell": {
     "cellMetadata": {
      "byteLimit": 2048000,
      "rowLimit": 10000
     },
     "inputWidgets": {},
     "nuid": "f04c3b2c-f719-4724-b3f4-8a224cde8ba7",
     "showTitle": false,
     "title": ""
    }
   },
   "outputs": [
    {
     "output_type": "display_data",
     "data": {
      "text/html": [
       "<style scoped>\n  .table-result-container {\n    max-height: 300px;\n    overflow: auto;\n  }\n  table, th, td {\n    border: 1px solid black;\n    border-collapse: collapse;\n  }\n  th, td {\n    padding: 5px;\n  }\n  th {\n    text-align: left;\n  }\n</style><div class='table-result-container'><table class='table-result'><thead style='background-color: white'><tr><th>site</th><th>totalRequests</th></tr></thead><tbody><tr><td>desktop</td><td>8737180972</td></tr><tr><td>mobile</td><td>4605797962</td></tr></tbody></table></div>"
      ]
     },
     "metadata": {
      "application/vnd.databricks.v1+output": {
       "addedWidgets": {},
       "aggData": [],
       "aggError": "",
       "aggOverflow": false,
       "aggSchema": [],
       "aggSeriesLimitReached": false,
       "aggType": "",
       "arguments": {},
       "columnCustomDisplayInfos": {},
       "data": [
        [
         "desktop",
         8737180972
        ],
        [
         "mobile",
         4605797962
        ]
       ],
       "datasetInfos": [],
       "dbfsResultPath": null,
       "isJsonSchema": true,
       "metadata": {},
       "overflow": false,
       "plotOptions": {
        "customPlotOptions": {},
        "displayType": "table",
        "pivotAggregation": null,
        "pivotColumns": null,
        "xColumns": null,
        "yColumns": null
       },
       "removedWidgets": [],
       "schema": [
        {
         "metadata": "{}",
         "name": "site",
         "type": "\"string\""
        },
        {
         "metadata": "{}",
         "name": "totalRequests",
         "type": "\"long\""
        }
       ],
       "type": "table"
      }
     },
     "output_type": "display_data"
    }
   ],
   "source": [
    "display(\n",
    "  pageviewsDF\n",
    "    .groupBy( col(\"site\") )\n",
    "    .sum(\"request\")\n",
    "    .withColumnRenamed(\"sum(request)\", \"totalrequest\")\n",
    ")"
   ]
  },
  {
   "cell_type": "markdown",
   "metadata": {
    "application/vnd.databricks.v1+cell": {
     "cellMetadata": {},
     "inputWidgets": {},
     "nuid": "15741292-4215-419f-b356-952f103063bb",
     "showTitle": false,
     "title": ""
    }
   },
   "source": [
    "How about the total number of request per site? mobile vs desktop?"
   ]
  },
  {
   "cell_type": "code",
   "execution_count": 0,
   "metadata": {
    "application/vnd.databricks.v1+cell": {
     "cellMetadata": {
      "byteLimit": 2048000,
      "rowLimit": 10000
     },
     "inputWidgets": {},
     "nuid": "76f72e07-d73b-4ce8-b199-a3ff4d107f5b",
     "showTitle": false,
     "title": ""
    }
   },
   "outputs": [
    {
     "output_type": "display_data",
     "data": {
      "text/html": [
       "<style scoped>\n  .table-result-container {\n    max-height: 300px;\n    overflow: auto;\n  }\n  table, th, td {\n    border: 1px solid black;\n    border-collapse: collapse;\n  }\n  th, td {\n    padding: 5px;\n  }\n  th {\n    text-align: left;\n  }\n</style><div class='table-result-container'><table class='table-result'><thead style='background-color: white'><tr><th>site</th><th>count</th></tr></thead><tbody><tr><td>desktop</td><td>3600000</td></tr><tr><td>mobile</td><td>3600000</td></tr></tbody></table></div>"
      ]
     },
     "metadata": {
      "application/vnd.databricks.v1+output": {
       "addedWidgets": {},
       "aggData": [],
       "aggError": "",
       "aggOverflow": false,
       "aggSchema": [],
       "aggSeriesLimitReached": false,
       "aggType": "",
       "arguments": {},
       "columnCustomDisplayInfos": {},
       "data": [
        [
         "desktop",
         3600000
        ],
        [
         "mobile",
         3600000
        ]
       ],
       "datasetInfos": [],
       "dbfsResultPath": null,
       "isJsonSchema": true,
       "metadata": {},
       "overflow": false,
       "plotOptions": {
        "customPlotOptions": {},
        "displayType": "table",
        "pivotAggregation": null,
        "pivotColumns": null,
        "xColumns": null,
        "yColumns": null
       },
       "removedWidgets": [],
       "schema": [
        {
         "metadata": "{}",
         "name": "site",
         "type": "\"string\""
        },
        {
         "metadata": "{}",
         "name": "count",
         "type": "\"long\""
        }
       ],
       "type": "table"
      }
     },
     "output_type": "display_data"
    }
   ],
   "source": [
    "display(pageviewsDF.groupBy(col(\"site\")).count())"
   ]
  },
  {
   "cell_type": "markdown",
   "metadata": {
    "application/vnd.databricks.v1+cell": {
     "cellMetadata": {},
     "inputWidgets": {},
     "nuid": "9ffdec1a-6211-4dcb-a871-408ac335750f",
     "showTitle": false,
     "title": ""
    }
   },
   "source": [
    "This result shouldn't surprise us... there were after all one record, per second, per site...."
   ]
  },
  {
   "cell_type": "markdown",
   "metadata": {
    "application/vnd.databricks.v1+cell": {
     "cellMetadata": {},
     "inputWidgets": {},
     "nuid": "378598ef-ca3d-43a5-80f1-4a09d3597332",
     "showTitle": false,
     "title": ""
    }
   },
   "source": [
    "##![Spark Logo Tiny](https://files.training.databricks.com/images/105/logo_spark_tiny.png) sum(), count(), avg(), min(), max()"
   ]
  },
  {
   "cell_type": "markdown",
   "metadata": {
    "application/vnd.databricks.v1+cell": {
     "cellMetadata": {},
     "inputWidgets": {},
     "nuid": "68027fa5-9ba6-426c-b2df-ca822bd35ca9",
     "showTitle": false,
     "title": ""
    }
   },
   "source": [
    "The `groupBy(..)` operation is not our only option for aggregating.\n",
    "\n",
    "The `...sql.functions` package actually defines a large number of aggregate functions\n",
    "* `org.apache.spark.sql.functions` in the case of Scala & Java\n",
    "* `pyspark.sql.functions` in the case of Python\n",
    "\n",
    "\n",
    "Let's take a look at this in the Scala API docs (only because the documentation is a little easier to read)."
   ]
  },
  {
   "cell_type": "markdown",
   "metadata": {
    "application/vnd.databricks.v1+cell": {
     "cellMetadata": {},
     "inputWidgets": {},
     "nuid": "13dac2e7-3703-4217-8f92-ca1c546d99f9",
     "showTitle": false,
     "title": ""
    }
   },
   "source": [
    "Let's take a look at our last two examples... \n",
    "\n",
    "We saw the count of records and the sum of records.\n",
    "\n",
    "Let's take do this a slightly different way...\n",
    "\n",
    "This time with the `...sql.functions` operations.\n",
    "\n",
    "And just for fun, let's throw in the average, minimum and maximum"
   ]
  },
  {
   "cell_type": "code",
   "execution_count": 0,
   "metadata": {
    "application/vnd.databricks.v1+cell": {
     "cellMetadata": {
      "byteLimit": 2048000,
      "rowLimit": 10000
     },
     "inputWidgets": {},
     "nuid": "91fef078-4899-44e0-92d3-d3f7acb9c005",
     "showTitle": false,
     "title": ""
    }
   },
   "outputs": [
    {
     "output_type": "stream",
     "name": "stdout",
     "output_type": "stream",
     "text": [
      "+------------+--------------+------------------+------------+------------+\n|sum(request)|count(request)|      avg(request)|min(request)|max(request)|\n+------------+--------------+------------------+------------+------------+\n|  4605797962|       3600000|1279.3883227777778|         645|        3292|\n+------------+--------------+------------------+------------+------------+\n\n+------------+--------------+------------------+------------+------------+\n|sum(request)|count(request)|      avg(request)|min(request)|max(request)|\n+------------+--------------+------------------+------------+------------+\n|  8737180972|       3600000|2426.9947144444445|        1312|        5695|\n+------------+--------------+------------------+------------+------------+\n\n"
     ]
    }
   ],
   "source": [
    "(\n",
    "    pageviewsDF.filter(\"site = 'mobile'\")\n",
    "    .select(\n",
    "        sum(col(\"request\")),\n",
    "        count(col(\"request\")),\n",
    "        avg(col(\"request\")),\n",
    "        min(col(\"request\")),\n",
    "        max(col(\"request\")),\n",
    "    )\n",
    "    .show()\n",
    ")\n",
    "\n",
    "(\n",
    "    pageviewsDF.filter(\"site = 'desktop'\")\n",
    "    .select(\n",
    "        sum(col(\"request\")),\n",
    "        count(col(\"request\")),\n",
    "        avg(col(\"request\")),\n",
    "        min(col(\"request\")),\n",
    "        max(col(\"request\")),\n",
    "    )\n",
    "    .show()\n",
    ")"
   ]
  },
  {
   "cell_type": "markdown",
   "metadata": {
    "application/vnd.databricks.v1+cell": {
     "cellMetadata": {},
     "inputWidgets": {},
     "nuid": "ca44e6d7-2884-49a4-8c43-b5fe86977d0f",
     "showTitle": false,
     "title": ""
    }
   },
   "source": [
    "And let's just address one more pet-peeve...\n",
    "\n",
    "Was that 3.6M records or 360K records?"
   ]
  },
  {
   "cell_type": "code",
   "execution_count": 0,
   "metadata": {
    "application/vnd.databricks.v1+cell": {
     "cellMetadata": {
      "byteLimit": 2048000,
      "rowLimit": 10000
     },
     "inputWidgets": {},
     "nuid": "51146d08-b9ca-4829-a924-a8913e229ea4",
     "showTitle": false,
     "title": ""
    }
   },
   "outputs": [
    {
     "output_type": "stream",
     "name": "stdout",
     "output_type": "stream",
     "text": [
      "+-------------+---------+--------+---+-----+\n|          sum|    count|     avg|min|  max|\n+-------------+---------+--------+---+-----+\n|4,605,797,962|3,600,000|1,279.39|645|3,292|\n+-------------+---------+--------+---+-----+\n\n+------------------------------+--------------------------------+------------------------------+------------------------------+------------------------------+\n|format_number(sum(request), 0)|format_number(count(request), 0)|format_number(avg(request), 2)|format_number(min(request), 0)|format_number(max(request), 0)|\n+------------------------------+--------------------------------+------------------------------+------------------------------+------------------------------+\n|                 8,737,180,972|                       3,600,000|                      2,426.99|                         1,312|                         5,695|\n+------------------------------+--------------------------------+------------------------------+------------------------------+------------------------------+\n\n"
     ]
    }
   ],
   "source": [
    "(pageviewsDF\n",
    "  .filter(\"site = 'mobile'\")\n",
    "  .select( \n",
    "    format_number(sum(col(\"request\")), 0).alias(\"sum\"), \n",
    "    format_number(count(col(\"request\")), 0).alias(\"count\"), \n",
    "    format_number(avg(col(\"request\")), 2).alias(\"avg\"), \n",
    "    format_number(min(col(\"request\")), 0).alias(\"min\"), \n",
    "    format_number(max(col(\"request\")), 0).alias(\"max\") \n",
    "  )\n",
    "  .show()\n",
    ")\n",
    "\n",
    "(pageviewsDF\n",
    "  .filter(\"site = 'desktop'\")\n",
    "  .select( \n",
    "    format_number(sum(col(\"request\")), 0), \n",
    "    format_number(count(col(\"request\")), 0), \n",
    "    format_number(avg(col(\"request\")), 2), \n",
    "    format_number(min(col(\"request\")), 0), \n",
    "    format_number(max(col(\"request\")), 0) \n",
    "  )\n",
    "  .show()\n",
    ")"
   ]
  }
 ],
 "metadata": {
  "application/vnd.databricks.v1+notebook": {
   "dashboards": [],
   "language": "python",
   "notebookMetadata": {
    "pythonIndentUnit": 2
   },
   "notebookName": "2.Use-Aggregate-Functions",
   "notebookOrigID": 3281045362512183,
   "widgets": {}
  }
 },
 "nbformat": 4,
 "nbformat_minor": 0
}
