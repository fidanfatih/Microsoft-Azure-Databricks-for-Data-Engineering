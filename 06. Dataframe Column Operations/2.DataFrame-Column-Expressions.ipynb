{
 "cells": [
  {
   "cell_type": "markdown",
   "metadata": {
    "application/vnd.databricks.v1+cell": {
     "cellMetadata": {},
     "inputWidgets": {},
     "nuid": "a920e814-8151-4fb3-bde0-e41d11ea0d8a",
     "showTitle": false,
     "title": ""
    }
   },
   "source": [
    "#DataFrame Column Expressions\n",
    "\n",
    "** Data Source **\n",
    "* One hour of Pagecounts from the English Wikimedia projects captured August 5, 2016, at 12:00 PM UTC.\n",
    "* Size on Disk: ~23 MB\n",
    "* Type: Compressed Parquet File\n",
    "* More Info: <a href=\"https://dumps.wikimedia.org/other/pagecounts-raw\" target=\"_blank\">Page view statistics for Wikimedia projects</a>\n",
    "\n",
    "**Technical Accomplishments:**\n",
    "* Continue exploring the `DataFrame` set of APIs.\n",
    "* Continue to work with the `Column` class and introduce the `Row` class\n",
    "* Introduce the transformations...\n",
    "  * `orderBy(..)`\n",
    "  * `sort(..)`\n",
    "  * `filter(..)`\n",
    "  * `where(..)`\n",
    "* Introduce the actions...\n",
    "  * `collect()`\n",
    "  * `take(n)`\n",
    "  * `first()`\n",
    "  * `head()`"
   ]
  },
  {
   "cell_type": "markdown",
   "metadata": {
    "application/vnd.databricks.v1+cell": {
     "cellMetadata": {},
     "inputWidgets": {},
     "nuid": "f47adb3c-f864-4204-b3ac-f5b94012d6d2",
     "showTitle": false,
     "title": ""
    }
   },
   "source": [
    "##![Spark Logo Tiny](https://files.training.databricks.com/images/105/logo_spark_tiny.png) Getting Started\n",
    "\n",
    "Run the following cell to configure our \"classroom.\""
   ]
  },
  {
   "cell_type": "code",
   "execution_count": 0,
   "metadata": {
    "application/vnd.databricks.v1+cell": {
     "cellMetadata": {
      "byteLimit": 2048000,
      "rowLimit": 10000
     },
     "inputWidgets": {},
     "nuid": "cb166efe-b1dd-4dc7-8786-614b722a9c6a",
     "showTitle": false,
     "title": ""
    }
   },
   "outputs": [
    {
     "output_type": "display_data",
     "data": {
      "text/html": [
       "Initialized classroom variables & functions..."
      ]
     },
     "metadata": {
      "application/vnd.databricks.v1+output": {
       "addedWidgets": {},
       "arguments": {},
       "data": "Initialized classroom variables & functions...",
       "datasetInfos": [],
       "metadata": {
        "isDbfsCommandResult": false
       },
       "removedWidgets": [],
       "textData": null,
       "type": "htmlSandbox"
      }
     },
     "output_type": "display_data"
    },
    {
     "output_type": "display_data",
     "data": {
      "text/html": [
       "Datasets are already mounted to <b>/mnt/training</b> from <b>wasbs://training@dbtrainwesteurope.blob.core.windows.net/</b>"
      ]
     },
     "metadata": {
      "application/vnd.databricks.v1+output": {
       "addedWidgets": {},
       "arguments": {},
       "data": "Datasets are already mounted to <b>/mnt/training</b> from <b>wasbs://training@dbtrainwesteurope.blob.core.windows.net/</b>",
       "datasetInfos": [],
       "metadata": {
        "isDbfsCommandResult": false
       },
       "removedWidgets": [],
       "textData": null,
       "type": "htmlSandbox"
      }
     },
     "output_type": "display_data"
    },
    {
     "output_type": "display_data",
     "data": {
      "text/html": [
       "Created user-specific database"
      ]
     },
     "metadata": {
      "application/vnd.databricks.v1+output": {
       "addedWidgets": {},
       "arguments": {},
       "data": "Created user-specific database",
       "datasetInfos": [],
       "metadata": {
        "isDbfsCommandResult": false
       },
       "removedWidgets": [],
       "textData": null,
       "type": "htmlSandbox"
      }
     },
     "output_type": "display_data"
    },
    {
     "output_type": "display_data",
     "data": {
      "text/html": [
       "Using the database <b style=\"color:green\">fatihfidan52_gmail_com_db</b>."
      ]
     },
     "metadata": {
      "application/vnd.databricks.v1+output": {
       "addedWidgets": {},
       "arguments": {},
       "data": "Using the database <b style=\"color:green\">fatihfidan52_gmail_com_db</b>.",
       "datasetInfos": [],
       "metadata": {
        "isDbfsCommandResult": false
       },
       "removedWidgets": [],
       "textData": null,
       "type": "htmlSandbox"
      }
     },
     "output_type": "display_data"
    },
    {
     "output_type": "display_data",
     "data": {
      "text/html": [
       "All done!"
      ]
     },
     "metadata": {
      "application/vnd.databricks.v1+output": {
       "addedWidgets": {},
       "arguments": {},
       "data": "All done!",
       "datasetInfos": [],
       "metadata": {},
       "removedWidgets": [],
       "textData": null,
       "type": "htmlSandbox"
      }
     },
     "output_type": "display_data"
    }
   ],
   "source": [
    "%run \"./Includes/Classroom-Setup\""
   ]
  },
  {
   "cell_type": "markdown",
   "metadata": {
    "application/vnd.databricks.v1+cell": {
     "cellMetadata": {},
     "inputWidgets": {},
     "nuid": "e5c01348-556e-4158-99b2-01af569a4f6a",
     "showTitle": false,
     "title": ""
    }
   },
   "source": [
    "##![Spark Logo Tiny](https://files.training.databricks.com/images/105/logo_spark_tiny.png) **The Data Source**\n",
    "\n",
    "We will be using the same data source as our previous notebook.\n",
    "\n",
    "As such, we can go ahead and start by creating our initial `DataFrame`."
   ]
  },
  {
   "cell_type": "code",
   "execution_count": 0,
   "metadata": {
    "application/vnd.databricks.v1+cell": {
     "cellMetadata": {
      "byteLimit": 2048000,
      "rowLimit": 10000
     },
     "inputWidgets": {},
     "nuid": "05af237c-0a50-4d3b-bb56-7fb850c53c60",
     "showTitle": false,
     "title": ""
    }
   },
   "outputs": [],
   "source": [
    "# (source, sasEntity, sasToken) = getAzureDataSource()\n",
    "# spark.conf.set(sasEntity, sasToken)\n",
    "\n",
    "# parquetFile = source + \"/wikipedia/pagecounts/staging_parquet_en_only_clean/\""
   ]
  },
  {
   "cell_type": "code",
   "execution_count": 0,
   "metadata": {
    "application/vnd.databricks.v1+cell": {
     "cellMetadata": {
      "byteLimit": 2048000,
      "rowLimit": 10000
     },
     "inputWidgets": {},
     "nuid": "2f9129e8-62b7-4512-ba49-7bee0d5136b4",
     "showTitle": false,
     "title": ""
    }
   },
   "outputs": [
    {
     "output_type": "display_data",
     "data": {
      "text/html": [
       "<style scoped>\n  .ansiout {\n    display: block;\n    unicode-bidi: embed;\n    white-space: pre-wrap;\n    word-wrap: break-word;\n    word-break: break-all;\n    font-family: \"Source Code Pro\", \"Menlo\", monospace;;\n    font-size: 13px;\n    color: #555;\n    margin-left: 4px;\n    line-height: 19px;\n  }\n</style>\n<div class=\"ansiout\">&quot;&quot;,&quot;judge&quot;,&quot;nation&quot;,&quot;rater&quot;,&quot;decision&quot;,&quot;language&quot;,&quot;location&quot;,&quot;success&quot;\n&quot;13&quot;,&quot;Heald&quot;,&quot;Lebanon&quot;,&quot;no&quot;,&quot;no&quot;,&quot;English&quot;,&quot;Toronto&quot;,-1.09861\n&quot;15&quot;,&quot;Heald&quot;,&quot;Sri.Lanka&quot;,&quot;no&quot;,&quot;no&quot;,&quot;English&quot;,&quot;Toronto&quot;,-0.75377\n&quot;19&quot;,&quot;Heald&quot;,&quot;El.Salvador&quot;,&quot;no&quot;,&quot;yes&quot;,&quot;English&quot;,&quot;Toronto&quot;,-1.04597\n&quot;30&quot;,&quot;MacGuigan&quot;,&quot;Czechoslovakia&quot;,&quot;no&quot;,&quot;yes&quot;,&quot;French&quot;,&quot;Montreal&quot;,0.40547\n&quot;36&quot;,&quot;Desjardins&quot;,&quot;Lebanon&quot;,&quot;yes&quot;,&quot;yes&quot;,&quot;French&quot;,&quot;Montreal&quot;,-1.09861\n&quot;42&quot;,&quot;Stone&quot;,&quot;Lebanon&quot;,&quot;yes&quot;,&quot;yes&quot;,&quot;English&quot;,&quot;Toronto&quot;,-1.09861\n&quot;45&quot;,&quot;Pratte&quot;,&quot;Ghana&quot;,&quot;no&quot;,&quot;no&quot;,&quot;English&quot;,&quot;Toronto&quot;,-1.20831\n&quot;46&quot;,&quot;MacGuigan&quot;,&quot;Somalia&quot;,&quot;no&quot;,&quot;no&quot;,&quot;English&quot;,&quot;Toronto&quot;,-0.99462\n&quot;51&quot;,&quot;MacGuigan&quot;,&quot;Somalia&quot;,&quot;yes&quot;,&quot;no&quot;,&quot;French&quot;,&quot;Montreal&quot;,-0.99462\n&quot;52&quot;,&quot;Pratte&quot;,&quot;China&quot;,&quot;no&quot;,&quot;no&quot;,&quot;English&quot;,&quot;other&quot;,-0.99462\n&quot;63&quot;,&quot;Hugessen&quot;,&quot;El.Salvador&quot;,&quot;yes&quot;,&quot;yes&quot;,&quot;English&quot;,&quot;other&quot;,-1.04597\n&quot;75&quot;,&quot;Hugessen&quot;,&quot;Lebanon&quot;,&quot;no&quot;,&quot;no&quot;,&quot;French&quot;,&quot;Montreal&quot;,-1.09861\n&quot;76&quot;,&quot;Pratte&quot;,&quot;Sri.Lanka&quot;,&quot;no&quot;,&quot;no&quot;,&quot;English&quot;,&quot;Toronto&quot;,-0.75377\n&quot;77&quot;,&quot;MacGuigan&quot;,&quot;China&quot;,&quot;no&quot;,&quot;no&quot;,&quot;French&quot;,&quot;Montreal&quot;,-0.99462\n&quot;83&quot;,&quot;Stone&quot;,&quot;Poland&quot;,&quot;yes&quot;,&quot;no&quot;,&quot;English&quot;,&quot;other&quot;,-1.81529\n&quot;89&quot;,&quot;Iacobucci&quot;,&quot;Sri.Lanka&quot;,&quot;no&quot;,&quot;no&quot;,&quot;English&quot;,&quot;Toronto&quot;,-0.75377\n&quot;94&quot;,&quot;Iacobucci&quot;,&quot;Lebanon&quot;,&quot;yes&quot;,&quot;no&quot;,&quot;English&quot;,&quot;Toronto&quot;,-1.09861\n&quot;105&quot;,&quot;Pratte&quot;,&quot;Nicaragua&quot;,&quot;yes&quot;,&quot;no&quot;,&quot;English&quot;,&quot;other&quot;,-1.58563\n&quot;107&quot;,&quot;Iacobucci&quot;,&quot;Nigeria&quot;,&quot;no&quot;,&quot;no&quot;,&quot;English&quot;,&quot;Toronto&quot;,-1.20831\n&quot;111&quot;,&quot;Mahoney&quot;,&quot;Lebanon&quot;,&quot;no&quot;,&quot;no&quot;,&quot;English&quot;,&quot;Toronto&quot;,-1.09861\n&quot;113&quot;,&quot;Hugessen&quot;,&quot;Lebanon&quot;,&quot;no&quot;,&quot;no&quot;,&quot;French&quot;,&quot;Montreal&quot;,-1.09861\n&quot;114&quot;,&quot;Hugessen&quot;,&quot;El.Salvador&quot;,&quot;yes&quot;,&quot;no&quot;,&quot;French&quot;,&quot;Montreal&quot;,-1.04597\n&quot;115&quot;,&quot;Hugessen&quot;,&quot;Nicaragua&quot;,&quot;yes&quot;,&quot;no&quot;,&quot;English&quot;,&quot;Toronto&quot;,-1.58563\n&quot;120&quot;,&quot;Hugessen&quot;,&quot;Sri.Lanka&quot;,&quot;no&quot;,&quot;no&quot;,&quot;French&quot;,&quot;Montreal&quot;,-0.75377\n&quot;121&quot;,&quot;Hugessen&quot;,&quot;Lebanon&quot;,&quot;yes&quot;,&quot;no&quot;,&quot;English&quot;,&quot;Toronto&quot;,-1.09861\n&quot;122&quot;,&quot;Stone&quot;,&quot;El.Salvador&quot;,&quot;no&quot;,&quot;no&quot;,&quot;English&quot;,&quot;Toronto&quot;,-1.04597\n&quot;128&quot;,&quot;Iacobucci&quot;,&quot;Lebanon&quot;,&quot;yes&quot;,&quot;yes&quot;,&quot;English&quot;,&quot;other&quot;,-1.09861\n&quot;130&quot;,&quot;Iacobucci&quot;,&quot;Lebanon&quot;,&quot;no&quot;,&quot;no&quot;,&quot;English&quot;,&quot;other&quot;,-1.09861\n&quot;134&quot;,&quot;MacGuigan&quot;,&quot;Lebanon&quot;,&quot;no&quot;,&quot;no&quot;,&quot;English&quot;,&quot;Toronto&quot;,-1.09861\n&quot;135&quot;,&quot;Hugessen&quot;,&quot;Somalia&quot;,&quot;yes&quot;,&quot;no&quot;,&quot;French&quot;,&quot;Montreal&quot;,-0.99462\n&quot;140&quot;,&quot;Hugessen&quot;,&quot;Somalia&quot;,&quot;no&quot;,&quot;no&quot;,&quot;French&quot;,&quot;Montreal&quot;,-0.99462\n&quot;145&quot;,&quot;MacGuigan&quot;,&quot;Lebanon&quot;,&quot;no&quot;,&quot;no&quot;,&quot;English&quot;,&quot;Toronto&quot;,-1.09861\n&quot;148&quot;,&quot;Heald&quot;,&quot;El.Salvador&quot;,&quot;yes&quot;,&quot;yes&quot;,&quot;English&quot;,&quot;Toronto&quot;,-1.04597\n&quot;149&quot;,&quot;Stone&quot;,&quot;Somalia&quot;,&quot;no&quot;,&quot;yes&quot;,&quot;English&quot;,&quot;other&quot;,-0.99462\n&quot;150&quot;,&quot;MacGuigan&quot;,&quot;Lebanon&quot;,&quot;no&quot;,&quot;no&quot;,&quot;English&quot;,&quot;Toronto&quot;,-1.09861\n&quot;158&quot;,&quot;Urie&quot;,&quot;El.Salvador&quot;,&quot;no&quot;,&quot;yes&quot;,&quot;English&quot;,&quot;Toronto&quot;,-1.04597\n&quot;159&quot;,&quot;Urie&quot;,&quot;Lebanon&quot;,&quot;no&quot;,&quot;yes&quot;,&quot;English&quot;,&quot;other&quot;,-1.09861\n&quot;161&quot;,&quot;Hugessen&quot;,&quot;Poland&quot;,&quot;yes&quot;,&quot;no&quot;,&quot;French&quot;,&quot;Montreal&quot;,-1.81529\n&quot;167&quot;,&quot;Mahoney&quot;,&quot;Iran&quot;,&quot;no&quot;,&quot;yes&quot;,&quot;English&quot;,&quot;other&quot;,-0.66329\n&quot;174&quot;,&quot;Marceau&quot;,&quot;Ghana&quot;,&quot;no&quot;,&quot;no&quot;,&quot;English&quot;,&quot;Toronto&quot;,-1.20831\n&quot;188&quot;,&quot;Hugessen&quot;,&quot;Somalia&quot;,&quot;no&quot;,&quot;no&quot;,&quot;French&quot;,&quot;Montreal&quot;,-0.99462\n&quot;198&quot;,&quot;Pratte&quot;,&quot;Iran&quot;,&quot;no&quot;,&quot;no&quot;,&quot;French&quot;,&quot;Montreal&quot;,-0.66329\n&quot;202&quot;,&quot;Stone&quot;,&quot;El.Salvador&quot;,&quot;no&quot;,&quot;no&quot;,&quot;English&quot;,&quot;Toronto&quot;,-1.04597\n&quot;220&quot;,&quot;Iacobucci&quot;,&quot;Ghana&quot;,&quot;yes&quot;,&quot;no&quot;,&quot;English&quot;,&quot;Toronto&quot;,-1.20831\n&quot;230&quot;,&quot;Stone&quot;,&quot;Guatemala&quot;,&quot;yes&quot;,&quot;no&quot;,&quot;English&quot;,&quot;Toronto&quot;,-1.90096\n&quot;233&quot;,&quot;Iacobucci&quot;,&quot;Guatemala&quot;,&quot;no&quot;,&quot;no&quot;,&quot;English&quot;,&quot;Toronto&quot;,-1.90096\n&quot;252&quot;,&quot;Hugessen&quot;,&quot;Lebanon&quot;,&quot;no&quot;,&quot;no&quot;,&quot;French&quot;,&quot;Montreal&quot;,-1.09861\n&quot;254&quot;,&quot;Hugessen&quot;,&quot;Lebanon&quot;,&quot;no&quot;,&quot;no&quot;,&quot;French&quot;,&quot;Montreal&quot;,-1.09861\n&quot;263&quot;,&quot;Mahoney&quot;,&quot;Sri.Lanka&quot;,&quot;no&quot;,&quot;yes&quot;,&quot;English&quot;,&quot;Toronto&quot;,-0.75377\n&quot;282&quot;,&quot;MacGuigan&quot;,&quot;Sri.Lanka&quot;,&quot;yes&quot;,&quot;yes&quot;,&quot;English&quot;,&quot;Toronto&quot;,-0.75377\n&quot;285&quot;,&quot;MacGuigan&quot;,&quot;Sri.Lanka&quot;,&quot;yes&quot;,&quot;yes&quot;,&quot;English&quot;,&quot;Toronto&quot;,-0.75377\n&quot;310&quot;,&quot;MacGuigan&quot;,&quot;Somalia&quot;,&quot;yes&quot;,&quot;no&quot;,&quot;English&quot;,&quot;other&quot;,-0.99462\n&quot;313&quot;,&quot;Iacobucci&quot;,&quot;Sri.Lanka&quot;,&quot;yes&quot;,&quot;no&quot;,&quot;English&quot;,&quot;Toronto&quot;,-0.75377\n&quot;317&quot;,&quot;Marceau&quot;,&quot;Lebanon&quot;,&quot;no&quot;,&quot;yes&quot;,&quot;English&quot;,&quot;Montreal&quot;,-1.09861\n&quot;323&quot;,&quot;Urie&quot;,&quot;China&quot;,&quot;no&quot;,&quot;no&quot;,&quot;English&quot;,&quot;Toronto&quot;,-0.99462\n&quot;328&quot;,&quot;MacGuigan&quot;,&quot;China&quot;,&quot;no&quot;,&quot;no&quot;,&quot;French&quot;,&quot;Montreal&quot;,-0.99462\n&quot;332&quot;,&quot;Desjardins&quot;,&quot;Iran&quot;,&quot;yes&quot;,&quot;no&quot;,&quot;French&quot;,&quot;Montreal&quot;,-0.66329\n&quot;340&quot;,&quot;Hugessen&quot;,&quot;Bulgaria&quot;,&quot;no&quot;,&quot;no&quot;,&quot;French&quot;,&quot;Montreal&quot;,-2.09074\n&quot;343&quot;,&quot;Hugessen&quot;,&quot;Bulgaria&quot;,&quot;no&quot;,&quot;no&quot;,&quot;French&quot;,&quot;Montreal&quot;,-2.09074\n&quot;345&quot;,&quot;MacGuigan&quot;,&quot;Bulgaria&quot;,&quot;no&quot;,&quot;no&quot;,&quot;French&quot;,&quot;Montreal&quot;,-2.09074\n&quot;347&quot;,&quot;Mahoney&quot;,&quot;Lebanon&quot;,&quot;yes&quot;,&quot;yes&quot;,&quot;English&quot;,&quot;Toronto&quot;,-1.09861\n&quot;348&quot;,&quot;MacGuigan&quot;,&quot;Sri.Lanka&quot;,&quot;yes&quot;,&quot;no&quot;,&quot;English&quot;,&quot;Toronto&quot;,-0.75377\n&quot;362&quot;,&quot;Desjardins&quot;,&quot;Bulgaria&quot;,&quot;yes&quot;,&quot;yes&quot;,&quot;English&quot;,&quot;other&quot;,-2.09074\n&quot;365&quot;,&quot;Marceau&quot;,&quot;China&quot;,&quot;no&quot;,&quot;no&quot;,&quot;English&quot;,&quot;Toronto&quot;,-0.99462\n&quot;366&quot;,&quot;Heald&quot;,&quot;Poland&quot;,&quot;no&quot;,&quot;no&quot;,&quot;English&quot;,&quot;other&quot;,-1.81529\n&quot;371&quot;,&quot;Marceau&quot;,&quot;Czechoslovakia&quot;,&quot;no&quot;,&quot;yes&quot;,&quot;French&quot;,&quot;Montreal&quot;,0.40547\n&quot;380&quot;,&quot;Marceau&quot;,&quot;China&quot;,&quot;no&quot;,&quot;yes&quot;,&quot;French&quot;,&quot;Montreal&quot;,-0.99462\n&quot;392&quot;,&quot;Mahoney&quot;,&quot;Lebanon&quot;,&quot;no&quot;,&quot;no&quot;,&quot;English&quot;,&quot;Toronto&quot;,-1.09861\n&quot;393&quot;,&quot;Hugessen&quot;,&quot;Lebanon&quot;,&quot;yes&quot;,&quot;no&quot;,&quot;French&quot;,&quot;Montreal&quot;,-1.09861\n&quot;395&quot;,&quot;Heald&quot;,&quot;Lebanon&quot;,&quot;no&quot;,&quot;no&quot;,&quot;English&quot;,&quot;other&quot;,-1.09861\n&quot;396&quot;,&quot;Pratte&quot;,&quot;Lebanon&quot;,&quot;no&quot;,&quot;no&quot;,&quot;French&quot;,&quot;Montreal&quot;,-1.09861\n&quot;426&quot;,&quot;Hugessen&quot;,&quot;Bulgaria&quot;,&quot;no&quot;,&quot;no&quot;,&quot;French&quot;,&quot;Montreal&quot;,-2.09074\n&quot;430&quot;,&quot;MacGuigan&quot;,&quot;Lebanon&quot;,&quot;no&quot;,&quot;no&quot;,&quot;French&quot;,&quot;Montreal&quot;,-1.09861\n&quot;431&quot;,&quot;Desjardins&quot;,&quot;China&quot;,&quot;yes&quot;,&quot;no&quot;,&quot;French&quot;,&quot;Montreal&quot;,-0.99462\n&quot;437&quot;,&quot;MacGuigan&quot;,&quot;Lebanon&quot;,&quot;no&quot;,&quot;no&quot;,&quot;French&quot;,&quot;Montreal&quot;,-1.09861\n&quot;439&quot;,&quot;MacGuigan&quot;,&quot;Somalia&quot;,&quot;no&quot;,&quot;no&quot;,&quot;French&quot;,&quot;Montreal&quot;,-0.99462\n&quot;440&quot;,&quot;Iacobucci&quot;,&quot;Somalia&quot;,&quot;yes&quot;,&quot;no&quot;,&quot;English&quot;,&quot;Toronto&quot;,-0.99462\n&quot;448&quot;,&quot;Urie&quot;,&quot;Lebanon&quot;,&quot;no&quot;,&quot;no&quot;,&quot;English&quot;,&quot;Toronto&quot;,-1.09861\n&quot;457&quot;,&quot;Marceau&quot;,&quot;China&quot;,&quot;no&quot;,&quot;yes&quot;,&quot;English&quot;,&quot;other&quot;,-0.99462\n&quot;458&quot;,&quot;Pratte&quot;,&quot;Czechoslovakia&quot;,&quot;no&quot;,&quot;no&quot;,&quot;French&quot;,&quot;Montreal&quot;,0.40547\n&quot;465&quot;,&quot;Mahoney&quot;,&quot;China&quot;,&quot;no&quot;,&quot;yes&quot;,&quot;English&quot;,&quot;Toronto&quot;,-0.99462\n&quot;472&quot;,&quot;Pratte&quot;,&quot;China&quot;,&quot;no&quot;,&quot;no&quot;,&quot;English&quot;,&quot;Toronto&quot;,-0.99462\n&quot;477&quot;,&quot;MacGuigan&quot;,&quot;Sri.Lanka&quot;,&quot;yes&quot;,&quot;yes&quot;,&quot;English&quot;,&quot;other&quot;,-0.75377\n&quot;480&quot;,&quot;Hugessen&quot;,&quot;Poland&quot;,&quot;yes&quot;,&quot;no&quot;,&quot;French&quot;,&quot;Montreal&quot;,-1.81529\n&quot;484&quot;,&quot;Marceau&quot;,&quot;Sri.Lanka&quot;,&quot;no&quot;,&quot;yes&quot;,&quot;English&quot;,&quot;Toronto&quot;,-0.75377\n&quot;488&quot;,&quot;Heald&quot;,&quot;Bulgaria&quot;,&quot;no&quot;,&quot;no&quot;,&quot;English&quot;,&quot;other&quot;,-2.09074\n&quot;490&quot;,&quot;Pratte&quot;,&quot;China&quot;,&quot;no&quot;,&quot;no&quot;,&quot;English&quot;,&quot;Toronto&quot;,-0.99462\n&quot;506&quot;,&quot;Hugessen&quot;,&quot;Argentina&quot;,&quot;no&quot;,&quot;no&quot;,&quot;French&quot;,&quot;Montreal&quot;,-0.80012\n&quot;507&quot;,&quot;Mahoney&quot;,&quot;Nigeria&quot;,&quot;yes&quot;,&quot;yes&quot;,&quot;English&quot;,&quot;Toronto&quot;,-1.20831\n&quot;509&quot;,&quot;MacGuigan&quot;,&quot;Somalia&quot;,&quot;yes&quot;,&quot;yes&quot;,&quot;English&quot;,&quot;Toronto&quot;,-0.99462\n&quot;522&quot;,&quot;Marceau&quot;,&quot;Poland&quot;,&quot;no&quot;,&quot;no&quot;,&quot;French&quot;,&quot;Montreal&quot;,-1.81529\n&quot;523&quot;,&quot;Stone&quot;,&quot;China&quot;,&quot;no&quot;,&quot;no&quot;,&quot;English&quot;,&quot;Toronto&quot;,-0.99462\n&quot;525&quot;,&quot;Mahoney&quot;,&quot;Sri.Lanka&quot;,&quot;yes&quot;,&quot;no&quot;,&quot;English&quot;,&quot;Toronto&quot;,-0.75377\n&quot;528&quot;,&quot;Marceau&quot;,&quot;Lebanon&quot;,&quot;no&quot;,&quot;yes&quot;,&quot;French&quot;,&quot;other&quot;,-1.09861\n&quot;533&quot;,&quot;MacGuigan&quot;,&quot;Nigeria&quot;,&quot;no&quot;,&quot;no&quot;,&quot;English&quot;,&quot;Toronto&quot;,-1.20831\n&quot;536&quot;,&quot;Heald&quot;,&quot;Lebanon&quot;,&quot;yes&quot;,&quot;no&quot;,&quot;English&quot;,&quot;Toronto&quot;,-1.09861\n&quot;540&quot;,&quot;MacGuigan&quot;,&quot;Bulgaria&quot;,&quot;no&quot;,&quot;no&quot;,&quot;English&quot;,&quot;Toronto&quot;,-2.09074\n&quot;542&quot;,&quot;MacGuigan&quot;,&quot;Guatemala&quot;,&quot;no&quot;,&quot;yes&quot;,&quot;English&quot;,&quot;Toronto&quot;,-1.90096\n&quot;546&quot;,&quot;Pratte&quot;,&quot;Bulgaria&quot;,&quot;yes&quot;,&quot;no&quot;,&quot;French&quot;,&quot;Montreal&quot;,-2.09074\n&quot;548&quot;,&quot;Pratte&quot;,&quot;Bulgaria&quot;,&quot;no&quot;,&quot;no&quot;,&quot;English&quot;,&quot;Montreal&quot;,-2.09074\n&quot;550&quot;,&quot;MacGuigan&quot;,&quot;China&quot;,&quot;yes&quot;,&quot;no&quot;,&quot;English&quot;,&quot;Toronto&quot;,-0.99462\n&quot;554&quot;,&quot;Desjardins&quot;,&quot;China&quot;,&quot;no&quot;,&quot;no&quot;,&quot;English&quot;,&quot;Toronto&quot;,-0.99462\n&quot;556&quot;,&quot;Desjardins&quot;,&quot;Sri.Lanka&quot;,&quot;no&quot;,&quot;yes&quot;,&quot;English&quot;,&quot;Toronto&quot;,-0.75377\n&quot;579&quot;,&quot;Desjardins&quot;,&quot;Bulgaria&quot;,&quot;yes&quot;,&quot;yes&quot;,&quot;French&quot;,&quot;Montreal&quot;,-2.09074\n&quot;580&quot;,&quot;Heald&quot;,&quot;Sri.Lanka&quot;,&quot;no&quot;,&quot;no&quot;,&quot;English&quot;,&quot;Toronto&quot;,-0.75377\n&quot;585&quot;,&quot;Pratte&quot;,&quot;Iran&quot;,&quot;no&quot;,&quot;no&quot;,&quot;English&quot;,&quot;Toronto&quot;,-0.66329\n&quot;590&quot;,&quot;Mahoney&quot;,&quot;Sri.Lanka&quot;,&quot;yes&quot;,&quot;yes&quot;,&quot;English&quot;,&quot;Toronto&quot;,-0.75377\n&quot;595&quot;,&quot;Heald&quot;,&quot;China&quot;,&quot;no&quot;,&quot;no&quot;,&quot;English&quot;,&quot;Toronto&quot;,-0.99462\n&quot;603&quot;,&quot;Pratte&quot;,&quot;Lebanon&quot;,&quot;yes&quot;,&quot;no&quot;,&quot;French&quot;,&quot;Montreal&quot;,-1.09861\n&quot;607&quot;,&quot;Stone&quot;,&quot;Sri.Lanka&quot;,&quot;no&quot;,&quot;no&quot;,&quot;English&quot;,&quot;Toronto&quot;,-0.75377\n&quot;617&quot;,&quot;MacGuigan&quot;,&quot;Bulgaria&quot;,&quot;yes&quot;,&quot;no&quot;,&quot;French&quot;,&quot;Montreal&quot;,-2.09074\n&quot;622&quot;,&quot;MacGuigan&quot;,&quot;China&quot;,&quot;no&quot;,&quot;no&quot;,&quot;French&quot;,&quot;Montreal&quot;,-0.99462\n&quot;629&quot;,&quot;MacGuigan&quot;,&quot;Czechoslovakia&quot;,&quot;yes&quot;,&quot;no&quot;,&quot;French&quot;,&quot;Montreal&quot;,0.40547\n&quot;732&quot;,&quot;Mahoney&quot;,&quot;Nicaragua&quot;,&quot;no&quot;,&quot;no&quot;,&quot;English&quot;,&quot;other&quot;,-1.58563\n&quot;771&quot;,&quot;Mahoney&quot;,&quot;Nicaragua&quot;,&quot;yes&quot;,&quot;no&quot;,&quot;English&quot;,&quot;Toronto&quot;,-1.58563\n&quot;779&quot;,&quot;Hugessen&quot;,&quot;Lebanon&quot;,&quot;no&quot;,&quot;no&quot;,&quot;French&quot;,&quot;Toronto&quot;,-1.09861\n&quot;780&quot;,&quot;MacGuigan&quot;,&quot;Lebanon&quot;,&quot;no&quot;,&quot;no&quot;,&quot;French&quot;,&quot;Montreal&quot;,-1.09861\n&quot;781&quot;,&quot;Marceau&quot;,&quot;Ghana&quot;,&quot;no&quot;,&quot;no&quot;,&quot;French&quot;,&quot;Montreal&quot;,-1.20831\n&quot;790&quot;,&quot;Mahoney&quot;,&quot;Nicaragua&quot;,&quot;yes&quot;,&quot;yes&quot;,&quot;English&quot;,&quot;other&quot;,-1.58563\n&quot;805&quot;,&quot;Marceau&quot;,&quot;Sri.Lanka&quot;,&quot;yes&quot;,&quot;yes&quot;,&quot;English&quot;,&quot;Toronto&quot;,-0.75377\n&quot;809&quot;,&quot;Iacobucci&quot;,&quot;Sri.Lanka&quot;,&quot;no&quot;,&quot;no&quot;,&quot;English&quot;,&quot;Toronto&quot;,-0.75377\n&quot;815&quot;,&quot;Hugessen&quot;,&quot;Lebanon&quot;,&quot;yes&quot;,&quot;no&quot;,&quot;French&quot;,&quot;Montreal&quot;,-1.09861\n&quot;819&quot;,&quot;Pratte&quot;,&quot;Czechoslovakia&quot;,&quot;yes&quot;,&quot;yes&quot;,&quot;French&quot;,&quot;Montreal&quot;,0.40547\n&quot;821&quot;,&quot;Hugessen&quot;,&quot;Sri.Lanka&quot;,&quot;yes&quot;,&quot;no&quot;,&quot;French&quot;,&quot;Montreal&quot;,-0.75377\n&quot;823&quot;,&quot;Iacobucci&quot;,&quot;Lebanon&quot;,&quot;no&quot;,&quot;no&quot;,&quot;French&quot;,&quot;other&quot;,-1.09861\n&quot;824&quot;,&quot;Hugessen&quot;,&quot;Lebanon&quot;,&quot;no&quot;,&quot;no&quot;,&quot;French&quot;,&quot;Montreal&quot;,-1.09861\n&quot;828&quot;,&quot;Desjardins&quot;,&quot;Lebanon&quot;,&quot;no&quot;,&quot;yes&quot;,&quot;English&quot;,&quot;Toronto&quot;,-1.09861\n&quot;831&quot;,&quot;Desjardins&quot;,&quot;Lebanon&quot;,&quot;no&quot;,&quot;no&quot;,&quot;French&quot;,&quot;Montreal&quot;,-1.09861\n&quot;833&quot;,&quot;Iacobucci&quot;,&quot;Lebanon&quot;,&quot;no&quot;,&quot;no&quot;,&quot;English&quot;,&quot;Toronto&quot;,-1.09861\n&quot;834&quot;,&quot;Iacobucci&quot;,&quot;Sri.Lanka&quot;,&quot;no&quot;,&quot;no&quot;,&quot;English&quot;,&quot;Toronto&quot;,-0.75377\n&quot;835&quot;,&quot;Desjardins&quot;,&quot;El.Salvador&quot;,&quot;yes&quot;,&quot;yes&quot;,&quot;English&quot;,&quot;Toronto&quot;,-1.04597\n&quot;841&quot;,&quot;Iacobucci&quot;,&quot;Lebanon&quot;,&quot;no&quot;,&quot;no&quot;,&quot;English&quot;,&quot;other&quot;,-1.09861\n&quot;844&quot;,&quot;Iacobucci&quot;,&quot;Iran&quot;,&quot;no&quot;,&quot;no&quot;,&quot;English&quot;,&quot;other&quot;,-0.66329\n&quot;851&quot;,&quot;Hugessen&quot;,&quot;Czechoslovakia&quot;,&quot;yes&quot;,&quot;yes&quot;,&quot;French&quot;,&quot;Montreal&quot;,0.40547\n&quot;861&quot;,&quot;Desjardins&quot;,&quot;Czechoslovakia&quot;,&quot;no&quot;,&quot;yes&quot;,&quot;English&quot;,&quot;Montreal&quot;,0.40547\n&quot;866&quot;,&quot;Hugessen&quot;,&quot;Czechoslovakia&quot;,&quot;no&quot;,&quot;yes&quot;,&quot;French&quot;,&quot;Montreal&quot;,0.40547\n&quot;871&quot;,&quot;Hugessen&quot;,&quot;Czechoslovakia&quot;,&quot;yes&quot;,&quot;yes&quot;,&quot;English&quot;,&quot;Montreal&quot;,0.40547\n&quot;873&quot;,&quot;Hugessen&quot;,&quot;Czechoslovakia&quot;,&quot;no&quot;,&quot;yes&quot;,&quot;French&quot;,&quot;Montreal&quot;,0.40547\n&quot;874&quot;,&quot;Hugessen&quot;,&quot;Czechoslovakia&quot;,&quot;no&quot;,&quot;yes&quot;,&quot;French&quot;,&quot;Montreal&quot;,0.40547\n&quot;885&quot;,&quot;Iacobucci&quot;,&quot;Sri.Lanka&quot;,&quot;yes&quot;,&quot;yes&quot;,&quot;English&quot;,&quot;other&quot;,-0.75377\n&quot;890&quot;,&quot;Hugessen&quot;,&quot;Czechoslovakia&quot;,&quot;yes&quot;,&quot;yes&quot;,&quot;French&quot;,&quot;Montreal&quot;,0.40547\n&quot;893&quot;,&quot;Marceau&quot;,&quot;Lebanon&quot;,&quot;yes&quot;,&quot;yes&quot;,&quot;French&quot;,&quot;Montreal&quot;,-1.09861\n&quot;899&quot;,&quot;Iacobucci&quot;,&quot;Sri.Lanka&quot;,&quot;no&quot;,&quot;no&quot;,&quot;English&quot;,&quot;Toronto&quot;,-0.75377\n&quot;928&quot;,&quot;Urie&quot;,&quot;Sri.Lanka&quot;,&quot;no&quot;,&quot;yes&quot;,&quot;English&quot;,&quot;Toronto&quot;,-0.75377\n&quot;931&quot;,&quot;Iacobucci&quot;,&quot;China&quot;,&quot;no&quot;,&quot;no&quot;,&quot;English&quot;,&quot;other&quot;,-0.99462\n&quot;934&quot;,&quot;Urie&quot;,&quot;Sri.Lanka&quot;,&quot;yes&quot;,&quot;yes&quot;,&quot;English&quot;,&quot;Toronto&quot;,-0.75377\n&quot;936&quot;,&quot;Iacobucci&quot;,&quot;Somalia&quot;,&quot;no&quot;,&quot;no&quot;,&quot;French&quot;,&quot;Montreal&quot;,-0.99462\n&quot;945&quot;,&quot;Desjardins&quot;,&quot;Lebanon&quot;,&quot;yes&quot;,&quot;yes&quot;,&quot;English&quot;,&quot;Toronto&quot;,-1.09861\n&quot;947&quot;,&quot;Desjardins&quot;,&quot;El.Salvador&quot;,&quot;yes&quot;,&quot;yes&quot;,&quot;English&quot;,&quot;Toronto&quot;,-1.04597\n&quot;951&quot;,&quot;Iacobucci&quot;,&quot;Iran&quot;,&quot;yes&quot;,&quot;yes&quot;,&quot;English&quot;,&quot;Toronto&quot;,-0.66329\n&quot;958&quot;,&quot;Mahoney&quot;,&quot;Lebanon&quot;,&quot;no&quot;,&quot;no&quot;,&quot;English&quot;,&quot;other&quot;,-1.09861\n&quot;968&quot;,&quot;MacGuigan&quot;,&quot;Sri.Lanka&quot;,&quot;no&quot;,&quot;no&quot;,&quot;English&quot;,&quot;Toronto&quot;,-0.75377\n&quot;981&quot;,&quot;Stone&quot;,&quot;India&quot;,&quot;no&quot;,&quot;yes&quot;,&quot;English&quot;,&quot;Toronto&quot;,-0.53222\n&quot;988&quot;,&quot;Desjardins&quot;,&quot;El.Salvador&quot;,&quot;yes&quot;,&quot;yes&quot;,&quot;English&quot;,&quot;Toronto&quot;,-1.04597\n&quot;1000&quot;,&quot;MacGuigan&quot;,&quot;Lebanon&quot;,&quot;yes&quot;,&quot;no&quot;,&quot;English&quot;,&quot;other&quot;,-1.09861\n&quot;1004&quot;,&quot;Hugessen&quot;,&quot;Poland&quot;,&quot;no&quot;,&quot;no&quot;,&quot;French&quot;,&quot;Montreal&quot;,-1.81529\n&quot;1016&quot;,&quot;Desjardins&quot;,&quot;Czechoslovakia&quot;,&quot;yes&quot;,&quot;yes&quot;,&quot;French&quot;,&quot;Montreal&quot;,0.40547\n&quot;1017&quot;,&quot;Desjardins&quot;,&quot;Czechoslovakia&quot;,&quot;yes&quot;,&quot;yes&quot;,&quot;English&quot;,&quot;Montreal&quot;,0.40547\n&quot;1020&quot;,&quot;Hugessen&quot;,&quot;Lebanon&quot;,&quot;no&quot;,&quot;no&quot;,&quot;French&quot;,&quot;Montreal&quot;,-1.09861\n&quot;1021&quot;,&quot;Hugessen&quot;,&quot;China&quot;,&quot;no&quot;,&quot;no&quot;,&quot;English&quot;,&quot;Toronto&quot;,-0.99462\n&quot;1022&quot;,&quot;Hugessen&quot;,&quot;Lebanon&quot;,&quot;no&quot;,&quot;no&quot;,&quot;French&quot;,&quot;Montreal&quot;,-1.09861\n&quot;1023&quot;,&quot;Hugessen&quot;,&quot;Sri.Lanka&quot;,&quot;no&quot;,&quot;no&quot;,&quot;English&quot;,&quot;Toronto&quot;,-0.75377\n&quot;1031&quot;,&quot;Urie&quot;,&quot;Bulgaria&quot;,&quot;no&quot;,&quot;no&quot;,&quot;English&quot;,&quot;other&quot;,-2.09074\n&quot;1032&quot;,&quot;Urie&quot;,&quot;Poland&quot;,&quot;no&quot;,&quot;no&quot;,&quot;English&quot;,&quot;other&quot;,-1.81529\n&quot;1034&quot;,&quot;Stone&quot;,&quot;El.Salvador&quot;,&quot;no&quot;,&quot;no&quot;,&quot;English&quot;,&quot;other&quot;,-1.04597\n&quot;1043&quot;,&quot;Stone&quot;,&quot;China&quot;,&quot;yes&quot;,&quot;yes&quot;,&quot;English&quot;,&quot;other&quot;,-0.99462\n&quot;1047&quot;,&quot;Hugessen&quot;,&quot;Ghana&quot;,&quot;yes&quot;,&quot;no&quot;,&quot;English&quot;,&quot;Toronto&quot;,-1.20831\n&quot;1049&quot;,&quot;Heald&quot;,&quot;Sri.Lanka&quot;,&quot;no&quot;,&quot;no&quot;,&quot;English&quot;,&quot;Toronto&quot;,-0.75377\n&quot;1067&quot;,&quot;Heald&quot;,&quot;India&quot;,&quot;yes&quot;,&quot;yes&quot;,&quot;English&quot;,&quot;Toronto&quot;,-0.53222\n&quot;1074&quot;,&quot;Hugessen&quot;,&quot;Lebanon&quot;,&quot;yes&quot;,&quot;yes&quot;,&quot;French&quot;,&quot;Montreal&quot;,-1.09861\n&quot;1088&quot;,&quot;Stone&quot;,&quot;Sri.Lanka&quot;,&quot;no&quot;,&quot;no&quot;,&quot;English&quot;,&quot;Toronto&quot;,-0.75377\n&quot;1095&quot;,&quot;Hugessen&quot;,&quot;El.Salvador&quot;,&quot;yes&quot;,&quot;no&quot;,&quot;French&quot;,&quot;Montreal&quot;,-1.04597\n&quot;1104&quot;,&quot;Hugessen&quot;,&quot;Somalia&quot;,&quot;no&quot;,&quot;no&quot;,&quot;French&quot;,&quot;Montreal&quot;,-0.99462\n&quot;1110&quot;,&quot;Heald&quot;,&quot;El.Salvador&quot;,&quot;yes&quot;,&quot;no&quot;,&quot;English&quot;,&quot;other&quot;,-1.04597\n&quot;1138&quot;,&quot;Stone&quot;,&quot;Iran&quot;,&quot;no&quot;,&quot;no&quot;,&quot;English&quot;,&quot;Toronto&quot;,-0.66329\n&quot;1139&quot;,&quot;Mahoney&quot;,&quot;Lebanon&quot;,&quot;no&quot;,&quot;no&quot;,&quot;English&quot;,&quot;Toronto&quot;,-1.09861\n&quot;1145&quot;,&quot;Pratte&quot;,&quot;Czechoslovakia&quot;,&quot;yes&quot;,&quot;yes&quot;,&quot;French&quot;,&quot;Montreal&quot;,0.40547\n&quot;1162&quot;,&quot;Hugessen&quot;,&quot;Ghana&quot;,&quot;no&quot;,&quot;no&quot;,&quot;French&quot;,&quot;Montreal&quot;,-1.20831\n&quot;1165&quot;,&quot;Hugessen&quot;,&quot;Somalia&quot;,&quot;no&quot;,&quot;no&quot;,&quot;French&quot;,&quot;Montreal&quot;,-0.99462\n&quot;1167&quot;,&quot;Hugessen&quot;,&quot;Czechoslovakia&quot;,&quot;yes&quot;,&quot;yes&quot;,&quot;French&quot;,&quot;Montreal&quot;,0.40547\n&quot;1172&quot;,&quot;Iacobucci&quot;,&quot;Lebanon&quot;,&quot;yes&quot;,&quot;no&quot;,&quot;English&quot;,&quot;Toronto&quot;,-1.09861\n&quot;1174&quot;,&quot;Stone&quot;,&quot;China&quot;,&quot;no&quot;,&quot;no&quot;,&quot;English&quot;,&quot;other&quot;,-0.99462\n&quot;1180&quot;,&quot;Mahoney&quot;,&quot;Lebanon&quot;,&quot;no&quot;,&quot;no&quot;,&quot;English&quot;,&quot;Toronto&quot;,-1.09861\n&quot;1185&quot;,&quot;Mahoney&quot;,&quot;El.Salvador&quot;,&quot;yes&quot;,&quot;yes&quot;,&quot;English&quot;,&quot;Toronto&quot;,-1.04597\n&quot;1194&quot;,&quot;Mahoney&quot;,&quot;Somalia&quot;,&quot;no&quot;,&quot;no&quot;,&quot;English&quot;,&quot;Toronto&quot;,-0.99462\n&quot;1202&quot;,&quot;Hugessen&quot;,&quot;Czechoslovakia&quot;,&quot;yes&quot;,&quot;yes&quot;,&quot;French&quot;,&quot;Montreal&quot;,0.40547\n&quot;1205&quot;,&quot;MacGuigan&quot;,&quot;El.Salvador&quot;,&quot;no&quot;,&quot;no&quot;,&quot;English&quot;,&quot;Toronto&quot;,-1.04597\n&quot;1214&quot;,&quot;Hugessen&quot;,&quot;Sri.Lanka&quot;,&quot;no&quot;,&quot;no&quot;,&quot;French&quot;,&quot;Montreal&quot;,-0.75377\n&quot;1218&quot;,&quot;Mahoney&quot;,&quot;Sri.Lanka&quot;,&quot;no&quot;,&quot;no&quot;,&quot;English&quot;,&quot;Toronto&quot;,-0.75377\n&quot;1229&quot;,&quot;Pratte&quot;,&quot;Somalia&quot;,&quot;yes&quot;,&quot;no&quot;,&quot;French&quot;,&quot;Toronto&quot;,-0.99462\n&quot;1231&quot;,&quot;Mahoney&quot;,&quot;Lebanon&quot;,&quot;no&quot;,&quot;no&quot;,&quot;English&quot;,&quot;Toronto&quot;,-1.09861\n&quot;1244&quot;,&quot;Pratte&quot;,&quot;Czechoslovakia&quot;,&quot;no&quot;,&quot;no&quot;,&quot;French&quot;,&quot;Montreal&quot;,0.40547\n&quot;1250&quot;,&quot;Heald&quot;,&quot;China&quot;,&quot;no&quot;,&quot;no&quot;,&quot;English&quot;,&quot;Toronto&quot;,-0.99462\n&quot;1262&quot;,&quot;MacGuigan&quot;,&quot;Guatemala&quot;,&quot;no&quot;,&quot;no&quot;,&quot;English&quot;,&quot;Toronto&quot;,-1.90096\n&quot;1269&quot;,&quot;MacGuigan&quot;,&quot;El.Salvador&quot;,&quot;no&quot;,&quot;yes&quot;,&quot;English&quot;,&quot;Toronto&quot;,-1.04597\n&quot;1271&quot;,&quot;MacGuigan&quot;,&quot;Lebanon&quot;,&quot;no&quot;,&quot;no&quot;,&quot;English&quot;,&quot;Toronto&quot;,-1.09861\n&quot;1273&quot;,&quot;Desjardins&quot;,&quot;Iran&quot;,&quot;no&quot;,&quot;no&quot;,&quot;English&quot;,&quot;Toronto&quot;,-0.66329\n&quot;1282&quot;,&quot;Stone&quot;,&quot;Sri.Lanka&quot;,&quot;yes&quot;,&quot;yes&quot;,&quot;English&quot;,&quot;Toronto&quot;,-0.75377\n&quot;1283&quot;,&quot;Desjardins&quot;,&quot;Nigeria&quot;,&quot;yes&quot;,&quot;no&quot;,&quot;English&quot;,&quot;Toronto&quot;,-1.20831\n&quot;1284&quot;,&quot;Mahoney&quot;,&quot;Sri.Lanka&quot;,&quot;yes&quot;,&quot;yes&quot;,&quot;English&quot;,&quot;Toronto&quot;,-0.75377\n&quot;1286&quot;,&quot;Pratte&quot;,&quot;Lebanon&quot;,&quot;no&quot;,&quot;no&quot;,&quot;French&quot;,&quot;Montreal&quot;,-1.09861\n&quot;1287&quot;,&quot;Iacobucci&quot;,&quot;Lebanon&quot;,&quot;no&quot;,&quot;no&quot;,&quot;English&quot;,&quot;Toronto&quot;,-1.09861\n&quot;1292&quot;,&quot;Iacobucci&quot;,&quot;China&quot;,&quot;no&quot;,&quot;no&quot;,&quot;English&quot;,&quot;other&quot;,-0.99462\n&quot;1297&quot;,&quot;Heald&quot;,&quot;China&quot;,&quot;no&quot;,&quot;no&quot;,&quot;English&quot;,&quot;other&quot;,-0.99462\n&quot;1307&quot;,&quot;Desjardins&quot;,&quot;Lebanon&quot;,&quot;no&quot;,&quot;yes&quot;,&quot;French&quot;,&quot;Montreal&quot;,-1.09861\n&quot;1309&quot;,&quot;Desjardins&quot;,&quot;El.Salvador&quot;,&quot;yes&quot;,&quot;no&quot;,&quot;English&quot;,&quot;Montreal&quot;,-1.04597\n&quot;1311&quot;,&quot;MacGuigan&quot;,&quot;Somalia&quot;,&quot;no&quot;,&quot;yes&quot;,&quot;English&quot;,&quot;Toronto&quot;,-0.99462\n&quot;1314&quot;,&quot;Heald&quot;,&quot;Pakistan&quot;,&quot;no&quot;,&quot;yes&quot;,&quot;English&quot;,&quot;Toronto&quot;,-0.48955\n&quot;1323&quot;,&quot;MacGuigan&quot;,&quot;Czechoslovakia&quot;,&quot;no&quot;,&quot;no&quot;,&quot;French&quot;,&quot;Montreal&quot;,0.40547\n&quot;1332&quot;,&quot;MacGuigan&quot;,&quot;China&quot;,&quot;no&quot;,&quot;yes&quot;,&quot;English&quot;,&quot;other&quot;,-0.99462\n&quot;1340&quot;,&quot;Marceau&quot;,&quot;Somalia&quot;,&quot;no&quot;,&quot;yes&quot;,&quot;English&quot;,&quot;Toronto&quot;,-0.99462\n&quot;1342&quot;,&quot;MacGuigan&quot;,&quot;China&quot;,&quot;no&quot;,&quot;yes&quot;,&quot;English&quot;,&quot;Toronto&quot;,-0.99462\n&quot;1348&quot;,&quot;Desjardins&quot;,&quot;Lebanon&quot;,&quot;no&quot;,&quot;no&quot;,&quot;French&quot;,&quot;Montreal&quot;,-1.09861\n&quot;1355&quot;,&quot;MacGuigan&quot;,&quot;Sri.Lanka&quot;,&quot;yes&quot;,&quot;no&quot;,&quot;English&quot;,&quot;Montreal&quot;,-0.75377\n&quot;1357&quot;,&quot;Desjardins&quot;,&quot;Sri.Lanka&quot;,&quot;no&quot;,&quot;no&quot;,&quot;French&quot;,&quot;Montreal&quot;,-0.75377\n&quot;1363&quot;,&quot;Stone&quot;,&quot;Sri.Lanka&quot;,&quot;yes&quot;,&quot;no&quot;,&quot;English&quot;,&quot;Toronto&quot;,-0.75377\n&quot;1374&quot;,&quot;Desjardins&quot;,&quot;Nicaragua&quot;,&quot;no&quot;,&quot;yes&quot;,&quot;English&quot;,&quot;other&quot;,-1.58563\n&quot;1377&quot;,&quot;Desjardins&quot;,&quot;Sri.Lanka&quot;,&quot;no&quot;,&quot;no&quot;,&quot;English&quot;,&quot;Toronto&quot;,-0.75377\n&quot;1380&quot;,&quot;Stone&quot;,&quot;Somalia&quot;,&quot;no&quot;,&quot;no&quot;,&quot;English&quot;,&quot;Toronto&quot;,-0.99462\n&quot;1383&quot;,&quot;Marceau&quot;,&quot;Argentina&quot;,&quot;yes&quot;,&quot;yes&quot;,&quot;French&quot;,&quot;Montreal&quot;,-0.80012\n&quot;1384&quot;,&quot;Desjardins&quot;,&quot;Argentina&quot;,&quot;yes&quot;,&quot;yes&quot;,&quot;French&quot;,&quot;Montreal&quot;,-0.80012\n&quot;1387&quot;,&quot;Desjardins&quot;,&quot;Somalia&quot;,&quot;yes&quot;,&quot;yes&quot;,&quot;English&quot;,&quot;Toronto&quot;,-0.99462\n&quot;1388&quot;,&quot;Stone&quot;,&quot;Lebanon&quot;,&quot;no&quot;,&quot;yes&quot;,&quot;English&quot;,&quot;Toronto&quot;,-1.09861\n&quot;1405&quot;,&quot;Hugessen&quot;,&quot;Iran&quot;,&quot;yes&quot;,&quot;no&quot;,&quot;French&quot;,&quot;Montreal&quot;,-0.66329\n&quot;1413&quot;,&quot;Hugessen&quot;,&quot;Lebanon&quot;,&quot;no&quot;,&quot;no&quot;,&quot;French&quot;,&quot;Montreal&quot;,-1.09861\n&quot;1422&quot;,&quot;Hugessen&quot;,&quot;Czechoslovakia&quot;,&quot;no&quot;,&quot;no&quot;,&quot;French&quot;,&quot;Montreal&quot;,0.40547\n&quot;1430&quot;,&quot;Heald&quot;,&quot;Guatemala&quot;,&quot;no&quot;,&quot;no&quot;,&quot;English&quot;,&quot;Toronto&quot;,-1.90096\n&quot;1431&quot;,&quot;Desjardins&quot;,&quot;China&quot;,&quot;yes&quot;,&quot;no&quot;,&quot;English&quot;,&quot;Toronto&quot;,-0.99462\n&quot;1444&quot;,&quot;Urie&quot;,&quot;China&quot;,&quot;no&quot;,&quot;no&quot;,&quot;English&quot;,&quot;Montreal&quot;,-0.99462\n&quot;1446&quot;,&quot;Stone&quot;,&quot;Iran&quot;,&quot;no&quot;,&quot;no&quot;,&quot;English&quot;,&quot;other&quot;,-0.66329\n&quot;1452&quot;,&quot;Heald&quot;,&quot;Sri.Lanka&quot;,&quot;yes&quot;,&quot;yes&quot;,&quot;English&quot;,&quot;Toronto&quot;,-0.75377\n&quot;1459&quot;,&quot;Hugessen&quot;,&quot;Lebanon&quot;,&quot;no&quot;,&quot;no&quot;,&quot;French&quot;,&quot;Montreal&quot;,-1.09861\n&quot;1462&quot;,&quot;Desjardins&quot;,&quot;El.Salvador&quot;,&quot;no&quot;,&quot;no&quot;,&quot;English&quot;,&quot;other&quot;,-1.04597\n&quot;1466&quot;,&quot;Marceau&quot;,&quot;Czechoslovakia&quot;,&quot;no&quot;,&quot;yes&quot;,&quot;French&quot;,&quot;Montreal&quot;,0.40547\n&quot;1468&quot;,&quot;Hugessen&quot;,&quot;China&quot;,&quot;no&quot;,&quot;no&quot;,&quot;French&quot;,&quot;Montreal&quot;,-0.99462\n&quot;1473&quot;,&quot;Urie&quot;,&quot;China&quot;,&quot;yes&quot;,&quot;yes&quot;,&quot;English&quot;,&quot;other&quot;,-0.99462\n&quot;1481&quot;,&quot;Marceau&quot;,&quot;Somalia&quot;,&quot;no&quot;,&quot;yes&quot;,&quot;French&quot;,&quot;Montreal&quot;,-0.99462\n&quot;1486&quot;,&quot;Marceau&quot;,&quot;Lebanon&quot;,&quot;yes&quot;,&quot;no&quot;,&quot;French&quot;,&quot;Montreal&quot;,-1.09861\n&quot;1487&quot;,&quot;Stone&quot;,&quot;Sri.Lanka&quot;,&quot;yes&quot;,&quot;yes&quot;,&quot;English&quot;,&quot;Toronto&quot;,-0.75377\n&quot;1494&quot;,&quot;Hugessen&quot;,&quot;Poland&quot;,&quot;no&quot;,&quot;no&quot;,&quot;French&quot;,&quot;Montreal&quot;,-1.81529\n&quot;1505&quot;,&quot;MacGuigan&quot;,&quot;India&quot;,&quot;yes&quot;,&quot;yes&quot;,&quot;English&quot;,&quot;Toronto&quot;,-0.53222\n&quot;1509&quot;,&quot;Pratte&quot;,&quot;Lebanon&quot;,&quot;yes&quot;,&quot;no&quot;,&quot;French&quot;,&quot;Montreal&quot;,-1.09861\n&quot;1512&quot;,&quot;Desjardins&quot;,&quot;Sri.Lanka&quot;,&quot;no&quot;,&quot;yes&quot;,&quot;English&quot;,&quot;other&quot;,-0.75377\n&quot;1520&quot;,&quot;Desjardins&quot;,&quot;Lebanon&quot;,&quot;no&quot;,&quot;yes&quot;,&quot;English&quot;,&quot;Toronto&quot;,-1.09861\n&quot;1522&quot;,&quot;Desjardins&quot;,&quot;Lebanon&quot;,&quot;no&quot;,&quot;yes&quot;,&quot;English&quot;,&quot;Toronto&quot;,-1.09861\n&quot;1531&quot;,&quot;Desjardins&quot;,&quot;Sri.Lanka&quot;,&quot;yes&quot;,&quot;yes&quot;,&quot;English&quot;,&quot;Toronto&quot;,-0.75377\n&quot;1533&quot;,&quot;Pratte&quot;,&quot;China&quot;,&quot;no&quot;,&quot;yes&quot;,&quot;English&quot;,&quot;Toronto&quot;,-0.99462\n&quot;1535&quot;,&quot;Stone&quot;,&quot;Sri.Lanka&quot;,&quot;no&quot;,&quot;no&quot;,&quot;English&quot;,&quot;Toronto&quot;,-0.75377\n&quot;1542&quot;,&quot;Pratte&quot;,&quot;Lebanon&quot;,&quot;yes&quot;,&quot;no&quot;,&quot;French&quot;,&quot;Montreal&quot;,-1.09861\n&quot;1546&quot;,&quot;MacGuigan&quot;,&quot;Czechoslovakia&quot;,&quot;no&quot;,&quot;no&quot;,&quot;French&quot;,&quot;Montreal&quot;,0.40547\n&quot;1548&quot;,&quot;Desjardins&quot;,&quot;Iran&quot;,&quot;no&quot;,&quot;no&quot;,&quot;French&quot;,&quot;Montreal&quot;,-0.66329\n&quot;1552&quot;,&quot;Pratte&quot;,&quot;Somalia&quot;,&quot;yes&quot;,&quot;no&quot;,&quot;French&quot;,&quot;Montreal&quot;,-0.99462\n&quot;1569&quot;,&quot;Iacobucci&quot;,&quot;Somalia&quot;,&quot;no&quot;,&quot;no&quot;,&quot;English&quot;,&quot;Toronto&quot;,-0.99462\n&quot;1570&quot;,&quot;Pratte&quot;,&quot;Iran&quot;,&quot;yes&quot;,&quot;no&quot;,&quot;English&quot;,&quot;Montreal&quot;,-0.66329\n&quot;1576&quot;,&quot;Heald&quot;,&quot;Lebanon&quot;,&quot;no&quot;,&quot;no&quot;,&quot;English&quot;,&quot;Toronto&quot;,-1.09861\n&quot;1578&quot;,&quot;Heald&quot;,&quot;Sri.Lanka&quot;,&quot;yes&quot;,&quot;yes&quot;,&quot;English&quot;,&quot;Toronto&quot;,-0.75377\n&quot;1580&quot;,&quot;Iacobucci&quot;,&quot;Lebanon&quot;,&quot;no&quot;,&quot;no&quot;,&quot;English&quot;,&quot;Toronto&quot;,-1.09861\n&quot;1589&quot;,&quot;Mahoney&quot;,&quot;Sri.Lanka&quot;,&quot;no&quot;,&quot;no&quot;,&quot;English&quot;,&quot;Toronto&quot;,-0.75377\n&quot;1599&quot;,&quot;Heald&quot;,&quot;Sri.Lanka&quot;,&quot;yes&quot;,&quot;yes&quot;,&quot;English&quot;,&quot;Toronto&quot;,-0.75377\n&quot;1601&quot;,&quot;MacGuigan&quot;,&quot;El.Salvador&quot;,&quot;yes&quot;,&quot;no&quot;,&quot;French&quot;,&quot;Montreal&quot;,-1.04597\n&quot;1608&quot;,&quot;Desjardins&quot;,&quot;Sri.Lanka&quot;,&quot;yes&quot;,&quot;no&quot;,&quot;English&quot;,&quot;Toronto&quot;,-0.75377\n&quot;1613&quot;,&quot;MacGuigan&quot;,&quot;Somalia&quot;,&quot;no&quot;,&quot;no&quot;,&quot;French&quot;,&quot;Montreal&quot;,-0.99462\n&quot;1630&quot;,&quot;Iacobucci&quot;,&quot;China&quot;,&quot;no&quot;,&quot;no&quot;,&quot;English&quot;,&quot;Toronto&quot;,-0.99462\n&quot;1633&quot;,&quot;Marceau&quot;,&quot;Pakistan&quot;,&quot;yes&quot;,&quot;yes&quot;,&quot;French&quot;,&quot;Montreal&quot;,-0.48955\n&quot;1637&quot;,&quot;Urie&quot;,&quot;China&quot;,&quot;no&quot;,&quot;no&quot;,&quot;English&quot;,&quot;Toronto&quot;,-0.99462\n&quot;1639&quot;,&quot;Desjardins&quot;,&quot;Sri.Lanka&quot;,&quot;no&quot;,&quot;yes&quot;,&quot;English&quot;,&quot;Toronto&quot;,-0.75377\n&quot;1643&quot;,&quot;Heald&quot;,&quot;Argentina&quot;,&quot;yes&quot;,&quot;no&quot;,&quot;English&quot;,&quot;Toronto&quot;,-0.80012\n&quot;1654&quot;,&quot;Marceau&quot;,&quot;China&quot;,&quot;no&quot;,&quot;yes&quot;,&quot;French&quot;,&quot;Montreal&quot;,-0.99462\n&quot;1668&quot;,&quot;Heald&quot;,&quot;Lebanon&quot;,&quot;no&quot;,&quot;no&quot;,&quot;English&quot;,&quot;Toronto&quot;,-1.09861\n&quot;1682&quot;,&quot;Desjardins&quot;,&quot;Sri.Lanka&quot;,&quot;no&quot;,&quot;yes&quot;,&quot;English&quot;,&quot;Toronto&quot;,-0.75377\n&quot;1714&quot;,&quot;Iacobucci&quot;,&quot;China&quot;,&quot;no&quot;,&quot;no&quot;,&quot;English&quot;,&quot;Toronto&quot;,-0.99462\n&quot;1715&quot;,&quot;MacGuigan&quot;,&quot;China&quot;,&quot;yes&quot;,&quot;yes&quot;,&quot;French&quot;,&quot;Montreal&quot;,-0.99462\n&quot;1723&quot;,&quot;MacGuigan&quot;,&quot;China&quot;,&quot;no&quot;,&quot;no&quot;,&quot;French&quot;,&quot;Montreal&quot;,-0.99462\n&quot;1731&quot;,&quot;MacGuigan&quot;,&quot;Bulgaria&quot;,&quot;no&quot;,&quot;no&quot;,&quot;French&quot;,&quot;Montreal&quot;,-2.09074\n&quot;1742&quot;,&quot;Marceau&quot;,&quot;Bulgaria&quot;,&quot;no&quot;,&quot;no&quot;,&quot;French&quot;,&quot;Montreal&quot;,-2.09074\n&quot;1743&quot;,&quot;Pratte&quot;,&quot;Poland&quot;,&quot;no&quot;,&quot;no&quot;,&quot;English&quot;,&quot;Toronto&quot;,-1.81529\n&quot;1763&quot;,&quot;MacGuigan&quot;,&quot;Bulgaria&quot;,&quot;no&quot;,&quot;no&quot;,&quot;French&quot;,&quot;Montreal&quot;,-2.09074\n&quot;1764&quot;,&quot;Pratte&quot;,&quot;Bulgaria&quot;,&quot;no&quot;,&quot;no&quot;,&quot;French&quot;,&quot;Montreal&quot;,-2.09074\n&quot;1765&quot;,&quot;MacGuigan&quot;,&quot;Bulgaria&quot;,&quot;no&quot;,&quot;no&quot;,&quot;French&quot;,&quot;Montreal&quot;,-2.09074\n&quot;1766&quot;,&quot;Iacobucci&quot;,&quot;Sri.Lanka&quot;,&quot;no&quot;,&quot;no&quot;,&quot;English&quot;,&quot;Toronto&quot;,-0.75377\n&quot;1770&quot;,&quot;Marceau&quot;,&quot;Nigeria&quot;,&quot;no&quot;,&quot;no&quot;,&quot;English&quot;,&quot;Montreal&quot;,-1.20831\n&quot;1771&quot;,&quot;MacGuigan&quot;,&quot;Bulgaria&quot;,&quot;no&quot;,&quot;no&quot;,&quot;French&quot;,&quot;Montreal&quot;,-2.09074\n&quot;1785&quot;,&quot;Pratte&quot;,&quot;China&quot;,&quot;yes&quot;,&quot;yes&quot;,&quot;English&quot;,&quot;Montreal&quot;,-0.99462\n&quot;1790&quot;,&quot;MacGuigan&quot;,&quot;Ghana&quot;,&quot;yes&quot;,&quot;no&quot;,&quot;English&quot;,&quot;Toronto&quot;,-1.20831\n&quot;1793&quot;,&quot;Heald&quot;,&quot;Sri.Lanka&quot;,&quot;no&quot;,&quot;yes&quot;,&quot;English&quot;,&quot;Toronto&quot;,-0.75377\n&quot;1818&quot;,&quot;Heald&quot;,&quot;Pakistan&quot;,&quot;yes&quot;,&quot;no&quot;,&quot;English&quot;,&quot;Toronto&quot;,-0.48955\n&quot;1820&quot;,&quot;Iacobucci&quot;,&quot;El.Salvador&quot;,&quot;no&quot;,&quot;no&quot;,&quot;English&quot;,&quot;Toronto&quot;,-1.04597\n&quot;1829&quot;,&quot;Heald&quot;,&quot;Sri.Lanka&quot;,&quot;yes&quot;,&quot;yes&quot;,&quot;English&quot;,&quot;Toronto&quot;,-0.75377\n&quot;1837&quot;,&quot;Stone&quot;,&quot;El.Salvador&quot;,&quot;no&quot;,&quot;no&quot;,&quot;English&quot;,&quot;other&quot;,-1.04597\n&quot;1838&quot;,&quot;Stone&quot;,&quot;China&quot;,&quot;no&quot;,&quot;no&quot;,&quot;English&quot;,&quot;other&quot;,-0.99462\n&quot;1841&quot;,&quot;Heald&quot;,&quot;Bulgaria&quot;,&quot;no&quot;,&quot;no&quot;,&quot;English&quot;,&quot;Toronto&quot;,-2.09074\n&quot;1848&quot;,&quot;Pratte&quot;,&quot;Sri.Lanka&quot;,&quot;no&quot;,&quot;no&quot;,&quot;English&quot;,&quot;Toronto&quot;,-0.75377\n&quot;1852&quot;,&quot;Hugessen&quot;,&quot;Lebanon&quot;,&quot;no&quot;,&quot;no&quot;,&quot;English&quot;,&quot;Toronto&quot;,-1.09861\n&quot;1855&quot;,&quot;Stone&quot;,&quot;Sri.Lanka&quot;,&quot;no&quot;,&quot;no&quot;,&quot;English&quot;,&quot;Toronto&quot;,-0.75377\n&quot;1872&quot;,&quot;Marceau&quot;,&quot;Somalia&quot;,&quot;no&quot;,&quot;no&quot;,&quot;French&quot;,&quot;Montreal&quot;,-0.99462\n&quot;1880&quot;,&quot;Hugessen&quot;,&quot;Iran&quot;,&quot;yes&quot;,&quot;no&quot;,&quot;French&quot;,&quot;Toronto&quot;,-0.66329\n&quot;1883&quot;,&quot;Stone&quot;,&quot;China&quot;,&quot;no&quot;,&quot;no&quot;,&quot;English&quot;,&quot;Toronto&quot;,-0.99462\n&quot;1886&quot;,&quot;Marceau&quot;,&quot;Poland&quot;,&quot;no&quot;,&quot;no&quot;,&quot;French&quot;,&quot;Montreal&quot;,-1.81529\n&quot;1908&quot;,&quot;Heald&quot;,&quot;China&quot;,&quot;yes&quot;,&quot;no&quot;,&quot;English&quot;,&quot;Toronto&quot;,-0.99462\n&quot;1913&quot;,&quot;Mahoney&quot;,&quot;China&quot;,&quot;yes&quot;,&quot;yes&quot;,&quot;English&quot;,&quot;Toronto&quot;,-0.99462\n&quot;1914&quot;,&quot;Mahoney&quot;,&quot;Sri.Lanka&quot;,&quot;yes&quot;,&quot;yes&quot;,&quot;English&quot;,&quot;Toronto&quot;,-0.75377\n&quot;1922&quot;,&quot;Mahoney&quot;,&quot;China&quot;,&quot;yes&quot;,&quot;yes&quot;,&quot;English&quot;,&quot;Toronto&quot;,-0.99462\n&quot;1923&quot;,&quot;Heald&quot;,&quot;Sri.Lanka&quot;,&quot;yes&quot;,&quot;yes&quot;,&quot;English&quot;,&quot;Toronto&quot;,-0.75377\n&quot;1924&quot;,&quot;Heald&quot;,&quot;China&quot;,&quot;no&quot;,&quot;no&quot;,&quot;English&quot;,&quot;other&quot;,-0.99462\n&quot;1935&quot;,&quot;Pratte&quot;,&quot;Czechoslovakia&quot;,&quot;no&quot;,&quot;no&quot;,&quot;English&quot;,&quot;Toronto&quot;,0.40547\n&quot;1941&quot;,&quot;Marceau&quot;,&quot;Iran&quot;,&quot;no&quot;,&quot;yes&quot;,&quot;English&quot;,&quot;Toronto&quot;,-0.66329\n&quot;1947&quot;,&quot;Heald&quot;,&quot;Sri.Lanka&quot;,&quot;no&quot;,&quot;no&quot;,&quot;English&quot;,&quot;Toronto&quot;,-0.75377\n&quot;1949&quot;,&quot;Heald&quot;,&quot;Bulgaria&quot;,&quot;no&quot;,&quot;no&quot;,&quot;English&quot;,&quot;other&quot;,-2.09074\n&quot;1951&quot;,&quot;Pratte&quot;,&quot;Bulgaria&quot;,&quot;no&quot;,&quot;no&quot;,&quot;French&quot;,&quot;Montreal&quot;,-2.09074\n&quot;1953&quot;,&quot;Desjardins&quot;,&quot;China&quot;,&quot;no&quot;,&quot;no&quot;,&quot;English&quot;,&quot;Toronto&quot;,-0.99462\n&quot;1954&quot;,&quot;Pratte&quot;,&quot;China&quot;,&quot;no&quot;,&quot;no&quot;,&quot;English&quot;,&quot;Toronto&quot;,-0.99462\n&quot;1962&quot;,&quot;Stone&quot;,&quot;Lebanon&quot;,&quot;yes&quot;,&quot;yes&quot;,&quot;English&quot;,&quot;Toronto&quot;,-1.09861\n&quot;1966&quot;,&quot;MacGuigan&quot;,&quot;Lebanon&quot;,&quot;no&quot;,&quot;no&quot;,&quot;English&quot;,&quot;Toronto&quot;,-1.09861\n&quot;1970&quot;,&quot;Hugessen&quot;,&quot;Sri.Lanka&quot;,&quot;yes&quot;,&quot;no&quot;,&quot;French&quot;,&quot;Montreal&quot;,-0.75377\n&quot;1971&quot;,&quot;Heald&quot;,&quot;Ghana&quot;,&quot;no&quot;,&quot;yes&quot;,&quot;English&quot;,&quot;Toronto&quot;,-1.20831\n&quot;1975&quot;,&quot;Hugessen&quot;,&quot;Bulgaria&quot;,&quot;no&quot;,&quot;no&quot;,&quot;French&quot;,&quot;Montreal&quot;,-2.09074\n&quot;1995&quot;,&quot;Pratte&quot;,&quot;Bulgaria&quot;,&quot;no&quot;,&quot;yes&quot;,&quot;English&quot;,&quot;other&quot;,-2.09074\n&quot;1999&quot;,&quot;Mahoney&quot;,&quot;China&quot;,&quot;no&quot;,&quot;yes&quot;,&quot;English&quot;,&quot;Toronto&quot;,-0.99462\n&quot;2006&quot;,&quot;Hugessen&quot;,&quot;Somalia&quot;,&quot;no&quot;,&quot;yes&quot;,&quot;French&quot;,&quot;Montreal&quot;,-0.99462\n&quot;2014&quot;,&quot;MacGuigan&quot;,&quot;Sri.Lanka&quot;,&quot;no&quot;,&quot;no&quot;,&quot;English&quot;,&quot;Toronto&quot;,-0.75377\n&quot;2049&quot;,&quot;Hugessen&quot;,&quot;Bulgaria&quot;,&quot;no&quot;,&quot;no&quot;,&quot;French&quot;,&quot;Montreal&quot;,-2.09074\n&quot;2050&quot;,&quot;Desjardins&quot;,&quot;Lebanon&quot;,&quot;no&quot;,&quot;yes&quot;,&quot;French&quot;,&quot;Montreal&quot;,-1.09861\n&quot;2054&quot;,&quot;Desjardins&quot;,&quot;China&quot;,&quot;yes&quot;,&quot;no&quot;,&quot;English&quot;,&quot;other&quot;,-0.99462\n&quot;2060&quot;,&quot;Hugessen&quot;,&quot;China&quot;,&quot;yes&quot;,&quot;no&quot;,&quot;English&quot;,&quot;Montreal&quot;,-0.99462\n&quot;2077&quot;,&quot;Stone&quot;,&quot;Sri.Lanka&quot;,&quot;yes&quot;,&quot;no&quot;,&quot;English&quot;,&quot;Toronto&quot;,-0.75377\n&quot;2079&quot;,&quot;Desjardins&quot;,&quot;Sri.Lanka&quot;,&quot;no&quot;,&quot;no&quot;,&quot;French&quot;,&quot;Montreal&quot;,-0.75377\n&quot;2087&quot;,&quot;Stone&quot;,&quot;El.Salvador&quot;,&quot;yes&quot;,&quot;no&quot;,&quot;English&quot;,&quot;Toronto&quot;,-1.04597\n&quot;2088&quot;,&quot;Desjardins&quot;,&quot;China&quot;,&quot;no&quot;,&quot;no&quot;,&quot;English&quot;,&quot;other&quot;,-0.99462\n&quot;2089&quot;,&quot;Stone&quot;,&quot;Bulgaria&quot;,&quot;no&quot;,&quot;no&quot;,&quot;English&quot;,&quot;Toronto&quot;,-2.09074\n&quot;2115&quot;,&quot;Marceau&quot;,&quot;China&quot;,&quot;no&quot;,&quot;no&quot;,&quot;French&quot;,&quot;Montreal&quot;,-0.99462\n&quot;2117&quot;,&quot;Stone&quot;,&quot;Sri.Lanka&quot;,&quot;no&quot;,&quot;no&quot;,&quot;English&quot;,&quot;Toronto&quot;,-0.75377\n&quot;2125&quot;,&quot;Heald&quot;,&quot;China&quot;,&quot;no&quot;,&quot;no&quot;,&quot;English&quot;,&quot;other&quot;,-0.99462\n&quot;2131&quot;,&quot;Pratte&quot;,&quot;China&quot;,&quot;no&quot;,&quot;no&quot;,&quot;English&quot;,&quot;Toronto&quot;,-0.99462\n&quot;2133&quot;,&quot;Desjardins&quot;,&quot;El.Salvador&quot;,&quot;no&quot;,&quot;no&quot;,&quot;English&quot;,&quot;other&quot;,-1.04597\n&quot;2142&quot;,&quot;Desjardins&quot;,&quot;Bulgaria&quot;,&quot;no&quot;,&quot;no&quot;,&quot;English&quot;,&quot;other&quot;,-2.09074\n&quot;2148&quot;,&quot;Pratte&quot;,&quot;China&quot;,&quot;yes&quot;,&quot;no&quot;,&quot;French&quot;,&quot;Montreal&quot;,-0.99462\n&quot;2150&quot;,&quot;Pratte&quot;,&quot;Lebanon&quot;,&quot;yes&quot;,&quot;no&quot;,&quot;English&quot;,&quot;Toronto&quot;,-1.09861\n&quot;2151&quot;,&quot;MacGuigan&quot;,&quot;El.Salvador&quot;,&quot;no&quot;,&quot;no&quot;,&quot;English&quot;,&quot;Toronto&quot;,-1.04597\n&quot;2163&quot;,&quot;Stone&quot;,&quot;China&quot;,&quot;no&quot;,&quot;no&quot;,&quot;English&quot;,&quot;Toronto&quot;,-0.99462\n&quot;2174&quot;,&quot;Pratte&quot;,&quot;Bulgaria&quot;,&quot;yes&quot;,&quot;no&quot;,&quot;English&quot;,&quot;other&quot;,-2.09074\n&quot;2186&quot;,&quot;Stone&quot;,&quot;Somalia&quot;,&quot;no&quot;,&quot;no&quot;,&quot;English&quot;,&quot;Toronto&quot;,-0.99462\n&quot;2187&quot;,&quot;Mahoney&quot;,&quot;Ghana&quot;,&quot;no&quot;,&quot;no&quot;,&quot;English&quot;,&quot;Toronto&quot;,-1.20831\n&quot;2196&quot;,&quot;Stone&quot;,&quot;El.Salvador&quot;,&quot;yes&quot;,&quot;no&quot;,&quot;English&quot;,&quot;Toronto&quot;,-1.04597\n&quot;2208&quot;,&quot;Hugessen&quot;,&quot;China&quot;,&quot;no&quot;,&quot;no&quot;,&quot;French&quot;,&quot;Montreal&quot;,-0.99462\n&quot;2209&quot;,&quot;Hugessen&quot;,&quot;Poland&quot;,&quot;yes&quot;,&quot;no&quot;,&quot;French&quot;,&quot;Montreal&quot;,-1.81529\n&quot;2214&quot;,&quot;Mahoney&quot;,&quot;Pakistan&quot;,&quot;yes&quot;,&quot;no&quot;,&quot;English&quot;,&quot;Toronto&quot;,-0.48955\n&quot;2229&quot;,&quot;MacGuigan&quot;,&quot;Bulgaria&quot;,&quot;no&quot;,&quot;no&quot;,&quot;English&quot;,&quot;Montreal&quot;,-2.09074\n&quot;2231&quot;,&quot;Desjardins&quot;,&quot;Bulgaria&quot;,&quot;no&quot;,&quot;no&quot;,&quot;English&quot;,&quot;Toronto&quot;,-2.09074\n&quot;2274&quot;,&quot;MacGuigan&quot;,&quot;Iran&quot;,&quot;no&quot;,&quot;no&quot;,&quot;English&quot;,&quot;Toronto&quot;,-0.66329\n&quot;2278&quot;,&quot;Mahoney&quot;,&quot;Somalia&quot;,&quot;yes&quot;,&quot;no&quot;,&quot;English&quot;,&quot;Toronto&quot;,-0.99462\n&quot;2279&quot;,&quot;Heald&quot;,&quot;Iran&quot;,&quot;no&quot;,&quot;no&quot;,&quot;English&quot;,&quot;other&quot;,-0.66329\n&quot;2289&quot;,&quot;MacGuigan&quot;,&quot;China&quot;,&quot;no&quot;,&quot;no&quot;,&quot;English&quot;,&quot;Toronto&quot;,-0.99462\n&quot;2290&quot;,&quot;MacGuigan&quot;,&quot;China&quot;,&quot;no&quot;,&quot;no&quot;,&quot;English&quot;,&quot;Toronto&quot;,-0.99462\n&quot;2291&quot;,&quot;MacGuigan&quot;,&quot;Somalia&quot;,&quot;yes&quot;,&quot;yes&quot;,&quot;English&quot;,&quot;Toronto&quot;,-0.99462\n&quot;2293&quot;,&quot;MacGuigan&quot;,&quot;China&quot;,&quot;no&quot;,&quot;no&quot;,&quot;English&quot;,&quot;other&quot;,-0.99462\n&quot;2297&quot;,&quot;MacGuigan&quot;,&quot;Nigeria&quot;,&quot;no&quot;,&quot;no&quot;,&quot;French&quot;,&quot;Montreal&quot;,-1.20831\n&quot;2313&quot;,&quot;MacGuigan&quot;,&quot;Nigeria&quot;,&quot;yes&quot;,&quot;no&quot;,&quot;French&quot;,&quot;Montreal&quot;,-1.20831\n&quot;2315&quot;,&quot;MacGuigan&quot;,&quot;China&quot;,&quot;no&quot;,&quot;yes&quot;,&quot;English&quot;,&quot;Toronto&quot;,-0.99462\n&quot;2321&quot;,&quot;Desjardins&quot;,&quot;Sri.Lanka&quot;,&quot;no&quot;,&quot;no&quot;,&quot;English&quot;,&quot;Toronto&quot;,-0.75377\n&quot;2322&quot;,&quot;MacGuigan&quot;,&quot;China&quot;,&quot;yes&quot;,&quot;yes&quot;,&quot;French&quot;,&quot;Toronto&quot;,-0.99462\n&quot;2327&quot;,&quot;MacGuigan&quot;,&quot;Sri.Lanka&quot;,&quot;yes&quot;,&quot;no&quot;,&quot;French&quot;,&quot;Montreal&quot;,-0.75377\n&quot;2330&quot;,&quot;Pratte&quot;,&quot;Bulgaria&quot;,&quot;no&quot;,&quot;no&quot;,&quot;French&quot;,&quot;Montreal&quot;,-2.09074\n&quot;2336&quot;,&quot;Pratte&quot;,&quot;Argentina&quot;,&quot;no&quot;,&quot;no&quot;,&quot;English&quot;,&quot;Toronto&quot;,-0.80012\n&quot;2338&quot;,&quot;Pratte&quot;,&quot;China&quot;,&quot;no&quot;,&quot;no&quot;,&quot;English&quot;,&quot;Toronto&quot;,-0.99462\n&quot;2348&quot;,&quot;Pratte&quot;,&quot;Bulgaria&quot;,&quot;no&quot;,&quot;no&quot;,&quot;French&quot;,&quot;Montreal&quot;,-2.09074\n&quot;2350&quot;,&quot;Hugessen&quot;,&quot;China&quot;,&quot;no&quot;,&quot;no&quot;,&quot;English&quot;,&quot;Toronto&quot;,-0.99462\n&quot;2366&quot;,&quot;Hugessen&quot;,&quot;Bulgaria&quot;,&quot;no&quot;,&quot;no&quot;,&quot;French&quot;,&quot;Montreal&quot;,-2.09074\n&quot;2370&quot;,&quot;Pratte&quot;,&quot;Sri.Lanka&quot;,&quot;no&quot;,&quot;yes&quot;,&quot;English&quot;,&quot;Toronto&quot;,-0.75377\n&quot;2374&quot;,&quot;Pratte&quot;,&quot;Bulgaria&quot;,&quot;no&quot;,&quot;no&quot;,&quot;French&quot;,&quot;Montreal&quot;,-2.09074\n&quot;2388&quot;,&quot;MacGuigan&quot;,&quot;Bulgaria&quot;,&quot;no&quot;,&quot;no&quot;,&quot;French&quot;,&quot;Montreal&quot;,-2.09074\n&quot;2390&quot;,&quot;MacGuigan&quot;,&quot;Lebanon&quot;,&quot;no&quot;,&quot;yes&quot;,&quot;English&quot;,&quot;Toronto&quot;,-1.09861\n&quot;2394&quot;,&quot;Pratte&quot;,&quot;China&quot;,&quot;no&quot;,&quot;no&quot;,&quot;French&quot;,&quot;Montreal&quot;,-0.99462\n&quot;2408&quot;,&quot;MacGuigan&quot;,&quot;Lebanon&quot;,&quot;no&quot;,&quot;no&quot;,&quot;English&quot;,&quot;Toronto&quot;,-1.09861\n&quot;2409&quot;,&quot;Hugessen&quot;,&quot;Fiji&quot;,&quot;no&quot;,&quot;no&quot;,&quot;English&quot;,&quot;other&quot;,-0.66329\n&quot;2411&quot;,&quot;MacGuigan&quot;,&quot;Czechoslovakia&quot;,&quot;no&quot;,&quot;no&quot;,&quot;French&quot;,&quot;Montreal&quot;,0.40547\n&quot;2412&quot;,&quot;MacGuigan&quot;,&quot;El.Salvador&quot;,&quot;yes&quot;,&quot;no&quot;,&quot;English&quot;,&quot;Toronto&quot;,-1.04597\n&quot;2418&quot;,&quot;MacGuigan&quot;,&quot;China&quot;,&quot;no&quot;,&quot;no&quot;,&quot;English&quot;,&quot;Toronto&quot;,-0.99462\n&quot;2431&quot;,&quot;MacGuigan&quot;,&quot;Bulgaria&quot;,&quot;no&quot;,&quot;no&quot;,&quot;French&quot;,&quot;Montreal&quot;,-2.09074\n&quot;2442&quot;,&quot;Mahoney&quot;,&quot;China&quot;,&quot;no&quot;,&quot;no&quot;,&quot;English&quot;,&quot;Toronto&quot;,-0.99462\n&quot;2443&quot;,&quot;MacGuigan&quot;,&quot;China&quot;,&quot;yes&quot;,&quot;yes&quot;,&quot;English&quot;,&quot;Toronto&quot;,-0.99462\n&quot;2445&quot;,&quot;Desjardins&quot;,&quot;Bulgaria&quot;,&quot;no&quot;,&quot;yes&quot;,&quot;French&quot;,&quot;Montreal&quot;,-2.09074\n&quot;2454&quot;,&quot;Mahoney&quot;,&quot;Somalia&quot;,&quot;yes&quot;,&quot;no&quot;,&quot;English&quot;,&quot;other&quot;,-0.99462\n&quot;2456&quot;,&quot;Heald&quot;,&quot;China&quot;,&quot;no&quot;,&quot;no&quot;,&quot;English&quot;,&quot;Toronto&quot;,-0.99462\n&quot;2461&quot;,&quot;Hugessen&quot;,&quot;China&quot;,&quot;no&quot;,&quot;yes&quot;,&quot;English&quot;,&quot;Toronto&quot;,-0.99462\n\n</div>"
      ]
     },
     "metadata": {
      "application/vnd.databricks.v1+output": {
       "addedWidgets": {},
       "arguments": {},
       "data": "<div class=\"ansiout\">&quot;&quot;,&quot;judge&quot;,&quot;nation&quot;,&quot;rater&quot;,&quot;decision&quot;,&quot;language&quot;,&quot;location&quot;,&quot;success&quot;\n&quot;13&quot;,&quot;Heald&quot;,&quot;Lebanon&quot;,&quot;no&quot;,&quot;no&quot;,&quot;English&quot;,&quot;Toronto&quot;,-1.09861\n&quot;15&quot;,&quot;Heald&quot;,&quot;Sri.Lanka&quot;,&quot;no&quot;,&quot;no&quot;,&quot;English&quot;,&quot;Toronto&quot;,-0.75377\n&quot;19&quot;,&quot;Heald&quot;,&quot;El.Salvador&quot;,&quot;no&quot;,&quot;yes&quot;,&quot;English&quot;,&quot;Toronto&quot;,-1.04597\n&quot;30&quot;,&quot;MacGuigan&quot;,&quot;Czechoslovakia&quot;,&quot;no&quot;,&quot;yes&quot;,&quot;French&quot;,&quot;Montreal&quot;,0.40547\n&quot;36&quot;,&quot;Desjardins&quot;,&quot;Lebanon&quot;,&quot;yes&quot;,&quot;yes&quot;,&quot;French&quot;,&quot;Montreal&quot;,-1.09861\n&quot;42&quot;,&quot;Stone&quot;,&quot;Lebanon&quot;,&quot;yes&quot;,&quot;yes&quot;,&quot;English&quot;,&quot;Toronto&quot;,-1.09861\n&quot;45&quot;,&quot;Pratte&quot;,&quot;Ghana&quot;,&quot;no&quot;,&quot;no&quot;,&quot;English&quot;,&quot;Toronto&quot;,-1.20831\n&quot;46&quot;,&quot;MacGuigan&quot;,&quot;Somalia&quot;,&quot;no&quot;,&quot;no&quot;,&quot;English&quot;,&quot;Toronto&quot;,-0.99462\n&quot;51&quot;,&quot;MacGuigan&quot;,&quot;Somalia&quot;,&quot;yes&quot;,&quot;no&quot;,&quot;French&quot;,&quot;Montreal&quot;,-0.99462\n&quot;52&quot;,&quot;Pratte&quot;,&quot;China&quot;,&quot;no&quot;,&quot;no&quot;,&quot;English&quot;,&quot;other&quot;,-0.99462\n&quot;63&quot;,&quot;Hugessen&quot;,&quot;El.Salvador&quot;,&quot;yes&quot;,&quot;yes&quot;,&quot;English&quot;,&quot;other&quot;,-1.04597\n&quot;75&quot;,&quot;Hugessen&quot;,&quot;Lebanon&quot;,&quot;no&quot;,&quot;no&quot;,&quot;French&quot;,&quot;Montreal&quot;,-1.09861\n&quot;76&quot;,&quot;Pratte&quot;,&quot;Sri.Lanka&quot;,&quot;no&quot;,&quot;no&quot;,&quot;English&quot;,&quot;Toronto&quot;,-0.75377\n&quot;77&quot;,&quot;MacGuigan&quot;,&quot;China&quot;,&quot;no&quot;,&quot;no&quot;,&quot;French&quot;,&quot;Montreal&quot;,-0.99462\n&quot;83&quot;,&quot;Stone&quot;,&quot;Poland&quot;,&quot;yes&quot;,&quot;no&quot;,&quot;English&quot;,&quot;other&quot;,-1.81529\n&quot;89&quot;,&quot;Iacobucci&quot;,&quot;Sri.Lanka&quot;,&quot;no&quot;,&quot;no&quot;,&quot;English&quot;,&quot;Toronto&quot;,-0.75377\n&quot;94&quot;,&quot;Iacobucci&quot;,&quot;Lebanon&quot;,&quot;yes&quot;,&quot;no&quot;,&quot;English&quot;,&quot;Toronto&quot;,-1.09861\n&quot;105&quot;,&quot;Pratte&quot;,&quot;Nicaragua&quot;,&quot;yes&quot;,&quot;no&quot;,&quot;English&quot;,&quot;other&quot;,-1.58563\n&quot;107&quot;,&quot;Iacobucci&quot;,&quot;Nigeria&quot;,&quot;no&quot;,&quot;no&quot;,&quot;English&quot;,&quot;Toronto&quot;,-1.20831\n&quot;111&quot;,&quot;Mahoney&quot;,&quot;Lebanon&quot;,&quot;no&quot;,&quot;no&quot;,&quot;English&quot;,&quot;Toronto&quot;,-1.09861\n&quot;113&quot;,&quot;Hugessen&quot;,&quot;Lebanon&quot;,&quot;no&quot;,&quot;no&quot;,&quot;French&quot;,&quot;Montreal&quot;,-1.09861\n&quot;114&quot;,&quot;Hugessen&quot;,&quot;El.Salvador&quot;,&quot;yes&quot;,&quot;no&quot;,&quot;French&quot;,&quot;Montreal&quot;,-1.04597\n&quot;115&quot;,&quot;Hugessen&quot;,&quot;Nicaragua&quot;,&quot;yes&quot;,&quot;no&quot;,&quot;English&quot;,&quot;Toronto&quot;,-1.58563\n&quot;120&quot;,&quot;Hugessen&quot;,&quot;Sri.Lanka&quot;,&quot;no&quot;,&quot;no&quot;,&quot;French&quot;,&quot;Montreal&quot;,-0.75377\n&quot;121&quot;,&quot;Hugessen&quot;,&quot;Lebanon&quot;,&quot;yes&quot;,&quot;no&quot;,&quot;English&quot;,&quot;Toronto&quot;,-1.09861\n&quot;122&quot;,&quot;Stone&quot;,&quot;El.Salvador&quot;,&quot;no&quot;,&quot;no&quot;,&quot;English&quot;,&quot;Toronto&quot;,-1.04597\n&quot;128&quot;,&quot;Iacobucci&quot;,&quot;Lebanon&quot;,&quot;yes&quot;,&quot;yes&quot;,&quot;English&quot;,&quot;other&quot;,-1.09861\n&quot;130&quot;,&quot;Iacobucci&quot;,&quot;Lebanon&quot;,&quot;no&quot;,&quot;no&quot;,&quot;English&quot;,&quot;other&quot;,-1.09861\n&quot;134&quot;,&quot;MacGuigan&quot;,&quot;Lebanon&quot;,&quot;no&quot;,&quot;no&quot;,&quot;English&quot;,&quot;Toronto&quot;,-1.09861\n&quot;135&quot;,&quot;Hugessen&quot;,&quot;Somalia&quot;,&quot;yes&quot;,&quot;no&quot;,&quot;French&quot;,&quot;Montreal&quot;,-0.99462\n&quot;140&quot;,&quot;Hugessen&quot;,&quot;Somalia&quot;,&quot;no&quot;,&quot;no&quot;,&quot;French&quot;,&quot;Montreal&quot;,-0.99462\n&quot;145&quot;,&quot;MacGuigan&quot;,&quot;Lebanon&quot;,&quot;no&quot;,&quot;no&quot;,&quot;English&quot;,&quot;Toronto&quot;,-1.09861\n&quot;148&quot;,&quot;Heald&quot;,&quot;El.Salvador&quot;,&quot;yes&quot;,&quot;yes&quot;,&quot;English&quot;,&quot;Toronto&quot;,-1.04597\n&quot;149&quot;,&quot;Stone&quot;,&quot;Somalia&quot;,&quot;no&quot;,&quot;yes&quot;,&quot;English&quot;,&quot;other&quot;,-0.99462\n&quot;150&quot;,&quot;MacGuigan&quot;,&quot;Lebanon&quot;,&quot;no&quot;,&quot;no&quot;,&quot;English&quot;,&quot;Toronto&quot;,-1.09861\n&quot;158&quot;,&quot;Urie&quot;,&quot;El.Salvador&quot;,&quot;no&quot;,&quot;yes&quot;,&quot;English&quot;,&quot;Toronto&quot;,-1.04597\n&quot;159&quot;,&quot;Urie&quot;,&quot;Lebanon&quot;,&quot;no&quot;,&quot;yes&quot;,&quot;English&quot;,&quot;other&quot;,-1.09861\n&quot;161&quot;,&quot;Hugessen&quot;,&quot;Poland&quot;,&quot;yes&quot;,&quot;no&quot;,&quot;French&quot;,&quot;Montreal&quot;,-1.81529\n&quot;167&quot;,&quot;Mahoney&quot;,&quot;Iran&quot;,&quot;no&quot;,&quot;yes&quot;,&quot;English&quot;,&quot;other&quot;,-0.66329\n&quot;174&quot;,&quot;Marceau&quot;,&quot;Ghana&quot;,&quot;no&quot;,&quot;no&quot;,&quot;English&quot;,&quot;Toronto&quot;,-1.20831\n&quot;188&quot;,&quot;Hugessen&quot;,&quot;Somalia&quot;,&quot;no&quot;,&quot;no&quot;,&quot;French&quot;,&quot;Montreal&quot;,-0.99462\n&quot;198&quot;,&quot;Pratte&quot;,&quot;Iran&quot;,&quot;no&quot;,&quot;no&quot;,&quot;French&quot;,&quot;Montreal&quot;,-0.66329\n&quot;202&quot;,&quot;Stone&quot;,&quot;El.Salvador&quot;,&quot;no&quot;,&quot;no&quot;,&quot;English&quot;,&quot;Toronto&quot;,-1.04597\n&quot;220&quot;,&quot;Iacobucci&quot;,&quot;Ghana&quot;,&quot;yes&quot;,&quot;no&quot;,&quot;English&quot;,&quot;Toronto&quot;,-1.20831\n&quot;230&quot;,&quot;Stone&quot;,&quot;Guatemala&quot;,&quot;yes&quot;,&quot;no&quot;,&quot;English&quot;,&quot;Toronto&quot;,-1.90096\n&quot;233&quot;,&quot;Iacobucci&quot;,&quot;Guatemala&quot;,&quot;no&quot;,&quot;no&quot;,&quot;English&quot;,&quot;Toronto&quot;,-1.90096\n&quot;252&quot;,&quot;Hugessen&quot;,&quot;Lebanon&quot;,&quot;no&quot;,&quot;no&quot;,&quot;French&quot;,&quot;Montreal&quot;,-1.09861\n&quot;254&quot;,&quot;Hugessen&quot;,&quot;Lebanon&quot;,&quot;no&quot;,&quot;no&quot;,&quot;French&quot;,&quot;Montreal&quot;,-1.09861\n&quot;263&quot;,&quot;Mahoney&quot;,&quot;Sri.Lanka&quot;,&quot;no&quot;,&quot;yes&quot;,&quot;English&quot;,&quot;Toronto&quot;,-0.75377\n&quot;282&quot;,&quot;MacGuigan&quot;,&quot;Sri.Lanka&quot;,&quot;yes&quot;,&quot;yes&quot;,&quot;English&quot;,&quot;Toronto&quot;,-0.75377\n&quot;285&quot;,&quot;MacGuigan&quot;,&quot;Sri.Lanka&quot;,&quot;yes&quot;,&quot;yes&quot;,&quot;English&quot;,&quot;Toronto&quot;,-0.75377\n&quot;310&quot;,&quot;MacGuigan&quot;,&quot;Somalia&quot;,&quot;yes&quot;,&quot;no&quot;,&quot;English&quot;,&quot;other&quot;,-0.99462\n&quot;313&quot;,&quot;Iacobucci&quot;,&quot;Sri.Lanka&quot;,&quot;yes&quot;,&quot;no&quot;,&quot;English&quot;,&quot;Toronto&quot;,-0.75377\n&quot;317&quot;,&quot;Marceau&quot;,&quot;Lebanon&quot;,&quot;no&quot;,&quot;yes&quot;,&quot;English&quot;,&quot;Montreal&quot;,-1.09861\n&quot;323&quot;,&quot;Urie&quot;,&quot;China&quot;,&quot;no&quot;,&quot;no&quot;,&quot;English&quot;,&quot;Toronto&quot;,-0.99462\n&quot;328&quot;,&quot;MacGuigan&quot;,&quot;China&quot;,&quot;no&quot;,&quot;no&quot;,&quot;French&quot;,&quot;Montreal&quot;,-0.99462\n&quot;332&quot;,&quot;Desjardins&quot;,&quot;Iran&quot;,&quot;yes&quot;,&quot;no&quot;,&quot;French&quot;,&quot;Montreal&quot;,-0.66329\n&quot;340&quot;,&quot;Hugessen&quot;,&quot;Bulgaria&quot;,&quot;no&quot;,&quot;no&quot;,&quot;French&quot;,&quot;Montreal&quot;,-2.09074\n&quot;343&quot;,&quot;Hugessen&quot;,&quot;Bulgaria&quot;,&quot;no&quot;,&quot;no&quot;,&quot;French&quot;,&quot;Montreal&quot;,-2.09074\n&quot;345&quot;,&quot;MacGuigan&quot;,&quot;Bulgaria&quot;,&quot;no&quot;,&quot;no&quot;,&quot;French&quot;,&quot;Montreal&quot;,-2.09074\n&quot;347&quot;,&quot;Mahoney&quot;,&quot;Lebanon&quot;,&quot;yes&quot;,&quot;yes&quot;,&quot;English&quot;,&quot;Toronto&quot;,-1.09861\n&quot;348&quot;,&quot;MacGuigan&quot;,&quot;Sri.Lanka&quot;,&quot;yes&quot;,&quot;no&quot;,&quot;English&quot;,&quot;Toronto&quot;,-0.75377\n&quot;362&quot;,&quot;Desjardins&quot;,&quot;Bulgaria&quot;,&quot;yes&quot;,&quot;yes&quot;,&quot;English&quot;,&quot;other&quot;,-2.09074\n&quot;365&quot;,&quot;Marceau&quot;,&quot;China&quot;,&quot;no&quot;,&quot;no&quot;,&quot;English&quot;,&quot;Toronto&quot;,-0.99462\n&quot;366&quot;,&quot;Heald&quot;,&quot;Poland&quot;,&quot;no&quot;,&quot;no&quot;,&quot;English&quot;,&quot;other&quot;,-1.81529\n&quot;371&quot;,&quot;Marceau&quot;,&quot;Czechoslovakia&quot;,&quot;no&quot;,&quot;yes&quot;,&quot;French&quot;,&quot;Montreal&quot;,0.40547\n&quot;380&quot;,&quot;Marceau&quot;,&quot;China&quot;,&quot;no&quot;,&quot;yes&quot;,&quot;French&quot;,&quot;Montreal&quot;,-0.99462\n&quot;392&quot;,&quot;Mahoney&quot;,&quot;Lebanon&quot;,&quot;no&quot;,&quot;no&quot;,&quot;English&quot;,&quot;Toronto&quot;,-1.09861\n&quot;393&quot;,&quot;Hugessen&quot;,&quot;Lebanon&quot;,&quot;yes&quot;,&quot;no&quot;,&quot;French&quot;,&quot;Montreal&quot;,-1.09861\n&quot;395&quot;,&quot;Heald&quot;,&quot;Lebanon&quot;,&quot;no&quot;,&quot;no&quot;,&quot;English&quot;,&quot;other&quot;,-1.09861\n&quot;396&quot;,&quot;Pratte&quot;,&quot;Lebanon&quot;,&quot;no&quot;,&quot;no&quot;,&quot;French&quot;,&quot;Montreal&quot;,-1.09861\n&quot;426&quot;,&quot;Hugessen&quot;,&quot;Bulgaria&quot;,&quot;no&quot;,&quot;no&quot;,&quot;French&quot;,&quot;Montreal&quot;,-2.09074\n&quot;430&quot;,&quot;MacGuigan&quot;,&quot;Lebanon&quot;,&quot;no&quot;,&quot;no&quot;,&quot;French&quot;,&quot;Montreal&quot;,-1.09861\n&quot;431&quot;,&quot;Desjardins&quot;,&quot;China&quot;,&quot;yes&quot;,&quot;no&quot;,&quot;French&quot;,&quot;Montreal&quot;,-0.99462\n&quot;437&quot;,&quot;MacGuigan&quot;,&quot;Lebanon&quot;,&quot;no&quot;,&quot;no&quot;,&quot;French&quot;,&quot;Montreal&quot;,-1.09861\n&quot;439&quot;,&quot;MacGuigan&quot;,&quot;Somalia&quot;,&quot;no&quot;,&quot;no&quot;,&quot;French&quot;,&quot;Montreal&quot;,-0.99462\n&quot;440&quot;,&quot;Iacobucci&quot;,&quot;Somalia&quot;,&quot;yes&quot;,&quot;no&quot;,&quot;English&quot;,&quot;Toronto&quot;,-0.99462\n&quot;448&quot;,&quot;Urie&quot;,&quot;Lebanon&quot;,&quot;no&quot;,&quot;no&quot;,&quot;English&quot;,&quot;Toronto&quot;,-1.09861\n&quot;457&quot;,&quot;Marceau&quot;,&quot;China&quot;,&quot;no&quot;,&quot;yes&quot;,&quot;English&quot;,&quot;other&quot;,-0.99462\n&quot;458&quot;,&quot;Pratte&quot;,&quot;Czechoslovakia&quot;,&quot;no&quot;,&quot;no&quot;,&quot;French&quot;,&quot;Montreal&quot;,0.40547\n&quot;465&quot;,&quot;Mahoney&quot;,&quot;China&quot;,&quot;no&quot;,&quot;yes&quot;,&quot;English&quot;,&quot;Toronto&quot;,-0.99462\n&quot;472&quot;,&quot;Pratte&quot;,&quot;China&quot;,&quot;no&quot;,&quot;no&quot;,&quot;English&quot;,&quot;Toronto&quot;,-0.99462\n&quot;477&quot;,&quot;MacGuigan&quot;,&quot;Sri.Lanka&quot;,&quot;yes&quot;,&quot;yes&quot;,&quot;English&quot;,&quot;other&quot;,-0.75377\n&quot;480&quot;,&quot;Hugessen&quot;,&quot;Poland&quot;,&quot;yes&quot;,&quot;no&quot;,&quot;French&quot;,&quot;Montreal&quot;,-1.81529\n&quot;484&quot;,&quot;Marceau&quot;,&quot;Sri.Lanka&quot;,&quot;no&quot;,&quot;yes&quot;,&quot;English&quot;,&quot;Toronto&quot;,-0.75377\n&quot;488&quot;,&quot;Heald&quot;,&quot;Bulgaria&quot;,&quot;no&quot;,&quot;no&quot;,&quot;English&quot;,&quot;other&quot;,-2.09074\n&quot;490&quot;,&quot;Pratte&quot;,&quot;China&quot;,&quot;no&quot;,&quot;no&quot;,&quot;English&quot;,&quot;Toronto&quot;,-0.99462\n&quot;506&quot;,&quot;Hugessen&quot;,&quot;Argentina&quot;,&quot;no&quot;,&quot;no&quot;,&quot;French&quot;,&quot;Montreal&quot;,-0.80012\n&quot;507&quot;,&quot;Mahoney&quot;,&quot;Nigeria&quot;,&quot;yes&quot;,&quot;yes&quot;,&quot;English&quot;,&quot;Toronto&quot;,-1.20831\n&quot;509&quot;,&quot;MacGuigan&quot;,&quot;Somalia&quot;,&quot;yes&quot;,&quot;yes&quot;,&quot;English&quot;,&quot;Toronto&quot;,-0.99462\n&quot;522&quot;,&quot;Marceau&quot;,&quot;Poland&quot;,&quot;no&quot;,&quot;no&quot;,&quot;French&quot;,&quot;Montreal&quot;,-1.81529\n&quot;523&quot;,&quot;Stone&quot;,&quot;China&quot;,&quot;no&quot;,&quot;no&quot;,&quot;English&quot;,&quot;Toronto&quot;,-0.99462\n&quot;525&quot;,&quot;Mahoney&quot;,&quot;Sri.Lanka&quot;,&quot;yes&quot;,&quot;no&quot;,&quot;English&quot;,&quot;Toronto&quot;,-0.75377\n&quot;528&quot;,&quot;Marceau&quot;,&quot;Lebanon&quot;,&quot;no&quot;,&quot;yes&quot;,&quot;French&quot;,&quot;other&quot;,-1.09861\n&quot;533&quot;,&quot;MacGuigan&quot;,&quot;Nigeria&quot;,&quot;no&quot;,&quot;no&quot;,&quot;English&quot;,&quot;Toronto&quot;,-1.20831\n&quot;536&quot;,&quot;Heald&quot;,&quot;Lebanon&quot;,&quot;yes&quot;,&quot;no&quot;,&quot;English&quot;,&quot;Toronto&quot;,-1.09861\n&quot;540&quot;,&quot;MacGuigan&quot;,&quot;Bulgaria&quot;,&quot;no&quot;,&quot;no&quot;,&quot;English&quot;,&quot;Toronto&quot;,-2.09074\n&quot;542&quot;,&quot;MacGuigan&quot;,&quot;Guatemala&quot;,&quot;no&quot;,&quot;yes&quot;,&quot;English&quot;,&quot;Toronto&quot;,-1.90096\n&quot;546&quot;,&quot;Pratte&quot;,&quot;Bulgaria&quot;,&quot;yes&quot;,&quot;no&quot;,&quot;French&quot;,&quot;Montreal&quot;,-2.09074\n&quot;548&quot;,&quot;Pratte&quot;,&quot;Bulgaria&quot;,&quot;no&quot;,&quot;no&quot;,&quot;English&quot;,&quot;Montreal&quot;,-2.09074\n&quot;550&quot;,&quot;MacGuigan&quot;,&quot;China&quot;,&quot;yes&quot;,&quot;no&quot;,&quot;English&quot;,&quot;Toronto&quot;,-0.99462\n&quot;554&quot;,&quot;Desjardins&quot;,&quot;China&quot;,&quot;no&quot;,&quot;no&quot;,&quot;English&quot;,&quot;Toronto&quot;,-0.99462\n&quot;556&quot;,&quot;Desjardins&quot;,&quot;Sri.Lanka&quot;,&quot;no&quot;,&quot;yes&quot;,&quot;English&quot;,&quot;Toronto&quot;,-0.75377\n&quot;579&quot;,&quot;Desjardins&quot;,&quot;Bulgaria&quot;,&quot;yes&quot;,&quot;yes&quot;,&quot;French&quot;,&quot;Montreal&quot;,-2.09074\n&quot;580&quot;,&quot;Heald&quot;,&quot;Sri.Lanka&quot;,&quot;no&quot;,&quot;no&quot;,&quot;English&quot;,&quot;Toronto&quot;,-0.75377\n&quot;585&quot;,&quot;Pratte&quot;,&quot;Iran&quot;,&quot;no&quot;,&quot;no&quot;,&quot;English&quot;,&quot;Toronto&quot;,-0.66329\n&quot;590&quot;,&quot;Mahoney&quot;,&quot;Sri.Lanka&quot;,&quot;yes&quot;,&quot;yes&quot;,&quot;English&quot;,&quot;Toronto&quot;,-0.75377\n&quot;595&quot;,&quot;Heald&quot;,&quot;China&quot;,&quot;no&quot;,&quot;no&quot;,&quot;English&quot;,&quot;Toronto&quot;,-0.99462\n&quot;603&quot;,&quot;Pratte&quot;,&quot;Lebanon&quot;,&quot;yes&quot;,&quot;no&quot;,&quot;French&quot;,&quot;Montreal&quot;,-1.09861\n&quot;607&quot;,&quot;Stone&quot;,&quot;Sri.Lanka&quot;,&quot;no&quot;,&quot;no&quot;,&quot;English&quot;,&quot;Toronto&quot;,-0.75377\n&quot;617&quot;,&quot;MacGuigan&quot;,&quot;Bulgaria&quot;,&quot;yes&quot;,&quot;no&quot;,&quot;French&quot;,&quot;Montreal&quot;,-2.09074\n&quot;622&quot;,&quot;MacGuigan&quot;,&quot;China&quot;,&quot;no&quot;,&quot;no&quot;,&quot;French&quot;,&quot;Montreal&quot;,-0.99462\n&quot;629&quot;,&quot;MacGuigan&quot;,&quot;Czechoslovakia&quot;,&quot;yes&quot;,&quot;no&quot;,&quot;French&quot;,&quot;Montreal&quot;,0.40547\n&quot;732&quot;,&quot;Mahoney&quot;,&quot;Nicaragua&quot;,&quot;no&quot;,&quot;no&quot;,&quot;English&quot;,&quot;other&quot;,-1.58563\n&quot;771&quot;,&quot;Mahoney&quot;,&quot;Nicaragua&quot;,&quot;yes&quot;,&quot;no&quot;,&quot;English&quot;,&quot;Toronto&quot;,-1.58563\n&quot;779&quot;,&quot;Hugessen&quot;,&quot;Lebanon&quot;,&quot;no&quot;,&quot;no&quot;,&quot;French&quot;,&quot;Toronto&quot;,-1.09861\n&quot;780&quot;,&quot;MacGuigan&quot;,&quot;Lebanon&quot;,&quot;no&quot;,&quot;no&quot;,&quot;French&quot;,&quot;Montreal&quot;,-1.09861\n&quot;781&quot;,&quot;Marceau&quot;,&quot;Ghana&quot;,&quot;no&quot;,&quot;no&quot;,&quot;French&quot;,&quot;Montreal&quot;,-1.20831\n&quot;790&quot;,&quot;Mahoney&quot;,&quot;Nicaragua&quot;,&quot;yes&quot;,&quot;yes&quot;,&quot;English&quot;,&quot;other&quot;,-1.58563\n&quot;805&quot;,&quot;Marceau&quot;,&quot;Sri.Lanka&quot;,&quot;yes&quot;,&quot;yes&quot;,&quot;English&quot;,&quot;Toronto&quot;,-0.75377\n&quot;809&quot;,&quot;Iacobucci&quot;,&quot;Sri.Lanka&quot;,&quot;no&quot;,&quot;no&quot;,&quot;English&quot;,&quot;Toronto&quot;,-0.75377\n&quot;815&quot;,&quot;Hugessen&quot;,&quot;Lebanon&quot;,&quot;yes&quot;,&quot;no&quot;,&quot;French&quot;,&quot;Montreal&quot;,-1.09861\n&quot;819&quot;,&quot;Pratte&quot;,&quot;Czechoslovakia&quot;,&quot;yes&quot;,&quot;yes&quot;,&quot;French&quot;,&quot;Montreal&quot;,0.40547\n&quot;821&quot;,&quot;Hugessen&quot;,&quot;Sri.Lanka&quot;,&quot;yes&quot;,&quot;no&quot;,&quot;French&quot;,&quot;Montreal&quot;,-0.75377\n&quot;823&quot;,&quot;Iacobucci&quot;,&quot;Lebanon&quot;,&quot;no&quot;,&quot;no&quot;,&quot;French&quot;,&quot;other&quot;,-1.09861\n&quot;824&quot;,&quot;Hugessen&quot;,&quot;Lebanon&quot;,&quot;no&quot;,&quot;no&quot;,&quot;French&quot;,&quot;Montreal&quot;,-1.09861\n&quot;828&quot;,&quot;Desjardins&quot;,&quot;Lebanon&quot;,&quot;no&quot;,&quot;yes&quot;,&quot;English&quot;,&quot;Toronto&quot;,-1.09861\n&quot;831&quot;,&quot;Desjardins&quot;,&quot;Lebanon&quot;,&quot;no&quot;,&quot;no&quot;,&quot;French&quot;,&quot;Montreal&quot;,-1.09861\n&quot;833&quot;,&quot;Iacobucci&quot;,&quot;Lebanon&quot;,&quot;no&quot;,&quot;no&quot;,&quot;English&quot;,&quot;Toronto&quot;,-1.09861\n&quot;834&quot;,&quot;Iacobucci&quot;,&quot;Sri.Lanka&quot;,&quot;no&quot;,&quot;no&quot;,&quot;English&quot;,&quot;Toronto&quot;,-0.75377\n&quot;835&quot;,&quot;Desjardins&quot;,&quot;El.Salvador&quot;,&quot;yes&quot;,&quot;yes&quot;,&quot;English&quot;,&quot;Toronto&quot;,-1.04597\n&quot;841&quot;,&quot;Iacobucci&quot;,&quot;Lebanon&quot;,&quot;no&quot;,&quot;no&quot;,&quot;English&quot;,&quot;other&quot;,-1.09861\n&quot;844&quot;,&quot;Iacobucci&quot;,&quot;Iran&quot;,&quot;no&quot;,&quot;no&quot;,&quot;English&quot;,&quot;other&quot;,-0.66329\n&quot;851&quot;,&quot;Hugessen&quot;,&quot;Czechoslovakia&quot;,&quot;yes&quot;,&quot;yes&quot;,&quot;French&quot;,&quot;Montreal&quot;,0.40547\n&quot;861&quot;,&quot;Desjardins&quot;,&quot;Czechoslovakia&quot;,&quot;no&quot;,&quot;yes&quot;,&quot;English&quot;,&quot;Montreal&quot;,0.40547\n&quot;866&quot;,&quot;Hugessen&quot;,&quot;Czechoslovakia&quot;,&quot;no&quot;,&quot;yes&quot;,&quot;French&quot;,&quot;Montreal&quot;,0.40547\n&quot;871&quot;,&quot;Hugessen&quot;,&quot;Czechoslovakia&quot;,&quot;yes&quot;,&quot;yes&quot;,&quot;English&quot;,&quot;Montreal&quot;,0.40547\n&quot;873&quot;,&quot;Hugessen&quot;,&quot;Czechoslovakia&quot;,&quot;no&quot;,&quot;yes&quot;,&quot;French&quot;,&quot;Montreal&quot;,0.40547\n&quot;874&quot;,&quot;Hugessen&quot;,&quot;Czechoslovakia&quot;,&quot;no&quot;,&quot;yes&quot;,&quot;French&quot;,&quot;Montreal&quot;,0.40547\n&quot;885&quot;,&quot;Iacobucci&quot;,&quot;Sri.Lanka&quot;,&quot;yes&quot;,&quot;yes&quot;,&quot;English&quot;,&quot;other&quot;,-0.75377\n&quot;890&quot;,&quot;Hugessen&quot;,&quot;Czechoslovakia&quot;,&quot;yes&quot;,&quot;yes&quot;,&quot;French&quot;,&quot;Montreal&quot;,0.40547\n&quot;893&quot;,&quot;Marceau&quot;,&quot;Lebanon&quot;,&quot;yes&quot;,&quot;yes&quot;,&quot;French&quot;,&quot;Montreal&quot;,-1.09861\n&quot;899&quot;,&quot;Iacobucci&quot;,&quot;Sri.Lanka&quot;,&quot;no&quot;,&quot;no&quot;,&quot;English&quot;,&quot;Toronto&quot;,-0.75377\n&quot;928&quot;,&quot;Urie&quot;,&quot;Sri.Lanka&quot;,&quot;no&quot;,&quot;yes&quot;,&quot;English&quot;,&quot;Toronto&quot;,-0.75377\n&quot;931&quot;,&quot;Iacobucci&quot;,&quot;China&quot;,&quot;no&quot;,&quot;no&quot;,&quot;English&quot;,&quot;other&quot;,-0.99462\n&quot;934&quot;,&quot;Urie&quot;,&quot;Sri.Lanka&quot;,&quot;yes&quot;,&quot;yes&quot;,&quot;English&quot;,&quot;Toronto&quot;,-0.75377\n&quot;936&quot;,&quot;Iacobucci&quot;,&quot;Somalia&quot;,&quot;no&quot;,&quot;no&quot;,&quot;French&quot;,&quot;Montreal&quot;,-0.99462\n&quot;945&quot;,&quot;Desjardins&quot;,&quot;Lebanon&quot;,&quot;yes&quot;,&quot;yes&quot;,&quot;English&quot;,&quot;Toronto&quot;,-1.09861\n&quot;947&quot;,&quot;Desjardins&quot;,&quot;El.Salvador&quot;,&quot;yes&quot;,&quot;yes&quot;,&quot;English&quot;,&quot;Toronto&quot;,-1.04597\n&quot;951&quot;,&quot;Iacobucci&quot;,&quot;Iran&quot;,&quot;yes&quot;,&quot;yes&quot;,&quot;English&quot;,&quot;Toronto&quot;,-0.66329\n&quot;958&quot;,&quot;Mahoney&quot;,&quot;Lebanon&quot;,&quot;no&quot;,&quot;no&quot;,&quot;English&quot;,&quot;other&quot;,-1.09861\n&quot;968&quot;,&quot;MacGuigan&quot;,&quot;Sri.Lanka&quot;,&quot;no&quot;,&quot;no&quot;,&quot;English&quot;,&quot;Toronto&quot;,-0.75377\n&quot;981&quot;,&quot;Stone&quot;,&quot;India&quot;,&quot;no&quot;,&quot;yes&quot;,&quot;English&quot;,&quot;Toronto&quot;,-0.53222\n&quot;988&quot;,&quot;Desjardins&quot;,&quot;El.Salvador&quot;,&quot;yes&quot;,&quot;yes&quot;,&quot;English&quot;,&quot;Toronto&quot;,-1.04597\n&quot;1000&quot;,&quot;MacGuigan&quot;,&quot;Lebanon&quot;,&quot;yes&quot;,&quot;no&quot;,&quot;English&quot;,&quot;other&quot;,-1.09861\n&quot;1004&quot;,&quot;Hugessen&quot;,&quot;Poland&quot;,&quot;no&quot;,&quot;no&quot;,&quot;French&quot;,&quot;Montreal&quot;,-1.81529\n&quot;1016&quot;,&quot;Desjardins&quot;,&quot;Czechoslovakia&quot;,&quot;yes&quot;,&quot;yes&quot;,&quot;French&quot;,&quot;Montreal&quot;,0.40547\n&quot;1017&quot;,&quot;Desjardins&quot;,&quot;Czechoslovakia&quot;,&quot;yes&quot;,&quot;yes&quot;,&quot;English&quot;,&quot;Montreal&quot;,0.40547\n&quot;1020&quot;,&quot;Hugessen&quot;,&quot;Lebanon&quot;,&quot;no&quot;,&quot;no&quot;,&quot;French&quot;,&quot;Montreal&quot;,-1.09861\n&quot;1021&quot;,&quot;Hugessen&quot;,&quot;China&quot;,&quot;no&quot;,&quot;no&quot;,&quot;English&quot;,&quot;Toronto&quot;,-0.99462\n&quot;1022&quot;,&quot;Hugessen&quot;,&quot;Lebanon&quot;,&quot;no&quot;,&quot;no&quot;,&quot;French&quot;,&quot;Montreal&quot;,-1.09861\n&quot;1023&quot;,&quot;Hugessen&quot;,&quot;Sri.Lanka&quot;,&quot;no&quot;,&quot;no&quot;,&quot;English&quot;,&quot;Toronto&quot;,-0.75377\n&quot;1031&quot;,&quot;Urie&quot;,&quot;Bulgaria&quot;,&quot;no&quot;,&quot;no&quot;,&quot;English&quot;,&quot;other&quot;,-2.09074\n&quot;1032&quot;,&quot;Urie&quot;,&quot;Poland&quot;,&quot;no&quot;,&quot;no&quot;,&quot;English&quot;,&quot;other&quot;,-1.81529\n&quot;1034&quot;,&quot;Stone&quot;,&quot;El.Salvador&quot;,&quot;no&quot;,&quot;no&quot;,&quot;English&quot;,&quot;other&quot;,-1.04597\n&quot;1043&quot;,&quot;Stone&quot;,&quot;China&quot;,&quot;yes&quot;,&quot;yes&quot;,&quot;English&quot;,&quot;other&quot;,-0.99462\n&quot;1047&quot;,&quot;Hugessen&quot;,&quot;Ghana&quot;,&quot;yes&quot;,&quot;no&quot;,&quot;English&quot;,&quot;Toronto&quot;,-1.20831\n&quot;1049&quot;,&quot;Heald&quot;,&quot;Sri.Lanka&quot;,&quot;no&quot;,&quot;no&quot;,&quot;English&quot;,&quot;Toronto&quot;,-0.75377\n&quot;1067&quot;,&quot;Heald&quot;,&quot;India&quot;,&quot;yes&quot;,&quot;yes&quot;,&quot;English&quot;,&quot;Toronto&quot;,-0.53222\n&quot;1074&quot;,&quot;Hugessen&quot;,&quot;Lebanon&quot;,&quot;yes&quot;,&quot;yes&quot;,&quot;French&quot;,&quot;Montreal&quot;,-1.09861\n&quot;1088&quot;,&quot;Stone&quot;,&quot;Sri.Lanka&quot;,&quot;no&quot;,&quot;no&quot;,&quot;English&quot;,&quot;Toronto&quot;,-0.75377\n&quot;1095&quot;,&quot;Hugessen&quot;,&quot;El.Salvador&quot;,&quot;yes&quot;,&quot;no&quot;,&quot;French&quot;,&quot;Montreal&quot;,-1.04597\n&quot;1104&quot;,&quot;Hugessen&quot;,&quot;Somalia&quot;,&quot;no&quot;,&quot;no&quot;,&quot;French&quot;,&quot;Montreal&quot;,-0.99462\n&quot;1110&quot;,&quot;Heald&quot;,&quot;El.Salvador&quot;,&quot;yes&quot;,&quot;no&quot;,&quot;English&quot;,&quot;other&quot;,-1.04597\n&quot;1138&quot;,&quot;Stone&quot;,&quot;Iran&quot;,&quot;no&quot;,&quot;no&quot;,&quot;English&quot;,&quot;Toronto&quot;,-0.66329\n&quot;1139&quot;,&quot;Mahoney&quot;,&quot;Lebanon&quot;,&quot;no&quot;,&quot;no&quot;,&quot;English&quot;,&quot;Toronto&quot;,-1.09861\n&quot;1145&quot;,&quot;Pratte&quot;,&quot;Czechoslovakia&quot;,&quot;yes&quot;,&quot;yes&quot;,&quot;French&quot;,&quot;Montreal&quot;,0.40547\n&quot;1162&quot;,&quot;Hugessen&quot;,&quot;Ghana&quot;,&quot;no&quot;,&quot;no&quot;,&quot;French&quot;,&quot;Montreal&quot;,-1.20831\n&quot;1165&quot;,&quot;Hugessen&quot;,&quot;Somalia&quot;,&quot;no&quot;,&quot;no&quot;,&quot;French&quot;,&quot;Montreal&quot;,-0.99462\n&quot;1167&quot;,&quot;Hugessen&quot;,&quot;Czechoslovakia&quot;,&quot;yes&quot;,&quot;yes&quot;,&quot;French&quot;,&quot;Montreal&quot;,0.40547\n&quot;1172&quot;,&quot;Iacobucci&quot;,&quot;Lebanon&quot;,&quot;yes&quot;,&quot;no&quot;,&quot;English&quot;,&quot;Toronto&quot;,-1.09861\n&quot;1174&quot;,&quot;Stone&quot;,&quot;China&quot;,&quot;no&quot;,&quot;no&quot;,&quot;English&quot;,&quot;other&quot;,-0.99462\n&quot;1180&quot;,&quot;Mahoney&quot;,&quot;Lebanon&quot;,&quot;no&quot;,&quot;no&quot;,&quot;English&quot;,&quot;Toronto&quot;,-1.09861\n&quot;1185&quot;,&quot;Mahoney&quot;,&quot;El.Salvador&quot;,&quot;yes&quot;,&quot;yes&quot;,&quot;English&quot;,&quot;Toronto&quot;,-1.04597\n&quot;1194&quot;,&quot;Mahoney&quot;,&quot;Somalia&quot;,&quot;no&quot;,&quot;no&quot;,&quot;English&quot;,&quot;Toronto&quot;,-0.99462\n&quot;1202&quot;,&quot;Hugessen&quot;,&quot;Czechoslovakia&quot;,&quot;yes&quot;,&quot;yes&quot;,&quot;French&quot;,&quot;Montreal&quot;,0.40547\n&quot;1205&quot;,&quot;MacGuigan&quot;,&quot;El.Salvador&quot;,&quot;no&quot;,&quot;no&quot;,&quot;English&quot;,&quot;Toronto&quot;,-1.04597\n&quot;1214&quot;,&quot;Hugessen&quot;,&quot;Sri.Lanka&quot;,&quot;no&quot;,&quot;no&quot;,&quot;French&quot;,&quot;Montreal&quot;,-0.75377\n&quot;1218&quot;,&quot;Mahoney&quot;,&quot;Sri.Lanka&quot;,&quot;no&quot;,&quot;no&quot;,&quot;English&quot;,&quot;Toronto&quot;,-0.75377\n&quot;1229&quot;,&quot;Pratte&quot;,&quot;Somalia&quot;,&quot;yes&quot;,&quot;no&quot;,&quot;French&quot;,&quot;Toronto&quot;,-0.99462\n&quot;1231&quot;,&quot;Mahoney&quot;,&quot;Lebanon&quot;,&quot;no&quot;,&quot;no&quot;,&quot;English&quot;,&quot;Toronto&quot;,-1.09861\n&quot;1244&quot;,&quot;Pratte&quot;,&quot;Czechoslovakia&quot;,&quot;no&quot;,&quot;no&quot;,&quot;French&quot;,&quot;Montreal&quot;,0.40547\n&quot;1250&quot;,&quot;Heald&quot;,&quot;China&quot;,&quot;no&quot;,&quot;no&quot;,&quot;English&quot;,&quot;Toronto&quot;,-0.99462\n&quot;1262&quot;,&quot;MacGuigan&quot;,&quot;Guatemala&quot;,&quot;no&quot;,&quot;no&quot;,&quot;English&quot;,&quot;Toronto&quot;,-1.90096\n&quot;1269&quot;,&quot;MacGuigan&quot;,&quot;El.Salvador&quot;,&quot;no&quot;,&quot;yes&quot;,&quot;English&quot;,&quot;Toronto&quot;,-1.04597\n&quot;1271&quot;,&quot;MacGuigan&quot;,&quot;Lebanon&quot;,&quot;no&quot;,&quot;no&quot;,&quot;English&quot;,&quot;Toronto&quot;,-1.09861\n&quot;1273&quot;,&quot;Desjardins&quot;,&quot;Iran&quot;,&quot;no&quot;,&quot;no&quot;,&quot;English&quot;,&quot;Toronto&quot;,-0.66329\n&quot;1282&quot;,&quot;Stone&quot;,&quot;Sri.Lanka&quot;,&quot;yes&quot;,&quot;yes&quot;,&quot;English&quot;,&quot;Toronto&quot;,-0.75377\n&quot;1283&quot;,&quot;Desjardins&quot;,&quot;Nigeria&quot;,&quot;yes&quot;,&quot;no&quot;,&quot;English&quot;,&quot;Toronto&quot;,-1.20831\n&quot;1284&quot;,&quot;Mahoney&quot;,&quot;Sri.Lanka&quot;,&quot;yes&quot;,&quot;yes&quot;,&quot;English&quot;,&quot;Toronto&quot;,-0.75377\n&quot;1286&quot;,&quot;Pratte&quot;,&quot;Lebanon&quot;,&quot;no&quot;,&quot;no&quot;,&quot;French&quot;,&quot;Montreal&quot;,-1.09861\n&quot;1287&quot;,&quot;Iacobucci&quot;,&quot;Lebanon&quot;,&quot;no&quot;,&quot;no&quot;,&quot;English&quot;,&quot;Toronto&quot;,-1.09861\n&quot;1292&quot;,&quot;Iacobucci&quot;,&quot;China&quot;,&quot;no&quot;,&quot;no&quot;,&quot;English&quot;,&quot;other&quot;,-0.99462\n&quot;1297&quot;,&quot;Heald&quot;,&quot;China&quot;,&quot;no&quot;,&quot;no&quot;,&quot;English&quot;,&quot;other&quot;,-0.99462\n&quot;1307&quot;,&quot;Desjardins&quot;,&quot;Lebanon&quot;,&quot;no&quot;,&quot;yes&quot;,&quot;French&quot;,&quot;Montreal&quot;,-1.09861\n&quot;1309&quot;,&quot;Desjardins&quot;,&quot;El.Salvador&quot;,&quot;yes&quot;,&quot;no&quot;,&quot;English&quot;,&quot;Montreal&quot;,-1.04597\n&quot;1311&quot;,&quot;MacGuigan&quot;,&quot;Somalia&quot;,&quot;no&quot;,&quot;yes&quot;,&quot;English&quot;,&quot;Toronto&quot;,-0.99462\n&quot;1314&quot;,&quot;Heald&quot;,&quot;Pakistan&quot;,&quot;no&quot;,&quot;yes&quot;,&quot;English&quot;,&quot;Toronto&quot;,-0.48955\n&quot;1323&quot;,&quot;MacGuigan&quot;,&quot;Czechoslovakia&quot;,&quot;no&quot;,&quot;no&quot;,&quot;French&quot;,&quot;Montreal&quot;,0.40547\n&quot;1332&quot;,&quot;MacGuigan&quot;,&quot;China&quot;,&quot;no&quot;,&quot;yes&quot;,&quot;English&quot;,&quot;other&quot;,-0.99462\n&quot;1340&quot;,&quot;Marceau&quot;,&quot;Somalia&quot;,&quot;no&quot;,&quot;yes&quot;,&quot;English&quot;,&quot;Toronto&quot;,-0.99462\n&quot;1342&quot;,&quot;MacGuigan&quot;,&quot;China&quot;,&quot;no&quot;,&quot;yes&quot;,&quot;English&quot;,&quot;Toronto&quot;,-0.99462\n&quot;1348&quot;,&quot;Desjardins&quot;,&quot;Lebanon&quot;,&quot;no&quot;,&quot;no&quot;,&quot;French&quot;,&quot;Montreal&quot;,-1.09861\n&quot;1355&quot;,&quot;MacGuigan&quot;,&quot;Sri.Lanka&quot;,&quot;yes&quot;,&quot;no&quot;,&quot;English&quot;,&quot;Montreal&quot;,-0.75377\n&quot;1357&quot;,&quot;Desjardins&quot;,&quot;Sri.Lanka&quot;,&quot;no&quot;,&quot;no&quot;,&quot;French&quot;,&quot;Montreal&quot;,-0.75377\n&quot;1363&quot;,&quot;Stone&quot;,&quot;Sri.Lanka&quot;,&quot;yes&quot;,&quot;no&quot;,&quot;English&quot;,&quot;Toronto&quot;,-0.75377\n&quot;1374&quot;,&quot;Desjardins&quot;,&quot;Nicaragua&quot;,&quot;no&quot;,&quot;yes&quot;,&quot;English&quot;,&quot;other&quot;,-1.58563\n&quot;1377&quot;,&quot;Desjardins&quot;,&quot;Sri.Lanka&quot;,&quot;no&quot;,&quot;no&quot;,&quot;English&quot;,&quot;Toronto&quot;,-0.75377\n&quot;1380&quot;,&quot;Stone&quot;,&quot;Somalia&quot;,&quot;no&quot;,&quot;no&quot;,&quot;English&quot;,&quot;Toronto&quot;,-0.99462\n&quot;1383&quot;,&quot;Marceau&quot;,&quot;Argentina&quot;,&quot;yes&quot;,&quot;yes&quot;,&quot;French&quot;,&quot;Montreal&quot;,-0.80012\n&quot;1384&quot;,&quot;Desjardins&quot;,&quot;Argentina&quot;,&quot;yes&quot;,&quot;yes&quot;,&quot;French&quot;,&quot;Montreal&quot;,-0.80012\n&quot;1387&quot;,&quot;Desjardins&quot;,&quot;Somalia&quot;,&quot;yes&quot;,&quot;yes&quot;,&quot;English&quot;,&quot;Toronto&quot;,-0.99462\n&quot;1388&quot;,&quot;Stone&quot;,&quot;Lebanon&quot;,&quot;no&quot;,&quot;yes&quot;,&quot;English&quot;,&quot;Toronto&quot;,-1.09861\n&quot;1405&quot;,&quot;Hugessen&quot;,&quot;Iran&quot;,&quot;yes&quot;,&quot;no&quot;,&quot;French&quot;,&quot;Montreal&quot;,-0.66329\n&quot;1413&quot;,&quot;Hugessen&quot;,&quot;Lebanon&quot;,&quot;no&quot;,&quot;no&quot;,&quot;French&quot;,&quot;Montreal&quot;,-1.09861\n&quot;1422&quot;,&quot;Hugessen&quot;,&quot;Czechoslovakia&quot;,&quot;no&quot;,&quot;no&quot;,&quot;French&quot;,&quot;Montreal&quot;,0.40547\n&quot;1430&quot;,&quot;Heald&quot;,&quot;Guatemala&quot;,&quot;no&quot;,&quot;no&quot;,&quot;English&quot;,&quot;Toronto&quot;,-1.90096\n&quot;1431&quot;,&quot;Desjardins&quot;,&quot;China&quot;,&quot;yes&quot;,&quot;no&quot;,&quot;English&quot;,&quot;Toronto&quot;,-0.99462\n&quot;1444&quot;,&quot;Urie&quot;,&quot;China&quot;,&quot;no&quot;,&quot;no&quot;,&quot;English&quot;,&quot;Montreal&quot;,-0.99462\n&quot;1446&quot;,&quot;Stone&quot;,&quot;Iran&quot;,&quot;no&quot;,&quot;no&quot;,&quot;English&quot;,&quot;other&quot;,-0.66329\n&quot;1452&quot;,&quot;Heald&quot;,&quot;Sri.Lanka&quot;,&quot;yes&quot;,&quot;yes&quot;,&quot;English&quot;,&quot;Toronto&quot;,-0.75377\n&quot;1459&quot;,&quot;Hugessen&quot;,&quot;Lebanon&quot;,&quot;no&quot;,&quot;no&quot;,&quot;French&quot;,&quot;Montreal&quot;,-1.09861\n&quot;1462&quot;,&quot;Desjardins&quot;,&quot;El.Salvador&quot;,&quot;no&quot;,&quot;no&quot;,&quot;English&quot;,&quot;other&quot;,-1.04597\n&quot;1466&quot;,&quot;Marceau&quot;,&quot;Czechoslovakia&quot;,&quot;no&quot;,&quot;yes&quot;,&quot;French&quot;,&quot;Montreal&quot;,0.40547\n&quot;1468&quot;,&quot;Hugessen&quot;,&quot;China&quot;,&quot;no&quot;,&quot;no&quot;,&quot;French&quot;,&quot;Montreal&quot;,-0.99462\n&quot;1473&quot;,&quot;Urie&quot;,&quot;China&quot;,&quot;yes&quot;,&quot;yes&quot;,&quot;English&quot;,&quot;other&quot;,-0.99462\n&quot;1481&quot;,&quot;Marceau&quot;,&quot;Somalia&quot;,&quot;no&quot;,&quot;yes&quot;,&quot;French&quot;,&quot;Montreal&quot;,-0.99462\n&quot;1486&quot;,&quot;Marceau&quot;,&quot;Lebanon&quot;,&quot;yes&quot;,&quot;no&quot;,&quot;French&quot;,&quot;Montreal&quot;,-1.09861\n&quot;1487&quot;,&quot;Stone&quot;,&quot;Sri.Lanka&quot;,&quot;yes&quot;,&quot;yes&quot;,&quot;English&quot;,&quot;Toronto&quot;,-0.75377\n&quot;1494&quot;,&quot;Hugessen&quot;,&quot;Poland&quot;,&quot;no&quot;,&quot;no&quot;,&quot;French&quot;,&quot;Montreal&quot;,-1.81529\n&quot;1505&quot;,&quot;MacGuigan&quot;,&quot;India&quot;,&quot;yes&quot;,&quot;yes&quot;,&quot;English&quot;,&quot;Toronto&quot;,-0.53222\n&quot;1509&quot;,&quot;Pratte&quot;,&quot;Lebanon&quot;,&quot;yes&quot;,&quot;no&quot;,&quot;French&quot;,&quot;Montreal&quot;,-1.09861\n&quot;1512&quot;,&quot;Desjardins&quot;,&quot;Sri.Lanka&quot;,&quot;no&quot;,&quot;yes&quot;,&quot;English&quot;,&quot;other&quot;,-0.75377\n&quot;1520&quot;,&quot;Desjardins&quot;,&quot;Lebanon&quot;,&quot;no&quot;,&quot;yes&quot;,&quot;English&quot;,&quot;Toronto&quot;,-1.09861\n&quot;1522&quot;,&quot;Desjardins&quot;,&quot;Lebanon&quot;,&quot;no&quot;,&quot;yes&quot;,&quot;English&quot;,&quot;Toronto&quot;,-1.09861\n&quot;1531&quot;,&quot;Desjardins&quot;,&quot;Sri.Lanka&quot;,&quot;yes&quot;,&quot;yes&quot;,&quot;English&quot;,&quot;Toronto&quot;,-0.75377\n&quot;1533&quot;,&quot;Pratte&quot;,&quot;China&quot;,&quot;no&quot;,&quot;yes&quot;,&quot;English&quot;,&quot;Toronto&quot;,-0.99462\n&quot;1535&quot;,&quot;Stone&quot;,&quot;Sri.Lanka&quot;,&quot;no&quot;,&quot;no&quot;,&quot;English&quot;,&quot;Toronto&quot;,-0.75377\n&quot;1542&quot;,&quot;Pratte&quot;,&quot;Lebanon&quot;,&quot;yes&quot;,&quot;no&quot;,&quot;French&quot;,&quot;Montreal&quot;,-1.09861\n&quot;1546&quot;,&quot;MacGuigan&quot;,&quot;Czechoslovakia&quot;,&quot;no&quot;,&quot;no&quot;,&quot;French&quot;,&quot;Montreal&quot;,0.40547\n&quot;1548&quot;,&quot;Desjardins&quot;,&quot;Iran&quot;,&quot;no&quot;,&quot;no&quot;,&quot;French&quot;,&quot;Montreal&quot;,-0.66329\n&quot;1552&quot;,&quot;Pratte&quot;,&quot;Somalia&quot;,&quot;yes&quot;,&quot;no&quot;,&quot;French&quot;,&quot;Montreal&quot;,-0.99462\n&quot;1569&quot;,&quot;Iacobucci&quot;,&quot;Somalia&quot;,&quot;no&quot;,&quot;no&quot;,&quot;English&quot;,&quot;Toronto&quot;,-0.99462\n&quot;1570&quot;,&quot;Pratte&quot;,&quot;Iran&quot;,&quot;yes&quot;,&quot;no&quot;,&quot;English&quot;,&quot;Montreal&quot;,-0.66329\n&quot;1576&quot;,&quot;Heald&quot;,&quot;Lebanon&quot;,&quot;no&quot;,&quot;no&quot;,&quot;English&quot;,&quot;Toronto&quot;,-1.09861\n&quot;1578&quot;,&quot;Heald&quot;,&quot;Sri.Lanka&quot;,&quot;yes&quot;,&quot;yes&quot;,&quot;English&quot;,&quot;Toronto&quot;,-0.75377\n&quot;1580&quot;,&quot;Iacobucci&quot;,&quot;Lebanon&quot;,&quot;no&quot;,&quot;no&quot;,&quot;English&quot;,&quot;Toronto&quot;,-1.09861\n&quot;1589&quot;,&quot;Mahoney&quot;,&quot;Sri.Lanka&quot;,&quot;no&quot;,&quot;no&quot;,&quot;English&quot;,&quot;Toronto&quot;,-0.75377\n&quot;1599&quot;,&quot;Heald&quot;,&quot;Sri.Lanka&quot;,&quot;yes&quot;,&quot;yes&quot;,&quot;English&quot;,&quot;Toronto&quot;,-0.75377\n&quot;1601&quot;,&quot;MacGuigan&quot;,&quot;El.Salvador&quot;,&quot;yes&quot;,&quot;no&quot;,&quot;French&quot;,&quot;Montreal&quot;,-1.04597\n&quot;1608&quot;,&quot;Desjardins&quot;,&quot;Sri.Lanka&quot;,&quot;yes&quot;,&quot;no&quot;,&quot;English&quot;,&quot;Toronto&quot;,-0.75377\n&quot;1613&quot;,&quot;MacGuigan&quot;,&quot;Somalia&quot;,&quot;no&quot;,&quot;no&quot;,&quot;French&quot;,&quot;Montreal&quot;,-0.99462\n&quot;1630&quot;,&quot;Iacobucci&quot;,&quot;China&quot;,&quot;no&quot;,&quot;no&quot;,&quot;English&quot;,&quot;Toronto&quot;,-0.99462\n&quot;1633&quot;,&quot;Marceau&quot;,&quot;Pakistan&quot;,&quot;yes&quot;,&quot;yes&quot;,&quot;French&quot;,&quot;Montreal&quot;,-0.48955\n&quot;1637&quot;,&quot;Urie&quot;,&quot;China&quot;,&quot;no&quot;,&quot;no&quot;,&quot;English&quot;,&quot;Toronto&quot;,-0.99462\n&quot;1639&quot;,&quot;Desjardins&quot;,&quot;Sri.Lanka&quot;,&quot;no&quot;,&quot;yes&quot;,&quot;English&quot;,&quot;Toronto&quot;,-0.75377\n&quot;1643&quot;,&quot;Heald&quot;,&quot;Argentina&quot;,&quot;yes&quot;,&quot;no&quot;,&quot;English&quot;,&quot;Toronto&quot;,-0.80012\n&quot;1654&quot;,&quot;Marceau&quot;,&quot;China&quot;,&quot;no&quot;,&quot;yes&quot;,&quot;French&quot;,&quot;Montreal&quot;,-0.99462\n&quot;1668&quot;,&quot;Heald&quot;,&quot;Lebanon&quot;,&quot;no&quot;,&quot;no&quot;,&quot;English&quot;,&quot;Toronto&quot;,-1.09861\n&quot;1682&quot;,&quot;Desjardins&quot;,&quot;Sri.Lanka&quot;,&quot;no&quot;,&quot;yes&quot;,&quot;English&quot;,&quot;Toronto&quot;,-0.75377\n&quot;1714&quot;,&quot;Iacobucci&quot;,&quot;China&quot;,&quot;no&quot;,&quot;no&quot;,&quot;English&quot;,&quot;Toronto&quot;,-0.99462\n&quot;1715&quot;,&quot;MacGuigan&quot;,&quot;China&quot;,&quot;yes&quot;,&quot;yes&quot;,&quot;French&quot;,&quot;Montreal&quot;,-0.99462\n&quot;1723&quot;,&quot;MacGuigan&quot;,&quot;China&quot;,&quot;no&quot;,&quot;no&quot;,&quot;French&quot;,&quot;Montreal&quot;,-0.99462\n&quot;1731&quot;,&quot;MacGuigan&quot;,&quot;Bulgaria&quot;,&quot;no&quot;,&quot;no&quot;,&quot;French&quot;,&quot;Montreal&quot;,-2.09074\n&quot;1742&quot;,&quot;Marceau&quot;,&quot;Bulgaria&quot;,&quot;no&quot;,&quot;no&quot;,&quot;French&quot;,&quot;Montreal&quot;,-2.09074\n&quot;1743&quot;,&quot;Pratte&quot;,&quot;Poland&quot;,&quot;no&quot;,&quot;no&quot;,&quot;English&quot;,&quot;Toronto&quot;,-1.81529\n&quot;1763&quot;,&quot;MacGuigan&quot;,&quot;Bulgaria&quot;,&quot;no&quot;,&quot;no&quot;,&quot;French&quot;,&quot;Montreal&quot;,-2.09074\n&quot;1764&quot;,&quot;Pratte&quot;,&quot;Bulgaria&quot;,&quot;no&quot;,&quot;no&quot;,&quot;French&quot;,&quot;Montreal&quot;,-2.09074\n&quot;1765&quot;,&quot;MacGuigan&quot;,&quot;Bulgaria&quot;,&quot;no&quot;,&quot;no&quot;,&quot;French&quot;,&quot;Montreal&quot;,-2.09074\n&quot;1766&quot;,&quot;Iacobucci&quot;,&quot;Sri.Lanka&quot;,&quot;no&quot;,&quot;no&quot;,&quot;English&quot;,&quot;Toronto&quot;,-0.75377\n&quot;1770&quot;,&quot;Marceau&quot;,&quot;Nigeria&quot;,&quot;no&quot;,&quot;no&quot;,&quot;English&quot;,&quot;Montreal&quot;,-1.20831\n&quot;1771&quot;,&quot;MacGuigan&quot;,&quot;Bulgaria&quot;,&quot;no&quot;,&quot;no&quot;,&quot;French&quot;,&quot;Montreal&quot;,-2.09074\n&quot;1785&quot;,&quot;Pratte&quot;,&quot;China&quot;,&quot;yes&quot;,&quot;yes&quot;,&quot;English&quot;,&quot;Montreal&quot;,-0.99462\n&quot;1790&quot;,&quot;MacGuigan&quot;,&quot;Ghana&quot;,&quot;yes&quot;,&quot;no&quot;,&quot;English&quot;,&quot;Toronto&quot;,-1.20831\n&quot;1793&quot;,&quot;Heald&quot;,&quot;Sri.Lanka&quot;,&quot;no&quot;,&quot;yes&quot;,&quot;English&quot;,&quot;Toronto&quot;,-0.75377\n&quot;1818&quot;,&quot;Heald&quot;,&quot;Pakistan&quot;,&quot;yes&quot;,&quot;no&quot;,&quot;English&quot;,&quot;Toronto&quot;,-0.48955\n&quot;1820&quot;,&quot;Iacobucci&quot;,&quot;El.Salvador&quot;,&quot;no&quot;,&quot;no&quot;,&quot;English&quot;,&quot;Toronto&quot;,-1.04597\n&quot;1829&quot;,&quot;Heald&quot;,&quot;Sri.Lanka&quot;,&quot;yes&quot;,&quot;yes&quot;,&quot;English&quot;,&quot;Toronto&quot;,-0.75377\n&quot;1837&quot;,&quot;Stone&quot;,&quot;El.Salvador&quot;,&quot;no&quot;,&quot;no&quot;,&quot;English&quot;,&quot;other&quot;,-1.04597\n&quot;1838&quot;,&quot;Stone&quot;,&quot;China&quot;,&quot;no&quot;,&quot;no&quot;,&quot;English&quot;,&quot;other&quot;,-0.99462\n&quot;1841&quot;,&quot;Heald&quot;,&quot;Bulgaria&quot;,&quot;no&quot;,&quot;no&quot;,&quot;English&quot;,&quot;Toronto&quot;,-2.09074\n&quot;1848&quot;,&quot;Pratte&quot;,&quot;Sri.Lanka&quot;,&quot;no&quot;,&quot;no&quot;,&quot;English&quot;,&quot;Toronto&quot;,-0.75377\n&quot;1852&quot;,&quot;Hugessen&quot;,&quot;Lebanon&quot;,&quot;no&quot;,&quot;no&quot;,&quot;English&quot;,&quot;Toronto&quot;,-1.09861\n&quot;1855&quot;,&quot;Stone&quot;,&quot;Sri.Lanka&quot;,&quot;no&quot;,&quot;no&quot;,&quot;English&quot;,&quot;Toronto&quot;,-0.75377\n&quot;1872&quot;,&quot;Marceau&quot;,&quot;Somalia&quot;,&quot;no&quot;,&quot;no&quot;,&quot;French&quot;,&quot;Montreal&quot;,-0.99462\n&quot;1880&quot;,&quot;Hugessen&quot;,&quot;Iran&quot;,&quot;yes&quot;,&quot;no&quot;,&quot;French&quot;,&quot;Toronto&quot;,-0.66329\n&quot;1883&quot;,&quot;Stone&quot;,&quot;China&quot;,&quot;no&quot;,&quot;no&quot;,&quot;English&quot;,&quot;Toronto&quot;,-0.99462\n&quot;1886&quot;,&quot;Marceau&quot;,&quot;Poland&quot;,&quot;no&quot;,&quot;no&quot;,&quot;French&quot;,&quot;Montreal&quot;,-1.81529\n&quot;1908&quot;,&quot;Heald&quot;,&quot;China&quot;,&quot;yes&quot;,&quot;no&quot;,&quot;English&quot;,&quot;Toronto&quot;,-0.99462\n&quot;1913&quot;,&quot;Mahoney&quot;,&quot;China&quot;,&quot;yes&quot;,&quot;yes&quot;,&quot;English&quot;,&quot;Toronto&quot;,-0.99462\n&quot;1914&quot;,&quot;Mahoney&quot;,&quot;Sri.Lanka&quot;,&quot;yes&quot;,&quot;yes&quot;,&quot;English&quot;,&quot;Toronto&quot;,-0.75377\n&quot;1922&quot;,&quot;Mahoney&quot;,&quot;China&quot;,&quot;yes&quot;,&quot;yes&quot;,&quot;English&quot;,&quot;Toronto&quot;,-0.99462\n&quot;1923&quot;,&quot;Heald&quot;,&quot;Sri.Lanka&quot;,&quot;yes&quot;,&quot;yes&quot;,&quot;English&quot;,&quot;Toronto&quot;,-0.75377\n&quot;1924&quot;,&quot;Heald&quot;,&quot;China&quot;,&quot;no&quot;,&quot;no&quot;,&quot;English&quot;,&quot;other&quot;,-0.99462\n&quot;1935&quot;,&quot;Pratte&quot;,&quot;Czechoslovakia&quot;,&quot;no&quot;,&quot;no&quot;,&quot;English&quot;,&quot;Toronto&quot;,0.40547\n&quot;1941&quot;,&quot;Marceau&quot;,&quot;Iran&quot;,&quot;no&quot;,&quot;yes&quot;,&quot;English&quot;,&quot;Toronto&quot;,-0.66329\n&quot;1947&quot;,&quot;Heald&quot;,&quot;Sri.Lanka&quot;,&quot;no&quot;,&quot;no&quot;,&quot;English&quot;,&quot;Toronto&quot;,-0.75377\n&quot;1949&quot;,&quot;Heald&quot;,&quot;Bulgaria&quot;,&quot;no&quot;,&quot;no&quot;,&quot;English&quot;,&quot;other&quot;,-2.09074\n&quot;1951&quot;,&quot;Pratte&quot;,&quot;Bulgaria&quot;,&quot;no&quot;,&quot;no&quot;,&quot;French&quot;,&quot;Montreal&quot;,-2.09074\n&quot;1953&quot;,&quot;Desjardins&quot;,&quot;China&quot;,&quot;no&quot;,&quot;no&quot;,&quot;English&quot;,&quot;Toronto&quot;,-0.99462\n&quot;1954&quot;,&quot;Pratte&quot;,&quot;China&quot;,&quot;no&quot;,&quot;no&quot;,&quot;English&quot;,&quot;Toronto&quot;,-0.99462\n&quot;1962&quot;,&quot;Stone&quot;,&quot;Lebanon&quot;,&quot;yes&quot;,&quot;yes&quot;,&quot;English&quot;,&quot;Toronto&quot;,-1.09861\n&quot;1966&quot;,&quot;MacGuigan&quot;,&quot;Lebanon&quot;,&quot;no&quot;,&quot;no&quot;,&quot;English&quot;,&quot;Toronto&quot;,-1.09861\n&quot;1970&quot;,&quot;Hugessen&quot;,&quot;Sri.Lanka&quot;,&quot;yes&quot;,&quot;no&quot;,&quot;French&quot;,&quot;Montreal&quot;,-0.75377\n&quot;1971&quot;,&quot;Heald&quot;,&quot;Ghana&quot;,&quot;no&quot;,&quot;yes&quot;,&quot;English&quot;,&quot;Toronto&quot;,-1.20831\n&quot;1975&quot;,&quot;Hugessen&quot;,&quot;Bulgaria&quot;,&quot;no&quot;,&quot;no&quot;,&quot;French&quot;,&quot;Montreal&quot;,-2.09074\n&quot;1995&quot;,&quot;Pratte&quot;,&quot;Bulgaria&quot;,&quot;no&quot;,&quot;yes&quot;,&quot;English&quot;,&quot;other&quot;,-2.09074\n&quot;1999&quot;,&quot;Mahoney&quot;,&quot;China&quot;,&quot;no&quot;,&quot;yes&quot;,&quot;English&quot;,&quot;Toronto&quot;,-0.99462\n&quot;2006&quot;,&quot;Hugessen&quot;,&quot;Somalia&quot;,&quot;no&quot;,&quot;yes&quot;,&quot;French&quot;,&quot;Montreal&quot;,-0.99462\n&quot;2014&quot;,&quot;MacGuigan&quot;,&quot;Sri.Lanka&quot;,&quot;no&quot;,&quot;no&quot;,&quot;English&quot;,&quot;Toronto&quot;,-0.75377\n&quot;2049&quot;,&quot;Hugessen&quot;,&quot;Bulgaria&quot;,&quot;no&quot;,&quot;no&quot;,&quot;French&quot;,&quot;Montreal&quot;,-2.09074\n&quot;2050&quot;,&quot;Desjardins&quot;,&quot;Lebanon&quot;,&quot;no&quot;,&quot;yes&quot;,&quot;French&quot;,&quot;Montreal&quot;,-1.09861\n&quot;2054&quot;,&quot;Desjardins&quot;,&quot;China&quot;,&quot;yes&quot;,&quot;no&quot;,&quot;English&quot;,&quot;other&quot;,-0.99462\n&quot;2060&quot;,&quot;Hugessen&quot;,&quot;China&quot;,&quot;yes&quot;,&quot;no&quot;,&quot;English&quot;,&quot;Montreal&quot;,-0.99462\n&quot;2077&quot;,&quot;Stone&quot;,&quot;Sri.Lanka&quot;,&quot;yes&quot;,&quot;no&quot;,&quot;English&quot;,&quot;Toronto&quot;,-0.75377\n&quot;2079&quot;,&quot;Desjardins&quot;,&quot;Sri.Lanka&quot;,&quot;no&quot;,&quot;no&quot;,&quot;French&quot;,&quot;Montreal&quot;,-0.75377\n&quot;2087&quot;,&quot;Stone&quot;,&quot;El.Salvador&quot;,&quot;yes&quot;,&quot;no&quot;,&quot;English&quot;,&quot;Toronto&quot;,-1.04597\n&quot;2088&quot;,&quot;Desjardins&quot;,&quot;China&quot;,&quot;no&quot;,&quot;no&quot;,&quot;English&quot;,&quot;other&quot;,-0.99462\n&quot;2089&quot;,&quot;Stone&quot;,&quot;Bulgaria&quot;,&quot;no&quot;,&quot;no&quot;,&quot;English&quot;,&quot;Toronto&quot;,-2.09074\n&quot;2115&quot;,&quot;Marceau&quot;,&quot;China&quot;,&quot;no&quot;,&quot;no&quot;,&quot;French&quot;,&quot;Montreal&quot;,-0.99462\n&quot;2117&quot;,&quot;Stone&quot;,&quot;Sri.Lanka&quot;,&quot;no&quot;,&quot;no&quot;,&quot;English&quot;,&quot;Toronto&quot;,-0.75377\n&quot;2125&quot;,&quot;Heald&quot;,&quot;China&quot;,&quot;no&quot;,&quot;no&quot;,&quot;English&quot;,&quot;other&quot;,-0.99462\n&quot;2131&quot;,&quot;Pratte&quot;,&quot;China&quot;,&quot;no&quot;,&quot;no&quot;,&quot;English&quot;,&quot;Toronto&quot;,-0.99462\n&quot;2133&quot;,&quot;Desjardins&quot;,&quot;El.Salvador&quot;,&quot;no&quot;,&quot;no&quot;,&quot;English&quot;,&quot;other&quot;,-1.04597\n&quot;2142&quot;,&quot;Desjardins&quot;,&quot;Bulgaria&quot;,&quot;no&quot;,&quot;no&quot;,&quot;English&quot;,&quot;other&quot;,-2.09074\n&quot;2148&quot;,&quot;Pratte&quot;,&quot;China&quot;,&quot;yes&quot;,&quot;no&quot;,&quot;French&quot;,&quot;Montreal&quot;,-0.99462\n&quot;2150&quot;,&quot;Pratte&quot;,&quot;Lebanon&quot;,&quot;yes&quot;,&quot;no&quot;,&quot;English&quot;,&quot;Toronto&quot;,-1.09861\n&quot;2151&quot;,&quot;MacGuigan&quot;,&quot;El.Salvador&quot;,&quot;no&quot;,&quot;no&quot;,&quot;English&quot;,&quot;Toronto&quot;,-1.04597\n&quot;2163&quot;,&quot;Stone&quot;,&quot;China&quot;,&quot;no&quot;,&quot;no&quot;,&quot;English&quot;,&quot;Toronto&quot;,-0.99462\n&quot;2174&quot;,&quot;Pratte&quot;,&quot;Bulgaria&quot;,&quot;yes&quot;,&quot;no&quot;,&quot;English&quot;,&quot;other&quot;,-2.09074\n&quot;2186&quot;,&quot;Stone&quot;,&quot;Somalia&quot;,&quot;no&quot;,&quot;no&quot;,&quot;English&quot;,&quot;Toronto&quot;,-0.99462\n&quot;2187&quot;,&quot;Mahoney&quot;,&quot;Ghana&quot;,&quot;no&quot;,&quot;no&quot;,&quot;English&quot;,&quot;Toronto&quot;,-1.20831\n&quot;2196&quot;,&quot;Stone&quot;,&quot;El.Salvador&quot;,&quot;yes&quot;,&quot;no&quot;,&quot;English&quot;,&quot;Toronto&quot;,-1.04597\n&quot;2208&quot;,&quot;Hugessen&quot;,&quot;China&quot;,&quot;no&quot;,&quot;no&quot;,&quot;French&quot;,&quot;Montreal&quot;,-0.99462\n&quot;2209&quot;,&quot;Hugessen&quot;,&quot;Poland&quot;,&quot;yes&quot;,&quot;no&quot;,&quot;French&quot;,&quot;Montreal&quot;,-1.81529\n&quot;2214&quot;,&quot;Mahoney&quot;,&quot;Pakistan&quot;,&quot;yes&quot;,&quot;no&quot;,&quot;English&quot;,&quot;Toronto&quot;,-0.48955\n&quot;2229&quot;,&quot;MacGuigan&quot;,&quot;Bulgaria&quot;,&quot;no&quot;,&quot;no&quot;,&quot;English&quot;,&quot;Montreal&quot;,-2.09074\n&quot;2231&quot;,&quot;Desjardins&quot;,&quot;Bulgaria&quot;,&quot;no&quot;,&quot;no&quot;,&quot;English&quot;,&quot;Toronto&quot;,-2.09074\n&quot;2274&quot;,&quot;MacGuigan&quot;,&quot;Iran&quot;,&quot;no&quot;,&quot;no&quot;,&quot;English&quot;,&quot;Toronto&quot;,-0.66329\n&quot;2278&quot;,&quot;Mahoney&quot;,&quot;Somalia&quot;,&quot;yes&quot;,&quot;no&quot;,&quot;English&quot;,&quot;Toronto&quot;,-0.99462\n&quot;2279&quot;,&quot;Heald&quot;,&quot;Iran&quot;,&quot;no&quot;,&quot;no&quot;,&quot;English&quot;,&quot;other&quot;,-0.66329\n&quot;2289&quot;,&quot;MacGuigan&quot;,&quot;China&quot;,&quot;no&quot;,&quot;no&quot;,&quot;English&quot;,&quot;Toronto&quot;,-0.99462\n&quot;2290&quot;,&quot;MacGuigan&quot;,&quot;China&quot;,&quot;no&quot;,&quot;no&quot;,&quot;English&quot;,&quot;Toronto&quot;,-0.99462\n&quot;2291&quot;,&quot;MacGuigan&quot;,&quot;Somalia&quot;,&quot;yes&quot;,&quot;yes&quot;,&quot;English&quot;,&quot;Toronto&quot;,-0.99462\n&quot;2293&quot;,&quot;MacGuigan&quot;,&quot;China&quot;,&quot;no&quot;,&quot;no&quot;,&quot;English&quot;,&quot;other&quot;,-0.99462\n&quot;2297&quot;,&quot;MacGuigan&quot;,&quot;Nigeria&quot;,&quot;no&quot;,&quot;no&quot;,&quot;French&quot;,&quot;Montreal&quot;,-1.20831\n&quot;2313&quot;,&quot;MacGuigan&quot;,&quot;Nigeria&quot;,&quot;yes&quot;,&quot;no&quot;,&quot;French&quot;,&quot;Montreal&quot;,-1.20831\n&quot;2315&quot;,&quot;MacGuigan&quot;,&quot;China&quot;,&quot;no&quot;,&quot;yes&quot;,&quot;English&quot;,&quot;Toronto&quot;,-0.99462\n&quot;2321&quot;,&quot;Desjardins&quot;,&quot;Sri.Lanka&quot;,&quot;no&quot;,&quot;no&quot;,&quot;English&quot;,&quot;Toronto&quot;,-0.75377\n&quot;2322&quot;,&quot;MacGuigan&quot;,&quot;China&quot;,&quot;yes&quot;,&quot;yes&quot;,&quot;French&quot;,&quot;Toronto&quot;,-0.99462\n&quot;2327&quot;,&quot;MacGuigan&quot;,&quot;Sri.Lanka&quot;,&quot;yes&quot;,&quot;no&quot;,&quot;French&quot;,&quot;Montreal&quot;,-0.75377\n&quot;2330&quot;,&quot;Pratte&quot;,&quot;Bulgaria&quot;,&quot;no&quot;,&quot;no&quot;,&quot;French&quot;,&quot;Montreal&quot;,-2.09074\n&quot;2336&quot;,&quot;Pratte&quot;,&quot;Argentina&quot;,&quot;no&quot;,&quot;no&quot;,&quot;English&quot;,&quot;Toronto&quot;,-0.80012\n&quot;2338&quot;,&quot;Pratte&quot;,&quot;China&quot;,&quot;no&quot;,&quot;no&quot;,&quot;English&quot;,&quot;Toronto&quot;,-0.99462\n&quot;2348&quot;,&quot;Pratte&quot;,&quot;Bulgaria&quot;,&quot;no&quot;,&quot;no&quot;,&quot;French&quot;,&quot;Montreal&quot;,-2.09074\n&quot;2350&quot;,&quot;Hugessen&quot;,&quot;China&quot;,&quot;no&quot;,&quot;no&quot;,&quot;English&quot;,&quot;Toronto&quot;,-0.99462\n&quot;2366&quot;,&quot;Hugessen&quot;,&quot;Bulgaria&quot;,&quot;no&quot;,&quot;no&quot;,&quot;French&quot;,&quot;Montreal&quot;,-2.09074\n&quot;2370&quot;,&quot;Pratte&quot;,&quot;Sri.Lanka&quot;,&quot;no&quot;,&quot;yes&quot;,&quot;English&quot;,&quot;Toronto&quot;,-0.75377\n&quot;2374&quot;,&quot;Pratte&quot;,&quot;Bulgaria&quot;,&quot;no&quot;,&quot;no&quot;,&quot;French&quot;,&quot;Montreal&quot;,-2.09074\n&quot;2388&quot;,&quot;MacGuigan&quot;,&quot;Bulgaria&quot;,&quot;no&quot;,&quot;no&quot;,&quot;French&quot;,&quot;Montreal&quot;,-2.09074\n&quot;2390&quot;,&quot;MacGuigan&quot;,&quot;Lebanon&quot;,&quot;no&quot;,&quot;yes&quot;,&quot;English&quot;,&quot;Toronto&quot;,-1.09861\n&quot;2394&quot;,&quot;Pratte&quot;,&quot;China&quot;,&quot;no&quot;,&quot;no&quot;,&quot;French&quot;,&quot;Montreal&quot;,-0.99462\n&quot;2408&quot;,&quot;MacGuigan&quot;,&quot;Lebanon&quot;,&quot;no&quot;,&quot;no&quot;,&quot;English&quot;,&quot;Toronto&quot;,-1.09861\n&quot;2409&quot;,&quot;Hugessen&quot;,&quot;Fiji&quot;,&quot;no&quot;,&quot;no&quot;,&quot;English&quot;,&quot;other&quot;,-0.66329\n&quot;2411&quot;,&quot;MacGuigan&quot;,&quot;Czechoslovakia&quot;,&quot;no&quot;,&quot;no&quot;,&quot;French&quot;,&quot;Montreal&quot;,0.40547\n&quot;2412&quot;,&quot;MacGuigan&quot;,&quot;El.Salvador&quot;,&quot;yes&quot;,&quot;no&quot;,&quot;English&quot;,&quot;Toronto&quot;,-1.04597\n&quot;2418&quot;,&quot;MacGuigan&quot;,&quot;China&quot;,&quot;no&quot;,&quot;no&quot;,&quot;English&quot;,&quot;Toronto&quot;,-0.99462\n&quot;2431&quot;,&quot;MacGuigan&quot;,&quot;Bulgaria&quot;,&quot;no&quot;,&quot;no&quot;,&quot;French&quot;,&quot;Montreal&quot;,-2.09074\n&quot;2442&quot;,&quot;Mahoney&quot;,&quot;China&quot;,&quot;no&quot;,&quot;no&quot;,&quot;English&quot;,&quot;Toronto&quot;,-0.99462\n&quot;2443&quot;,&quot;MacGuigan&quot;,&quot;China&quot;,&quot;yes&quot;,&quot;yes&quot;,&quot;English&quot;,&quot;Toronto&quot;,-0.99462\n&quot;2445&quot;,&quot;Desjardins&quot;,&quot;Bulgaria&quot;,&quot;no&quot;,&quot;yes&quot;,&quot;French&quot;,&quot;Montreal&quot;,-2.09074\n&quot;2454&quot;,&quot;Mahoney&quot;,&quot;Somalia&quot;,&quot;yes&quot;,&quot;no&quot;,&quot;English&quot;,&quot;other&quot;,-0.99462\n&quot;2456&quot;,&quot;Heald&quot;,&quot;China&quot;,&quot;no&quot;,&quot;no&quot;,&quot;English&quot;,&quot;Toronto&quot;,-0.99462\n&quot;2461&quot;,&quot;Hugessen&quot;,&quot;China&quot;,&quot;no&quot;,&quot;yes&quot;,&quot;English&quot;,&quot;Toronto&quot;,-0.99462\n\n</div>",
       "datasetInfos": [],
       "metadata": {},
       "removedWidgets": [],
       "type": "html"
      }
     },
     "output_type": "display_data"
    }
   ],
   "source": [
    "%fs head /databricks-datasets/Rdatasets/data-001/csv/car/Greene.csv"
   ]
  },
  {
   "cell_type": "code",
   "execution_count": 0,
   "metadata": {
    "application/vnd.databricks.v1+cell": {
     "cellMetadata": {
      "byteLimit": 2048000,
      "rowLimit": 10000
     },
     "inputWidgets": {},
     "nuid": "643354c8-6ed7-4c4c-b19f-1607bb9f5b91",
     "showTitle": false,
     "title": ""
    }
   },
   "outputs": [
    {
     "output_type": "display_data",
     "data": {
      "text/html": [
       "<style scoped>\n  .table-result-container {\n    max-height: 300px;\n    overflow: auto;\n  }\n  table, th, td {\n    border: 1px solid black;\n    border-collapse: collapse;\n  }\n  th, td {\n    padding: 5px;\n  }\n  th {\n    text-align: left;\n  }\n</style><div class='table-result-container'><table class='table-result'><thead style='background-color: white'><tr><th>_c0</th><th>judge</th><th>nation</th><th>rater</th><th>decision</th><th>language</th><th>location</th><th>success</th></tr></thead><tbody><tr><td>15</td><td>Heald</td><td>Sri.Lanka</td><td>no</td><td>no</td><td>English</td><td>Toronto</td><td>-0.75377</td></tr><tr><td>76</td><td>Pratte</td><td>Sri.Lanka</td><td>no</td><td>no</td><td>English</td><td>Toronto</td><td>-0.75377</td></tr><tr><td>89</td><td>Iacobucci</td><td>Sri.Lanka</td><td>no</td><td>no</td><td>English</td><td>Toronto</td><td>-0.75377</td></tr><tr><td>120</td><td>Hugessen</td><td>Sri.Lanka</td><td>no</td><td>no</td><td>French</td><td>Montreal</td><td>-0.75377</td></tr><tr><td>263</td><td>Mahoney</td><td>Sri.Lanka</td><td>no</td><td>yes</td><td>English</td><td>Toronto</td><td>-0.75377</td></tr><tr><td>282</td><td>MacGuigan</td><td>Sri.Lanka</td><td>yes</td><td>yes</td><td>English</td><td>Toronto</td><td>-0.75377</td></tr><tr><td>285</td><td>MacGuigan</td><td>Sri.Lanka</td><td>yes</td><td>yes</td><td>English</td><td>Toronto</td><td>-0.75377</td></tr><tr><td>313</td><td>Iacobucci</td><td>Sri.Lanka</td><td>yes</td><td>no</td><td>English</td><td>Toronto</td><td>-0.75377</td></tr><tr><td>348</td><td>MacGuigan</td><td>Sri.Lanka</td><td>yes</td><td>no</td><td>English</td><td>Toronto</td><td>-0.75377</td></tr><tr><td>477</td><td>MacGuigan</td><td>Sri.Lanka</td><td>yes</td><td>yes</td><td>English</td><td>other</td><td>-0.75377</td></tr><tr><td>484</td><td>Marceau</td><td>Sri.Lanka</td><td>no</td><td>yes</td><td>English</td><td>Toronto</td><td>-0.75377</td></tr><tr><td>525</td><td>Mahoney</td><td>Sri.Lanka</td><td>yes</td><td>no</td><td>English</td><td>Toronto</td><td>-0.75377</td></tr><tr><td>556</td><td>Desjardins</td><td>Sri.Lanka</td><td>no</td><td>yes</td><td>English</td><td>Toronto</td><td>-0.75377</td></tr><tr><td>580</td><td>Heald</td><td>Sri.Lanka</td><td>no</td><td>no</td><td>English</td><td>Toronto</td><td>-0.75377</td></tr><tr><td>590</td><td>Mahoney</td><td>Sri.Lanka</td><td>yes</td><td>yes</td><td>English</td><td>Toronto</td><td>-0.75377</td></tr><tr><td>607</td><td>Stone</td><td>Sri.Lanka</td><td>no</td><td>no</td><td>English</td><td>Toronto</td><td>-0.75377</td></tr><tr><td>805</td><td>Marceau</td><td>Sri.Lanka</td><td>yes</td><td>yes</td><td>English</td><td>Toronto</td><td>-0.75377</td></tr><tr><td>809</td><td>Iacobucci</td><td>Sri.Lanka</td><td>no</td><td>no</td><td>English</td><td>Toronto</td><td>-0.75377</td></tr><tr><td>821</td><td>Hugessen</td><td>Sri.Lanka</td><td>yes</td><td>no</td><td>French</td><td>Montreal</td><td>-0.75377</td></tr><tr><td>834</td><td>Iacobucci</td><td>Sri.Lanka</td><td>no</td><td>no</td><td>English</td><td>Toronto</td><td>-0.75377</td></tr><tr><td>885</td><td>Iacobucci</td><td>Sri.Lanka</td><td>yes</td><td>yes</td><td>English</td><td>other</td><td>-0.75377</td></tr><tr><td>899</td><td>Iacobucci</td><td>Sri.Lanka</td><td>no</td><td>no</td><td>English</td><td>Toronto</td><td>-0.75377</td></tr><tr><td>928</td><td>Urie</td><td>Sri.Lanka</td><td>no</td><td>yes</td><td>English</td><td>Toronto</td><td>-0.75377</td></tr><tr><td>934</td><td>Urie</td><td>Sri.Lanka</td><td>yes</td><td>yes</td><td>English</td><td>Toronto</td><td>-0.75377</td></tr><tr><td>968</td><td>MacGuigan</td><td>Sri.Lanka</td><td>no</td><td>no</td><td>English</td><td>Toronto</td><td>-0.75377</td></tr><tr><td>1023</td><td>Hugessen</td><td>Sri.Lanka</td><td>no</td><td>no</td><td>English</td><td>Toronto</td><td>-0.75377</td></tr><tr><td>1049</td><td>Heald</td><td>Sri.Lanka</td><td>no</td><td>no</td><td>English</td><td>Toronto</td><td>-0.75377</td></tr><tr><td>1088</td><td>Stone</td><td>Sri.Lanka</td><td>no</td><td>no</td><td>English</td><td>Toronto</td><td>-0.75377</td></tr><tr><td>1214</td><td>Hugessen</td><td>Sri.Lanka</td><td>no</td><td>no</td><td>French</td><td>Montreal</td><td>-0.75377</td></tr><tr><td>1218</td><td>Mahoney</td><td>Sri.Lanka</td><td>no</td><td>no</td><td>English</td><td>Toronto</td><td>-0.75377</td></tr><tr><td>1282</td><td>Stone</td><td>Sri.Lanka</td><td>yes</td><td>yes</td><td>English</td><td>Toronto</td><td>-0.75377</td></tr><tr><td>1284</td><td>Mahoney</td><td>Sri.Lanka</td><td>yes</td><td>yes</td><td>English</td><td>Toronto</td><td>-0.75377</td></tr><tr><td>1355</td><td>MacGuigan</td><td>Sri.Lanka</td><td>yes</td><td>no</td><td>English</td><td>Montreal</td><td>-0.75377</td></tr><tr><td>1357</td><td>Desjardins</td><td>Sri.Lanka</td><td>no</td><td>no</td><td>French</td><td>Montreal</td><td>-0.75377</td></tr><tr><td>1363</td><td>Stone</td><td>Sri.Lanka</td><td>yes</td><td>no</td><td>English</td><td>Toronto</td><td>-0.75377</td></tr><tr><td>1377</td><td>Desjardins</td><td>Sri.Lanka</td><td>no</td><td>no</td><td>English</td><td>Toronto</td><td>-0.75377</td></tr><tr><td>1452</td><td>Heald</td><td>Sri.Lanka</td><td>yes</td><td>yes</td><td>English</td><td>Toronto</td><td>-0.75377</td></tr><tr><td>1487</td><td>Stone</td><td>Sri.Lanka</td><td>yes</td><td>yes</td><td>English</td><td>Toronto</td><td>-0.75377</td></tr><tr><td>1512</td><td>Desjardins</td><td>Sri.Lanka</td><td>no</td><td>yes</td><td>English</td><td>other</td><td>-0.75377</td></tr><tr><td>1531</td><td>Desjardins</td><td>Sri.Lanka</td><td>yes</td><td>yes</td><td>English</td><td>Toronto</td><td>-0.75377</td></tr><tr><td>1535</td><td>Stone</td><td>Sri.Lanka</td><td>no</td><td>no</td><td>English</td><td>Toronto</td><td>-0.75377</td></tr><tr><td>1578</td><td>Heald</td><td>Sri.Lanka</td><td>yes</td><td>yes</td><td>English</td><td>Toronto</td><td>-0.75377</td></tr><tr><td>1589</td><td>Mahoney</td><td>Sri.Lanka</td><td>no</td><td>no</td><td>English</td><td>Toronto</td><td>-0.75377</td></tr><tr><td>1599</td><td>Heald</td><td>Sri.Lanka</td><td>yes</td><td>yes</td><td>English</td><td>Toronto</td><td>-0.75377</td></tr><tr><td>1608</td><td>Desjardins</td><td>Sri.Lanka</td><td>yes</td><td>no</td><td>English</td><td>Toronto</td><td>-0.75377</td></tr><tr><td>1639</td><td>Desjardins</td><td>Sri.Lanka</td><td>no</td><td>yes</td><td>English</td><td>Toronto</td><td>-0.75377</td></tr><tr><td>1682</td><td>Desjardins</td><td>Sri.Lanka</td><td>no</td><td>yes</td><td>English</td><td>Toronto</td><td>-0.75377</td></tr><tr><td>1766</td><td>Iacobucci</td><td>Sri.Lanka</td><td>no</td><td>no</td><td>English</td><td>Toronto</td><td>-0.75377</td></tr><tr><td>1793</td><td>Heald</td><td>Sri.Lanka</td><td>no</td><td>yes</td><td>English</td><td>Toronto</td><td>-0.75377</td></tr><tr><td>1829</td><td>Heald</td><td>Sri.Lanka</td><td>yes</td><td>yes</td><td>English</td><td>Toronto</td><td>-0.75377</td></tr><tr><td>1848</td><td>Pratte</td><td>Sri.Lanka</td><td>no</td><td>no</td><td>English</td><td>Toronto</td><td>-0.75377</td></tr><tr><td>1855</td><td>Stone</td><td>Sri.Lanka</td><td>no</td><td>no</td><td>English</td><td>Toronto</td><td>-0.75377</td></tr><tr><td>1914</td><td>Mahoney</td><td>Sri.Lanka</td><td>yes</td><td>yes</td><td>English</td><td>Toronto</td><td>-0.75377</td></tr><tr><td>1923</td><td>Heald</td><td>Sri.Lanka</td><td>yes</td><td>yes</td><td>English</td><td>Toronto</td><td>-0.75377</td></tr><tr><td>1947</td><td>Heald</td><td>Sri.Lanka</td><td>no</td><td>no</td><td>English</td><td>Toronto</td><td>-0.75377</td></tr><tr><td>1970</td><td>Hugessen</td><td>Sri.Lanka</td><td>yes</td><td>no</td><td>French</td><td>Montreal</td><td>-0.75377</td></tr><tr><td>2014</td><td>MacGuigan</td><td>Sri.Lanka</td><td>no</td><td>no</td><td>English</td><td>Toronto</td><td>-0.75377</td></tr><tr><td>2077</td><td>Stone</td><td>Sri.Lanka</td><td>yes</td><td>no</td><td>English</td><td>Toronto</td><td>-0.75377</td></tr><tr><td>2079</td><td>Desjardins</td><td>Sri.Lanka</td><td>no</td><td>no</td><td>French</td><td>Montreal</td><td>-0.75377</td></tr><tr><td>2117</td><td>Stone</td><td>Sri.Lanka</td><td>no</td><td>no</td><td>English</td><td>Toronto</td><td>-0.75377</td></tr><tr><td>2321</td><td>Desjardins</td><td>Sri.Lanka</td><td>no</td><td>no</td><td>English</td><td>Toronto</td><td>-0.75377</td></tr><tr><td>2327</td><td>MacGuigan</td><td>Sri.Lanka</td><td>yes</td><td>no</td><td>French</td><td>Montreal</td><td>-0.75377</td></tr><tr><td>2370</td><td>Pratte</td><td>Sri.Lanka</td><td>no</td><td>yes</td><td>English</td><td>Toronto</td><td>-0.75377</td></tr><tr><td>46</td><td>MacGuigan</td><td>Somalia</td><td>no</td><td>no</td><td>English</td><td>Toronto</td><td>-0.99462</td></tr><tr><td>51</td><td>MacGuigan</td><td>Somalia</td><td>yes</td><td>no</td><td>French</td><td>Montreal</td><td>-0.99462</td></tr><tr><td>135</td><td>Hugessen</td><td>Somalia</td><td>yes</td><td>no</td><td>French</td><td>Montreal</td><td>-0.99462</td></tr><tr><td>140</td><td>Hugessen</td><td>Somalia</td><td>no</td><td>no</td><td>French</td><td>Montreal</td><td>-0.99462</td></tr><tr><td>149</td><td>Stone</td><td>Somalia</td><td>no</td><td>yes</td><td>English</td><td>other</td><td>-0.99462</td></tr><tr><td>188</td><td>Hugessen</td><td>Somalia</td><td>no</td><td>no</td><td>French</td><td>Montreal</td><td>-0.99462</td></tr><tr><td>310</td><td>MacGuigan</td><td>Somalia</td><td>yes</td><td>no</td><td>English</td><td>other</td><td>-0.99462</td></tr><tr><td>439</td><td>MacGuigan</td><td>Somalia</td><td>no</td><td>no</td><td>French</td><td>Montreal</td><td>-0.99462</td></tr><tr><td>440</td><td>Iacobucci</td><td>Somalia</td><td>yes</td><td>no</td><td>English</td><td>Toronto</td><td>-0.99462</td></tr><tr><td>509</td><td>MacGuigan</td><td>Somalia</td><td>yes</td><td>yes</td><td>English</td><td>Toronto</td><td>-0.99462</td></tr><tr><td>936</td><td>Iacobucci</td><td>Somalia</td><td>no</td><td>no</td><td>French</td><td>Montreal</td><td>-0.99462</td></tr><tr><td>1104</td><td>Hugessen</td><td>Somalia</td><td>no</td><td>no</td><td>French</td><td>Montreal</td><td>-0.99462</td></tr><tr><td>1165</td><td>Hugessen</td><td>Somalia</td><td>no</td><td>no</td><td>French</td><td>Montreal</td><td>-0.99462</td></tr><tr><td>1194</td><td>Mahoney</td><td>Somalia</td><td>no</td><td>no</td><td>English</td><td>Toronto</td><td>-0.99462</td></tr><tr><td>1229</td><td>Pratte</td><td>Somalia</td><td>yes</td><td>no</td><td>French</td><td>Toronto</td><td>-0.99462</td></tr><tr><td>1311</td><td>MacGuigan</td><td>Somalia</td><td>no</td><td>yes</td><td>English</td><td>Toronto</td><td>-0.99462</td></tr><tr><td>1340</td><td>Marceau</td><td>Somalia</td><td>no</td><td>yes</td><td>English</td><td>Toronto</td><td>-0.99462</td></tr><tr><td>1380</td><td>Stone</td><td>Somalia</td><td>no</td><td>no</td><td>English</td><td>Toronto</td><td>-0.99462</td></tr><tr><td>1387</td><td>Desjardins</td><td>Somalia</td><td>yes</td><td>yes</td><td>English</td><td>Toronto</td><td>-0.99462</td></tr><tr><td>1481</td><td>Marceau</td><td>Somalia</td><td>no</td><td>yes</td><td>French</td><td>Montreal</td><td>-0.99462</td></tr><tr><td>1552</td><td>Pratte</td><td>Somalia</td><td>yes</td><td>no</td><td>French</td><td>Montreal</td><td>-0.99462</td></tr><tr><td>1569</td><td>Iacobucci</td><td>Somalia</td><td>no</td><td>no</td><td>English</td><td>Toronto</td><td>-0.99462</td></tr><tr><td>1613</td><td>MacGuigan</td><td>Somalia</td><td>no</td><td>no</td><td>French</td><td>Montreal</td><td>-0.99462</td></tr><tr><td>1872</td><td>Marceau</td><td>Somalia</td><td>no</td><td>no</td><td>French</td><td>Montreal</td><td>-0.99462</td></tr><tr><td>2006</td><td>Hugessen</td><td>Somalia</td><td>no</td><td>yes</td><td>French</td><td>Montreal</td><td>-0.99462</td></tr><tr><td>2186</td><td>Stone</td><td>Somalia</td><td>no</td><td>no</td><td>English</td><td>Toronto</td><td>-0.99462</td></tr><tr><td>2278</td><td>Mahoney</td><td>Somalia</td><td>yes</td><td>no</td><td>English</td><td>Toronto</td><td>-0.99462</td></tr><tr><td>2291</td><td>MacGuigan</td><td>Somalia</td><td>yes</td><td>yes</td><td>English</td><td>Toronto</td><td>-0.99462</td></tr><tr><td>2454</td><td>Mahoney</td><td>Somalia</td><td>yes</td><td>no</td><td>English</td><td>other</td><td>-0.99462</td></tr><tr><td>83</td><td>Stone</td><td>Poland</td><td>yes</td><td>no</td><td>English</td><td>other</td><td>-1.81529</td></tr><tr><td>161</td><td>Hugessen</td><td>Poland</td><td>yes</td><td>no</td><td>French</td><td>Montreal</td><td>-1.81529</td></tr><tr><td>366</td><td>Heald</td><td>Poland</td><td>no</td><td>no</td><td>English</td><td>other</td><td>-1.81529</td></tr><tr><td>480</td><td>Hugessen</td><td>Poland</td><td>yes</td><td>no</td><td>French</td><td>Montreal</td><td>-1.81529</td></tr><tr><td>522</td><td>Marceau</td><td>Poland</td><td>no</td><td>no</td><td>French</td><td>Montreal</td><td>-1.81529</td></tr><tr><td>1004</td><td>Hugessen</td><td>Poland</td><td>no</td><td>no</td><td>French</td><td>Montreal</td><td>-1.81529</td></tr><tr><td>1032</td><td>Urie</td><td>Poland</td><td>no</td><td>no</td><td>English</td><td>other</td><td>-1.81529</td></tr><tr><td>1494</td><td>Hugessen</td><td>Poland</td><td>no</td><td>no</td><td>French</td><td>Montreal</td><td>-1.81529</td></tr><tr><td>1743</td><td>Pratte</td><td>Poland</td><td>no</td><td>no</td><td>English</td><td>Toronto</td><td>-1.81529</td></tr><tr><td>1886</td><td>Marceau</td><td>Poland</td><td>no</td><td>no</td><td>French</td><td>Montreal</td><td>-1.81529</td></tr><tr><td>2209</td><td>Hugessen</td><td>Poland</td><td>yes</td><td>no</td><td>French</td><td>Montreal</td><td>-1.81529</td></tr><tr><td>1314</td><td>Heald</td><td>Pakistan</td><td>no</td><td>yes</td><td>English</td><td>Toronto</td><td>-0.48955</td></tr><tr><td>1633</td><td>Marceau</td><td>Pakistan</td><td>yes</td><td>yes</td><td>French</td><td>Montreal</td><td>-0.48955</td></tr><tr><td>1818</td><td>Heald</td><td>Pakistan</td><td>yes</td><td>no</td><td>English</td><td>Toronto</td><td>-0.48955</td></tr><tr><td>2214</td><td>Mahoney</td><td>Pakistan</td><td>yes</td><td>no</td><td>English</td><td>Toronto</td><td>-0.48955</td></tr><tr><td>107</td><td>Iacobucci</td><td>Nigeria</td><td>no</td><td>no</td><td>English</td><td>Toronto</td><td>-1.20831</td></tr><tr><td>507</td><td>Mahoney</td><td>Nigeria</td><td>yes</td><td>yes</td><td>English</td><td>Toronto</td><td>-1.20831</td></tr><tr><td>533</td><td>MacGuigan</td><td>Nigeria</td><td>no</td><td>no</td><td>English</td><td>Toronto</td><td>-1.20831</td></tr><tr><td>1283</td><td>Desjardins</td><td>Nigeria</td><td>yes</td><td>no</td><td>English</td><td>Toronto</td><td>-1.20831</td></tr><tr><td>1770</td><td>Marceau</td><td>Nigeria</td><td>no</td><td>no</td><td>English</td><td>Montreal</td><td>-1.20831</td></tr><tr><td>2297</td><td>MacGuigan</td><td>Nigeria</td><td>no</td><td>no</td><td>French</td><td>Montreal</td><td>-1.20831</td></tr><tr><td>2313</td><td>MacGuigan</td><td>Nigeria</td><td>yes</td><td>no</td><td>French</td><td>Montreal</td><td>-1.20831</td></tr><tr><td>105</td><td>Pratte</td><td>Nicaragua</td><td>yes</td><td>no</td><td>English</td><td>other</td><td>-1.58563</td></tr><tr><td>115</td><td>Hugessen</td><td>Nicaragua</td><td>yes</td><td>no</td><td>English</td><td>Toronto</td><td>-1.58563</td></tr><tr><td>732</td><td>Mahoney</td><td>Nicaragua</td><td>no</td><td>no</td><td>English</td><td>other</td><td>-1.58563</td></tr><tr><td>771</td><td>Mahoney</td><td>Nicaragua</td><td>yes</td><td>no</td><td>English</td><td>Toronto</td><td>-1.58563</td></tr><tr><td>790</td><td>Mahoney</td><td>Nicaragua</td><td>yes</td><td>yes</td><td>English</td><td>other</td><td>-1.58563</td></tr><tr><td>1374</td><td>Desjardins</td><td>Nicaragua</td><td>no</td><td>yes</td><td>English</td><td>other</td><td>-1.58563</td></tr><tr><td>13</td><td>Heald</td><td>Lebanon</td><td>no</td><td>no</td><td>English</td><td>Toronto</td><td>-1.09861</td></tr><tr><td>36</td><td>Desjardins</td><td>Lebanon</td><td>yes</td><td>yes</td><td>French</td><td>Montreal</td><td>-1.09861</td></tr><tr><td>42</td><td>Stone</td><td>Lebanon</td><td>yes</td><td>yes</td><td>English</td><td>Toronto</td><td>-1.09861</td></tr><tr><td>75</td><td>Hugessen</td><td>Lebanon</td><td>no</td><td>no</td><td>French</td><td>Montreal</td><td>-1.09861</td></tr><tr><td>94</td><td>Iacobucci</td><td>Lebanon</td><td>yes</td><td>no</td><td>English</td><td>Toronto</td><td>-1.09861</td></tr><tr><td>111</td><td>Mahoney</td><td>Lebanon</td><td>no</td><td>no</td><td>English</td><td>Toronto</td><td>-1.09861</td></tr><tr><td>113</td><td>Hugessen</td><td>Lebanon</td><td>no</td><td>no</td><td>French</td><td>Montreal</td><td>-1.09861</td></tr><tr><td>121</td><td>Hugessen</td><td>Lebanon</td><td>yes</td><td>no</td><td>English</td><td>Toronto</td><td>-1.09861</td></tr><tr><td>128</td><td>Iacobucci</td><td>Lebanon</td><td>yes</td><td>yes</td><td>English</td><td>other</td><td>-1.09861</td></tr><tr><td>130</td><td>Iacobucci</td><td>Lebanon</td><td>no</td><td>no</td><td>English</td><td>other</td><td>-1.09861</td></tr><tr><td>134</td><td>MacGuigan</td><td>Lebanon</td><td>no</td><td>no</td><td>English</td><td>Toronto</td><td>-1.09861</td></tr><tr><td>145</td><td>MacGuigan</td><td>Lebanon</td><td>no</td><td>no</td><td>English</td><td>Toronto</td><td>-1.09861</td></tr><tr><td>150</td><td>MacGuigan</td><td>Lebanon</td><td>no</td><td>no</td><td>English</td><td>Toronto</td><td>-1.09861</td></tr><tr><td>159</td><td>Urie</td><td>Lebanon</td><td>no</td><td>yes</td><td>English</td><td>other</td><td>-1.09861</td></tr><tr><td>252</td><td>Hugessen</td><td>Lebanon</td><td>no</td><td>no</td><td>French</td><td>Montreal</td><td>-1.09861</td></tr><tr><td>254</td><td>Hugessen</td><td>Lebanon</td><td>no</td><td>no</td><td>French</td><td>Montreal</td><td>-1.09861</td></tr><tr><td>317</td><td>Marceau</td><td>Lebanon</td><td>no</td><td>yes</td><td>English</td><td>Montreal</td><td>-1.09861</td></tr><tr><td>347</td><td>Mahoney</td><td>Lebanon</td><td>yes</td><td>yes</td><td>English</td><td>Toronto</td><td>-1.09861</td></tr><tr><td>392</td><td>Mahoney</td><td>Lebanon</td><td>no</td><td>no</td><td>English</td><td>Toronto</td><td>-1.09861</td></tr><tr><td>393</td><td>Hugessen</td><td>Lebanon</td><td>yes</td><td>no</td><td>French</td><td>Montreal</td><td>-1.09861</td></tr><tr><td>395</td><td>Heald</td><td>Lebanon</td><td>no</td><td>no</td><td>English</td><td>other</td><td>-1.09861</td></tr><tr><td>396</td><td>Pratte</td><td>Lebanon</td><td>no</td><td>no</td><td>French</td><td>Montreal</td><td>-1.09861</td></tr><tr><td>430</td><td>MacGuigan</td><td>Lebanon</td><td>no</td><td>no</td><td>French</td><td>Montreal</td><td>-1.09861</td></tr><tr><td>437</td><td>MacGuigan</td><td>Lebanon</td><td>no</td><td>no</td><td>French</td><td>Montreal</td><td>-1.09861</td></tr><tr><td>448</td><td>Urie</td><td>Lebanon</td><td>no</td><td>no</td><td>English</td><td>Toronto</td><td>-1.09861</td></tr><tr><td>528</td><td>Marceau</td><td>Lebanon</td><td>no</td><td>yes</td><td>French</td><td>other</td><td>-1.09861</td></tr><tr><td>536</td><td>Heald</td><td>Lebanon</td><td>yes</td><td>no</td><td>English</td><td>Toronto</td><td>-1.09861</td></tr><tr><td>603</td><td>Pratte</td><td>Lebanon</td><td>yes</td><td>no</td><td>French</td><td>Montreal</td><td>-1.09861</td></tr><tr><td>779</td><td>Hugessen</td><td>Lebanon</td><td>no</td><td>no</td><td>French</td><td>Toronto</td><td>-1.09861</td></tr><tr><td>780</td><td>MacGuigan</td><td>Lebanon</td><td>no</td><td>no</td><td>French</td><td>Montreal</td><td>-1.09861</td></tr><tr><td>815</td><td>Hugessen</td><td>Lebanon</td><td>yes</td><td>no</td><td>French</td><td>Montreal</td><td>-1.09861</td></tr><tr><td>823</td><td>Iacobucci</td><td>Lebanon</td><td>no</td><td>no</td><td>French</td><td>other</td><td>-1.09861</td></tr><tr><td>824</td><td>Hugessen</td><td>Lebanon</td><td>no</td><td>no</td><td>French</td><td>Montreal</td><td>-1.09861</td></tr><tr><td>828</td><td>Desjardins</td><td>Lebanon</td><td>no</td><td>yes</td><td>English</td><td>Toronto</td><td>-1.09861</td></tr><tr><td>831</td><td>Desjardins</td><td>Lebanon</td><td>no</td><td>no</td><td>French</td><td>Montreal</td><td>-1.09861</td></tr><tr><td>833</td><td>Iacobucci</td><td>Lebanon</td><td>no</td><td>no</td><td>English</td><td>Toronto</td><td>-1.09861</td></tr><tr><td>841</td><td>Iacobucci</td><td>Lebanon</td><td>no</td><td>no</td><td>English</td><td>other</td><td>-1.09861</td></tr><tr><td>893</td><td>Marceau</td><td>Lebanon</td><td>yes</td><td>yes</td><td>French</td><td>Montreal</td><td>-1.09861</td></tr><tr><td>945</td><td>Desjardins</td><td>Lebanon</td><td>yes</td><td>yes</td><td>English</td><td>Toronto</td><td>-1.09861</td></tr><tr><td>958</td><td>Mahoney</td><td>Lebanon</td><td>no</td><td>no</td><td>English</td><td>other</td><td>-1.09861</td></tr><tr><td>1000</td><td>MacGuigan</td><td>Lebanon</td><td>yes</td><td>no</td><td>English</td><td>other</td><td>-1.09861</td></tr><tr><td>1020</td><td>Hugessen</td><td>Lebanon</td><td>no</td><td>no</td><td>French</td><td>Montreal</td><td>-1.09861</td></tr><tr><td>1022</td><td>Hugessen</td><td>Lebanon</td><td>no</td><td>no</td><td>French</td><td>Montreal</td><td>-1.09861</td></tr><tr><td>1074</td><td>Hugessen</td><td>Lebanon</td><td>yes</td><td>yes</td><td>French</td><td>Montreal</td><td>-1.09861</td></tr><tr><td>1139</td><td>Mahoney</td><td>Lebanon</td><td>no</td><td>no</td><td>English</td><td>Toronto</td><td>-1.09861</td></tr><tr><td>1172</td><td>Iacobucci</td><td>Lebanon</td><td>yes</td><td>no</td><td>English</td><td>Toronto</td><td>-1.09861</td></tr><tr><td>1180</td><td>Mahoney</td><td>Lebanon</td><td>no</td><td>no</td><td>English</td><td>Toronto</td><td>-1.09861</td></tr><tr><td>1231</td><td>Mahoney</td><td>Lebanon</td><td>no</td><td>no</td><td>English</td><td>Toronto</td><td>-1.09861</td></tr><tr><td>1271</td><td>MacGuigan</td><td>Lebanon</td><td>no</td><td>no</td><td>English</td><td>Toronto</td><td>-1.09861</td></tr><tr><td>1286</td><td>Pratte</td><td>Lebanon</td><td>no</td><td>no</td><td>French</td><td>Montreal</td><td>-1.09861</td></tr><tr><td>1287</td><td>Iacobucci</td><td>Lebanon</td><td>no</td><td>no</td><td>English</td><td>Toronto</td><td>-1.09861</td></tr><tr><td>1307</td><td>Desjardins</td><td>Lebanon</td><td>no</td><td>yes</td><td>French</td><td>Montreal</td><td>-1.09861</td></tr><tr><td>1348</td><td>Desjardins</td><td>Lebanon</td><td>no</td><td>no</td><td>French</td><td>Montreal</td><td>-1.09861</td></tr><tr><td>1388</td><td>Stone</td><td>Lebanon</td><td>no</td><td>yes</td><td>English</td><td>Toronto</td><td>-1.09861</td></tr><tr><td>1413</td><td>Hugessen</td><td>Lebanon</td><td>no</td><td>no</td><td>French</td><td>Montreal</td><td>-1.09861</td></tr><tr><td>1459</td><td>Hugessen</td><td>Lebanon</td><td>no</td><td>no</td><td>French</td><td>Montreal</td><td>-1.09861</td></tr><tr><td>1486</td><td>Marceau</td><td>Lebanon</td><td>yes</td><td>no</td><td>French</td><td>Montreal</td><td>-1.09861</td></tr><tr><td>1509</td><td>Pratte</td><td>Lebanon</td><td>yes</td><td>no</td><td>French</td><td>Montreal</td><td>-1.09861</td></tr><tr><td>1520</td><td>Desjardins</td><td>Lebanon</td><td>no</td><td>yes</td><td>English</td><td>Toronto</td><td>-1.09861</td></tr><tr><td>1522</td><td>Desjardins</td><td>Lebanon</td><td>no</td><td>yes</td><td>English</td><td>Toronto</td><td>-1.09861</td></tr><tr><td>1542</td><td>Pratte</td><td>Lebanon</td><td>yes</td><td>no</td><td>French</td><td>Montreal</td><td>-1.09861</td></tr><tr><td>1576</td><td>Heald</td><td>Lebanon</td><td>no</td><td>no</td><td>English</td><td>Toronto</td><td>-1.09861</td></tr><tr><td>1580</td><td>Iacobucci</td><td>Lebanon</td><td>no</td><td>no</td><td>English</td><td>Toronto</td><td>-1.09861</td></tr><tr><td>1668</td><td>Heald</td><td>Lebanon</td><td>no</td><td>no</td><td>English</td><td>Toronto</td><td>-1.09861</td></tr><tr><td>1852</td><td>Hugessen</td><td>Lebanon</td><td>no</td><td>no</td><td>English</td><td>Toronto</td><td>-1.09861</td></tr><tr><td>1962</td><td>Stone</td><td>Lebanon</td><td>yes</td><td>yes</td><td>English</td><td>Toronto</td><td>-1.09861</td></tr><tr><td>1966</td><td>MacGuigan</td><td>Lebanon</td><td>no</td><td>no</td><td>English</td><td>Toronto</td><td>-1.09861</td></tr><tr><td>2050</td><td>Desjardins</td><td>Lebanon</td><td>no</td><td>yes</td><td>French</td><td>Montreal</td><td>-1.09861</td></tr><tr><td>2150</td><td>Pratte</td><td>Lebanon</td><td>yes</td><td>no</td><td>English</td><td>Toronto</td><td>-1.09861</td></tr><tr><td>2390</td><td>MacGuigan</td><td>Lebanon</td><td>no</td><td>yes</td><td>English</td><td>Toronto</td><td>-1.09861</td></tr><tr><td>2408</td><td>MacGuigan</td><td>Lebanon</td><td>no</td><td>no</td><td>English</td><td>Toronto</td><td>-1.09861</td></tr><tr><td>167</td><td>Mahoney</td><td>Iran</td><td>no</td><td>yes</td><td>English</td><td>other</td><td>-0.66329</td></tr><tr><td>198</td><td>Pratte</td><td>Iran</td><td>no</td><td>no</td><td>French</td><td>Montreal</td><td>-0.66329</td></tr><tr><td>332</td><td>Desjardins</td><td>Iran</td><td>yes</td><td>no</td><td>French</td><td>Montreal</td><td>-0.66329</td></tr><tr><td>585</td><td>Pratte</td><td>Iran</td><td>no</td><td>no</td><td>English</td><td>Toronto</td><td>-0.66329</td></tr><tr><td>844</td><td>Iacobucci</td><td>Iran</td><td>no</td><td>no</td><td>English</td><td>other</td><td>-0.66329</td></tr><tr><td>951</td><td>Iacobucci</td><td>Iran</td><td>yes</td><td>yes</td><td>English</td><td>Toronto</td><td>-0.66329</td></tr><tr><td>1138</td><td>Stone</td><td>Iran</td><td>no</td><td>no</td><td>English</td><td>Toronto</td><td>-0.66329</td></tr><tr><td>1273</td><td>Desjardins</td><td>Iran</td><td>no</td><td>no</td><td>English</td><td>Toronto</td><td>-0.66329</td></tr><tr><td>1405</td><td>Hugessen</td><td>Iran</td><td>yes</td><td>no</td><td>French</td><td>Montreal</td><td>-0.66329</td></tr><tr><td>1446</td><td>Stone</td><td>Iran</td><td>no</td><td>no</td><td>English</td><td>other</td><td>-0.66329</td></tr><tr><td>1548</td><td>Desjardins</td><td>Iran</td><td>no</td><td>no</td><td>French</td><td>Montreal</td><td>-0.66329</td></tr><tr><td>1570</td><td>Pratte</td><td>Iran</td><td>yes</td><td>no</td><td>English</td><td>Montreal</td><td>-0.66329</td></tr><tr><td>1880</td><td>Hugessen</td><td>Iran</td><td>yes</td><td>no</td><td>French</td><td>Toronto</td><td>-0.66329</td></tr><tr><td>1941</td><td>Marceau</td><td>Iran</td><td>no</td><td>yes</td><td>English</td><td>Toronto</td><td>-0.66329</td></tr><tr><td>2274</td><td>MacGuigan</td><td>Iran</td><td>no</td><td>no</td><td>English</td><td>Toronto</td><td>-0.66329</td></tr><tr><td>2279</td><td>Heald</td><td>Iran</td><td>no</td><td>no</td><td>English</td><td>other</td><td>-0.66329</td></tr><tr><td>981</td><td>Stone</td><td>India</td><td>no</td><td>yes</td><td>English</td><td>Toronto</td><td>-0.53222</td></tr><tr><td>1067</td><td>Heald</td><td>India</td><td>yes</td><td>yes</td><td>English</td><td>Toronto</td><td>-0.53222</td></tr><tr><td>1505</td><td>MacGuigan</td><td>India</td><td>yes</td><td>yes</td><td>English</td><td>Toronto</td><td>-0.53222</td></tr><tr><td>230</td><td>Stone</td><td>Guatemala</td><td>yes</td><td>no</td><td>English</td><td>Toronto</td><td>-1.90096</td></tr><tr><td>233</td><td>Iacobucci</td><td>Guatemala</td><td>no</td><td>no</td><td>English</td><td>Toronto</td><td>-1.90096</td></tr><tr><td>542</td><td>MacGuigan</td><td>Guatemala</td><td>no</td><td>yes</td><td>English</td><td>Toronto</td><td>-1.90096</td></tr><tr><td>1262</td><td>MacGuigan</td><td>Guatemala</td><td>no</td><td>no</td><td>English</td><td>Toronto</td><td>-1.90096</td></tr><tr><td>1430</td><td>Heald</td><td>Guatemala</td><td>no</td><td>no</td><td>English</td><td>Toronto</td><td>-1.90096</td></tr><tr><td>45</td><td>Pratte</td><td>Ghana</td><td>no</td><td>no</td><td>English</td><td>Toronto</td><td>-1.20831</td></tr><tr><td>174</td><td>Marceau</td><td>Ghana</td><td>no</td><td>no</td><td>English</td><td>Toronto</td><td>-1.20831</td></tr><tr><td>220</td><td>Iacobucci</td><td>Ghana</td><td>yes</td><td>no</td><td>English</td><td>Toronto</td><td>-1.20831</td></tr><tr><td>781</td><td>Marceau</td><td>Ghana</td><td>no</td><td>no</td><td>French</td><td>Montreal</td><td>-1.20831</td></tr><tr><td>1047</td><td>Hugessen</td><td>Ghana</td><td>yes</td><td>no</td><td>English</td><td>Toronto</td><td>-1.20831</td></tr><tr><td>1162</td><td>Hugessen</td><td>Ghana</td><td>no</td><td>no</td><td>French</td><td>Montreal</td><td>-1.20831</td></tr><tr><td>1790</td><td>MacGuigan</td><td>Ghana</td><td>yes</td><td>no</td><td>English</td><td>Toronto</td><td>-1.20831</td></tr><tr><td>1971</td><td>Heald</td><td>Ghana</td><td>no</td><td>yes</td><td>English</td><td>Toronto</td><td>-1.20831</td></tr><tr><td>2187</td><td>Mahoney</td><td>Ghana</td><td>no</td><td>no</td><td>English</td><td>Toronto</td><td>-1.20831</td></tr><tr><td>2409</td><td>Hugessen</td><td>Fiji</td><td>no</td><td>no</td><td>English</td><td>other</td><td>-0.66329</td></tr><tr><td>19</td><td>Heald</td><td>El.Salvador</td><td>no</td><td>yes</td><td>English</td><td>Toronto</td><td>-1.04597</td></tr><tr><td>63</td><td>Hugessen</td><td>El.Salvador</td><td>yes</td><td>yes</td><td>English</td><td>other</td><td>-1.04597</td></tr><tr><td>114</td><td>Hugessen</td><td>El.Salvador</td><td>yes</td><td>no</td><td>French</td><td>Montreal</td><td>-1.04597</td></tr><tr><td>122</td><td>Stone</td><td>El.Salvador</td><td>no</td><td>no</td><td>English</td><td>Toronto</td><td>-1.04597</td></tr><tr><td>148</td><td>Heald</td><td>El.Salvador</td><td>yes</td><td>yes</td><td>English</td><td>Toronto</td><td>-1.04597</td></tr><tr><td>158</td><td>Urie</td><td>El.Salvador</td><td>no</td><td>yes</td><td>English</td><td>Toronto</td><td>-1.04597</td></tr><tr><td>202</td><td>Stone</td><td>El.Salvador</td><td>no</td><td>no</td><td>English</td><td>Toronto</td><td>-1.04597</td></tr><tr><td>835</td><td>Desjardins</td><td>El.Salvador</td><td>yes</td><td>yes</td><td>English</td><td>Toronto</td><td>-1.04597</td></tr><tr><td>947</td><td>Desjardins</td><td>El.Salvador</td><td>yes</td><td>yes</td><td>English</td><td>Toronto</td><td>-1.04597</td></tr><tr><td>988</td><td>Desjardins</td><td>El.Salvador</td><td>yes</td><td>yes</td><td>English</td><td>Toronto</td><td>-1.04597</td></tr><tr><td>1034</td><td>Stone</td><td>El.Salvador</td><td>no</td><td>no</td><td>English</td><td>other</td><td>-1.04597</td></tr><tr><td>1095</td><td>Hugessen</td><td>El.Salvador</td><td>yes</td><td>no</td><td>French</td><td>Montreal</td><td>-1.04597</td></tr><tr><td>1110</td><td>Heald</td><td>El.Salvador</td><td>yes</td><td>no</td><td>English</td><td>other</td><td>-1.04597</td></tr><tr><td>1185</td><td>Mahoney</td><td>El.Salvador</td><td>yes</td><td>yes</td><td>English</td><td>Toronto</td><td>-1.04597</td></tr><tr><td>1205</td><td>MacGuigan</td><td>El.Salvador</td><td>no</td><td>no</td><td>English</td><td>Toronto</td><td>-1.04597</td></tr><tr><td>1269</td><td>MacGuigan</td><td>El.Salvador</td><td>no</td><td>yes</td><td>English</td><td>Toronto</td><td>-1.04597</td></tr><tr><td>1309</td><td>Desjardins</td><td>El.Salvador</td><td>yes</td><td>no</td><td>English</td><td>Montreal</td><td>-1.04597</td></tr><tr><td>1462</td><td>Desjardins</td><td>El.Salvador</td><td>no</td><td>no</td><td>English</td><td>other</td><td>-1.04597</td></tr><tr><td>1601</td><td>MacGuigan</td><td>El.Salvador</td><td>yes</td><td>no</td><td>French</td><td>Montreal</td><td>-1.04597</td></tr><tr><td>1820</td><td>Iacobucci</td><td>El.Salvador</td><td>no</td><td>no</td><td>English</td><td>Toronto</td><td>-1.04597</td></tr><tr><td>1837</td><td>Stone</td><td>El.Salvador</td><td>no</td><td>no</td><td>English</td><td>other</td><td>-1.04597</td></tr><tr><td>2087</td><td>Stone</td><td>El.Salvador</td><td>yes</td><td>no</td><td>English</td><td>Toronto</td><td>-1.04597</td></tr><tr><td>2133</td><td>Desjardins</td><td>El.Salvador</td><td>no</td><td>no</td><td>English</td><td>other</td><td>-1.04597</td></tr><tr><td>2151</td><td>MacGuigan</td><td>El.Salvador</td><td>no</td><td>no</td><td>English</td><td>Toronto</td><td>-1.04597</td></tr><tr><td>2196</td><td>Stone</td><td>El.Salvador</td><td>yes</td><td>no</td><td>English</td><td>Toronto</td><td>-1.04597</td></tr><tr><td>2412</td><td>MacGuigan</td><td>El.Salvador</td><td>yes</td><td>no</td><td>English</td><td>Toronto</td><td>-1.04597</td></tr><tr><td>30</td><td>MacGuigan</td><td>Czechoslovakia</td><td>no</td><td>yes</td><td>French</td><td>Montreal</td><td>0.40547</td></tr><tr><td>371</td><td>Marceau</td><td>Czechoslovakia</td><td>no</td><td>yes</td><td>French</td><td>Montreal</td><td>0.40547</td></tr><tr><td>458</td><td>Pratte</td><td>Czechoslovakia</td><td>no</td><td>no</td><td>French</td><td>Montreal</td><td>0.40547</td></tr><tr><td>629</td><td>MacGuigan</td><td>Czechoslovakia</td><td>yes</td><td>no</td><td>French</td><td>Montreal</td><td>0.40547</td></tr><tr><td>819</td><td>Pratte</td><td>Czechoslovakia</td><td>yes</td><td>yes</td><td>French</td><td>Montreal</td><td>0.40547</td></tr><tr><td>851</td><td>Hugessen</td><td>Czechoslovakia</td><td>yes</td><td>yes</td><td>French</td><td>Montreal</td><td>0.40547</td></tr><tr><td>861</td><td>Desjardins</td><td>Czechoslovakia</td><td>no</td><td>yes</td><td>English</td><td>Montreal</td><td>0.40547</td></tr><tr><td>866</td><td>Hugessen</td><td>Czechoslovakia</td><td>no</td><td>yes</td><td>French</td><td>Montreal</td><td>0.40547</td></tr><tr><td>871</td><td>Hugessen</td><td>Czechoslovakia</td><td>yes</td><td>yes</td><td>English</td><td>Montreal</td><td>0.40547</td></tr><tr><td>873</td><td>Hugessen</td><td>Czechoslovakia</td><td>no</td><td>yes</td><td>French</td><td>Montreal</td><td>0.40547</td></tr><tr><td>874</td><td>Hugessen</td><td>Czechoslovakia</td><td>no</td><td>yes</td><td>French</td><td>Montreal</td><td>0.40547</td></tr><tr><td>890</td><td>Hugessen</td><td>Czechoslovakia</td><td>yes</td><td>yes</td><td>French</td><td>Montreal</td><td>0.40547</td></tr><tr><td>1016</td><td>Desjardins</td><td>Czechoslovakia</td><td>yes</td><td>yes</td><td>French</td><td>Montreal</td><td>0.40547</td></tr><tr><td>1017</td><td>Desjardins</td><td>Czechoslovakia</td><td>yes</td><td>yes</td><td>English</td><td>Montreal</td><td>0.40547</td></tr><tr><td>1145</td><td>Pratte</td><td>Czechoslovakia</td><td>yes</td><td>yes</td><td>French</td><td>Montreal</td><td>0.40547</td></tr><tr><td>1167</td><td>Hugessen</td><td>Czechoslovakia</td><td>yes</td><td>yes</td><td>French</td><td>Montreal</td><td>0.40547</td></tr><tr><td>1202</td><td>Hugessen</td><td>Czechoslovakia</td><td>yes</td><td>yes</td><td>French</td><td>Montreal</td><td>0.40547</td></tr><tr><td>1244</td><td>Pratte</td><td>Czechoslovakia</td><td>no</td><td>no</td><td>French</td><td>Montreal</td><td>0.40547</td></tr><tr><td>1323</td><td>MacGuigan</td><td>Czechoslovakia</td><td>no</td><td>no</td><td>French</td><td>Montreal</td><td>0.40547</td></tr><tr><td>1422</td><td>Hugessen</td><td>Czechoslovakia</td><td>no</td><td>no</td><td>French</td><td>Montreal</td><td>0.40547</td></tr><tr><td>1466</td><td>Marceau</td><td>Czechoslovakia</td><td>no</td><td>yes</td><td>French</td><td>Montreal</td><td>0.40547</td></tr><tr><td>1546</td><td>MacGuigan</td><td>Czechoslovakia</td><td>no</td><td>no</td><td>French</td><td>Montreal</td><td>0.40547</td></tr><tr><td>1935</td><td>Pratte</td><td>Czechoslovakia</td><td>no</td><td>no</td><td>English</td><td>Toronto</td><td>0.40547</td></tr><tr><td>2411</td><td>MacGuigan</td><td>Czechoslovakia</td><td>no</td><td>no</td><td>French</td><td>Montreal</td><td>0.40547</td></tr><tr><td>52</td><td>Pratte</td><td>China</td><td>no</td><td>no</td><td>English</td><td>other</td><td>-0.99462</td></tr><tr><td>77</td><td>MacGuigan</td><td>China</td><td>no</td><td>no</td><td>French</td><td>Montreal</td><td>-0.99462</td></tr><tr><td>323</td><td>Urie</td><td>China</td><td>no</td><td>no</td><td>English</td><td>Toronto</td><td>-0.99462</td></tr><tr><td>328</td><td>MacGuigan</td><td>China</td><td>no</td><td>no</td><td>French</td><td>Montreal</td><td>-0.99462</td></tr><tr><td>365</td><td>Marceau</td><td>China</td><td>no</td><td>no</td><td>English</td><td>Toronto</td><td>-0.99462</td></tr><tr><td>380</td><td>Marceau</td><td>China</td><td>no</td><td>yes</td><td>French</td><td>Montreal</td><td>-0.99462</td></tr><tr><td>431</td><td>Desjardins</td><td>China</td><td>yes</td><td>no</td><td>French</td><td>Montreal</td><td>-0.99462</td></tr><tr><td>457</td><td>Marceau</td><td>China</td><td>no</td><td>yes</td><td>English</td><td>other</td><td>-0.99462</td></tr><tr><td>465</td><td>Mahoney</td><td>China</td><td>no</td><td>yes</td><td>English</td><td>Toronto</td><td>-0.99462</td></tr><tr><td>472</td><td>Pratte</td><td>China</td><td>no</td><td>no</td><td>English</td><td>Toronto</td><td>-0.99462</td></tr><tr><td>490</td><td>Pratte</td><td>China</td><td>no</td><td>no</td><td>English</td><td>Toronto</td><td>-0.99462</td></tr><tr><td>523</td><td>Stone</td><td>China</td><td>no</td><td>no</td><td>English</td><td>Toronto</td><td>-0.99462</td></tr><tr><td>550</td><td>MacGuigan</td><td>China</td><td>yes</td><td>no</td><td>English</td><td>Toronto</td><td>-0.99462</td></tr><tr><td>554</td><td>Desjardins</td><td>China</td><td>no</td><td>no</td><td>English</td><td>Toronto</td><td>-0.99462</td></tr><tr><td>595</td><td>Heald</td><td>China</td><td>no</td><td>no</td><td>English</td><td>Toronto</td><td>-0.99462</td></tr><tr><td>622</td><td>MacGuigan</td><td>China</td><td>no</td><td>no</td><td>French</td><td>Montreal</td><td>-0.99462</td></tr><tr><td>931</td><td>Iacobucci</td><td>China</td><td>no</td><td>no</td><td>English</td><td>other</td><td>-0.99462</td></tr><tr><td>1021</td><td>Hugessen</td><td>China</td><td>no</td><td>no</td><td>English</td><td>Toronto</td><td>-0.99462</td></tr><tr><td>1043</td><td>Stone</td><td>China</td><td>yes</td><td>yes</td><td>English</td><td>other</td><td>-0.99462</td></tr><tr><td>1174</td><td>Stone</td><td>China</td><td>no</td><td>no</td><td>English</td><td>other</td><td>-0.99462</td></tr><tr><td>1250</td><td>Heald</td><td>China</td><td>no</td><td>no</td><td>English</td><td>Toronto</td><td>-0.99462</td></tr><tr><td>1292</td><td>Iacobucci</td><td>China</td><td>no</td><td>no</td><td>English</td><td>other</td><td>-0.99462</td></tr><tr><td>1297</td><td>Heald</td><td>China</td><td>no</td><td>no</td><td>English</td><td>other</td><td>-0.99462</td></tr><tr><td>1332</td><td>MacGuigan</td><td>China</td><td>no</td><td>yes</td><td>English</td><td>other</td><td>-0.99462</td></tr><tr><td>1342</td><td>MacGuigan</td><td>China</td><td>no</td><td>yes</td><td>English</td><td>Toronto</td><td>-0.99462</td></tr><tr><td>1431</td><td>Desjardins</td><td>China</td><td>yes</td><td>no</td><td>English</td><td>Toronto</td><td>-0.99462</td></tr><tr><td>1444</td><td>Urie</td><td>China</td><td>no</td><td>no</td><td>English</td><td>Montreal</td><td>-0.99462</td></tr><tr><td>1468</td><td>Hugessen</td><td>China</td><td>no</td><td>no</td><td>French</td><td>Montreal</td><td>-0.99462</td></tr><tr><td>1473</td><td>Urie</td><td>China</td><td>yes</td><td>yes</td><td>English</td><td>other</td><td>-0.99462</td></tr><tr><td>1533</td><td>Pratte</td><td>China</td><td>no</td><td>yes</td><td>English</td><td>Toronto</td><td>-0.99462</td></tr><tr><td>1630</td><td>Iacobucci</td><td>China</td><td>no</td><td>no</td><td>English</td><td>Toronto</td><td>-0.99462</td></tr><tr><td>1637</td><td>Urie</td><td>China</td><td>no</td><td>no</td><td>English</td><td>Toronto</td><td>-0.99462</td></tr><tr><td>1654</td><td>Marceau</td><td>China</td><td>no</td><td>yes</td><td>French</td><td>Montreal</td><td>-0.99462</td></tr><tr><td>1714</td><td>Iacobucci</td><td>China</td><td>no</td><td>no</td><td>English</td><td>Toronto</td><td>-0.99462</td></tr><tr><td>1715</td><td>MacGuigan</td><td>China</td><td>yes</td><td>yes</td><td>French</td><td>Montreal</td><td>-0.99462</td></tr><tr><td>1723</td><td>MacGuigan</td><td>China</td><td>no</td><td>no</td><td>French</td><td>Montreal</td><td>-0.99462</td></tr><tr><td>1785</td><td>Pratte</td><td>China</td><td>yes</td><td>yes</td><td>English</td><td>Montreal</td><td>-0.99462</td></tr><tr><td>1838</td><td>Stone</td><td>China</td><td>no</td><td>no</td><td>English</td><td>other</td><td>-0.99462</td></tr><tr><td>1883</td><td>Stone</td><td>China</td><td>no</td><td>no</td><td>English</td><td>Toronto</td><td>-0.99462</td></tr><tr><td>1908</td><td>Heald</td><td>China</td><td>yes</td><td>no</td><td>English</td><td>Toronto</td><td>-0.99462</td></tr><tr><td>1913</td><td>Mahoney</td><td>China</td><td>yes</td><td>yes</td><td>English</td><td>Toronto</td><td>-0.99462</td></tr><tr><td>1922</td><td>Mahoney</td><td>China</td><td>yes</td><td>yes</td><td>English</td><td>Toronto</td><td>-0.99462</td></tr><tr><td>1924</td><td>Heald</td><td>China</td><td>no</td><td>no</td><td>English</td><td>other</td><td>-0.99462</td></tr><tr><td>1953</td><td>Desjardins</td><td>China</td><td>no</td><td>no</td><td>English</td><td>Toronto</td><td>-0.99462</td></tr><tr><td>1954</td><td>Pratte</td><td>China</td><td>no</td><td>no</td><td>English</td><td>Toronto</td><td>-0.99462</td></tr><tr><td>1999</td><td>Mahoney</td><td>China</td><td>no</td><td>yes</td><td>English</td><td>Toronto</td><td>-0.99462</td></tr><tr><td>2054</td><td>Desjardins</td><td>China</td><td>yes</td><td>no</td><td>English</td><td>other</td><td>-0.99462</td></tr><tr><td>2060</td><td>Hugessen</td><td>China</td><td>yes</td><td>no</td><td>English</td><td>Montreal</td><td>-0.99462</td></tr><tr><td>2088</td><td>Desjardins</td><td>China</td><td>no</td><td>no</td><td>English</td><td>other</td><td>-0.99462</td></tr><tr><td>2115</td><td>Marceau</td><td>China</td><td>no</td><td>no</td><td>French</td><td>Montreal</td><td>-0.99462</td></tr><tr><td>2125</td><td>Heald</td><td>China</td><td>no</td><td>no</td><td>English</td><td>other</td><td>-0.99462</td></tr><tr><td>2131</td><td>Pratte</td><td>China</td><td>no</td><td>no</td><td>English</td><td>Toronto</td><td>-0.99462</td></tr><tr><td>2148</td><td>Pratte</td><td>China</td><td>yes</td><td>no</td><td>French</td><td>Montreal</td><td>-0.99462</td></tr><tr><td>2163</td><td>Stone</td><td>China</td><td>no</td><td>no</td><td>English</td><td>Toronto</td><td>-0.99462</td></tr><tr><td>2208</td><td>Hugessen</td><td>China</td><td>no</td><td>no</td><td>French</td><td>Montreal</td><td>-0.99462</td></tr><tr><td>2289</td><td>MacGuigan</td><td>China</td><td>no</td><td>no</td><td>English</td><td>Toronto</td><td>-0.99462</td></tr><tr><td>2290</td><td>MacGuigan</td><td>China</td><td>no</td><td>no</td><td>English</td><td>Toronto</td><td>-0.99462</td></tr><tr><td>2293</td><td>MacGuigan</td><td>China</td><td>no</td><td>no</td><td>English</td><td>other</td><td>-0.99462</td></tr><tr><td>2315</td><td>MacGuigan</td><td>China</td><td>no</td><td>yes</td><td>English</td><td>Toronto</td><td>-0.99462</td></tr><tr><td>2322</td><td>MacGuigan</td><td>China</td><td>yes</td><td>yes</td><td>French</td><td>Toronto</td><td>-0.99462</td></tr><tr><td>2338</td><td>Pratte</td><td>China</td><td>no</td><td>no</td><td>English</td><td>Toronto</td><td>-0.99462</td></tr><tr><td>2350</td><td>Hugessen</td><td>China</td><td>no</td><td>no</td><td>English</td><td>Toronto</td><td>-0.99462</td></tr><tr><td>2394</td><td>Pratte</td><td>China</td><td>no</td><td>no</td><td>French</td><td>Montreal</td><td>-0.99462</td></tr><tr><td>2418</td><td>MacGuigan</td><td>China</td><td>no</td><td>no</td><td>English</td><td>Toronto</td><td>-0.99462</td></tr><tr><td>2442</td><td>Mahoney</td><td>China</td><td>no</td><td>no</td><td>English</td><td>Toronto</td><td>-0.99462</td></tr><tr><td>2443</td><td>MacGuigan</td><td>China</td><td>yes</td><td>yes</td><td>English</td><td>Toronto</td><td>-0.99462</td></tr><tr><td>2456</td><td>Heald</td><td>China</td><td>no</td><td>no</td><td>English</td><td>Toronto</td><td>-0.99462</td></tr><tr><td>2461</td><td>Hugessen</td><td>China</td><td>no</td><td>yes</td><td>English</td><td>Toronto</td><td>-0.99462</td></tr><tr><td>340</td><td>Hugessen</td><td>Bulgaria</td><td>no</td><td>no</td><td>French</td><td>Montreal</td><td>-2.09074</td></tr><tr><td>343</td><td>Hugessen</td><td>Bulgaria</td><td>no</td><td>no</td><td>French</td><td>Montreal</td><td>-2.09074</td></tr><tr><td>345</td><td>MacGuigan</td><td>Bulgaria</td><td>no</td><td>no</td><td>French</td><td>Montreal</td><td>-2.09074</td></tr><tr><td>362</td><td>Desjardins</td><td>Bulgaria</td><td>yes</td><td>yes</td><td>English</td><td>other</td><td>-2.09074</td></tr><tr><td>426</td><td>Hugessen</td><td>Bulgaria</td><td>no</td><td>no</td><td>French</td><td>Montreal</td><td>-2.09074</td></tr><tr><td>488</td><td>Heald</td><td>Bulgaria</td><td>no</td><td>no</td><td>English</td><td>other</td><td>-2.09074</td></tr><tr><td>540</td><td>MacGuigan</td><td>Bulgaria</td><td>no</td><td>no</td><td>English</td><td>Toronto</td><td>-2.09074</td></tr><tr><td>546</td><td>Pratte</td><td>Bulgaria</td><td>yes</td><td>no</td><td>French</td><td>Montreal</td><td>-2.09074</td></tr><tr><td>548</td><td>Pratte</td><td>Bulgaria</td><td>no</td><td>no</td><td>English</td><td>Montreal</td><td>-2.09074</td></tr><tr><td>579</td><td>Desjardins</td><td>Bulgaria</td><td>yes</td><td>yes</td><td>French</td><td>Montreal</td><td>-2.09074</td></tr><tr><td>617</td><td>MacGuigan</td><td>Bulgaria</td><td>yes</td><td>no</td><td>French</td><td>Montreal</td><td>-2.09074</td></tr><tr><td>1031</td><td>Urie</td><td>Bulgaria</td><td>no</td><td>no</td><td>English</td><td>other</td><td>-2.09074</td></tr><tr><td>1731</td><td>MacGuigan</td><td>Bulgaria</td><td>no</td><td>no</td><td>French</td><td>Montreal</td><td>-2.09074</td></tr><tr><td>1742</td><td>Marceau</td><td>Bulgaria</td><td>no</td><td>no</td><td>French</td><td>Montreal</td><td>-2.09074</td></tr><tr><td>1763</td><td>MacGuigan</td><td>Bulgaria</td><td>no</td><td>no</td><td>French</td><td>Montreal</td><td>-2.09074</td></tr><tr><td>1764</td><td>Pratte</td><td>Bulgaria</td><td>no</td><td>no</td><td>French</td><td>Montreal</td><td>-2.09074</td></tr><tr><td>1765</td><td>MacGuigan</td><td>Bulgaria</td><td>no</td><td>no</td><td>French</td><td>Montreal</td><td>-2.09074</td></tr><tr><td>1771</td><td>MacGuigan</td><td>Bulgaria</td><td>no</td><td>no</td><td>French</td><td>Montreal</td><td>-2.09074</td></tr><tr><td>1841</td><td>Heald</td><td>Bulgaria</td><td>no</td><td>no</td><td>English</td><td>Toronto</td><td>-2.09074</td></tr><tr><td>1949</td><td>Heald</td><td>Bulgaria</td><td>no</td><td>no</td><td>English</td><td>other</td><td>-2.09074</td></tr><tr><td>1951</td><td>Pratte</td><td>Bulgaria</td><td>no</td><td>no</td><td>French</td><td>Montreal</td><td>-2.09074</td></tr><tr><td>1975</td><td>Hugessen</td><td>Bulgaria</td><td>no</td><td>no</td><td>French</td><td>Montreal</td><td>-2.09074</td></tr><tr><td>1995</td><td>Pratte</td><td>Bulgaria</td><td>no</td><td>yes</td><td>English</td><td>other</td><td>-2.09074</td></tr><tr><td>2049</td><td>Hugessen</td><td>Bulgaria</td><td>no</td><td>no</td><td>French</td><td>Montreal</td><td>-2.09074</td></tr><tr><td>2089</td><td>Stone</td><td>Bulgaria</td><td>no</td><td>no</td><td>English</td><td>Toronto</td><td>-2.09074</td></tr><tr><td>2142</td><td>Desjardins</td><td>Bulgaria</td><td>no</td><td>no</td><td>English</td><td>other</td><td>-2.09074</td></tr><tr><td>2174</td><td>Pratte</td><td>Bulgaria</td><td>yes</td><td>no</td><td>English</td><td>other</td><td>-2.09074</td></tr><tr><td>2229</td><td>MacGuigan</td><td>Bulgaria</td><td>no</td><td>no</td><td>English</td><td>Montreal</td><td>-2.09074</td></tr><tr><td>2231</td><td>Desjardins</td><td>Bulgaria</td><td>no</td><td>no</td><td>English</td><td>Toronto</td><td>-2.09074</td></tr><tr><td>2330</td><td>Pratte</td><td>Bulgaria</td><td>no</td><td>no</td><td>French</td><td>Montreal</td><td>-2.09074</td></tr><tr><td>2348</td><td>Pratte</td><td>Bulgaria</td><td>no</td><td>no</td><td>French</td><td>Montreal</td><td>-2.09074</td></tr><tr><td>2366</td><td>Hugessen</td><td>Bulgaria</td><td>no</td><td>no</td><td>French</td><td>Montreal</td><td>-2.09074</td></tr><tr><td>2374</td><td>Pratte</td><td>Bulgaria</td><td>no</td><td>no</td><td>French</td><td>Montreal</td><td>-2.09074</td></tr><tr><td>2388</td><td>MacGuigan</td><td>Bulgaria</td><td>no</td><td>no</td><td>French</td><td>Montreal</td><td>-2.09074</td></tr><tr><td>2431</td><td>MacGuigan</td><td>Bulgaria</td><td>no</td><td>no</td><td>French</td><td>Montreal</td><td>-2.09074</td></tr><tr><td>2445</td><td>Desjardins</td><td>Bulgaria</td><td>no</td><td>yes</td><td>French</td><td>Montreal</td><td>-2.09074</td></tr><tr><td>506</td><td>Hugessen</td><td>Argentina</td><td>no</td><td>no</td><td>French</td><td>Montreal</td><td>-0.80012</td></tr><tr><td>1383</td><td>Marceau</td><td>Argentina</td><td>yes</td><td>yes</td><td>French</td><td>Montreal</td><td>-0.80012</td></tr><tr><td>1384</td><td>Desjardins</td><td>Argentina</td><td>yes</td><td>yes</td><td>French</td><td>Montreal</td><td>-0.80012</td></tr><tr><td>1643</td><td>Heald</td><td>Argentina</td><td>yes</td><td>no</td><td>English</td><td>Toronto</td><td>-0.80012</td></tr><tr><td>2336</td><td>Pratte</td><td>Argentina</td><td>no</td><td>no</td><td>English</td><td>Toronto</td><td>-0.80012</td></tr></tbody></table></div>"
      ]
     },
     "metadata": {
      "application/vnd.databricks.v1+output": {
       "addedWidgets": {},
       "aggData": [],
       "aggError": "",
       "aggOverflow": false,
       "aggSchema": [],
       "aggSeriesLimitReached": false,
       "aggType": "",
       "arguments": {},
       "columnCustomDisplayInfos": {},
       "data": [
        [
         "15",
         "Heald",
         "Sri.Lanka",
         "no",
         "no",
         "English",
         "Toronto",
         "-0.75377"
        ],
        [
         "76",
         "Pratte",
         "Sri.Lanka",
         "no",
         "no",
         "English",
         "Toronto",
         "-0.75377"
        ],
        [
         "89",
         "Iacobucci",
         "Sri.Lanka",
         "no",
         "no",
         "English",
         "Toronto",
         "-0.75377"
        ],
        [
         "120",
         "Hugessen",
         "Sri.Lanka",
         "no",
         "no",
         "French",
         "Montreal",
         "-0.75377"
        ],
        [
         "263",
         "Mahoney",
         "Sri.Lanka",
         "no",
         "yes",
         "English",
         "Toronto",
         "-0.75377"
        ],
        [
         "282",
         "MacGuigan",
         "Sri.Lanka",
         "yes",
         "yes",
         "English",
         "Toronto",
         "-0.75377"
        ],
        [
         "285",
         "MacGuigan",
         "Sri.Lanka",
         "yes",
         "yes",
         "English",
         "Toronto",
         "-0.75377"
        ],
        [
         "313",
         "Iacobucci",
         "Sri.Lanka",
         "yes",
         "no",
         "English",
         "Toronto",
         "-0.75377"
        ],
        [
         "348",
         "MacGuigan",
         "Sri.Lanka",
         "yes",
         "no",
         "English",
         "Toronto",
         "-0.75377"
        ],
        [
         "477",
         "MacGuigan",
         "Sri.Lanka",
         "yes",
         "yes",
         "English",
         "other",
         "-0.75377"
        ],
        [
         "484",
         "Marceau",
         "Sri.Lanka",
         "no",
         "yes",
         "English",
         "Toronto",
         "-0.75377"
        ],
        [
         "525",
         "Mahoney",
         "Sri.Lanka",
         "yes",
         "no",
         "English",
         "Toronto",
         "-0.75377"
        ],
        [
         "556",
         "Desjardins",
         "Sri.Lanka",
         "no",
         "yes",
         "English",
         "Toronto",
         "-0.75377"
        ],
        [
         "580",
         "Heald",
         "Sri.Lanka",
         "no",
         "no",
         "English",
         "Toronto",
         "-0.75377"
        ],
        [
         "590",
         "Mahoney",
         "Sri.Lanka",
         "yes",
         "yes",
         "English",
         "Toronto",
         "-0.75377"
        ],
        [
         "607",
         "Stone",
         "Sri.Lanka",
         "no",
         "no",
         "English",
         "Toronto",
         "-0.75377"
        ],
        [
         "805",
         "Marceau",
         "Sri.Lanka",
         "yes",
         "yes",
         "English",
         "Toronto",
         "-0.75377"
        ],
        [
         "809",
         "Iacobucci",
         "Sri.Lanka",
         "no",
         "no",
         "English",
         "Toronto",
         "-0.75377"
        ],
        [
         "821",
         "Hugessen",
         "Sri.Lanka",
         "yes",
         "no",
         "French",
         "Montreal",
         "-0.75377"
        ],
        [
         "834",
         "Iacobucci",
         "Sri.Lanka",
         "no",
         "no",
         "English",
         "Toronto",
         "-0.75377"
        ],
        [
         "885",
         "Iacobucci",
         "Sri.Lanka",
         "yes",
         "yes",
         "English",
         "other",
         "-0.75377"
        ],
        [
         "899",
         "Iacobucci",
         "Sri.Lanka",
         "no",
         "no",
         "English",
         "Toronto",
         "-0.75377"
        ],
        [
         "928",
         "Urie",
         "Sri.Lanka",
         "no",
         "yes",
         "English",
         "Toronto",
         "-0.75377"
        ],
        [
         "934",
         "Urie",
         "Sri.Lanka",
         "yes",
         "yes",
         "English",
         "Toronto",
         "-0.75377"
        ],
        [
         "968",
         "MacGuigan",
         "Sri.Lanka",
         "no",
         "no",
         "English",
         "Toronto",
         "-0.75377"
        ],
        [
         "1023",
         "Hugessen",
         "Sri.Lanka",
         "no",
         "no",
         "English",
         "Toronto",
         "-0.75377"
        ],
        [
         "1049",
         "Heald",
         "Sri.Lanka",
         "no",
         "no",
         "English",
         "Toronto",
         "-0.75377"
        ],
        [
         "1088",
         "Stone",
         "Sri.Lanka",
         "no",
         "no",
         "English",
         "Toronto",
         "-0.75377"
        ],
        [
         "1214",
         "Hugessen",
         "Sri.Lanka",
         "no",
         "no",
         "French",
         "Montreal",
         "-0.75377"
        ],
        [
         "1218",
         "Mahoney",
         "Sri.Lanka",
         "no",
         "no",
         "English",
         "Toronto",
         "-0.75377"
        ],
        [
         "1282",
         "Stone",
         "Sri.Lanka",
         "yes",
         "yes",
         "English",
         "Toronto",
         "-0.75377"
        ],
        [
         "1284",
         "Mahoney",
         "Sri.Lanka",
         "yes",
         "yes",
         "English",
         "Toronto",
         "-0.75377"
        ],
        [
         "1355",
         "MacGuigan",
         "Sri.Lanka",
         "yes",
         "no",
         "English",
         "Montreal",
         "-0.75377"
        ],
        [
         "1357",
         "Desjardins",
         "Sri.Lanka",
         "no",
         "no",
         "French",
         "Montreal",
         "-0.75377"
        ],
        [
         "1363",
         "Stone",
         "Sri.Lanka",
         "yes",
         "no",
         "English",
         "Toronto",
         "-0.75377"
        ],
        [
         "1377",
         "Desjardins",
         "Sri.Lanka",
         "no",
         "no",
         "English",
         "Toronto",
         "-0.75377"
        ],
        [
         "1452",
         "Heald",
         "Sri.Lanka",
         "yes",
         "yes",
         "English",
         "Toronto",
         "-0.75377"
        ],
        [
         "1487",
         "Stone",
         "Sri.Lanka",
         "yes",
         "yes",
         "English",
         "Toronto",
         "-0.75377"
        ],
        [
         "1512",
         "Desjardins",
         "Sri.Lanka",
         "no",
         "yes",
         "English",
         "other",
         "-0.75377"
        ],
        [
         "1531",
         "Desjardins",
         "Sri.Lanka",
         "yes",
         "yes",
         "English",
         "Toronto",
         "-0.75377"
        ],
        [
         "1535",
         "Stone",
         "Sri.Lanka",
         "no",
         "no",
         "English",
         "Toronto",
         "-0.75377"
        ],
        [
         "1578",
         "Heald",
         "Sri.Lanka",
         "yes",
         "yes",
         "English",
         "Toronto",
         "-0.75377"
        ],
        [
         "1589",
         "Mahoney",
         "Sri.Lanka",
         "no",
         "no",
         "English",
         "Toronto",
         "-0.75377"
        ],
        [
         "1599",
         "Heald",
         "Sri.Lanka",
         "yes",
         "yes",
         "English",
         "Toronto",
         "-0.75377"
        ],
        [
         "1608",
         "Desjardins",
         "Sri.Lanka",
         "yes",
         "no",
         "English",
         "Toronto",
         "-0.75377"
        ],
        [
         "1639",
         "Desjardins",
         "Sri.Lanka",
         "no",
         "yes",
         "English",
         "Toronto",
         "-0.75377"
        ],
        [
         "1682",
         "Desjardins",
         "Sri.Lanka",
         "no",
         "yes",
         "English",
         "Toronto",
         "-0.75377"
        ],
        [
         "1766",
         "Iacobucci",
         "Sri.Lanka",
         "no",
         "no",
         "English",
         "Toronto",
         "-0.75377"
        ],
        [
         "1793",
         "Heald",
         "Sri.Lanka",
         "no",
         "yes",
         "English",
         "Toronto",
         "-0.75377"
        ],
        [
         "1829",
         "Heald",
         "Sri.Lanka",
         "yes",
         "yes",
         "English",
         "Toronto",
         "-0.75377"
        ],
        [
         "1848",
         "Pratte",
         "Sri.Lanka",
         "no",
         "no",
         "English",
         "Toronto",
         "-0.75377"
        ],
        [
         "1855",
         "Stone",
         "Sri.Lanka",
         "no",
         "no",
         "English",
         "Toronto",
         "-0.75377"
        ],
        [
         "1914",
         "Mahoney",
         "Sri.Lanka",
         "yes",
         "yes",
         "English",
         "Toronto",
         "-0.75377"
        ],
        [
         "1923",
         "Heald",
         "Sri.Lanka",
         "yes",
         "yes",
         "English",
         "Toronto",
         "-0.75377"
        ],
        [
         "1947",
         "Heald",
         "Sri.Lanka",
         "no",
         "no",
         "English",
         "Toronto",
         "-0.75377"
        ],
        [
         "1970",
         "Hugessen",
         "Sri.Lanka",
         "yes",
         "no",
         "French",
         "Montreal",
         "-0.75377"
        ],
        [
         "2014",
         "MacGuigan",
         "Sri.Lanka",
         "no",
         "no",
         "English",
         "Toronto",
         "-0.75377"
        ],
        [
         "2077",
         "Stone",
         "Sri.Lanka",
         "yes",
         "no",
         "English",
         "Toronto",
         "-0.75377"
        ],
        [
         "2079",
         "Desjardins",
         "Sri.Lanka",
         "no",
         "no",
         "French",
         "Montreal",
         "-0.75377"
        ],
        [
         "2117",
         "Stone",
         "Sri.Lanka",
         "no",
         "no",
         "English",
         "Toronto",
         "-0.75377"
        ],
        [
         "2321",
         "Desjardins",
         "Sri.Lanka",
         "no",
         "no",
         "English",
         "Toronto",
         "-0.75377"
        ],
        [
         "2327",
         "MacGuigan",
         "Sri.Lanka",
         "yes",
         "no",
         "French",
         "Montreal",
         "-0.75377"
        ],
        [
         "2370",
         "Pratte",
         "Sri.Lanka",
         "no",
         "yes",
         "English",
         "Toronto",
         "-0.75377"
        ],
        [
         "46",
         "MacGuigan",
         "Somalia",
         "no",
         "no",
         "English",
         "Toronto",
         "-0.99462"
        ],
        [
         "51",
         "MacGuigan",
         "Somalia",
         "yes",
         "no",
         "French",
         "Montreal",
         "-0.99462"
        ],
        [
         "135",
         "Hugessen",
         "Somalia",
         "yes",
         "no",
         "French",
         "Montreal",
         "-0.99462"
        ],
        [
         "140",
         "Hugessen",
         "Somalia",
         "no",
         "no",
         "French",
         "Montreal",
         "-0.99462"
        ],
        [
         "149",
         "Stone",
         "Somalia",
         "no",
         "yes",
         "English",
         "other",
         "-0.99462"
        ],
        [
         "188",
         "Hugessen",
         "Somalia",
         "no",
         "no",
         "French",
         "Montreal",
         "-0.99462"
        ],
        [
         "310",
         "MacGuigan",
         "Somalia",
         "yes",
         "no",
         "English",
         "other",
         "-0.99462"
        ],
        [
         "439",
         "MacGuigan",
         "Somalia",
         "no",
         "no",
         "French",
         "Montreal",
         "-0.99462"
        ],
        [
         "440",
         "Iacobucci",
         "Somalia",
         "yes",
         "no",
         "English",
         "Toronto",
         "-0.99462"
        ],
        [
         "509",
         "MacGuigan",
         "Somalia",
         "yes",
         "yes",
         "English",
         "Toronto",
         "-0.99462"
        ],
        [
         "936",
         "Iacobucci",
         "Somalia",
         "no",
         "no",
         "French",
         "Montreal",
         "-0.99462"
        ],
        [
         "1104",
         "Hugessen",
         "Somalia",
         "no",
         "no",
         "French",
         "Montreal",
         "-0.99462"
        ],
        [
         "1165",
         "Hugessen",
         "Somalia",
         "no",
         "no",
         "French",
         "Montreal",
         "-0.99462"
        ],
        [
         "1194",
         "Mahoney",
         "Somalia",
         "no",
         "no",
         "English",
         "Toronto",
         "-0.99462"
        ],
        [
         "1229",
         "Pratte",
         "Somalia",
         "yes",
         "no",
         "French",
         "Toronto",
         "-0.99462"
        ],
        [
         "1311",
         "MacGuigan",
         "Somalia",
         "no",
         "yes",
         "English",
         "Toronto",
         "-0.99462"
        ],
        [
         "1340",
         "Marceau",
         "Somalia",
         "no",
         "yes",
         "English",
         "Toronto",
         "-0.99462"
        ],
        [
         "1380",
         "Stone",
         "Somalia",
         "no",
         "no",
         "English",
         "Toronto",
         "-0.99462"
        ],
        [
         "1387",
         "Desjardins",
         "Somalia",
         "yes",
         "yes",
         "English",
         "Toronto",
         "-0.99462"
        ],
        [
         "1481",
         "Marceau",
         "Somalia",
         "no",
         "yes",
         "French",
         "Montreal",
         "-0.99462"
        ],
        [
         "1552",
         "Pratte",
         "Somalia",
         "yes",
         "no",
         "French",
         "Montreal",
         "-0.99462"
        ],
        [
         "1569",
         "Iacobucci",
         "Somalia",
         "no",
         "no",
         "English",
         "Toronto",
         "-0.99462"
        ],
        [
         "1613",
         "MacGuigan",
         "Somalia",
         "no",
         "no",
         "French",
         "Montreal",
         "-0.99462"
        ],
        [
         "1872",
         "Marceau",
         "Somalia",
         "no",
         "no",
         "French",
         "Montreal",
         "-0.99462"
        ],
        [
         "2006",
         "Hugessen",
         "Somalia",
         "no",
         "yes",
         "French",
         "Montreal",
         "-0.99462"
        ],
        [
         "2186",
         "Stone",
         "Somalia",
         "no",
         "no",
         "English",
         "Toronto",
         "-0.99462"
        ],
        [
         "2278",
         "Mahoney",
         "Somalia",
         "yes",
         "no",
         "English",
         "Toronto",
         "-0.99462"
        ],
        [
         "2291",
         "MacGuigan",
         "Somalia",
         "yes",
         "yes",
         "English",
         "Toronto",
         "-0.99462"
        ],
        [
         "2454",
         "Mahoney",
         "Somalia",
         "yes",
         "no",
         "English",
         "other",
         "-0.99462"
        ],
        [
         "83",
         "Stone",
         "Poland",
         "yes",
         "no",
         "English",
         "other",
         "-1.81529"
        ],
        [
         "161",
         "Hugessen",
         "Poland",
         "yes",
         "no",
         "French",
         "Montreal",
         "-1.81529"
        ],
        [
         "366",
         "Heald",
         "Poland",
         "no",
         "no",
         "English",
         "other",
         "-1.81529"
        ],
        [
         "480",
         "Hugessen",
         "Poland",
         "yes",
         "no",
         "French",
         "Montreal",
         "-1.81529"
        ],
        [
         "522",
         "Marceau",
         "Poland",
         "no",
         "no",
         "French",
         "Montreal",
         "-1.81529"
        ],
        [
         "1004",
         "Hugessen",
         "Poland",
         "no",
         "no",
         "French",
         "Montreal",
         "-1.81529"
        ],
        [
         "1032",
         "Urie",
         "Poland",
         "no",
         "no",
         "English",
         "other",
         "-1.81529"
        ],
        [
         "1494",
         "Hugessen",
         "Poland",
         "no",
         "no",
         "French",
         "Montreal",
         "-1.81529"
        ],
        [
         "1743",
         "Pratte",
         "Poland",
         "no",
         "no",
         "English",
         "Toronto",
         "-1.81529"
        ],
        [
         "1886",
         "Marceau",
         "Poland",
         "no",
         "no",
         "French",
         "Montreal",
         "-1.81529"
        ],
        [
         "2209",
         "Hugessen",
         "Poland",
         "yes",
         "no",
         "French",
         "Montreal",
         "-1.81529"
        ],
        [
         "1314",
         "Heald",
         "Pakistan",
         "no",
         "yes",
         "English",
         "Toronto",
         "-0.48955"
        ],
        [
         "1633",
         "Marceau",
         "Pakistan",
         "yes",
         "yes",
         "French",
         "Montreal",
         "-0.48955"
        ],
        [
         "1818",
         "Heald",
         "Pakistan",
         "yes",
         "no",
         "English",
         "Toronto",
         "-0.48955"
        ],
        [
         "2214",
         "Mahoney",
         "Pakistan",
         "yes",
         "no",
         "English",
         "Toronto",
         "-0.48955"
        ],
        [
         "107",
         "Iacobucci",
         "Nigeria",
         "no",
         "no",
         "English",
         "Toronto",
         "-1.20831"
        ],
        [
         "507",
         "Mahoney",
         "Nigeria",
         "yes",
         "yes",
         "English",
         "Toronto",
         "-1.20831"
        ],
        [
         "533",
         "MacGuigan",
         "Nigeria",
         "no",
         "no",
         "English",
         "Toronto",
         "-1.20831"
        ],
        [
         "1283",
         "Desjardins",
         "Nigeria",
         "yes",
         "no",
         "English",
         "Toronto",
         "-1.20831"
        ],
        [
         "1770",
         "Marceau",
         "Nigeria",
         "no",
         "no",
         "English",
         "Montreal",
         "-1.20831"
        ],
        [
         "2297",
         "MacGuigan",
         "Nigeria",
         "no",
         "no",
         "French",
         "Montreal",
         "-1.20831"
        ],
        [
         "2313",
         "MacGuigan",
         "Nigeria",
         "yes",
         "no",
         "French",
         "Montreal",
         "-1.20831"
        ],
        [
         "105",
         "Pratte",
         "Nicaragua",
         "yes",
         "no",
         "English",
         "other",
         "-1.58563"
        ],
        [
         "115",
         "Hugessen",
         "Nicaragua",
         "yes",
         "no",
         "English",
         "Toronto",
         "-1.58563"
        ],
        [
         "732",
         "Mahoney",
         "Nicaragua",
         "no",
         "no",
         "English",
         "other",
         "-1.58563"
        ],
        [
         "771",
         "Mahoney",
         "Nicaragua",
         "yes",
         "no",
         "English",
         "Toronto",
         "-1.58563"
        ],
        [
         "790",
         "Mahoney",
         "Nicaragua",
         "yes",
         "yes",
         "English",
         "other",
         "-1.58563"
        ],
        [
         "1374",
         "Desjardins",
         "Nicaragua",
         "no",
         "yes",
         "English",
         "other",
         "-1.58563"
        ],
        [
         "13",
         "Heald",
         "Lebanon",
         "no",
         "no",
         "English",
         "Toronto",
         "-1.09861"
        ],
        [
         "36",
         "Desjardins",
         "Lebanon",
         "yes",
         "yes",
         "French",
         "Montreal",
         "-1.09861"
        ],
        [
         "42",
         "Stone",
         "Lebanon",
         "yes",
         "yes",
         "English",
         "Toronto",
         "-1.09861"
        ],
        [
         "75",
         "Hugessen",
         "Lebanon",
         "no",
         "no",
         "French",
         "Montreal",
         "-1.09861"
        ],
        [
         "94",
         "Iacobucci",
         "Lebanon",
         "yes",
         "no",
         "English",
         "Toronto",
         "-1.09861"
        ],
        [
         "111",
         "Mahoney",
         "Lebanon",
         "no",
         "no",
         "English",
         "Toronto",
         "-1.09861"
        ],
        [
         "113",
         "Hugessen",
         "Lebanon",
         "no",
         "no",
         "French",
         "Montreal",
         "-1.09861"
        ],
        [
         "121",
         "Hugessen",
         "Lebanon",
         "yes",
         "no",
         "English",
         "Toronto",
         "-1.09861"
        ],
        [
         "128",
         "Iacobucci",
         "Lebanon",
         "yes",
         "yes",
         "English",
         "other",
         "-1.09861"
        ],
        [
         "130",
         "Iacobucci",
         "Lebanon",
         "no",
         "no",
         "English",
         "other",
         "-1.09861"
        ],
        [
         "134",
         "MacGuigan",
         "Lebanon",
         "no",
         "no",
         "English",
         "Toronto",
         "-1.09861"
        ],
        [
         "145",
         "MacGuigan",
         "Lebanon",
         "no",
         "no",
         "English",
         "Toronto",
         "-1.09861"
        ],
        [
         "150",
         "MacGuigan",
         "Lebanon",
         "no",
         "no",
         "English",
         "Toronto",
         "-1.09861"
        ],
        [
         "159",
         "Urie",
         "Lebanon",
         "no",
         "yes",
         "English",
         "other",
         "-1.09861"
        ],
        [
         "252",
         "Hugessen",
         "Lebanon",
         "no",
         "no",
         "French",
         "Montreal",
         "-1.09861"
        ],
        [
         "254",
         "Hugessen",
         "Lebanon",
         "no",
         "no",
         "French",
         "Montreal",
         "-1.09861"
        ],
        [
         "317",
         "Marceau",
         "Lebanon",
         "no",
         "yes",
         "English",
         "Montreal",
         "-1.09861"
        ],
        [
         "347",
         "Mahoney",
         "Lebanon",
         "yes",
         "yes",
         "English",
         "Toronto",
         "-1.09861"
        ],
        [
         "392",
         "Mahoney",
         "Lebanon",
         "no",
         "no",
         "English",
         "Toronto",
         "-1.09861"
        ],
        [
         "393",
         "Hugessen",
         "Lebanon",
         "yes",
         "no",
         "French",
         "Montreal",
         "-1.09861"
        ],
        [
         "395",
         "Heald",
         "Lebanon",
         "no",
         "no",
         "English",
         "other",
         "-1.09861"
        ],
        [
         "396",
         "Pratte",
         "Lebanon",
         "no",
         "no",
         "French",
         "Montreal",
         "-1.09861"
        ],
        [
         "430",
         "MacGuigan",
         "Lebanon",
         "no",
         "no",
         "French",
         "Montreal",
         "-1.09861"
        ],
        [
         "437",
         "MacGuigan",
         "Lebanon",
         "no",
         "no",
         "French",
         "Montreal",
         "-1.09861"
        ],
        [
         "448",
         "Urie",
         "Lebanon",
         "no",
         "no",
         "English",
         "Toronto",
         "-1.09861"
        ],
        [
         "528",
         "Marceau",
         "Lebanon",
         "no",
         "yes",
         "French",
         "other",
         "-1.09861"
        ],
        [
         "536",
         "Heald",
         "Lebanon",
         "yes",
         "no",
         "English",
         "Toronto",
         "-1.09861"
        ],
        [
         "603",
         "Pratte",
         "Lebanon",
         "yes",
         "no",
         "French",
         "Montreal",
         "-1.09861"
        ],
        [
         "779",
         "Hugessen",
         "Lebanon",
         "no",
         "no",
         "French",
         "Toronto",
         "-1.09861"
        ],
        [
         "780",
         "MacGuigan",
         "Lebanon",
         "no",
         "no",
         "French",
         "Montreal",
         "-1.09861"
        ],
        [
         "815",
         "Hugessen",
         "Lebanon",
         "yes",
         "no",
         "French",
         "Montreal",
         "-1.09861"
        ],
        [
         "823",
         "Iacobucci",
         "Lebanon",
         "no",
         "no",
         "French",
         "other",
         "-1.09861"
        ],
        [
         "824",
         "Hugessen",
         "Lebanon",
         "no",
         "no",
         "French",
         "Montreal",
         "-1.09861"
        ],
        [
         "828",
         "Desjardins",
         "Lebanon",
         "no",
         "yes",
         "English",
         "Toronto",
         "-1.09861"
        ],
        [
         "831",
         "Desjardins",
         "Lebanon",
         "no",
         "no",
         "French",
         "Montreal",
         "-1.09861"
        ],
        [
         "833",
         "Iacobucci",
         "Lebanon",
         "no",
         "no",
         "English",
         "Toronto",
         "-1.09861"
        ],
        [
         "841",
         "Iacobucci",
         "Lebanon",
         "no",
         "no",
         "English",
         "other",
         "-1.09861"
        ],
        [
         "893",
         "Marceau",
         "Lebanon",
         "yes",
         "yes",
         "French",
         "Montreal",
         "-1.09861"
        ],
        [
         "945",
         "Desjardins",
         "Lebanon",
         "yes",
         "yes",
         "English",
         "Toronto",
         "-1.09861"
        ],
        [
         "958",
         "Mahoney",
         "Lebanon",
         "no",
         "no",
         "English",
         "other",
         "-1.09861"
        ],
        [
         "1000",
         "MacGuigan",
         "Lebanon",
         "yes",
         "no",
         "English",
         "other",
         "-1.09861"
        ],
        [
         "1020",
         "Hugessen",
         "Lebanon",
         "no",
         "no",
         "French",
         "Montreal",
         "-1.09861"
        ],
        [
         "1022",
         "Hugessen",
         "Lebanon",
         "no",
         "no",
         "French",
         "Montreal",
         "-1.09861"
        ],
        [
         "1074",
         "Hugessen",
         "Lebanon",
         "yes",
         "yes",
         "French",
         "Montreal",
         "-1.09861"
        ],
        [
         "1139",
         "Mahoney",
         "Lebanon",
         "no",
         "no",
         "English",
         "Toronto",
         "-1.09861"
        ],
        [
         "1172",
         "Iacobucci",
         "Lebanon",
         "yes",
         "no",
         "English",
         "Toronto",
         "-1.09861"
        ],
        [
         "1180",
         "Mahoney",
         "Lebanon",
         "no",
         "no",
         "English",
         "Toronto",
         "-1.09861"
        ],
        [
         "1231",
         "Mahoney",
         "Lebanon",
         "no",
         "no",
         "English",
         "Toronto",
         "-1.09861"
        ],
        [
         "1271",
         "MacGuigan",
         "Lebanon",
         "no",
         "no",
         "English",
         "Toronto",
         "-1.09861"
        ],
        [
         "1286",
         "Pratte",
         "Lebanon",
         "no",
         "no",
         "French",
         "Montreal",
         "-1.09861"
        ],
        [
         "1287",
         "Iacobucci",
         "Lebanon",
         "no",
         "no",
         "English",
         "Toronto",
         "-1.09861"
        ],
        [
         "1307",
         "Desjardins",
         "Lebanon",
         "no",
         "yes",
         "French",
         "Montreal",
         "-1.09861"
        ],
        [
         "1348",
         "Desjardins",
         "Lebanon",
         "no",
         "no",
         "French",
         "Montreal",
         "-1.09861"
        ],
        [
         "1388",
         "Stone",
         "Lebanon",
         "no",
         "yes",
         "English",
         "Toronto",
         "-1.09861"
        ],
        [
         "1413",
         "Hugessen",
         "Lebanon",
         "no",
         "no",
         "French",
         "Montreal",
         "-1.09861"
        ],
        [
         "1459",
         "Hugessen",
         "Lebanon",
         "no",
         "no",
         "French",
         "Montreal",
         "-1.09861"
        ],
        [
         "1486",
         "Marceau",
         "Lebanon",
         "yes",
         "no",
         "French",
         "Montreal",
         "-1.09861"
        ],
        [
         "1509",
         "Pratte",
         "Lebanon",
         "yes",
         "no",
         "French",
         "Montreal",
         "-1.09861"
        ],
        [
         "1520",
         "Desjardins",
         "Lebanon",
         "no",
         "yes",
         "English",
         "Toronto",
         "-1.09861"
        ],
        [
         "1522",
         "Desjardins",
         "Lebanon",
         "no",
         "yes",
         "English",
         "Toronto",
         "-1.09861"
        ],
        [
         "1542",
         "Pratte",
         "Lebanon",
         "yes",
         "no",
         "French",
         "Montreal",
         "-1.09861"
        ],
        [
         "1576",
         "Heald",
         "Lebanon",
         "no",
         "no",
         "English",
         "Toronto",
         "-1.09861"
        ],
        [
         "1580",
         "Iacobucci",
         "Lebanon",
         "no",
         "no",
         "English",
         "Toronto",
         "-1.09861"
        ],
        [
         "1668",
         "Heald",
         "Lebanon",
         "no",
         "no",
         "English",
         "Toronto",
         "-1.09861"
        ],
        [
         "1852",
         "Hugessen",
         "Lebanon",
         "no",
         "no",
         "English",
         "Toronto",
         "-1.09861"
        ],
        [
         "1962",
         "Stone",
         "Lebanon",
         "yes",
         "yes",
         "English",
         "Toronto",
         "-1.09861"
        ],
        [
         "1966",
         "MacGuigan",
         "Lebanon",
         "no",
         "no",
         "English",
         "Toronto",
         "-1.09861"
        ],
        [
         "2050",
         "Desjardins",
         "Lebanon",
         "no",
         "yes",
         "French",
         "Montreal",
         "-1.09861"
        ],
        [
         "2150",
         "Pratte",
         "Lebanon",
         "yes",
         "no",
         "English",
         "Toronto",
         "-1.09861"
        ],
        [
         "2390",
         "MacGuigan",
         "Lebanon",
         "no",
         "yes",
         "English",
         "Toronto",
         "-1.09861"
        ],
        [
         "2408",
         "MacGuigan",
         "Lebanon",
         "no",
         "no",
         "English",
         "Toronto",
         "-1.09861"
        ],
        [
         "167",
         "Mahoney",
         "Iran",
         "no",
         "yes",
         "English",
         "other",
         "-0.66329"
        ],
        [
         "198",
         "Pratte",
         "Iran",
         "no",
         "no",
         "French",
         "Montreal",
         "-0.66329"
        ],
        [
         "332",
         "Desjardins",
         "Iran",
         "yes",
         "no",
         "French",
         "Montreal",
         "-0.66329"
        ],
        [
         "585",
         "Pratte",
         "Iran",
         "no",
         "no",
         "English",
         "Toronto",
         "-0.66329"
        ],
        [
         "844",
         "Iacobucci",
         "Iran",
         "no",
         "no",
         "English",
         "other",
         "-0.66329"
        ],
        [
         "951",
         "Iacobucci",
         "Iran",
         "yes",
         "yes",
         "English",
         "Toronto",
         "-0.66329"
        ],
        [
         "1138",
         "Stone",
         "Iran",
         "no",
         "no",
         "English",
         "Toronto",
         "-0.66329"
        ],
        [
         "1273",
         "Desjardins",
         "Iran",
         "no",
         "no",
         "English",
         "Toronto",
         "-0.66329"
        ],
        [
         "1405",
         "Hugessen",
         "Iran",
         "yes",
         "no",
         "French",
         "Montreal",
         "-0.66329"
        ],
        [
         "1446",
         "Stone",
         "Iran",
         "no",
         "no",
         "English",
         "other",
         "-0.66329"
        ],
        [
         "1548",
         "Desjardins",
         "Iran",
         "no",
         "no",
         "French",
         "Montreal",
         "-0.66329"
        ],
        [
         "1570",
         "Pratte",
         "Iran",
         "yes",
         "no",
         "English",
         "Montreal",
         "-0.66329"
        ],
        [
         "1880",
         "Hugessen",
         "Iran",
         "yes",
         "no",
         "French",
         "Toronto",
         "-0.66329"
        ],
        [
         "1941",
         "Marceau",
         "Iran",
         "no",
         "yes",
         "English",
         "Toronto",
         "-0.66329"
        ],
        [
         "2274",
         "MacGuigan",
         "Iran",
         "no",
         "no",
         "English",
         "Toronto",
         "-0.66329"
        ],
        [
         "2279",
         "Heald",
         "Iran",
         "no",
         "no",
         "English",
         "other",
         "-0.66329"
        ],
        [
         "981",
         "Stone",
         "India",
         "no",
         "yes",
         "English",
         "Toronto",
         "-0.53222"
        ],
        [
         "1067",
         "Heald",
         "India",
         "yes",
         "yes",
         "English",
         "Toronto",
         "-0.53222"
        ],
        [
         "1505",
         "MacGuigan",
         "India",
         "yes",
         "yes",
         "English",
         "Toronto",
         "-0.53222"
        ],
        [
         "230",
         "Stone",
         "Guatemala",
         "yes",
         "no",
         "English",
         "Toronto",
         "-1.90096"
        ],
        [
         "233",
         "Iacobucci",
         "Guatemala",
         "no",
         "no",
         "English",
         "Toronto",
         "-1.90096"
        ],
        [
         "542",
         "MacGuigan",
         "Guatemala",
         "no",
         "yes",
         "English",
         "Toronto",
         "-1.90096"
        ],
        [
         "1262",
         "MacGuigan",
         "Guatemala",
         "no",
         "no",
         "English",
         "Toronto",
         "-1.90096"
        ],
        [
         "1430",
         "Heald",
         "Guatemala",
         "no",
         "no",
         "English",
         "Toronto",
         "-1.90096"
        ],
        [
         "45",
         "Pratte",
         "Ghana",
         "no",
         "no",
         "English",
         "Toronto",
         "-1.20831"
        ],
        [
         "174",
         "Marceau",
         "Ghana",
         "no",
         "no",
         "English",
         "Toronto",
         "-1.20831"
        ],
        [
         "220",
         "Iacobucci",
         "Ghana",
         "yes",
         "no",
         "English",
         "Toronto",
         "-1.20831"
        ],
        [
         "781",
         "Marceau",
         "Ghana",
         "no",
         "no",
         "French",
         "Montreal",
         "-1.20831"
        ],
        [
         "1047",
         "Hugessen",
         "Ghana",
         "yes",
         "no",
         "English",
         "Toronto",
         "-1.20831"
        ],
        [
         "1162",
         "Hugessen",
         "Ghana",
         "no",
         "no",
         "French",
         "Montreal",
         "-1.20831"
        ],
        [
         "1790",
         "MacGuigan",
         "Ghana",
         "yes",
         "no",
         "English",
         "Toronto",
         "-1.20831"
        ],
        [
         "1971",
         "Heald",
         "Ghana",
         "no",
         "yes",
         "English",
         "Toronto",
         "-1.20831"
        ],
        [
         "2187",
         "Mahoney",
         "Ghana",
         "no",
         "no",
         "English",
         "Toronto",
         "-1.20831"
        ],
        [
         "2409",
         "Hugessen",
         "Fiji",
         "no",
         "no",
         "English",
         "other",
         "-0.66329"
        ],
        [
         "19",
         "Heald",
         "El.Salvador",
         "no",
         "yes",
         "English",
         "Toronto",
         "-1.04597"
        ],
        [
         "63",
         "Hugessen",
         "El.Salvador",
         "yes",
         "yes",
         "English",
         "other",
         "-1.04597"
        ],
        [
         "114",
         "Hugessen",
         "El.Salvador",
         "yes",
         "no",
         "French",
         "Montreal",
         "-1.04597"
        ],
        [
         "122",
         "Stone",
         "El.Salvador",
         "no",
         "no",
         "English",
         "Toronto",
         "-1.04597"
        ],
        [
         "148",
         "Heald",
         "El.Salvador",
         "yes",
         "yes",
         "English",
         "Toronto",
         "-1.04597"
        ],
        [
         "158",
         "Urie",
         "El.Salvador",
         "no",
         "yes",
         "English",
         "Toronto",
         "-1.04597"
        ],
        [
         "202",
         "Stone",
         "El.Salvador",
         "no",
         "no",
         "English",
         "Toronto",
         "-1.04597"
        ],
        [
         "835",
         "Desjardins",
         "El.Salvador",
         "yes",
         "yes",
         "English",
         "Toronto",
         "-1.04597"
        ],
        [
         "947",
         "Desjardins",
         "El.Salvador",
         "yes",
         "yes",
         "English",
         "Toronto",
         "-1.04597"
        ],
        [
         "988",
         "Desjardins",
         "El.Salvador",
         "yes",
         "yes",
         "English",
         "Toronto",
         "-1.04597"
        ],
        [
         "1034",
         "Stone",
         "El.Salvador",
         "no",
         "no",
         "English",
         "other",
         "-1.04597"
        ],
        [
         "1095",
         "Hugessen",
         "El.Salvador",
         "yes",
         "no",
         "French",
         "Montreal",
         "-1.04597"
        ],
        [
         "1110",
         "Heald",
         "El.Salvador",
         "yes",
         "no",
         "English",
         "other",
         "-1.04597"
        ],
        [
         "1185",
         "Mahoney",
         "El.Salvador",
         "yes",
         "yes",
         "English",
         "Toronto",
         "-1.04597"
        ],
        [
         "1205",
         "MacGuigan",
         "El.Salvador",
         "no",
         "no",
         "English",
         "Toronto",
         "-1.04597"
        ],
        [
         "1269",
         "MacGuigan",
         "El.Salvador",
         "no",
         "yes",
         "English",
         "Toronto",
         "-1.04597"
        ],
        [
         "1309",
         "Desjardins",
         "El.Salvador",
         "yes",
         "no",
         "English",
         "Montreal",
         "-1.04597"
        ],
        [
         "1462",
         "Desjardins",
         "El.Salvador",
         "no",
         "no",
         "English",
         "other",
         "-1.04597"
        ],
        [
         "1601",
         "MacGuigan",
         "El.Salvador",
         "yes",
         "no",
         "French",
         "Montreal",
         "-1.04597"
        ],
        [
         "1820",
         "Iacobucci",
         "El.Salvador",
         "no",
         "no",
         "English",
         "Toronto",
         "-1.04597"
        ],
        [
         "1837",
         "Stone",
         "El.Salvador",
         "no",
         "no",
         "English",
         "other",
         "-1.04597"
        ],
        [
         "2087",
         "Stone",
         "El.Salvador",
         "yes",
         "no",
         "English",
         "Toronto",
         "-1.04597"
        ],
        [
         "2133",
         "Desjardins",
         "El.Salvador",
         "no",
         "no",
         "English",
         "other",
         "-1.04597"
        ],
        [
         "2151",
         "MacGuigan",
         "El.Salvador",
         "no",
         "no",
         "English",
         "Toronto",
         "-1.04597"
        ],
        [
         "2196",
         "Stone",
         "El.Salvador",
         "yes",
         "no",
         "English",
         "Toronto",
         "-1.04597"
        ],
        [
         "2412",
         "MacGuigan",
         "El.Salvador",
         "yes",
         "no",
         "English",
         "Toronto",
         "-1.04597"
        ],
        [
         "30",
         "MacGuigan",
         "Czechoslovakia",
         "no",
         "yes",
         "French",
         "Montreal",
         "0.40547"
        ],
        [
         "371",
         "Marceau",
         "Czechoslovakia",
         "no",
         "yes",
         "French",
         "Montreal",
         "0.40547"
        ],
        [
         "458",
         "Pratte",
         "Czechoslovakia",
         "no",
         "no",
         "French",
         "Montreal",
         "0.40547"
        ],
        [
         "629",
         "MacGuigan",
         "Czechoslovakia",
         "yes",
         "no",
         "French",
         "Montreal",
         "0.40547"
        ],
        [
         "819",
         "Pratte",
         "Czechoslovakia",
         "yes",
         "yes",
         "French",
         "Montreal",
         "0.40547"
        ],
        [
         "851",
         "Hugessen",
         "Czechoslovakia",
         "yes",
         "yes",
         "French",
         "Montreal",
         "0.40547"
        ],
        [
         "861",
         "Desjardins",
         "Czechoslovakia",
         "no",
         "yes",
         "English",
         "Montreal",
         "0.40547"
        ],
        [
         "866",
         "Hugessen",
         "Czechoslovakia",
         "no",
         "yes",
         "French",
         "Montreal",
         "0.40547"
        ],
        [
         "871",
         "Hugessen",
         "Czechoslovakia",
         "yes",
         "yes",
         "English",
         "Montreal",
         "0.40547"
        ],
        [
         "873",
         "Hugessen",
         "Czechoslovakia",
         "no",
         "yes",
         "French",
         "Montreal",
         "0.40547"
        ],
        [
         "874",
         "Hugessen",
         "Czechoslovakia",
         "no",
         "yes",
         "French",
         "Montreal",
         "0.40547"
        ],
        [
         "890",
         "Hugessen",
         "Czechoslovakia",
         "yes",
         "yes",
         "French",
         "Montreal",
         "0.40547"
        ],
        [
         "1016",
         "Desjardins",
         "Czechoslovakia",
         "yes",
         "yes",
         "French",
         "Montreal",
         "0.40547"
        ],
        [
         "1017",
         "Desjardins",
         "Czechoslovakia",
         "yes",
         "yes",
         "English",
         "Montreal",
         "0.40547"
        ],
        [
         "1145",
         "Pratte",
         "Czechoslovakia",
         "yes",
         "yes",
         "French",
         "Montreal",
         "0.40547"
        ],
        [
         "1167",
         "Hugessen",
         "Czechoslovakia",
         "yes",
         "yes",
         "French",
         "Montreal",
         "0.40547"
        ],
        [
         "1202",
         "Hugessen",
         "Czechoslovakia",
         "yes",
         "yes",
         "French",
         "Montreal",
         "0.40547"
        ],
        [
         "1244",
         "Pratte",
         "Czechoslovakia",
         "no",
         "no",
         "French",
         "Montreal",
         "0.40547"
        ],
        [
         "1323",
         "MacGuigan",
         "Czechoslovakia",
         "no",
         "no",
         "French",
         "Montreal",
         "0.40547"
        ],
        [
         "1422",
         "Hugessen",
         "Czechoslovakia",
         "no",
         "no",
         "French",
         "Montreal",
         "0.40547"
        ],
        [
         "1466",
         "Marceau",
         "Czechoslovakia",
         "no",
         "yes",
         "French",
         "Montreal",
         "0.40547"
        ],
        [
         "1546",
         "MacGuigan",
         "Czechoslovakia",
         "no",
         "no",
         "French",
         "Montreal",
         "0.40547"
        ],
        [
         "1935",
         "Pratte",
         "Czechoslovakia",
         "no",
         "no",
         "English",
         "Toronto",
         "0.40547"
        ],
        [
         "2411",
         "MacGuigan",
         "Czechoslovakia",
         "no",
         "no",
         "French",
         "Montreal",
         "0.40547"
        ],
        [
         "52",
         "Pratte",
         "China",
         "no",
         "no",
         "English",
         "other",
         "-0.99462"
        ],
        [
         "77",
         "MacGuigan",
         "China",
         "no",
         "no",
         "French",
         "Montreal",
         "-0.99462"
        ],
        [
         "323",
         "Urie",
         "China",
         "no",
         "no",
         "English",
         "Toronto",
         "-0.99462"
        ],
        [
         "328",
         "MacGuigan",
         "China",
         "no",
         "no",
         "French",
         "Montreal",
         "-0.99462"
        ],
        [
         "365",
         "Marceau",
         "China",
         "no",
         "no",
         "English",
         "Toronto",
         "-0.99462"
        ],
        [
         "380",
         "Marceau",
         "China",
         "no",
         "yes",
         "French",
         "Montreal",
         "-0.99462"
        ],
        [
         "431",
         "Desjardins",
         "China",
         "yes",
         "no",
         "French",
         "Montreal",
         "-0.99462"
        ],
        [
         "457",
         "Marceau",
         "China",
         "no",
         "yes",
         "English",
         "other",
         "-0.99462"
        ],
        [
         "465",
         "Mahoney",
         "China",
         "no",
         "yes",
         "English",
         "Toronto",
         "-0.99462"
        ],
        [
         "472",
         "Pratte",
         "China",
         "no",
         "no",
         "English",
         "Toronto",
         "-0.99462"
        ],
        [
         "490",
         "Pratte",
         "China",
         "no",
         "no",
         "English",
         "Toronto",
         "-0.99462"
        ],
        [
         "523",
         "Stone",
         "China",
         "no",
         "no",
         "English",
         "Toronto",
         "-0.99462"
        ],
        [
         "550",
         "MacGuigan",
         "China",
         "yes",
         "no",
         "English",
         "Toronto",
         "-0.99462"
        ],
        [
         "554",
         "Desjardins",
         "China",
         "no",
         "no",
         "English",
         "Toronto",
         "-0.99462"
        ],
        [
         "595",
         "Heald",
         "China",
         "no",
         "no",
         "English",
         "Toronto",
         "-0.99462"
        ],
        [
         "622",
         "MacGuigan",
         "China",
         "no",
         "no",
         "French",
         "Montreal",
         "-0.99462"
        ],
        [
         "931",
         "Iacobucci",
         "China",
         "no",
         "no",
         "English",
         "other",
         "-0.99462"
        ],
        [
         "1021",
         "Hugessen",
         "China",
         "no",
         "no",
         "English",
         "Toronto",
         "-0.99462"
        ],
        [
         "1043",
         "Stone",
         "China",
         "yes",
         "yes",
         "English",
         "other",
         "-0.99462"
        ],
        [
         "1174",
         "Stone",
         "China",
         "no",
         "no",
         "English",
         "other",
         "-0.99462"
        ],
        [
         "1250",
         "Heald",
         "China",
         "no",
         "no",
         "English",
         "Toronto",
         "-0.99462"
        ],
        [
         "1292",
         "Iacobucci",
         "China",
         "no",
         "no",
         "English",
         "other",
         "-0.99462"
        ],
        [
         "1297",
         "Heald",
         "China",
         "no",
         "no",
         "English",
         "other",
         "-0.99462"
        ],
        [
         "1332",
         "MacGuigan",
         "China",
         "no",
         "yes",
         "English",
         "other",
         "-0.99462"
        ],
        [
         "1342",
         "MacGuigan",
         "China",
         "no",
         "yes",
         "English",
         "Toronto",
         "-0.99462"
        ],
        [
         "1431",
         "Desjardins",
         "China",
         "yes",
         "no",
         "English",
         "Toronto",
         "-0.99462"
        ],
        [
         "1444",
         "Urie",
         "China",
         "no",
         "no",
         "English",
         "Montreal",
         "-0.99462"
        ],
        [
         "1468",
         "Hugessen",
         "China",
         "no",
         "no",
         "French",
         "Montreal",
         "-0.99462"
        ],
        [
         "1473",
         "Urie",
         "China",
         "yes",
         "yes",
         "English",
         "other",
         "-0.99462"
        ],
        [
         "1533",
         "Pratte",
         "China",
         "no",
         "yes",
         "English",
         "Toronto",
         "-0.99462"
        ],
        [
         "1630",
         "Iacobucci",
         "China",
         "no",
         "no",
         "English",
         "Toronto",
         "-0.99462"
        ],
        [
         "1637",
         "Urie",
         "China",
         "no",
         "no",
         "English",
         "Toronto",
         "-0.99462"
        ],
        [
         "1654",
         "Marceau",
         "China",
         "no",
         "yes",
         "French",
         "Montreal",
         "-0.99462"
        ],
        [
         "1714",
         "Iacobucci",
         "China",
         "no",
         "no",
         "English",
         "Toronto",
         "-0.99462"
        ],
        [
         "1715",
         "MacGuigan",
         "China",
         "yes",
         "yes",
         "French",
         "Montreal",
         "-0.99462"
        ],
        [
         "1723",
         "MacGuigan",
         "China",
         "no",
         "no",
         "French",
         "Montreal",
         "-0.99462"
        ],
        [
         "1785",
         "Pratte",
         "China",
         "yes",
         "yes",
         "English",
         "Montreal",
         "-0.99462"
        ],
        [
         "1838",
         "Stone",
         "China",
         "no",
         "no",
         "English",
         "other",
         "-0.99462"
        ],
        [
         "1883",
         "Stone",
         "China",
         "no",
         "no",
         "English",
         "Toronto",
         "-0.99462"
        ],
        [
         "1908",
         "Heald",
         "China",
         "yes",
         "no",
         "English",
         "Toronto",
         "-0.99462"
        ],
        [
         "1913",
         "Mahoney",
         "China",
         "yes",
         "yes",
         "English",
         "Toronto",
         "-0.99462"
        ],
        [
         "1922",
         "Mahoney",
         "China",
         "yes",
         "yes",
         "English",
         "Toronto",
         "-0.99462"
        ],
        [
         "1924",
         "Heald",
         "China",
         "no",
         "no",
         "English",
         "other",
         "-0.99462"
        ],
        [
         "1953",
         "Desjardins",
         "China",
         "no",
         "no",
         "English",
         "Toronto",
         "-0.99462"
        ],
        [
         "1954",
         "Pratte",
         "China",
         "no",
         "no",
         "English",
         "Toronto",
         "-0.99462"
        ],
        [
         "1999",
         "Mahoney",
         "China",
         "no",
         "yes",
         "English",
         "Toronto",
         "-0.99462"
        ],
        [
         "2054",
         "Desjardins",
         "China",
         "yes",
         "no",
         "English",
         "other",
         "-0.99462"
        ],
        [
         "2060",
         "Hugessen",
         "China",
         "yes",
         "no",
         "English",
         "Montreal",
         "-0.99462"
        ],
        [
         "2088",
         "Desjardins",
         "China",
         "no",
         "no",
         "English",
         "other",
         "-0.99462"
        ],
        [
         "2115",
         "Marceau",
         "China",
         "no",
         "no",
         "French",
         "Montreal",
         "-0.99462"
        ],
        [
         "2125",
         "Heald",
         "China",
         "no",
         "no",
         "English",
         "other",
         "-0.99462"
        ],
        [
         "2131",
         "Pratte",
         "China",
         "no",
         "no",
         "English",
         "Toronto",
         "-0.99462"
        ],
        [
         "2148",
         "Pratte",
         "China",
         "yes",
         "no",
         "French",
         "Montreal",
         "-0.99462"
        ],
        [
         "2163",
         "Stone",
         "China",
         "no",
         "no",
         "English",
         "Toronto",
         "-0.99462"
        ],
        [
         "2208",
         "Hugessen",
         "China",
         "no",
         "no",
         "French",
         "Montreal",
         "-0.99462"
        ],
        [
         "2289",
         "MacGuigan",
         "China",
         "no",
         "no",
         "English",
         "Toronto",
         "-0.99462"
        ],
        [
         "2290",
         "MacGuigan",
         "China",
         "no",
         "no",
         "English",
         "Toronto",
         "-0.99462"
        ],
        [
         "2293",
         "MacGuigan",
         "China",
         "no",
         "no",
         "English",
         "other",
         "-0.99462"
        ],
        [
         "2315",
         "MacGuigan",
         "China",
         "no",
         "yes",
         "English",
         "Toronto",
         "-0.99462"
        ],
        [
         "2322",
         "MacGuigan",
         "China",
         "yes",
         "yes",
         "French",
         "Toronto",
         "-0.99462"
        ],
        [
         "2338",
         "Pratte",
         "China",
         "no",
         "no",
         "English",
         "Toronto",
         "-0.99462"
        ],
        [
         "2350",
         "Hugessen",
         "China",
         "no",
         "no",
         "English",
         "Toronto",
         "-0.99462"
        ],
        [
         "2394",
         "Pratte",
         "China",
         "no",
         "no",
         "French",
         "Montreal",
         "-0.99462"
        ],
        [
         "2418",
         "MacGuigan",
         "China",
         "no",
         "no",
         "English",
         "Toronto",
         "-0.99462"
        ],
        [
         "2442",
         "Mahoney",
         "China",
         "no",
         "no",
         "English",
         "Toronto",
         "-0.99462"
        ],
        [
         "2443",
         "MacGuigan",
         "China",
         "yes",
         "yes",
         "English",
         "Toronto",
         "-0.99462"
        ],
        [
         "2456",
         "Heald",
         "China",
         "no",
         "no",
         "English",
         "Toronto",
         "-0.99462"
        ],
        [
         "2461",
         "Hugessen",
         "China",
         "no",
         "yes",
         "English",
         "Toronto",
         "-0.99462"
        ],
        [
         "340",
         "Hugessen",
         "Bulgaria",
         "no",
         "no",
         "French",
         "Montreal",
         "-2.09074"
        ],
        [
         "343",
         "Hugessen",
         "Bulgaria",
         "no",
         "no",
         "French",
         "Montreal",
         "-2.09074"
        ],
        [
         "345",
         "MacGuigan",
         "Bulgaria",
         "no",
         "no",
         "French",
         "Montreal",
         "-2.09074"
        ],
        [
         "362",
         "Desjardins",
         "Bulgaria",
         "yes",
         "yes",
         "English",
         "other",
         "-2.09074"
        ],
        [
         "426",
         "Hugessen",
         "Bulgaria",
         "no",
         "no",
         "French",
         "Montreal",
         "-2.09074"
        ],
        [
         "488",
         "Heald",
         "Bulgaria",
         "no",
         "no",
         "English",
         "other",
         "-2.09074"
        ],
        [
         "540",
         "MacGuigan",
         "Bulgaria",
         "no",
         "no",
         "English",
         "Toronto",
         "-2.09074"
        ],
        [
         "546",
         "Pratte",
         "Bulgaria",
         "yes",
         "no",
         "French",
         "Montreal",
         "-2.09074"
        ],
        [
         "548",
         "Pratte",
         "Bulgaria",
         "no",
         "no",
         "English",
         "Montreal",
         "-2.09074"
        ],
        [
         "579",
         "Desjardins",
         "Bulgaria",
         "yes",
         "yes",
         "French",
         "Montreal",
         "-2.09074"
        ],
        [
         "617",
         "MacGuigan",
         "Bulgaria",
         "yes",
         "no",
         "French",
         "Montreal",
         "-2.09074"
        ],
        [
         "1031",
         "Urie",
         "Bulgaria",
         "no",
         "no",
         "English",
         "other",
         "-2.09074"
        ],
        [
         "1731",
         "MacGuigan",
         "Bulgaria",
         "no",
         "no",
         "French",
         "Montreal",
         "-2.09074"
        ],
        [
         "1742",
         "Marceau",
         "Bulgaria",
         "no",
         "no",
         "French",
         "Montreal",
         "-2.09074"
        ],
        [
         "1763",
         "MacGuigan",
         "Bulgaria",
         "no",
         "no",
         "French",
         "Montreal",
         "-2.09074"
        ],
        [
         "1764",
         "Pratte",
         "Bulgaria",
         "no",
         "no",
         "French",
         "Montreal",
         "-2.09074"
        ],
        [
         "1765",
         "MacGuigan",
         "Bulgaria",
         "no",
         "no",
         "French",
         "Montreal",
         "-2.09074"
        ],
        [
         "1771",
         "MacGuigan",
         "Bulgaria",
         "no",
         "no",
         "French",
         "Montreal",
         "-2.09074"
        ],
        [
         "1841",
         "Heald",
         "Bulgaria",
         "no",
         "no",
         "English",
         "Toronto",
         "-2.09074"
        ],
        [
         "1949",
         "Heald",
         "Bulgaria",
         "no",
         "no",
         "English",
         "other",
         "-2.09074"
        ],
        [
         "1951",
         "Pratte",
         "Bulgaria",
         "no",
         "no",
         "French",
         "Montreal",
         "-2.09074"
        ],
        [
         "1975",
         "Hugessen",
         "Bulgaria",
         "no",
         "no",
         "French",
         "Montreal",
         "-2.09074"
        ],
        [
         "1995",
         "Pratte",
         "Bulgaria",
         "no",
         "yes",
         "English",
         "other",
         "-2.09074"
        ],
        [
         "2049",
         "Hugessen",
         "Bulgaria",
         "no",
         "no",
         "French",
         "Montreal",
         "-2.09074"
        ],
        [
         "2089",
         "Stone",
         "Bulgaria",
         "no",
         "no",
         "English",
         "Toronto",
         "-2.09074"
        ],
        [
         "2142",
         "Desjardins",
         "Bulgaria",
         "no",
         "no",
         "English",
         "other",
         "-2.09074"
        ],
        [
         "2174",
         "Pratte",
         "Bulgaria",
         "yes",
         "no",
         "English",
         "other",
         "-2.09074"
        ],
        [
         "2229",
         "MacGuigan",
         "Bulgaria",
         "no",
         "no",
         "English",
         "Montreal",
         "-2.09074"
        ],
        [
         "2231",
         "Desjardins",
         "Bulgaria",
         "no",
         "no",
         "English",
         "Toronto",
         "-2.09074"
        ],
        [
         "2330",
         "Pratte",
         "Bulgaria",
         "no",
         "no",
         "French",
         "Montreal",
         "-2.09074"
        ],
        [
         "2348",
         "Pratte",
         "Bulgaria",
         "no",
         "no",
         "French",
         "Montreal",
         "-2.09074"
        ],
        [
         "2366",
         "Hugessen",
         "Bulgaria",
         "no",
         "no",
         "French",
         "Montreal",
         "-2.09074"
        ],
        [
         "2374",
         "Pratte",
         "Bulgaria",
         "no",
         "no",
         "French",
         "Montreal",
         "-2.09074"
        ],
        [
         "2388",
         "MacGuigan",
         "Bulgaria",
         "no",
         "no",
         "French",
         "Montreal",
         "-2.09074"
        ],
        [
         "2431",
         "MacGuigan",
         "Bulgaria",
         "no",
         "no",
         "French",
         "Montreal",
         "-2.09074"
        ],
        [
         "2445",
         "Desjardins",
         "Bulgaria",
         "no",
         "yes",
         "French",
         "Montreal",
         "-2.09074"
        ],
        [
         "506",
         "Hugessen",
         "Argentina",
         "no",
         "no",
         "French",
         "Montreal",
         "-0.80012"
        ],
        [
         "1383",
         "Marceau",
         "Argentina",
         "yes",
         "yes",
         "French",
         "Montreal",
         "-0.80012"
        ],
        [
         "1384",
         "Desjardins",
         "Argentina",
         "yes",
         "yes",
         "French",
         "Montreal",
         "-0.80012"
        ],
        [
         "1643",
         "Heald",
         "Argentina",
         "yes",
         "no",
         "English",
         "Toronto",
         "-0.80012"
        ],
        [
         "2336",
         "Pratte",
         "Argentina",
         "no",
         "no",
         "English",
         "Toronto",
         "-0.80012"
        ]
       ],
       "datasetInfos": [],
       "dbfsResultPath": null,
       "isJsonSchema": true,
       "metadata": {},
       "overflow": false,
       "plotOptions": {
        "customPlotOptions": {},
        "displayType": "table",
        "pivotAggregation": null,
        "pivotColumns": null,
        "xColumns": null,
        "yColumns": null
       },
       "removedWidgets": [],
       "schema": [
        {
         "metadata": "{}",
         "name": "_c0",
         "type": "\"string\""
        },
        {
         "metadata": "{}",
         "name": "judge",
         "type": "\"string\""
        },
        {
         "metadata": "{}",
         "name": "nation",
         "type": "\"string\""
        },
        {
         "metadata": "{}",
         "name": "rater",
         "type": "\"string\""
        },
        {
         "metadata": "{}",
         "name": "decision",
         "type": "\"string\""
        },
        {
         "metadata": "{}",
         "name": "language",
         "type": "\"string\""
        },
        {
         "metadata": "{}",
         "name": "location",
         "type": "\"string\""
        },
        {
         "metadata": "{}",
         "name": "success",
         "type": "\"string\""
        }
       ],
       "type": "table"
      }
     },
     "output_type": "display_data"
    }
   ],
   "source": [
    "file='/databricks-datasets/Rdatasets/data-001/csv/car/Greene.csv'\n",
    "\n",
    "from pyspark.sql.functions import *\n",
    "\n",
    "df= spark.read.option(\"header\", \"true\").csv(file)\n",
    "sorted_df = df.orderBy(df[\"nation\"].desc())\n",
    "display(sorted_df)\n",
    "\n",
    "\n",
    "# sorted_df = df.orderBy([\"column1\", \"column2\"])  # sort by column1 ascending, then column2 ascending\n",
    "# sorted_df = df.orderBy(df.column1.desc(), \"column2\")  # sort by column1 descending, then column2 ascending"
   ]
  },
  {
   "cell_type": "markdown",
   "metadata": {
    "application/vnd.databricks.v1+cell": {
     "cellMetadata": {},
     "inputWidgets": {},
     "nuid": "dc4af471-1e2c-448c-b18a-31ee84b5700c",
     "showTitle": false,
     "title": ""
    }
   },
   "source": [
    "Let's look at the data once more..."
   ]
  },
  {
   "cell_type": "code",
   "execution_count": 0,
   "metadata": {
    "application/vnd.databricks.v1+cell": {
     "cellMetadata": {
      "byteLimit": 2048000,
      "implicitDf": true,
      "rowLimit": 10000
     },
     "inputWidgets": {},
     "nuid": "cc42ffe2-d333-4857-abf7-7b2bd8c62c50",
     "showTitle": false,
     "title": ""
    }
   },
   "outputs": [
    {
     "output_type": "display_data",
     "data": {
      "text/html": [
       "<style scoped>\n  .table-result-container {\n    max-height: 300px;\n    overflow: auto;\n  }\n  table, th, td {\n    border: 1px solid black;\n    border-collapse: collapse;\n  }\n  th, td {\n    padding: 5px;\n  }\n  th {\n    text-align: left;\n  }\n</style><div class='table-result-container'><table class='table-result'><thead style='background-color: white'><tr><th>nation</th><th>count</th></tr></thead><tbody><tr><td>Fiji</td><td>1</td></tr><tr><td>India</td><td>3</td></tr><tr><td>Pakistan</td><td>4</td></tr><tr><td>Argentina</td><td>5</td></tr><tr><td>Guatemala</td><td>5</td></tr><tr><td>Nicaragua</td><td>6</td></tr><tr><td>Nigeria</td><td>7</td></tr><tr><td>Ghana</td><td>9</td></tr><tr><td>Poland</td><td>11</td></tr><tr><td>Iran</td><td>16</td></tr><tr><td>Czechoslovakia</td><td>24</td></tr><tr><td>El.Salvador</td><td>26</td></tr><tr><td>Somalia</td><td>29</td></tr><tr><td>Bulgaria</td><td>36</td></tr><tr><td>Sri.Lanka</td><td>63</td></tr><tr><td>China</td><td>68</td></tr><tr><td>Lebanon</td><td>71</td></tr></tbody></table></div>"
      ]
     },
     "metadata": {
      "application/vnd.databricks.v1+output": {
       "addedWidgets": {},
       "aggData": [],
       "aggError": "",
       "aggOverflow": false,
       "aggSchema": [],
       "aggSeriesLimitReached": false,
       "aggType": "",
       "arguments": {},
       "columnCustomDisplayInfos": {},
       "data": [
        [
         "Fiji",
         1
        ],
        [
         "India",
         3
        ],
        [
         "Pakistan",
         4
        ],
        [
         "Argentina",
         5
        ],
        [
         "Guatemala",
         5
        ],
        [
         "Nicaragua",
         6
        ],
        [
         "Nigeria",
         7
        ],
        [
         "Ghana",
         9
        ],
        [
         "Poland",
         11
        ],
        [
         "Iran",
         16
        ],
        [
         "Czechoslovakia",
         24
        ],
        [
         "El.Salvador",
         26
        ],
        [
         "Somalia",
         29
        ],
        [
         "Bulgaria",
         36
        ],
        [
         "Sri.Lanka",
         63
        ],
        [
         "China",
         68
        ],
        [
         "Lebanon",
         71
        ]
       ],
       "datasetInfos": [],
       "dbfsResultPath": null,
       "isJsonSchema": true,
       "metadata": {},
       "overflow": false,
       "plotOptions": {
        "customPlotOptions": {},
        "displayType": "table",
        "pivotAggregation": null,
        "pivotColumns": null,
        "xColumns": null,
        "yColumns": null
       },
       "removedWidgets": [],
       "schema": [
        {
         "metadata": "{}",
         "name": "nation",
         "type": "\"string\""
        },
        {
         "metadata": "{}",
         "name": "count",
         "type": "\"long\""
        }
       ],
       "type": "table"
      }
     },
     "output_type": "display_data"
    }
   ],
   "source": [
    "# value_counts - ascending\n",
    "sorted_df.groupby(\"nation\").count().orderBy('count').display()"
   ]
  },
  {
   "cell_type": "code",
   "execution_count": 0,
   "metadata": {
    "application/vnd.databricks.v1+cell": {
     "cellMetadata": {
      "byteLimit": 2048000,
      "rowLimit": 10000
     },
     "inputWidgets": {},
     "nuid": "2031af39-3a86-4a09-93b6-7a9d6eac4fdd",
     "showTitle": false,
     "title": ""
    }
   },
   "outputs": [
    {
     "output_type": "display_data",
     "data": {
      "text/html": [
       "<style scoped>\n  .table-result-container {\n    max-height: 300px;\n    overflow: auto;\n  }\n  table, th, td {\n    border: 1px solid black;\n    border-collapse: collapse;\n  }\n  th, td {\n    padding: 5px;\n  }\n  th {\n    text-align: left;\n  }\n</style><div class='table-result-container'><table class='table-result'><thead style='background-color: white'><tr><th>nation</th><th>count</th></tr></thead><tbody><tr><td>Lebanon</td><td>71</td></tr><tr><td>China</td><td>68</td></tr><tr><td>Sri.Lanka</td><td>63</td></tr><tr><td>Bulgaria</td><td>36</td></tr><tr><td>Somalia</td><td>29</td></tr><tr><td>El.Salvador</td><td>26</td></tr><tr><td>Czechoslovakia</td><td>24</td></tr><tr><td>Iran</td><td>16</td></tr><tr><td>Poland</td><td>11</td></tr><tr><td>Ghana</td><td>9</td></tr><tr><td>Nigeria</td><td>7</td></tr><tr><td>Nicaragua</td><td>6</td></tr><tr><td>Argentina</td><td>5</td></tr><tr><td>Guatemala</td><td>5</td></tr><tr><td>Pakistan</td><td>4</td></tr><tr><td>India</td><td>3</td></tr><tr><td>Fiji</td><td>1</td></tr></tbody></table></div>"
      ]
     },
     "metadata": {
      "application/vnd.databricks.v1+output": {
       "addedWidgets": {},
       "aggData": [],
       "aggError": "",
       "aggOverflow": false,
       "aggSchema": [],
       "aggSeriesLimitReached": false,
       "aggType": "",
       "arguments": {},
       "columnCustomDisplayInfos": {},
       "data": [
        [
         "Lebanon",
         71
        ],
        [
         "China",
         68
        ],
        [
         "Sri.Lanka",
         63
        ],
        [
         "Bulgaria",
         36
        ],
        [
         "Somalia",
         29
        ],
        [
         "El.Salvador",
         26
        ],
        [
         "Czechoslovakia",
         24
        ],
        [
         "Iran",
         16
        ],
        [
         "Poland",
         11
        ],
        [
         "Ghana",
         9
        ],
        [
         "Nigeria",
         7
        ],
        [
         "Nicaragua",
         6
        ],
        [
         "Argentina",
         5
        ],
        [
         "Guatemala",
         5
        ],
        [
         "Pakistan",
         4
        ],
        [
         "India",
         3
        ],
        [
         "Fiji",
         1
        ]
       ],
       "datasetInfos": [],
       "dbfsResultPath": null,
       "isJsonSchema": true,
       "metadata": {},
       "overflow": false,
       "plotOptions": {
        "customPlotOptions": {},
        "displayType": "table",
        "pivotAggregation": null,
        "pivotColumns": null,
        "xColumns": null,
        "yColumns": null
       },
       "removedWidgets": [],
       "schema": [
        {
         "metadata": "{}",
         "name": "nation",
         "type": "\"string\""
        },
        {
         "metadata": "{}",
         "name": "count",
         "type": "\"long\""
        }
       ],
       "type": "table"
      }
     },
     "output_type": "display_data"
    }
   ],
   "source": [
    "# value_counts - descending\n",
    "df= spark.read.option(\"header\", \"true\").csv(file).groupby(\"nation\").count()\n",
    "sorted_df = df.orderBy(df[\"count\"].desc())\n",
    "display(sorted_df)"
   ]
  },
  {
   "cell_type": "markdown",
   "metadata": {
    "application/vnd.databricks.v1+cell": {
     "cellMetadata": {},
     "inputWidgets": {},
     "nuid": "03f75508-efa2-4932-8453-447f87bc9cc6",
     "showTitle": false,
     "title": ""
    }
   },
   "source": [
    "##![Spark Logo Tiny](https://files.training.databricks.com/images/105/logo_spark_tiny.png) filter(..) & where(..)"
   ]
  },
  {
   "cell_type": "markdown",
   "metadata": {
    "application/vnd.databricks.v1+cell": {
     "cellMetadata": {},
     "inputWidgets": {},
     "nuid": "6c4d3c50-27e7-43ff-a554-7e5ffcc40fb6",
     "showTitle": false,
     "title": ""
    }
   },
   "source": [
    "If you look at the API docs, `filter(..)` and `where(..)` are described like this:\n",
    "> Filters rows using the given condition.\n",
    "\n",
    "Both `filter(..)` and `where(..)` return a new dataset containing only those records for which the specified condition is true.\n",
    "* Like `distinct()` and `dropDuplicates()`, `filter(..)` and `where(..)` are aliases for each other.\n",
    "  * `filter(..)` appealing to functional programmers.\n",
    "  * `where(..)` appealing to developers with an SQL background.\n",
    "* Like `orderBy(..)` there are two variants of these two methods:\n",
    "  * `filter(Column)`\n",
    "  * `filter(String)`\n",
    "  * `where(Column)`\n",
    "  * `where(String)`\n",
    "* Unlike `orderBy(String)` which requires a column name, `filter(String)` and `where(String)` both expect an SQL expression.\n",
    "\n",
    "Let's start by looking at the variant using an SQL expression:"
   ]
  },
  {
   "cell_type": "markdown",
   "metadata": {
    "application/vnd.databricks.v1+cell": {
     "cellMetadata": {},
     "inputWidgets": {},
     "nuid": "6fd4f751-1c87-414e-ba5d-93cf5503f257",
     "showTitle": false,
     "title": ""
    }
   },
   "source": [
    "### filter(..) & where(..) w/SQL Expression"
   ]
  },
  {
   "cell_type": "code",
   "execution_count": 0,
   "metadata": {
    "application/vnd.databricks.v1+cell": {
     "cellMetadata": {
      "byteLimit": 2048000,
      "rowLimit": 10000
     },
     "inputWidgets": {},
     "nuid": "dfaf8a30-0df7-4dd4-b10d-03cbd23e9e65",
     "showTitle": false,
     "title": ""
    }
   },
   "outputs": [
    {
     "output_type": "stream",
     "name": "stdout",
     "output_type": "stream",
     "text": [
      "+----+--------+------+-----+--------+--------+--------+--------+\n|_c0 |judge   |nation|rater|decision|language|location|success |\n+----+--------+------+-----+--------+--------+--------+--------+\n|83  |Stone   |Poland|yes  |no      |English |other   |-1.81529|\n|161 |Hugessen|Poland|yes  |no      |French  |Montreal|-1.81529|\n|366 |Heald   |Poland|no   |no      |English |other   |-1.81529|\n|480 |Hugessen|Poland|yes  |no      |French  |Montreal|-1.81529|\n|522 |Marceau |Poland|no   |no      |French  |Montreal|-1.81529|\n|1004|Hugessen|Poland|no   |no      |French  |Montreal|-1.81529|\n|1032|Urie    |Poland|no   |no      |English |other   |-1.81529|\n|1494|Hugessen|Poland|no   |no      |French  |Montreal|-1.81529|\n|1743|Pratte  |Poland|no   |no      |English |Toronto |-1.81529|\n|1886|Marceau |Poland|no   |no      |French  |Montreal|-1.81529|\n+----+--------+------+-----+--------+--------+--------+--------+\nonly showing top 10 rows\n\n"
     ]
    }
   ],
   "source": [
    "df= spark.read.option(\"header\", \"true\").csv(file).where( \"nation = 'Poland'\" ).show(10, False)"
   ]
  },
  {
   "cell_type": "markdown",
   "metadata": {
    "application/vnd.databricks.v1+cell": {
     "cellMetadata": {},
     "inputWidgets": {},
     "nuid": "4b74c5bf-8112-4a41-afe7-c9d1be51512a",
     "showTitle": false,
     "title": ""
    }
   },
   "source": [
    "### filter(..) & where(..) w/Column"
   ]
  },
  {
   "cell_type": "code",
   "execution_count": 0,
   "metadata": {
    "application/vnd.databricks.v1+cell": {
     "cellMetadata": {
      "byteLimit": 2048000,
      "rowLimit": 10000
     },
     "inputWidgets": {},
     "nuid": "89a6ae57-02c0-4aee-91f4-d9be304cd8ab",
     "showTitle": false,
     "title": ""
    }
   },
   "outputs": [
    {
     "output_type": "stream",
     "name": "stdout",
     "output_type": "stream",
     "text": [
      "+---+---------+------+-----+--------+--------+--------+--------+\n|_c0|judge    |nation|rater|decision|language|location|success |\n+---+---------+------+-----+--------+--------+--------+--------+\n|52 |Pratte   |China |no   |no      |English |other   |-0.99462|\n|77 |MacGuigan|China |no   |no      |French  |Montreal|-0.99462|\n|323|Urie     |China |no   |no      |English |Toronto |-0.99462|\n|328|MacGuigan|China |no   |no      |French  |Montreal|-0.99462|\n|365|Marceau  |China |no   |no      |English |Toronto |-0.99462|\n+---+---------+------+-----+--------+--------+--------+--------+\nonly showing top 5 rows\n\n"
     ]
    }
   ],
   "source": [
    "df= spark.read.option(\"header\", \"true\").csv(file).filter( col(\"nation\") == 'China' ).show(5, False)\n"
   ]
  },
  {
   "cell_type": "code",
   "execution_count": 0,
   "metadata": {
    "application/vnd.databricks.v1+cell": {
     "cellMetadata": {
      "byteLimit": 2048000,
      "rowLimit": 10000
     },
     "inputWidgets": {},
     "nuid": "71377225-7e2b-4c6a-9c39-261e4d333f63",
     "showTitle": false,
     "title": ""
    }
   },
   "outputs": [
    {
     "output_type": "stream",
     "name": "stdout",
     "output_type": "stream",
     "text": [
      "+---+---------+---------+-----+--------+--------+--------+--------+\n|_c0|    judge|   nation|rater|decision|language|location| success|\n+---+---------+---------+-----+--------+--------+--------+--------+\n|105|   Pratte|Nicaragua|  yes|      no| English|   other|-1.58563|\n|107|Iacobucci|  Nigeria|   no|      no| English| Toronto|-1.20831|\n|115| Hugessen|Nicaragua|  yes|      no| English| Toronto|-1.58563|\n|507|  Mahoney|  Nigeria|  yes|     yes| English| Toronto|-1.20831|\n|533|MacGuigan|  Nigeria|   no|      no| English| Toronto|-1.20831|\n+---+---------+---------+-----+--------+--------+--------+--------+\nonly showing top 5 rows\n\n"
     ]
    }
   ],
   "source": [
    "df = spark.read.option(\"header\", \"true\").csv(file)\n",
    "filtered_df = df.filter(col(\"nation\").startswith(\"Ni\"))\n",
    "filtered_df.show(5)\n"
   ]
  },
  {
   "cell_type": "markdown",
   "metadata": {
    "application/vnd.databricks.v1+cell": {
     "cellMetadata": {},
     "inputWidgets": {},
     "nuid": "79bf0556-6f81-4b96-b330-8bacbb2382b4",
     "showTitle": false,
     "title": ""
    }
   },
   "source": [
    "##![Spark Logo Tiny](https://files.training.databricks.com/images/105/logo_spark_tiny.png) first() & head()\n",
    "\n",
    "If you look at the API docs, both `first(..)` and `head(..)` are described like this:\n",
    "> Returns the first row.\n",
    "\n",
    "Just like `distinct()` & `dropDuplicates()` are aliases for each other, so are `first(..)` and `head(..)`.\n",
    "\n",
    "However, unlike `distinct()` & `dropDuplicates()` which are **transformations** `first(..)` and `head(..)` are **actions**.\n",
    "\n",
    "Once all processing is done, these methods return the object backing the first record.\n",
    "\n",
    "In the case of `DataFrames` (both Scala and Python) that object is a `Row`.\n",
    "\n",
    "In the case of `Datasets` (the strongly typed version of `DataFrames` in Scala and Java), the object may be a `Row`, a `String`, a `Customer`, a `PendingApplication` or any number of custom objects.\n",
    "\n",
    "Focusing strictly on the `DataFrame` API for now, let's take a look at a call with `head()`:"
   ]
  },
  {
   "cell_type": "code",
   "execution_count": 0,
   "metadata": {
    "application/vnd.databricks.v1+cell": {
     "cellMetadata": {
      "byteLimit": 2048000,
      "rowLimit": 10000
     },
     "inputWidgets": {},
     "nuid": "85e8e7bd-02e5-4753-bdaf-ab476190d23e",
     "showTitle": false,
     "title": ""
    }
   },
   "outputs": [
    {
     "output_type": "stream",
     "name": "stdout",
     "output_type": "stream",
     "text": [
      "Out[62]: Row(_c0='105', judge='Pratte', nation='Nicaragua', rater='yes', decision='no', language='English', location='other', success='-1.58563')"
     ]
    }
   ],
   "source": [
    "filtered_df.first()"
   ]
  },
  {
   "cell_type": "code",
   "execution_count": 0,
   "metadata": {
    "application/vnd.databricks.v1+cell": {
     "cellMetadata": {
      "byteLimit": 2048000,
      "rowLimit": 10000
     },
     "inputWidgets": {},
     "nuid": "c2063a35-f170-4b79-ab18-42aabd4e9403",
     "showTitle": false,
     "title": ""
    }
   },
   "outputs": [
    {
     "output_type": "stream",
     "name": "stdout",
     "output_type": "stream",
     "text": [
      "Out[64]: [Row(_c0='105', judge='Pratte', nation='Nicaragua', rater='yes', decision='no', language='English', location='other', success='-1.58563'),\n Row(_c0='107', judge='Iacobucci', nation='Nigeria', rater='no', decision='no', language='English', location='Toronto', success='-1.20831'),\n Row(_c0='115', judge='Hugessen', nation='Nicaragua', rater='yes', decision='no', language='English', location='Toronto', success='-1.58563'),\n Row(_c0='507', judge='Mahoney', nation='Nigeria', rater='yes', decision='yes', language='English', location='Toronto', success='-1.20831'),\n Row(_c0='533', judge='MacGuigan', nation='Nigeria', rater='no', decision='no', language='English', location='Toronto', success='-1.20831')]"
     ]
    }
   ],
   "source": [
    "filtered_df.head(5)"
   ]
  },
  {
   "cell_type": "markdown",
   "metadata": {
    "application/vnd.databricks.v1+cell": {
     "cellMetadata": {},
     "inputWidgets": {},
     "nuid": "34152700-e660-4d9e-bf0a-e75b878328e2",
     "showTitle": false,
     "title": ""
    }
   },
   "source": [
    "##![Spark Logo Tiny](https://files.training.databricks.com/images/105/logo_spark_tiny.png) The Row Class\n",
    "\n",
    "Now that we have a reference to the object backing the first row (or any row), we can use it to extract the data for each column.\n",
    "\n",
    "Before we do, let's take a look at the API docs for the `Row` class.\n",
    "\n",
    "At the heart of it, we are simply going to ask for the value of the object in column N via `Row.get(i)`.\n",
    "\n",
    "Python being a loosely typed language, the return value is of no real consequence.\n",
    "\n",
    "However, Scala is going to return an object of type `Any`. In Java, this would be an object of type `Object`.\n",
    "\n",
    "What we need (at least for Scala), especially if the data type matters in cases of performing mathematical operations on the value, we need to call one of the other methods:\n",
    "* `getAs[T](i):T`\n",
    "* `getDate(i):Date`\n",
    "* `getString(i):String`\n",
    "* `getInt(i):Int`\n",
    "* `getLong(i):Long`\n",
    "\n",
    "We can now put it all together to get the number of requests for the most requested project:"
   ]
  },
  {
   "cell_type": "code",
   "execution_count": 0,
   "metadata": {
    "application/vnd.databricks.v1+cell": {
     "cellMetadata": {
      "byteLimit": 2048000,
      "rowLimit": 10000
     },
     "inputWidgets": {},
     "nuid": "72a2e4da-09a6-4714-938b-de2f33bf310d",
     "showTitle": false,
     "title": ""
    }
   },
   "outputs": [
    {
     "output_type": "stream",
     "name": "stdout",
     "output_type": "stream",
     "text": [
      "Out[67]: 'Nicaragua'"
     ]
    }
   ],
   "source": [
    "firstRow = filtered_df.first()\n",
    "firstRow['nation']"
   ]
  },
  {
   "cell_type": "code",
   "execution_count": 0,
   "metadata": {
    "application/vnd.databricks.v1+cell": {
     "cellMetadata": {
      "byteLimit": 2048000,
      "rowLimit": 10000
     },
     "inputWidgets": {},
     "nuid": "a633150a-027a-482a-971c-cbe72e8691ed",
     "showTitle": false,
     "title": ""
    }
   },
   "outputs": [
    {
     "output_type": "stream",
     "name": "stdout",
     "output_type": "stream",
     "text": [
      "Nicaragua -1.58563\n"
     ]
    }
   ],
   "source": [
    "\n",
    "firstRow = filtered_df.first()\n",
    "nation = firstRow['nation']\n",
    "success = firstRow['success']\n",
    "\n",
    "print(article, success )"
   ]
  },
  {
   "cell_type": "markdown",
   "metadata": {
    "application/vnd.databricks.v1+cell": {
     "cellMetadata": {},
     "inputWidgets": {},
     "nuid": "4dcac4fc-4a9a-4c72-b7c8-0e9f9aff9d23",
     "showTitle": false,
     "title": ""
    }
   },
   "source": [
    "##![Spark Logo Tiny](https://files.training.databricks.com/images/105/logo_spark_tiny.png) collect()\n",
    "\n",
    "If you look at the API docs, `collect(..)` is described like this:\n",
    "> Returns an array that contains all of Rows in this Dataset.\n",
    "\n",
    "`collect()` returns a collection of the specific type backing each record of the `DataFrame`.\n",
    "* In the case of Python, this is always the `Row` object.\n",
    "* In the case of Scala, this is also a `Row` object.\n",
    "* If the `DataFrame` was converted to a `Dataset` the backing object would be the user-specified object.\n",
    "\n",
    "Building on our last example, let's take the top 10 records and print them out."
   ]
  },
  {
   "cell_type": "code",
   "execution_count": 0,
   "metadata": {
    "application/vnd.databricks.v1+cell": {
     "cellMetadata": {
      "byteLimit": 2048000,
      "rowLimit": 10000
     },
     "inputWidgets": {},
     "nuid": "aa674023-017a-439c-ba0f-8b725cfb4c3b",
     "showTitle": false,
     "title": ""
    }
   },
   "outputs": [
    {
     "output_type": "stream",
     "name": "stdout",
     "output_type": "stream",
     "text": [
      "\n<body>\n  <h1>Top 10 Articles</h1>\n  <ol>\n    <li><b>Nicaragua</b> -1.58563</li>\n    <li><b>Nigeria</b> -1.20831</li>\n    <li><b>Nicaragua</b> -1.58563</li>\n    <li><b>Nigeria</b> -1.20831</li>\n    <li><b>Nigeria</b> -1.20831</li>\n    <li><b>Nicaragua</b> -1.58563</li>\n    <li><b>Nicaragua</b> -1.58563</li>\n    <li><b>Nicaragua</b> -1.58563</li>\n    <li><b>Nigeria</b> -1.20831</li>\n    <li><b>Nicaragua</b> -1.58563</li>\n  </ol>\n</body>\n\n"
     ]
    }
   ],
   "source": [
    "rows = (filtered_df\n",
    "  .limit(10)           # We only want the first 10 records.\n",
    "  .collect()           # The action returning all records in the DataFrame\n",
    ")\n",
    "\n",
    "# rows is an Array. Now in the driver, \n",
    "# we can just loop over the array and print 'em out.\n",
    "\n",
    "listItems = \"\"\n",
    "for row in rows:\n",
    "  nation = row['nation']\n",
    "  total = row['success']\n",
    "  listItems += f\"    <li><b>{nation}</b> {total}</li>\\n\"\n",
    "  \n",
    "html = \"\"\"\n",
    "<body>\n",
    "  <h1>Top 10 Articles</h1>\n",
    "  <ol>\n",
    "    %s\n",
    "  </ol>\n",
    "</body>\n",
    "\"\"\" % (listItems.strip())\n",
    "\n",
    "print(html)\n",
    "\n"
   ]
  },
  {
   "cell_type": "code",
   "execution_count": 0,
   "metadata": {
    "application/vnd.databricks.v1+cell": {
     "cellMetadata": {
      "byteLimit": 2048000,
      "rowLimit": 10000
     },
     "inputWidgets": {},
     "nuid": "3344fac2-73bc-42af-82d1-0dec00aed629",
     "showTitle": false,
     "title": ""
    }
   },
   "outputs": [
    {
     "output_type": "display_data",
     "data": {
      "text/html": [
       "\n<body>\n  <h1>Top 10 Articles</h1>\n  <ol>\n    <li><b>Nicaragua</b> -1.58563</li>\n    <li><b>Nigeria</b> -1.20831</li>\n    <li><b>Nicaragua</b> -1.58563</li>\n    <li><b>Nigeria</b> -1.20831</li>\n    <li><b>Nigeria</b> -1.20831</li>\n    <li><b>Nicaragua</b> -1.58563</li>\n    <li><b>Nicaragua</b> -1.58563</li>\n    <li><b>Nicaragua</b> -1.58563</li>\n    <li><b>Nigeria</b> -1.20831</li>\n    <li><b>Nicaragua</b> -1.58563</li>\n  </ol>\n</body>\n"
      ]
     },
     "metadata": {
      "application/vnd.databricks.v1+output": {
       "addedWidgets": {},
       "arguments": {},
       "data": "\n<body>\n  <h1>Top 10 Articles</h1>\n  <ol>\n    <li><b>Nicaragua</b> -1.58563</li>\n    <li><b>Nigeria</b> -1.20831</li>\n    <li><b>Nicaragua</b> -1.58563</li>\n    <li><b>Nigeria</b> -1.20831</li>\n    <li><b>Nigeria</b> -1.20831</li>\n    <li><b>Nicaragua</b> -1.58563</li>\n    <li><b>Nicaragua</b> -1.58563</li>\n    <li><b>Nicaragua</b> -1.58563</li>\n    <li><b>Nigeria</b> -1.20831</li>\n    <li><b>Nicaragua</b> -1.58563</li>\n  </ol>\n</body>\n",
       "datasetInfos": [],
       "metadata": {},
       "removedWidgets": [],
       "textData": null,
       "type": "htmlSandbox"
      }
     },
     "output_type": "display_data"
    }
   ],
   "source": [
    "# UNCOMMENT FOR A PRETTIER PRESENTATION\n",
    "displayHTML(html)"
   ]
  },
  {
   "cell_type": "markdown",
   "metadata": {
    "application/vnd.databricks.v1+cell": {
     "cellMetadata": {},
     "inputWidgets": {},
     "nuid": "ab199d03-57d9-497d-903a-58ce975f1a4f",
     "showTitle": false,
     "title": ""
    }
   },
   "source": [
    "##![Spark Logo Tiny](https://files.training.databricks.com/images/105/logo_spark_tiny.png) take(n)\n",
    "\n",
    "If you look at the API docs, `take(n)` is described like this:\n",
    "> Returns the first n rows in the Dataset.\n",
    "\n",
    "`take(n)` returns a collection of the first N records of the specific type backing each record of the `DataFrame`.\n",
    "* In the case of Python, this is always the `Row` object.\n",
    "* In the case of Scala, this is also a `Row` object.\n",
    "* If the `DataFrame` was converted to a `Dataset` the backing object would be the user-specified object.\n",
    "\n",
    "In short, it's the same basic function as `collect()` except you specify as the first parameter the number of records to return."
   ]
  },
  {
   "cell_type": "code",
   "execution_count": 0,
   "metadata": {
    "application/vnd.databricks.v1+cell": {
     "cellMetadata": {
      "byteLimit": 2048000,
      "rowLimit": 10000
     },
     "inputWidgets": {},
     "nuid": "d02a47c9-d36c-4ab7-8be6-096c63c769d5",
     "showTitle": false,
     "title": ""
    }
   },
   "outputs": [
    {
     "output_type": "stream",
     "name": "stdout",
     "output_type": "stream",
     "text": [
      "\n<body>\n  <h1>Top 10 Articles</h1>\n  <ol>\n    <li><b>Nicaragua</b> -1.58563</li>\n    <li><b>Nigeria</b> -1.20831</li>\n    <li><b>Nicaragua</b> -1.58563</li>\n    <li><b>Nigeria</b> -1.20831</li>\n    <li><b>Nigeria</b> -1.20831</li>\n    <li><b>Nicaragua</b> -1.58563</li>\n    <li><b>Nicaragua</b> -1.58563</li>\n    <li><b>Nicaragua</b> -1.58563</li>\n    <li><b>Nigeria</b> -1.20831</li>\n    <li><b>Nicaragua</b> -1.58563</li>\n  </ol>\n</body>\n\n"
     ]
    }
   ],
   "source": [
    "rows = filtered_df.take(10)\n",
    "\n",
    "# rows is an Array. Now in the driver, \n",
    "# we can just loop over the array and print 'em out.\n",
    "\n",
    "listItems = \"\"\n",
    "for row in rows:\n",
    "  nation = row['nation']\n",
    "  total = row['success']\n",
    "  listItems += f\"    <li><b>{nation}</b> {total}</li>\\n\"\n",
    "  \n",
    "html = \"\"\"\n",
    "<body>\n",
    "  <h1>Top 10 Articles</h1>\n",
    "  <ol>\n",
    "    %s\n",
    "  </ol>\n",
    "</body>\n",
    "\"\"\" % (listItems.strip())\n",
    "\n",
    "print(html)\n"
   ]
  },
  {
   "cell_type": "code",
   "execution_count": 0,
   "metadata": {
    "application/vnd.databricks.v1+cell": {
     "cellMetadata": {
      "byteLimit": 2048000,
      "rowLimit": 10000
     },
     "inputWidgets": {},
     "nuid": "5ed203cb-4a74-4e03-8469-943c24077f74",
     "showTitle": false,
     "title": ""
    }
   },
   "outputs": [
    {
     "output_type": "display_data",
     "data": {
      "text/html": [
       "\n<body>\n  <h1>Top 10 Articles</h1>\n  <ol>\n    <li><b>Nicaragua</b> -1.58563</li>\n    <li><b>Nigeria</b> -1.20831</li>\n    <li><b>Nicaragua</b> -1.58563</li>\n    <li><b>Nigeria</b> -1.20831</li>\n    <li><b>Nigeria</b> -1.20831</li>\n    <li><b>Nicaragua</b> -1.58563</li>\n    <li><b>Nicaragua</b> -1.58563</li>\n    <li><b>Nicaragua</b> -1.58563</li>\n    <li><b>Nigeria</b> -1.20831</li>\n    <li><b>Nicaragua</b> -1.58563</li>\n  </ol>\n</body>\n"
      ]
     },
     "metadata": {
      "application/vnd.databricks.v1+output": {
       "addedWidgets": {},
       "arguments": {},
       "data": "\n<body>\n  <h1>Top 10 Articles</h1>\n  <ol>\n    <li><b>Nicaragua</b> -1.58563</li>\n    <li><b>Nigeria</b> -1.20831</li>\n    <li><b>Nicaragua</b> -1.58563</li>\n    <li><b>Nigeria</b> -1.20831</li>\n    <li><b>Nigeria</b> -1.20831</li>\n    <li><b>Nicaragua</b> -1.58563</li>\n    <li><b>Nicaragua</b> -1.58563</li>\n    <li><b>Nicaragua</b> -1.58563</li>\n    <li><b>Nigeria</b> -1.20831</li>\n    <li><b>Nicaragua</b> -1.58563</li>\n  </ol>\n</body>\n",
       "datasetInfos": [],
       "metadata": {},
       "removedWidgets": [],
       "textData": null,
       "type": "htmlSandbox"
      }
     },
     "output_type": "display_data"
    }
   ],
   "source": [
    "\n",
    "# UNCOMMENT FOR A PRETTIER PRESENTATION\n",
    "displayHTML(html)"
   ]
  }
 ],
 "metadata": {
  "application/vnd.databricks.v1+notebook": {
   "dashboards": [],
   "language": "python",
   "notebookMetadata": {
    "mostRecentlyExecutedCommandWithImplicitDF": {
     "commandId": -1,
     "dataframes": [
      "_sqldf"
     ]
    },
    "pythonIndentUnit": 2
   },
   "notebookName": "2.DataFrame-Column-Expressions",
   "notebookOrigID": 3017912050262338,
   "widgets": {}
  }
 },
 "nbformat": 4,
 "nbformat_minor": 0
}
