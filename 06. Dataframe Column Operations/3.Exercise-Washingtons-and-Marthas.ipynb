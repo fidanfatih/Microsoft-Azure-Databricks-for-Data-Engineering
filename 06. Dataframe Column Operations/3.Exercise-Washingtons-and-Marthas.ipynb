{
 "cells": [
  {
   "cell_type": "markdown",
   "metadata": {
    "application/vnd.databricks.v1+cell": {
     "cellMetadata": {},
     "inputWidgets": {},
     "nuid": "c64dbc3d-adc5-4007-9807-9c75b86e76b8",
     "showTitle": false,
     "title": ""
    }
   },
   "source": [
    "# Lab Exercise:\n",
    "## Washingtons and Marthas"
   ]
  },
  {
   "cell_type": "markdown",
   "metadata": {
    "application/vnd.databricks.v1+cell": {
     "cellMetadata": {},
     "inputWidgets": {},
     "nuid": "f1880525-22c7-48ea-9f4a-00be1bef23cf",
     "showTitle": false,
     "title": ""
    }
   },
   "source": [
    "-sandbox\n",
    "##![Spark Logo Tiny](https://files.training.databricks.com/images/wiki-book/general/logo_spark_tiny.png) Instructions\n",
    "\n",
    "This data was captured in the August before the 2016 US presidential election.\n",
    "\n",
    "As a result, articles about the candidates were very popular.\n",
    "\n",
    "For this exercise, you will...\n",
    "0. Filter the result to the **en** Wikipedia project.\n",
    "0. Find all the articles where the name of the article **ends** with **_Washington** (presumably \"George Washington\", \"Martha Washington\", etc)\n",
    "0. Return all records as an array to the Driver.\n",
    "0. Assign your array of Washingtons (the return value of your action) to the variable `washingtons`.\n",
    "0. Calculate the sum of requests for the Washingtons and assign it to the variable `totalWashingtons`. <br/>\n",
    "<img alt=\"Hint\" title=\"Hint\" style=\"vertical-align: text-bottom; position: relative; height:1.75em; top:0.3em\" src=\"https://files.training.databricks.com/static/images/icon-light-bulb.svg\"/>&nbsp;**Hint:** We've not yet covered `DataFrame` aggregation techniques, so for this exercise use the array of records you have just obtained.\n",
    "\n",
    "** Bonus **\n",
    "\n",
    "Repeat the exercise for the Marthas\n",
    "0. Filter the result to the **en** Wikipedia project.\n",
    "0. Find all the articles where the name of the article **starts** with **Martha_** (presumably \"Martha Washington\", \"Martha Graham\", etc)\n",
    "0. Return all records as an array to the Driver.\n",
    "0. Assign your array of Marthas (the return value of your action) to the variable `marthas`.\n",
    "0. Calculate the sum of requests for the Marthas and assign it to the variable `totalMarthas`.<br/>\n",
    "<img alt=\"Hint\" title=\"Hint\" style=\"vertical-align: text-bottom; position: relative; height:1.75em; top:0.3em\" src=\"https://files.training.databricks.com/static/images/icon-light-bulb.svg\"/>&nbsp;**Hint:** We've not yet covered `DataFrame` aggregation techniques, so for this exercise use the array of records you have just obtained.\n",
    "0. But you cannot do it the same way twice:\n",
    "   * In the filter, don't use the same conditional method as the one used for the Washingtons.\n",
    "   * Don't use the same action as used for the Washingtons.\n",
    "\n",
    "**Testing**\n",
    "\n",
    "Run the last cell to verify that your results are correct.\n",
    "\n",
    "**Hints**\n",
    "* <img alt=\"Caution\" title=\"Caution\" style=\"vertical-align: text-bottom; position: relative; height:1.3em; top:0.0em\" src=\"https://files.training.databricks.com/static/images/icon-warning.svg\"/> Make sure to include the underscore in the condition.\n",
    "* The actions we've explored for extracting data include:\n",
    "  * `first()`\n",
    "  * `collect()`\n",
    "  * `head()`\n",
    "  * `take(n)`\n",
    "* The conditional methods used with a `filter(..)` include:\n",
    "  * equals\n",
    "  * not-equals\n",
    "  * starts-with\n",
    "  * and there are others - remember, the `DataFrames` API is built upon an SQL engine.\n",
    "* There shouldn't be more than 1000 records for either the Washingtons or the Marthas"
   ]
  },
  {
   "cell_type": "markdown",
   "metadata": {
    "application/vnd.databricks.v1+cell": {
     "cellMetadata": {},
     "inputWidgets": {},
     "nuid": "b717bd36-ff14-4617-b10a-7240b30b5b1c",
     "showTitle": false,
     "title": ""
    }
   },
   "source": [
    "##![Spark Logo Tiny](https://files.training.databricks.com/images/105/logo_spark_tiny.png) Getting Started\n",
    "\n",
    "Run the following cell to configure our \"classroom.\""
   ]
  },
  {
   "cell_type": "code",
   "execution_count": 0,
   "metadata": {
    "application/vnd.databricks.v1+cell": {
     "cellMetadata": {
      "byteLimit": 2048000,
      "rowLimit": 10000
     },
     "inputWidgets": {},
     "nuid": "861dd6c8-4734-4bc6-b0ac-ac5c2683de60",
     "showTitle": false,
     "title": ""
    }
   },
   "outputs": [
    {
     "output_type": "display_data",
     "data": {
      "text/html": [
       "Initialized classroom variables & functions..."
      ]
     },
     "metadata": {
      "application/vnd.databricks.v1+output": {
       "addedWidgets": {},
       "arguments": {},
       "data": "Initialized classroom variables & functions...",
       "datasetInfos": [],
       "metadata": {
        "isDbfsCommandResult": false
       },
       "removedWidgets": [],
       "textData": null,
       "type": "htmlSandbox"
      }
     },
     "output_type": "display_data"
    },
    {
     "output_type": "display_data",
     "data": {
      "text/html": [
       "Datasets are already mounted to <b>/mnt/training</b> from <b>wasbs://training@dbtrainwesteurope.blob.core.windows.net/</b>"
      ]
     },
     "metadata": {
      "application/vnd.databricks.v1+output": {
       "addedWidgets": {},
       "arguments": {},
       "data": "Datasets are already mounted to <b>/mnt/training</b> from <b>wasbs://training@dbtrainwesteurope.blob.core.windows.net/</b>",
       "datasetInfos": [],
       "metadata": {
        "isDbfsCommandResult": false
       },
       "removedWidgets": [],
       "textData": null,
       "type": "htmlSandbox"
      }
     },
     "output_type": "display_data"
    },
    {
     "output_type": "display_data",
     "data": {
      "text/html": [
       "Created user-specific database"
      ]
     },
     "metadata": {
      "application/vnd.databricks.v1+output": {
       "addedWidgets": {},
       "arguments": {},
       "data": "Created user-specific database",
       "datasetInfos": [],
       "metadata": {
        "isDbfsCommandResult": false
       },
       "removedWidgets": [],
       "textData": null,
       "type": "htmlSandbox"
      }
     },
     "output_type": "display_data"
    },
    {
     "output_type": "display_data",
     "data": {
      "text/html": [
       "Using the database <b style=\"color:green\">fatihfidan52_gmail_com_db</b>."
      ]
     },
     "metadata": {
      "application/vnd.databricks.v1+output": {
       "addedWidgets": {},
       "arguments": {},
       "data": "Using the database <b style=\"color:green\">fatihfidan52_gmail_com_db</b>.",
       "datasetInfos": [],
       "metadata": {
        "isDbfsCommandResult": false
       },
       "removedWidgets": [],
       "textData": null,
       "type": "htmlSandbox"
      }
     },
     "output_type": "display_data"
    },
    {
     "output_type": "display_data",
     "data": {
      "text/html": [
       "All done!"
      ]
     },
     "metadata": {
      "application/vnd.databricks.v1+output": {
       "addedWidgets": {},
       "arguments": {},
       "data": "All done!",
       "datasetInfos": [],
       "metadata": {},
       "removedWidgets": [],
       "textData": null,
       "type": "htmlSandbox"
      }
     },
     "output_type": "display_data"
    }
   ],
   "source": [
    "%run \"./Includes/Classroom-Setup\""
   ]
  },
  {
   "cell_type": "markdown",
   "metadata": {
    "application/vnd.databricks.v1+cell": {
     "cellMetadata": {},
     "inputWidgets": {},
     "nuid": "e118fc00-195f-4c9b-9747-41d9fb469620",
     "showTitle": false,
     "title": ""
    }
   },
   "source": [
    "##![Spark Logo Tiny](https://files.training.databricks.com/images/wiki-book/general/logo_spark_tiny.png) Show Your Work"
   ]
  },
  {
   "cell_type": "code",
   "execution_count": 0,
   "metadata": {
    "application/vnd.databricks.v1+cell": {
     "cellMetadata": {
      "byteLimit": 2048000,
      "rowLimit": 10000
     },
     "inputWidgets": {},
     "nuid": "fbcfa084-db26-46ce-ab57-fcefdcf56958",
     "showTitle": false,
     "title": ""
    }
   },
   "outputs": [],
   "source": [
    "(source, sasEntity, sasToken) = getAzureDataSource()\n",
    "spark.conf.set(sasEntity, sasToken)\n",
    "\n",
    "parquetDir = source + \"/wikipedia/pagecounts/staging_parquet_en_only_clean/\""
   ]
  },
  {
   "cell_type": "code",
   "execution_count": 0,
   "metadata": {
    "application/vnd.databricks.v1+cell": {
     "cellMetadata": {
      "byteLimit": 2048000,
      "rowLimit": 10000
     },
     "inputWidgets": {},
     "nuid": "15eae4bc-fcba-4649-bb1c-6c3162744919",
     "showTitle": false,
     "title": ""
    }
   },
   "outputs": [
    {
     "output_type": "display_data",
     "data": {
      "text/html": [
       "<style scoped>\n  .ansiout {\n    display: block;\n    unicode-bidi: embed;\n    white-space: pre-wrap;\n    word-wrap: break-word;\n    word-break: break-all;\n    font-family: \"Source Code Pro\", \"Menlo\", monospace;;\n    font-size: 13px;\n    color: #555;\n    margin-left: 4px;\n    line-height: 19px;\n  }\n</style>\n<div class=\"ansiout\">&quot;&quot;,&quot;rank&quot;,&quot;discipline&quot;,&quot;yrs.since.phd&quot;,&quot;yrs.service&quot;,&quot;sex&quot;,&quot;salary&quot;\n&quot;1&quot;,&quot;Prof&quot;,&quot;B&quot;,19,18,&quot;Male&quot;,139750\n&quot;2&quot;,&quot;Prof&quot;,&quot;B&quot;,20,16,&quot;Male&quot;,173200\n&quot;3&quot;,&quot;AsstProf&quot;,&quot;B&quot;,4,3,&quot;Male&quot;,79750\n&quot;4&quot;,&quot;Prof&quot;,&quot;B&quot;,45,39,&quot;Male&quot;,115000\n&quot;5&quot;,&quot;Prof&quot;,&quot;B&quot;,40,41,&quot;Male&quot;,141500\n&quot;6&quot;,&quot;AssocProf&quot;,&quot;B&quot;,6,6,&quot;Male&quot;,97000\n&quot;7&quot;,&quot;Prof&quot;,&quot;B&quot;,30,23,&quot;Male&quot;,175000\n&quot;8&quot;,&quot;Prof&quot;,&quot;B&quot;,45,45,&quot;Male&quot;,147765\n&quot;9&quot;,&quot;Prof&quot;,&quot;B&quot;,21,20,&quot;Male&quot;,119250\n&quot;10&quot;,&quot;Prof&quot;,&quot;B&quot;,18,18,&quot;Female&quot;,129000\n&quot;11&quot;,&quot;AssocProf&quot;,&quot;B&quot;,12,8,&quot;Male&quot;,119800\n&quot;12&quot;,&quot;AsstProf&quot;,&quot;B&quot;,7,2,&quot;Male&quot;,79800\n&quot;13&quot;,&quot;AsstProf&quot;,&quot;B&quot;,1,1,&quot;Male&quot;,77700\n&quot;14&quot;,&quot;AsstProf&quot;,&quot;B&quot;,2,0,&quot;Male&quot;,78000\n&quot;15&quot;,&quot;Prof&quot;,&quot;B&quot;,20,18,&quot;Male&quot;,104800\n&quot;16&quot;,&quot;Prof&quot;,&quot;B&quot;,12,3,&quot;Male&quot;,117150\n&quot;17&quot;,&quot;Prof&quot;,&quot;B&quot;,19,20,&quot;Male&quot;,101000\n&quot;18&quot;,&quot;Prof&quot;,&quot;A&quot;,38,34,&quot;Male&quot;,103450\n&quot;19&quot;,&quot;Prof&quot;,&quot;A&quot;,37,23,&quot;Male&quot;,124750\n&quot;20&quot;,&quot;Prof&quot;,&quot;A&quot;,39,36,&quot;Female&quot;,137000\n&quot;21&quot;,&quot;Prof&quot;,&quot;A&quot;,31,26,&quot;Male&quot;,89565\n&quot;22&quot;,&quot;Prof&quot;,&quot;A&quot;,36,31,&quot;Male&quot;,102580\n&quot;23&quot;,&quot;Prof&quot;,&quot;A&quot;,34,30,&quot;Male&quot;,93904\n&quot;24&quot;,&quot;Prof&quot;,&quot;A&quot;,24,19,&quot;Male&quot;,113068\n&quot;25&quot;,&quot;AssocProf&quot;,&quot;A&quot;,13,8,&quot;Female&quot;,74830\n&quot;26&quot;,&quot;Prof&quot;,&quot;A&quot;,21,8,&quot;Male&quot;,106294\n&quot;27&quot;,&quot;Prof&quot;,&quot;A&quot;,35,23,&quot;Male&quot;,134885\n&quot;28&quot;,&quot;AsstProf&quot;,&quot;B&quot;,5,3,&quot;Male&quot;,82379\n&quot;29&quot;,&quot;AsstProf&quot;,&quot;B&quot;,11,0,&quot;Male&quot;,77000\n&quot;30&quot;,&quot;Prof&quot;,&quot;B&quot;,12,8,&quot;Male&quot;,118223\n&quot;31&quot;,&quot;Prof&quot;,&quot;B&quot;,20,4,&quot;Male&quot;,132261\n&quot;32&quot;,&quot;AsstProf&quot;,&quot;B&quot;,7,2,&quot;Male&quot;,79916\n&quot;33&quot;,&quot;Prof&quot;,&quot;B&quot;,13,9,&quot;Male&quot;,117256\n&quot;34&quot;,&quot;AsstProf&quot;,&quot;B&quot;,4,2,&quot;Male&quot;,80225\n&quot;35&quot;,&quot;AsstProf&quot;,&quot;B&quot;,4,2,&quot;Female&quot;,80225\n&quot;36&quot;,&quot;AsstProf&quot;,&quot;B&quot;,5,0,&quot;Female&quot;,77000\n&quot;37&quot;,&quot;Prof&quot;,&quot;B&quot;,22,21,&quot;Male&quot;,155750\n&quot;38&quot;,&quot;AsstProf&quot;,&quot;B&quot;,7,4,&quot;Male&quot;,86373\n&quot;39&quot;,&quot;Prof&quot;,&quot;B&quot;,41,31,&quot;Male&quot;,125196\n&quot;40&quot;,&quot;AssocProf&quot;,&quot;B&quot;,9,9,&quot;Male&quot;,100938\n&quot;41&quot;,&quot;Prof&quot;,&quot;B&quot;,23,2,&quot;Male&quot;,146500\n&quot;42&quot;,&quot;AssocProf&quot;,&quot;B&quot;,23,23,&quot;Male&quot;,93418\n&quot;43&quot;,&quot;Prof&quot;,&quot;B&quot;,40,27,&quot;Male&quot;,101299\n&quot;44&quot;,&quot;Prof&quot;,&quot;B&quot;,38,38,&quot;Male&quot;,231545\n&quot;45&quot;,&quot;Prof&quot;,&quot;B&quot;,19,19,&quot;Male&quot;,94384\n&quot;46&quot;,&quot;Prof&quot;,&quot;B&quot;,25,15,&quot;Male&quot;,114778\n&quot;47&quot;,&quot;Prof&quot;,&quot;B&quot;,40,28,&quot;Male&quot;,98193\n&quot;48&quot;,&quot;Prof&quot;,&quot;B&quot;,23,19,&quot;Female&quot;,151768\n&quot;49&quot;,&quot;Prof&quot;,&quot;B&quot;,25,25,&quot;Female&quot;,140096\n&quot;50&quot;,&quot;AsstProf&quot;,&quot;B&quot;,1,1,&quot;Male&quot;,70768\n&quot;51&quot;,&quot;Prof&quot;,&quot;B&quot;,28,28,&quot;Male&quot;,126621\n&quot;52&quot;,&quot;Prof&quot;,&quot;B&quot;,12,11,&quot;Male&quot;,108875\n&quot;53&quot;,&quot;AsstProf&quot;,&quot;B&quot;,11,3,&quot;Female&quot;,74692\n&quot;54&quot;,&quot;Prof&quot;,&quot;B&quot;,16,9,&quot;Male&quot;,106639\n&quot;55&quot;,&quot;AssocProf&quot;,&quot;B&quot;,12,11,&quot;Male&quot;,103760\n&quot;56&quot;,&quot;AssocProf&quot;,&quot;B&quot;,14,5,&quot;Male&quot;,83900\n&quot;57&quot;,&quot;Prof&quot;,&quot;B&quot;,23,21,&quot;Male&quot;,117704\n&quot;58&quot;,&quot;AssocProf&quot;,&quot;B&quot;,9,8,&quot;Male&quot;,90215\n&quot;59&quot;,&quot;AssocProf&quot;,&quot;B&quot;,10,9,&quot;Male&quot;,100135\n&quot;60&quot;,&quot;AsstProf&quot;,&quot;B&quot;,8,3,&quot;Male&quot;,75044\n&quot;61&quot;,&quot;AssocProf&quot;,&quot;B&quot;,9,8,&quot;Male&quot;,90304\n&quot;62&quot;,&quot;AsstProf&quot;,&quot;B&quot;,3,2,&quot;Male&quot;,75243\n&quot;63&quot;,&quot;Prof&quot;,&quot;B&quot;,33,31,&quot;Male&quot;,109785\n&quot;64&quot;,&quot;AssocProf&quot;,&quot;B&quot;,11,11,&quot;Female&quot;,103613\n&quot;65&quot;,&quot;AsstProf&quot;,&quot;B&quot;,4,3,&quot;Male&quot;,68404\n&quot;66&quot;,&quot;AssocProf&quot;,&quot;B&quot;,9,8,&quot;Male&quot;,100522\n&quot;67&quot;,&quot;Prof&quot;,&quot;B&quot;,22,12,&quot;Male&quot;,101000\n&quot;68&quot;,&quot;Prof&quot;,&quot;B&quot;,35,31,&quot;Male&quot;,99418\n&quot;69&quot;,&quot;Prof&quot;,&quot;B&quot;,17,17,&quot;Female&quot;,111512\n&quot;70&quot;,&quot;Prof&quot;,&quot;B&quot;,28,36,&quot;Male&quot;,91412\n&quot;71&quot;,&quot;Prof&quot;,&quot;B&quot;,17,2,&quot;Male&quot;,126320\n&quot;72&quot;,&quot;Prof&quot;,&quot;B&quot;,45,45,&quot;Male&quot;,146856\n&quot;73&quot;,&quot;Prof&quot;,&quot;B&quot;,29,19,&quot;Male&quot;,100131\n&quot;74&quot;,&quot;Prof&quot;,&quot;B&quot;,35,34,&quot;Male&quot;,92391\n&quot;75&quot;,&quot;Prof&quot;,&quot;B&quot;,28,23,&quot;Male&quot;,113398\n&quot;76&quot;,&quot;AsstProf&quot;,&quot;B&quot;,8,3,&quot;Male&quot;,73266\n&quot;77&quot;,&quot;Prof&quot;,&quot;B&quot;,17,3,&quot;Male&quot;,150480\n&quot;78&quot;,&quot;Prof&quot;,&quot;B&quot;,26,19,&quot;Male&quot;,193000\n&quot;79&quot;,&quot;AsstProf&quot;,&quot;B&quot;,3,1,&quot;Male&quot;,86100\n&quot;80&quot;,&quot;AsstProf&quot;,&quot;B&quot;,6,2,&quot;Male&quot;,84240\n&quot;81&quot;,&quot;Prof&quot;,&quot;B&quot;,43,28,&quot;Male&quot;,150743\n&quot;82&quot;,&quot;Prof&quot;,&quot;B&quot;,17,16,&quot;Male&quot;,135585\n&quot;83&quot;,&quot;Prof&quot;,&quot;B&quot;,22,20,&quot;Male&quot;,144640\n&quot;84&quot;,&quot;AsstProf&quot;,&quot;B&quot;,6,2,&quot;Male&quot;,88825\n&quot;85&quot;,&quot;Prof&quot;,&quot;B&quot;,17,18,&quot;Female&quot;,122960\n&quot;86&quot;,&quot;Prof&quot;,&quot;B&quot;,15,14,&quot;Male&quot;,132825\n&quot;87&quot;,&quot;Prof&quot;,&quot;B&quot;,37,37,&quot;Male&quot;,152708\n&quot;88&quot;,&quot;AsstProf&quot;,&quot;B&quot;,2,2,&quot;Male&quot;,88400\n&quot;89&quot;,&quot;Prof&quot;,&quot;B&quot;,25,25,&quot;Male&quot;,172272\n&quot;90&quot;,&quot;AssocProf&quot;,&quot;B&quot;,9,7,&quot;Male&quot;,107008\n&quot;91&quot;,&quot;AsstProf&quot;,&quot;B&quot;,10,5,&quot;Female&quot;,97032\n&quot;92&quot;,&quot;AssocProf&quot;,&quot;B&quot;,10,7,&quot;Male&quot;,105128\n&quot;93&quot;,&quot;AssocProf&quot;,&quot;B&quot;,10,7,&quot;Male&quot;,105631\n&quot;94&quot;,&quot;Prof&quot;,&quot;B&quot;,38,38,&quot;Male&quot;,166024\n&quot;95&quot;,&quot;Prof&quot;,&quot;B&quot;,21,20,&quot;Male&quot;,123683\n&quot;96&quot;,&quot;AsstProf&quot;,&quot;B&quot;,4,0,&quot;Male&quot;,84000\n&quot;97&quot;,&quot;AssocProf&quot;,&quot;B&quot;,17,12,&quot;Male&quot;,95611\n&quot;98&quot;,&quot;Prof&quot;,&quot;B&quot;,13,7,&quot;Male&quot;,129676\n&quot;99&quot;,&quot;Prof&quot;,&quot;B&quot;,30,14,&quot;Male&quot;,102235\n&quot;100&quot;,&quot;Prof&quot;,&quot;B&quot;,41,26,&quot;Male&quot;,106689\n&quot;101&quot;,&quot;Prof&quot;,&quot;B&quot;,42,25,&quot;Male&quot;,133217\n&quot;102&quot;,&quot;Prof&quot;,&quot;B&quot;,28,23,&quot;Male&quot;,126933\n&quot;103&quot;,&quot;Prof&quot;,&quot;B&quot;,16,5,&quot;Male&quot;,153303\n&quot;104&quot;,&quot;Prof&quot;,&quot;B&quot;,20,14,&quot;Female&quot;,127512\n&quot;105&quot;,&quot;AssocProf&quot;,&quot;A&quot;,18,10,&quot;Male&quot;,83850\n&quot;106&quot;,&quot;Prof&quot;,&quot;A&quot;,31,28,&quot;Male&quot;,113543\n&quot;107&quot;,&quot;AssocProf&quot;,&quot;A&quot;,11,8,&quot;Male&quot;,82099\n&quot;108&quot;,&quot;AssocProf&quot;,&quot;A&quot;,10,8,&quot;Male&quot;,82600\n&quot;109&quot;,&quot;AssocProf&quot;,&quot;A&quot;,15,8,&quot;Male&quot;,81500\n&quot;110&quot;,&quot;Prof&quot;,&quot;A&quot;,40,31,&quot;Male&quot;,131205\n&quot;111&quot;,&quot;Prof&quot;,&quot;A&quot;,20,16,&quot;Male&quot;,112429\n&quot;112&quot;,&quot;AssocProf&quot;,&quot;A&quot;,19,16,&quot;Male&quot;,82100\n&quot;113&quot;,&quot;AsstProf&quot;,&quot;A&quot;,3,1,&quot;Male&quot;,72500\n&quot;114&quot;,&quot;Prof&quot;,&quot;A&quot;,37,37,&quot;Male&quot;,104279\n&quot;115&quot;,&quot;Prof&quot;,&quot;A&quot;,12,0,&quot;Female&quot;,105000\n&quot;116&quot;,&quot;Prof&quot;,&quot;A&quot;,21,9,&quot;Male&quot;,120806\n&quot;117&quot;,&quot;Prof&quot;,&quot;A&quot;,30,29,&quot;Male&quot;,148500\n&quot;118&quot;,&quot;Prof&quot;,&quot;A&quot;,39,36,&quot;Male&quot;,117515\n&quot;119&quot;,&quot;AsstProf&quot;,&quot;A&quot;,4,1,&quot;Male&quot;,72500\n&quot;120&quot;,&quot;AsstProf&quot;,&quot;A&quot;,5,3,&quot;Female&quot;,73500\n&quot;121&quot;,&quot;Prof&quot;,&quot;A&quot;,14,14,&quot;Male&quot;,115313\n&quot;122&quot;,&quot;Prof&quot;,&quot;A&quot;,32,32,&quot;Male&quot;,124309\n&quot;123&quot;,&quot;Prof&quot;,&quot;A&quot;,24,22,&quot;Male&quot;,97262\n&quot;124&quot;,&quot;AssocProf&quot;,&quot;A&quot;,25,22,&quot;Female&quot;,62884\n&quot;125&quot;,&quot;Prof&quot;,&quot;A&quot;,24,22,&quot;Male&quot;,96614\n&quot;126&quot;,&quot;Prof&quot;,&quot;A&quot;,54,49,&quot;Male&quot;,78162\n&quot;127&quot;,&quot;Prof&quot;,&quot;A&quot;,28,26,&quot;Male&quot;,155500\n&quot;128&quot;,&quot;AsstProf&quot;,&quot;A&quot;,2,0,&quot;Female&quot;,72500\n&quot;129&quot;,&quot;Prof&quot;,&quot;A&quot;,32,30,&quot;Male&quot;,113278\n&quot;130&quot;,&quot;AsstProf&quot;,&quot;A&quot;,4,2,&quot;Male&quot;,73000\n&quot;131&quot;,&quot;AssocProf&quot;,&quot;A&quot;,11,9,&quot;Male&quot;,83001\n&quot;132&quot;,&quot;Prof&quot;,&quot;A&quot;,56,57,&quot;Male&quot;,76840\n&quot;133&quot;,&quot;AssocProf&quot;,&quot;A&quot;,10,8,&quot;Female&quot;,77500\n&quot;134&quot;,&quot;AsstProf&quot;,&quot;A&quot;,3,1,&quot;Female&quot;,72500\n&quot;135&quot;,&quot;Prof&quot;,&quot;A&quot;,35,25,&quot;Male&quot;,168635\n&quot;136&quot;,&quot;Prof&quot;,&quot;A&quot;,20,18,&quot;Male&quot;,136000\n&quot;137&quot;,&quot;Prof&quot;,&quot;A&quot;,16,14,&quot;Male&quot;,108262\n&quot;138&quot;,&quot;Prof&quot;,&quot;A&quot;,17,14,&quot;Male&quot;,105668\n&quot;139&quot;,&quot;AssocProf&quot;,&quot;A&quot;,10,7,&quot;Male&quot;,73877\n&quot;140&quot;,&quot;Prof&quot;,&quot;A&quot;,21,18,&quot;Male&quot;,152664\n&quot;141&quot;,&quot;AssocProf&quot;,&quot;A&quot;,14,8,&quot;Male&quot;,100102\n&quot;142&quot;,&quot;AssocProf&quot;,&quot;A&quot;,15,10,&quot;Male&quot;,81500\n&quot;143&quot;,&quot;Prof&quot;,&quot;A&quot;,19,11,&quot;Male&quot;,106608\n&quot;144&quot;,&quot;AsstProf&quot;,&quot;B&quot;,3,3,&quot;Male&quot;,89942\n&quot;145&quot;,&quot;Prof&quot;,&quot;B&quot;,27,27,&quot;Male&quot;,112696\n&quot;146&quot;,&quot;Prof&quot;,&quot;B&quot;,28,28,&quot;Male&quot;,119015\n&quot;147&quot;,&quot;AsstProf&quot;,&quot;B&quot;,4,4,&quot;Male&quot;,92000\n&quot;148&quot;,&quot;Prof&quot;,&quot;B&quot;,27,27,&quot;Male&quot;,156938\n&quot;149&quot;,&quot;Prof&quot;,&quot;B&quot;,36,26,&quot;Female&quot;,144651\n&quot;150&quot;,&quot;AsstProf&quot;,&quot;B&quot;,4,3,&quot;Male&quot;,95079\n&quot;151&quot;,&quot;Prof&quot;,&quot;B&quot;,14,12,&quot;Male&quot;,128148\n&quot;152&quot;,&quot;AsstProf&quot;,&quot;B&quot;,4,4,&quot;Male&quot;,92000\n&quot;153&quot;,&quot;Prof&quot;,&quot;B&quot;,21,9,&quot;Male&quot;,111168\n&quot;154&quot;,&quot;AssocProf&quot;,&quot;B&quot;,12,10,&quot;Female&quot;,103994\n&quot;155&quot;,&quot;AsstProf&quot;,&quot;B&quot;,4,0,&quot;Male&quot;,92000\n&quot;156&quot;,&quot;Prof&quot;,&quot;B&quot;,21,21,&quot;Male&quot;,118971\n&quot;157&quot;,&quot;AssocProf&quot;,&quot;B&quot;,12,18,&quot;Male&quot;,113341\n&quot;158&quot;,&quot;AsstProf&quot;,&quot;B&quot;,1,0,&quot;Male&quot;,88000\n&quot;159&quot;,&quot;AssocProf&quot;,&quot;B&quot;,6,6,&quot;Male&quot;,95408\n&quot;160&quot;,&quot;Prof&quot;,&quot;B&quot;,15,16,&quot;Male&quot;,137167\n&quot;161&quot;,&quot;AsstProf&quot;,&quot;B&quot;,2,2,&quot;Male&quot;,89516\n&quot;162&quot;,&quot;Prof&quot;,&quot;B&quot;,26,19,&quot;Male&quot;,176500\n&quot;163&quot;,&quot;AssocProf&quot;,&quot;B&quot;,22,7,&quot;Male&quot;,98510\n&quot;164&quot;,&quot;AsstProf&quot;,&quot;B&quot;,3,3,&quot;Male&quot;,89942\n&quot;165&quot;,&quot;AsstProf&quot;,&quot;B&quot;,1,0,&quot;Male&quot;,88795\n&quot;166&quot;,&quot;Prof&quot;,&quot;B&quot;,21,8,&quot;Male&quot;,105890\n&quot;167&quot;,&quot;Prof&quot;,&quot;B&quot;,16,16,&quot;Male&quot;,167284\n&quot;168&quot;,&quot;Prof&quot;,&quot;B&quot;,18,19,&quot;Male&quot;,130664\n&quot;169&quot;,&quot;AssocProf&quot;,&quot;B&quot;,8,6,&quot;Male&quot;,101210\n&quot;170&quot;,&quot;Prof&quot;,&quot;B&quot;,25,18,&quot;Male&quot;,181257\n&quot;171&quot;,&quot;AsstProf&quot;,&quot;B&quot;,5,5,&quot;Male&quot;,91227\n&quot;172&quot;,&quot;Prof&quot;,&quot;B&quot;,19,19,&quot;Male&quot;,151575\n&quot;173&quot;,&quot;Prof&quot;,&quot;B&quot;,37,24,&quot;Male&quot;,93164\n&quot;174&quot;,&quot;Prof&quot;,&quot;B&quot;,20,20,&quot;Male&quot;,134185\n&quot;175&quot;,&quot;AssocProf&quot;,&quot;B&quot;,17,6,&quot;Male&quot;,105000\n&quot;176&quot;,&quot;Prof&quot;,&quot;B&quot;,28,25,&quot;Male&quot;,111751\n&quot;177&quot;,&quot;AssocProf&quot;,&quot;B&quot;,10,7,&quot;Male&quot;,95436\n&quot;178&quot;,&quot;AssocProf&quot;,&quot;B&quot;,13,9,&quot;Male&quot;,100944\n&quot;179&quot;,&quot;Prof&quot;,&quot;B&quot;,27,14,&quot;Male&quot;,147349\n&quot;180&quot;,&quot;AsstProf&quot;,&quot;B&quot;,3,3,&quot;Female&quot;,92000\n&quot;181&quot;,&quot;Prof&quot;,&quot;B&quot;,11,11,&quot;Male&quot;,142467\n&quot;182&quot;,&quot;Prof&quot;,&quot;B&quot;,18,5,&quot;Male&quot;,141136\n&quot;183&quot;,&quot;AssocProf&quot;,&quot;B&quot;,8,8,&quot;Male&quot;,100000\n&quot;184&quot;,&quot;Prof&quot;,&quot;B&quot;,26,22,&quot;Male&quot;,150000\n&quot;185&quot;,&quot;Prof&quot;,&quot;B&quot;,23,23,&quot;Male&quot;,101000\n&quot;186&quot;,&quot;Prof&quot;,&quot;B&quot;,33,30,&quot;Male&quot;,134000\n&quot;187&quot;,&quot;AssocProf&quot;,&quot;B&quot;,13,10,&quot;Female&quot;,103750\n&quot;188&quot;,&quot;Prof&quot;,&quot;B&quot;,18,10,&quot;Male&quot;,107500\n&quot;189&quot;,&quot;AssocProf&quot;,&quot;B&quot;,28,28,&quot;Male&quot;,106300\n&quot;190&quot;,&quot;Prof&quot;,&quot;B&quot;,25,19,&quot;Male&quot;,153750\n&quot;191&quot;,&quot;Prof&quot;,&quot;B&quot;,22,9,&quot;Male&quot;,180000\n&quot;192&quot;,&quot;Prof&quot;,&quot;B&quot;,43,22,&quot;Male&quot;,133700\n&quot;193&quot;,&quot;Prof&quot;,&quot;B&quot;,19,18,&quot;Male&quot;,122100\n&quot;194&quot;,&quot;AssocProf&quot;,&quot;B&quot;,19,19,&quot;Male&quot;,86250\n&quot;195&quot;,&quot;AssocProf&quot;,&quot;B&quot;,48,53,&quot;Male&quot;,90000\n&quot;196&quot;,&quot;AssocProf&quot;,&quot;B&quot;,9,7,&quot;Male&quot;,113600\n&quot;197&quot;,&quot;AsstProf&quot;,&quot;B&quot;,4,4,&quot;Male&quot;,92700\n&quot;198&quot;,&quot;AsstProf&quot;,&quot;B&quot;,4,4,&quot;Male&quot;,92000\n&quot;199&quot;,&quot;Prof&quot;,&quot;B&quot;,34,33,&quot;Male&quot;,189409\n&quot;200&quot;,&quot;Prof&quot;,&quot;B&quot;,38,22,&quot;Male&quot;,114500\n&quot;201&quot;,&quot;AsstProf&quot;,&quot;B&quot;,4,4,&quot;Male&quot;,92700\n&quot;202&quot;,&quot;Prof&quot;,&quot;B&quot;,40,40,&quot;Male&quot;,119700\n&quot;203&quot;,&quot;Prof&quot;,&quot;B&quot;,28,17,&quot;Male&quot;,160400\n&quot;204&quot;,&quot;Prof&quot;,&quot;B&quot;,17,17,&quot;Male&quot;,152500\n&quot;205&quot;,&quot;Prof&quot;,&quot;B&quot;,19,5,&quot;Male&quot;,165000\n&quot;206&quot;,&quot;Prof&quot;,&quot;B&quot;,21,2,&quot;Male&quot;,96545\n&quot;207&quot;,&quot;Prof&quot;,&quot;B&quot;,35,33,&quot;Male&quot;,162200\n&quot;208&quot;,&quot;Prof&quot;,&quot;B&quot;,18,18,&quot;Male&quot;,120000\n&quot;209&quot;,&quot;AsstProf&quot;,&quot;B&quot;,7,2,&quot;Male&quot;,91300\n&quot;210&quot;,&quot;Prof&quot;,&quot;B&quot;,20,20,&quot;Male&quot;,163200\n&quot;211&quot;,&quot;AsstProf&quot;,&quot;B&quot;,4,3,&quot;Male&quot;,91000\n&quot;212&quot;,&quot;Prof&quot;,&quot;B&quot;,39,39,&quot;Male&quot;,111350\n&quot;213&quot;,&quot;Prof&quot;,&quot;B&quot;,15,7,&quot;Male&quot;,128400\n&quot;214&quot;,&quot;Prof&quot;,&quot;B&quot;,26,19,&quot;Male&quot;,126200\n&quot;215&quot;,&quot;AssocProf&quot;,&quot;B&quot;,11,1,&quot;Male&quot;,118700\n&quot;216&quot;,&quot;Prof&quot;,&quot;B&quot;,16,11,&quot;Male&quot;,145350\n&quot;217&quot;,&quot;Prof&quot;,&quot;B&quot;,15,11,&quot;Male&quot;,146000\n&quot;218&quot;,&quot;AssocProf&quot;,&quot;B&quot;,29,22,&quot;Male&quot;,105350\n&quot;219&quot;,&quot;AssocProf&quot;,&quot;B&quot;,14,7,&quot;Female&quot;,109650\n&quot;220&quot;,&quot;Prof&quot;,&quot;B&quot;,13,11,&quot;Male&quot;,119500\n&quot;221&quot;,&quot;Prof&quot;,&quot;B&quot;,21,21,&quot;Male&quot;,170000\n&quot;222&quot;,&quot;Prof&quot;,&quot;B&quot;,23,10,&quot;Male&quot;,145200\n&quot;223&quot;,&quot;AssocProf&quot;,&quot;B&quot;,13,6,&quot;Male&quot;,107150\n&quot;224&quot;,&quot;Prof&quot;,&quot;B&quot;,34,20,&quot;Male&quot;,129600\n&quot;225&quot;,&quot;Prof&quot;,&quot;A&quot;,38,35,&quot;Male&quot;,87800\n&quot;226&quot;,&quot;Prof&quot;,&quot;A&quot;,20,20,&quot;Male&quot;,122400\n&quot;227&quot;,&quot;AsstProf&quot;,&quot;A&quot;,3,1,&quot;Male&quot;,63900\n&quot;228&quot;,&quot;AssocProf&quot;,&quot;A&quot;,9,7,&quot;Male&quot;,70000\n&quot;229&quot;,&quot;Prof&quot;,&quot;A&quot;,16,11,&quot;Male&quot;,88175\n&quot;230&quot;,&quot;Prof&quot;,&quot;A&quot;,39,38,&quot;Male&quot;,133900\n&quot;231&quot;,&quot;Prof&quot;,&quot;A&quot;,29,27,&quot;Female&quot;,91000\n&quot;232&quot;,&quot;AssocProf&quot;,&quot;A&quot;,26,24,&quot;Female&quot;,73300\n&quot;233&quot;,&quot;Prof&quot;,&quot;A&quot;,38,19,&quot;Male&quot;,148750\n&quot;234&quot;,&quot;Prof&quot;,&quot;A&quot;,36,19,&quot;Female&quot;,117555\n&quot;235&quot;,&quot;AsstProf&quot;,&quot;A&quot;,8,3,&quot;Male&quot;,69700\n&quot;236&quot;,&quot;Prof&quot;,&quot;A&quot;,28,17,&quot;Male&quot;,81700\n&quot;237&quot;,&quot;Prof&quot;,&quot;A&quot;,25,25,&quot;Male&quot;,114000\n&quot;238&quot;,&quot;AsstProf&quot;,&quot;A&quot;,7,6,&quot;Female&quot;,63100\n&quot;239&quot;,&quot;Prof&quot;,&quot;A&quot;,46,40,&quot;Male&quot;,77202\n&quot;240&quot;,&quot;Prof&quot;,&quot;A&quot;,19,6,&quot;Male&quot;,96200\n&quot;241&quot;,&quot;AsstProf&quot;,&quot;A&quot;,5,3,&quot;Male&quot;,69200\n&quot;242&quot;,&quot;Prof&quot;,&quot;A&quot;,31,30,&quot;Male&quot;,122875\n&quot;243&quot;,&quot;Prof&quot;,&quot;A&quot;,38,37,&quot;Male&quot;,102600\n&quot;244&quot;,&quot;Prof&quot;,&quot;A&quot;,23,23,&quot;Male&quot;,108200\n&quot;245&quot;,&quot;Prof&quot;,&quot;A&quot;,19,23,&quot;Male&quot;,84273\n&quot;246&quot;,&quot;Prof&quot;,&quot;A&quot;,17,11,&quot;Female&quot;,90450\n&quot;247&quot;,&quot;Prof&quot;,&quot;A&quot;,30,23,&quot;Male&quot;,91100\n&quot;248&quot;,&quot;Prof&quot;,&quot;A&quot;,21,18,&quot;Male&quot;,101100\n&quot;249&quot;,&quot;Prof&quot;,&quot;A&quot;,28,23,&quot;Male&quot;,128800\n&quot;250&quot;,&quot;Prof&quot;,&quot;A&quot;,29,7,&quot;Male&quot;,204000\n&quot;251&quot;,&quot;Prof&quot;,&quot;A&quot;,39,39,&quot;Male&quot;,109000\n&quot;252&quot;,&quot;Prof&quot;,&quot;A&quot;,20,8,&quot;Male&quot;,102000\n&quot;253&quot;,&quot;Prof&quot;,&quot;A&quot;,31,12,&quot;Male&quot;,132000\n&quot;254&quot;,&quot;AsstProf&quot;,&quot;A&quot;,4,2,&quot;Female&quot;,77500\n&quot;255&quot;,&quot;Prof&quot;,&quot;A&quot;,28,7,&quot;Female&quot;,116450\n&quot;256&quot;,&quot;AssocProf&quot;,&quot;A&quot;,12,8,&quot;Male&quot;,83000\n&quot;257&quot;,&quot;Prof&quot;,&quot;A&quot;,22,22,&quot;Male&quot;,140300\n&quot;258&quot;,&quot;AssocProf&quot;,&quot;A&quot;,30,23,&quot;Male&quot;,74000\n&quot;259&quot;,&quot;AsstProf&quot;,&quot;A&quot;,9,3,&quot;Male&quot;,73800\n&quot;260&quot;,&quot;Prof&quot;,&quot;A&quot;,32,30,&quot;Male&quot;,92550\n&quot;261&quot;,&quot;AssocProf&quot;,&quot;A&quot;,41,33,&quot;Male&quot;,88600\n&quot;262&quot;,&quot;Prof&quot;,&quot;A&quot;,45,45,&quot;Male&quot;,107550\n&quot;263&quot;,&quot;Prof&quot;,&quot;A&quot;,31,26,&quot;Male&quot;,121200\n&quot;264&quot;,&quot;Prof&quot;,&quot;A&quot;,31,31,&quot;Male&quot;,126000\n&quot;265&quot;,&quot;Prof&quot;,&quot;A&quot;,37,35,&quot;Male&quot;,99000\n&quot;266&quot;,&quot;Prof&quot;,&quot;A&quot;,36,30,&quot;Male&quot;,134800\n&quot;267&quot;,&quot;Prof&quot;,&quot;A&quot;,43,43,&quot;Male&quot;,143940\n&quot;268&quot;,&quot;Prof&quot;,&quot;A&quot;,14,10,&quot;Male&quot;,104350\n&quot;269&quot;,&quot;Prof&quot;,&quot;A&quot;,47,44,&quot;Male&quot;,89650\n&quot;270&quot;,&quot;Prof&quot;,&quot;A&quot;,13,7,&quot;Male&quot;,103700\n&quot;271&quot;,&quot;Prof&quot;,&quot;A&quot;,42,40,&quot;Male&quot;,143250\n&quot;272&quot;,&quot;Prof&quot;,&quot;A&quot;,42,18,&quot;Male&quot;,194800\n&quot;273&quot;,&quot;AsstProf&quot;,&quot;A&quot;,4,1,&quot;Male&quot;,73000\n&quot;274&quot;,&quot;AsstProf&quot;,&quot;A&quot;,8,4,&quot;Male&quot;,74000\n&quot;275&quot;,&quot;AsstProf&quot;,&quot;A&quot;,8,3,&quot;Female&quot;,78500\n&quot;276&quot;,&quot;Prof&quot;,&quot;A&quot;,12,6,&quot;Male&quot;,93000\n&quot;277&quot;,&quot;Prof&quot;,&quot;A&quot;,52,48,&quot;Male&quot;,107200\n&quot;278&quot;,&quot;Prof&quot;,&quot;A&quot;,31,27,&quot;Male&quot;,163200\n&quot;279&quot;,&quot;Prof&quot;,&quot;A&quot;,24,18,&quot;Male&quot;,107100\n&quot;280&quot;,&quot;Prof&quot;,&quot;A&quot;,46,46,&quot;Male&quot;,100600\n&quot;281&quot;,&quot;Prof&quot;,&quot;A&quot;,39,38,&quot;Male&quot;,136500\n&quot;282&quot;,&quot;Prof&quot;,&quot;A&quot;,37,27,&quot;Male&quot;,103600\n&quot;283&quot;,&quot;Prof&quot;,&quot;A&quot;,51,51,&quot;Male&quot;,57800\n&quot;284&quot;,&quot;Prof&quot;,&quot;A&quot;,45,43,&quot;Male&quot;,155865\n&quot;285&quot;,&quot;AssocProf&quot;,&quot;A&quot;,8,6,&quot;Male&quot;,88650\n&quot;286&quot;,&quot;AssocProf&quot;,&quot;A&quot;,49,49,&quot;Male&quot;,81800\n&quot;287&quot;,&quot;Prof&quot;,&quot;A&quot;,28,27,&quot;Male&quot;,115800\n&quot;288&quot;,&quot;AsstProf&quot;,&quot;A&quot;,2,0,&quot;Male&quot;,85000\n&quot;289&quot;,&quot;Prof&quot;,&quot;A&quot;,29,27,&quot;Male&quot;,150500\n&quot;290&quot;,&quot;AsstProf&quot;,&quot;A&quot;,8,5,&quot;Male&quot;,74000\n&quot;291&quot;,&quot;Prof&quot;,&quot;A&quot;,33,7,&quot;Male&quot;,174500\n&quot;292&quot;,&quot;Prof&quot;,&quot;A&quot;,32,28,&quot;Male&quot;,168500\n&quot;293&quot;,&quot;Prof&quot;,&quot;A&quot;,39,9,&quot;Male&quot;,183800\n&quot;294&quot;,&quot;AssocProf&quot;,&quot;A&quot;,11,1,&quot;Male&quot;,104800\n&quot;295&quot;,&quot;Prof&quot;,&quot;A&quot;,19,7,&quot;Male&quot;,107300\n&quot;296&quot;,&quot;Prof&quot;,&quot;A&quot;,40,36,&quot;Male&quot;,97150\n&quot;297&quot;,&quot;Prof&quot;,&quot;A&quot;,18,18,&quot;Male&quot;,126300\n&quot;298&quot;,&quot;Prof&quot;,&quot;A&quot;,17,11,&quot;Male&quot;,148800\n&quot;299&quot;,&quot;Prof&quot;,&quot;A&quot;,49,43,&quot;Male&quot;,72300\n&quot;300&quot;,&quot;AssocProf&quot;,&quot;A&quot;,45,39,&quot;Male&quot;,70700\n&quot;301&quot;,&quot;Prof&quot;,&quot;A&quot;,39,36,&quot;Male&quot;,88600\n&quot;302&quot;,&quot;Prof&quot;,&quot;A&quot;,27,16,&quot;Male&quot;,127100\n&quot;303&quot;,&quot;Prof&quot;,&quot;A&quot;,28,13,&quot;Male&quot;,170500\n&quot;304&quot;,&quot;Prof&quot;,&quot;A&quot;,14,4,&quot;Male&quot;,105260\n&quot;305&quot;,&quot;Prof&quot;,&quot;A&quot;,46,44,&quot;Male&quot;,144050\n&quot;306&quot;,&quot;Prof&quot;,&quot;A&quot;,33,31,&quot;Male&quot;,111350\n&quot;307&quot;,&quot;AsstProf&quot;,&quot;A&quot;,7,4,&quot;Male&quot;,74500\n&quot;308&quot;,&quot;Prof&quot;,&quot;A&quot;,31,28,&quot;Male&quot;,122500\n&quot;309&quot;,&quot;AsstProf&quot;,&quot;A&quot;,5,0,&quot;Male&quot;,74000\n&quot;310&quot;,&quot;Prof&quot;,&quot;A&quot;,22,15,&quot;Male&quot;,166800\n&quot;311&quot;,&quot;Prof&quot;,&quot;A&quot;,20,7,&quot;Male&quot;,92050\n&quot;312&quot;,&quot;Prof&quot;,&quot;A&quot;,14,9,&quot;Male&quot;,108100\n&quot;313&quot;,&quot;Prof&quot;,&quot;A&quot;,29,19,&quot;Male&quot;,94350\n&quot;314&quot;,&quot;Prof&quot;,&quot;A&quot;,35,35,&quot;Male&quot;,100351\n&quot;315&quot;,&quot;Prof&quot;,&quot;A&quot;,22,6,&quot;Male&quot;,146800\n&quot;316&quot;,&quot;AsstProf&quot;,&quot;B&quot;,6,3,&quot;Male&quot;,84716\n&quot;317&quot;,&quot;AssocProf&quot;,&quot;B&quot;,12,9,&quot;Female&quot;,71065\n&quot;318&quot;,&quot;Prof&quot;,&quot;B&quot;,46,45,&quot;Male&quot;,67559\n&quot;319&quot;,&quot;Prof&quot;,&quot;B&quot;,16,16,&quot;Male&quot;,134550\n&quot;320&quot;,&quot;Prof&quot;,&quot;B&quot;,16,15,&quot;Male&quot;,135027\n&quot;321&quot;,&quot;Prof&quot;,&quot;B&quot;,24,23,&quot;Male&quot;,104428\n&quot;322&quot;,&quot;AssocProf&quot;,&quot;B&quot;,9,9,&quot;Male&quot;,95642\n&quot;323&quot;,&quot;AssocProf&quot;,&quot;B&quot;,13,11,&quot;Male&quot;,126431\n&quot;324&quot;,&quot;Prof&quot;,&quot;B&quot;,24,15,&quot;Female&quot;,161101\n&quot;325&quot;,&quot;Prof&quot;,&quot;B&quot;,30,31,&quot;Male&quot;,162221\n&quot;326&quot;,&quot;AsstProf&quot;,&quot;B&quot;,8,4,&quot;Male&quot;,84500\n&quot;327&quot;,&quot;Prof&quot;,&quot;B&quot;,23,15,&quot;Male&quot;,124714\n&quot;328&quot;,&quot;Prof&quot;,&quot;B&quot;,37,37,&quot;Male&quot;,151650\n&quot;329&quot;,&quot;AssocProf&quot;,&quot;B&quot;,10,10,&quot;Male&quot;,99247\n&quot;330&quot;,&quot;Prof&quot;,&quot;B&quot;,23,23,&quot;Male&quot;,134778\n&quot;331&quot;,&quot;Prof&quot;,&quot;B&quot;,49,60,&quot;Male&quot;,192253\n&quot;332&quot;,&quot;Prof&quot;,&quot;B&quot;,20,9,&quot;Male&quot;,116518\n&quot;333&quot;,&quot;Prof&quot;,&quot;B&quot;,18,10,&quot;Female&quot;,105450\n&quot;334&quot;,&quot;Prof&quot;,&quot;B&quot;,33,19,&quot;Male&quot;,145098\n&quot;335&quot;,&quot;AssocProf&quot;,&quot;B&quot;,19,6,&quot;Female&quot;,104542\n&quot;336&quot;,&quot;Prof&quot;,&quot;B&quot;,36,38,&quot;Male&quot;,151445\n&quot;337&quot;,&quot;Prof&quot;,&quot;B&quot;,35,23,&quot;Male&quot;,98053\n&quot;338&quot;,&quot;Prof&quot;,&quot;B&quot;,13,12,&quot;Male&quot;,145000\n&quot;339&quot;,&quot;Prof&quot;,&quot;B&quot;,32,25,&quot;Male&quot;,128464\n&quot;340&quot;,&quot;Prof&quot;,&quot;B&quot;,37,15,&quot;Male&quot;,137317\n&quot;341&quot;,&quot;Prof&quot;,&quot;B&quot;,13,11,&quot;Male&quot;,106231\n&quot;342&quot;,&quot;Prof&quot;,&quot;B&quot;,17,17,&quot;Female&quot;,124312\n&quot;343&quot;,&quot;Prof&quot;,&quot;B&quot;,38,38,&quot;Male&quot;,114596\n&quot;344&quot;,&quot;Prof&quot;,&quot;B&quot;,31,31,&quot;Male&quot;,162150\n&quot;345&quot;,&quot;Prof&quot;,&quot;B&quot;,32,35,&quot;Male&quot;,150376\n&quot;346&quot;,&quot;Prof&quot;,&quot;B&quot;,15,10,&quot;Male&quot;,107986\n&quot;347&quot;,&quot;Prof&quot;,&quot;B&quot;,41,27,&quot;Male&quot;,142023\n&quot;348&quot;,&quot;Prof&quot;,&quot;B&quot;,39,33,&quot;Male&quot;,128250\n&quot;349&quot;,&quot;AsstProf&quot;,&quot;B&quot;,4,3,&quot;Male&quot;,80139\n&quot;350&quot;,&quot;Prof&quot;,&quot;B&quot;,27,28,&quot;Male&quot;,144309\n&quot;351&quot;,&quot;Prof&quot;,&quot;B&quot;,56,49,&quot;Male&quot;,186960\n&quot;352&quot;,&quot;Prof&quot;,&quot;B&quot;,38,38,&quot;Male&quot;,93519\n&quot;353&quot;,&quot;Prof&quot;,&quot;B&quot;,26,27,&quot;Male&quot;,142500\n&quot;354&quot;,&quot;Prof&quot;,&quot;B&quot;,22,20,&quot;Male&quot;,138000\n&quot;355&quot;,&quot;AsstProf&quot;,&quot;B&quot;,8,1,&quot;Male&quot;,83600\n&quot;356&quot;,&quot;Prof&quot;,&quot;B&quot;,25,21,&quot;Male&quot;,145028\n&quot;357&quot;,&quot;Prof&quot;,&quot;A&quot;,49,40,&quot;Male&quot;,88709\n&quot;358&quot;,&quot;Prof&quot;,&quot;A&quot;,39,35,&quot;Male&quot;,107309\n&quot;359&quot;,&quot;Prof&quot;,&quot;A&quot;,28,14,&quot;Female&quot;,109954\n&quot;360&quot;,&quot;AsstProf&quot;,&quot;A&quot;,11,4,&quot;Male&quot;,78785\n&quot;361&quot;,&quot;Prof&quot;,&quot;A&quot;,14,11,&quot;Male&quot;,121946\n&quot;362&quot;,&quot;Prof&quot;,&quot;A&quot;,23,15,&quot;Female&quot;,109646\n&quot;363&quot;,&quot;Prof&quot;,&quot;A&quot;,30,30,&quot;Male&quot;,138771\n&quot;364&quot;,&quot;AssocProf&quot;,&quot;A&quot;,20,17,&quot;Male&quot;,81285\n&quot;365&quot;,&quot;Prof&quot;,&quot;A&quot;,43,43,&quot;Male&quot;,205500\n&quot;366&quot;,&quot;Prof&quot;,&quot;A&quot;,43,40,&quot;Male&quot;,101036\n&quot;367&quot;,&quot;Prof&quot;,&quot;A&quot;,15,10,&quot;Male&quot;,115435\n&quot;368&quot;,&quot;AssocProf&quot;,&quot;A&quot;,10,1,&quot;Male&quot;,108413\n&quot;369&quot;,&quot;Prof&quot;,&quot;A&quot;,35,30,&quot;Male&quot;,131950\n&quot;370&quot;,&quot;Prof&quot;,&quot;A&quot;,33,31,&quot;Male&quot;,134690\n&quot;371&quot;,&quot;AssocProf&quot;,&quot;A&quot;,13,8,&quot;Male&quot;,78182\n&quot;372&quot;,&quot;Prof&quot;,&quot;A&quot;,23,20,&quot;Male&quot;,110515\n&quot;373&quot;,&quot;Prof&quot;,&quot;A&quot;,12,7,&quot;Male&quot;,109707\n&quot;374&quot;,&quot;Prof&quot;,&quot;A&quot;,30,26,&quot;Male&quot;,136660\n&quot;375&quot;,&quot;Prof&quot;,&quot;A&quot;,27,19,&quot;Male&quot;,103275\n&quot;376&quot;,&quot;Prof&quot;,&quot;A&quot;,28,26,&quot;Male&quot;,103649\n&quot;377&quot;,&quot;AsstProf&quot;,&quot;A&quot;,4,1,&quot;Male&quot;,74856\n&quot;378&quot;,&quot;AsstProf&quot;,&quot;A&quot;,6,3,&quot;Male&quot;,77081\n&quot;379&quot;,&quot;Prof&quot;,&quot;A&quot;,38,38,&quot;Male&quot;,150680\n&quot;380&quot;,&quot;AssocProf&quot;,&quot;A&quot;,11,8,&quot;Male&quot;,104121\n&quot;381&quot;,&quot;AsstProf&quot;,&quot;A&quot;,8,3,&quot;Male&quot;,75996\n&quot;382&quot;,&quot;Prof&quot;,&quot;A&quot;,27,23,&quot;Male&quot;,172505\n&quot;383&quot;,&quot;AssocProf&quot;,&quot;A&quot;,8,5,&quot;Male&quot;,86895\n&quot;384&quot;,&quot;Prof&quot;,&quot;A&quot;,44,44,&quot;Male&quot;,105000\n&quot;385&quot;,&quot;Prof&quot;,&quot;A&quot;,27,21,&quot;Male&quot;,125192\n&quot;386&quot;,&quot;Prof&quot;,&quot;A&quot;,15,9,&quot;Male&quot;,114330\n&quot;387&quot;,&quot;Prof&quot;,&quot;A&quot;,29,27,&quot;Male&quot;,139219\n&quot;388&quot;,&quot;Prof&quot;,&quot;A&quot;,29,15,&quot;Male&quot;,109305\n&quot;389&quot;,&quot;Prof&quot;,&quot;A&quot;,38,36,&quot;Male&quot;,119450\n&quot;390&quot;,&quot;Prof&quot;,&quot;A&quot;,33,18,&quot;Male&quot;,186023\n&quot;391&quot;,&quot;Prof&quot;,&quot;A&quot;,40,19,&quot;Male&quot;,166605\n&quot;392&quot;,&quot;Prof&quot;,&quot;A&quot;,30,19,&quot;Male&quot;,151292\n&quot;393&quot;,&quot;Prof&quot;,&quot;A&quot;,33,30,&quot;Male&quot;,103106\n&quot;394&quot;,&quot;Prof&quot;,&quot;A&quot;,31,19,&quot;Male&quot;,150564\n&quot;395&quot;,&quot;Prof&quot;,&quot;A&quot;,42,25,&quot;Male&quot;,101738\n&quot;396&quot;,&quot;Prof&quot;,&quot;A&quot;,25,15,&quot;Male&quot;,95329\n&quot;397&quot;,&quot;AsstProf&quot;,&quot;A&quot;,8,4,&quot;Male&quot;,81035\n\n</div>"
      ]
     },
     "metadata": {
      "application/vnd.databricks.v1+output": {
       "addedWidgets": {},
       "arguments": {},
       "data": "<div class=\"ansiout\">&quot;&quot;,&quot;rank&quot;,&quot;discipline&quot;,&quot;yrs.since.phd&quot;,&quot;yrs.service&quot;,&quot;sex&quot;,&quot;salary&quot;\n&quot;1&quot;,&quot;Prof&quot;,&quot;B&quot;,19,18,&quot;Male&quot;,139750\n&quot;2&quot;,&quot;Prof&quot;,&quot;B&quot;,20,16,&quot;Male&quot;,173200\n&quot;3&quot;,&quot;AsstProf&quot;,&quot;B&quot;,4,3,&quot;Male&quot;,79750\n&quot;4&quot;,&quot;Prof&quot;,&quot;B&quot;,45,39,&quot;Male&quot;,115000\n&quot;5&quot;,&quot;Prof&quot;,&quot;B&quot;,40,41,&quot;Male&quot;,141500\n&quot;6&quot;,&quot;AssocProf&quot;,&quot;B&quot;,6,6,&quot;Male&quot;,97000\n&quot;7&quot;,&quot;Prof&quot;,&quot;B&quot;,30,23,&quot;Male&quot;,175000\n&quot;8&quot;,&quot;Prof&quot;,&quot;B&quot;,45,45,&quot;Male&quot;,147765\n&quot;9&quot;,&quot;Prof&quot;,&quot;B&quot;,21,20,&quot;Male&quot;,119250\n&quot;10&quot;,&quot;Prof&quot;,&quot;B&quot;,18,18,&quot;Female&quot;,129000\n&quot;11&quot;,&quot;AssocProf&quot;,&quot;B&quot;,12,8,&quot;Male&quot;,119800\n&quot;12&quot;,&quot;AsstProf&quot;,&quot;B&quot;,7,2,&quot;Male&quot;,79800\n&quot;13&quot;,&quot;AsstProf&quot;,&quot;B&quot;,1,1,&quot;Male&quot;,77700\n&quot;14&quot;,&quot;AsstProf&quot;,&quot;B&quot;,2,0,&quot;Male&quot;,78000\n&quot;15&quot;,&quot;Prof&quot;,&quot;B&quot;,20,18,&quot;Male&quot;,104800\n&quot;16&quot;,&quot;Prof&quot;,&quot;B&quot;,12,3,&quot;Male&quot;,117150\n&quot;17&quot;,&quot;Prof&quot;,&quot;B&quot;,19,20,&quot;Male&quot;,101000\n&quot;18&quot;,&quot;Prof&quot;,&quot;A&quot;,38,34,&quot;Male&quot;,103450\n&quot;19&quot;,&quot;Prof&quot;,&quot;A&quot;,37,23,&quot;Male&quot;,124750\n&quot;20&quot;,&quot;Prof&quot;,&quot;A&quot;,39,36,&quot;Female&quot;,137000\n&quot;21&quot;,&quot;Prof&quot;,&quot;A&quot;,31,26,&quot;Male&quot;,89565\n&quot;22&quot;,&quot;Prof&quot;,&quot;A&quot;,36,31,&quot;Male&quot;,102580\n&quot;23&quot;,&quot;Prof&quot;,&quot;A&quot;,34,30,&quot;Male&quot;,93904\n&quot;24&quot;,&quot;Prof&quot;,&quot;A&quot;,24,19,&quot;Male&quot;,113068\n&quot;25&quot;,&quot;AssocProf&quot;,&quot;A&quot;,13,8,&quot;Female&quot;,74830\n&quot;26&quot;,&quot;Prof&quot;,&quot;A&quot;,21,8,&quot;Male&quot;,106294\n&quot;27&quot;,&quot;Prof&quot;,&quot;A&quot;,35,23,&quot;Male&quot;,134885\n&quot;28&quot;,&quot;AsstProf&quot;,&quot;B&quot;,5,3,&quot;Male&quot;,82379\n&quot;29&quot;,&quot;AsstProf&quot;,&quot;B&quot;,11,0,&quot;Male&quot;,77000\n&quot;30&quot;,&quot;Prof&quot;,&quot;B&quot;,12,8,&quot;Male&quot;,118223\n&quot;31&quot;,&quot;Prof&quot;,&quot;B&quot;,20,4,&quot;Male&quot;,132261\n&quot;32&quot;,&quot;AsstProf&quot;,&quot;B&quot;,7,2,&quot;Male&quot;,79916\n&quot;33&quot;,&quot;Prof&quot;,&quot;B&quot;,13,9,&quot;Male&quot;,117256\n&quot;34&quot;,&quot;AsstProf&quot;,&quot;B&quot;,4,2,&quot;Male&quot;,80225\n&quot;35&quot;,&quot;AsstProf&quot;,&quot;B&quot;,4,2,&quot;Female&quot;,80225\n&quot;36&quot;,&quot;AsstProf&quot;,&quot;B&quot;,5,0,&quot;Female&quot;,77000\n&quot;37&quot;,&quot;Prof&quot;,&quot;B&quot;,22,21,&quot;Male&quot;,155750\n&quot;38&quot;,&quot;AsstProf&quot;,&quot;B&quot;,7,4,&quot;Male&quot;,86373\n&quot;39&quot;,&quot;Prof&quot;,&quot;B&quot;,41,31,&quot;Male&quot;,125196\n&quot;40&quot;,&quot;AssocProf&quot;,&quot;B&quot;,9,9,&quot;Male&quot;,100938\n&quot;41&quot;,&quot;Prof&quot;,&quot;B&quot;,23,2,&quot;Male&quot;,146500\n&quot;42&quot;,&quot;AssocProf&quot;,&quot;B&quot;,23,23,&quot;Male&quot;,93418\n&quot;43&quot;,&quot;Prof&quot;,&quot;B&quot;,40,27,&quot;Male&quot;,101299\n&quot;44&quot;,&quot;Prof&quot;,&quot;B&quot;,38,38,&quot;Male&quot;,231545\n&quot;45&quot;,&quot;Prof&quot;,&quot;B&quot;,19,19,&quot;Male&quot;,94384\n&quot;46&quot;,&quot;Prof&quot;,&quot;B&quot;,25,15,&quot;Male&quot;,114778\n&quot;47&quot;,&quot;Prof&quot;,&quot;B&quot;,40,28,&quot;Male&quot;,98193\n&quot;48&quot;,&quot;Prof&quot;,&quot;B&quot;,23,19,&quot;Female&quot;,151768\n&quot;49&quot;,&quot;Prof&quot;,&quot;B&quot;,25,25,&quot;Female&quot;,140096\n&quot;50&quot;,&quot;AsstProf&quot;,&quot;B&quot;,1,1,&quot;Male&quot;,70768\n&quot;51&quot;,&quot;Prof&quot;,&quot;B&quot;,28,28,&quot;Male&quot;,126621\n&quot;52&quot;,&quot;Prof&quot;,&quot;B&quot;,12,11,&quot;Male&quot;,108875\n&quot;53&quot;,&quot;AsstProf&quot;,&quot;B&quot;,11,3,&quot;Female&quot;,74692\n&quot;54&quot;,&quot;Prof&quot;,&quot;B&quot;,16,9,&quot;Male&quot;,106639\n&quot;55&quot;,&quot;AssocProf&quot;,&quot;B&quot;,12,11,&quot;Male&quot;,103760\n&quot;56&quot;,&quot;AssocProf&quot;,&quot;B&quot;,14,5,&quot;Male&quot;,83900\n&quot;57&quot;,&quot;Prof&quot;,&quot;B&quot;,23,21,&quot;Male&quot;,117704\n&quot;58&quot;,&quot;AssocProf&quot;,&quot;B&quot;,9,8,&quot;Male&quot;,90215\n&quot;59&quot;,&quot;AssocProf&quot;,&quot;B&quot;,10,9,&quot;Male&quot;,100135\n&quot;60&quot;,&quot;AsstProf&quot;,&quot;B&quot;,8,3,&quot;Male&quot;,75044\n&quot;61&quot;,&quot;AssocProf&quot;,&quot;B&quot;,9,8,&quot;Male&quot;,90304\n&quot;62&quot;,&quot;AsstProf&quot;,&quot;B&quot;,3,2,&quot;Male&quot;,75243\n&quot;63&quot;,&quot;Prof&quot;,&quot;B&quot;,33,31,&quot;Male&quot;,109785\n&quot;64&quot;,&quot;AssocProf&quot;,&quot;B&quot;,11,11,&quot;Female&quot;,103613\n&quot;65&quot;,&quot;AsstProf&quot;,&quot;B&quot;,4,3,&quot;Male&quot;,68404\n&quot;66&quot;,&quot;AssocProf&quot;,&quot;B&quot;,9,8,&quot;Male&quot;,100522\n&quot;67&quot;,&quot;Prof&quot;,&quot;B&quot;,22,12,&quot;Male&quot;,101000\n&quot;68&quot;,&quot;Prof&quot;,&quot;B&quot;,35,31,&quot;Male&quot;,99418\n&quot;69&quot;,&quot;Prof&quot;,&quot;B&quot;,17,17,&quot;Female&quot;,111512\n&quot;70&quot;,&quot;Prof&quot;,&quot;B&quot;,28,36,&quot;Male&quot;,91412\n&quot;71&quot;,&quot;Prof&quot;,&quot;B&quot;,17,2,&quot;Male&quot;,126320\n&quot;72&quot;,&quot;Prof&quot;,&quot;B&quot;,45,45,&quot;Male&quot;,146856\n&quot;73&quot;,&quot;Prof&quot;,&quot;B&quot;,29,19,&quot;Male&quot;,100131\n&quot;74&quot;,&quot;Prof&quot;,&quot;B&quot;,35,34,&quot;Male&quot;,92391\n&quot;75&quot;,&quot;Prof&quot;,&quot;B&quot;,28,23,&quot;Male&quot;,113398\n&quot;76&quot;,&quot;AsstProf&quot;,&quot;B&quot;,8,3,&quot;Male&quot;,73266\n&quot;77&quot;,&quot;Prof&quot;,&quot;B&quot;,17,3,&quot;Male&quot;,150480\n&quot;78&quot;,&quot;Prof&quot;,&quot;B&quot;,26,19,&quot;Male&quot;,193000\n&quot;79&quot;,&quot;AsstProf&quot;,&quot;B&quot;,3,1,&quot;Male&quot;,86100\n&quot;80&quot;,&quot;AsstProf&quot;,&quot;B&quot;,6,2,&quot;Male&quot;,84240\n&quot;81&quot;,&quot;Prof&quot;,&quot;B&quot;,43,28,&quot;Male&quot;,150743\n&quot;82&quot;,&quot;Prof&quot;,&quot;B&quot;,17,16,&quot;Male&quot;,135585\n&quot;83&quot;,&quot;Prof&quot;,&quot;B&quot;,22,20,&quot;Male&quot;,144640\n&quot;84&quot;,&quot;AsstProf&quot;,&quot;B&quot;,6,2,&quot;Male&quot;,88825\n&quot;85&quot;,&quot;Prof&quot;,&quot;B&quot;,17,18,&quot;Female&quot;,122960\n&quot;86&quot;,&quot;Prof&quot;,&quot;B&quot;,15,14,&quot;Male&quot;,132825\n&quot;87&quot;,&quot;Prof&quot;,&quot;B&quot;,37,37,&quot;Male&quot;,152708\n&quot;88&quot;,&quot;AsstProf&quot;,&quot;B&quot;,2,2,&quot;Male&quot;,88400\n&quot;89&quot;,&quot;Prof&quot;,&quot;B&quot;,25,25,&quot;Male&quot;,172272\n&quot;90&quot;,&quot;AssocProf&quot;,&quot;B&quot;,9,7,&quot;Male&quot;,107008\n&quot;91&quot;,&quot;AsstProf&quot;,&quot;B&quot;,10,5,&quot;Female&quot;,97032\n&quot;92&quot;,&quot;AssocProf&quot;,&quot;B&quot;,10,7,&quot;Male&quot;,105128\n&quot;93&quot;,&quot;AssocProf&quot;,&quot;B&quot;,10,7,&quot;Male&quot;,105631\n&quot;94&quot;,&quot;Prof&quot;,&quot;B&quot;,38,38,&quot;Male&quot;,166024\n&quot;95&quot;,&quot;Prof&quot;,&quot;B&quot;,21,20,&quot;Male&quot;,123683\n&quot;96&quot;,&quot;AsstProf&quot;,&quot;B&quot;,4,0,&quot;Male&quot;,84000\n&quot;97&quot;,&quot;AssocProf&quot;,&quot;B&quot;,17,12,&quot;Male&quot;,95611\n&quot;98&quot;,&quot;Prof&quot;,&quot;B&quot;,13,7,&quot;Male&quot;,129676\n&quot;99&quot;,&quot;Prof&quot;,&quot;B&quot;,30,14,&quot;Male&quot;,102235\n&quot;100&quot;,&quot;Prof&quot;,&quot;B&quot;,41,26,&quot;Male&quot;,106689\n&quot;101&quot;,&quot;Prof&quot;,&quot;B&quot;,42,25,&quot;Male&quot;,133217\n&quot;102&quot;,&quot;Prof&quot;,&quot;B&quot;,28,23,&quot;Male&quot;,126933\n&quot;103&quot;,&quot;Prof&quot;,&quot;B&quot;,16,5,&quot;Male&quot;,153303\n&quot;104&quot;,&quot;Prof&quot;,&quot;B&quot;,20,14,&quot;Female&quot;,127512\n&quot;105&quot;,&quot;AssocProf&quot;,&quot;A&quot;,18,10,&quot;Male&quot;,83850\n&quot;106&quot;,&quot;Prof&quot;,&quot;A&quot;,31,28,&quot;Male&quot;,113543\n&quot;107&quot;,&quot;AssocProf&quot;,&quot;A&quot;,11,8,&quot;Male&quot;,82099\n&quot;108&quot;,&quot;AssocProf&quot;,&quot;A&quot;,10,8,&quot;Male&quot;,82600\n&quot;109&quot;,&quot;AssocProf&quot;,&quot;A&quot;,15,8,&quot;Male&quot;,81500\n&quot;110&quot;,&quot;Prof&quot;,&quot;A&quot;,40,31,&quot;Male&quot;,131205\n&quot;111&quot;,&quot;Prof&quot;,&quot;A&quot;,20,16,&quot;Male&quot;,112429\n&quot;112&quot;,&quot;AssocProf&quot;,&quot;A&quot;,19,16,&quot;Male&quot;,82100\n&quot;113&quot;,&quot;AsstProf&quot;,&quot;A&quot;,3,1,&quot;Male&quot;,72500\n&quot;114&quot;,&quot;Prof&quot;,&quot;A&quot;,37,37,&quot;Male&quot;,104279\n&quot;115&quot;,&quot;Prof&quot;,&quot;A&quot;,12,0,&quot;Female&quot;,105000\n&quot;116&quot;,&quot;Prof&quot;,&quot;A&quot;,21,9,&quot;Male&quot;,120806\n&quot;117&quot;,&quot;Prof&quot;,&quot;A&quot;,30,29,&quot;Male&quot;,148500\n&quot;118&quot;,&quot;Prof&quot;,&quot;A&quot;,39,36,&quot;Male&quot;,117515\n&quot;119&quot;,&quot;AsstProf&quot;,&quot;A&quot;,4,1,&quot;Male&quot;,72500\n&quot;120&quot;,&quot;AsstProf&quot;,&quot;A&quot;,5,3,&quot;Female&quot;,73500\n&quot;121&quot;,&quot;Prof&quot;,&quot;A&quot;,14,14,&quot;Male&quot;,115313\n&quot;122&quot;,&quot;Prof&quot;,&quot;A&quot;,32,32,&quot;Male&quot;,124309\n&quot;123&quot;,&quot;Prof&quot;,&quot;A&quot;,24,22,&quot;Male&quot;,97262\n&quot;124&quot;,&quot;AssocProf&quot;,&quot;A&quot;,25,22,&quot;Female&quot;,62884\n&quot;125&quot;,&quot;Prof&quot;,&quot;A&quot;,24,22,&quot;Male&quot;,96614\n&quot;126&quot;,&quot;Prof&quot;,&quot;A&quot;,54,49,&quot;Male&quot;,78162\n&quot;127&quot;,&quot;Prof&quot;,&quot;A&quot;,28,26,&quot;Male&quot;,155500\n&quot;128&quot;,&quot;AsstProf&quot;,&quot;A&quot;,2,0,&quot;Female&quot;,72500\n&quot;129&quot;,&quot;Prof&quot;,&quot;A&quot;,32,30,&quot;Male&quot;,113278\n&quot;130&quot;,&quot;AsstProf&quot;,&quot;A&quot;,4,2,&quot;Male&quot;,73000\n&quot;131&quot;,&quot;AssocProf&quot;,&quot;A&quot;,11,9,&quot;Male&quot;,83001\n&quot;132&quot;,&quot;Prof&quot;,&quot;A&quot;,56,57,&quot;Male&quot;,76840\n&quot;133&quot;,&quot;AssocProf&quot;,&quot;A&quot;,10,8,&quot;Female&quot;,77500\n&quot;134&quot;,&quot;AsstProf&quot;,&quot;A&quot;,3,1,&quot;Female&quot;,72500\n&quot;135&quot;,&quot;Prof&quot;,&quot;A&quot;,35,25,&quot;Male&quot;,168635\n&quot;136&quot;,&quot;Prof&quot;,&quot;A&quot;,20,18,&quot;Male&quot;,136000\n&quot;137&quot;,&quot;Prof&quot;,&quot;A&quot;,16,14,&quot;Male&quot;,108262\n&quot;138&quot;,&quot;Prof&quot;,&quot;A&quot;,17,14,&quot;Male&quot;,105668\n&quot;139&quot;,&quot;AssocProf&quot;,&quot;A&quot;,10,7,&quot;Male&quot;,73877\n&quot;140&quot;,&quot;Prof&quot;,&quot;A&quot;,21,18,&quot;Male&quot;,152664\n&quot;141&quot;,&quot;AssocProf&quot;,&quot;A&quot;,14,8,&quot;Male&quot;,100102\n&quot;142&quot;,&quot;AssocProf&quot;,&quot;A&quot;,15,10,&quot;Male&quot;,81500\n&quot;143&quot;,&quot;Prof&quot;,&quot;A&quot;,19,11,&quot;Male&quot;,106608\n&quot;144&quot;,&quot;AsstProf&quot;,&quot;B&quot;,3,3,&quot;Male&quot;,89942\n&quot;145&quot;,&quot;Prof&quot;,&quot;B&quot;,27,27,&quot;Male&quot;,112696\n&quot;146&quot;,&quot;Prof&quot;,&quot;B&quot;,28,28,&quot;Male&quot;,119015\n&quot;147&quot;,&quot;AsstProf&quot;,&quot;B&quot;,4,4,&quot;Male&quot;,92000\n&quot;148&quot;,&quot;Prof&quot;,&quot;B&quot;,27,27,&quot;Male&quot;,156938\n&quot;149&quot;,&quot;Prof&quot;,&quot;B&quot;,36,26,&quot;Female&quot;,144651\n&quot;150&quot;,&quot;AsstProf&quot;,&quot;B&quot;,4,3,&quot;Male&quot;,95079\n&quot;151&quot;,&quot;Prof&quot;,&quot;B&quot;,14,12,&quot;Male&quot;,128148\n&quot;152&quot;,&quot;AsstProf&quot;,&quot;B&quot;,4,4,&quot;Male&quot;,92000\n&quot;153&quot;,&quot;Prof&quot;,&quot;B&quot;,21,9,&quot;Male&quot;,111168\n&quot;154&quot;,&quot;AssocProf&quot;,&quot;B&quot;,12,10,&quot;Female&quot;,103994\n&quot;155&quot;,&quot;AsstProf&quot;,&quot;B&quot;,4,0,&quot;Male&quot;,92000\n&quot;156&quot;,&quot;Prof&quot;,&quot;B&quot;,21,21,&quot;Male&quot;,118971\n&quot;157&quot;,&quot;AssocProf&quot;,&quot;B&quot;,12,18,&quot;Male&quot;,113341\n&quot;158&quot;,&quot;AsstProf&quot;,&quot;B&quot;,1,0,&quot;Male&quot;,88000\n&quot;159&quot;,&quot;AssocProf&quot;,&quot;B&quot;,6,6,&quot;Male&quot;,95408\n&quot;160&quot;,&quot;Prof&quot;,&quot;B&quot;,15,16,&quot;Male&quot;,137167\n&quot;161&quot;,&quot;AsstProf&quot;,&quot;B&quot;,2,2,&quot;Male&quot;,89516\n&quot;162&quot;,&quot;Prof&quot;,&quot;B&quot;,26,19,&quot;Male&quot;,176500\n&quot;163&quot;,&quot;AssocProf&quot;,&quot;B&quot;,22,7,&quot;Male&quot;,98510\n&quot;164&quot;,&quot;AsstProf&quot;,&quot;B&quot;,3,3,&quot;Male&quot;,89942\n&quot;165&quot;,&quot;AsstProf&quot;,&quot;B&quot;,1,0,&quot;Male&quot;,88795\n&quot;166&quot;,&quot;Prof&quot;,&quot;B&quot;,21,8,&quot;Male&quot;,105890\n&quot;167&quot;,&quot;Prof&quot;,&quot;B&quot;,16,16,&quot;Male&quot;,167284\n&quot;168&quot;,&quot;Prof&quot;,&quot;B&quot;,18,19,&quot;Male&quot;,130664\n&quot;169&quot;,&quot;AssocProf&quot;,&quot;B&quot;,8,6,&quot;Male&quot;,101210\n&quot;170&quot;,&quot;Prof&quot;,&quot;B&quot;,25,18,&quot;Male&quot;,181257\n&quot;171&quot;,&quot;AsstProf&quot;,&quot;B&quot;,5,5,&quot;Male&quot;,91227\n&quot;172&quot;,&quot;Prof&quot;,&quot;B&quot;,19,19,&quot;Male&quot;,151575\n&quot;173&quot;,&quot;Prof&quot;,&quot;B&quot;,37,24,&quot;Male&quot;,93164\n&quot;174&quot;,&quot;Prof&quot;,&quot;B&quot;,20,20,&quot;Male&quot;,134185\n&quot;175&quot;,&quot;AssocProf&quot;,&quot;B&quot;,17,6,&quot;Male&quot;,105000\n&quot;176&quot;,&quot;Prof&quot;,&quot;B&quot;,28,25,&quot;Male&quot;,111751\n&quot;177&quot;,&quot;AssocProf&quot;,&quot;B&quot;,10,7,&quot;Male&quot;,95436\n&quot;178&quot;,&quot;AssocProf&quot;,&quot;B&quot;,13,9,&quot;Male&quot;,100944\n&quot;179&quot;,&quot;Prof&quot;,&quot;B&quot;,27,14,&quot;Male&quot;,147349\n&quot;180&quot;,&quot;AsstProf&quot;,&quot;B&quot;,3,3,&quot;Female&quot;,92000\n&quot;181&quot;,&quot;Prof&quot;,&quot;B&quot;,11,11,&quot;Male&quot;,142467\n&quot;182&quot;,&quot;Prof&quot;,&quot;B&quot;,18,5,&quot;Male&quot;,141136\n&quot;183&quot;,&quot;AssocProf&quot;,&quot;B&quot;,8,8,&quot;Male&quot;,100000\n&quot;184&quot;,&quot;Prof&quot;,&quot;B&quot;,26,22,&quot;Male&quot;,150000\n&quot;185&quot;,&quot;Prof&quot;,&quot;B&quot;,23,23,&quot;Male&quot;,101000\n&quot;186&quot;,&quot;Prof&quot;,&quot;B&quot;,33,30,&quot;Male&quot;,134000\n&quot;187&quot;,&quot;AssocProf&quot;,&quot;B&quot;,13,10,&quot;Female&quot;,103750\n&quot;188&quot;,&quot;Prof&quot;,&quot;B&quot;,18,10,&quot;Male&quot;,107500\n&quot;189&quot;,&quot;AssocProf&quot;,&quot;B&quot;,28,28,&quot;Male&quot;,106300\n&quot;190&quot;,&quot;Prof&quot;,&quot;B&quot;,25,19,&quot;Male&quot;,153750\n&quot;191&quot;,&quot;Prof&quot;,&quot;B&quot;,22,9,&quot;Male&quot;,180000\n&quot;192&quot;,&quot;Prof&quot;,&quot;B&quot;,43,22,&quot;Male&quot;,133700\n&quot;193&quot;,&quot;Prof&quot;,&quot;B&quot;,19,18,&quot;Male&quot;,122100\n&quot;194&quot;,&quot;AssocProf&quot;,&quot;B&quot;,19,19,&quot;Male&quot;,86250\n&quot;195&quot;,&quot;AssocProf&quot;,&quot;B&quot;,48,53,&quot;Male&quot;,90000\n&quot;196&quot;,&quot;AssocProf&quot;,&quot;B&quot;,9,7,&quot;Male&quot;,113600\n&quot;197&quot;,&quot;AsstProf&quot;,&quot;B&quot;,4,4,&quot;Male&quot;,92700\n&quot;198&quot;,&quot;AsstProf&quot;,&quot;B&quot;,4,4,&quot;Male&quot;,92000\n&quot;199&quot;,&quot;Prof&quot;,&quot;B&quot;,34,33,&quot;Male&quot;,189409\n&quot;200&quot;,&quot;Prof&quot;,&quot;B&quot;,38,22,&quot;Male&quot;,114500\n&quot;201&quot;,&quot;AsstProf&quot;,&quot;B&quot;,4,4,&quot;Male&quot;,92700\n&quot;202&quot;,&quot;Prof&quot;,&quot;B&quot;,40,40,&quot;Male&quot;,119700\n&quot;203&quot;,&quot;Prof&quot;,&quot;B&quot;,28,17,&quot;Male&quot;,160400\n&quot;204&quot;,&quot;Prof&quot;,&quot;B&quot;,17,17,&quot;Male&quot;,152500\n&quot;205&quot;,&quot;Prof&quot;,&quot;B&quot;,19,5,&quot;Male&quot;,165000\n&quot;206&quot;,&quot;Prof&quot;,&quot;B&quot;,21,2,&quot;Male&quot;,96545\n&quot;207&quot;,&quot;Prof&quot;,&quot;B&quot;,35,33,&quot;Male&quot;,162200\n&quot;208&quot;,&quot;Prof&quot;,&quot;B&quot;,18,18,&quot;Male&quot;,120000\n&quot;209&quot;,&quot;AsstProf&quot;,&quot;B&quot;,7,2,&quot;Male&quot;,91300\n&quot;210&quot;,&quot;Prof&quot;,&quot;B&quot;,20,20,&quot;Male&quot;,163200\n&quot;211&quot;,&quot;AsstProf&quot;,&quot;B&quot;,4,3,&quot;Male&quot;,91000\n&quot;212&quot;,&quot;Prof&quot;,&quot;B&quot;,39,39,&quot;Male&quot;,111350\n&quot;213&quot;,&quot;Prof&quot;,&quot;B&quot;,15,7,&quot;Male&quot;,128400\n&quot;214&quot;,&quot;Prof&quot;,&quot;B&quot;,26,19,&quot;Male&quot;,126200\n&quot;215&quot;,&quot;AssocProf&quot;,&quot;B&quot;,11,1,&quot;Male&quot;,118700\n&quot;216&quot;,&quot;Prof&quot;,&quot;B&quot;,16,11,&quot;Male&quot;,145350\n&quot;217&quot;,&quot;Prof&quot;,&quot;B&quot;,15,11,&quot;Male&quot;,146000\n&quot;218&quot;,&quot;AssocProf&quot;,&quot;B&quot;,29,22,&quot;Male&quot;,105350\n&quot;219&quot;,&quot;AssocProf&quot;,&quot;B&quot;,14,7,&quot;Female&quot;,109650\n&quot;220&quot;,&quot;Prof&quot;,&quot;B&quot;,13,11,&quot;Male&quot;,119500\n&quot;221&quot;,&quot;Prof&quot;,&quot;B&quot;,21,21,&quot;Male&quot;,170000\n&quot;222&quot;,&quot;Prof&quot;,&quot;B&quot;,23,10,&quot;Male&quot;,145200\n&quot;223&quot;,&quot;AssocProf&quot;,&quot;B&quot;,13,6,&quot;Male&quot;,107150\n&quot;224&quot;,&quot;Prof&quot;,&quot;B&quot;,34,20,&quot;Male&quot;,129600\n&quot;225&quot;,&quot;Prof&quot;,&quot;A&quot;,38,35,&quot;Male&quot;,87800\n&quot;226&quot;,&quot;Prof&quot;,&quot;A&quot;,20,20,&quot;Male&quot;,122400\n&quot;227&quot;,&quot;AsstProf&quot;,&quot;A&quot;,3,1,&quot;Male&quot;,63900\n&quot;228&quot;,&quot;AssocProf&quot;,&quot;A&quot;,9,7,&quot;Male&quot;,70000\n&quot;229&quot;,&quot;Prof&quot;,&quot;A&quot;,16,11,&quot;Male&quot;,88175\n&quot;230&quot;,&quot;Prof&quot;,&quot;A&quot;,39,38,&quot;Male&quot;,133900\n&quot;231&quot;,&quot;Prof&quot;,&quot;A&quot;,29,27,&quot;Female&quot;,91000\n&quot;232&quot;,&quot;AssocProf&quot;,&quot;A&quot;,26,24,&quot;Female&quot;,73300\n&quot;233&quot;,&quot;Prof&quot;,&quot;A&quot;,38,19,&quot;Male&quot;,148750\n&quot;234&quot;,&quot;Prof&quot;,&quot;A&quot;,36,19,&quot;Female&quot;,117555\n&quot;235&quot;,&quot;AsstProf&quot;,&quot;A&quot;,8,3,&quot;Male&quot;,69700\n&quot;236&quot;,&quot;Prof&quot;,&quot;A&quot;,28,17,&quot;Male&quot;,81700\n&quot;237&quot;,&quot;Prof&quot;,&quot;A&quot;,25,25,&quot;Male&quot;,114000\n&quot;238&quot;,&quot;AsstProf&quot;,&quot;A&quot;,7,6,&quot;Female&quot;,63100\n&quot;239&quot;,&quot;Prof&quot;,&quot;A&quot;,46,40,&quot;Male&quot;,77202\n&quot;240&quot;,&quot;Prof&quot;,&quot;A&quot;,19,6,&quot;Male&quot;,96200\n&quot;241&quot;,&quot;AsstProf&quot;,&quot;A&quot;,5,3,&quot;Male&quot;,69200\n&quot;242&quot;,&quot;Prof&quot;,&quot;A&quot;,31,30,&quot;Male&quot;,122875\n&quot;243&quot;,&quot;Prof&quot;,&quot;A&quot;,38,37,&quot;Male&quot;,102600\n&quot;244&quot;,&quot;Prof&quot;,&quot;A&quot;,23,23,&quot;Male&quot;,108200\n&quot;245&quot;,&quot;Prof&quot;,&quot;A&quot;,19,23,&quot;Male&quot;,84273\n&quot;246&quot;,&quot;Prof&quot;,&quot;A&quot;,17,11,&quot;Female&quot;,90450\n&quot;247&quot;,&quot;Prof&quot;,&quot;A&quot;,30,23,&quot;Male&quot;,91100\n&quot;248&quot;,&quot;Prof&quot;,&quot;A&quot;,21,18,&quot;Male&quot;,101100\n&quot;249&quot;,&quot;Prof&quot;,&quot;A&quot;,28,23,&quot;Male&quot;,128800\n&quot;250&quot;,&quot;Prof&quot;,&quot;A&quot;,29,7,&quot;Male&quot;,204000\n&quot;251&quot;,&quot;Prof&quot;,&quot;A&quot;,39,39,&quot;Male&quot;,109000\n&quot;252&quot;,&quot;Prof&quot;,&quot;A&quot;,20,8,&quot;Male&quot;,102000\n&quot;253&quot;,&quot;Prof&quot;,&quot;A&quot;,31,12,&quot;Male&quot;,132000\n&quot;254&quot;,&quot;AsstProf&quot;,&quot;A&quot;,4,2,&quot;Female&quot;,77500\n&quot;255&quot;,&quot;Prof&quot;,&quot;A&quot;,28,7,&quot;Female&quot;,116450\n&quot;256&quot;,&quot;AssocProf&quot;,&quot;A&quot;,12,8,&quot;Male&quot;,83000\n&quot;257&quot;,&quot;Prof&quot;,&quot;A&quot;,22,22,&quot;Male&quot;,140300\n&quot;258&quot;,&quot;AssocProf&quot;,&quot;A&quot;,30,23,&quot;Male&quot;,74000\n&quot;259&quot;,&quot;AsstProf&quot;,&quot;A&quot;,9,3,&quot;Male&quot;,73800\n&quot;260&quot;,&quot;Prof&quot;,&quot;A&quot;,32,30,&quot;Male&quot;,92550\n&quot;261&quot;,&quot;AssocProf&quot;,&quot;A&quot;,41,33,&quot;Male&quot;,88600\n&quot;262&quot;,&quot;Prof&quot;,&quot;A&quot;,45,45,&quot;Male&quot;,107550\n&quot;263&quot;,&quot;Prof&quot;,&quot;A&quot;,31,26,&quot;Male&quot;,121200\n&quot;264&quot;,&quot;Prof&quot;,&quot;A&quot;,31,31,&quot;Male&quot;,126000\n&quot;265&quot;,&quot;Prof&quot;,&quot;A&quot;,37,35,&quot;Male&quot;,99000\n&quot;266&quot;,&quot;Prof&quot;,&quot;A&quot;,36,30,&quot;Male&quot;,134800\n&quot;267&quot;,&quot;Prof&quot;,&quot;A&quot;,43,43,&quot;Male&quot;,143940\n&quot;268&quot;,&quot;Prof&quot;,&quot;A&quot;,14,10,&quot;Male&quot;,104350\n&quot;269&quot;,&quot;Prof&quot;,&quot;A&quot;,47,44,&quot;Male&quot;,89650\n&quot;270&quot;,&quot;Prof&quot;,&quot;A&quot;,13,7,&quot;Male&quot;,103700\n&quot;271&quot;,&quot;Prof&quot;,&quot;A&quot;,42,40,&quot;Male&quot;,143250\n&quot;272&quot;,&quot;Prof&quot;,&quot;A&quot;,42,18,&quot;Male&quot;,194800\n&quot;273&quot;,&quot;AsstProf&quot;,&quot;A&quot;,4,1,&quot;Male&quot;,73000\n&quot;274&quot;,&quot;AsstProf&quot;,&quot;A&quot;,8,4,&quot;Male&quot;,74000\n&quot;275&quot;,&quot;AsstProf&quot;,&quot;A&quot;,8,3,&quot;Female&quot;,78500\n&quot;276&quot;,&quot;Prof&quot;,&quot;A&quot;,12,6,&quot;Male&quot;,93000\n&quot;277&quot;,&quot;Prof&quot;,&quot;A&quot;,52,48,&quot;Male&quot;,107200\n&quot;278&quot;,&quot;Prof&quot;,&quot;A&quot;,31,27,&quot;Male&quot;,163200\n&quot;279&quot;,&quot;Prof&quot;,&quot;A&quot;,24,18,&quot;Male&quot;,107100\n&quot;280&quot;,&quot;Prof&quot;,&quot;A&quot;,46,46,&quot;Male&quot;,100600\n&quot;281&quot;,&quot;Prof&quot;,&quot;A&quot;,39,38,&quot;Male&quot;,136500\n&quot;282&quot;,&quot;Prof&quot;,&quot;A&quot;,37,27,&quot;Male&quot;,103600\n&quot;283&quot;,&quot;Prof&quot;,&quot;A&quot;,51,51,&quot;Male&quot;,57800\n&quot;284&quot;,&quot;Prof&quot;,&quot;A&quot;,45,43,&quot;Male&quot;,155865\n&quot;285&quot;,&quot;AssocProf&quot;,&quot;A&quot;,8,6,&quot;Male&quot;,88650\n&quot;286&quot;,&quot;AssocProf&quot;,&quot;A&quot;,49,49,&quot;Male&quot;,81800\n&quot;287&quot;,&quot;Prof&quot;,&quot;A&quot;,28,27,&quot;Male&quot;,115800\n&quot;288&quot;,&quot;AsstProf&quot;,&quot;A&quot;,2,0,&quot;Male&quot;,85000\n&quot;289&quot;,&quot;Prof&quot;,&quot;A&quot;,29,27,&quot;Male&quot;,150500\n&quot;290&quot;,&quot;AsstProf&quot;,&quot;A&quot;,8,5,&quot;Male&quot;,74000\n&quot;291&quot;,&quot;Prof&quot;,&quot;A&quot;,33,7,&quot;Male&quot;,174500\n&quot;292&quot;,&quot;Prof&quot;,&quot;A&quot;,32,28,&quot;Male&quot;,168500\n&quot;293&quot;,&quot;Prof&quot;,&quot;A&quot;,39,9,&quot;Male&quot;,183800\n&quot;294&quot;,&quot;AssocProf&quot;,&quot;A&quot;,11,1,&quot;Male&quot;,104800\n&quot;295&quot;,&quot;Prof&quot;,&quot;A&quot;,19,7,&quot;Male&quot;,107300\n&quot;296&quot;,&quot;Prof&quot;,&quot;A&quot;,40,36,&quot;Male&quot;,97150\n&quot;297&quot;,&quot;Prof&quot;,&quot;A&quot;,18,18,&quot;Male&quot;,126300\n&quot;298&quot;,&quot;Prof&quot;,&quot;A&quot;,17,11,&quot;Male&quot;,148800\n&quot;299&quot;,&quot;Prof&quot;,&quot;A&quot;,49,43,&quot;Male&quot;,72300\n&quot;300&quot;,&quot;AssocProf&quot;,&quot;A&quot;,45,39,&quot;Male&quot;,70700\n&quot;301&quot;,&quot;Prof&quot;,&quot;A&quot;,39,36,&quot;Male&quot;,88600\n&quot;302&quot;,&quot;Prof&quot;,&quot;A&quot;,27,16,&quot;Male&quot;,127100\n&quot;303&quot;,&quot;Prof&quot;,&quot;A&quot;,28,13,&quot;Male&quot;,170500\n&quot;304&quot;,&quot;Prof&quot;,&quot;A&quot;,14,4,&quot;Male&quot;,105260\n&quot;305&quot;,&quot;Prof&quot;,&quot;A&quot;,46,44,&quot;Male&quot;,144050\n&quot;306&quot;,&quot;Prof&quot;,&quot;A&quot;,33,31,&quot;Male&quot;,111350\n&quot;307&quot;,&quot;AsstProf&quot;,&quot;A&quot;,7,4,&quot;Male&quot;,74500\n&quot;308&quot;,&quot;Prof&quot;,&quot;A&quot;,31,28,&quot;Male&quot;,122500\n&quot;309&quot;,&quot;AsstProf&quot;,&quot;A&quot;,5,0,&quot;Male&quot;,74000\n&quot;310&quot;,&quot;Prof&quot;,&quot;A&quot;,22,15,&quot;Male&quot;,166800\n&quot;311&quot;,&quot;Prof&quot;,&quot;A&quot;,20,7,&quot;Male&quot;,92050\n&quot;312&quot;,&quot;Prof&quot;,&quot;A&quot;,14,9,&quot;Male&quot;,108100\n&quot;313&quot;,&quot;Prof&quot;,&quot;A&quot;,29,19,&quot;Male&quot;,94350\n&quot;314&quot;,&quot;Prof&quot;,&quot;A&quot;,35,35,&quot;Male&quot;,100351\n&quot;315&quot;,&quot;Prof&quot;,&quot;A&quot;,22,6,&quot;Male&quot;,146800\n&quot;316&quot;,&quot;AsstProf&quot;,&quot;B&quot;,6,3,&quot;Male&quot;,84716\n&quot;317&quot;,&quot;AssocProf&quot;,&quot;B&quot;,12,9,&quot;Female&quot;,71065\n&quot;318&quot;,&quot;Prof&quot;,&quot;B&quot;,46,45,&quot;Male&quot;,67559\n&quot;319&quot;,&quot;Prof&quot;,&quot;B&quot;,16,16,&quot;Male&quot;,134550\n&quot;320&quot;,&quot;Prof&quot;,&quot;B&quot;,16,15,&quot;Male&quot;,135027\n&quot;321&quot;,&quot;Prof&quot;,&quot;B&quot;,24,23,&quot;Male&quot;,104428\n&quot;322&quot;,&quot;AssocProf&quot;,&quot;B&quot;,9,9,&quot;Male&quot;,95642\n&quot;323&quot;,&quot;AssocProf&quot;,&quot;B&quot;,13,11,&quot;Male&quot;,126431\n&quot;324&quot;,&quot;Prof&quot;,&quot;B&quot;,24,15,&quot;Female&quot;,161101\n&quot;325&quot;,&quot;Prof&quot;,&quot;B&quot;,30,31,&quot;Male&quot;,162221\n&quot;326&quot;,&quot;AsstProf&quot;,&quot;B&quot;,8,4,&quot;Male&quot;,84500\n&quot;327&quot;,&quot;Prof&quot;,&quot;B&quot;,23,15,&quot;Male&quot;,124714\n&quot;328&quot;,&quot;Prof&quot;,&quot;B&quot;,37,37,&quot;Male&quot;,151650\n&quot;329&quot;,&quot;AssocProf&quot;,&quot;B&quot;,10,10,&quot;Male&quot;,99247\n&quot;330&quot;,&quot;Prof&quot;,&quot;B&quot;,23,23,&quot;Male&quot;,134778\n&quot;331&quot;,&quot;Prof&quot;,&quot;B&quot;,49,60,&quot;Male&quot;,192253\n&quot;332&quot;,&quot;Prof&quot;,&quot;B&quot;,20,9,&quot;Male&quot;,116518\n&quot;333&quot;,&quot;Prof&quot;,&quot;B&quot;,18,10,&quot;Female&quot;,105450\n&quot;334&quot;,&quot;Prof&quot;,&quot;B&quot;,33,19,&quot;Male&quot;,145098\n&quot;335&quot;,&quot;AssocProf&quot;,&quot;B&quot;,19,6,&quot;Female&quot;,104542\n&quot;336&quot;,&quot;Prof&quot;,&quot;B&quot;,36,38,&quot;Male&quot;,151445\n&quot;337&quot;,&quot;Prof&quot;,&quot;B&quot;,35,23,&quot;Male&quot;,98053\n&quot;338&quot;,&quot;Prof&quot;,&quot;B&quot;,13,12,&quot;Male&quot;,145000\n&quot;339&quot;,&quot;Prof&quot;,&quot;B&quot;,32,25,&quot;Male&quot;,128464\n&quot;340&quot;,&quot;Prof&quot;,&quot;B&quot;,37,15,&quot;Male&quot;,137317\n&quot;341&quot;,&quot;Prof&quot;,&quot;B&quot;,13,11,&quot;Male&quot;,106231\n&quot;342&quot;,&quot;Prof&quot;,&quot;B&quot;,17,17,&quot;Female&quot;,124312\n&quot;343&quot;,&quot;Prof&quot;,&quot;B&quot;,38,38,&quot;Male&quot;,114596\n&quot;344&quot;,&quot;Prof&quot;,&quot;B&quot;,31,31,&quot;Male&quot;,162150\n&quot;345&quot;,&quot;Prof&quot;,&quot;B&quot;,32,35,&quot;Male&quot;,150376\n&quot;346&quot;,&quot;Prof&quot;,&quot;B&quot;,15,10,&quot;Male&quot;,107986\n&quot;347&quot;,&quot;Prof&quot;,&quot;B&quot;,41,27,&quot;Male&quot;,142023\n&quot;348&quot;,&quot;Prof&quot;,&quot;B&quot;,39,33,&quot;Male&quot;,128250\n&quot;349&quot;,&quot;AsstProf&quot;,&quot;B&quot;,4,3,&quot;Male&quot;,80139\n&quot;350&quot;,&quot;Prof&quot;,&quot;B&quot;,27,28,&quot;Male&quot;,144309\n&quot;351&quot;,&quot;Prof&quot;,&quot;B&quot;,56,49,&quot;Male&quot;,186960\n&quot;352&quot;,&quot;Prof&quot;,&quot;B&quot;,38,38,&quot;Male&quot;,93519\n&quot;353&quot;,&quot;Prof&quot;,&quot;B&quot;,26,27,&quot;Male&quot;,142500\n&quot;354&quot;,&quot;Prof&quot;,&quot;B&quot;,22,20,&quot;Male&quot;,138000\n&quot;355&quot;,&quot;AsstProf&quot;,&quot;B&quot;,8,1,&quot;Male&quot;,83600\n&quot;356&quot;,&quot;Prof&quot;,&quot;B&quot;,25,21,&quot;Male&quot;,145028\n&quot;357&quot;,&quot;Prof&quot;,&quot;A&quot;,49,40,&quot;Male&quot;,88709\n&quot;358&quot;,&quot;Prof&quot;,&quot;A&quot;,39,35,&quot;Male&quot;,107309\n&quot;359&quot;,&quot;Prof&quot;,&quot;A&quot;,28,14,&quot;Female&quot;,109954\n&quot;360&quot;,&quot;AsstProf&quot;,&quot;A&quot;,11,4,&quot;Male&quot;,78785\n&quot;361&quot;,&quot;Prof&quot;,&quot;A&quot;,14,11,&quot;Male&quot;,121946\n&quot;362&quot;,&quot;Prof&quot;,&quot;A&quot;,23,15,&quot;Female&quot;,109646\n&quot;363&quot;,&quot;Prof&quot;,&quot;A&quot;,30,30,&quot;Male&quot;,138771\n&quot;364&quot;,&quot;AssocProf&quot;,&quot;A&quot;,20,17,&quot;Male&quot;,81285\n&quot;365&quot;,&quot;Prof&quot;,&quot;A&quot;,43,43,&quot;Male&quot;,205500\n&quot;366&quot;,&quot;Prof&quot;,&quot;A&quot;,43,40,&quot;Male&quot;,101036\n&quot;367&quot;,&quot;Prof&quot;,&quot;A&quot;,15,10,&quot;Male&quot;,115435\n&quot;368&quot;,&quot;AssocProf&quot;,&quot;A&quot;,10,1,&quot;Male&quot;,108413\n&quot;369&quot;,&quot;Prof&quot;,&quot;A&quot;,35,30,&quot;Male&quot;,131950\n&quot;370&quot;,&quot;Prof&quot;,&quot;A&quot;,33,31,&quot;Male&quot;,134690\n&quot;371&quot;,&quot;AssocProf&quot;,&quot;A&quot;,13,8,&quot;Male&quot;,78182\n&quot;372&quot;,&quot;Prof&quot;,&quot;A&quot;,23,20,&quot;Male&quot;,110515\n&quot;373&quot;,&quot;Prof&quot;,&quot;A&quot;,12,7,&quot;Male&quot;,109707\n&quot;374&quot;,&quot;Prof&quot;,&quot;A&quot;,30,26,&quot;Male&quot;,136660\n&quot;375&quot;,&quot;Prof&quot;,&quot;A&quot;,27,19,&quot;Male&quot;,103275\n&quot;376&quot;,&quot;Prof&quot;,&quot;A&quot;,28,26,&quot;Male&quot;,103649\n&quot;377&quot;,&quot;AsstProf&quot;,&quot;A&quot;,4,1,&quot;Male&quot;,74856\n&quot;378&quot;,&quot;AsstProf&quot;,&quot;A&quot;,6,3,&quot;Male&quot;,77081\n&quot;379&quot;,&quot;Prof&quot;,&quot;A&quot;,38,38,&quot;Male&quot;,150680\n&quot;380&quot;,&quot;AssocProf&quot;,&quot;A&quot;,11,8,&quot;Male&quot;,104121\n&quot;381&quot;,&quot;AsstProf&quot;,&quot;A&quot;,8,3,&quot;Male&quot;,75996\n&quot;382&quot;,&quot;Prof&quot;,&quot;A&quot;,27,23,&quot;Male&quot;,172505\n&quot;383&quot;,&quot;AssocProf&quot;,&quot;A&quot;,8,5,&quot;Male&quot;,86895\n&quot;384&quot;,&quot;Prof&quot;,&quot;A&quot;,44,44,&quot;Male&quot;,105000\n&quot;385&quot;,&quot;Prof&quot;,&quot;A&quot;,27,21,&quot;Male&quot;,125192\n&quot;386&quot;,&quot;Prof&quot;,&quot;A&quot;,15,9,&quot;Male&quot;,114330\n&quot;387&quot;,&quot;Prof&quot;,&quot;A&quot;,29,27,&quot;Male&quot;,139219\n&quot;388&quot;,&quot;Prof&quot;,&quot;A&quot;,29,15,&quot;Male&quot;,109305\n&quot;389&quot;,&quot;Prof&quot;,&quot;A&quot;,38,36,&quot;Male&quot;,119450\n&quot;390&quot;,&quot;Prof&quot;,&quot;A&quot;,33,18,&quot;Male&quot;,186023\n&quot;391&quot;,&quot;Prof&quot;,&quot;A&quot;,40,19,&quot;Male&quot;,166605\n&quot;392&quot;,&quot;Prof&quot;,&quot;A&quot;,30,19,&quot;Male&quot;,151292\n&quot;393&quot;,&quot;Prof&quot;,&quot;A&quot;,33,30,&quot;Male&quot;,103106\n&quot;394&quot;,&quot;Prof&quot;,&quot;A&quot;,31,19,&quot;Male&quot;,150564\n&quot;395&quot;,&quot;Prof&quot;,&quot;A&quot;,42,25,&quot;Male&quot;,101738\n&quot;396&quot;,&quot;Prof&quot;,&quot;A&quot;,25,15,&quot;Male&quot;,95329\n&quot;397&quot;,&quot;AsstProf&quot;,&quot;A&quot;,8,4,&quot;Male&quot;,81035\n\n</div>",
       "datasetInfos": [],
       "metadata": {},
       "removedWidgets": [],
       "type": "html"
      }
     },
     "output_type": "display_data"
    }
   ],
   "source": [
    "%fs head /databricks-datasets/Rdatasets/data-001/csv/car/Salaries.csv\n"
   ]
  },
  {
   "cell_type": "code",
   "execution_count": 0,
   "metadata": {
    "application/vnd.databricks.v1+cell": {
     "cellMetadata": {
      "byteLimit": 2048000,
      "rowLimit": 10000
     },
     "inputWidgets": {},
     "nuid": "f9491c34-2638-4b15-96f7-c1a9d1351263",
     "showTitle": false,
     "title": ""
    }
   },
   "outputs": [
    {
     "output_type": "stream",
     "name": "stdout",
     "output_type": "stream",
     "text": [
      "+---+--------+----------+-------------+-----------+----+------+\n|_c0|rank    |discipline|yrs.since.phd|yrs.service|sex |salary|\n+---+--------+----------+-------------+-----------+----+------+\n|1  |Prof    |B         |19           |18         |Male|139750|\n|2  |Prof    |B         |20           |16         |Male|173200|\n|3  |AsstProf|B         |4            |3          |Male|79750 |\n|4  |Prof    |B         |45           |39         |Male|115000|\n|5  |Prof    |B         |40           |41         |Male|141500|\n+---+--------+----------+-------------+-----------+----+------+\nonly showing top 5 rows\n\n"
     ]
    }
   ],
   "source": [
    "file='/databricks-datasets/Rdatasets/data-001/csv/car/Salaries.csv'\n",
    "\n",
    "# Required for StructField, StringType, IntegerType, etc.\n",
    "from pyspark.sql.types import *\n",
    "\n",
    "csvSchema = StructType([\n",
    "  StructField(\"_c0\", IntegerType(), False),\n",
    "  StructField(\"rank\", StringType(), False),\n",
    "  StructField(\"discipline\", StringType(), False),\n",
    "  StructField(\"yrs.since.phd\", IntegerType(), False),\n",
    "  StructField(\"yrs.service\", IntegerType(), False),\n",
    "  StructField(\"sex\", StringType(), False),\n",
    "  StructField(\"salary\", IntegerType(), False),\n",
    "])\n",
    "\n",
    "df= spark.read.option(\"header\", \"true\").schema(csvSchema).csv(file).cache().show(5, False)"
   ]
  },
  {
   "cell_type": "code",
   "execution_count": 0,
   "metadata": {
    "application/vnd.databricks.v1+cell": {
     "cellMetadata": {
      "byteLimit": 2048000,
      "rowLimit": 10000
     },
     "inputWidgets": {},
     "nuid": "a375e56d-85de-4e85-87c9-d8aa78e96021",
     "showTitle": false,
     "title": ""
    }
   },
   "outputs": [
    {
     "output_type": "display_data",
     "data": {
      "text/html": [
       "<style scoped>\n  .table-result-container {\n    max-height: 300px;\n    overflow: auto;\n  }\n  table, th, td {\n    border: 1px solid black;\n    border-collapse: collapse;\n  }\n  th, td {\n    padding: 5px;\n  }\n  th {\n    text-align: left;\n  }\n</style><div class='table-result-container'><table class='table-result'><thead style='background-color: white'><tr><th>_c0</th><th>rank</th><th>discipline</th><th>yrs.since.phd</th><th>yrs.service</th><th>sex</th><th>salary</th></tr></thead><tbody><tr><td>6</td><td>AssocProf</td><td>B</td><td>6</td><td>6</td><td>Male</td><td>97000</td></tr><tr><td>11</td><td>AssocProf</td><td>B</td><td>12</td><td>8</td><td>Male</td><td>119800</td></tr><tr><td>40</td><td>AssocProf</td><td>B</td><td>9</td><td>9</td><td>Male</td><td>100938</td></tr><tr><td>42</td><td>AssocProf</td><td>B</td><td>23</td><td>23</td><td>Male</td><td>93418</td></tr><tr><td>55</td><td>AssocProf</td><td>B</td><td>12</td><td>11</td><td>Male</td><td>103760</td></tr><tr><td>56</td><td>AssocProf</td><td>B</td><td>14</td><td>5</td><td>Male</td><td>83900</td></tr><tr><td>58</td><td>AssocProf</td><td>B</td><td>9</td><td>8</td><td>Male</td><td>90215</td></tr><tr><td>59</td><td>AssocProf</td><td>B</td><td>10</td><td>9</td><td>Male</td><td>100135</td></tr><tr><td>61</td><td>AssocProf</td><td>B</td><td>9</td><td>8</td><td>Male</td><td>90304</td></tr><tr><td>66</td><td>AssocProf</td><td>B</td><td>9</td><td>8</td><td>Male</td><td>100522</td></tr><tr><td>90</td><td>AssocProf</td><td>B</td><td>9</td><td>7</td><td>Male</td><td>107008</td></tr><tr><td>92</td><td>AssocProf</td><td>B</td><td>10</td><td>7</td><td>Male</td><td>105128</td></tr><tr><td>93</td><td>AssocProf</td><td>B</td><td>10</td><td>7</td><td>Male</td><td>105631</td></tr><tr><td>97</td><td>AssocProf</td><td>B</td><td>17</td><td>12</td><td>Male</td><td>95611</td></tr><tr><td>105</td><td>AssocProf</td><td>A</td><td>18</td><td>10</td><td>Male</td><td>83850</td></tr><tr><td>107</td><td>AssocProf</td><td>A</td><td>11</td><td>8</td><td>Male</td><td>82099</td></tr><tr><td>108</td><td>AssocProf</td><td>A</td><td>10</td><td>8</td><td>Male</td><td>82600</td></tr><tr><td>109</td><td>AssocProf</td><td>A</td><td>15</td><td>8</td><td>Male</td><td>81500</td></tr><tr><td>112</td><td>AssocProf</td><td>A</td><td>19</td><td>16</td><td>Male</td><td>82100</td></tr><tr><td>131</td><td>AssocProf</td><td>A</td><td>11</td><td>9</td><td>Male</td><td>83001</td></tr><tr><td>139</td><td>AssocProf</td><td>A</td><td>10</td><td>7</td><td>Male</td><td>73877</td></tr><tr><td>141</td><td>AssocProf</td><td>A</td><td>14</td><td>8</td><td>Male</td><td>100102</td></tr><tr><td>142</td><td>AssocProf</td><td>A</td><td>15</td><td>10</td><td>Male</td><td>81500</td></tr><tr><td>157</td><td>AssocProf</td><td>B</td><td>12</td><td>18</td><td>Male</td><td>113341</td></tr><tr><td>159</td><td>AssocProf</td><td>B</td><td>6</td><td>6</td><td>Male</td><td>95408</td></tr><tr><td>163</td><td>AssocProf</td><td>B</td><td>22</td><td>7</td><td>Male</td><td>98510</td></tr><tr><td>169</td><td>AssocProf</td><td>B</td><td>8</td><td>6</td><td>Male</td><td>101210</td></tr><tr><td>175</td><td>AssocProf</td><td>B</td><td>17</td><td>6</td><td>Male</td><td>105000</td></tr><tr><td>177</td><td>AssocProf</td><td>B</td><td>10</td><td>7</td><td>Male</td><td>95436</td></tr><tr><td>178</td><td>AssocProf</td><td>B</td><td>13</td><td>9</td><td>Male</td><td>100944</td></tr><tr><td>183</td><td>AssocProf</td><td>B</td><td>8</td><td>8</td><td>Male</td><td>100000</td></tr><tr><td>189</td><td>AssocProf</td><td>B</td><td>28</td><td>28</td><td>Male</td><td>106300</td></tr><tr><td>194</td><td>AssocProf</td><td>B</td><td>19</td><td>19</td><td>Male</td><td>86250</td></tr><tr><td>195</td><td>AssocProf</td><td>B</td><td>48</td><td>53</td><td>Male</td><td>90000</td></tr><tr><td>196</td><td>AssocProf</td><td>B</td><td>9</td><td>7</td><td>Male</td><td>113600</td></tr><tr><td>215</td><td>AssocProf</td><td>B</td><td>11</td><td>1</td><td>Male</td><td>118700</td></tr><tr><td>218</td><td>AssocProf</td><td>B</td><td>29</td><td>22</td><td>Male</td><td>105350</td></tr><tr><td>223</td><td>AssocProf</td><td>B</td><td>13</td><td>6</td><td>Male</td><td>107150</td></tr><tr><td>228</td><td>AssocProf</td><td>A</td><td>9</td><td>7</td><td>Male</td><td>70000</td></tr><tr><td>256</td><td>AssocProf</td><td>A</td><td>12</td><td>8</td><td>Male</td><td>83000</td></tr><tr><td>258</td><td>AssocProf</td><td>A</td><td>30</td><td>23</td><td>Male</td><td>74000</td></tr><tr><td>261</td><td>AssocProf</td><td>A</td><td>41</td><td>33</td><td>Male</td><td>88600</td></tr><tr><td>285</td><td>AssocProf</td><td>A</td><td>8</td><td>6</td><td>Male</td><td>88650</td></tr><tr><td>286</td><td>AssocProf</td><td>A</td><td>49</td><td>49</td><td>Male</td><td>81800</td></tr><tr><td>294</td><td>AssocProf</td><td>A</td><td>11</td><td>1</td><td>Male</td><td>104800</td></tr><tr><td>300</td><td>AssocProf</td><td>A</td><td>45</td><td>39</td><td>Male</td><td>70700</td></tr><tr><td>322</td><td>AssocProf</td><td>B</td><td>9</td><td>9</td><td>Male</td><td>95642</td></tr><tr><td>323</td><td>AssocProf</td><td>B</td><td>13</td><td>11</td><td>Male</td><td>126431</td></tr><tr><td>329</td><td>AssocProf</td><td>B</td><td>10</td><td>10</td><td>Male</td><td>99247</td></tr><tr><td>364</td><td>AssocProf</td><td>A</td><td>20</td><td>17</td><td>Male</td><td>81285</td></tr><tr><td>368</td><td>AssocProf</td><td>A</td><td>10</td><td>1</td><td>Male</td><td>108413</td></tr><tr><td>371</td><td>AssocProf</td><td>A</td><td>13</td><td>8</td><td>Male</td><td>78182</td></tr><tr><td>380</td><td>AssocProf</td><td>A</td><td>11</td><td>8</td><td>Male</td><td>104121</td></tr><tr><td>383</td><td>AssocProf</td><td>A</td><td>8</td><td>5</td><td>Male</td><td>86895</td></tr></tbody></table></div>"
      ]
     },
     "metadata": {
      "application/vnd.databricks.v1+output": {
       "addedWidgets": {},
       "aggData": [],
       "aggError": "",
       "aggOverflow": false,
       "aggSchema": [],
       "aggSeriesLimitReached": false,
       "aggType": "",
       "arguments": {},
       "columnCustomDisplayInfos": {},
       "data": [
        [
         6,
         "AssocProf",
         "B",
         6,
         6,
         "Male",
         97000
        ],
        [
         11,
         "AssocProf",
         "B",
         12,
         8,
         "Male",
         119800
        ],
        [
         40,
         "AssocProf",
         "B",
         9,
         9,
         "Male",
         100938
        ],
        [
         42,
         "AssocProf",
         "B",
         23,
         23,
         "Male",
         93418
        ],
        [
         55,
         "AssocProf",
         "B",
         12,
         11,
         "Male",
         103760
        ],
        [
         56,
         "AssocProf",
         "B",
         14,
         5,
         "Male",
         83900
        ],
        [
         58,
         "AssocProf",
         "B",
         9,
         8,
         "Male",
         90215
        ],
        [
         59,
         "AssocProf",
         "B",
         10,
         9,
         "Male",
         100135
        ],
        [
         61,
         "AssocProf",
         "B",
         9,
         8,
         "Male",
         90304
        ],
        [
         66,
         "AssocProf",
         "B",
         9,
         8,
         "Male",
         100522
        ],
        [
         90,
         "AssocProf",
         "B",
         9,
         7,
         "Male",
         107008
        ],
        [
         92,
         "AssocProf",
         "B",
         10,
         7,
         "Male",
         105128
        ],
        [
         93,
         "AssocProf",
         "B",
         10,
         7,
         "Male",
         105631
        ],
        [
         97,
         "AssocProf",
         "B",
         17,
         12,
         "Male",
         95611
        ],
        [
         105,
         "AssocProf",
         "A",
         18,
         10,
         "Male",
         83850
        ],
        [
         107,
         "AssocProf",
         "A",
         11,
         8,
         "Male",
         82099
        ],
        [
         108,
         "AssocProf",
         "A",
         10,
         8,
         "Male",
         82600
        ],
        [
         109,
         "AssocProf",
         "A",
         15,
         8,
         "Male",
         81500
        ],
        [
         112,
         "AssocProf",
         "A",
         19,
         16,
         "Male",
         82100
        ],
        [
         131,
         "AssocProf",
         "A",
         11,
         9,
         "Male",
         83001
        ],
        [
         139,
         "AssocProf",
         "A",
         10,
         7,
         "Male",
         73877
        ],
        [
         141,
         "AssocProf",
         "A",
         14,
         8,
         "Male",
         100102
        ],
        [
         142,
         "AssocProf",
         "A",
         15,
         10,
         "Male",
         81500
        ],
        [
         157,
         "AssocProf",
         "B",
         12,
         18,
         "Male",
         113341
        ],
        [
         159,
         "AssocProf",
         "B",
         6,
         6,
         "Male",
         95408
        ],
        [
         163,
         "AssocProf",
         "B",
         22,
         7,
         "Male",
         98510
        ],
        [
         169,
         "AssocProf",
         "B",
         8,
         6,
         "Male",
         101210
        ],
        [
         175,
         "AssocProf",
         "B",
         17,
         6,
         "Male",
         105000
        ],
        [
         177,
         "AssocProf",
         "B",
         10,
         7,
         "Male",
         95436
        ],
        [
         178,
         "AssocProf",
         "B",
         13,
         9,
         "Male",
         100944
        ],
        [
         183,
         "AssocProf",
         "B",
         8,
         8,
         "Male",
         100000
        ],
        [
         189,
         "AssocProf",
         "B",
         28,
         28,
         "Male",
         106300
        ],
        [
         194,
         "AssocProf",
         "B",
         19,
         19,
         "Male",
         86250
        ],
        [
         195,
         "AssocProf",
         "B",
         48,
         53,
         "Male",
         90000
        ],
        [
         196,
         "AssocProf",
         "B",
         9,
         7,
         "Male",
         113600
        ],
        [
         215,
         "AssocProf",
         "B",
         11,
         1,
         "Male",
         118700
        ],
        [
         218,
         "AssocProf",
         "B",
         29,
         22,
         "Male",
         105350
        ],
        [
         223,
         "AssocProf",
         "B",
         13,
         6,
         "Male",
         107150
        ],
        [
         228,
         "AssocProf",
         "A",
         9,
         7,
         "Male",
         70000
        ],
        [
         256,
         "AssocProf",
         "A",
         12,
         8,
         "Male",
         83000
        ],
        [
         258,
         "AssocProf",
         "A",
         30,
         23,
         "Male",
         74000
        ],
        [
         261,
         "AssocProf",
         "A",
         41,
         33,
         "Male",
         88600
        ],
        [
         285,
         "AssocProf",
         "A",
         8,
         6,
         "Male",
         88650
        ],
        [
         286,
         "AssocProf",
         "A",
         49,
         49,
         "Male",
         81800
        ],
        [
         294,
         "AssocProf",
         "A",
         11,
         1,
         "Male",
         104800
        ],
        [
         300,
         "AssocProf",
         "A",
         45,
         39,
         "Male",
         70700
        ],
        [
         322,
         "AssocProf",
         "B",
         9,
         9,
         "Male",
         95642
        ],
        [
         323,
         "AssocProf",
         "B",
         13,
         11,
         "Male",
         126431
        ],
        [
         329,
         "AssocProf",
         "B",
         10,
         10,
         "Male",
         99247
        ],
        [
         364,
         "AssocProf",
         "A",
         20,
         17,
         "Male",
         81285
        ],
        [
         368,
         "AssocProf",
         "A",
         10,
         1,
         "Male",
         108413
        ],
        [
         371,
         "AssocProf",
         "A",
         13,
         8,
         "Male",
         78182
        ],
        [
         380,
         "AssocProf",
         "A",
         11,
         8,
         "Male",
         104121
        ],
        [
         383,
         "AssocProf",
         "A",
         8,
         5,
         "Male",
         86895
        ]
       ],
       "datasetInfos": [],
       "dbfsResultPath": null,
       "isJsonSchema": true,
       "metadata": {},
       "overflow": false,
       "plotOptions": {
        "customPlotOptions": {},
        "displayType": "table",
        "pivotAggregation": null,
        "pivotColumns": null,
        "xColumns": null,
        "yColumns": null
       },
       "removedWidgets": [],
       "schema": [
        {
         "metadata": "{}",
         "name": "_c0",
         "type": "\"long\""
        },
        {
         "metadata": "{}",
         "name": "rank",
         "type": "\"string\""
        },
        {
         "metadata": "{}",
         "name": "discipline",
         "type": "\"string\""
        },
        {
         "metadata": "{}",
         "name": "yrs.since.phd",
         "type": "\"long\""
        },
        {
         "metadata": "{}",
         "name": "yrs.service",
         "type": "\"long\""
        },
        {
         "metadata": "{}",
         "name": "sex",
         "type": "\"string\""
        },
        {
         "metadata": "{}",
         "name": "salary",
         "type": "\"long\""
        }
       ],
       "type": "table"
      }
     },
     "output_type": "display_data"
    },
    {
     "output_type": "stream",
     "name": "stdout",
     "output_type": "stream",
     "text": [
      "Total AssocProfs: 54\nTotal AssocProf Salary: 5,122,964\n"
     ]
    }
   ],
   "source": [
    "AssocProfs = (spark        # Our SparkSession & Entry Point\n",
    "  .read                     # Our DataFrameReader\n",
    "  .option(\"header\", \"true\")\n",
    "  .schema(csvSchema)\n",
    "  .csv(file)                # Returns an instance of DataFrame\n",
    "  .cache()                  # cache the data\n",
    "  .where( \"sex=='Male' and rank like 'Assoc%'\")\n",
    ")               \n",
    "\n",
    "AssocProfs = (AssocProfs\n",
    "  .collect()           # The action returning all records in the DataFrame\n",
    ")\n",
    "\n",
    "totalAssocProfs= 0\n",
    "\n",
    "for AssocProf in AssocProfs:\n",
    "  totalAssocProfs +=  AssocProf['salary']\n",
    "  \n",
    "display(AssocProfs)\n",
    "  \n",
    "print(\"Total AssocProfs: {0:,}\".format( len(AssocProfs) ))\n",
    "print(\"Total AssocProf Salary: {0:,}\".format( totalAssocProfs ))"
   ]
  },
  {
   "cell_type": "code",
   "execution_count": 0,
   "metadata": {
    "application/vnd.databricks.v1+cell": {
     "cellMetadata": {
      "byteLimit": 2048000,
      "rowLimit": 10000
     },
     "inputWidgets": {},
     "nuid": "c8f963ce-cf5b-4057-8579-b24e3842e12f",
     "showTitle": false,
     "title": ""
    }
   },
   "outputs": [
    {
     "output_type": "display_data",
     "data": {
      "text/html": [
       "<style scoped>\n  .table-result-container {\n    max-height: 300px;\n    overflow: auto;\n  }\n  table, th, td {\n    border: 1px solid black;\n    border-collapse: collapse;\n  }\n  th, td {\n    padding: 5px;\n  }\n  th {\n    text-align: left;\n  }\n</style><div class='table-result-container'><table class='table-result'><thead style='background-color: white'><tr><th>_c0</th><th>rank</th><th>discipline</th><th>yrs.since.phd</th><th>yrs.service</th><th>sex</th><th>salary</th></tr></thead><tbody><tr><td>6</td><td>AssocProf</td><td>B</td><td>6</td><td>6</td><td>Male</td><td>97000</td></tr><tr><td>11</td><td>AssocProf</td><td>B</td><td>12</td><td>8</td><td>Male</td><td>119800</td></tr><tr><td>25</td><td>AssocProf</td><td>A</td><td>13</td><td>8</td><td>Female</td><td>74830</td></tr><tr><td>40</td><td>AssocProf</td><td>B</td><td>9</td><td>9</td><td>Male</td><td>100938</td></tr><tr><td>42</td><td>AssocProf</td><td>B</td><td>23</td><td>23</td><td>Male</td><td>93418</td></tr><tr><td>55</td><td>AssocProf</td><td>B</td><td>12</td><td>11</td><td>Male</td><td>103760</td></tr><tr><td>56</td><td>AssocProf</td><td>B</td><td>14</td><td>5</td><td>Male</td><td>83900</td></tr><tr><td>58</td><td>AssocProf</td><td>B</td><td>9</td><td>8</td><td>Male</td><td>90215</td></tr><tr><td>59</td><td>AssocProf</td><td>B</td><td>10</td><td>9</td><td>Male</td><td>100135</td></tr><tr><td>61</td><td>AssocProf</td><td>B</td><td>9</td><td>8</td><td>Male</td><td>90304</td></tr><tr><td>64</td><td>AssocProf</td><td>B</td><td>11</td><td>11</td><td>Female</td><td>103613</td></tr><tr><td>66</td><td>AssocProf</td><td>B</td><td>9</td><td>8</td><td>Male</td><td>100522</td></tr><tr><td>90</td><td>AssocProf</td><td>B</td><td>9</td><td>7</td><td>Male</td><td>107008</td></tr><tr><td>92</td><td>AssocProf</td><td>B</td><td>10</td><td>7</td><td>Male</td><td>105128</td></tr><tr><td>93</td><td>AssocProf</td><td>B</td><td>10</td><td>7</td><td>Male</td><td>105631</td></tr><tr><td>97</td><td>AssocProf</td><td>B</td><td>17</td><td>12</td><td>Male</td><td>95611</td></tr><tr><td>105</td><td>AssocProf</td><td>A</td><td>18</td><td>10</td><td>Male</td><td>83850</td></tr><tr><td>107</td><td>AssocProf</td><td>A</td><td>11</td><td>8</td><td>Male</td><td>82099</td></tr><tr><td>108</td><td>AssocProf</td><td>A</td><td>10</td><td>8</td><td>Male</td><td>82600</td></tr><tr><td>109</td><td>AssocProf</td><td>A</td><td>15</td><td>8</td><td>Male</td><td>81500</td></tr><tr><td>112</td><td>AssocProf</td><td>A</td><td>19</td><td>16</td><td>Male</td><td>82100</td></tr><tr><td>124</td><td>AssocProf</td><td>A</td><td>25</td><td>22</td><td>Female</td><td>62884</td></tr><tr><td>131</td><td>AssocProf</td><td>A</td><td>11</td><td>9</td><td>Male</td><td>83001</td></tr><tr><td>133</td><td>AssocProf</td><td>A</td><td>10</td><td>8</td><td>Female</td><td>77500</td></tr><tr><td>139</td><td>AssocProf</td><td>A</td><td>10</td><td>7</td><td>Male</td><td>73877</td></tr><tr><td>141</td><td>AssocProf</td><td>A</td><td>14</td><td>8</td><td>Male</td><td>100102</td></tr><tr><td>142</td><td>AssocProf</td><td>A</td><td>15</td><td>10</td><td>Male</td><td>81500</td></tr><tr><td>154</td><td>AssocProf</td><td>B</td><td>12</td><td>10</td><td>Female</td><td>103994</td></tr><tr><td>157</td><td>AssocProf</td><td>B</td><td>12</td><td>18</td><td>Male</td><td>113341</td></tr><tr><td>159</td><td>AssocProf</td><td>B</td><td>6</td><td>6</td><td>Male</td><td>95408</td></tr><tr><td>163</td><td>AssocProf</td><td>B</td><td>22</td><td>7</td><td>Male</td><td>98510</td></tr><tr><td>169</td><td>AssocProf</td><td>B</td><td>8</td><td>6</td><td>Male</td><td>101210</td></tr><tr><td>175</td><td>AssocProf</td><td>B</td><td>17</td><td>6</td><td>Male</td><td>105000</td></tr><tr><td>177</td><td>AssocProf</td><td>B</td><td>10</td><td>7</td><td>Male</td><td>95436</td></tr><tr><td>178</td><td>AssocProf</td><td>B</td><td>13</td><td>9</td><td>Male</td><td>100944</td></tr><tr><td>183</td><td>AssocProf</td><td>B</td><td>8</td><td>8</td><td>Male</td><td>100000</td></tr><tr><td>187</td><td>AssocProf</td><td>B</td><td>13</td><td>10</td><td>Female</td><td>103750</td></tr><tr><td>189</td><td>AssocProf</td><td>B</td><td>28</td><td>28</td><td>Male</td><td>106300</td></tr><tr><td>194</td><td>AssocProf</td><td>B</td><td>19</td><td>19</td><td>Male</td><td>86250</td></tr><tr><td>195</td><td>AssocProf</td><td>B</td><td>48</td><td>53</td><td>Male</td><td>90000</td></tr><tr><td>196</td><td>AssocProf</td><td>B</td><td>9</td><td>7</td><td>Male</td><td>113600</td></tr><tr><td>215</td><td>AssocProf</td><td>B</td><td>11</td><td>1</td><td>Male</td><td>118700</td></tr><tr><td>218</td><td>AssocProf</td><td>B</td><td>29</td><td>22</td><td>Male</td><td>105350</td></tr><tr><td>219</td><td>AssocProf</td><td>B</td><td>14</td><td>7</td><td>Female</td><td>109650</td></tr><tr><td>223</td><td>AssocProf</td><td>B</td><td>13</td><td>6</td><td>Male</td><td>107150</td></tr><tr><td>228</td><td>AssocProf</td><td>A</td><td>9</td><td>7</td><td>Male</td><td>70000</td></tr><tr><td>232</td><td>AssocProf</td><td>A</td><td>26</td><td>24</td><td>Female</td><td>73300</td></tr><tr><td>256</td><td>AssocProf</td><td>A</td><td>12</td><td>8</td><td>Male</td><td>83000</td></tr><tr><td>258</td><td>AssocProf</td><td>A</td><td>30</td><td>23</td><td>Male</td><td>74000</td></tr><tr><td>261</td><td>AssocProf</td><td>A</td><td>41</td><td>33</td><td>Male</td><td>88600</td></tr><tr><td>285</td><td>AssocProf</td><td>A</td><td>8</td><td>6</td><td>Male</td><td>88650</td></tr><tr><td>286</td><td>AssocProf</td><td>A</td><td>49</td><td>49</td><td>Male</td><td>81800</td></tr><tr><td>294</td><td>AssocProf</td><td>A</td><td>11</td><td>1</td><td>Male</td><td>104800</td></tr><tr><td>300</td><td>AssocProf</td><td>A</td><td>45</td><td>39</td><td>Male</td><td>70700</td></tr><tr><td>317</td><td>AssocProf</td><td>B</td><td>12</td><td>9</td><td>Female</td><td>71065</td></tr><tr><td>322</td><td>AssocProf</td><td>B</td><td>9</td><td>9</td><td>Male</td><td>95642</td></tr><tr><td>323</td><td>AssocProf</td><td>B</td><td>13</td><td>11</td><td>Male</td><td>126431</td></tr><tr><td>329</td><td>AssocProf</td><td>B</td><td>10</td><td>10</td><td>Male</td><td>99247</td></tr><tr><td>335</td><td>AssocProf</td><td>B</td><td>19</td><td>6</td><td>Female</td><td>104542</td></tr><tr><td>364</td><td>AssocProf</td><td>A</td><td>20</td><td>17</td><td>Male</td><td>81285</td></tr><tr><td>368</td><td>AssocProf</td><td>A</td><td>10</td><td>1</td><td>Male</td><td>108413</td></tr><tr><td>371</td><td>AssocProf</td><td>A</td><td>13</td><td>8</td><td>Male</td><td>78182</td></tr><tr><td>380</td><td>AssocProf</td><td>A</td><td>11</td><td>8</td><td>Male</td><td>104121</td></tr><tr><td>383</td><td>AssocProf</td><td>A</td><td>8</td><td>5</td><td>Male</td><td>86895</td></tr></tbody></table></div>"
      ]
     },
     "metadata": {
      "application/vnd.databricks.v1+output": {
       "addedWidgets": {},
       "aggData": [],
       "aggError": "",
       "aggOverflow": false,
       "aggSchema": [],
       "aggSeriesLimitReached": false,
       "aggType": "",
       "arguments": {},
       "columnCustomDisplayInfos": {},
       "data": [
        [
         6,
         "AssocProf",
         "B",
         6,
         6,
         "Male",
         97000
        ],
        [
         11,
         "AssocProf",
         "B",
         12,
         8,
         "Male",
         119800
        ],
        [
         25,
         "AssocProf",
         "A",
         13,
         8,
         "Female",
         74830
        ],
        [
         40,
         "AssocProf",
         "B",
         9,
         9,
         "Male",
         100938
        ],
        [
         42,
         "AssocProf",
         "B",
         23,
         23,
         "Male",
         93418
        ],
        [
         55,
         "AssocProf",
         "B",
         12,
         11,
         "Male",
         103760
        ],
        [
         56,
         "AssocProf",
         "B",
         14,
         5,
         "Male",
         83900
        ],
        [
         58,
         "AssocProf",
         "B",
         9,
         8,
         "Male",
         90215
        ],
        [
         59,
         "AssocProf",
         "B",
         10,
         9,
         "Male",
         100135
        ],
        [
         61,
         "AssocProf",
         "B",
         9,
         8,
         "Male",
         90304
        ],
        [
         64,
         "AssocProf",
         "B",
         11,
         11,
         "Female",
         103613
        ],
        [
         66,
         "AssocProf",
         "B",
         9,
         8,
         "Male",
         100522
        ],
        [
         90,
         "AssocProf",
         "B",
         9,
         7,
         "Male",
         107008
        ],
        [
         92,
         "AssocProf",
         "B",
         10,
         7,
         "Male",
         105128
        ],
        [
         93,
         "AssocProf",
         "B",
         10,
         7,
         "Male",
         105631
        ],
        [
         97,
         "AssocProf",
         "B",
         17,
         12,
         "Male",
         95611
        ],
        [
         105,
         "AssocProf",
         "A",
         18,
         10,
         "Male",
         83850
        ],
        [
         107,
         "AssocProf",
         "A",
         11,
         8,
         "Male",
         82099
        ],
        [
         108,
         "AssocProf",
         "A",
         10,
         8,
         "Male",
         82600
        ],
        [
         109,
         "AssocProf",
         "A",
         15,
         8,
         "Male",
         81500
        ],
        [
         112,
         "AssocProf",
         "A",
         19,
         16,
         "Male",
         82100
        ],
        [
         124,
         "AssocProf",
         "A",
         25,
         22,
         "Female",
         62884
        ],
        [
         131,
         "AssocProf",
         "A",
         11,
         9,
         "Male",
         83001
        ],
        [
         133,
         "AssocProf",
         "A",
         10,
         8,
         "Female",
         77500
        ],
        [
         139,
         "AssocProf",
         "A",
         10,
         7,
         "Male",
         73877
        ],
        [
         141,
         "AssocProf",
         "A",
         14,
         8,
         "Male",
         100102
        ],
        [
         142,
         "AssocProf",
         "A",
         15,
         10,
         "Male",
         81500
        ],
        [
         154,
         "AssocProf",
         "B",
         12,
         10,
         "Female",
         103994
        ],
        [
         157,
         "AssocProf",
         "B",
         12,
         18,
         "Male",
         113341
        ],
        [
         159,
         "AssocProf",
         "B",
         6,
         6,
         "Male",
         95408
        ],
        [
         163,
         "AssocProf",
         "B",
         22,
         7,
         "Male",
         98510
        ],
        [
         169,
         "AssocProf",
         "B",
         8,
         6,
         "Male",
         101210
        ],
        [
         175,
         "AssocProf",
         "B",
         17,
         6,
         "Male",
         105000
        ],
        [
         177,
         "AssocProf",
         "B",
         10,
         7,
         "Male",
         95436
        ],
        [
         178,
         "AssocProf",
         "B",
         13,
         9,
         "Male",
         100944
        ],
        [
         183,
         "AssocProf",
         "B",
         8,
         8,
         "Male",
         100000
        ],
        [
         187,
         "AssocProf",
         "B",
         13,
         10,
         "Female",
         103750
        ],
        [
         189,
         "AssocProf",
         "B",
         28,
         28,
         "Male",
         106300
        ],
        [
         194,
         "AssocProf",
         "B",
         19,
         19,
         "Male",
         86250
        ],
        [
         195,
         "AssocProf",
         "B",
         48,
         53,
         "Male",
         90000
        ],
        [
         196,
         "AssocProf",
         "B",
         9,
         7,
         "Male",
         113600
        ],
        [
         215,
         "AssocProf",
         "B",
         11,
         1,
         "Male",
         118700
        ],
        [
         218,
         "AssocProf",
         "B",
         29,
         22,
         "Male",
         105350
        ],
        [
         219,
         "AssocProf",
         "B",
         14,
         7,
         "Female",
         109650
        ],
        [
         223,
         "AssocProf",
         "B",
         13,
         6,
         "Male",
         107150
        ],
        [
         228,
         "AssocProf",
         "A",
         9,
         7,
         "Male",
         70000
        ],
        [
         232,
         "AssocProf",
         "A",
         26,
         24,
         "Female",
         73300
        ],
        [
         256,
         "AssocProf",
         "A",
         12,
         8,
         "Male",
         83000
        ],
        [
         258,
         "AssocProf",
         "A",
         30,
         23,
         "Male",
         74000
        ],
        [
         261,
         "AssocProf",
         "A",
         41,
         33,
         "Male",
         88600
        ],
        [
         285,
         "AssocProf",
         "A",
         8,
         6,
         "Male",
         88650
        ],
        [
         286,
         "AssocProf",
         "A",
         49,
         49,
         "Male",
         81800
        ],
        [
         294,
         "AssocProf",
         "A",
         11,
         1,
         "Male",
         104800
        ],
        [
         300,
         "AssocProf",
         "A",
         45,
         39,
         "Male",
         70700
        ],
        [
         317,
         "AssocProf",
         "B",
         12,
         9,
         "Female",
         71065
        ],
        [
         322,
         "AssocProf",
         "B",
         9,
         9,
         "Male",
         95642
        ],
        [
         323,
         "AssocProf",
         "B",
         13,
         11,
         "Male",
         126431
        ],
        [
         329,
         "AssocProf",
         "B",
         10,
         10,
         "Male",
         99247
        ],
        [
         335,
         "AssocProf",
         "B",
         19,
         6,
         "Female",
         104542
        ],
        [
         364,
         "AssocProf",
         "A",
         20,
         17,
         "Male",
         81285
        ],
        [
         368,
         "AssocProf",
         "A",
         10,
         1,
         "Male",
         108413
        ],
        [
         371,
         "AssocProf",
         "A",
         13,
         8,
         "Male",
         78182
        ],
        [
         380,
         "AssocProf",
         "A",
         11,
         8,
         "Male",
         104121
        ],
        [
         383,
         "AssocProf",
         "A",
         8,
         5,
         "Male",
         86895
        ]
       ],
       "datasetInfos": [],
       "dbfsResultPath": null,
       "isJsonSchema": true,
       "metadata": {},
       "overflow": false,
       "plotOptions": {
        "customPlotOptions": {},
        "displayType": "table",
        "pivotAggregation": null,
        "pivotColumns": null,
        "xColumns": null,
        "yColumns": null
       },
       "removedWidgets": [],
       "schema": [
        {
         "metadata": "{}",
         "name": "_c0",
         "type": "\"long\""
        },
        {
         "metadata": "{}",
         "name": "rank",
         "type": "\"string\""
        },
        {
         "metadata": "{}",
         "name": "discipline",
         "type": "\"string\""
        },
        {
         "metadata": "{}",
         "name": "yrs.since.phd",
         "type": "\"long\""
        },
        {
         "metadata": "{}",
         "name": "yrs.service",
         "type": "\"long\""
        },
        {
         "metadata": "{}",
         "name": "sex",
         "type": "\"string\""
        },
        {
         "metadata": "{}",
         "name": "salary",
         "type": "\"long\""
        }
       ],
       "type": "table"
      }
     },
     "output_type": "display_data"
    },
    {
     "output_type": "stream",
     "name": "stdout",
     "output_type": "stream",
     "text": [
      "Total AssocProfs: 64\nTotal AssocProf Salary: 6,008,092\n"
     ]
    }
   ],
   "source": [
    "AssocProfs = (spark        # Our SparkSession & Entry Point\n",
    "  .read                     # Our DataFrameReader\n",
    "  .option(\"header\", \"true\")\n",
    "  .schema(csvSchema)\n",
    "  .csv(file)                # Returns an instance of DataFrame\n",
    "  .cache()                  # cache the data\n",
    "  .where( \"rank like 'Assoc%'\")\n",
    ")               \n",
    "\n",
    "AssocProfs = (AssocProfs\n",
    "  .collect()           # The action returning all records in the DataFrame\n",
    ")\n",
    "\n",
    "totalAssocProfs= 0\n",
    "\n",
    "for AssocProf in AssocProfs:\n",
    "  totalAssocProfs +=  AssocProf['salary']\n",
    "  \n",
    "display(AssocProfs)\n",
    "  \n",
    "print(\"Total AssocProfs: {0:,}\".format( len(AssocProfs) ))\n",
    "print(\"Total AssocProf Salary: {0:,}\".format( totalAssocProfs ))"
   ]
  },
  {
   "cell_type": "code",
   "execution_count": 0,
   "metadata": {
    "application/vnd.databricks.v1+cell": {
     "cellMetadata": {
      "byteLimit": 2048000,
      "rowLimit": 10000
     },
     "inputWidgets": {},
     "nuid": "8b4292a4-61a8-4f8e-aec4-a4af03871be5",
     "showTitle": false,
     "title": ""
    }
   },
   "outputs": [
    {
     "output_type": "stream",
     "name": "stdout",
     "output_type": "stream",
     "text": [
      "Total AssocProfs: 64\nTotal AssocProf Salary: 6,008,092\n"
     ]
    }
   ],
   "source": [
    "# Alternative\n",
    "AssocProfs = (spark        # Our SparkSession & Entry Point\n",
    "  .read                     # Our DataFrameReader\n",
    "  .option(\"header\", \"true\")\n",
    "  .schema(csvSchema)\n",
    "  .csv(file)                # Returns an instance of DataFrame\n",
    "  .cache()                  # cache the data\n",
    "  .where( \"rank like 'Assoc%'\" )\n",
    ")               \n",
    "\n",
    "from pyspark.sql.functions import col\n",
    "totalAssocProfs= AssocProfs.agg({\"salary\": \"sum\"}).collect()[0][0]\n",
    "  \n",
    "print(\"Total AssocProfs: {0:,}\".format( AssocProfs.count()))\n",
    "print(\"Total AssocProf Salary: {0:,}\".format( totalAssocProfs ))"
   ]
  },
  {
   "cell_type": "code",
   "execution_count": 0,
   "metadata": {
    "application/vnd.databricks.v1+cell": {
     "cellMetadata": {
      "byteLimit": 2048000,
      "rowLimit": 10000
     },
     "inputWidgets": {},
     "nuid": "48df67d6-841b-4550-a80d-4370d85680f1",
     "showTitle": false,
     "title": ""
    }
   },
   "outputs": [
    {
     "output_type": "stream",
     "name": "stdout",
     "output_type": "stream",
     "text": [
      "+----------------+----------------------+\n|Total_AssocProfs|Total_AssocProf_Salary|\n+----------------+----------------------+\n|              64|               6008092|\n+----------------+----------------------+\n\n"
     ]
    }
   ],
   "source": [
    "# Alternative\n",
    "AssocProfs = (spark        # Our SparkSession & Entry Point\n",
    "  .read                     # Our DataFrameReader\n",
    "  .option(\"header\", \"true\")\n",
    "  .schema(csvSchema)\n",
    "  .csv(file)                # Returns an instance of DataFrame\n",
    "  .cache()                  # cache the data\n",
    "  .where( \"rank like 'Assoc%'\" )\n",
    ")    \n",
    "\n",
    "# Register the DataFrame as a temporary view\n",
    "AssocProfs.createOrReplaceTempView(\"data\")\n",
    "\n",
    "# Execute a SQL query to select and aggregate the required data\n",
    "result = spark.sql(\"SELECT Count(rank) as Total_AssocProfs, SUM(salary) as Total_AssocProf_Salary FROM data WHERE rank = 'AssocProf'\").show()"
   ]
  }
 ],
 "metadata": {
  "application/vnd.databricks.v1+notebook": {
   "dashboards": [],
   "language": "python",
   "notebookMetadata": {
    "mostRecentlyExecutedCommandWithImplicitDF": {
     "commandId": 2688545124446146,
     "dataframes": [
      "_sqldf"
     ]
    },
    "pythonIndentUnit": 2
   },
   "notebookName": "3.Exercise-Washingtons-and-Marthas",
   "notebookOrigID": 3017912050262382,
   "widgets": {}
  }
 },
 "nbformat": 4,
 "nbformat_minor": 0
}
