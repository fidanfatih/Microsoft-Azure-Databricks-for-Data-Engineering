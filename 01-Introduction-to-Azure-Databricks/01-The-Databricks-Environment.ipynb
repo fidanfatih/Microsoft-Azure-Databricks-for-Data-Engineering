{
 "cells": [
  {
   "cell_type": "markdown",
   "metadata": {
    "application/vnd.databricks.v1+cell": {
     "cellMetadata": {},
     "inputWidgets": {},
     "nuid": "aa7f8512-636a-4a4a-8ebc-c76904bc47e6",
     "showTitle": false,
     "title": ""
    }
   },
   "source": [
    "# Work with Notebooks\n",
    "\n",
    "**Technical Accomplishments:**\n",
    "- Set the stage for learning on the Databricks platform\n",
    "- Demonstrate how to develop & execute code within a notebook\n",
    "- Introduce the Databricks File System (DBFS)\n",
    "- Introduce `dbutils`\n",
    "- Review the various \"Magic Commands\"\n",
    "- Review various built-in commands that facilitate working with the notebooks"
   ]
  },
  {
   "cell_type": "markdown",
   "metadata": {
    "application/vnd.databricks.v1+cell": {
     "cellMetadata": {},
     "inputWidgets": {},
     "nuid": "0ec86da3-bad8-4167-9224-dac71093bd77",
     "showTitle": false,
     "title": ""
    }
   },
   "source": [
    "### Feeling Lost?\n",
    "The [Databricks Unified Support Portal](https://help.databricks.com/s/) is a great place to search forums and documentation for Databricks and Spark.\n",
    "\n",
    "Databricks also offers [multiple tiers for dedicated support](https://databricks.com/support)."
   ]
  },
  {
   "cell_type": "markdown",
   "metadata": {
    "application/vnd.databricks.v1+cell": {
     "cellMetadata": {},
     "inputWidgets": {},
     "nuid": "1e2d02a1-ef75-4529-83c4-11eab448b18b",
     "showTitle": false,
     "title": ""
    }
   },
   "source": [
    "-sandbox\n",
    "##![Spark Logo Tiny](https://files.training.databricks.com/images/wiki-book/general/logo_spark_tiny.png) Scala, Python, R, SQL\n",
    "\n",
    "* Each notebook is tied to a specific language: **Scala**, **Python**, **SQL** or **R**\n",
    "* Run the cell below using one of the following options:\n",
    "  * **CTRL+ENTER** or **CMD+RETURN**\n",
    "  * **SHIFT+ENTER** or **SHIFT+RETURN** to run the cell and move to the next one\n",
    "  * Using **Run Cell**, **Run All Above** or **Run All Below** as seen here<br/><img style=\"box-shadow: 5px 5px 5px 0px rgba(0,0,0,0.25); border: 1px solid rgba(0,0,0,0.25);\" src=\"https://files.training.databricks.com/images/notebook-cell-run-cmd.png\"/>\n",
    "\n",
    "Feel free to tweak the code below if you like:"
   ]
  },
  {
   "cell_type": "code",
   "execution_count": 0,
   "metadata": {
    "application/vnd.databricks.v1+cell": {
     "cellMetadata": {
      "byteLimit": 2048000,
      "rowLimit": 10000
     },
     "inputWidgets": {},
     "nuid": "2306a009-75af-43e8-a1aa-4772aea1dbfc",
     "showTitle": false,
     "title": ""
    }
   },
   "outputs": [
    {
     "output_type": "display_data",
     "data": {
      "text/html": [
       "<style scoped>\n  .ansiout {\n    display: block;\n    unicode-bidi: embed;\n    white-space: pre-wrap;\n    word-wrap: break-word;\n    word-break: break-all;\n    font-family: \"Source Code Pro\", \"Menlo\", monospace;;\n    font-size: 13px;\n    color: #555;\n    margin-left: 4px;\n    line-height: 19px;\n  }\n</style>\n<div class=\"ansiout\">I&#39;m running Python!\n</div>"
      ]
     },
     "metadata": {
      "application/vnd.databricks.v1+output": {
       "addedWidgets": {},
       "arguments": {},
       "data": "<div class=\"ansiout\">I&#39;m running Python!\n</div>",
       "datasetInfos": [],
       "metadata": {},
       "removedWidgets": [],
       "type": "html"
      }
     },
     "output_type": "display_data"
    }
   ],
   "source": [
    "print(\"I'm running Python!\")"
   ]
  },
  {
   "cell_type": "markdown",
   "metadata": {
    "application/vnd.databricks.v1+cell": {
     "cellMetadata": {},
     "inputWidgets": {},
     "nuid": "40cf0971-b313-47ec-9d3c-bee294613c5b",
     "showTitle": false,
     "title": ""
    }
   },
   "source": [
    "##![Spark Logo Tiny](https://files.training.databricks.com/images/wiki-book/general/logo_spark_tiny.png) Magic Commands\n",
    "* Magic Commands are specific to the Databricks notebooks\n",
    "* They are very similar to Magic Commands found in comparable notebook products\n",
    "* These are built-in commands that do not apply to the notebook's default language\n",
    "* A single percent (%) symbol at the start of a cell identifies a Magic Commands"
   ]
  },
  {
   "cell_type": "markdown",
   "metadata": {
    "application/vnd.databricks.v1+cell": {
     "cellMetadata": {},
     "inputWidgets": {},
     "nuid": "53c70d31-c27e-471a-9dc2-2d70dba5e1be",
     "showTitle": false,
     "title": ""
    }
   },
   "source": [
    "### Magic Command: &percnt;sh\n",
    "For example, **&percnt;sh** allows us to execute shell commands on the driver"
   ]
  },
  {
   "cell_type": "code",
   "execution_count": 0,
   "metadata": {
    "application/vnd.databricks.v1+cell": {
     "cellMetadata": {
      "byteLimit": 2048000,
      "rowLimit": 10000
     },
     "inputWidgets": {},
     "nuid": "0ff66711-9ea7-4c4d-8fd7-c2b543c8fff5",
     "showTitle": false,
     "title": ""
    }
   },
   "outputs": [
    {
     "output_type": "display_data",
     "data": {
      "text/html": [
       "<style scoped>\n  .ansiout {\n    display: block;\n    unicode-bidi: embed;\n    white-space: pre-wrap;\n    word-wrap: break-word;\n    word-break: break-all;\n    font-family: \"Source Code Pro\", \"Menlo\", monospace;;\n    font-size: 13px;\n    color: #555;\n    margin-left: 4px;\n    line-height: 19px;\n  }\n</style>\n<div class=\"ansiout\">  PID TTY          TIME CMD\n    1 ?        00:00:08 systemd\n   37 ?        00:00:00 systemd-journal\n   52 ?        00:00:00 networkd-dispat\n   54 ?        00:00:00 systemd-logind\n   66 ?        00:00:00 sshd\n   68 ?        00:00:00 unattended-upgr\n   78 ?        00:00:00 monit\n  152 ?        00:00:00 goofys-dbr\n  287 ?        00:01:52 java\n  365 ?        00:00:00 apache2\n  395 ?        00:00:00 cron\n  427 ?        00:00:00 bash\n  478 ?        00:03:01 java\n  646 ?        00:00:00 ttyd\n  761 ?        00:00:00 bash\n  767 ?        00:00:00 R\n  784 ?        00:00:00 R\n  886 ?        00:00:05 python\n  889 ?        00:00:03 python\n 1246 ?        00:00:00 cat\n 1677 ?        00:00:00 check_dbfs_fuse &lt;defunct&gt;\n 1690 ?        00:00:00 ps\n</div>"
      ]
     },
     "metadata": {
      "application/vnd.databricks.v1+output": {
       "addedWidgets": {},
       "arguments": {},
       "data": "<div class=\"ansiout\">  PID TTY          TIME CMD\n    1 ?        00:00:08 systemd\n   37 ?        00:00:00 systemd-journal\n   52 ?        00:00:00 networkd-dispat\n   54 ?        00:00:00 systemd-logind\n   66 ?        00:00:00 sshd\n   68 ?        00:00:00 unattended-upgr\n   78 ?        00:00:00 monit\n  152 ?        00:00:00 goofys-dbr\n  287 ?        00:01:52 java\n  365 ?        00:00:00 apache2\n  395 ?        00:00:00 cron\n  427 ?        00:00:00 bash\n  478 ?        00:03:01 java\n  646 ?        00:00:00 ttyd\n  761 ?        00:00:00 bash\n  767 ?        00:00:00 R\n  784 ?        00:00:00 R\n  886 ?        00:00:05 python\n  889 ?        00:00:03 python\n 1246 ?        00:00:00 cat\n 1677 ?        00:00:00 check_dbfs_fuse &lt;defunct&gt;\n 1690 ?        00:00:00 ps\n</div>",
       "datasetInfos": [],
       "metadata": {},
       "removedWidgets": [],
       "type": "html"
      }
     },
     "output_type": "display_data"
    }
   ],
   "source": [
    "%sh ps"
   ]
  },
  {
   "cell_type": "code",
   "execution_count": 0,
   "metadata": {
    "application/vnd.databricks.v1+cell": {
     "cellMetadata": {
      "byteLimit": 2048000,
      "rowLimit": 10000
     },
     "inputWidgets": {},
     "nuid": "9b526e0a-5f19-41e3-bb8e-5ac22686640a",
     "showTitle": false,
     "title": ""
    }
   },
   "outputs": [
    {
     "output_type": "display_data",
     "data": {
      "text/html": [
       "<style scoped>\n  .ansiout {\n    display: block;\n    unicode-bidi: embed;\n    white-space: pre-wrap;\n    word-wrap: break-word;\n    word-break: break-all;\n    font-family: \"Source Code Pro\", \"Menlo\", monospace;;\n    font-size: 13px;\n    color: #555;\n    margin-left: 4px;\n    line-height: 19px;\n  }\n</style>\n<div class=\"ansiout\"></div>"
      ]
     },
     "metadata": {
      "application/vnd.databricks.v1+output": {
       "addedWidgets": {},
       "arguments": {},
       "data": "<div class=\"ansiout\"></div>",
       "datasetInfos": [],
       "metadata": {},
       "removedWidgets": [],
       "type": "html"
      }
     },
     "output_type": "display_data"
    }
   ],
   "source": [
    "# The command starts with \"%sh\" which means it is meant to be executed in a shell or terminal environment.\n",
    "# The \"|\" character is called a pipe and it allows the output of one command to be used as the input of another command.\n",
    "# The \"ps\" command is used to display information about the processes running on a computer.\n",
    "# The \"grep\" command is used to search for a specific pattern within the output of another command.\n",
    "# In this case, the pattern being searched for is the string \"java\". So the command will display information about all processes that have \"java\" in their name."
   ]
  },
  {
   "cell_type": "code",
   "execution_count": 0,
   "metadata": {
    "application/vnd.databricks.v1+cell": {
     "cellMetadata": {
      "byteLimit": 2048000,
      "rowLimit": 10000
     },
     "inputWidgets": {},
     "nuid": "01b3af15-b55c-4c2d-818e-ee2581b34aed",
     "showTitle": false,
     "title": ""
    }
   },
   "outputs": [
    {
     "output_type": "display_data",
     "data": {
      "text/html": [
       "<style scoped>\n  .ansiout {\n    display: block;\n    unicode-bidi: embed;\n    white-space: pre-wrap;\n    word-wrap: break-word;\n    word-break: break-all;\n    font-family: \"Source Code Pro\", \"Menlo\", monospace;;\n    font-size: 13px;\n    color: #555;\n    margin-left: 4px;\n    line-height: 19px;\n  }\n</style>\n<div class=\"ansiout\">  287 ?        00:02:01 java\n  478 ?        00:03:13 java\n</div>"
      ]
     },
     "metadata": {
      "application/vnd.databricks.v1+output": {
       "addedWidgets": {},
       "arguments": {},
       "data": "<div class=\"ansiout\">  287 ?        00:02:01 java\n  478 ?        00:03:13 java\n</div>",
       "datasetInfos": [],
       "metadata": {},
       "removedWidgets": [],
       "type": "html"
      }
     },
     "output_type": "display_data"
    }
   ],
   "source": [
    "%sh \n",
    "ps | grep 'java'"
   ]
  },
  {
   "cell_type": "code",
   "execution_count": 0,
   "metadata": {
    "application/vnd.databricks.v1+cell": {
     "cellMetadata": {
      "byteLimit": 2048000,
      "rowLimit": 10000
     },
     "inputWidgets": {},
     "nuid": "0134accc-baef-4988-a4d9-cc50766f26bc",
     "showTitle": false,
     "title": ""
    }
   },
   "outputs": [
    {
     "output_type": "display_data",
     "data": {
      "text/html": [
       "<style scoped>\n  .ansiout {\n    display: block;\n    unicode-bidi: embed;\n    white-space: pre-wrap;\n    word-wrap: break-word;\n    word-break: break-all;\n    font-family: \"Source Code Pro\", \"Menlo\", monospace;;\n    font-size: 13px;\n    color: #555;\n    margin-left: 4px;\n    line-height: 19px;\n  }\n</style>\n<div class=\"ansiout\">root\n0330-111513-5tgwvdr0-10-139-64-4\nThu Mar 30 11:52:25 UTC 2023\n</div>"
      ]
     },
     "metadata": {
      "application/vnd.databricks.v1+output": {
       "addedWidgets": {},
       "arguments": {},
       "data": "<div class=\"ansiout\">root\n0330-111513-5tgwvdr0-10-139-64-4\nThu Mar 30 11:52:25 UTC 2023\n</div>",
       "datasetInfos": [],
       "metadata": {},
       "removedWidgets": [],
       "type": "html"
      }
     },
     "output_type": "display_data"
    }
   ],
   "source": [
    "%sh\n",
    "whoami && hostname && date"
   ]
  },
  {
   "cell_type": "code",
   "execution_count": 0,
   "metadata": {
    "application/vnd.databricks.v1+cell": {
     "cellMetadata": {
      "byteLimit": 2048000,
      "rowLimit": 10000
     },
     "inputWidgets": {},
     "nuid": "6e7a0046-eec7-444f-87e6-7c5d05913abd",
     "showTitle": false,
     "title": ""
    }
   },
   "outputs": [
    {
     "output_type": "display_data",
     "data": {
      "text/html": [
       "<style scoped>\n  .ansiout {\n    display: block;\n    unicode-bidi: embed;\n    white-space: pre-wrap;\n    word-wrap: break-word;\n    word-break: break-all;\n    font-family: \"Source Code Pro\", \"Menlo\", monospace;;\n    font-size: 13px;\n    color: #555;\n    margin-left: 4px;\n    line-height: 19px;\n  }\n</style>\n<div class=\"ansiout\">total 32\ndrwxr-xr-x 1 root root 4096 Mar 30 11:30 .\ndrwxr-xr-x 1 root root 4096 Mar 30 11:20 ..\ndrwxr-xr-x 2 root root 4096 Mar 30 11:16 conf\n-rw-r--r-- 1 root root  735 Mar 30 11:20 derby.log\ndrwxr-xr-x 3 root root 4096 Mar 30 11:20 eventlogs\ndrwxr-xr-x 2 root root 4096 Mar 30 11:30 ganglia\ndrwxr-xr-x 2 root root 4096 Mar 30 11:20 logs\n</div>"
      ]
     },
     "metadata": {
      "application/vnd.databricks.v1+output": {
       "addedWidgets": {},
       "arguments": {},
       "data": "<div class=\"ansiout\">total 32\ndrwxr-xr-x 1 root root 4096 Mar 30 11:30 .\ndrwxr-xr-x 1 root root 4096 Mar 30 11:20 ..\ndrwxr-xr-x 2 root root 4096 Mar 30 11:16 conf\n-rw-r--r-- 1 root root  735 Mar 30 11:20 derby.log\ndrwxr-xr-x 3 root root 4096 Mar 30 11:20 eventlogs\ndrwxr-xr-x 2 root root 4096 Mar 30 11:30 ganglia\ndrwxr-xr-x 2 root root 4096 Mar 30 11:20 logs\n</div>",
       "datasetInfos": [],
       "metadata": {},
       "removedWidgets": [],
       "type": "html"
      }
     },
     "output_type": "display_data"
    }
   ],
   "source": [
    "%sh\n",
    "ls -al"
   ]
  },
  {
   "cell_type": "markdown",
   "metadata": {
    "application/vnd.databricks.v1+cell": {
     "cellMetadata": {},
     "inputWidgets": {},
     "nuid": "76ad145d-1cc9-4114-846a-80308968f713",
     "showTitle": false,
     "title": ""
    }
   },
   "source": [
    "### Magic Command: Other Languages\n",
    "Additional Magic Commands allow for the execution of code in languages other than the notebook's default:\n",
    "* **&percnt;python**\n",
    "* **&percnt;scala**\n",
    "* **&percnt;sql**\n",
    "* **&percnt;r**"
   ]
  },
  {
   "cell_type": "code",
   "execution_count": 0,
   "metadata": {
    "application/vnd.databricks.v1+cell": {
     "cellMetadata": {
      "byteLimit": 2048000,
      "rowLimit": 10000
     },
     "inputWidgets": {},
     "nuid": "0cae6d96-fc10-4657-a933-6384124dda90",
     "showTitle": false,
     "title": ""
    }
   },
   "outputs": [
    {
     "output_type": "display_data",
     "data": {
      "text/html": [
       "<style scoped>\n  .ansiout {\n    display: block;\n    unicode-bidi: embed;\n    white-space: pre-wrap;\n    word-wrap: break-word;\n    word-break: break-all;\n    font-family: \"Source Code Pro\", \"Menlo\", monospace;;\n    font-size: 13px;\n    color: #555;\n    margin-left: 4px;\n    line-height: 19px;\n  }\n</style>\n<div class=\"ansiout\">Hello Scala!\n</div>"
      ]
     },
     "metadata": {
      "application/vnd.databricks.v1+output": {
       "addedWidgets": {},
       "arguments": {},
       "data": "<div class=\"ansiout\">Hello Scala!\n</div>",
       "datasetInfos": [],
       "metadata": {},
       "removedWidgets": [],
       "type": "html"
      }
     },
     "output_type": "display_data"
    }
   ],
   "source": [
    "%scala\n",
    "println(\"Hello Scala!\")"
   ]
  },
  {
   "cell_type": "code",
   "execution_count": 0,
   "metadata": {
    "application/vnd.databricks.v1+cell": {
     "cellMetadata": {
      "byteLimit": 2048000,
      "rowLimit": 10000
     },
     "inputWidgets": {},
     "nuid": "9dc38281-d342-41f8-ae5d-e9ab59f7b725",
     "showTitle": false,
     "title": ""
    }
   },
   "outputs": [
    {
     "output_type": "display_data",
     "data": {
      "text/html": [
       "<style scoped>\n  .ansiout {\n    display: block;\n    unicode-bidi: embed;\n    white-space: pre-wrap;\n    word-wrap: break-word;\n    word-break: break-all;\n    font-family: \"Source Code Pro\", \"Menlo\", monospace;;\n    font-size: 13px;\n    color: #555;\n    margin-left: 4px;\n    line-height: 19px;\n  }\n</style>\n<div class=\"ansiout\">Hello Python!\n</div>"
      ]
     },
     "metadata": {
      "application/vnd.databricks.v1+output": {
       "addedWidgets": {},
       "arguments": {},
       "data": "<div class=\"ansiout\">Hello Python!\n</div>",
       "datasetInfos": [],
       "metadata": {},
       "removedWidgets": [],
       "type": "html"
      }
     },
     "output_type": "display_data"
    }
   ],
   "source": [
    "%python\n",
    "print(\"Hello Python!\")"
   ]
  },
  {
   "cell_type": "code",
   "execution_count": 0,
   "metadata": {
    "application/vnd.databricks.v1+cell": {
     "cellMetadata": {
      "byteLimit": 2048000,
      "rowLimit": 10000
     },
     "inputWidgets": {},
     "nuid": "db42e60e-16e3-4629-9648-9c3a3c7f7fa9",
     "showTitle": false,
     "title": ""
    }
   },
   "outputs": [
    {
     "output_type": "display_data",
     "data": {
      "text/html": [
       "<style scoped>\n  .ansiout {\n    display: block;\n    unicode-bidi: embed;\n    white-space: pre-wrap;\n    word-wrap: break-word;\n    word-break: break-all;\n    font-family: \"Source Code Pro\", \"Menlo\", monospace;;\n    font-size: 13px;\n    color: #555;\n    margin-left: 4px;\n    line-height: 19px;\n  }\n</style>\n<pre style=\"font-size:10p\"></pre><pre style = 'font-size:10pt'>[1] Hello R!</pre>"
      ]
     },
     "metadata": {
      "application/vnd.databricks.v1+output": {
       "addedWidgets": {},
       "arguments": {},
       "data": "<pre style=\"font-size:10p\"></pre><pre style = 'font-size:10pt'>[1] Hello R!</pre>",
       "datasetInfos": [],
       "metadata": {},
       "removedWidgets": [],
       "type": "html"
      }
     },
     "output_type": "display_data"
    }
   ],
   "source": [
    "%r\n",
    "print(\"Hello R!\", quote=FALSE)"
   ]
  },
  {
   "cell_type": "code",
   "execution_count": 0,
   "metadata": {
    "application/vnd.databricks.v1+cell": {
     "cellMetadata": {
      "byteLimit": 2048000,
      "implicitDf": true,
      "rowLimit": 10000
     },
     "inputWidgets": {},
     "nuid": "cff1965e-9d33-4093-8afe-57ffac4a5b0a",
     "showTitle": false,
     "title": ""
    }
   },
   "outputs": [
    {
     "output_type": "display_data",
     "data": {
      "text/html": [
       "<style scoped>\n  .table-result-container {\n    max-height: 300px;\n    overflow: auto;\n  }\n  table, th, td {\n    border: 1px solid black;\n    border-collapse: collapse;\n  }\n  th, td {\n    padding: 5px;\n  }\n  th {\n    text-align: left;\n  }\n</style><div class='table-result-container'><table class='table-result'><thead style='background-color: white'><tr><th>Hello SQL!</th></tr></thead><tbody><tr><td>Hello SQL!</td></tr></tbody></table></div>"
      ]
     },
     "metadata": {
      "application/vnd.databricks.v1+output": {
       "addedWidgets": {},
       "aggData": [],
       "aggError": "",
       "aggOverflow": false,
       "aggSchema": [],
       "aggSeriesLimitReached": false,
       "aggType": "",
       "arguments": {},
       "columnCustomDisplayInfos": {},
       "data": [
        [
         "Hello SQL!"
        ]
       ],
       "datasetInfos": [
        {
         "name": "_sqldf",
         "schema": {
          "fields": [
           {
            "metadata": {},
            "name": "Hello SQL!",
            "nullable": false,
            "type": "string"
           }
          ],
          "type": "struct"
         },
         "tableIdentifier": null,
         "typeStr": "pyspark.sql.dataframe.DataFrame"
        }
       ],
       "dbfsResultPath": null,
       "isJsonSchema": true,
       "metadata": {},
       "overflow": false,
       "plotOptions": {
        "customPlotOptions": {},
        "displayType": "table",
        "pivotAggregation": null,
        "pivotColumns": null,
        "xColumns": null,
        "yColumns": null
       },
       "removedWidgets": [],
       "schema": [
        {
         "metadata": "{}",
         "name": "Hello SQL!",
         "type": "\"string\""
        }
       ],
       "type": "table"
      }
     },
     "output_type": "display_data"
    }
   ],
   "source": [
    "%sql\n",
    "select \"Hello SQL!\""
   ]
  },
  {
   "cell_type": "markdown",
   "metadata": {
    "application/vnd.databricks.v1+cell": {
     "cellMetadata": {},
     "inputWidgets": {},
     "nuid": "ab888f62-9e5a-4a5c-ad61-b01eda9d140d",
     "showTitle": false,
     "title": ""
    }
   },
   "source": [
    "### Magic Command: &percnt;md\n",
    "\n",
    "Our favorite Magic Command **&percnt;md** allows us to render Markdown in a cell:\n",
    "* Double click this cell to begin editing it\n",
    "* Then hit `Esc` to stop editing\n",
    "\n",
    "# Title One\n",
    "## Title Two\n",
    "### Title Three\n",
    "\n",
    "This is a test of the emergency broadcast system. This is only a test.\n",
    "\n",
    "This is text with a **bold** word in it.\n",
    "\n",
    "This is text with an *italicized* word in it.\n",
    "\n",
    "This is an ordered list\n",
    "0. once\n",
    "0. two\n",
    "0. three\n",
    "\n",
    "This is an unordered list\n",
    "* apples\n",
    "* peaches\n",
    "* bananas\n",
    "\n",
    "Links/Embedded HTML: <a href=\"http://bfy.tw/19zq\" target=\"_blank\">What is Markdown?</a>\n",
    "\n",
    "Images:\n",
    "![Spark Engines](https://files.training.databricks.com/images/Apache-Spark-Logo_TM_200px.png)\n",
    "\n",
    "And of course, tables:\n",
    "\n",
    "| Name  | Age | Sex    |\n",
    "|-------|-----|--------|\n",
    "| Tom   | 32  | Male   |\n",
    "| Mary  | 29  | Female |\n",
    "| Dick  | 73  | Male   |\n",
    "| Sally | 55  | Female |"
   ]
  },
  {
   "cell_type": "markdown",
   "metadata": {
    "application/vnd.databricks.v1+cell": {
     "cellMetadata": {},
     "inputWidgets": {},
     "nuid": "2681d30c-b17f-4e12-bd29-400ff4195ea6",
     "showTitle": false,
     "title": ""
    }
   },
   "source": [
    "### Magic Command: &percnt;run\n",
    "* You can run a notebook from another notebook by using the Magic Command **%run**\n",
    "* All variables & functions defined in that other notebook will become available in your current notebook\n",
    "\n",
    "For example, The following cell should fail to execute because the variable `username` has not yet been declared:"
   ]
  },
  {
   "cell_type": "code",
   "execution_count": 0,
   "metadata": {
    "application/vnd.databricks.v1+cell": {
     "cellMetadata": {
      "byteLimit": 2048000,
      "rowLimit": 10000
     },
     "inputWidgets": {},
     "nuid": "383ab461-037d-47c1-89d4-9c7a14183fa3",
     "showTitle": false,
     "title": ""
    }
   },
   "outputs": [
    {
     "output_type": "display_data",
     "data": {
      "text/html": [
       "<style scoped>\n  .ansiout {\n    display: block;\n    unicode-bidi: embed;\n    white-space: pre-wrap;\n    word-wrap: break-word;\n    word-break: break-all;\n    font-family: \"Source Code Pro\", \"Menlo\", monospace;;\n    font-size: 13px;\n    color: #555;\n    margin-left: 4px;\n    line-height: 19px;\n  }\n</style>\n<div class=\"ansiout\"></div>"
      ]
     },
     "metadata": {
      "application/vnd.databricks.v1+output": {
       "addedWidgets": {},
       "arguments": {},
       "data": "<div class=\"ansiout\"></div>",
       "datasetInfos": [],
       "metadata": {},
       "removedWidgets": [],
       "type": "html"
      }
     },
     "output_type": "display_data"
    },
    {
     "output_type": "display_data",
     "data": {
      "text/html": [
       "<style scoped>\n  .ansiout {\n    display: block;\n    unicode-bidi: embed;\n    white-space: pre-wrap;\n    word-wrap: break-word;\n    word-break: break-all;\n    font-family: \"Source Code Pro\", \"Menlo\", monospace;;\n    font-size: 13px;\n    color: #555;\n    margin-left: 4px;\n    line-height: 19px;\n  }\n</style>\n<div class=\"ansiout\"><span class=\"ansi-red-fg\">---------------------------------------------------------------------------</span>\n<span class=\"ansi-red-fg\">NameError</span>                                 Traceback (most recent call last)\n<span class=\"ansi-green-fg\">&lt;command-1830718883683089&gt;</span> in <span class=\"ansi-cyan-fg\">&lt;module&gt;</span>\n<span class=\"ansi-green-fg\">----&gt; 1</span><span class=\"ansi-red-fg\"> </span>print<span class=\"ansi-blue-fg\">(</span><span class=\"ansi-blue-fg\">&#34;username: &#34;</span> <span class=\"ansi-blue-fg\">+</span> username<span class=\"ansi-blue-fg\">)</span>\n\n<span class=\"ansi-red-fg\">NameError</span>: name &#39;username&#39; is not defined</div>"
      ]
     },
     "metadata": {
      "application/vnd.databricks.v1+output": {
       "arguments": {},
       "data": "<div class=\"ansiout\"><span class=\"ansi-red-fg\">---------------------------------------------------------------------------</span>\n<span class=\"ansi-red-fg\">NameError</span>                                 Traceback (most recent call last)\n<span class=\"ansi-green-fg\">&lt;command-1830718883683089&gt;</span> in <span class=\"ansi-cyan-fg\">&lt;module&gt;</span>\n<span class=\"ansi-green-fg\">----&gt; 1</span><span class=\"ansi-red-fg\"> </span>print<span class=\"ansi-blue-fg\">(</span><span class=\"ansi-blue-fg\">&#34;username: &#34;</span> <span class=\"ansi-blue-fg\">+</span> username<span class=\"ansi-blue-fg\">)</span>\n\n<span class=\"ansi-red-fg\">NameError</span>: name &#39;username&#39; is not defined</div>",
       "errorSummary": "<span class=\"ansi-red-fg\">NameError</span>: name &#39;username&#39; is not defined",
       "errorTraceType": "html",
       "metadata": {},
       "type": "ipynbError"
      }
     },
     "output_type": "display_data"
    }
   ],
   "source": [
    "print(\"username: \" + username)"
   ]
  },
  {
   "cell_type": "markdown",
   "metadata": {
    "application/vnd.databricks.v1+cell": {
     "cellMetadata": {},
     "inputWidgets": {},
     "nuid": "c0a0daca-5b7c-40c9-bf3a-487c0c504d78",
     "showTitle": false,
     "title": ""
    }
   },
   "source": [
    "But we can declare it and a handful of other variables and functions buy running this cell:"
   ]
  },
  {
   "cell_type": "code",
   "execution_count": 0,
   "metadata": {
    "application/vnd.databricks.v1+cell": {
     "cellMetadata": {
      "byteLimit": 2048000,
      "rowLimit": 10000
     },
     "inputWidgets": {},
     "nuid": "bb40adab-a4ea-438f-8388-af6bb771f003",
     "showTitle": false,
     "title": ""
    }
   },
   "outputs": [
    {
     "output_type": "display_data",
     "data": {
      "text/html": [
       "<style scoped>\n  .ansiout {\n    display: block;\n    unicode-bidi: embed;\n    white-space: pre-wrap;\n    word-wrap: break-word;\n    word-break: break-all;\n    font-family: \"Source Code Pro\", \"Menlo\", monospace;;\n    font-size: 13px;\n    color: #555;\n    margin-left: 4px;\n    line-height: 19px;\n  }\n</style>\n<div class=\"ansiout\"></div>"
      ]
     },
     "metadata": {
      "application/vnd.databricks.v1+output": {
       "addedWidgets": {},
       "arguments": {},
       "data": "<div class=\"ansiout\"></div>",
       "datasetInfos": [],
       "metadata": {},
       "removedWidgets": [],
       "type": "html"
      }
     },
     "output_type": "display_data"
    },
    {
     "output_type": "display_data",
     "data": {
      "text/html": [
       "Initialized classroom variables & functions..."
      ]
     },
     "metadata": {
      "application/vnd.databricks.v1+output": {
       "addedWidgets": {},
       "arguments": {},
       "data": "Initialized classroom variables & functions...",
       "datasetInfos": [],
       "metadata": {},
       "removedWidgets": [],
       "textData": null,
       "type": "htmlSandbox"
      }
     },
     "output_type": "display_data"
    },
    {
     "output_type": "display_data",
     "data": {
      "text/html": [
       "<style scoped>\n  .ansiout {\n    display: block;\n    unicode-bidi: embed;\n    white-space: pre-wrap;\n    word-wrap: break-word;\n    word-break: break-all;\n    font-family: \"Source Code Pro\", \"Menlo\", monospace;;\n    font-size: 13px;\n    color: #555;\n    margin-left: 4px;\n    line-height: 19px;\n  }\n</style>\n<div class=\"ansiout\"></div>"
      ]
     },
     "metadata": {
      "application/vnd.databricks.v1+output": {
       "addedWidgets": {},
       "arguments": {},
       "data": "<div class=\"ansiout\"></div>",
       "datasetInfos": [],
       "metadata": {},
       "removedWidgets": [],
       "type": "html"
      }
     },
     "output_type": "display_data"
    },
    {
     "output_type": "display_data",
     "data": {
      "text/html": [
       "Mounted datasets to <b>/mnt/training</b> from <b>wasbs://training@dbtrainwesteurope.blob.core.windows.net/<b>"
      ]
     },
     "metadata": {
      "application/vnd.databricks.v1+output": {
       "addedWidgets": {},
       "arguments": {},
       "data": "Mounted datasets to <b>/mnt/training</b> from <b>wasbs://training@dbtrainwesteurope.blob.core.windows.net/<b>",
       "datasetInfos": [],
       "metadata": {},
       "removedWidgets": [],
       "textData": null,
       "type": "htmlSandbox"
      }
     },
     "output_type": "display_data"
    },
    {
     "output_type": "display_data",
     "data": {
      "text/html": [
       "Created user-specific database"
      ]
     },
     "metadata": {
      "application/vnd.databricks.v1+output": {
       "addedWidgets": {},
       "arguments": {},
       "data": "Created user-specific database",
       "datasetInfos": [],
       "metadata": {},
       "removedWidgets": [],
       "textData": null,
       "type": "htmlSandbox"
      }
     },
     "output_type": "display_data"
    },
    {
     "output_type": "display_data",
     "data": {
      "text/html": [
       "Using the database <b style=\"color:green\">fatihfidan52_gmail_com_db</b>."
      ]
     },
     "metadata": {
      "application/vnd.databricks.v1+output": {
       "addedWidgets": {},
       "arguments": {},
       "data": "Using the database <b style=\"color:green\">fatihfidan52_gmail_com_db</b>.",
       "datasetInfos": [],
       "metadata": {},
       "removedWidgets": [],
       "textData": null,
       "type": "htmlSandbox"
      }
     },
     "output_type": "display_data"
    },
    {
     "output_type": "display_data",
     "data": {
      "text/html": [
       "<style scoped>\n  .ansiout {\n    display: block;\n    unicode-bidi: embed;\n    white-space: pre-wrap;\n    word-wrap: break-word;\n    word-break: break-all;\n    font-family: \"Source Code Pro\", \"Menlo\", monospace;;\n    font-size: 13px;\n    color: #555;\n    margin-left: 4px;\n    line-height: 19px;\n  }\n</style>\n<div class=\"ansiout\"></div>"
      ]
     },
     "metadata": {
      "application/vnd.databricks.v1+output": {
       "addedWidgets": {},
       "arguments": {},
       "data": "<div class=\"ansiout\"></div>",
       "datasetInfos": [],
       "metadata": {},
       "removedWidgets": [],
       "type": "html"
      }
     },
     "output_type": "display_data"
    },
    {
     "output_type": "display_data",
     "data": {
      "text/html": [
       "All done!"
      ]
     },
     "metadata": {
      "application/vnd.databricks.v1+output": {
       "addedWidgets": {},
       "arguments": {},
       "data": "All done!",
       "datasetInfos": [],
       "metadata": {},
       "removedWidgets": [],
       "textData": "<div class=\"ansiout\"></div>",
       "type": "htmlSandbox"
      }
     },
     "output_type": "display_data"
    }
   ],
   "source": [
    "%run \"./Includes/Classroom-Setup\""
   ]
  },
  {
   "cell_type": "markdown",
   "metadata": {
    "application/vnd.databricks.v1+cell": {
     "cellMetadata": {},
     "inputWidgets": {},
     "nuid": "d33e52c2-0017-4d90-b066-fa8ecb6aaaa2",
     "showTitle": false,
     "title": ""
    }
   },
   "source": [
    "In this case, the notebook `Classroom Setup` declares the following:\n",
    "  * The variable `username`\n",
    "  * The variable `userhome`\n",
    "  * The function `assertSparkVersion(..)`\n",
    "  * And others..."
   ]
  },
  {
   "cell_type": "code",
   "execution_count": 0,
   "metadata": {
    "application/vnd.databricks.v1+cell": {
     "cellMetadata": {
      "byteLimit": 2048000,
      "rowLimit": 10000
     },
     "inputWidgets": {},
     "nuid": "85973599-dbd1-410f-b42e-572b30eeb3cd",
     "showTitle": false,
     "title": ""
    }
   },
   "outputs": [
    {
     "output_type": "display_data",
     "data": {
      "text/html": [
       "<style scoped>\n  .ansiout {\n    display: block;\n    unicode-bidi: embed;\n    white-space: pre-wrap;\n    word-wrap: break-word;\n    word-break: break-all;\n    font-family: \"Source Code Pro\", \"Menlo\", monospace;;\n    font-size: 13px;\n    color: #555;\n    margin-left: 4px;\n    line-height: 19px;\n  }\n</style>\n<div class=\"ansiout\">username: fatihfidan52@gmail.com\nuserhome: dbfs:/user/fatihfidan52@gmail.com\n</div>"
      ]
     },
     "metadata": {
      "application/vnd.databricks.v1+output": {
       "addedWidgets": {},
       "arguments": {},
       "data": "<div class=\"ansiout\">username: fatihfidan52@gmail.com\nuserhome: dbfs:/user/fatihfidan52@gmail.com\n</div>",
       "datasetInfos": [],
       "metadata": {},
       "removedWidgets": [],
       "type": "html"
      }
     },
     "output_type": "display_data"
    }
   ],
   "source": [
    "print(\"username: \" + username)\n",
    "print(\"userhome: \" + userhome)"
   ]
  },
  {
   "cell_type": "markdown",
   "metadata": {
    "application/vnd.databricks.v1+cell": {
     "cellMetadata": {},
     "inputWidgets": {},
     "nuid": "6ae388c9-94ce-4db6-acc8-016ba6b950e9",
     "showTitle": false,
     "title": ""
    }
   },
   "source": [
    "We will use those variables and functions throughout this class.\n",
    "\n",
    "One of the other things `Classroom Setup` does for us is to mount all the datasets needed for this class into the Databricks File System."
   ]
  },
  {
   "cell_type": "markdown",
   "metadata": {
    "application/vnd.databricks.v1+cell": {
     "cellMetadata": {},
     "inputWidgets": {},
     "nuid": "4247928f-8ae8-463a-9125-3399c0908773",
     "showTitle": false,
     "title": ""
    }
   },
   "source": [
    "##![Spark Logo Tiny](https://files.training.databricks.com/images/wiki-book/general/logo_spark_tiny.png) Databricks File System - DBFS\n",
    "* DBFS is a layer over a cloud-based object store\n",
    "* Files in DBFS are persisted to the object store\n",
    "* The lifetime of files in the DBFS are **NOT** tied to the lifetime of our cluster"
   ]
  },
  {
   "cell_type": "markdown",
   "metadata": {
    "application/vnd.databricks.v1+cell": {
     "cellMetadata": {},
     "inputWidgets": {},
     "nuid": "3dc18ac6-a747-4105-b8d0-5636c7217a8b",
     "showTitle": false,
     "title": ""
    }
   },
   "source": [
    "### Mounting Data into DBFS\n",
    "* Mounting other object stores into DBFS gives Databricks users access via the file system\n",
    "* This is just one of many techniques for pulling data into Spark\n",
    "* The datasets needed for this class have already been mounted for us with the call to `%run \"../Includes/Classroom Setup\"`\n",
    "* We will confirm that in just a few minutes"
   ]
  },
  {
   "cell_type": "markdown",
   "metadata": {
    "application/vnd.databricks.v1+cell": {
     "cellMetadata": {},
     "inputWidgets": {},
     "nuid": "32ce5d83-7014-400f-93ae-66e0b0bb1feb",
     "showTitle": false,
     "title": ""
    }
   },
   "source": [
    "See also <a href=\"https://docs.azuredatabricks.net/user-guide/dbfs-databricks-file-system.html\" target=\"_blank\">Databricks File System - DBFS</a>."
   ]
  },
  {
   "cell_type": "markdown",
   "metadata": {
    "application/vnd.databricks.v1+cell": {
     "cellMetadata": {},
     "inputWidgets": {},
     "nuid": "a46f1fb7-4ba7-496c-a2b2-50a4fa9d3644",
     "showTitle": false,
     "title": ""
    }
   },
   "source": [
    "### Databricks Utilities - dbutils\n",
    "* You can access the DBFS through the Databricks Utilities class (and other file IO routines).\n",
    "* An instance of DBUtils is already declared for us as `dbutils`.\n",
    "* For in-notebook documentation on DBUtils you can execute the command `dbutils.help()`."
   ]
  },
  {
   "cell_type": "markdown",
   "metadata": {
    "application/vnd.databricks.v1+cell": {
     "cellMetadata": {},
     "inputWidgets": {},
     "nuid": "2c9effd7-87b4-408f-a0e1-af3c5b7aa472",
     "showTitle": false,
     "title": ""
    }
   },
   "source": [
    "See also <a href=\"https://docs.azuredatabricks.net/user-guide/dbutils.html\" target=\"_blank\">Databricks Utilities - dbutils</a>"
   ]
  },
  {
   "cell_type": "code",
   "execution_count": 0,
   "metadata": {
    "application/vnd.databricks.v1+cell": {
     "cellMetadata": {
      "byteLimit": 2048000,
      "rowLimit": 10000
     },
     "inputWidgets": {},
     "nuid": "036f1f37-2be0-4206-869e-9ba614c44df0",
     "showTitle": false,
     "title": ""
    }
   },
   "outputs": [
    {
     "output_type": "display_data",
     "data": {
      "text/html": [
       "<div class = \"ansiout\">\nThis module provides various utilities for users to interact with the rest of Databricks.\n  <h3></h3><b>credentials: DatabricksCredentialUtils</b> -> Utilities for interacting with credentials within notebooks<br /><b>fs: DbfsUtils</b> -> Manipulates the Databricks filesystem (DBFS) from the console<br /><b>jobs: JobsUtils</b> -> Utilities for leveraging jobs features<br /><b>library: LibraryUtils</b> -> Utilities for session isolated libraries<br /><b>meta: MetaUtils</b> -> Methods to hook into the compiler (EXPERIMENTAL)<br /><b>notebook: NotebookUtils</b> -> Utilities for the control flow of a notebook (EXPERIMENTAL)<br /><b>preview: Preview</b> -> Utilities under preview category<br /><b>secrets: SecretUtils</b> -> Provides utilities for leveraging secrets within notebooks<br /><b>widgets: WidgetsUtils</b> -> Methods to create and get bound value of input widgets inside notebooks<br /><br /></div>"
      ]
     },
     "metadata": {
      "application/vnd.databricks.v1+output": {
       "addedWidgets": {},
       "arguments": {},
       "data": "<div class = \"ansiout\">\nThis module provides various utilities for users to interact with the rest of Databricks.\n  <h3></h3><b>credentials: DatabricksCredentialUtils</b> -> Utilities for interacting with credentials within notebooks<br /><b>fs: DbfsUtils</b> -> Manipulates the Databricks filesystem (DBFS) from the console<br /><b>jobs: JobsUtils</b> -> Utilities for leveraging jobs features<br /><b>library: LibraryUtils</b> -> Utilities for session isolated libraries<br /><b>meta: MetaUtils</b> -> Methods to hook into the compiler (EXPERIMENTAL)<br /><b>notebook: NotebookUtils</b> -> Utilities for the control flow of a notebook (EXPERIMENTAL)<br /><b>preview: Preview</b> -> Utilities under preview category<br /><b>secrets: SecretUtils</b> -> Provides utilities for leveraging secrets within notebooks<br /><b>widgets: WidgetsUtils</b> -> Methods to create and get bound value of input widgets inside notebooks<br /><br /></div>",
       "datasetInfos": [],
       "metadata": {},
       "removedWidgets": [],
       "textData": "<div class=\"ansiout\"></div>",
       "type": "htmlSandbox"
      }
     },
     "output_type": "display_data"
    }
   ],
   "source": [
    "dbutils.help()"
   ]
  },
  {
   "cell_type": "markdown",
   "metadata": {
    "application/vnd.databricks.v1+cell": {
     "cellMetadata": {},
     "inputWidgets": {},
     "nuid": "fc8f8d63-9ba9-4150-bf55-55c09a95235e",
     "showTitle": false,
     "title": ""
    }
   },
   "source": [
    "Additional help is available for each sub-utility:\n",
    "* `dbutils.fs.help()`\n",
    "* `dbutils.meta.help()`\n",
    "* `dbutils.notebook.help()`\n",
    "* `dbutils.widgets.help()`\n",
    "\n",
    "Let's take a look at the file system utilities, `dbutils.fs`"
   ]
  },
  {
   "cell_type": "code",
   "execution_count": 0,
   "metadata": {
    "application/vnd.databricks.v1+cell": {
     "cellMetadata": {
      "byteLimit": 2048000,
      "rowLimit": 10000
     },
     "inputWidgets": {},
     "nuid": "7afaca37-f48f-4ab5-9b26-5b723a1fc369",
     "showTitle": false,
     "title": ""
    }
   },
   "outputs": [
    {
     "output_type": "display_data",
     "data": {
      "text/html": [
       "<div class = \"ansiout\"><b>dbutils.fs</b> provides utilities for working with FileSystems. Most methods in\nthis package can take either a DBFS path (e.g., \"/foo\" or \"dbfs:/foo\"), or\nanother FileSystem URI.\n\nFor more info about a method, use <b>dbutils.fs.help(\"methodName\")</b>.\n\nIn notebooks, you can also use the %fs shorthand to access DBFS. The %fs shorthand maps\nstraightforwardly onto dbutils calls. For example, \"%fs head --maxBytes=10000 /file/path\"\ntranslates into \"dbutils.fs.head(\"/file/path\", maxBytes = 10000)\".\n    <h3>fsutils</h3><b>cp(from: String, to: String, recurse: boolean = false): boolean</b> -> Copies a file or directory, possibly across FileSystems<br /><b>head(file: String, maxBytes: int = 65536): String</b> -> Returns up to the first 'maxBytes' bytes of the given file as a String encoded in UTF-8<br /><b>ls(dir: String): Seq</b> -> Lists the contents of a directory<br /><b>mkdirs(dir: String): boolean</b> -> Creates the given directory if it does not exist, also creating any necessary parent directories<br /><b>mv(from: String, to: String, recurse: boolean = false): boolean</b> -> Moves a file or directory, possibly across FileSystems<br /><b>put(file: String, contents: String, overwrite: boolean = false): boolean</b> -> Writes the given String out to a file, encoded in UTF-8<br /><b>rm(dir: String, recurse: boolean = false): boolean</b> -> Removes a file or directory<br /><br /><h3>mount</h3><b>mount(source: String, mountPoint: String, encryptionType: String = \"\", owner: String = null, extraConfigs: Map = Map.empty[String, String]): boolean</b> -> Mounts the given source directory into DBFS at the given mount point<br /><b>mounts: Seq</b> -> Displays information about what is mounted within DBFS<br /><b>refreshMounts: boolean</b> -> Forces all machines in this cluster to refresh their mount cache, ensuring they receive the most recent information<br /><b>unmount(mountPoint: String): boolean</b> -> Deletes a DBFS mount point<br /><br /></div>"
      ]
     },
     "metadata": {
      "application/vnd.databricks.v1+output": {
       "addedWidgets": {},
       "arguments": {},
       "data": "<div class = \"ansiout\"><b>dbutils.fs</b> provides utilities for working with FileSystems. Most methods in\nthis package can take either a DBFS path (e.g., \"/foo\" or \"dbfs:/foo\"), or\nanother FileSystem URI.\n\nFor more info about a method, use <b>dbutils.fs.help(\"methodName\")</b>.\n\nIn notebooks, you can also use the %fs shorthand to access DBFS. The %fs shorthand maps\nstraightforwardly onto dbutils calls. For example, \"%fs head --maxBytes=10000 /file/path\"\ntranslates into \"dbutils.fs.head(\"/file/path\", maxBytes = 10000)\".\n    <h3>fsutils</h3><b>cp(from: String, to: String, recurse: boolean = false): boolean</b> -> Copies a file or directory, possibly across FileSystems<br /><b>head(file: String, maxBytes: int = 65536): String</b> -> Returns up to the first 'maxBytes' bytes of the given file as a String encoded in UTF-8<br /><b>ls(dir: String): Seq</b> -> Lists the contents of a directory<br /><b>mkdirs(dir: String): boolean</b> -> Creates the given directory if it does not exist, also creating any necessary parent directories<br /><b>mv(from: String, to: String, recurse: boolean = false): boolean</b> -> Moves a file or directory, possibly across FileSystems<br /><b>put(file: String, contents: String, overwrite: boolean = false): boolean</b> -> Writes the given String out to a file, encoded in UTF-8<br /><b>rm(dir: String, recurse: boolean = false): boolean</b> -> Removes a file or directory<br /><br /><h3>mount</h3><b>mount(source: String, mountPoint: String, encryptionType: String = \"\", owner: String = null, extraConfigs: Map = Map.empty[String, String]): boolean</b> -> Mounts the given source directory into DBFS at the given mount point<br /><b>mounts: Seq</b> -> Displays information about what is mounted within DBFS<br /><b>refreshMounts: boolean</b> -> Forces all machines in this cluster to refresh their mount cache, ensuring they receive the most recent information<br /><b>unmount(mountPoint: String): boolean</b> -> Deletes a DBFS mount point<br /><br /></div>",
       "datasetInfos": [],
       "metadata": {},
       "removedWidgets": [],
       "textData": "<div class=\"ansiout\"></div>",
       "type": "htmlSandbox"
      }
     },
     "output_type": "display_data"
    }
   ],
   "source": [
    "dbutils.fs.help()"
   ]
  },
  {
   "cell_type": "markdown",
   "metadata": {
    "application/vnd.databricks.v1+cell": {
     "cellMetadata": {},
     "inputWidgets": {},
     "nuid": "33e84f36-0729-417b-96ae-b813cf6a7fe8",
     "showTitle": false,
     "title": ""
    }
   },
   "source": [
    "### dbutils.fs.mounts()\n",
    "* As previously mentioned, all our datasets should already be mounted\n",
    "* We can use `dbutils.fs.mounts()` to verify that assertion\n",
    "* This method returns a collection of `MountInfo` objects, one for each mount"
   ]
  },
  {
   "cell_type": "code",
   "execution_count": 0,
   "metadata": {
    "application/vnd.databricks.v1+cell": {
     "cellMetadata": {
      "byteLimit": 2048000,
      "rowLimit": 10000
     },
     "inputWidgets": {},
     "nuid": "e379e1e6-a0b2-40b3-967e-b9c55c88ccbe",
     "showTitle": false,
     "title": ""
    }
   },
   "outputs": [
    {
     "output_type": "display_data",
     "data": {
      "text/html": [
       "<style scoped>\n  .ansiout {\n    display: block;\n    unicode-bidi: embed;\n    white-space: pre-wrap;\n    word-wrap: break-word;\n    word-break: break-all;\n    font-family: \"Source Code Pro\", \"Menlo\", monospace;;\n    font-size: 13px;\n    color: #555;\n    margin-left: 4px;\n    line-height: 19px;\n  }\n</style>\n<div class=\"ansiout\">Out[36]: [MountInfo(mountPoint=&#39;/mnt/training&#39;, source=&#39;wasbs://training@dbtrainwesteurope.blob.core.windows.net/&#39;, encryptionType=&#39;&#39;),\n MountInfo(mountPoint=&#39;/databricks-datasets&#39;, source=&#39;databricks-datasets&#39;, encryptionType=&#39;&#39;),\n MountInfo(mountPoint=&#39;/databricks/mlflow-tracking&#39;, source=&#39;databricks/mlflow-tracking&#39;, encryptionType=&#39;&#39;),\n MountInfo(mountPoint=&#39;/databricks-results&#39;, source=&#39;databricks-results&#39;, encryptionType=&#39;&#39;),\n MountInfo(mountPoint=&#39;/databricks/mlflow-registry&#39;, source=&#39;databricks/mlflow-registry&#39;, encryptionType=&#39;&#39;),\n MountInfo(mountPoint=&#39;/&#39;, source=&#39;DatabricksRoot&#39;, encryptionType=&#39;&#39;)]</div>"
      ]
     },
     "metadata": {
      "application/vnd.databricks.v1+output": {
       "addedWidgets": {},
       "arguments": {},
       "data": "<div class=\"ansiout\">Out[36]: [MountInfo(mountPoint=&#39;/mnt/training&#39;, source=&#39;wasbs://training@dbtrainwesteurope.blob.core.windows.net/&#39;, encryptionType=&#39;&#39;),\n MountInfo(mountPoint=&#39;/databricks-datasets&#39;, source=&#39;databricks-datasets&#39;, encryptionType=&#39;&#39;),\n MountInfo(mountPoint=&#39;/databricks/mlflow-tracking&#39;, source=&#39;databricks/mlflow-tracking&#39;, encryptionType=&#39;&#39;),\n MountInfo(mountPoint=&#39;/databricks-results&#39;, source=&#39;databricks-results&#39;, encryptionType=&#39;&#39;),\n MountInfo(mountPoint=&#39;/databricks/mlflow-registry&#39;, source=&#39;databricks/mlflow-registry&#39;, encryptionType=&#39;&#39;),\n MountInfo(mountPoint=&#39;/&#39;, source=&#39;DatabricksRoot&#39;, encryptionType=&#39;&#39;)]</div>",
       "datasetInfos": [],
       "metadata": {},
       "removedWidgets": [],
       "type": "html"
      }
     },
     "output_type": "display_data"
    }
   ],
   "source": [
    "dbutils.fs.mounts()"
   ]
  },
  {
   "cell_type": "code",
   "execution_count": 0,
   "metadata": {
    "application/vnd.databricks.v1+cell": {
     "cellMetadata": {
      "byteLimit": 2048000,
      "rowLimit": 10000
     },
     "inputWidgets": {},
     "nuid": "3fa7c8af-ae55-47a5-ba39-14c766466d43",
     "showTitle": false,
     "title": ""
    }
   },
   "outputs": [
    {
     "output_type": "display_data",
     "data": {
      "text/html": [
       "<style scoped>\n  .ansiout {\n    display: block;\n    unicode-bidi: embed;\n    white-space: pre-wrap;\n    word-wrap: break-word;\n    word-break: break-all;\n    font-family: \"Source Code Pro\", \"Menlo\", monospace;;\n    font-size: 13px;\n    color: #555;\n    margin-left: 4px;\n    line-height: 19px;\n  }\n</style>\n<div class=\"ansiout\">/mnt/training &gt;&gt; wasbs://training@dbtrainwesteurope.blob.core.windows.net/\n/databricks-datasets &gt;&gt; databricks-datasets\n/databricks/mlflow-tracking &gt;&gt; databricks/mlflow-tracking\n/databricks-results &gt;&gt; databricks-results\n/databricks/mlflow-registry &gt;&gt; databricks/mlflow-registry\n/ &gt;&gt; DatabricksRoot\n--------------------------------------------------------------------------------\n</div>"
      ]
     },
     "metadata": {
      "application/vnd.databricks.v1+output": {
       "addedWidgets": {},
       "arguments": {},
       "data": "<div class=\"ansiout\">/mnt/training &gt;&gt; wasbs://training@dbtrainwesteurope.blob.core.windows.net/\n/databricks-datasets &gt;&gt; databricks-datasets\n/databricks/mlflow-tracking &gt;&gt; databricks/mlflow-tracking\n/databricks-results &gt;&gt; databricks-results\n/databricks/mlflow-registry &gt;&gt; databricks/mlflow-registry\n/ &gt;&gt; DatabricksRoot\n--------------------------------------------------------------------------------\n</div>",
       "datasetInfos": [],
       "metadata": {},
       "removedWidgets": [],
       "type": "html"
      }
     },
     "output_type": "display_data"
    }
   ],
   "source": [
    "mounts = dbutils.fs.mounts()\n",
    "\n",
    "for mount in mounts:\n",
    "  print(mount.mountPoint + \" >> \" + mount.source)\n",
    "\n",
    "print(\"-\"*80)"
   ]
  },
  {
   "cell_type": "markdown",
   "metadata": {
    "application/vnd.databricks.v1+cell": {
     "cellMetadata": {},
     "inputWidgets": {},
     "nuid": "8ee75b53-11ce-4640-a080-db2e1879182a",
     "showTitle": false,
     "title": ""
    }
   },
   "source": [
    "### dbutils.fs.ls(..)\n",
    "* And now we can use `dbutils.fs.ls(..)` to view the contents of that mount\n",
    "* This method returns a collection of `FileInfo` objects, one for each item in the specified directory"
   ]
  },
  {
   "cell_type": "markdown",
   "metadata": {
    "application/vnd.databricks.v1+cell": {
     "cellMetadata": {},
     "inputWidgets": {},
     "nuid": "68f93136-9642-40a9-a887-3b9c40b7e1e7",
     "showTitle": false,
     "title": ""
    }
   },
   "source": [
    "See also <a href=\"https://docs.azuredatabricks.net/api/latest/dbfs.html#dbfsfileinfo\" target=\"_blank\">FileInfo</a>"
   ]
  },
  {
   "cell_type": "code",
   "execution_count": 0,
   "metadata": {
    "application/vnd.databricks.v1+cell": {
     "cellMetadata": {
      "byteLimit": 2048000,
      "rowLimit": 10000
     },
     "inputWidgets": {},
     "nuid": "d84b069f-403b-4496-9197-ff88e6ae2203",
     "showTitle": false,
     "title": ""
    }
   },
   "outputs": [
    {
     "output_type": "display_data",
     "data": {
      "text/html": [
       "<style scoped>\n  .ansiout {\n    display: block;\n    unicode-bidi: embed;\n    white-space: pre-wrap;\n    word-wrap: break-word;\n    word-break: break-all;\n    font-family: \"Source Code Pro\", \"Menlo\", monospace;;\n    font-size: 13px;\n    color: #555;\n    margin-left: 4px;\n    line-height: 19px;\n  }\n</style>\n<div class=\"ansiout\">dbfs:/mnt/training/301/\ndbfs:/mnt/training/Chicago-Crimes-2018.csv\ndbfs:/mnt/training/City-Data.delta/\ndbfs:/mnt/training/City-Data.parquet/\ndbfs:/mnt/training/EDGAR-Log-20170329/\ndbfs:/mnt/training/StatLib/\ndbfs:/mnt/training/UbiqLog4UCI/\ndbfs:/mnt/training/_META/\ndbfs:/mnt/training/adventure-works/\ndbfs:/mnt/training/airbnb/\ndbfs:/mnt/training/airbnb-sf-listings.csv\ndbfs:/mnt/training/asa/\ndbfs:/mnt/training/auto-mpg.csv\ndbfs:/mnt/training/bigrams/\ndbfs:/mnt/training/bikeSharing/\ndbfs:/mnt/training/bostonhousing/\ndbfs:/mnt/training/cancer/\ndbfs:/mnt/training/chest-xray/\ndbfs:/mnt/training/countries/\ndbfs:/mnt/training/crime-data-2016/\ndbfs:/mnt/training/cybersecurity/\ndbfs:/mnt/training/data/\ndbfs:/mnt/training/data-cleansing/\ndbfs:/mnt/training/databricks-blog.json\ndbfs:/mnt/training/databricks-datasets/\ndbfs:/mnt/training/dataframes/\ndbfs:/mnt/training/day-of-week/\ndbfs:/mnt/training/definitive-guide/\ndbfs:/mnt/training/dl/\ndbfs:/mnt/training/ecommerce/\ndbfs:/mnt/training/enb/\ndbfs:/mnt/training/finance-org/\ndbfs:/mnt/training/fraud/\ndbfs:/mnt/training/gaming_data/\ndbfs:/mnt/training/global-sales/\ndbfs:/mnt/training/graphx-demo/\ndbfs:/mnt/training/healthcare/\ndbfs:/mnt/training/healthcare-org/\ndbfs:/mnt/training/initech/\ndbfs:/mnt/training/iot-devices/\ndbfs:/mnt/training/ip-geocode.delta/\ndbfs:/mnt/training/ip-geocode.parquet/\ndbfs:/mnt/training/iris/\ndbfs:/mnt/training/manufacturing-org/\ndbfs:/mnt/training/migration-capstone/\ndbfs:/mnt/training/mini_newsgroups/\ndbfs:/mnt/training/mnist/\ndbfs:/mnt/training/movie-reviews/\ndbfs:/mnt/training/movielens/\ndbfs:/mnt/training/movies/\ndbfs:/mnt/training/online_retail/\ndbfs:/mnt/training/philadelphia-crime-data-2015-ytd.csv\ndbfs:/mnt/training/power-plant/\ndbfs:/mnt/training/purchases.txt\ndbfs:/mnt/training/pv/\ndbfs:/mnt/training/retail-org/\ndbfs:/mnt/training/reviews/\ndbfs:/mnt/training/sensor-data/\ndbfs:/mnt/training/ssn/\ndbfs:/mnt/training/stopwords\ndbfs:/mnt/training/structured-streaming/\ndbfs:/mnt/training/test.log\ndbfs:/mnt/training/tom-sawyer/\ndbfs:/mnt/training/tweets.txt\ndbfs:/mnt/training/twitter/\ndbfs:/mnt/training/wash_dc_crime_incidents_2013.csv\ndbfs:/mnt/training/wash_dc_crime_incidents_2015-10-03-to-2016-10-02.csv\ndbfs:/mnt/training/weather/\ndbfs:/mnt/training/wikipedia/\ndbfs:/mnt/training/wine.parquet/\ndbfs:/mnt/training/word-game-dict.txt\ndbfs:/mnt/training/zip3state.csv\ndbfs:/mnt/training/zips.json\n--------------------------------------------------------------------------------\n</div>"
      ]
     },
     "metadata": {
      "application/vnd.databricks.v1+output": {
       "addedWidgets": {},
       "arguments": {},
       "data": "<div class=\"ansiout\">dbfs:/mnt/training/301/\ndbfs:/mnt/training/Chicago-Crimes-2018.csv\ndbfs:/mnt/training/City-Data.delta/\ndbfs:/mnt/training/City-Data.parquet/\ndbfs:/mnt/training/EDGAR-Log-20170329/\ndbfs:/mnt/training/StatLib/\ndbfs:/mnt/training/UbiqLog4UCI/\ndbfs:/mnt/training/_META/\ndbfs:/mnt/training/adventure-works/\ndbfs:/mnt/training/airbnb/\ndbfs:/mnt/training/airbnb-sf-listings.csv\ndbfs:/mnt/training/asa/\ndbfs:/mnt/training/auto-mpg.csv\ndbfs:/mnt/training/bigrams/\ndbfs:/mnt/training/bikeSharing/\ndbfs:/mnt/training/bostonhousing/\ndbfs:/mnt/training/cancer/\ndbfs:/mnt/training/chest-xray/\ndbfs:/mnt/training/countries/\ndbfs:/mnt/training/crime-data-2016/\ndbfs:/mnt/training/cybersecurity/\ndbfs:/mnt/training/data/\ndbfs:/mnt/training/data-cleansing/\ndbfs:/mnt/training/databricks-blog.json\ndbfs:/mnt/training/databricks-datasets/\ndbfs:/mnt/training/dataframes/\ndbfs:/mnt/training/day-of-week/\ndbfs:/mnt/training/definitive-guide/\ndbfs:/mnt/training/dl/\ndbfs:/mnt/training/ecommerce/\ndbfs:/mnt/training/enb/\ndbfs:/mnt/training/finance-org/\ndbfs:/mnt/training/fraud/\ndbfs:/mnt/training/gaming_data/\ndbfs:/mnt/training/global-sales/\ndbfs:/mnt/training/graphx-demo/\ndbfs:/mnt/training/healthcare/\ndbfs:/mnt/training/healthcare-org/\ndbfs:/mnt/training/initech/\ndbfs:/mnt/training/iot-devices/\ndbfs:/mnt/training/ip-geocode.delta/\ndbfs:/mnt/training/ip-geocode.parquet/\ndbfs:/mnt/training/iris/\ndbfs:/mnt/training/manufacturing-org/\ndbfs:/mnt/training/migration-capstone/\ndbfs:/mnt/training/mini_newsgroups/\ndbfs:/mnt/training/mnist/\ndbfs:/mnt/training/movie-reviews/\ndbfs:/mnt/training/movielens/\ndbfs:/mnt/training/movies/\ndbfs:/mnt/training/online_retail/\ndbfs:/mnt/training/philadelphia-crime-data-2015-ytd.csv\ndbfs:/mnt/training/power-plant/\ndbfs:/mnt/training/purchases.txt\ndbfs:/mnt/training/pv/\ndbfs:/mnt/training/retail-org/\ndbfs:/mnt/training/reviews/\ndbfs:/mnt/training/sensor-data/\ndbfs:/mnt/training/ssn/\ndbfs:/mnt/training/stopwords\ndbfs:/mnt/training/structured-streaming/\ndbfs:/mnt/training/test.log\ndbfs:/mnt/training/tom-sawyer/\ndbfs:/mnt/training/tweets.txt\ndbfs:/mnt/training/twitter/\ndbfs:/mnt/training/wash_dc_crime_incidents_2013.csv\ndbfs:/mnt/training/wash_dc_crime_incidents_2015-10-03-to-2016-10-02.csv\ndbfs:/mnt/training/weather/\ndbfs:/mnt/training/wikipedia/\ndbfs:/mnt/training/wine.parquet/\ndbfs:/mnt/training/word-game-dict.txt\ndbfs:/mnt/training/zip3state.csv\ndbfs:/mnt/training/zips.json\n--------------------------------------------------------------------------------\n</div>",
       "datasetInfos": [],
       "metadata": {},
       "removedWidgets": [],
       "type": "html"
      }
     },
     "output_type": "display_data"
    }
   ],
   "source": [
    "files = dbutils.fs.ls(\"/mnt/training/\")\n",
    "\n",
    "for fileInfo in files:\n",
    "  print(fileInfo.path)\n",
    "\n",
    "print(\"-\"*80)"
   ]
  },
  {
   "cell_type": "markdown",
   "metadata": {
    "application/vnd.databricks.v1+cell": {
     "cellMetadata": {},
     "inputWidgets": {},
     "nuid": "6042fc73-f334-4d65-b6a9-ef23265c8595",
     "showTitle": false,
     "title": ""
    }
   },
   "source": [
    "### display(..)\n",
    "\n",
    "Besides printing each item returned from `dbutils.fs.ls(..)` we can also pass that collection to another Databricks specific command called `display(..)`."
   ]
  },
  {
   "cell_type": "code",
   "execution_count": 0,
   "metadata": {
    "application/vnd.databricks.v1+cell": {
     "cellMetadata": {
      "byteLimit": 2048000,
      "rowLimit": 10000
     },
     "inputWidgets": {},
     "nuid": "2419e822-0583-47e9-9545-3b0c17c13155",
     "showTitle": false,
     "title": ""
    }
   },
   "outputs": [
    {
     "output_type": "display_data",
     "data": {
      "text/html": [
       "<style scoped>\n  .table-result-container {\n    max-height: 300px;\n    overflow: auto;\n  }\n  table, th, td {\n    border: 1px solid black;\n    border-collapse: collapse;\n  }\n  th, td {\n    padding: 5px;\n  }\n  th {\n    text-align: left;\n  }\n</style><div class='table-result-container'><table class='table-result'><thead style='background-color: white'><tr><th>path</th><th>name</th><th>size</th></tr></thead><tbody><tr><td>dbfs:/mnt/training/301/</td><td>301/</td><td>0</td></tr><tr><td>dbfs:/mnt/training/Chicago-Crimes-2018.csv</td><td>Chicago-Crimes-2018.csv</td><td>5201668</td></tr><tr><td>dbfs:/mnt/training/City-Data.delta/</td><td>City-Data.delta/</td><td>0</td></tr><tr><td>dbfs:/mnt/training/City-Data.parquet/</td><td>City-Data.parquet/</td><td>0</td></tr><tr><td>dbfs:/mnt/training/EDGAR-Log-20170329/</td><td>EDGAR-Log-20170329/</td><td>0</td></tr><tr><td>dbfs:/mnt/training/StatLib/</td><td>StatLib/</td><td>0</td></tr><tr><td>dbfs:/mnt/training/UbiqLog4UCI/</td><td>UbiqLog4UCI/</td><td>0</td></tr><tr><td>dbfs:/mnt/training/_META/</td><td>_META/</td><td>0</td></tr><tr><td>dbfs:/mnt/training/adventure-works/</td><td>adventure-works/</td><td>0</td></tr><tr><td>dbfs:/mnt/training/airbnb/</td><td>airbnb/</td><td>0</td></tr><tr><td>dbfs:/mnt/training/airbnb-sf-listings.csv</td><td>airbnb-sf-listings.csv</td><td>764121</td></tr><tr><td>dbfs:/mnt/training/asa/</td><td>asa/</td><td>0</td></tr><tr><td>dbfs:/mnt/training/auto-mpg.csv</td><td>auto-mpg.csv</td><td>18045</td></tr><tr><td>dbfs:/mnt/training/bigrams/</td><td>bigrams/</td><td>0</td></tr><tr><td>dbfs:/mnt/training/bikeSharing/</td><td>bikeSharing/</td><td>0</td></tr><tr><td>dbfs:/mnt/training/bostonhousing/</td><td>bostonhousing/</td><td>0</td></tr><tr><td>dbfs:/mnt/training/cancer/</td><td>cancer/</td><td>0</td></tr><tr><td>dbfs:/mnt/training/chest-xray/</td><td>chest-xray/</td><td>0</td></tr><tr><td>dbfs:/mnt/training/countries/</td><td>countries/</td><td>0</td></tr><tr><td>dbfs:/mnt/training/crime-data-2016/</td><td>crime-data-2016/</td><td>0</td></tr><tr><td>dbfs:/mnt/training/cybersecurity/</td><td>cybersecurity/</td><td>0</td></tr><tr><td>dbfs:/mnt/training/data/</td><td>data/</td><td>0</td></tr><tr><td>dbfs:/mnt/training/data-cleansing/</td><td>data-cleansing/</td><td>0</td></tr><tr><td>dbfs:/mnt/training/databricks-blog.json</td><td>databricks-blog.json</td><td>3052424</td></tr><tr><td>dbfs:/mnt/training/databricks-datasets/</td><td>databricks-datasets/</td><td>0</td></tr><tr><td>dbfs:/mnt/training/dataframes/</td><td>dataframes/</td><td>0</td></tr><tr><td>dbfs:/mnt/training/day-of-week/</td><td>day-of-week/</td><td>0</td></tr><tr><td>dbfs:/mnt/training/definitive-guide/</td><td>definitive-guide/</td><td>0</td></tr><tr><td>dbfs:/mnt/training/dl/</td><td>dl/</td><td>0</td></tr><tr><td>dbfs:/mnt/training/ecommerce/</td><td>ecommerce/</td><td>0</td></tr><tr><td>dbfs:/mnt/training/enb/</td><td>enb/</td><td>0</td></tr><tr><td>dbfs:/mnt/training/finance-org/</td><td>finance-org/</td><td>0</td></tr><tr><td>dbfs:/mnt/training/fraud/</td><td>fraud/</td><td>0</td></tr><tr><td>dbfs:/mnt/training/gaming_data/</td><td>gaming_data/</td><td>0</td></tr><tr><td>dbfs:/mnt/training/global-sales/</td><td>global-sales/</td><td>0</td></tr><tr><td>dbfs:/mnt/training/graphx-demo/</td><td>graphx-demo/</td><td>0</td></tr><tr><td>dbfs:/mnt/training/healthcare/</td><td>healthcare/</td><td>0</td></tr><tr><td>dbfs:/mnt/training/healthcare-org/</td><td>healthcare-org/</td><td>0</td></tr><tr><td>dbfs:/mnt/training/initech/</td><td>initech/</td><td>0</td></tr><tr><td>dbfs:/mnt/training/iot-devices/</td><td>iot-devices/</td><td>0</td></tr><tr><td>dbfs:/mnt/training/ip-geocode.delta/</td><td>ip-geocode.delta/</td><td>0</td></tr><tr><td>dbfs:/mnt/training/ip-geocode.parquet/</td><td>ip-geocode.parquet/</td><td>0</td></tr><tr><td>dbfs:/mnt/training/iris/</td><td>iris/</td><td>0</td></tr><tr><td>dbfs:/mnt/training/manufacturing-org/</td><td>manufacturing-org/</td><td>0</td></tr><tr><td>dbfs:/mnt/training/migration-capstone/</td><td>migration-capstone/</td><td>0</td></tr><tr><td>dbfs:/mnt/training/mini_newsgroups/</td><td>mini_newsgroups/</td><td>0</td></tr><tr><td>dbfs:/mnt/training/mnist/</td><td>mnist/</td><td>0</td></tr><tr><td>dbfs:/mnt/training/movie-reviews/</td><td>movie-reviews/</td><td>0</td></tr><tr><td>dbfs:/mnt/training/movielens/</td><td>movielens/</td><td>0</td></tr><tr><td>dbfs:/mnt/training/movies/</td><td>movies/</td><td>0</td></tr><tr><td>dbfs:/mnt/training/online_retail/</td><td>online_retail/</td><td>0</td></tr><tr><td>dbfs:/mnt/training/philadelphia-crime-data-2015-ytd.csv</td><td>philadelphia-crime-data-2015-ytd.csv</td><td>7469462</td></tr><tr><td>dbfs:/mnt/training/power-plant/</td><td>power-plant/</td><td>0</td></tr><tr><td>dbfs:/mnt/training/purchases.txt</td><td>purchases.txt</td><td>89437</td></tr><tr><td>dbfs:/mnt/training/pv/</td><td>pv/</td><td>0</td></tr><tr><td>dbfs:/mnt/training/retail-org/</td><td>retail-org/</td><td>0</td></tr><tr><td>dbfs:/mnt/training/reviews/</td><td>reviews/</td><td>0</td></tr><tr><td>dbfs:/mnt/training/sensor-data/</td><td>sensor-data/</td><td>0</td></tr><tr><td>dbfs:/mnt/training/ssn/</td><td>ssn/</td><td>0</td></tr><tr><td>dbfs:/mnt/training/stopwords</td><td>stopwords</td><td>2237</td></tr><tr><td>dbfs:/mnt/training/structured-streaming/</td><td>structured-streaming/</td><td>0</td></tr><tr><td>dbfs:/mnt/training/test.log</td><td>test.log</td><td>3973546</td></tr><tr><td>dbfs:/mnt/training/tom-sawyer/</td><td>tom-sawyer/</td><td>0</td></tr><tr><td>dbfs:/mnt/training/tweets.txt</td><td>tweets.txt</td><td>24665</td></tr><tr><td>dbfs:/mnt/training/twitter/</td><td>twitter/</td><td>0</td></tr><tr><td>dbfs:/mnt/training/wash_dc_crime_incidents_2013.csv</td><td>wash_dc_crime_incidents_2013.csv</td><td>7978101</td></tr><tr><td>dbfs:/mnt/training/wash_dc_crime_incidents_2015-10-03-to-2016-10-02.csv</td><td>wash_dc_crime_incidents_2015-10-03-to-2016-10-02.csv</td><td>8627868</td></tr><tr><td>dbfs:/mnt/training/weather/</td><td>weather/</td><td>0</td></tr><tr><td>dbfs:/mnt/training/wikipedia/</td><td>wikipedia/</td><td>0</td></tr><tr><td>dbfs:/mnt/training/wine.parquet/</td><td>wine.parquet/</td><td>0</td></tr><tr><td>dbfs:/mnt/training/word-game-dict.txt</td><td>word-game-dict.txt</td><td>1923517</td></tr><tr><td>dbfs:/mnt/training/zip3state.csv</td><td>zip3state.csv</td><td>1030</td></tr><tr><td>dbfs:/mnt/training/zips.json</td><td>zips.json</td><td>3182409</td></tr></tbody></table></div>"
      ]
     },
     "metadata": {
      "application/vnd.databricks.v1+output": {
       "addedWidgets": {},
       "aggData": [],
       "aggError": "",
       "aggOverflow": false,
       "aggSchema": [],
       "aggSeriesLimitReached": false,
       "aggType": "",
       "arguments": {},
       "columnCustomDisplayInfos": {},
       "data": [
        [
         "dbfs:/mnt/training/301/",
         "301/",
         0
        ],
        [
         "dbfs:/mnt/training/Chicago-Crimes-2018.csv",
         "Chicago-Crimes-2018.csv",
         5201668
        ],
        [
         "dbfs:/mnt/training/City-Data.delta/",
         "City-Data.delta/",
         0
        ],
        [
         "dbfs:/mnt/training/City-Data.parquet/",
         "City-Data.parquet/",
         0
        ],
        [
         "dbfs:/mnt/training/EDGAR-Log-20170329/",
         "EDGAR-Log-20170329/",
         0
        ],
        [
         "dbfs:/mnt/training/StatLib/",
         "StatLib/",
         0
        ],
        [
         "dbfs:/mnt/training/UbiqLog4UCI/",
         "UbiqLog4UCI/",
         0
        ],
        [
         "dbfs:/mnt/training/_META/",
         "_META/",
         0
        ],
        [
         "dbfs:/mnt/training/adventure-works/",
         "adventure-works/",
         0
        ],
        [
         "dbfs:/mnt/training/airbnb/",
         "airbnb/",
         0
        ],
        [
         "dbfs:/mnt/training/airbnb-sf-listings.csv",
         "airbnb-sf-listings.csv",
         764121
        ],
        [
         "dbfs:/mnt/training/asa/",
         "asa/",
         0
        ],
        [
         "dbfs:/mnt/training/auto-mpg.csv",
         "auto-mpg.csv",
         18045
        ],
        [
         "dbfs:/mnt/training/bigrams/",
         "bigrams/",
         0
        ],
        [
         "dbfs:/mnt/training/bikeSharing/",
         "bikeSharing/",
         0
        ],
        [
         "dbfs:/mnt/training/bostonhousing/",
         "bostonhousing/",
         0
        ],
        [
         "dbfs:/mnt/training/cancer/",
         "cancer/",
         0
        ],
        [
         "dbfs:/mnt/training/chest-xray/",
         "chest-xray/",
         0
        ],
        [
         "dbfs:/mnt/training/countries/",
         "countries/",
         0
        ],
        [
         "dbfs:/mnt/training/crime-data-2016/",
         "crime-data-2016/",
         0
        ],
        [
         "dbfs:/mnt/training/cybersecurity/",
         "cybersecurity/",
         0
        ],
        [
         "dbfs:/mnt/training/data/",
         "data/",
         0
        ],
        [
         "dbfs:/mnt/training/data-cleansing/",
         "data-cleansing/",
         0
        ],
        [
         "dbfs:/mnt/training/databricks-blog.json",
         "databricks-blog.json",
         3052424
        ],
        [
         "dbfs:/mnt/training/databricks-datasets/",
         "databricks-datasets/",
         0
        ],
        [
         "dbfs:/mnt/training/dataframes/",
         "dataframes/",
         0
        ],
        [
         "dbfs:/mnt/training/day-of-week/",
         "day-of-week/",
         0
        ],
        [
         "dbfs:/mnt/training/definitive-guide/",
         "definitive-guide/",
         0
        ],
        [
         "dbfs:/mnt/training/dl/",
         "dl/",
         0
        ],
        [
         "dbfs:/mnt/training/ecommerce/",
         "ecommerce/",
         0
        ],
        [
         "dbfs:/mnt/training/enb/",
         "enb/",
         0
        ],
        [
         "dbfs:/mnt/training/finance-org/",
         "finance-org/",
         0
        ],
        [
         "dbfs:/mnt/training/fraud/",
         "fraud/",
         0
        ],
        [
         "dbfs:/mnt/training/gaming_data/",
         "gaming_data/",
         0
        ],
        [
         "dbfs:/mnt/training/global-sales/",
         "global-sales/",
         0
        ],
        [
         "dbfs:/mnt/training/graphx-demo/",
         "graphx-demo/",
         0
        ],
        [
         "dbfs:/mnt/training/healthcare/",
         "healthcare/",
         0
        ],
        [
         "dbfs:/mnt/training/healthcare-org/",
         "healthcare-org/",
         0
        ],
        [
         "dbfs:/mnt/training/initech/",
         "initech/",
         0
        ],
        [
         "dbfs:/mnt/training/iot-devices/",
         "iot-devices/",
         0
        ],
        [
         "dbfs:/mnt/training/ip-geocode.delta/",
         "ip-geocode.delta/",
         0
        ],
        [
         "dbfs:/mnt/training/ip-geocode.parquet/",
         "ip-geocode.parquet/",
         0
        ],
        [
         "dbfs:/mnt/training/iris/",
         "iris/",
         0
        ],
        [
         "dbfs:/mnt/training/manufacturing-org/",
         "manufacturing-org/",
         0
        ],
        [
         "dbfs:/mnt/training/migration-capstone/",
         "migration-capstone/",
         0
        ],
        [
         "dbfs:/mnt/training/mini_newsgroups/",
         "mini_newsgroups/",
         0
        ],
        [
         "dbfs:/mnt/training/mnist/",
         "mnist/",
         0
        ],
        [
         "dbfs:/mnt/training/movie-reviews/",
         "movie-reviews/",
         0
        ],
        [
         "dbfs:/mnt/training/movielens/",
         "movielens/",
         0
        ],
        [
         "dbfs:/mnt/training/movies/",
         "movies/",
         0
        ],
        [
         "dbfs:/mnt/training/online_retail/",
         "online_retail/",
         0
        ],
        [
         "dbfs:/mnt/training/philadelphia-crime-data-2015-ytd.csv",
         "philadelphia-crime-data-2015-ytd.csv",
         7469462
        ],
        [
         "dbfs:/mnt/training/power-plant/",
         "power-plant/",
         0
        ],
        [
         "dbfs:/mnt/training/purchases.txt",
         "purchases.txt",
         89437
        ],
        [
         "dbfs:/mnt/training/pv/",
         "pv/",
         0
        ],
        [
         "dbfs:/mnt/training/retail-org/",
         "retail-org/",
         0
        ],
        [
         "dbfs:/mnt/training/reviews/",
         "reviews/",
         0
        ],
        [
         "dbfs:/mnt/training/sensor-data/",
         "sensor-data/",
         0
        ],
        [
         "dbfs:/mnt/training/ssn/",
         "ssn/",
         0
        ],
        [
         "dbfs:/mnt/training/stopwords",
         "stopwords",
         2237
        ],
        [
         "dbfs:/mnt/training/structured-streaming/",
         "structured-streaming/",
         0
        ],
        [
         "dbfs:/mnt/training/test.log",
         "test.log",
         3973546
        ],
        [
         "dbfs:/mnt/training/tom-sawyer/",
         "tom-sawyer/",
         0
        ],
        [
         "dbfs:/mnt/training/tweets.txt",
         "tweets.txt",
         24665
        ],
        [
         "dbfs:/mnt/training/twitter/",
         "twitter/",
         0
        ],
        [
         "dbfs:/mnt/training/wash_dc_crime_incidents_2013.csv",
         "wash_dc_crime_incidents_2013.csv",
         7978101
        ],
        [
         "dbfs:/mnt/training/wash_dc_crime_incidents_2015-10-03-to-2016-10-02.csv",
         "wash_dc_crime_incidents_2015-10-03-to-2016-10-02.csv",
         8627868
        ],
        [
         "dbfs:/mnt/training/weather/",
         "weather/",
         0
        ],
        [
         "dbfs:/mnt/training/wikipedia/",
         "wikipedia/",
         0
        ],
        [
         "dbfs:/mnt/training/wine.parquet/",
         "wine.parquet/",
         0
        ],
        [
         "dbfs:/mnt/training/word-game-dict.txt",
         "word-game-dict.txt",
         1923517
        ],
        [
         "dbfs:/mnt/training/zip3state.csv",
         "zip3state.csv",
         1030
        ],
        [
         "dbfs:/mnt/training/zips.json",
         "zips.json",
         3182409
        ]
       ],
       "datasetInfos": [],
       "dbfsResultPath": null,
       "isJsonSchema": true,
       "metadata": {},
       "overflow": false,
       "plotOptions": {
        "customPlotOptions": {},
        "displayType": "table",
        "pivotAggregation": null,
        "pivotColumns": null,
        "xColumns": null,
        "yColumns": null
       },
       "removedWidgets": [],
       "schema": [
        {
         "metadata": "{}",
         "name": "path",
         "type": "\"string\""
        },
        {
         "metadata": "{}",
         "name": "name",
         "type": "\"string\""
        },
        {
         "metadata": "{}",
         "name": "size",
         "type": "\"long\""
        }
       ],
       "type": "table"
      }
     },
     "output_type": "display_data"
    }
   ],
   "source": [
    "files = dbutils.fs.ls(\"/mnt/training/\")\n",
    "\n",
    "display(files)"
   ]
  },
  {
   "cell_type": "markdown",
   "metadata": {
    "application/vnd.databricks.v1+cell": {
     "cellMetadata": {},
     "inputWidgets": {},
     "nuid": "47482a03-99e2-4d69-8864-08c8fafd5c78",
     "showTitle": false,
     "title": ""
    }
   },
   "source": [
    "The `display(..)` command is overloaded with a lot of other capabilities:\n",
    "* Presents up to 1000 records.\n",
    "* Exporting data as CSV.\n",
    "* Rendering a multitude of different graphs.\n",
    "* Rendering geo-located data on a world map.\n",
    "\n",
    "And as we will see later, it is also an excellent tool for previewing our data in a notebook."
   ]
  },
  {
   "cell_type": "markdown",
   "metadata": {
    "application/vnd.databricks.v1+cell": {
     "cellMetadata": {},
     "inputWidgets": {},
     "nuid": "c6bb48a3-c442-442c-a0df-8d296f4befc8",
     "showTitle": false,
     "title": ""
    }
   },
   "source": [
    "### Magic Command: &percnt;fs\n",
    "\n",
    "There is at least one more trick for looking at the DBFS.\n",
    "\n",
    "It is a wrapper around `dbutils.fs` and it is the Magic Command known as **&percnt;fs**.\n",
    "\n",
    "The following call is equivalent to the previous call, `display( dbutils.fs.ls(\"/mnt/training\") )` - there is no real difference between the two."
   ]
  },
  {
   "cell_type": "code",
   "execution_count": 0,
   "metadata": {
    "application/vnd.databricks.v1+cell": {
     "cellMetadata": {
      "byteLimit": 2048000,
      "rowLimit": 10000
     },
     "inputWidgets": {},
     "nuid": "62a40304-8961-4acc-8ad8-fe338f0ff5a2",
     "showTitle": false,
     "title": ""
    }
   },
   "outputs": [
    {
     "output_type": "display_data",
     "data": {
      "text/html": [
       "<style scoped>\n  .table-result-container {\n    max-height: 300px;\n    overflow: auto;\n  }\n  table, th, td {\n    border: 1px solid black;\n    border-collapse: collapse;\n  }\n  th, td {\n    padding: 5px;\n  }\n  th {\n    text-align: left;\n  }\n</style><div class='table-result-container'><table class='table-result'><thead style='background-color: white'><tr><th>path</th><th>name</th><th>size</th></tr></thead><tbody><tr><td>dbfs:/mnt/training/301/</td><td>301/</td><td>0</td></tr><tr><td>dbfs:/mnt/training/Chicago-Crimes-2018.csv</td><td>Chicago-Crimes-2018.csv</td><td>5201668</td></tr><tr><td>dbfs:/mnt/training/City-Data.delta/</td><td>City-Data.delta/</td><td>0</td></tr><tr><td>dbfs:/mnt/training/City-Data.parquet/</td><td>City-Data.parquet/</td><td>0</td></tr><tr><td>dbfs:/mnt/training/EDGAR-Log-20170329/</td><td>EDGAR-Log-20170329/</td><td>0</td></tr><tr><td>dbfs:/mnt/training/StatLib/</td><td>StatLib/</td><td>0</td></tr><tr><td>dbfs:/mnt/training/UbiqLog4UCI/</td><td>UbiqLog4UCI/</td><td>0</td></tr><tr><td>dbfs:/mnt/training/_META/</td><td>_META/</td><td>0</td></tr><tr><td>dbfs:/mnt/training/adventure-works/</td><td>adventure-works/</td><td>0</td></tr><tr><td>dbfs:/mnt/training/airbnb/</td><td>airbnb/</td><td>0</td></tr><tr><td>dbfs:/mnt/training/airbnb-sf-listings.csv</td><td>airbnb-sf-listings.csv</td><td>764121</td></tr><tr><td>dbfs:/mnt/training/asa/</td><td>asa/</td><td>0</td></tr><tr><td>dbfs:/mnt/training/auto-mpg.csv</td><td>auto-mpg.csv</td><td>18045</td></tr><tr><td>dbfs:/mnt/training/bigrams/</td><td>bigrams/</td><td>0</td></tr><tr><td>dbfs:/mnt/training/bikeSharing/</td><td>bikeSharing/</td><td>0</td></tr><tr><td>dbfs:/mnt/training/bostonhousing/</td><td>bostonhousing/</td><td>0</td></tr><tr><td>dbfs:/mnt/training/cancer/</td><td>cancer/</td><td>0</td></tr><tr><td>dbfs:/mnt/training/chest-xray/</td><td>chest-xray/</td><td>0</td></tr><tr><td>dbfs:/mnt/training/countries/</td><td>countries/</td><td>0</td></tr><tr><td>dbfs:/mnt/training/crime-data-2016/</td><td>crime-data-2016/</td><td>0</td></tr><tr><td>dbfs:/mnt/training/cybersecurity/</td><td>cybersecurity/</td><td>0</td></tr><tr><td>dbfs:/mnt/training/data/</td><td>data/</td><td>0</td></tr><tr><td>dbfs:/mnt/training/data-cleansing/</td><td>data-cleansing/</td><td>0</td></tr><tr><td>dbfs:/mnt/training/databricks-blog.json</td><td>databricks-blog.json</td><td>3052424</td></tr><tr><td>dbfs:/mnt/training/databricks-datasets/</td><td>databricks-datasets/</td><td>0</td></tr><tr><td>dbfs:/mnt/training/dataframes/</td><td>dataframes/</td><td>0</td></tr><tr><td>dbfs:/mnt/training/day-of-week/</td><td>day-of-week/</td><td>0</td></tr><tr><td>dbfs:/mnt/training/definitive-guide/</td><td>definitive-guide/</td><td>0</td></tr><tr><td>dbfs:/mnt/training/dl/</td><td>dl/</td><td>0</td></tr><tr><td>dbfs:/mnt/training/ecommerce/</td><td>ecommerce/</td><td>0</td></tr><tr><td>dbfs:/mnt/training/enb/</td><td>enb/</td><td>0</td></tr><tr><td>dbfs:/mnt/training/finance-org/</td><td>finance-org/</td><td>0</td></tr><tr><td>dbfs:/mnt/training/fraud/</td><td>fraud/</td><td>0</td></tr><tr><td>dbfs:/mnt/training/gaming_data/</td><td>gaming_data/</td><td>0</td></tr><tr><td>dbfs:/mnt/training/global-sales/</td><td>global-sales/</td><td>0</td></tr><tr><td>dbfs:/mnt/training/graphx-demo/</td><td>graphx-demo/</td><td>0</td></tr><tr><td>dbfs:/mnt/training/healthcare/</td><td>healthcare/</td><td>0</td></tr><tr><td>dbfs:/mnt/training/healthcare-org/</td><td>healthcare-org/</td><td>0</td></tr><tr><td>dbfs:/mnt/training/initech/</td><td>initech/</td><td>0</td></tr><tr><td>dbfs:/mnt/training/iot-devices/</td><td>iot-devices/</td><td>0</td></tr><tr><td>dbfs:/mnt/training/ip-geocode.delta/</td><td>ip-geocode.delta/</td><td>0</td></tr><tr><td>dbfs:/mnt/training/ip-geocode.parquet/</td><td>ip-geocode.parquet/</td><td>0</td></tr><tr><td>dbfs:/mnt/training/iris/</td><td>iris/</td><td>0</td></tr><tr><td>dbfs:/mnt/training/manufacturing-org/</td><td>manufacturing-org/</td><td>0</td></tr><tr><td>dbfs:/mnt/training/migration-capstone/</td><td>migration-capstone/</td><td>0</td></tr><tr><td>dbfs:/mnt/training/mini_newsgroups/</td><td>mini_newsgroups/</td><td>0</td></tr><tr><td>dbfs:/mnt/training/mnist/</td><td>mnist/</td><td>0</td></tr><tr><td>dbfs:/mnt/training/movie-reviews/</td><td>movie-reviews/</td><td>0</td></tr><tr><td>dbfs:/mnt/training/movielens/</td><td>movielens/</td><td>0</td></tr><tr><td>dbfs:/mnt/training/movies/</td><td>movies/</td><td>0</td></tr><tr><td>dbfs:/mnt/training/online_retail/</td><td>online_retail/</td><td>0</td></tr><tr><td>dbfs:/mnt/training/philadelphia-crime-data-2015-ytd.csv</td><td>philadelphia-crime-data-2015-ytd.csv</td><td>7469462</td></tr><tr><td>dbfs:/mnt/training/power-plant/</td><td>power-plant/</td><td>0</td></tr><tr><td>dbfs:/mnt/training/purchases.txt</td><td>purchases.txt</td><td>89437</td></tr><tr><td>dbfs:/mnt/training/pv/</td><td>pv/</td><td>0</td></tr><tr><td>dbfs:/mnt/training/retail-org/</td><td>retail-org/</td><td>0</td></tr><tr><td>dbfs:/mnt/training/reviews/</td><td>reviews/</td><td>0</td></tr><tr><td>dbfs:/mnt/training/sensor-data/</td><td>sensor-data/</td><td>0</td></tr><tr><td>dbfs:/mnt/training/ssn/</td><td>ssn/</td><td>0</td></tr><tr><td>dbfs:/mnt/training/stopwords</td><td>stopwords</td><td>2237</td></tr><tr><td>dbfs:/mnt/training/structured-streaming/</td><td>structured-streaming/</td><td>0</td></tr><tr><td>dbfs:/mnt/training/test.log</td><td>test.log</td><td>3973546</td></tr><tr><td>dbfs:/mnt/training/tom-sawyer/</td><td>tom-sawyer/</td><td>0</td></tr><tr><td>dbfs:/mnt/training/tweets.txt</td><td>tweets.txt</td><td>24665</td></tr><tr><td>dbfs:/mnt/training/twitter/</td><td>twitter/</td><td>0</td></tr><tr><td>dbfs:/mnt/training/wash_dc_crime_incidents_2013.csv</td><td>wash_dc_crime_incidents_2013.csv</td><td>7978101</td></tr><tr><td>dbfs:/mnt/training/wash_dc_crime_incidents_2015-10-03-to-2016-10-02.csv</td><td>wash_dc_crime_incidents_2015-10-03-to-2016-10-02.csv</td><td>8627868</td></tr><tr><td>dbfs:/mnt/training/weather/</td><td>weather/</td><td>0</td></tr><tr><td>dbfs:/mnt/training/wikipedia/</td><td>wikipedia/</td><td>0</td></tr><tr><td>dbfs:/mnt/training/wine.parquet/</td><td>wine.parquet/</td><td>0</td></tr><tr><td>dbfs:/mnt/training/word-game-dict.txt</td><td>word-game-dict.txt</td><td>1923517</td></tr><tr><td>dbfs:/mnt/training/zip3state.csv</td><td>zip3state.csv</td><td>1030</td></tr><tr><td>dbfs:/mnt/training/zips.json</td><td>zips.json</td><td>3182409</td></tr></tbody></table></div>"
      ]
     },
     "metadata": {
      "application/vnd.databricks.v1+output": {
       "addedWidgets": {},
       "aggData": [],
       "aggError": "",
       "aggOverflow": false,
       "aggSchema": [],
       "aggSeriesLimitReached": false,
       "aggType": "",
       "arguments": {},
       "columnCustomDisplayInfos": {},
       "data": [
        [
         "dbfs:/mnt/training/301/",
         "301/",
         0
        ],
        [
         "dbfs:/mnt/training/Chicago-Crimes-2018.csv",
         "Chicago-Crimes-2018.csv",
         5201668
        ],
        [
         "dbfs:/mnt/training/City-Data.delta/",
         "City-Data.delta/",
         0
        ],
        [
         "dbfs:/mnt/training/City-Data.parquet/",
         "City-Data.parquet/",
         0
        ],
        [
         "dbfs:/mnt/training/EDGAR-Log-20170329/",
         "EDGAR-Log-20170329/",
         0
        ],
        [
         "dbfs:/mnt/training/StatLib/",
         "StatLib/",
         0
        ],
        [
         "dbfs:/mnt/training/UbiqLog4UCI/",
         "UbiqLog4UCI/",
         0
        ],
        [
         "dbfs:/mnt/training/_META/",
         "_META/",
         0
        ],
        [
         "dbfs:/mnt/training/adventure-works/",
         "adventure-works/",
         0
        ],
        [
         "dbfs:/mnt/training/airbnb/",
         "airbnb/",
         0
        ],
        [
         "dbfs:/mnt/training/airbnb-sf-listings.csv",
         "airbnb-sf-listings.csv",
         764121
        ],
        [
         "dbfs:/mnt/training/asa/",
         "asa/",
         0
        ],
        [
         "dbfs:/mnt/training/auto-mpg.csv",
         "auto-mpg.csv",
         18045
        ],
        [
         "dbfs:/mnt/training/bigrams/",
         "bigrams/",
         0
        ],
        [
         "dbfs:/mnt/training/bikeSharing/",
         "bikeSharing/",
         0
        ],
        [
         "dbfs:/mnt/training/bostonhousing/",
         "bostonhousing/",
         0
        ],
        [
         "dbfs:/mnt/training/cancer/",
         "cancer/",
         0
        ],
        [
         "dbfs:/mnt/training/chest-xray/",
         "chest-xray/",
         0
        ],
        [
         "dbfs:/mnt/training/countries/",
         "countries/",
         0
        ],
        [
         "dbfs:/mnt/training/crime-data-2016/",
         "crime-data-2016/",
         0
        ],
        [
         "dbfs:/mnt/training/cybersecurity/",
         "cybersecurity/",
         0
        ],
        [
         "dbfs:/mnt/training/data/",
         "data/",
         0
        ],
        [
         "dbfs:/mnt/training/data-cleansing/",
         "data-cleansing/",
         0
        ],
        [
         "dbfs:/mnt/training/databricks-blog.json",
         "databricks-blog.json",
         3052424
        ],
        [
         "dbfs:/mnt/training/databricks-datasets/",
         "databricks-datasets/",
         0
        ],
        [
         "dbfs:/mnt/training/dataframes/",
         "dataframes/",
         0
        ],
        [
         "dbfs:/mnt/training/day-of-week/",
         "day-of-week/",
         0
        ],
        [
         "dbfs:/mnt/training/definitive-guide/",
         "definitive-guide/",
         0
        ],
        [
         "dbfs:/mnt/training/dl/",
         "dl/",
         0
        ],
        [
         "dbfs:/mnt/training/ecommerce/",
         "ecommerce/",
         0
        ],
        [
         "dbfs:/mnt/training/enb/",
         "enb/",
         0
        ],
        [
         "dbfs:/mnt/training/finance-org/",
         "finance-org/",
         0
        ],
        [
         "dbfs:/mnt/training/fraud/",
         "fraud/",
         0
        ],
        [
         "dbfs:/mnt/training/gaming_data/",
         "gaming_data/",
         0
        ],
        [
         "dbfs:/mnt/training/global-sales/",
         "global-sales/",
         0
        ],
        [
         "dbfs:/mnt/training/graphx-demo/",
         "graphx-demo/",
         0
        ],
        [
         "dbfs:/mnt/training/healthcare/",
         "healthcare/",
         0
        ],
        [
         "dbfs:/mnt/training/healthcare-org/",
         "healthcare-org/",
         0
        ],
        [
         "dbfs:/mnt/training/initech/",
         "initech/",
         0
        ],
        [
         "dbfs:/mnt/training/iot-devices/",
         "iot-devices/",
         0
        ],
        [
         "dbfs:/mnt/training/ip-geocode.delta/",
         "ip-geocode.delta/",
         0
        ],
        [
         "dbfs:/mnt/training/ip-geocode.parquet/",
         "ip-geocode.parquet/",
         0
        ],
        [
         "dbfs:/mnt/training/iris/",
         "iris/",
         0
        ],
        [
         "dbfs:/mnt/training/manufacturing-org/",
         "manufacturing-org/",
         0
        ],
        [
         "dbfs:/mnt/training/migration-capstone/",
         "migration-capstone/",
         0
        ],
        [
         "dbfs:/mnt/training/mini_newsgroups/",
         "mini_newsgroups/",
         0
        ],
        [
         "dbfs:/mnt/training/mnist/",
         "mnist/",
         0
        ],
        [
         "dbfs:/mnt/training/movie-reviews/",
         "movie-reviews/",
         0
        ],
        [
         "dbfs:/mnt/training/movielens/",
         "movielens/",
         0
        ],
        [
         "dbfs:/mnt/training/movies/",
         "movies/",
         0
        ],
        [
         "dbfs:/mnt/training/online_retail/",
         "online_retail/",
         0
        ],
        [
         "dbfs:/mnt/training/philadelphia-crime-data-2015-ytd.csv",
         "philadelphia-crime-data-2015-ytd.csv",
         7469462
        ],
        [
         "dbfs:/mnt/training/power-plant/",
         "power-plant/",
         0
        ],
        [
         "dbfs:/mnt/training/purchases.txt",
         "purchases.txt",
         89437
        ],
        [
         "dbfs:/mnt/training/pv/",
         "pv/",
         0
        ],
        [
         "dbfs:/mnt/training/retail-org/",
         "retail-org/",
         0
        ],
        [
         "dbfs:/mnt/training/reviews/",
         "reviews/",
         0
        ],
        [
         "dbfs:/mnt/training/sensor-data/",
         "sensor-data/",
         0
        ],
        [
         "dbfs:/mnt/training/ssn/",
         "ssn/",
         0
        ],
        [
         "dbfs:/mnt/training/stopwords",
         "stopwords",
         2237
        ],
        [
         "dbfs:/mnt/training/structured-streaming/",
         "structured-streaming/",
         0
        ],
        [
         "dbfs:/mnt/training/test.log",
         "test.log",
         3973546
        ],
        [
         "dbfs:/mnt/training/tom-sawyer/",
         "tom-sawyer/",
         0
        ],
        [
         "dbfs:/mnt/training/tweets.txt",
         "tweets.txt",
         24665
        ],
        [
         "dbfs:/mnt/training/twitter/",
         "twitter/",
         0
        ],
        [
         "dbfs:/mnt/training/wash_dc_crime_incidents_2013.csv",
         "wash_dc_crime_incidents_2013.csv",
         7978101
        ],
        [
         "dbfs:/mnt/training/wash_dc_crime_incidents_2015-10-03-to-2016-10-02.csv",
         "wash_dc_crime_incidents_2015-10-03-to-2016-10-02.csv",
         8627868
        ],
        [
         "dbfs:/mnt/training/weather/",
         "weather/",
         0
        ],
        [
         "dbfs:/mnt/training/wikipedia/",
         "wikipedia/",
         0
        ],
        [
         "dbfs:/mnt/training/wine.parquet/",
         "wine.parquet/",
         0
        ],
        [
         "dbfs:/mnt/training/word-game-dict.txt",
         "word-game-dict.txt",
         1923517
        ],
        [
         "dbfs:/mnt/training/zip3state.csv",
         "zip3state.csv",
         1030
        ],
        [
         "dbfs:/mnt/training/zips.json",
         "zips.json",
         3182409
        ]
       ],
       "datasetInfos": [],
       "dbfsResultPath": null,
       "isJsonSchema": true,
       "metadata": {},
       "overflow": false,
       "plotOptions": {
        "customPlotOptions": {},
        "displayType": "table",
        "pivotAggregation": null,
        "pivotColumns": null,
        "xColumns": null,
        "yColumns": null
       },
       "removedWidgets": [],
       "schema": [
        {
         "metadata": "{}",
         "name": "path",
         "type": "\"string\""
        },
        {
         "metadata": "{}",
         "name": "name",
         "type": "\"string\""
        },
        {
         "metadata": "{}",
         "name": "size",
         "type": "\"long\""
        }
       ],
       "type": "table"
      }
     },
     "output_type": "display_data"
    }
   ],
   "source": [
    "%fs ls /mnt/training"
   ]
  },
  {
   "cell_type": "code",
   "execution_count": 0,
   "metadata": {
    "application/vnd.databricks.v1+cell": {
     "cellMetadata": {
      "byteLimit": 2048000,
      "rowLimit": 10000
     },
     "inputWidgets": {},
     "nuid": "2cc05d88-4ae3-4011-ad22-e4fd48c6d99e",
     "showTitle": false,
     "title": ""
    }
   },
   "outputs": [
    {
     "output_type": "display_data",
     "data": {
      "text/html": [
       "<style scoped>\n  .ansiout {\n    display: block;\n    unicode-bidi: embed;\n    white-space: pre-wrap;\n    word-wrap: break-word;\n    word-break: break-all;\n    font-family: \"Source Code Pro\", \"Menlo\", monospace;;\n    font-size: 13px;\n    color: #555;\n    margin-left: 4px;\n    line-height: 19px;\n  }\n</style>\n<div class=\"ansiout\">[Truncated to first 65536 bytes]\nmovieId,title,genres\r\n1,Toy Story (1995),Adventure|Animation|Children|Comedy|Fantasy\r\n2,Jumanji (1995),Adventure|Children|Fantasy\r\n3,Grumpier Old Men (1995),Comedy|Romance\r\n4,Waiting to Exhale (1995),Comedy|Drama|Romance\r\n5,Father of the Bride Part II (1995),Comedy\r\n6,Heat (1995),Action|Crime|Thriller\r\n7,Sabrina (1995),Comedy|Romance\r\n8,Tom and Huck (1995),Adventure|Children\r\n9,Sudden Death (1995),Action\r\n10,GoldenEye (1995),Action|Adventure|Thriller\r\n11,&quot;American President, The (1995)&quot;,Comedy|Drama|Romance\r\n12,Dracula: Dead and Loving It (1995),Comedy|Horror\r\n13,Balto (1995),Adventure|Animation|Children\r\n14,Nixon (1995),Drama\r\n15,Cutthroat Island (1995),Action|Adventure|Romance\r\n16,Casino (1995),Crime|Drama\r\n17,Sense and Sensibility (1995),Drama|Romance\r\n18,Four Rooms (1995),Comedy\r\n19,Ace Ventura: When Nature Calls (1995),Comedy\r\n20,Money Train (1995),Action|Comedy|Crime|Drama|Thriller\r\n21,Get Shorty (1995),Comedy|Crime|Thriller\r\n22,Copycat (1995),Crime|Drama|Horror|Mystery|Thriller\r\n23,Assassins (1995),Action|Crime|Thriller\r\n24,Powder (1995),Drama|Sci-Fi\r\n25,Leaving Las Vegas (1995),Drama|Romance\r\n26,Othello (1995),Drama\r\n27,Now and Then (1995),Children|Drama\r\n28,Persuasion (1995),Drama|Romance\r\n29,&quot;City of Lost Children, The (Cité des enfants perdus, La) (1995)&quot;,Adventure|Drama|Fantasy|Mystery|Sci-Fi\r\n30,Shanghai Triad (Yao a yao yao dao waipo qiao) (1995),Crime|Drama\r\n31,Dangerous Minds (1995),Drama\r\n32,Twelve Monkeys (a.k.a. 12 Monkeys) (1995),Mystery|Sci-Fi|Thriller\r\n33,Wings of Courage (1995),Adventure|Romance|IMAX\r\n34,Babe (1995),Children|Drama\r\n35,Carrington (1995),Drama|Romance\r\n36,Dead Man Walking (1995),Crime|Drama\r\n37,Across the Sea of Time (1995),Documentary|IMAX\r\n38,It Takes Two (1995),Children|Comedy\r\n39,Clueless (1995),Comedy|Romance\r\n40,&quot;Cry, the Beloved Country (1995)&quot;,Drama\r\n41,Richard III (1995),Drama|War\r\n42,Dead Presidents (1995),Action|Crime|Drama\r\n43,Restoration (1995),Drama\r\n44,Mortal Kombat (1995),Action|Adventure|Fantasy\r\n45,To Die For (1995),Comedy|Drama|Thriller\r\n46,How to Make an American Quilt (1995),Drama|Romance\r\n47,Seven (a.k.a. Se7en) (1995),Mystery|Thriller\r\n48,Pocahontas (1995),Animation|Children|Drama|Musical|Romance\r\n49,When Night Is Falling (1995),Drama|Romance\r\n50,&quot;Usual Suspects, The (1995)&quot;,Crime|Mystery|Thriller\r\n51,Guardian Angel (1994),Action|Drama|Thriller\r\n52,Mighty Aphrodite (1995),Comedy|Drama|Romance\r\n53,Lamerica (1994),Adventure|Drama\r\n54,&quot;Big Green, The (1995)&quot;,Children|Comedy\r\n55,Georgia (1995),Drama\r\n56,Kids of the Round Table (1995),Adventure|Children|Fantasy\r\n57,Home for the Holidays (1995),Drama\r\n58,&quot;Postman, The (Postino, Il) (1994)&quot;,Comedy|Drama|Romance\r\n59,&quot;Confessional, The (Confessionnal, Le) (1995)&quot;,Drama|Mystery\r\n60,&quot;Indian in the Cupboard, The (1995)&quot;,Adventure|Children|Fantasy\r\n61,Eye for an Eye (1996),Drama|Thriller\r\n62,Mr. Holland's Opus (1995),Drama\r\n63,Don't Be a Menace to South Central While Drinking Your Juice in the Hood (1996),Comedy|Crime\r\n64,Two if by Sea (1996),Comedy|Romance\r\n65,Bio-Dome (1996),Comedy\r\n66,Lawnmower Man 2: Beyond Cyberspace (1996),Action|Sci-Fi|Thriller\r\n67,Two Bits (1995),Drama\r\n68,French Twist (Gazon maudit) (1995),Comedy|Romance\r\n69,Friday (1995),Comedy\r\n70,From Dusk Till Dawn (1996),Action|Comedy|Horror|Thriller\r\n71,Fair Game (1995),Action\r\n72,Kicking and Screaming (1995),Comedy|Drama\r\n73,&quot;Misérables, Les (1995)&quot;,Drama|War\r\n74,Bed of Roses (1996),Drama|Romance\r\n75,Big Bully (1996),Comedy|Drama\r\n76,Screamers (1995),Action|Sci-Fi|Thriller\r\n77,Nico Icon (1995),Documentary\r\n78,&quot;Crossing Guard, The (1995)&quot;,Action|Crime|Drama|Thriller\r\n79,&quot;Juror, The (1996)&quot;,Drama|Thriller\r\n80,&quot;White Balloon, The (Badkonake sefid) (1995)&quot;,Children|Drama\r\n81,Things to Do in Denver When You're Dead (1995),Crime|Drama|Romance\r\n82,Antonia's Line (Antonia) (1995),Comedy|Drama\r\n83,Once Upon a Time... When We Were Colored (1995),Drama|Romance\r\n84,Last Summer in the Hamptons (1995),Comedy|Drama\r\n85,Angels and Insects (1995),Drama|Romance\r\n86,White Squall (1996),Action|Adventure|Drama\r\n87,Dunston Checks In (1996),Children|Comedy\r\n88,Black Sheep (1996),Comedy\r\n89,Nick of Time (1995),Action|Thriller\r\n90,&quot;Journey of August King, The (1995)&quot;,Drama\r\n92,Mary Reilly (1996),Drama|Horror|Thriller\r\n93,Vampire in Brooklyn (1995),Comedy|Horror|Romance\r\n94,Beautiful Girls (1996),Comedy|Drama|Romance\r\n95,Broken Arrow (1996),Action|Adventure|Thriller\r\n96,In the Bleak Midwinter (1995),Comedy|Drama\r\n97,&quot;Hate (Haine, La) (1995)&quot;,Crime|Drama\r\n98,Shopping (1994),Action|Thriller\r\n99,Heidi Fleiss: Hollywood Madam (1995),Documentary\r\n100,City Hall (1996),Drama|Thriller\r\n101,Bottle Rocket (1996),Adventure|Comedy|Crime|Romance\r\n102,Mr. Wrong (1996),Comedy\r\n103,Unforgettable (1996),Mystery|Sci-Fi|Thriller\r\n104,Happy Gilmore (1996),Comedy\r\n105,&quot;Bridges of Madison County, The (1995)&quot;,Drama|Romance\r\n106,Nobody Loves Me (Keiner liebt mich) (1994),Comedy|Drama\r\n107,Muppet Treasure Island (1996),Adventure|Children|Comedy|Musical\r\n108,Catwalk (1996),Documentary\r\n109,Headless Body in Topless Bar (1995),Comedy|Drama|Thriller\r\n110,Braveheart (1995),Action|Drama|War\r\n111,Taxi Driver (1976),Crime|Drama|Thriller\r\n112,Rumble in the Bronx (Hont faan kui) (1995),Action|Adventure|Comedy|Crime\r\n113,Before and After (1996),Drama|Mystery\r\n114,Margaret's Museum (1995),Drama\r\n115,&quot;Happiness Is in the Field (Bonheur est dans le pré, Le) (1995)&quot;,Comedy\r\n116,Anne Frank Remembered (1995),Documentary\r\n117,&quot;Young Poisoner's Handbook, The (1995)&quot;,Crime|Drama\r\n118,If Lucy Fell (1996),Comedy|Romance\r\n119,&quot;Steal Big, Steal Little (1995)&quot;,Comedy\r\n120,Race the Sun (1996),Adventure|Comedy|Drama\r\n121,&quot;Boys of St. Vincent, The (1992)&quot;,Drama\r\n122,Boomerang (1992),Comedy|Romance\r\n123,Chungking Express (Chung Hing sam lam) (1994),Drama|Mystery|Romance\r\n124,&quot;Star Maker, The (Uomo delle stelle, L') (1995)&quot;,Drama\r\n125,Flirting With Disaster (1996),Comedy\r\n126,&quot;NeverEnding Story III, The (1994)&quot;,Adventure|Children|Fantasy\r\n127,&quot;Silences of the Palace, The (Saimt el Qusur) (1994)&quot;,Drama\r\n128,Jupiter's Wife (1994),Documentary\r\n129,Pie in the Sky (1996),Comedy|Romance\r\n130,Angela (1995),Drama\r\n131,Frankie Starlight (1995),Drama|Romance\r\n132,Jade (1995),Thriller\r\n133,Nueba Yol (1995),Comedy|Drama\r\n134,Sonic Outlaws (1995),Documentary\r\n135,Down Periscope (1996),Comedy\r\n136,From the Journals of Jean Seberg (1995),Documentary\r\n137,Man of the Year (1995),Documentary\r\n138,&quot;Neon Bible, The (1995)&quot;,Drama\r\n139,Target (1995),Action|Drama\r\n140,Up Close and Personal (1996),Drama|Romance\r\n141,&quot;Birdcage, The (1996)&quot;,Comedy\r\n142,Shadows (Cienie) (1988),Drama\r\n143,Gospa (1995),Drama\r\n144,&quot;Brothers McMullen, The (1995)&quot;,Comedy\r\n145,Bad Boys (1995),Action|Comedy|Crime|Drama|Thriller\r\n146,&quot;Amazing Panda Adventure, The (1995)&quot;,Adventure|Children\r\n147,&quot;Basketball Diaries, The (1995)&quot;,Drama\r\n148,&quot;Awfully Big Adventure, An (1995)&quot;,Drama\r\n149,Amateur (1994),Crime|Drama|Thriller\r\n150,Apollo 13 (1995),Adventure|Drama|IMAX\r\n151,Rob Roy (1995),Action|Drama|Romance|War\r\n152,&quot;Addiction, The (1995)&quot;,Drama|Horror\r\n153,Batman Forever (1995),Action|Adventure|Comedy|Crime\r\n154,Beauty of the Day (Belle de jour) (1967),Drama\r\n155,Beyond Rangoon (1995),Adventure|Drama|War\r\n156,Blue in the Face (1995),Comedy|Drama\r\n157,Canadian Bacon (1995),Comedy|War\r\n158,Casper (1995),Adventure|Children\r\n159,Clockers (1995),Crime|Drama|Mystery\r\n160,Congo (1995),Action|Adventure|Mystery|Sci-Fi\r\n161,Crimson Tide (1995),Drama|Thriller|War\r\n162,Crumb (1994),Documentary\r\n163,Desperado (1995),Action|Romance|Western\r\n164,Devil in a Blue Dress (1995),Crime|Film-Noir|Mystery|Thriller\r\n165,Die Hard: With a Vengeance (1995),Action|Crime|Thriller\r\n166,&quot;Doom Generation, The (1995)&quot;,Comedy|Crime|Drama\r\n167,Feast of July (1995),Drama\r\n168,First Knight (1995),Action|Drama|Romance\r\n169,Free Willy 2: The Adventure Home (1995),Adventure|Children|Drama\r\n170,Hackers (1995),Action|Adventure|Crime|Thriller\r\n171,Jeffrey (1995),Comedy|Drama\r\n172,Johnny Mnemonic (1995),Action|Sci-Fi|Thriller\r\n173,Judge Dredd (1995),Action|Crime|Sci-Fi\r\n174,Jury Duty (1995),Comedy\r\n175,Kids (1995),Drama\r\n176,Living in Oblivion (1995),Comedy\r\n177,Lord of Illusions (1995),Horror\r\n178,Love &amp; Human Remains (1993),Comedy|Drama\r\n179,Mad Love (1995),Drama|Romance\r\n180,Mallrats (1995),Comedy|Romance\r\n181,Mighty Morphin Power Rangers: The Movie (1995),Action|Children\r\n182,Moonlight and Valentino (1995),Drama|Romance\r\n183,Mute Witness (1994),Comedy|Horror|Thriller\r\n184,Nadja (1994),Drama\r\n185,&quot;Net, The (1995)&quot;,Action|Crime|Thriller\r\n186,Nine Months (1995),Comedy|Romance\r\n187,Party Girl (1995),Comedy\r\n188,&quot;Prophecy, The (1995)&quot;,Fantasy|Horror|Mystery\r\n189,Reckless (1995),Comedy|Fantasy\r\n190,Safe (1995),Thriller\r\n191,&quot;Scarlet Letter, The (1995)&quot;,Drama|Romance\r\n192,&quot;Show, The (1995)&quot;,Documentary\r\n193,Showgirls (1995),Drama\r\n194,Smoke (1995),Comedy|Drama\r\n195,Something to Talk About (1995),Comedy|Drama|Romance\r\n196,Species (1995),Horror|Sci-Fi\r\n197,&quot;Stars Fell on Henrietta, The (1995)&quot;,Drama\r\n198,Strange Days (1995),Action|Crime|Drama|Mystery|Sci-Fi|Thriller\r\n199,&quot;Umbrellas of Cherbourg, The (Parapluies de Cherbourg, Les) (1964)&quot;,Drama|Musical|Romance\r\n200,&quot;Tie That Binds, The (1995)&quot;,Thriller\r\n201,Three Wishes (1995),Drama|Fantasy\r\n202,Total Eclipse (1995),Drama|Romance\r\n203,&quot;To Wong Foo, Thanks for Everything! Julie Newmar (1995)&quot;,Comedy\r\n204,Under Siege 2: Dark Territory (1995),Action\r\n205,Unstrung Heroes (1995),Comedy|Drama\r\n206,Unzipped (1995),Documentary\r\n207,&quot;Walk in the Clouds, A (1995)&quot;,Drama|Romance\r\n208,Waterworld (1995),Action|Adventure|Sci-Fi\r\n209,White Man's Burden (1995),Drama\r\n210,Wild Bill (1995),Western\r\n211,&quot;Browning Version, The (1994)&quot;,Drama\r\n212,Bushwhacked (1995),Adventure|Comedy|Crime|Mystery\r\n213,Burnt by the Sun (Utomlyonnye solntsem) (1994),Drama\r\n214,Before the Rain (Pred dozhdot) (1994),Drama|War\r\n215,Before Sunrise (1995),Drama|Romance\r\n216,Billy Madison (1995),Comedy\r\n217,&quot;Babysitter, The (1995)&quot;,Drama|Thriller\r\n218,Boys on the Side (1995),Comedy|Drama\r\n219,&quot;Cure, The (1995)&quot;,Drama\r\n220,Castle Freak (1995),Horror\r\n222,Circle of Friends (1995),Drama|Romance\r\n223,Clerks (1994),Comedy\r\n224,Don Juan DeMarco (1995),Comedy|Drama|Romance\r\n225,Disclosure (1994),Drama|Thriller\r\n226,Dream Man (1995),Thriller\r\n227,Drop Zone (1994),Action|Thriller\r\n228,Destiny Turns on the Radio (1995),Comedy\r\n229,Death and the Maiden (1994),Drama|Thriller\r\n230,Dolores Claiborne (1995),Drama|Thriller\r\n231,Dumb &amp; Dumber (Dumb and Dumber) (1994),Adventure|Comedy\r\n232,Eat Drink Man Woman (Yin shi nan nu) (1994),Comedy|Drama|Romance\r\n233,Exotica (1994),Drama\r\n234,Exit to Eden (1994),Comedy\r\n235,Ed Wood (1994),Comedy|Drama\r\n236,French Kiss (1995),Action|Comedy|Romance\r\n237,Forget Paris (1995),Comedy|Romance\r\n238,Far From Home: The Adventures of Yellow Dog (1995),Adventure|Children\r\n239,&quot;Goofy Movie, A (1995)&quot;,Animation|Children|Comedy|Romance\r\n240,Hideaway (1995),Thriller\r\n241,Fluke (1995),Children|Drama\r\n242,Farinelli: il castrato (1994),Drama|Musical\r\n243,Gordy (1995),Children|Comedy|Fantasy\r\n244,Gumby: The Movie (1995),Animation|Children\r\n245,&quot;Glass Shield, The (1994)&quot;,Crime|Drama\r\n246,Hoop Dreams (1994),Documentary\r\n247,Heavenly Creatures (1994),Crime|Drama\r\n248,Houseguest (1994),Comedy\r\n249,Immortal Beloved (1994),Drama|Romance\r\n250,Heavyweights (Heavy Weights) (1995),Children|Comedy\r\n251,&quot;Hunted, The (1995)&quot;,Action\r\n252,I.Q. (1994),Comedy|Romance\r\n253,Interview with the Vampire: The Vampire Chronicles (1994),Drama|Horror\r\n254,Jefferson in Paris (1995),Drama\r\n255,&quot;Jerky Boys, The (1995)&quot;,Comedy\r\n256,Junior (1994),Comedy|Sci-Fi\r\n257,Just Cause (1995),Mystery|Thriller\r\n258,&quot;Kid in King Arthur's Court, A (1995)&quot;,Adventure|Children|Comedy|Fantasy|Romance\r\n259,Kiss of Death (1995),Crime|Drama|Thriller\r\n260,Star Wars: Episode IV - A New Hope (1977),Action|Adventure|Sci-Fi\r\n261,Little Women (1994),Drama\r\n262,&quot;Little Princess, A (1995)&quot;,Children|Drama\r\n263,Ladybird Ladybird (1994),Drama\r\n264,&quot;Enfer, L' (1994)&quot;,Drama\r\n265,Like Water for Chocolate (Como agua para chocolate) (1992),Drama|Fantasy|Romance\r\n266,Legends of the Fall (1994),Drama|Romance|War|Western\r\n267,Major Payne (1995),Comedy\r\n268,Little Odessa (1994),Crime|Drama\r\n269,My Crazy Life (Mi vida loca) (1993),Drama\r\n270,Love Affair (1994),Drama|Romance\r\n271,Losing Isaiah (1995),Drama\r\n272,&quot;Madness of King George, The (1994)&quot;,Comedy|Drama\r\n273,Mary Shelley's Frankenstein (Frankenstein) (1994),Drama|Horror|Sci-Fi\r\n274,Man of the House (1995),Comedy\r\n275,Mixed Nuts (1994),Comedy\r\n276,Milk Money (1994),Comedy|Romance\r\n277,Miracle on 34th Street (1994),Drama\r\n278,Miami Rhapsody (1995),Comedy\r\n279,My Family (1995),Drama\r\n280,Murder in the First (1995),Drama|Thriller\r\n281,Nobody's Fool (1994),Comedy|Drama|Romance\r\n282,Nell (1994),Drama\r\n283,New Jersey Drive (1995),Crime|Drama\r\n284,New York Cop (Nyû Yôku no koppu) (1993),Action|Crime\r\n285,Beyond Bedlam (1993),Drama|Horror\r\n286,Nemesis 2: Nebula (1995),Action|Sci-Fi|Thriller\r\n287,Nina Takes a Lover (1994),Comedy|Romance\r\n288,Natural Born Killers (1994),Action|Crime|Thriller\r\n289,Only You (1994),Comedy|Romance\r\n290,Once Were Warriors (1994),Crime|Drama\r\n291,Poison Ivy II (1996),Drama|Thriller\r\n292,Outbreak (1995),Action|Drama|Sci-Fi|Thriller\r\n293,Léon: The Professional (a.k.a. The Professional) (Léon) (1994),Action|Crime|Drama|Thriller\r\n294,&quot;Perez Family, The (1995)&quot;,Comedy|Romance\r\n295,&quot;Pyromaniac's Love Story, A (1995)&quot;,Comedy|Romance\r\n296,Pulp Fiction (1994),Comedy|Crime|Drama|Thriller\r\n297,Panther (1995),Drama\r\n298,Pushing Hands (Tui shou) (1992),Drama\r\n299,Priest (1994),Drama\r\n300,Quiz Show (1994),Drama\r\n301,Picture Bride (Bijo photo) (1994),Drama|Romance\r\n302,&quot;Queen Margot (Reine Margot, La) (1994)&quot;,Drama|Romance\r\n303,&quot;Quick and the Dead, The (1995)&quot;,Action|Thriller|Western\r\n304,Roommates (1995),Comedy|Drama\r\n305,Ready to Wear (Pret-A-Porter) (1994),Comedy\r\n306,Three Colors: Red (Trois couleurs: Rouge) (1994),Drama\r\n307,Three Colors: Blue (Trois couleurs: Bleu) (1993),Drama\r\n308,Three Colors: White (Trzy kolory: Bialy) (1994),Comedy|Drama\r\n309,&quot;Red Firecracker, Green Firecracker (Pao Da Shuang Deng) (1994)&quot;,Drama\r\n310,Rent-a-Kid (1995),Comedy\r\n311,Relative Fear (1994),Horror|Thriller\r\n312,Stuart Saves His Family (1995),Comedy\r\n313,&quot;Swan Princess, The (1994)&quot;,Animation|Children\r\n314,&quot;Secret of Roan Inish, The (1994)&quot;,Children|Drama|Fantasy|Mystery\r\n315,&quot;Specialist, The (1994)&quot;,Action|Drama|Thriller\r\n316,Stargate (1994),Action|Adventure|Sci-Fi\r\n317,&quot;Santa Clause, The (1994)&quot;,Comedy|Drama|Fantasy\r\n318,&quot;Shawshank Redemption, The (1994)&quot;,Crime|Drama\r\n319,Shallow Grave (1994),Comedy|Drama|Thriller\r\n320,Suture (1993),Film-Noir|Thriller\r\n321,Strawberry and Chocolate (Fresa y chocolate) (1993),Drama\r\n322,Swimming with Sharks (1995),Comedy|Drama\r\n324,&quot;Sum of Us, The (1994)&quot;,Comedy|Drama\r\n325,National Lampoon's Senior Trip (1995),Comedy\r\n326,To Live (Huozhe) (1994),Drama\r\n327,Tank Girl (1995),Action|Comedy|Sci-Fi\r\n328,Tales from the Crypt Presents: Demon Knight (1995),Horror|Thriller\r\n329,Star Trek: Generations (1994),Adventure|Drama|Sci-Fi\r\n330,Tales from the Hood (1995),Action|Crime|Horror\r\n331,Tom &amp; Viv (1994),Drama\r\n332,Village of the Damned (1995),Horror|Sci-Fi\r\n333,Tommy Boy (1995),Comedy\r\n334,Vanya on 42nd Street (1994),Drama\r\n335,Underneath (1995),Mystery|Thriller\r\n336,&quot;Walking Dead, The (1995)&quot;,Drama|War\r\n337,What's Eating Gilbert Grape (1993),Drama\r\n338,Virtuosity (1995),Action|Sci-Fi|Thriller\r\n339,While You Were Sleeping (1995),Comedy|Romance\r\n340,&quot;War, The (1994)&quot;,Adventure|Drama|War\r\n341,Double Happiness (1994),Drama\r\n342,Muriel's Wedding (1994),Comedy\r\n343,&quot;Baby-Sitters Club, The (1995)&quot;,Children\r\n344,Ace Ventura: Pet Detective (1994),Comedy\r\n345,&quot;Adventures of Priscilla, Queen of the Desert, The (1994)&quot;,Comedy|Drama\r\n346,Backbeat (1993),Drama|Musical\r\n347,Bitter Moon (1992),Drama|Film-Noir|Romance\r\n348,Bullets Over Broadway (1994),Comedy\r\n349,Clear and Present Danger (1994),Action|Crime|Drama|Thriller\r\n350,&quot;Client, The (1994)&quot;,Drama|Mystery|Thriller\r\n351,&quot;Corrina, Corrina (1994)&quot;,Comedy|Drama|Romance\r\n352,Crooklyn (1994),Comedy|Drama\r\n353,&quot;Crow, The (1994)&quot;,Action|Crime|Fantasy|Thriller\r\n354,Cobb (1994),Drama\r\n355,&quot;Flintstones, The (1994)&quot;,Children|Comedy|Fantasy\r\n356,Forrest Gump (1994),Comedy|Drama|Romance|War\r\n357,Four Weddings and a Funeral (1994),Comedy|Romance\r\n358,Higher Learning (1995),Drama\r\n359,I Like It Like That (1994),Comedy|Drama|Romance\r\n360,I Love Trouble (1994),Action|Comedy\r\n361,It Could Happen to You (1994),Comedy|Drama|Romance\r\n362,&quot;Jungle Book, The (1994)&quot;,Adventure|Children|Romance\r\n363,&quot;Wonderful, Horrible Life of Leni Riefenstahl, The (Macht der Bilder: Leni Riefenstahl, Die) (1993)&quot;,Documentary\r\n364,&quot;Lion King, The (1994)&quot;,Adventure|Animation|Children|Drama|Musical|IMAX\r\n365,Little Buddha (1993),Drama\r\n366,&quot;Wes Craven's New Nightmare (Nightmare on Elm Street Part 7: Freddy's Finale, A) (1994)&quot;,Drama|Horror|Mystery|Thriller\r\n367,&quot;Mask, The (1994)&quot;,Action|Comedy|Crime|Fantasy\r\n368,Maverick (1994),Adventure|Comedy|Western\r\n369,Mrs. Parker and the Vicious Circle (1994),Drama\r\n370,Naked Gun 33 1/3: The Final Insult (1994),Action|Comedy\r\n371,&quot;Paper, The (1994)&quot;,Comedy|Drama\r\n372,Reality Bites (1994),Comedy|Drama|Romance\r\n373,Red Rock West (1992),Thriller\r\n374,Richie Rich (1994),Children|Comedy\r\n375,Safe Passage (1994),Drama\r\n376,&quot;River Wild, The (1994)&quot;,Action|Thriller\r\n377,Speed (1994),Action|Romance|Thriller\r\n378,Speechless (1994),Comedy|Romance\r\n379,Timecop (1994),Action|Sci-Fi|Thriller\r\n380,True Lies (1994),Action|Adventure|Comedy|Romance|Thriller\r\n381,When a Man Loves a Woman (1994),Drama|Romance\r\n382,Wolf (1994),Drama|Horror|Romance|Thriller\r\n383,Wyatt Earp (1994),Western\r\n384,Bad Company (1995),Action|Crime|Drama\r\n385,&quot;Man of No Importance, A (1994)&quot;,Drama\r\n386,S.F.W. (1994),Drama\r\n387,&quot;Low Down Dirty Shame, A (1994)&quot;,Action|Comedy\r\n388,Boys Life (1995),Drama\r\n389,&quot;Colonel Chabert, Le (1994)&quot;,Drama|Romance|War\r\n390,Faster Pussycat! Kill! Kill! (1965),Action|Crime|Drama\r\n391,Jason's Lyric (1994),Crime|Drama\r\n392,&quot;Secret Adventures of Tom Thumb, The (1993)&quot;,Adventure|Animation\r\n393,Street Fighter (1994),Action|Adventure|Fantasy\r\n394,Coldblooded (1995),Comedy\r\n395,Desert Winds (1995),Drama|Fantasy|Romance\r\n396,Fall Time (1995),Drama\r\n397,&quot;Fear, The (1995)&quot;,Horror\r\n398,Frank and Ollie (1995),Documentary\r\n399,Girl in the Cadillac (1995),Drama\r\n400,Homage (1995),Drama\r\n401,Mirage (1995),Action|Thriller\r\n402,Open Season (1996),Comedy\r\n403,Two Crimes (Dos crímenes) (1995),Comedy|Crime|Drama\r\n404,Brother Minister: The Assassination of Malcolm X (1994),Documentary\r\n405,Highlander III: The Sorcerer (a.k.a. Highlander: The Final Dimension) (1994),Action|Fantasy\r\n406,Federal Hill (1994),Drama\r\n407,In the Mouth of Madness (1995),Horror|Thriller\r\n408,8 Seconds (1994),Drama\r\n409,Above the Rim (1994),Crime|Drama\r\n410,Addams Family Values (1993),Children|Comedy|Fantasy\r\n411,Martin Lawrence: You So Crazy (1994),Comedy|Documentary\r\n412,&quot;Age of Innocence, The (1993)&quot;,Drama\r\n413,Airheads (1994),Comedy\r\n414,&quot;Air Up There, The (1994)&quot;,Comedy\r\n415,Another Stakeout (1993),Comedy|Thriller\r\n416,Bad Girls (1994),Western\r\n417,Barcelona (1994),Comedy|Romance\r\n418,Being Human (1993),Drama\r\n419,&quot;Beverly Hillbillies, The (1993)&quot;,Comedy\r\n420,Beverly Hills Cop III (1994),Action|Comedy|Crime|Thriller\r\n421,Black Beauty (1994),Adventure|Children|Drama\r\n422,Blink (1994),Thriller\r\n423,Blown Away (1994),Action|Thriller\r\n424,Blue Chips (1994),Drama\r\n425,Blue Sky (1994),Drama|Romance\r\n426,Body Snatchers (1993),Horror|Sci-Fi|Thriller\r\n427,Boxing Helena (1993),Drama|Mystery|Romance|Thriller\r\n428,&quot;Bronx Tale, A (1993)&quot;,Drama\r\n429,Cabin Boy (1994),Comedy\r\n430,Calendar Girl (1993),Comedy|Drama\r\n431,Carlito's Way (1993),Crime|Drama\r\n432,City Slickers II: The Legend of Curly's Gold (1994),Adventure|Comedy|Western\r\n433,Clean Slate (1994),Comedy\r\n434,Cliffhanger (1993),Action|Adventure|Thriller\r\n435,Coneheads (1993),Comedy|Sci-Fi\r\n436,Color of Night (1994),Drama|Thriller\r\n437,Cops and Robbersons (1994),Comedy\r\n438,&quot;Cowboy Way, The (1994)&quot;,Action|Comedy|Drama\r\n439,Dangerous Game (1993),Drama\r\n440,Dave (1993),Comedy|Romance\r\n441,Dazed and Confused (1993),Comedy\r\n442,Demolition Man (1993),Action|Adventure|Sci-Fi\r\n443,&quot;Endless Summer 2, The (1994)&quot;,Adventure|Documentary\r\n444,Even Cowgirls Get the Blues (1993),Comedy|Romance\r\n445,Fatal Instinct (1993),Comedy\r\n446,Farewell My Concubine (Ba wang bie ji) (1993),Drama|Romance\r\n447,&quot;Favor, The (1994)&quot;,Comedy|Romance\r\n448,Fearless (1993),Drama\r\n449,Fear of a Black Hat (1994),Comedy\r\n450,With Honors (1994),Comedy|Drama\r\n451,Flesh and Bone (1993),Drama|Mystery|Romance\r\n452,Widows' Peak (1994),Drama\r\n453,For Love or Money (1993),Comedy|Romance\r\n454,&quot;Firm, The (1993)&quot;,Drama|Thriller\r\n455,Free Willy (1993),Adventure|Children|Drama\r\n456,Fresh (1994),Crime|Drama|Thriller\r\n457,&quot;Fugitive, The (1993)&quot;,Thriller\r\n458,Geronimo: An American Legend (1993),Drama|Western\r\n459,&quot;Getaway, The (1994)&quot;,Action|Adventure|Crime|Drama|Romance|Thriller\r\n460,Getting Even with Dad (1994),Comedy\r\n461,Go Fish (1994),Drama|Romance\r\n462,&quot;Good Man in Africa, A (1994)&quot;,Action|Adventure\r\n463,Guilty as Sin (1993),Crime|Drama|Thriller\r\n464,Hard Target (1993),Action|Adventure|Crime|Thriller\r\n465,Heaven &amp; Earth (1993),Action|Drama|War\r\n466,Hot Shots! Part Deux (1993),Action|Comedy|War\r\n467,Live Nude Girls (1995),Comedy\r\n468,&quot;Englishman Who Went Up a Hill But Came Down a Mountain, The (1995)&quot;,Comedy|Romance\r\n469,&quot;House of the Spirits, The (1993)&quot;,Drama|Romance\r\n470,House Party 3 (1994),Comedy\r\n471,&quot;Hudsucker Proxy, The (1994)&quot;,Comedy\r\n472,I'll Do Anything (1994),Comedy|Drama\r\n473,In the Army Now (1994),Comedy|War\r\n474,In the Line of Fire (1993),Action|Thriller\r\n475,In the Name of the Father (1993),Drama\r\n476,&quot;Inkwell, The (1994)&quot;,Comedy|Drama\r\n477,What's Love Got to Do with It? (1993),Drama|Musical\r\n478,Jimmy Hollywood (1994),Comedy|Crime|Drama\r\n479,Judgment Night (1993),Action|Crime|Thriller\r\n480,Jurassic Park (1993),Action|Adventure|Sci-Fi|Thriller\r\n481,Kalifornia (1993),Drama|Thriller\r\n482,Killing Zoe (1994),Crime|Drama|Thriller\r\n483,King of the Hill (1993),Drama\r\n484,Lassie (1994),Adventure|Children\r\n485,Last Action Hero (1993),Action|Adventure|Comedy|Fantasy\r\n486,Life with Mikey (1993),Comedy\r\n487,Lightning Jack (1994),Comedy|Western\r\n488,M. Butterfly (1993),Drama|Romance\r\n489,Made in America (1993),Comedy\r\n490,Malice (1993),Thriller\r\n491,&quot;Man Without a Face, The (1993)&quot;,Drama\r\n492,Manhattan Murder Mystery (1993),Comedy|Mystery\r\n493,Menace II Society (1993),Action|Crime|Drama\r\n494,Executive Decision (1996),Action|Adventure|Thriller\r\n495,In the Realm of the Senses (Ai no corrida) (1976),Drama\r\n496,What Happened Was... (1994),Comedy|Drama|Romance|Thriller\r\n497,Much Ado About Nothing (1993),Comedy|Romance\r\n498,Mr. Jones (1993),Drama|Romance\r\n499,Mr. Wonderful (1993),Comedy|Romance\r\n500,Mrs. Doubtfire (1993),Comedy|Drama\r\n501,Naked (1993),Drama\r\n502,&quot;Next Karate Kid, The (1994)&quot;,Action|Children|Romance\r\n503,&quot;New Age, The (1994)&quot;,Drama\r\n504,No Escape (1994),Action|Drama|Sci-Fi\r\n505,North (1994),Comedy\r\n506,Orlando (1992),Drama|Fantasy|Romance\r\n507,&quot;Perfect World, A (1993)&quot;,Crime|Drama|Thriller\r\n508,Philadelphia (1993),Drama\r\n509,&quot;Piano, The (1993)&quot;,Drama|Romance\r\n510,Poetic Justice (1993),Drama\r\n511,&quot;Program, The (1993)&quot;,Action|Drama\r\n512,&quot;Puppet Masters, The (1994)&quot;,Horror|Sci-Fi\r\n513,Radioland Murders (1994),Comedy|Mystery|Romance\r\n514,&quot;Ref, The (1994)&quot;,Comedy\r\n515,&quot;Remains of the Day, The (1993)&quot;,Drama|Romance\r\n516,Renaissance Man (1994),Comedy|Drama\r\n517,Rising Sun (1993),Action|Drama|Mystery\r\n518,&quot;Road to Wellville, The (1994)&quot;,Comedy\r\n519,RoboCop 3 (1993),Action|Crime|Drama|Sci-Fi|Thriller\r\n520,Robin Hood: Men in Tights (1993),Comedy\r\n521,Romeo Is Bleeding (1993),Crime|Thriller\r\n522,Romper Stomper (1992),Action|Drama\r\n523,Ruby in Paradise (1993),Drama\r\n524,Rudy (1993),Drama\r\n525,&quot;Saint of Fort Washington, The (1993)&quot;,Drama\r\n526,&quot;Savage Nights (Nuits fauves, Les) (1992)&quot;,Drama\r\n527,Schindler's List (1993),Drama|War\r\n528,&quot;Scout, The (1994)&quot;,Comedy|Drama\r\n529,Searching for Bobby Fischer (1993),Drama\r\n530,Second Best (1994),Drama\r\n531,&quot;Secret Garden, The (1993)&quot;,Children|Drama\r\n532,Serial Mom (1994),Comedy|Crime|Horror\r\n533,&quot;Shadow, The (1994)&quot;,Action|Adventure|Fantasy|Mystery\r\n534,Shadowlands (1993),Drama|Romance\r\n535,Short Cuts (1993),Drama\r\n536,&quot;Simple Twist of Fate, A (1994)&quot;,Drama\r\n537,Sirens (1994),Drama\r\n538,Six Degrees of Separation (1993),Drama\r\n539,Sleepless in Seattle (1993),Comedy|Drama|Romance\r\n540,Sliver (1993),Thriller\r\n541,Blade Runner (1982),Action|Sci-Fi|Thriller\r\n542,Son in Law (1993),Comedy|Drama|Romance\r\n543,So I Married an Axe Murderer (1993),Comedy|Romance|Thriller\r\n544,Striking Distance (1993),Action|Crime\r\n545,Harem (1985),Drama\r\n546,Super Mario Bros. (1993),Action|Adventure|Children|Comedy|Fantasy|Sci-Fi\r\n547,Surviving the Game (1994),Action|Adventure|Thriller\r\n548,Terminal Velocity (1994),Action|Mystery|Thriller\r\n549,Thirty-Two Short Films About Glenn Gould (1993),Drama|Musical\r\n\n*** WARNING: skipped 15580 bytes of output ***\n\n889,1-900 (06) (1994),Drama|Romance\r\n890,Baton Rouge (Bâton rouge) (1988),Thriller\r\n891,Halloween: The Curse of Michael Myers (Halloween 6: The Curse of Michael Myers) (1995),Horror|Thriller\r\n892,Twelfth Night (1996),Comedy|Drama|Romance\r\n893,Mother Night (1996),Drama\r\n894,Liebelei (1933),Romance\r\n895,Venice/Venice (1992),Drama\r\n896,Wild Reeds (Les roseaux sauvages) (1994),Drama\r\n897,For Whom the Bell Tolls (1943),Adventure|Drama|Romance|War\r\n898,&quot;Philadelphia Story, The (1940)&quot;,Comedy|Drama|Romance\r\n899,Singin' in the Rain (1952),Comedy|Musical|Romance\r\n900,&quot;American in Paris, An (1951)&quot;,Musical|Romance\r\n901,Funny Face (1957),Comedy|Musical\r\n902,Breakfast at Tiffany's (1961),Drama|Romance\r\n903,Vertigo (1958),Drama|Mystery|Romance|Thriller\r\n904,Rear Window (1954),Mystery|Thriller\r\n905,It Happened One Night (1934),Comedy|Romance\r\n906,Gaslight (1944),Drama|Thriller\r\n907,&quot;Gay Divorcee, The (1934)&quot;,Comedy|Musical|Romance\r\n908,North by Northwest (1959),Action|Adventure|Mystery|Romance|Thriller\r\n909,&quot;Apartment, The (1960)&quot;,Comedy|Drama|Romance\r\n910,Some Like It Hot (1959),Comedy|Crime\r\n911,Charade (1963),Comedy|Crime|Mystery|Romance|Thriller\r\n912,Casablanca (1942),Drama|Romance\r\n913,&quot;Maltese Falcon, The (1941)&quot;,Film-Noir|Mystery\r\n914,My Fair Lady (1964),Comedy|Drama|Musical|Romance\r\n915,Sabrina (1954),Comedy|Romance\r\n916,Roman Holiday (1953),Comedy|Drama|Romance\r\n917,&quot;Little Princess, The (1939)&quot;,Children|Drama\r\n918,Meet Me in St. Louis (1944),Musical\r\n919,&quot;Wizard of Oz, The (1939)&quot;,Adventure|Children|Fantasy|Musical\r\n920,Gone with the Wind (1939),Drama|Romance|War\r\n921,My Favorite Year (1982),Comedy\r\n922,Sunset Blvd. (a.k.a. Sunset Boulevard) (1950),Drama|Film-Noir|Romance\r\n923,Citizen Kane (1941),Drama|Mystery\r\n924,2001: A Space Odyssey (1968),Adventure|Drama|Sci-Fi\r\n925,Golden Earrings (1947),Adventure|Romance|War\r\n926,All About Eve (1950),Drama\r\n927,&quot;Women, The (1939)&quot;,Comedy\r\n928,Rebecca (1940),Drama|Mystery|Romance|Thriller\r\n929,Foreign Correspondent (1940),Drama|Film-Noir|Mystery|Thriller\r\n930,Notorious (1946),Film-Noir|Romance|Thriller\r\n931,Spellbound (1945),Mystery|Romance|Thriller\r\n932,&quot;Affair to Remember, An (1957)&quot;,Drama|Romance\r\n933,To Catch a Thief (1955),Crime|Mystery|Romance|Thriller\r\n934,Father of the Bride (1950),Comedy\r\n935,&quot;Band Wagon, The (1953)&quot;,Comedy|Musical\r\n936,Ninotchka (1939),Comedy|Romance\r\n937,Love in the Afternoon (1957),Comedy|Romance\r\n938,Gigi (1958),Musical\r\n939,&quot;Reluctant Debutante, The (1958)&quot;,Comedy|Drama\r\n940,&quot;Adventures of Robin Hood, The (1938)&quot;,Action|Adventure|Romance\r\n941,&quot;Mark of Zorro, The (1940)&quot;,Adventure\r\n942,Laura (1944),Crime|Film-Noir|Mystery\r\n943,&quot;Ghost and Mrs. Muir, The (1947)&quot;,Drama|Fantasy|Romance\r\n944,Lost Horizon (1937),Drama\r\n945,Top Hat (1935),Comedy|Musical|Romance\r\n946,To Be or Not to Be (1942),Comedy|Drama|War\r\n947,My Man Godfrey (1936),Comedy|Romance\r\n948,Giant (1956),Drama|Romance|Western\r\n949,East of Eden (1955),Drama\r\n950,&quot;Thin Man, The (1934)&quot;,Comedy|Crime\r\n951,His Girl Friday (1940),Comedy|Romance\r\n952,Around the World in 80 Days (1956),Adventure|Comedy\r\n953,It's a Wonderful Life (1946),Drama|Fantasy|Romance\r\n954,Mr. Smith Goes to Washington (1939),Drama\r\n955,Bringing Up Baby (1938),Comedy|Romance\r\n956,Penny Serenade (1941),Drama|Romance\r\n957,&quot;Scarlet Letter, The (1926)&quot;,Drama\r\n958,Lady of Burlesque (1943),Comedy|Mystery\r\n959,Of Human Bondage (1934),Drama\r\n960,Angel on My Shoulder (1946),Crime|Drama\r\n961,Little Lord Fauntleroy (1936),Drama\r\n962,They Made Me a Criminal (I Became a Criminal) (They Made Me a Fugitive) (1939),Crime|Drama\r\n963,&quot;Inspector General, The (1949)&quot;,Musical\r\n964,Angel and the Badman (1947),Romance|Western\r\n965,&quot;39 Steps, The (1935)&quot;,Drama|Mystery|Thriller\r\n966,&quot;Walk in the Sun, A (1945)&quot;,War\r\n967,&quot;Outlaw, The (1943)&quot;,Western\r\n968,Night of the Living Dead (1968),Horror|Sci-Fi|Thriller\r\n969,&quot;African Queen, The (1951)&quot;,Adventure|Comedy|Romance|War\r\n970,Beat the Devil (1953),Adventure|Comedy|Crime|Drama|Romance\r\n971,Cat on a Hot Tin Roof (1958),Drama\r\n972,&quot;Last Time I Saw Paris, The (1954)&quot;,Drama\r\n973,Meet John Doe (1941),Comedy|Drama\r\n974,Algiers (1938),Drama|Romance\r\n975,Something to Sing About (1937),Comedy|Musical\r\n976,&quot;Farewell to Arms, A (1932)&quot;,Romance|War\r\n977,Moonlight Murder (1936),Mystery\r\n979,Nothing Personal (1995),Drama|War\r\n980,&quot;Yes, Madam (a.k.a. Police Assassins) (a.k.a. In the Line of Duty 2) (Huang gu shi jie) (1985)&quot;,Action\r\n981,Dangerous Ground (1997),Drama\r\n982,Picnic (1955),Drama\r\n983,Madagascar Skin (1995),Romance\r\n984,&quot;Pompatus of Love, The (1996)&quot;,Comedy|Drama\r\n985,Small Wonders (1995),Documentary\r\n986,Fly Away Home (1996),Adventure|Children\r\n987,Bliss (1997),Drama|Romance\r\n988,Grace of My Heart (1996),Comedy|Drama\r\n989,Brother of Sleep (Schlafes Bruder) (1995),Drama\r\n990,Maximum Risk (1996),Action|Adventure|Thriller\r\n991,Michael Collins (1996),Drama\r\n992,&quot;Rich Man's Wife, The (1996)&quot;,Thriller\r\n993,Infinity (1996),Drama\r\n994,Big Night (1996),Comedy|Drama\r\n996,Last Man Standing (1996),Action|Crime|Drama|Thriller\r\n997,Caught (1996),Drama|Thriller\r\n998,Set It Off (1996),Action|Crime\r\n999,2 Days in the Valley (1996),Crime|Film-Noir\r\n1000,Curdled (1996),Crime\r\n1001,&quot;Associate, The (Associé, L') (1979)&quot;,Comedy\r\n1002,Ed's Next Move (1996),Comedy|Romance\r\n1003,Extreme Measures (1996),Drama|Thriller\r\n1004,&quot;Glimmer Man, The (1996)&quot;,Action|Thriller\r\n1005,D3: The Mighty Ducks (1996),Children|Comedy\r\n1006,&quot;Chamber, The (1996)&quot;,Drama\r\n1007,&quot;Apple Dumpling Gang, The (1975)&quot;,Children|Comedy|Western\r\n1008,&quot;Davy Crockett, King of the Wild Frontier (1955)&quot;,Adventure|Western\r\n1009,Escape to Witch Mountain (1975),Adventure|Children|Fantasy\r\n1010,&quot;Love Bug, The (1969)&quot;,Children|Comedy\r\n1011,Herbie Rides Again (1974),Adventure|Children|Comedy\r\n1012,Old Yeller (1957),Children|Drama\r\n1013,&quot;Parent Trap, The (1961)&quot;,Children|Comedy|Romance\r\n1014,Pollyanna (1960),Children|Comedy|Drama\r\n1015,Homeward Bound: The Incredible Journey (1993),Adventure|Children|Drama\r\n1016,&quot;Shaggy Dog, The (1959)&quot;,Children|Comedy\r\n1017,Swiss Family Robinson (1960),Adventure|Children\r\n1018,That Darn Cat! (1965),Children|Comedy|Mystery\r\n1019,&quot;20,000 Leagues Under the Sea (1954)&quot;,Adventure|Drama|Sci-Fi\r\n1020,Cool Runnings (1993),Comedy\r\n1021,Angels in the Outfield (1994),Children|Comedy\r\n1022,Cinderella (1950),Animation|Children|Fantasy|Musical|Romance\r\n1023,Winnie the Pooh and the Blustery Day (1968),Animation|Children|Musical\r\n1024,&quot;Three Caballeros, The (1945)&quot;,Animation|Children|Musical\r\n1025,&quot;Sword in the Stone, The (1963)&quot;,Animation|Children|Fantasy|Musical\r\n1026,So Dear to My Heart (1949),Children|Drama\r\n1027,Robin Hood: Prince of Thieves (1991),Adventure|Drama\r\n1028,Mary Poppins (1964),Children|Comedy|Fantasy|Musical\r\n1029,Dumbo (1941),Animation|Children|Drama|Musical\r\n1030,Pete's Dragon (1977),Adventure|Animation|Children|Musical\r\n1031,Bedknobs and Broomsticks (1971),Adventure|Children|Musical\r\n1032,Alice in Wonderland (1951),Adventure|Animation|Children|Fantasy|Musical\r\n1033,&quot;Fox and the Hound, The (1981)&quot;,Animation|Children|Drama\r\n1034,Freeway (1996),Comedy|Crime|Drama|Thriller\r\n1035,&quot;Sound of Music, The (1965)&quot;,Musical|Romance\r\n1036,Die Hard (1988),Action|Crime|Thriller\r\n1037,&quot;Lawnmower Man, The (1992)&quot;,Action|Horror|Sci-Fi|Thriller\r\n1038,Unhook the Stars (1996),Drama\r\n1039,Synthetic Pleasures (1995),Documentary\r\n1040,&quot;Secret Agent, The (1996)&quot;,Drama\r\n1041,Secrets &amp; Lies (1996),Drama\r\n1042,That Thing You Do! (1996),Comedy|Drama\r\n1043,To Gillian on Her 37th Birthday (1996),Drama|Romance\r\n1044,Surviving Picasso (1996),Drama\r\n1045,Love Is All There Is (1996),Comedy|Drama\r\n1046,Beautiful Thing (1996),Drama|Romance\r\n1047,&quot;Long Kiss Goodnight, The (1996)&quot;,Action|Drama|Thriller\r\n1049,&quot;Ghost and the Darkness, The (1996)&quot;,Action|Adventure\r\n1050,Looking for Richard (1996),Documentary|Drama\r\n1051,Trees Lounge (1996),Drama\r\n1052,&quot;Proprietor, The (1996)&quot;,Drama\r\n1053,Normal Life (1996),Crime|Drama|Romance\r\n1054,Get on the Bus (1996),Drama\r\n1055,Shadow Conspiracy (1997),Thriller\r\n1056,Jude (1996),Drama\r\n1057,Everyone Says I Love You (1996),Comedy|Musical|Romance\r\n1058,Bitter Sugar (Azúcar amarga) (1996),Drama\r\n1059,William Shakespeare's Romeo + Juliet (1996),Drama|Romance\r\n1060,Swingers (1996),Comedy|Drama\r\n1061,Sleepers (1996),Thriller\r\n1062,&quot;Sunchaser, The (1996)&quot;,Drama\r\n1063,Johns (1996),Drama\r\n1064,Aladdin and the King of Thieves (1996),Animation|Children|Comedy|Fantasy|Musical|Romance\r\n1065,Five Angles on Murder (1950),Mystery\r\n1066,Shall We Dance (1937),Comedy|Musical|Romance\r\n1067,&quot;Damsel in Distress, A (1937)&quot;,Comedy|Musical|Romance\r\n1068,Crossfire (1947),Crime|Film-Noir\r\n1069,&quot;Murder, My Sweet (1944)&quot;,Crime|Film-Noir|Thriller\r\n1070,Macao (1952),Adventure\r\n1071,For the Moment (1994),Romance|War\r\n1073,Willy Wonka &amp; the Chocolate Factory (1971),Children|Comedy|Fantasy|Musical\r\n1075,&quot;Sexual Life of the Belgians, The (Vie sexuelle des Belges 1950-1978, La) (1994)&quot;,Comedy|Romance\r\n1076,&quot;Innocents, The (1961)&quot;,Drama|Horror|Thriller\r\n1077,Sleeper (1973),Comedy|Sci-Fi\r\n1078,Bananas (1971),Comedy|War\r\n1079,&quot;Fish Called Wanda, A (1988)&quot;,Comedy|Crime\r\n1080,Monty Python's Life of Brian (1979),Comedy\r\n1081,Victor/Victoria (1982),Comedy|Musical|Romance\r\n1082,&quot;Candidate, The (1972)&quot;,Drama\r\n1083,&quot;Great Race, The (1965)&quot;,Comedy|Musical\r\n1084,Bonnie and Clyde (1967),Crime|Drama\r\n1085,&quot;Old Man and the Sea, The (1958)&quot;,Adventure|Drama\r\n1086,Dial M for Murder (1954),Crime|Mystery|Thriller\r\n1087,Madame Butterfly (1995),Musical\r\n1088,Dirty Dancing (1987),Drama|Musical|Romance\r\n1089,Reservoir Dogs (1992),Crime|Mystery|Thriller\r\n1090,Platoon (1986),Drama|War\r\n1091,Weekend at Bernie's (1989),Comedy\r\n1092,Basic Instinct (1992),Crime|Mystery|Thriller\r\n1093,&quot;Doors, The (1991)&quot;,Drama\r\n1094,&quot;Crying Game, The (1992)&quot;,Drama|Romance|Thriller\r\n1095,Glengarry Glen Ross (1992),Drama\r\n1096,Sophie's Choice (1982),Drama\r\n1097,E.T. the Extra-Terrestrial (1982),Children|Drama|Sci-Fi\r\n1098,&quot;Search for One-eye Jimmy, The (1996)&quot;,Comedy\r\n1099,&quot;Christmas Carol, A (1938)&quot;,Children|Drama|Fantasy\r\n1100,Days of Thunder (1990),Action|Drama|Romance\r\n1101,Top Gun (1986),Action|Romance\r\n1102,American Strays (1996),Action\r\n1103,Rebel Without a Cause (1955),Drama\r\n1104,&quot;Streetcar Named Desire, A (1951)&quot;,Drama\r\n1105,Children of the Corn IV: The Gathering (1996),Horror\r\n1106,&quot;Leopard Son, The (1996)&quot;,Documentary\r\n1107,Loser (1991),Comedy\r\n1109,Charm's Incidents (Charms Zwischenfälle) (1996),Drama\r\n1110,Bird of Prey (1996),Action\r\n1111,Microcosmos (Microcosmos: Le peuple de l'herbe) (1996),Documentary\r\n1112,Palookaville (1996),Action|Comedy|Drama\r\n1113,&quot;Associate, The (1996)&quot;,Comedy\r\n1114,&quot;Funeral, The (1996)&quot;,Crime|Drama\r\n1115,Sleepover (1995),Drama\r\n1116,&quot;Single Girl, A (Fille seule, La) (1995)&quot;,Drama\r\n1117,&quot;Eighth Day, The (Huitième jour, Le) (1996)&quot;,Drama\r\n1118,North Star (a.k.a. Tashunga) (1995),Action|Adventure|Crime|Drama|Western\r\n1119,Drunks (1995),Drama\r\n1120,&quot;People vs. Larry Flynt, The (1996)&quot;,Comedy|Drama\r\n1121,Glory Daze (1995),Drama\r\n1122,Plutonium Circus (1995),Documentary\r\n1123,&quot;Perfect Candidate, A (1996)&quot;,Documentary\r\n1124,On Golden Pond (1981),Drama\r\n1125,&quot;Return of the Pink Panther, The (1975)&quot;,Comedy|Crime\r\n1126,Drop Dead Fred (1991),Comedy|Fantasy\r\n1127,&quot;Abyss, The (1989)&quot;,Action|Adventure|Sci-Fi|Thriller\r\n1128,&quot;Fog, The (1980)&quot;,Horror\r\n1129,Escape from New York (1981),Action|Adventure|Sci-Fi|Thriller\r\n1130,&quot;Howling, The (1980)&quot;,Horror|Mystery\r\n1131,Jean de Florette (1986),Drama|Mystery\r\n1132,Manon of the Spring (Manon des sources) (1986),Drama\r\n1133,Talking About Sex (1994),Comedy|Drama\r\n1134,Johnny 100 Pesos (Johnny cien pesos) (1993),Action|Drama\r\n1135,Private Benjamin (1980),Comedy\r\n1136,Monty Python and the Holy Grail (1975),Adventure|Comedy|Fantasy\r\n1137,Hustler White (1996),Romance\r\n1138,Dadetown (1995),Drama\r\n1139,Everything Relative (1996),Drama\r\n1140,Entertaining Angels: The Dorothy Day Story (1996),Drama\r\n1141,Last Call (Hoogste tijd) (1995),Drama\r\n1142,Get Over It (1996),Drama\r\n1143,Three Lives and Only One Death (Trois vies &amp; une seule mort) (1996),Comedy\r\n1144,&quot;Line King: The Al Hirschfeld Story, The (1996)&quot;,Documentary\r\n1145,Snowriders (1996),Documentary\r\n1146,Curtis's Charm (1995),Comedy|Drama\r\n1147,When We Were Kings (1996),Documentary\r\n1148,Wallace &amp; Gromit: The Wrong Trousers (1993),Animation|Children|Comedy|Crime\r\n1149,JLG/JLG (JLG/JLG - autoportrait de décembre) (1994),Documentary|Drama\r\n1150,&quot;Return of Martin Guerre, The (Retour de Martin Guerre, Le) (1982)&quot;,Drama\r\n1151,Faust (1994),Animation|Comedy|Thriller\r\n1152,He Walked by Night (1948),Crime|Film-Noir|Thriller\r\n1153,Raw Deal (1948),Film-Noir\r\n1154,T-Men (1947),Film-Noir\r\n1155,&quot;Invitation, The (Zaproszenie) (1986)&quot;,Drama\r\n1156,&quot;Children Are Watching Us, The (Bambini ci guardano, I) (1944)&quot;,Drama\r\n1157,&quot;Symphonie pastorale, La (1946)&quot;,Drama\r\n1158,Here Comes Cookie (1935),Comedy\r\n1159,Love in Bloom (1935),Romance\r\n1160,Six of a Kind (1934),Comedy\r\n1161,&quot;Tin Drum, The (Blechtrommel, Die) (1979)&quot;,Drama|War\r\n1162,&quot;Ruling Class, The (1972)&quot;,Comedy|Drama\r\n1163,Mina Tannenbaum (1994),Drama\r\n1164,2 ou 3 choses que je sais d'elle (2 or 3 Things I Know About Her) (1967),Drama\r\n1165,&quot;Bloody Child, The (1996)&quot;,Drama|Thriller\r\n1166,Farmer &amp; Chase (1997),Comedy\r\n1167,Dear God (1996),Comedy\r\n1168,Bad Moon (1996),Action|Adventure|Horror\r\n1169,American Dream (1990),Documentary\r\n1170,Best of the Best 3: No Turning Back (1995),Action\r\n1171,Bob Roberts (1992),Comedy\r\n1172,Cinema Paradiso (Nuovo cinema Paradiso) (1989),Drama\r\n1173,&quot;Cook the Thief His Wife &amp; Her Lover, The (1989)&quot;,Comedy|Drama\r\n1174,Dead Tired (Grosse Fatigue) (1994),Comedy\r\n1175,Delicatessen (1991),Comedy|Drama|Romance\r\n1176,&quot;Double Life of Veronique, The (Double Vie de Véronique, La) (1991)&quot;,Drama|Fantasy|Romance\r\n1177,Enchanted April (1992),Drama|Romance\r\n1178,Paths of Glory (1957),Drama|War\r\n1179,&quot;Grifters, The (1990)&quot;,Crime|Drama|Film-Noir\r\n1180,Hear My Song (1991),Comedy\r\n1181,&quot;Shooter, The (1997)&quot;,Western\r\n1183,&quot;English Patient, The (1996)&quot;,Drama|Romance|War\r\n1184,Mediterraneo (1991),Comedy|Drama\r\n1185,My Left Foot (1989),Drama\r\n1186,&quot;Sex, Lies, and Videotape (1989)&quot;,Drama\r\n1187,Passion Fish (1992),Drama\r\n1188,Strictly Ballroom (1992),Comedy|Romance\r\n1189,&quot;Thin Blue Line, The (1988)&quot;,Documentary\r\n1190,Tie Me Up! Tie Me Down! (¡Átame!) (1990),Crime|Drama|Romance\r\n1191,Madonna: Truth or Dare (1991),Documentary|Musical\r\n1192,Paris Is Burning (1990),Documentary\r\n1193,One Flew Over the Cuckoo's Nest (1975),Drama\r\n1194,Cheech and Chong's Up in Smoke (1978),Comedy\r\n1196,Star Wars: Episode V - The Empire Strikes Back (1980),Action|Adventure|Sci-Fi\r\n1197,&quot;Princess Bride, The (1987)&quot;,Action|Adventure|Comedy|Fantasy|Romance\r\n1198,Raiders of the Lost Ark (Indiana Jones and the Raiders of the Lost Ark) (1981),Action|Adventure\r\n1199,Brazil (1985),Fantasy|Sci-Fi\r\n1200,Aliens (1986),Action|Adventure|Horror|Sci-Fi\r\n1201,&quot;Good, the Bad and the Ugly, The (Buono, il brutto, il cattivo, Il) (1966)&quot;,Action|Adventure|Western\r\n1202,Withnail &amp; I (1987),Comedy\r\n1203,12 Angry Men (1957),Drama\r\n1204,Lawrence of Arabia (1962),Adventure|Drama|War\r\n1206,&quot;Clockwork Orange, A (1971)&quot;,Crime|Drama|Sci-Fi|Thriller\r\n1207,To Kill a Mockingbird (1962),Drama\r\n1208,Apocalypse Now (1979),Action|Drama|War\r\n1209,Once Upon a Time in the West (C'era una volta il West) (1968),Action|Drama|Western\r\n1210,Star Wars: Episode VI - Return of the Jedi (1983),Action|Adventure|Sci-Fi\r\n1211,&quot;Wings of Desire (Himmel über Berlin, Der) (1987)&quot;,Drama|Fantasy|Romance\r\n1212,&quot;Third Man, The (1949)&quot;,Film-Noir|Mystery|Thriller\r\n1213,Goodfellas (1990),Crime|Drama\r\n1214,Alien (1979),Horror|Sci-Fi\r\n1215,Army of Darkness (1993),Action|Adventure|Comedy|Fantasy|Horror\r\n1216,&quot;Big Blue, The (Grand bleu, Le) (1988)&quot;,Adventure|Drama|Romance\r\n1217,Ran (1985),Drama|War\r\n1218,&quot;Killer, The (Die xue shuang xiong) (1989)&quot;,Action|Crime|Drama|Thriller\r\n1219,Psycho (1960),Crime|Horror\r\n1220,&quot;Blues Brothers, The (1980)&quot;,Action|Comedy|Musical\r\n1221,&quot;Godfather: Part II, The (1974)&quot;,Crime|Drama\r\n1222,Full Metal Jacket (1987),Drama|War\r\n1223,&quot;Grand Day Out with Wallace and Gromit, A (1989)&quot;,Adventure|Animation|Children|Comedy|Sci-Fi\r\n1224,Henry V (1989),Action|Drama|Romance|War\r\n1225,Amadeus (1984),Drama\r\n1226,&quot;Quiet Man, The (1952)&quot;,Drama|Romance\r\n1227,Once Upon a Time in America (1984),Crime|Drama\r\n1228,Raging Bull (1980),Drama\r\n1230,Annie Hall (1977),Comedy|Romance\r\n1231,&quot;Right Stuff, The (1983)&quot;,Drama\r\n1232,Stalker (1979),Drama|Mystery|Sci-Fi\r\n1233,&quot;Boot, Das (Boat, The) (1981)&quot;,Action|Drama|War\r\n1234,&quot;Sting, The (1973)&quot;,Comedy|Crime\r\n1235,Harold and Maude (1971),Comedy|Drama|Romance\r\n1236,Trust (1990),Comedy|Drama|Romance\r\n1237,&quot;Seventh Seal, The (Sjunde inseglet, Det) (1957)&quot;,Drama\r\n1238,Local Hero (1983),Comedy\r\n1240,&quot;Terminator, The (1984)&quot;,Action|Sci-Fi|Thriller\r\n1241,Dead Alive (Braindead) (1992),Comedy|Fantasy|Horror\r\n1242,Glory (1989),Drama|War\r\n1243,Rosencrantz and Guildenstern Are Dead (1990),Comedy|Drama\r\n1244,Manhattan (1979),Comedy|Drama|Romance\r\n1245,Miller's Crossing (1990),Crime|Drama|Film-Noir|Thriller\r\n1246,Dead Poets Society (1989),Drama\r\n1247,&quot;Graduate, The (1967)&quot;,Comedy|Drama|Romance\r\n1248,Touch of Evil (1958),Crime|Film-Noir|Thriller\r\n1249,&quot;Femme Nikita, La (Nikita) (1990)&quot;,Action|Crime|Romance|Thriller\r\n1250,&quot;Bridge on the River Kwai, The (1957)&quot;,Adventure|Drama|War\r\n1251,8 1/2 (8½) (1963),Drama|Fantasy\r\n1252,Chinatown (1974),Crime|Film-Noir|Mystery|Thriller\r\n1253,&quot;Day the Earth Stood Still, The (1951)&quot;,Drama|Sci-Fi|Thriller\r\n1254,&quot;Treasure of the Sierra Madre, The (1948)&quot;,Action|Adventure|Drama|Western\r\n1255,Bad Taste (1987),Comedy|Horror|Sci-Fi\r\n1256,Duck Soup (1933),Comedy|Musical|War\r\n1257,Better Off Dead... (1985),Comedy|Romance\r\n1258,&quot;Shining, The (1980)&quot;,Horror\r\n1259,Stand by Me (1986),Adventure|Drama\r\n1260,M (1931),Crime|Film-Noir|Thriller\r\n1261,Evil Dead II (Dead by Dawn) (1987),Action|Comedy|Fantasy|Horror\r\n1262,&quot;Great Escape, The (1963)&quot;,Action|Adventure|Drama|War\r\n1263,&quot;Deer Hunter, The (1978)&quot;,Drama|War\r\n1264,Diva (1981),Action|Drama|Mystery|Romance|Thriller\r\n1265,Groundhog Day (1993),Comedy|Fantasy|Romance\r\n1266,Unforgiven (1992),Drama|Western\r\n1267,&quot;Manchurian Candidate, The (1962)&quot;,Crime|Thriller|War\r\n1268,Pump Up the Volume (1990),Comedy|Drama\r\n1269,Arsenic and Old Lace (1944),Comedy|Mystery|Thriller\r\n1270,Back to the Future (1985),Adventure|Comedy|Sci-Fi\r\n1271,Fried Green Tomatoes (1991),Comedy|Crime|Drama\r\n1272,Patton (1970),Drama|War\r\n1273,Down by Law (1986),Comedy|Drama|Film-Noir\r\n1274,Akira (1988),Action|Adventure|Animation|Sci-Fi\r\n1275,Highlander (1986),Action|Adventure|Fantasy\r\n1276,Cool Hand Luke (1967),Drama\r\n1277,Cyrano de Bergerac (1990),Comedy|Drama|Romance\r\n1278,Young Frankenstein (1974),Comedy|Fantasy\r\n1279,Night on Earth (1991),Comedy|Drama\r\n1280,Raise the Red Lantern (Da hong deng long gao gao gua) (1991),Drama\r\n1281,&quot;Great Dictator, The (1940)&quot;,Comedy|Drama|War\r\n1282,Fantasia (1940),Animation|Children|Fantasy|Musical\r\n1283,High Noon (1952),Drama|Western\r\n1284,&quot;Big Sleep, The (1946)&quot;,Crime|Film-Noir|Mystery\r\n1285,Heathers (1989),Comedy\r\n1286,Somewhere in Time (1980),Drama|Romance\r\n1287,Ben-Hur (1959),Action|Adventure|Drama\r\n1288,This Is Spinal Tap (1984),Comedy\r\n1289,Koyaanisqatsi (a.k.a. Koyaanisqatsi: Life Out of Balance) (1983),Documentary\r\n1290,Some Kind of Wonderful (1987),Drama|Romance\r\n1291,Indiana Jones and the Last Crusade (1989),Action|Adventure\r\n1292,Being There (1979),Comedy|Drama\r\n1293,Gandhi (1982),Drama\r\n1295,&quot;Unbearable Lightness of Being, The (1988)&quot;,Drama\r\n1296,&quot;Room with a View, A (1986)&quot;,Drama|Romance\r\n1297,Real Genius (1985),Comedy\r\n1298,Pink Floyd: The Wall (1982),Drama|Musical\r\n1299,&quot;Killing Fields, The (1984)&quot;,Drama|War\r\n1300,My Life as a Dog (Mitt liv som hund) (1985),Comedy|Drama\r\n1301,Forbidden Planet (1956),Drama|Sci-Fi\r\n1302,Field of Dreams (1989),Children|Drama|Fantasy\r\n1303,&quot;Man Who Would Be King, The (1975)&quot;,Adventure|Drama\r\n1304,Butch Cassidy and the Sundance Kid (1969),Action|Western\r\n1305,&quot;Paris, Texas (1984)&quot;,Drama|Romance\r\n1306,Until the End of the World (Bis ans Ende der Welt) (1991),Adventure|Drama|Sci-Fi\r\n1307,When Harry Met Sally... (1989),Comedy|Romance\r\n1308,I Shot a Man in Vegas (1995),Comedy\r\n1309,Parallel Sons (1995),Drama|Romance\r\n1310,Hype! (1996),Documentary\r\n1311,Santa with Muscles (1996),Comedy\r\n1312,Female Perversions (1996),Drama\r\n1313,Mad Dog Time (1996),Crime\r\n1314,Breathing Room (1996),Romance\r\n1315,Paris Was a Woman (1995),Documentary\r\n1316,Anna (1996),Drama\r\n1317,I'm Not Rappaport (1996),Comedy\r\n1318,Blue Juice (1995),Comedy|Drama\r\n1319,Kids of Survival (1996),Documentary\r\n1320,Alien³ (a.k.a. Alien 3) (1992),Action|Horror|Sci-Fi|Thriller\r\n1321,&quot;American Werewolf in London, An (1981)&quot;,Comedy|Horror|Thriller\r\n1322,Amityville 1992: It's About Time (1992),Horror\r\n1323,Amityville 3-D (1983),Horror\r\n1324,Amityville: Dollhouse (1996),Horror\r\n1325,Amityville: A New Generation (1993),Horror\r\n1326,Amityville II: The Possession (1982),Horror\r\n1327,&quot;Amityville Horror, The (1979)&quot;,Drama|Horror|Mystery|Thriller\r\n1328,&quot;Amityville Curse, The (1990)&quot;,Horror\r\n1329,Blood for Dracula (Andy Warhol's Dracula) (1974),Horror\r\n1330,April Fool's Day (1986),Horror\r\n1331,Audrey Rose (1977),Horror\r\n1332,&quot;Believers, The (1987)&quot;,Horror|Thriller\r\n1333,&quot;Birds, The (1963)&quot;,Horror|Thriller\r\n1334,&quot;Blob, The (1958)&quot;,Horror|Sci-Fi\r\n1335,Blood Beach (1981),Horror|Mystery\r\n1336,Body Parts (1991),Horror|Thriller\r\n1337,&quot;Body Snatcher, The (1945)&quot;,Drama|Horror|Thriller\r\n1339,Dracula (Bram Stoker's Dracula) (1992),Fantasy|Horror|Romance|Thriller\r\n1340,&quot;Bride of Frankenstein, The (Bride of Frankenstein) (1935)&quot;,Drama|Horror|Sci-Fi\r\n1341,Burnt Offerings (1976),Horror\r\n1342,Candyman (1992),Horror|Thriller\r\n1343,Cape Fear (1991),Thriller\r\n1344,Cape Fear (1962),Crime|Drama|Thriller\r\n1345,Carrie (1976),Drama|Fantasy|Horror|Thriller\r\n1346,Cat People (1982),Drama|Fantasy|Horror\r\n1347,&quot;Nightmare on Elm Street, A (1984)&quot;,Horror|Thriller\r\n1348,&quot;Nosferatu (Nosferatu, eine Symphonie des Grauens) (1922)&quot;,Horror\r\n1349,Vampire in Venice (Nosferatu a Venezia) (Nosferatu in Venice) (1986),Horror\r\n1350,&quot;Omen, The (1976)&quot;,Horror|Mystery|Thriller\r\n1351,Blood and Wine (Blood &amp; Wine) (1996),Crime|Drama|Thriller\r\n1352,Albino Alligator (1996),Crime|Thriller\r\n1353,&quot;Mirror Has Two Faces, The (1996)&quot;,Comedy|Drama|Romance\r\n1354,Breaking the Waves (1996),Drama|Mystery\r\n1355,Nightwatch (1997),Horror|Thriller\r\n1356,Star Trek: First Contact (1996),Action|Adventure|Sci-Fi|Thriller\r\n1357,Shine (1996),Drama|Romance\r\n1358,Sling Blade (1996),Drama\r\n1359,Jingle All the Way (1996),Children|Comedy\r\n1360,Identification of a Woman (Identificazione di una donna) (1982),Drama\r\n1361,Paradise Lost: The Child Murders at Robin Hood Hills (1996),Documentary\r\n1363,&quot;Preacher's Wife, The (1996)&quot;,Drama\r\n1364,Zero Kelvin (Kjærlighetens kjøtere) (1995),Drama\r\n1365,Ridicule (1996),Drama\r\n1366,&quot;Crucible, The (1996)&quot;,Drama\r\n1367,101 Dalmatians (1996),Adventure|Children|Comedy\r\n1368,&quot;Forbidden Christ, The (Cristo proibito, Il) (1950)&quot;,Drama\r\n1369,I Can't Sleep (J'ai pas sommeil) (1994),Drama|Thriller\r\n1370,Die Hard 2 (1990),Action|Adventure|Thriller\r\n1371,Star Trek: The Motion Picture (1979),Adventure|Sci-Fi\r\n1372,Star Trek VI: The Undiscovered Country (1991),Action|Mystery|Sci-Fi\r\n1373,Star Trek V: The Final Frontier (1989),Action|Sci-Fi\r\n1374,Star Trek II: The Wrath of Khan (1982),Action|Adventure|Sci-Fi|Thriller\r\n1375,Star Trek III: The Search for Spock (1984),Action|Adventure|Sci-Fi\r\n1376,Star Trek IV: The Voyage Home (1986),Adventure|Comedy|Sci-Fi\r\n1377,Batman Returns (1992),Action|Crime\r\n1378,Young Guns (1988),Action|Comedy|Western\r\n1379,Young Guns II (1990),Action|Western\r\n1380,Grease (1978),Comedy|Musical|Romance\r\n1381,Grease 2 (1982),Comedy|Musical|Romance\r\n1382,Marked for Death (1990),Action|Drama\r\n1383,Adrenalin: Fear the Rush (1996),Action|Sci-Fi\r\n1384,&quot;Substance of Fire, The (1996)&quot;,Drama\r\n1385,Under Siege (1992),Action|Drama|Thriller\r\n1386,Terror in a Texas Town (1958),Western\r\n1387,Jaws (1975),Action|Horror\r\n1388,Jaws 2 (1978),Horror|Thriller\r\n1389,Jaws 3-D (1983),Action|Horror\r\n1390,My Fellow Americans (1996),Comedy\r\n1391,Mars Attacks! (1996),Action|Comedy|Sci-Fi\r\n1392,Citizen Ruth (1996),Comedy|Drama\r\n1393,Jerry Maguire (1996),Drama|Romance\r\n1394,Raising Arizona (1987),Comedy\r\n1395,Tin Men (1987),Comedy|Drama\r\n1396,Sneakers (1992),Action|Comedy|Crime|Drama|Sci-Fi\r\n1397,Bastard Out of Carolina (1996),Drama\r\n1398,In Love and War (1996),Romance|War\r\n1399,Marvin's Room (1996),Drama\r\n1400,Somebody is Waiting (1996),Drama\r\n1401,Ghosts of Mississippi (1996),Drama\r\n1404,Night Falls on Manhattan (1996),Crime|Drama\r\n1405,Beavis and Butt-Head Do America (1996),Adventure|Animation|Comedy|Crime\r\n1406,&quot;Judgement in Stone, A (Cérémonie, La) (1995)&quot;,Drama\r\n1407,Scream (1996),Comedy|Horror|Mystery|Thriller\r\n1408,&quot;Last of the Mohicans, The (1992)&quot;,Action|Romance|War|Western\r\n1409,Michael (1996),Comedy|Drama|Fantasy|Romance\r\n1410,&quot;Evening Star, The (1996)&quot;,Comedy|Drama\r\n1411,Hamlet (1996),Crime|Drama|Romance\r\n1412,Some Mother's\n</div>"
      ]
     },
     "metadata": {
      "application/vnd.databricks.v1+output": {
       "addedWidgets": {},
       "arguments": {},
       "data": "<div class=\"ansiout\">[Truncated to first 65536 bytes]\nmovieId,title,genres\r\n1,Toy Story (1995),Adventure|Animation|Children|Comedy|Fantasy\r\n2,Jumanji (1995),Adventure|Children|Fantasy\r\n3,Grumpier Old Men (1995),Comedy|Romance\r\n4,Waiting to Exhale (1995),Comedy|Drama|Romance\r\n5,Father of the Bride Part II (1995),Comedy\r\n6,Heat (1995),Action|Crime|Thriller\r\n7,Sabrina (1995),Comedy|Romance\r\n8,Tom and Huck (1995),Adventure|Children\r\n9,Sudden Death (1995),Action\r\n10,GoldenEye (1995),Action|Adventure|Thriller\r\n11,&quot;American President, The (1995)&quot;,Comedy|Drama|Romance\r\n12,Dracula: Dead and Loving It (1995),Comedy|Horror\r\n13,Balto (1995),Adventure|Animation|Children\r\n14,Nixon (1995),Drama\r\n15,Cutthroat Island (1995),Action|Adventure|Romance\r\n16,Casino (1995),Crime|Drama\r\n17,Sense and Sensibility (1995),Drama|Romance\r\n18,Four Rooms (1995),Comedy\r\n19,Ace Ventura: When Nature Calls (1995),Comedy\r\n20,Money Train (1995),Action|Comedy|Crime|Drama|Thriller\r\n21,Get Shorty (1995),Comedy|Crime|Thriller\r\n22,Copycat (1995),Crime|Drama|Horror|Mystery|Thriller\r\n23,Assassins (1995),Action|Crime|Thriller\r\n24,Powder (1995),Drama|Sci-Fi\r\n25,Leaving Las Vegas (1995),Drama|Romance\r\n26,Othello (1995),Drama\r\n27,Now and Then (1995),Children|Drama\r\n28,Persuasion (1995),Drama|Romance\r\n29,&quot;City of Lost Children, The (Cité des enfants perdus, La) (1995)&quot;,Adventure|Drama|Fantasy|Mystery|Sci-Fi\r\n30,Shanghai Triad (Yao a yao yao dao waipo qiao) (1995),Crime|Drama\r\n31,Dangerous Minds (1995),Drama\r\n32,Twelve Monkeys (a.k.a. 12 Monkeys) (1995),Mystery|Sci-Fi|Thriller\r\n33,Wings of Courage (1995),Adventure|Romance|IMAX\r\n34,Babe (1995),Children|Drama\r\n35,Carrington (1995),Drama|Romance\r\n36,Dead Man Walking (1995),Crime|Drama\r\n37,Across the Sea of Time (1995),Documentary|IMAX\r\n38,It Takes Two (1995),Children|Comedy\r\n39,Clueless (1995),Comedy|Romance\r\n40,&quot;Cry, the Beloved Country (1995)&quot;,Drama\r\n41,Richard III (1995),Drama|War\r\n42,Dead Presidents (1995),Action|Crime|Drama\r\n43,Restoration (1995),Drama\r\n44,Mortal Kombat (1995),Action|Adventure|Fantasy\r\n45,To Die For (1995),Comedy|Drama|Thriller\r\n46,How to Make an American Quilt (1995),Drama|Romance\r\n47,Seven (a.k.a. Se7en) (1995),Mystery|Thriller\r\n48,Pocahontas (1995),Animation|Children|Drama|Musical|Romance\r\n49,When Night Is Falling (1995),Drama|Romance\r\n50,&quot;Usual Suspects, The (1995)&quot;,Crime|Mystery|Thriller\r\n51,Guardian Angel (1994),Action|Drama|Thriller\r\n52,Mighty Aphrodite (1995),Comedy|Drama|Romance\r\n53,Lamerica (1994),Adventure|Drama\r\n54,&quot;Big Green, The (1995)&quot;,Children|Comedy\r\n55,Georgia (1995),Drama\r\n56,Kids of the Round Table (1995),Adventure|Children|Fantasy\r\n57,Home for the Holidays (1995),Drama\r\n58,&quot;Postman, The (Postino, Il) (1994)&quot;,Comedy|Drama|Romance\r\n59,&quot;Confessional, The (Confessionnal, Le) (1995)&quot;,Drama|Mystery\r\n60,&quot;Indian in the Cupboard, The (1995)&quot;,Adventure|Children|Fantasy\r\n61,Eye for an Eye (1996),Drama|Thriller\r\n62,Mr. Holland's Opus (1995),Drama\r\n63,Don't Be a Menace to South Central While Drinking Your Juice in the Hood (1996),Comedy|Crime\r\n64,Two if by Sea (1996),Comedy|Romance\r\n65,Bio-Dome (1996),Comedy\r\n66,Lawnmower Man 2: Beyond Cyberspace (1996),Action|Sci-Fi|Thriller\r\n67,Two Bits (1995),Drama\r\n68,French Twist (Gazon maudit) (1995),Comedy|Romance\r\n69,Friday (1995),Comedy\r\n70,From Dusk Till Dawn (1996),Action|Comedy|Horror|Thriller\r\n71,Fair Game (1995),Action\r\n72,Kicking and Screaming (1995),Comedy|Drama\r\n73,&quot;Misérables, Les (1995)&quot;,Drama|War\r\n74,Bed of Roses (1996),Drama|Romance\r\n75,Big Bully (1996),Comedy|Drama\r\n76,Screamers (1995),Action|Sci-Fi|Thriller\r\n77,Nico Icon (1995),Documentary\r\n78,&quot;Crossing Guard, The (1995)&quot;,Action|Crime|Drama|Thriller\r\n79,&quot;Juror, The (1996)&quot;,Drama|Thriller\r\n80,&quot;White Balloon, The (Badkonake sefid) (1995)&quot;,Children|Drama\r\n81,Things to Do in Denver When You're Dead (1995),Crime|Drama|Romance\r\n82,Antonia's Line (Antonia) (1995),Comedy|Drama\r\n83,Once Upon a Time... When We Were Colored (1995),Drama|Romance\r\n84,Last Summer in the Hamptons (1995),Comedy|Drama\r\n85,Angels and Insects (1995),Drama|Romance\r\n86,White Squall (1996),Action|Adventure|Drama\r\n87,Dunston Checks In (1996),Children|Comedy\r\n88,Black Sheep (1996),Comedy\r\n89,Nick of Time (1995),Action|Thriller\r\n90,&quot;Journey of August King, The (1995)&quot;,Drama\r\n92,Mary Reilly (1996),Drama|Horror|Thriller\r\n93,Vampire in Brooklyn (1995),Comedy|Horror|Romance\r\n94,Beautiful Girls (1996),Comedy|Drama|Romance\r\n95,Broken Arrow (1996),Action|Adventure|Thriller\r\n96,In the Bleak Midwinter (1995),Comedy|Drama\r\n97,&quot;Hate (Haine, La) (1995)&quot;,Crime|Drama\r\n98,Shopping (1994),Action|Thriller\r\n99,Heidi Fleiss: Hollywood Madam (1995),Documentary\r\n100,City Hall (1996),Drama|Thriller\r\n101,Bottle Rocket (1996),Adventure|Comedy|Crime|Romance\r\n102,Mr. Wrong (1996),Comedy\r\n103,Unforgettable (1996),Mystery|Sci-Fi|Thriller\r\n104,Happy Gilmore (1996),Comedy\r\n105,&quot;Bridges of Madison County, The (1995)&quot;,Drama|Romance\r\n106,Nobody Loves Me (Keiner liebt mich) (1994),Comedy|Drama\r\n107,Muppet Treasure Island (1996),Adventure|Children|Comedy|Musical\r\n108,Catwalk (1996),Documentary\r\n109,Headless Body in Topless Bar (1995),Comedy|Drama|Thriller\r\n110,Braveheart (1995),Action|Drama|War\r\n111,Taxi Driver (1976),Crime|Drama|Thriller\r\n112,Rumble in the Bronx (Hont faan kui) (1995),Action|Adventure|Comedy|Crime\r\n113,Before and After (1996),Drama|Mystery\r\n114,Margaret's Museum (1995),Drama\r\n115,&quot;Happiness Is in the Field (Bonheur est dans le pré, Le) (1995)&quot;,Comedy\r\n116,Anne Frank Remembered (1995),Documentary\r\n117,&quot;Young Poisoner's Handbook, The (1995)&quot;,Crime|Drama\r\n118,If Lucy Fell (1996),Comedy|Romance\r\n119,&quot;Steal Big, Steal Little (1995)&quot;,Comedy\r\n120,Race the Sun (1996),Adventure|Comedy|Drama\r\n121,&quot;Boys of St. Vincent, The (1992)&quot;,Drama\r\n122,Boomerang (1992),Comedy|Romance\r\n123,Chungking Express (Chung Hing sam lam) (1994),Drama|Mystery|Romance\r\n124,&quot;Star Maker, The (Uomo delle stelle, L') (1995)&quot;,Drama\r\n125,Flirting With Disaster (1996),Comedy\r\n126,&quot;NeverEnding Story III, The (1994)&quot;,Adventure|Children|Fantasy\r\n127,&quot;Silences of the Palace, The (Saimt el Qusur) (1994)&quot;,Drama\r\n128,Jupiter's Wife (1994),Documentary\r\n129,Pie in the Sky (1996),Comedy|Romance\r\n130,Angela (1995),Drama\r\n131,Frankie Starlight (1995),Drama|Romance\r\n132,Jade (1995),Thriller\r\n133,Nueba Yol (1995),Comedy|Drama\r\n134,Sonic Outlaws (1995),Documentary\r\n135,Down Periscope (1996),Comedy\r\n136,From the Journals of Jean Seberg (1995),Documentary\r\n137,Man of the Year (1995),Documentary\r\n138,&quot;Neon Bible, The (1995)&quot;,Drama\r\n139,Target (1995),Action|Drama\r\n140,Up Close and Personal (1996),Drama|Romance\r\n141,&quot;Birdcage, The (1996)&quot;,Comedy\r\n142,Shadows (Cienie) (1988),Drama\r\n143,Gospa (1995),Drama\r\n144,&quot;Brothers McMullen, The (1995)&quot;,Comedy\r\n145,Bad Boys (1995),Action|Comedy|Crime|Drama|Thriller\r\n146,&quot;Amazing Panda Adventure, The (1995)&quot;,Adventure|Children\r\n147,&quot;Basketball Diaries, The (1995)&quot;,Drama\r\n148,&quot;Awfully Big Adventure, An (1995)&quot;,Drama\r\n149,Amateur (1994),Crime|Drama|Thriller\r\n150,Apollo 13 (1995),Adventure|Drama|IMAX\r\n151,Rob Roy (1995),Action|Drama|Romance|War\r\n152,&quot;Addiction, The (1995)&quot;,Drama|Horror\r\n153,Batman Forever (1995),Action|Adventure|Comedy|Crime\r\n154,Beauty of the Day (Belle de jour) (1967),Drama\r\n155,Beyond Rangoon (1995),Adventure|Drama|War\r\n156,Blue in the Face (1995),Comedy|Drama\r\n157,Canadian Bacon (1995),Comedy|War\r\n158,Casper (1995),Adventure|Children\r\n159,Clockers (1995),Crime|Drama|Mystery\r\n160,Congo (1995),Action|Adventure|Mystery|Sci-Fi\r\n161,Crimson Tide (1995),Drama|Thriller|War\r\n162,Crumb (1994),Documentary\r\n163,Desperado (1995),Action|Romance|Western\r\n164,Devil in a Blue Dress (1995),Crime|Film-Noir|Mystery|Thriller\r\n165,Die Hard: With a Vengeance (1995),Action|Crime|Thriller\r\n166,&quot;Doom Generation, The (1995)&quot;,Comedy|Crime|Drama\r\n167,Feast of July (1995),Drama\r\n168,First Knight (1995),Action|Drama|Romance\r\n169,Free Willy 2: The Adventure Home (1995),Adventure|Children|Drama\r\n170,Hackers (1995),Action|Adventure|Crime|Thriller\r\n171,Jeffrey (1995),Comedy|Drama\r\n172,Johnny Mnemonic (1995),Action|Sci-Fi|Thriller\r\n173,Judge Dredd (1995),Action|Crime|Sci-Fi\r\n174,Jury Duty (1995),Comedy\r\n175,Kids (1995),Drama\r\n176,Living in Oblivion (1995),Comedy\r\n177,Lord of Illusions (1995),Horror\r\n178,Love &amp; Human Remains (1993),Comedy|Drama\r\n179,Mad Love (1995),Drama|Romance\r\n180,Mallrats (1995),Comedy|Romance\r\n181,Mighty Morphin Power Rangers: The Movie (1995),Action|Children\r\n182,Moonlight and Valentino (1995),Drama|Romance\r\n183,Mute Witness (1994),Comedy|Horror|Thriller\r\n184,Nadja (1994),Drama\r\n185,&quot;Net, The (1995)&quot;,Action|Crime|Thriller\r\n186,Nine Months (1995),Comedy|Romance\r\n187,Party Girl (1995),Comedy\r\n188,&quot;Prophecy, The (1995)&quot;,Fantasy|Horror|Mystery\r\n189,Reckless (1995),Comedy|Fantasy\r\n190,Safe (1995),Thriller\r\n191,&quot;Scarlet Letter, The (1995)&quot;,Drama|Romance\r\n192,&quot;Show, The (1995)&quot;,Documentary\r\n193,Showgirls (1995),Drama\r\n194,Smoke (1995),Comedy|Drama\r\n195,Something to Talk About (1995),Comedy|Drama|Romance\r\n196,Species (1995),Horror|Sci-Fi\r\n197,&quot;Stars Fell on Henrietta, The (1995)&quot;,Drama\r\n198,Strange Days (1995),Action|Crime|Drama|Mystery|Sci-Fi|Thriller\r\n199,&quot;Umbrellas of Cherbourg, The (Parapluies de Cherbourg, Les) (1964)&quot;,Drama|Musical|Romance\r\n200,&quot;Tie That Binds, The (1995)&quot;,Thriller\r\n201,Three Wishes (1995),Drama|Fantasy\r\n202,Total Eclipse (1995),Drama|Romance\r\n203,&quot;To Wong Foo, Thanks for Everything! Julie Newmar (1995)&quot;,Comedy\r\n204,Under Siege 2: Dark Territory (1995),Action\r\n205,Unstrung Heroes (1995),Comedy|Drama\r\n206,Unzipped (1995),Documentary\r\n207,&quot;Walk in the Clouds, A (1995)&quot;,Drama|Romance\r\n208,Waterworld (1995),Action|Adventure|Sci-Fi\r\n209,White Man's Burden (1995),Drama\r\n210,Wild Bill (1995),Western\r\n211,&quot;Browning Version, The (1994)&quot;,Drama\r\n212,Bushwhacked (1995),Adventure|Comedy|Crime|Mystery\r\n213,Burnt by the Sun (Utomlyonnye solntsem) (1994),Drama\r\n214,Before the Rain (Pred dozhdot) (1994),Drama|War\r\n215,Before Sunrise (1995),Drama|Romance\r\n216,Billy Madison (1995),Comedy\r\n217,&quot;Babysitter, The (1995)&quot;,Drama|Thriller\r\n218,Boys on the Side (1995),Comedy|Drama\r\n219,&quot;Cure, The (1995)&quot;,Drama\r\n220,Castle Freak (1995),Horror\r\n222,Circle of Friends (1995),Drama|Romance\r\n223,Clerks (1994),Comedy\r\n224,Don Juan DeMarco (1995),Comedy|Drama|Romance\r\n225,Disclosure (1994),Drama|Thriller\r\n226,Dream Man (1995),Thriller\r\n227,Drop Zone (1994),Action|Thriller\r\n228,Destiny Turns on the Radio (1995),Comedy\r\n229,Death and the Maiden (1994),Drama|Thriller\r\n230,Dolores Claiborne (1995),Drama|Thriller\r\n231,Dumb &amp; Dumber (Dumb and Dumber) (1994),Adventure|Comedy\r\n232,Eat Drink Man Woman (Yin shi nan nu) (1994),Comedy|Drama|Romance\r\n233,Exotica (1994),Drama\r\n234,Exit to Eden (1994),Comedy\r\n235,Ed Wood (1994),Comedy|Drama\r\n236,French Kiss (1995),Action|Comedy|Romance\r\n237,Forget Paris (1995),Comedy|Romance\r\n238,Far From Home: The Adventures of Yellow Dog (1995),Adventure|Children\r\n239,&quot;Goofy Movie, A (1995)&quot;,Animation|Children|Comedy|Romance\r\n240,Hideaway (1995),Thriller\r\n241,Fluke (1995),Children|Drama\r\n242,Farinelli: il castrato (1994),Drama|Musical\r\n243,Gordy (1995),Children|Comedy|Fantasy\r\n244,Gumby: The Movie (1995),Animation|Children\r\n245,&quot;Glass Shield, The (1994)&quot;,Crime|Drama\r\n246,Hoop Dreams (1994),Documentary\r\n247,Heavenly Creatures (1994),Crime|Drama\r\n248,Houseguest (1994),Comedy\r\n249,Immortal Beloved (1994),Drama|Romance\r\n250,Heavyweights (Heavy Weights) (1995),Children|Comedy\r\n251,&quot;Hunted, The (1995)&quot;,Action\r\n252,I.Q. (1994),Comedy|Romance\r\n253,Interview with the Vampire: The Vampire Chronicles (1994),Drama|Horror\r\n254,Jefferson in Paris (1995),Drama\r\n255,&quot;Jerky Boys, The (1995)&quot;,Comedy\r\n256,Junior (1994),Comedy|Sci-Fi\r\n257,Just Cause (1995),Mystery|Thriller\r\n258,&quot;Kid in King Arthur's Court, A (1995)&quot;,Adventure|Children|Comedy|Fantasy|Romance\r\n259,Kiss of Death (1995),Crime|Drama|Thriller\r\n260,Star Wars: Episode IV - A New Hope (1977),Action|Adventure|Sci-Fi\r\n261,Little Women (1994),Drama\r\n262,&quot;Little Princess, A (1995)&quot;,Children|Drama\r\n263,Ladybird Ladybird (1994),Drama\r\n264,&quot;Enfer, L' (1994)&quot;,Drama\r\n265,Like Water for Chocolate (Como agua para chocolate) (1992),Drama|Fantasy|Romance\r\n266,Legends of the Fall (1994),Drama|Romance|War|Western\r\n267,Major Payne (1995),Comedy\r\n268,Little Odessa (1994),Crime|Drama\r\n269,My Crazy Life (Mi vida loca) (1993),Drama\r\n270,Love Affair (1994),Drama|Romance\r\n271,Losing Isaiah (1995),Drama\r\n272,&quot;Madness of King George, The (1994)&quot;,Comedy|Drama\r\n273,Mary Shelley's Frankenstein (Frankenstein) (1994),Drama|Horror|Sci-Fi\r\n274,Man of the House (1995),Comedy\r\n275,Mixed Nuts (1994),Comedy\r\n276,Milk Money (1994),Comedy|Romance\r\n277,Miracle on 34th Street (1994),Drama\r\n278,Miami Rhapsody (1995),Comedy\r\n279,My Family (1995),Drama\r\n280,Murder in the First (1995),Drama|Thriller\r\n281,Nobody's Fool (1994),Comedy|Drama|Romance\r\n282,Nell (1994),Drama\r\n283,New Jersey Drive (1995),Crime|Drama\r\n284,New York Cop (Nyû Yôku no koppu) (1993),Action|Crime\r\n285,Beyond Bedlam (1993),Drama|Horror\r\n286,Nemesis 2: Nebula (1995),Action|Sci-Fi|Thriller\r\n287,Nina Takes a Lover (1994),Comedy|Romance\r\n288,Natural Born Killers (1994),Action|Crime|Thriller\r\n289,Only You (1994),Comedy|Romance\r\n290,Once Were Warriors (1994),Crime|Drama\r\n291,Poison Ivy II (1996),Drama|Thriller\r\n292,Outbreak (1995),Action|Drama|Sci-Fi|Thriller\r\n293,Léon: The Professional (a.k.a. The Professional) (Léon) (1994),Action|Crime|Drama|Thriller\r\n294,&quot;Perez Family, The (1995)&quot;,Comedy|Romance\r\n295,&quot;Pyromaniac's Love Story, A (1995)&quot;,Comedy|Romance\r\n296,Pulp Fiction (1994),Comedy|Crime|Drama|Thriller\r\n297,Panther (1995),Drama\r\n298,Pushing Hands (Tui shou) (1992),Drama\r\n299,Priest (1994),Drama\r\n300,Quiz Show (1994),Drama\r\n301,Picture Bride (Bijo photo) (1994),Drama|Romance\r\n302,&quot;Queen Margot (Reine Margot, La) (1994)&quot;,Drama|Romance\r\n303,&quot;Quick and the Dead, The (1995)&quot;,Action|Thriller|Western\r\n304,Roommates (1995),Comedy|Drama\r\n305,Ready to Wear (Pret-A-Porter) (1994),Comedy\r\n306,Three Colors: Red (Trois couleurs: Rouge) (1994),Drama\r\n307,Three Colors: Blue (Trois couleurs: Bleu) (1993),Drama\r\n308,Three Colors: White (Trzy kolory: Bialy) (1994),Comedy|Drama\r\n309,&quot;Red Firecracker, Green Firecracker (Pao Da Shuang Deng) (1994)&quot;,Drama\r\n310,Rent-a-Kid (1995),Comedy\r\n311,Relative Fear (1994),Horror|Thriller\r\n312,Stuart Saves His Family (1995),Comedy\r\n313,&quot;Swan Princess, The (1994)&quot;,Animation|Children\r\n314,&quot;Secret of Roan Inish, The (1994)&quot;,Children|Drama|Fantasy|Mystery\r\n315,&quot;Specialist, The (1994)&quot;,Action|Drama|Thriller\r\n316,Stargate (1994),Action|Adventure|Sci-Fi\r\n317,&quot;Santa Clause, The (1994)&quot;,Comedy|Drama|Fantasy\r\n318,&quot;Shawshank Redemption, The (1994)&quot;,Crime|Drama\r\n319,Shallow Grave (1994),Comedy|Drama|Thriller\r\n320,Suture (1993),Film-Noir|Thriller\r\n321,Strawberry and Chocolate (Fresa y chocolate) (1993),Drama\r\n322,Swimming with Sharks (1995),Comedy|Drama\r\n324,&quot;Sum of Us, The (1994)&quot;,Comedy|Drama\r\n325,National Lampoon's Senior Trip (1995),Comedy\r\n326,To Live (Huozhe) (1994),Drama\r\n327,Tank Girl (1995),Action|Comedy|Sci-Fi\r\n328,Tales from the Crypt Presents: Demon Knight (1995),Horror|Thriller\r\n329,Star Trek: Generations (1994),Adventure|Drama|Sci-Fi\r\n330,Tales from the Hood (1995),Action|Crime|Horror\r\n331,Tom &amp; Viv (1994),Drama\r\n332,Village of the Damned (1995),Horror|Sci-Fi\r\n333,Tommy Boy (1995),Comedy\r\n334,Vanya on 42nd Street (1994),Drama\r\n335,Underneath (1995),Mystery|Thriller\r\n336,&quot;Walking Dead, The (1995)&quot;,Drama|War\r\n337,What's Eating Gilbert Grape (1993),Drama\r\n338,Virtuosity (1995),Action|Sci-Fi|Thriller\r\n339,While You Were Sleeping (1995),Comedy|Romance\r\n340,&quot;War, The (1994)&quot;,Adventure|Drama|War\r\n341,Double Happiness (1994),Drama\r\n342,Muriel's Wedding (1994),Comedy\r\n343,&quot;Baby-Sitters Club, The (1995)&quot;,Children\r\n344,Ace Ventura: Pet Detective (1994),Comedy\r\n345,&quot;Adventures of Priscilla, Queen of the Desert, The (1994)&quot;,Comedy|Drama\r\n346,Backbeat (1993),Drama|Musical\r\n347,Bitter Moon (1992),Drama|Film-Noir|Romance\r\n348,Bullets Over Broadway (1994),Comedy\r\n349,Clear and Present Danger (1994),Action|Crime|Drama|Thriller\r\n350,&quot;Client, The (1994)&quot;,Drama|Mystery|Thriller\r\n351,&quot;Corrina, Corrina (1994)&quot;,Comedy|Drama|Romance\r\n352,Crooklyn (1994),Comedy|Drama\r\n353,&quot;Crow, The (1994)&quot;,Action|Crime|Fantasy|Thriller\r\n354,Cobb (1994),Drama\r\n355,&quot;Flintstones, The (1994)&quot;,Children|Comedy|Fantasy\r\n356,Forrest Gump (1994),Comedy|Drama|Romance|War\r\n357,Four Weddings and a Funeral (1994),Comedy|Romance\r\n358,Higher Learning (1995),Drama\r\n359,I Like It Like That (1994),Comedy|Drama|Romance\r\n360,I Love Trouble (1994),Action|Comedy\r\n361,It Could Happen to You (1994),Comedy|Drama|Romance\r\n362,&quot;Jungle Book, The (1994)&quot;,Adventure|Children|Romance\r\n363,&quot;Wonderful, Horrible Life of Leni Riefenstahl, The (Macht der Bilder: Leni Riefenstahl, Die) (1993)&quot;,Documentary\r\n364,&quot;Lion King, The (1994)&quot;,Adventure|Animation|Children|Drama|Musical|IMAX\r\n365,Little Buddha (1993),Drama\r\n366,&quot;Wes Craven's New Nightmare (Nightmare on Elm Street Part 7: Freddy's Finale, A) (1994)&quot;,Drama|Horror|Mystery|Thriller\r\n367,&quot;Mask, The (1994)&quot;,Action|Comedy|Crime|Fantasy\r\n368,Maverick (1994),Adventure|Comedy|Western\r\n369,Mrs. Parker and the Vicious Circle (1994),Drama\r\n370,Naked Gun 33 1/3: The Final Insult (1994),Action|Comedy\r\n371,&quot;Paper, The (1994)&quot;,Comedy|Drama\r\n372,Reality Bites (1994),Comedy|Drama|Romance\r\n373,Red Rock West (1992),Thriller\r\n374,Richie Rich (1994),Children|Comedy\r\n375,Safe Passage (1994),Drama\r\n376,&quot;River Wild, The (1994)&quot;,Action|Thriller\r\n377,Speed (1994),Action|Romance|Thriller\r\n378,Speechless (1994),Comedy|Romance\r\n379,Timecop (1994),Action|Sci-Fi|Thriller\r\n380,True Lies (1994),Action|Adventure|Comedy|Romance|Thriller\r\n381,When a Man Loves a Woman (1994),Drama|Romance\r\n382,Wolf (1994),Drama|Horror|Romance|Thriller\r\n383,Wyatt Earp (1994),Western\r\n384,Bad Company (1995),Action|Crime|Drama\r\n385,&quot;Man of No Importance, A (1994)&quot;,Drama\r\n386,S.F.W. (1994),Drama\r\n387,&quot;Low Down Dirty Shame, A (1994)&quot;,Action|Comedy\r\n388,Boys Life (1995),Drama\r\n389,&quot;Colonel Chabert, Le (1994)&quot;,Drama|Romance|War\r\n390,Faster Pussycat! Kill! Kill! (1965),Action|Crime|Drama\r\n391,Jason's Lyric (1994),Crime|Drama\r\n392,&quot;Secret Adventures of Tom Thumb, The (1993)&quot;,Adventure|Animation\r\n393,Street Fighter (1994),Action|Adventure|Fantasy\r\n394,Coldblooded (1995),Comedy\r\n395,Desert Winds (1995),Drama|Fantasy|Romance\r\n396,Fall Time (1995),Drama\r\n397,&quot;Fear, The (1995)&quot;,Horror\r\n398,Frank and Ollie (1995),Documentary\r\n399,Girl in the Cadillac (1995),Drama\r\n400,Homage (1995),Drama\r\n401,Mirage (1995),Action|Thriller\r\n402,Open Season (1996),Comedy\r\n403,Two Crimes (Dos crímenes) (1995),Comedy|Crime|Drama\r\n404,Brother Minister: The Assassination of Malcolm X (1994),Documentary\r\n405,Highlander III: The Sorcerer (a.k.a. Highlander: The Final Dimension) (1994),Action|Fantasy\r\n406,Federal Hill (1994),Drama\r\n407,In the Mouth of Madness (1995),Horror|Thriller\r\n408,8 Seconds (1994),Drama\r\n409,Above the Rim (1994),Crime|Drama\r\n410,Addams Family Values (1993),Children|Comedy|Fantasy\r\n411,Martin Lawrence: You So Crazy (1994),Comedy|Documentary\r\n412,&quot;Age of Innocence, The (1993)&quot;,Drama\r\n413,Airheads (1994),Comedy\r\n414,&quot;Air Up There, The (1994)&quot;,Comedy\r\n415,Another Stakeout (1993),Comedy|Thriller\r\n416,Bad Girls (1994),Western\r\n417,Barcelona (1994),Comedy|Romance\r\n418,Being Human (1993),Drama\r\n419,&quot;Beverly Hillbillies, The (1993)&quot;,Comedy\r\n420,Beverly Hills Cop III (1994),Action|Comedy|Crime|Thriller\r\n421,Black Beauty (1994),Adventure|Children|Drama\r\n422,Blink (1994),Thriller\r\n423,Blown Away (1994),Action|Thriller\r\n424,Blue Chips (1994),Drama\r\n425,Blue Sky (1994),Drama|Romance\r\n426,Body Snatchers (1993),Horror|Sci-Fi|Thriller\r\n427,Boxing Helena (1993),Drama|Mystery|Romance|Thriller\r\n428,&quot;Bronx Tale, A (1993)&quot;,Drama\r\n429,Cabin Boy (1994),Comedy\r\n430,Calendar Girl (1993),Comedy|Drama\r\n431,Carlito's Way (1993),Crime|Drama\r\n432,City Slickers II: The Legend of Curly's Gold (1994),Adventure|Comedy|Western\r\n433,Clean Slate (1994),Comedy\r\n434,Cliffhanger (1993),Action|Adventure|Thriller\r\n435,Coneheads (1993),Comedy|Sci-Fi\r\n436,Color of Night (1994),Drama|Thriller\r\n437,Cops and Robbersons (1994),Comedy\r\n438,&quot;Cowboy Way, The (1994)&quot;,Action|Comedy|Drama\r\n439,Dangerous Game (1993),Drama\r\n440,Dave (1993),Comedy|Romance\r\n441,Dazed and Confused (1993),Comedy\r\n442,Demolition Man (1993),Action|Adventure|Sci-Fi\r\n443,&quot;Endless Summer 2, The (1994)&quot;,Adventure|Documentary\r\n444,Even Cowgirls Get the Blues (1993),Comedy|Romance\r\n445,Fatal Instinct (1993),Comedy\r\n446,Farewell My Concubine (Ba wang bie ji) (1993),Drama|Romance\r\n447,&quot;Favor, The (1994)&quot;,Comedy|Romance\r\n448,Fearless (1993),Drama\r\n449,Fear of a Black Hat (1994),Comedy\r\n450,With Honors (1994),Comedy|Drama\r\n451,Flesh and Bone (1993),Drama|Mystery|Romance\r\n452,Widows' Peak (1994),Drama\r\n453,For Love or Money (1993),Comedy|Romance\r\n454,&quot;Firm, The (1993)&quot;,Drama|Thriller\r\n455,Free Willy (1993),Adventure|Children|Drama\r\n456,Fresh (1994),Crime|Drama|Thriller\r\n457,&quot;Fugitive, The (1993)&quot;,Thriller\r\n458,Geronimo: An American Legend (1993),Drama|Western\r\n459,&quot;Getaway, The (1994)&quot;,Action|Adventure|Crime|Drama|Romance|Thriller\r\n460,Getting Even with Dad (1994),Comedy\r\n461,Go Fish (1994),Drama|Romance\r\n462,&quot;Good Man in Africa, A (1994)&quot;,Action|Adventure\r\n463,Guilty as Sin (1993),Crime|Drama|Thriller\r\n464,Hard Target (1993),Action|Adventure|Crime|Thriller\r\n465,Heaven &amp; Earth (1993),Action|Drama|War\r\n466,Hot Shots! Part Deux (1993),Action|Comedy|War\r\n467,Live Nude Girls (1995),Comedy\r\n468,&quot;Englishman Who Went Up a Hill But Came Down a Mountain, The (1995)&quot;,Comedy|Romance\r\n469,&quot;House of the Spirits, The (1993)&quot;,Drama|Romance\r\n470,House Party 3 (1994),Comedy\r\n471,&quot;Hudsucker Proxy, The (1994)&quot;,Comedy\r\n472,I'll Do Anything (1994),Comedy|Drama\r\n473,In the Army Now (1994),Comedy|War\r\n474,In the Line of Fire (1993),Action|Thriller\r\n475,In the Name of the Father (1993),Drama\r\n476,&quot;Inkwell, The (1994)&quot;,Comedy|Drama\r\n477,What's Love Got to Do with It? (1993),Drama|Musical\r\n478,Jimmy Hollywood (1994),Comedy|Crime|Drama\r\n479,Judgment Night (1993),Action|Crime|Thriller\r\n480,Jurassic Park (1993),Action|Adventure|Sci-Fi|Thriller\r\n481,Kalifornia (1993),Drama|Thriller\r\n482,Killing Zoe (1994),Crime|Drama|Thriller\r\n483,King of the Hill (1993),Drama\r\n484,Lassie (1994),Adventure|Children\r\n485,Last Action Hero (1993),Action|Adventure|Comedy|Fantasy\r\n486,Life with Mikey (1993),Comedy\r\n487,Lightning Jack (1994),Comedy|Western\r\n488,M. Butterfly (1993),Drama|Romance\r\n489,Made in America (1993),Comedy\r\n490,Malice (1993),Thriller\r\n491,&quot;Man Without a Face, The (1993)&quot;,Drama\r\n492,Manhattan Murder Mystery (1993),Comedy|Mystery\r\n493,Menace II Society (1993),Action|Crime|Drama\r\n494,Executive Decision (1996),Action|Adventure|Thriller\r\n495,In the Realm of the Senses (Ai no corrida) (1976),Drama\r\n496,What Happened Was... (1994),Comedy|Drama|Romance|Thriller\r\n497,Much Ado About Nothing (1993),Comedy|Romance\r\n498,Mr. Jones (1993),Drama|Romance\r\n499,Mr. Wonderful (1993),Comedy|Romance\r\n500,Mrs. Doubtfire (1993),Comedy|Drama\r\n501,Naked (1993),Drama\r\n502,&quot;Next Karate Kid, The (1994)&quot;,Action|Children|Romance\r\n503,&quot;New Age, The (1994)&quot;,Drama\r\n504,No Escape (1994),Action|Drama|Sci-Fi\r\n505,North (1994),Comedy\r\n506,Orlando (1992),Drama|Fantasy|Romance\r\n507,&quot;Perfect World, A (1993)&quot;,Crime|Drama|Thriller\r\n508,Philadelphia (1993),Drama\r\n509,&quot;Piano, The (1993)&quot;,Drama|Romance\r\n510,Poetic Justice (1993),Drama\r\n511,&quot;Program, The (1993)&quot;,Action|Drama\r\n512,&quot;Puppet Masters, The (1994)&quot;,Horror|Sci-Fi\r\n513,Radioland Murders (1994),Comedy|Mystery|Romance\r\n514,&quot;Ref, The (1994)&quot;,Comedy\r\n515,&quot;Remains of the Day, The (1993)&quot;,Drama|Romance\r\n516,Renaissance Man (1994),Comedy|Drama\r\n517,Rising Sun (1993),Action|Drama|Mystery\r\n518,&quot;Road to Wellville, The (1994)&quot;,Comedy\r\n519,RoboCop 3 (1993),Action|Crime|Drama|Sci-Fi|Thriller\r\n520,Robin Hood: Men in Tights (1993),Comedy\r\n521,Romeo Is Bleeding (1993),Crime|Thriller\r\n522,Romper Stomper (1992),Action|Drama\r\n523,Ruby in Paradise (1993),Drama\r\n524,Rudy (1993),Drama\r\n525,&quot;Saint of Fort Washington, The (1993)&quot;,Drama\r\n526,&quot;Savage Nights (Nuits fauves, Les) (1992)&quot;,Drama\r\n527,Schindler's List (1993),Drama|War\r\n528,&quot;Scout, The (1994)&quot;,Comedy|Drama\r\n529,Searching for Bobby Fischer (1993),Drama\r\n530,Second Best (1994),Drama\r\n531,&quot;Secret Garden, The (1993)&quot;,Children|Drama\r\n532,Serial Mom (1994),Comedy|Crime|Horror\r\n533,&quot;Shadow, The (1994)&quot;,Action|Adventure|Fantasy|Mystery\r\n534,Shadowlands (1993),Drama|Romance\r\n535,Short Cuts (1993),Drama\r\n536,&quot;Simple Twist of Fate, A (1994)&quot;,Drama\r\n537,Sirens (1994),Drama\r\n538,Six Degrees of Separation (1993),Drama\r\n539,Sleepless in Seattle (1993),Comedy|Drama|Romance\r\n540,Sliver (1993),Thriller\r\n541,Blade Runner (1982),Action|Sci-Fi|Thriller\r\n542,Son in Law (1993),Comedy|Drama|Romance\r\n543,So I Married an Axe Murderer (1993),Comedy|Romance|Thriller\r\n544,Striking Distance (1993),Action|Crime\r\n545,Harem (1985),Drama\r\n546,Super Mario Bros. (1993),Action|Adventure|Children|Comedy|Fantasy|Sci-Fi\r\n547,Surviving the Game (1994),Action|Adventure|Thriller\r\n548,Terminal Velocity (1994),Action|Mystery|Thriller\r\n549,Thirty-Two Short Films About Glenn Gould (1993),Drama|Musical\r\n\n*** WARNING: skipped 15580 bytes of output ***\n\n889,1-900 (06) (1994),Drama|Romance\r\n890,Baton Rouge (Bâton rouge) (1988),Thriller\r\n891,Halloween: The Curse of Michael Myers (Halloween 6: The Curse of Michael Myers) (1995),Horror|Thriller\r\n892,Twelfth Night (1996),Comedy|Drama|Romance\r\n893,Mother Night (1996),Drama\r\n894,Liebelei (1933),Romance\r\n895,Venice/Venice (1992),Drama\r\n896,Wild Reeds (Les roseaux sauvages) (1994),Drama\r\n897,For Whom the Bell Tolls (1943),Adventure|Drama|Romance|War\r\n898,&quot;Philadelphia Story, The (1940)&quot;,Comedy|Drama|Romance\r\n899,Singin' in the Rain (1952),Comedy|Musical|Romance\r\n900,&quot;American in Paris, An (1951)&quot;,Musical|Romance\r\n901,Funny Face (1957),Comedy|Musical\r\n902,Breakfast at Tiffany's (1961),Drama|Romance\r\n903,Vertigo (1958),Drama|Mystery|Romance|Thriller\r\n904,Rear Window (1954),Mystery|Thriller\r\n905,It Happened One Night (1934),Comedy|Romance\r\n906,Gaslight (1944),Drama|Thriller\r\n907,&quot;Gay Divorcee, The (1934)&quot;,Comedy|Musical|Romance\r\n908,North by Northwest (1959),Action|Adventure|Mystery|Romance|Thriller\r\n909,&quot;Apartment, The (1960)&quot;,Comedy|Drama|Romance\r\n910,Some Like It Hot (1959),Comedy|Crime\r\n911,Charade (1963),Comedy|Crime|Mystery|Romance|Thriller\r\n912,Casablanca (1942),Drama|Romance\r\n913,&quot;Maltese Falcon, The (1941)&quot;,Film-Noir|Mystery\r\n914,My Fair Lady (1964),Comedy|Drama|Musical|Romance\r\n915,Sabrina (1954),Comedy|Romance\r\n916,Roman Holiday (1953),Comedy|Drama|Romance\r\n917,&quot;Little Princess, The (1939)&quot;,Children|Drama\r\n918,Meet Me in St. Louis (1944),Musical\r\n919,&quot;Wizard of Oz, The (1939)&quot;,Adventure|Children|Fantasy|Musical\r\n920,Gone with the Wind (1939),Drama|Romance|War\r\n921,My Favorite Year (1982),Comedy\r\n922,Sunset Blvd. (a.k.a. Sunset Boulevard) (1950),Drama|Film-Noir|Romance\r\n923,Citizen Kane (1941),Drama|Mystery\r\n924,2001: A Space Odyssey (1968),Adventure|Drama|Sci-Fi\r\n925,Golden Earrings (1947),Adventure|Romance|War\r\n926,All About Eve (1950),Drama\r\n927,&quot;Women, The (1939)&quot;,Comedy\r\n928,Rebecca (1940),Drama|Mystery|Romance|Thriller\r\n929,Foreign Correspondent (1940),Drama|Film-Noir|Mystery|Thriller\r\n930,Notorious (1946),Film-Noir|Romance|Thriller\r\n931,Spellbound (1945),Mystery|Romance|Thriller\r\n932,&quot;Affair to Remember, An (1957)&quot;,Drama|Romance\r\n933,To Catch a Thief (1955),Crime|Mystery|Romance|Thriller\r\n934,Father of the Bride (1950),Comedy\r\n935,&quot;Band Wagon, The (1953)&quot;,Comedy|Musical\r\n936,Ninotchka (1939),Comedy|Romance\r\n937,Love in the Afternoon (1957),Comedy|Romance\r\n938,Gigi (1958),Musical\r\n939,&quot;Reluctant Debutante, The (1958)&quot;,Comedy|Drama\r\n940,&quot;Adventures of Robin Hood, The (1938)&quot;,Action|Adventure|Romance\r\n941,&quot;Mark of Zorro, The (1940)&quot;,Adventure\r\n942,Laura (1944),Crime|Film-Noir|Mystery\r\n943,&quot;Ghost and Mrs. Muir, The (1947)&quot;,Drama|Fantasy|Romance\r\n944,Lost Horizon (1937),Drama\r\n945,Top Hat (1935),Comedy|Musical|Romance\r\n946,To Be or Not to Be (1942),Comedy|Drama|War\r\n947,My Man Godfrey (1936),Comedy|Romance\r\n948,Giant (1956),Drama|Romance|Western\r\n949,East of Eden (1955),Drama\r\n950,&quot;Thin Man, The (1934)&quot;,Comedy|Crime\r\n951,His Girl Friday (1940),Comedy|Romance\r\n952,Around the World in 80 Days (1956),Adventure|Comedy\r\n953,It's a Wonderful Life (1946),Drama|Fantasy|Romance\r\n954,Mr. Smith Goes to Washington (1939),Drama\r\n955,Bringing Up Baby (1938),Comedy|Romance\r\n956,Penny Serenade (1941),Drama|Romance\r\n957,&quot;Scarlet Letter, The (1926)&quot;,Drama\r\n958,Lady of Burlesque (1943),Comedy|Mystery\r\n959,Of Human Bondage (1934),Drama\r\n960,Angel on My Shoulder (1946),Crime|Drama\r\n961,Little Lord Fauntleroy (1936),Drama\r\n962,They Made Me a Criminal (I Became a Criminal) (They Made Me a Fugitive) (1939),Crime|Drama\r\n963,&quot;Inspector General, The (1949)&quot;,Musical\r\n964,Angel and the Badman (1947),Romance|Western\r\n965,&quot;39 Steps, The (1935)&quot;,Drama|Mystery|Thriller\r\n966,&quot;Walk in the Sun, A (1945)&quot;,War\r\n967,&quot;Outlaw, The (1943)&quot;,Western\r\n968,Night of the Living Dead (1968),Horror|Sci-Fi|Thriller\r\n969,&quot;African Queen, The (1951)&quot;,Adventure|Comedy|Romance|War\r\n970,Beat the Devil (1953),Adventure|Comedy|Crime|Drama|Romance\r\n971,Cat on a Hot Tin Roof (1958),Drama\r\n972,&quot;Last Time I Saw Paris, The (1954)&quot;,Drama\r\n973,Meet John Doe (1941),Comedy|Drama\r\n974,Algiers (1938),Drama|Romance\r\n975,Something to Sing About (1937),Comedy|Musical\r\n976,&quot;Farewell to Arms, A (1932)&quot;,Romance|War\r\n977,Moonlight Murder (1936),Mystery\r\n979,Nothing Personal (1995),Drama|War\r\n980,&quot;Yes, Madam (a.k.a. Police Assassins) (a.k.a. In the Line of Duty 2) (Huang gu shi jie) (1985)&quot;,Action\r\n981,Dangerous Ground (1997),Drama\r\n982,Picnic (1955),Drama\r\n983,Madagascar Skin (1995),Romance\r\n984,&quot;Pompatus of Love, The (1996)&quot;,Comedy|Drama\r\n985,Small Wonders (1995),Documentary\r\n986,Fly Away Home (1996),Adventure|Children\r\n987,Bliss (1997),Drama|Romance\r\n988,Grace of My Heart (1996),Comedy|Drama\r\n989,Brother of Sleep (Schlafes Bruder) (1995),Drama\r\n990,Maximum Risk (1996),Action|Adventure|Thriller\r\n991,Michael Collins (1996),Drama\r\n992,&quot;Rich Man's Wife, The (1996)&quot;,Thriller\r\n993,Infinity (1996),Drama\r\n994,Big Night (1996),Comedy|Drama\r\n996,Last Man Standing (1996),Action|Crime|Drama|Thriller\r\n997,Caught (1996),Drama|Thriller\r\n998,Set It Off (1996),Action|Crime\r\n999,2 Days in the Valley (1996),Crime|Film-Noir\r\n1000,Curdled (1996),Crime\r\n1001,&quot;Associate, The (Associé, L') (1979)&quot;,Comedy\r\n1002,Ed's Next Move (1996),Comedy|Romance\r\n1003,Extreme Measures (1996),Drama|Thriller\r\n1004,&quot;Glimmer Man, The (1996)&quot;,Action|Thriller\r\n1005,D3: The Mighty Ducks (1996),Children|Comedy\r\n1006,&quot;Chamber, The (1996)&quot;,Drama\r\n1007,&quot;Apple Dumpling Gang, The (1975)&quot;,Children|Comedy|Western\r\n1008,&quot;Davy Crockett, King of the Wild Frontier (1955)&quot;,Adventure|Western\r\n1009,Escape to Witch Mountain (1975),Adventure|Children|Fantasy\r\n1010,&quot;Love Bug, The (1969)&quot;,Children|Comedy\r\n1011,Herbie Rides Again (1974),Adventure|Children|Comedy\r\n1012,Old Yeller (1957),Children|Drama\r\n1013,&quot;Parent Trap, The (1961)&quot;,Children|Comedy|Romance\r\n1014,Pollyanna (1960),Children|Comedy|Drama\r\n1015,Homeward Bound: The Incredible Journey (1993),Adventure|Children|Drama\r\n1016,&quot;Shaggy Dog, The (1959)&quot;,Children|Comedy\r\n1017,Swiss Family Robinson (1960),Adventure|Children\r\n1018,That Darn Cat! (1965),Children|Comedy|Mystery\r\n1019,&quot;20,000 Leagues Under the Sea (1954)&quot;,Adventure|Drama|Sci-Fi\r\n1020,Cool Runnings (1993),Comedy\r\n1021,Angels in the Outfield (1994),Children|Comedy\r\n1022,Cinderella (1950),Animation|Children|Fantasy|Musical|Romance\r\n1023,Winnie the Pooh and the Blustery Day (1968),Animation|Children|Musical\r\n1024,&quot;Three Caballeros, The (1945)&quot;,Animation|Children|Musical\r\n1025,&quot;Sword in the Stone, The (1963)&quot;,Animation|Children|Fantasy|Musical\r\n1026,So Dear to My Heart (1949),Children|Drama\r\n1027,Robin Hood: Prince of Thieves (1991),Adventure|Drama\r\n1028,Mary Poppins (1964),Children|Comedy|Fantasy|Musical\r\n1029,Dumbo (1941),Animation|Children|Drama|Musical\r\n1030,Pete's Dragon (1977),Adventure|Animation|Children|Musical\r\n1031,Bedknobs and Broomsticks (1971),Adventure|Children|Musical\r\n1032,Alice in Wonderland (1951),Adventure|Animation|Children|Fantasy|Musical\r\n1033,&quot;Fox and the Hound, The (1981)&quot;,Animation|Children|Drama\r\n1034,Freeway (1996),Comedy|Crime|Drama|Thriller\r\n1035,&quot;Sound of Music, The (1965)&quot;,Musical|Romance\r\n1036,Die Hard (1988),Action|Crime|Thriller\r\n1037,&quot;Lawnmower Man, The (1992)&quot;,Action|Horror|Sci-Fi|Thriller\r\n1038,Unhook the Stars (1996),Drama\r\n1039,Synthetic Pleasures (1995),Documentary\r\n1040,&quot;Secret Agent, The (1996)&quot;,Drama\r\n1041,Secrets &amp; Lies (1996),Drama\r\n1042,That Thing You Do! (1996),Comedy|Drama\r\n1043,To Gillian on Her 37th Birthday (1996),Drama|Romance\r\n1044,Surviving Picasso (1996),Drama\r\n1045,Love Is All There Is (1996),Comedy|Drama\r\n1046,Beautiful Thing (1996),Drama|Romance\r\n1047,&quot;Long Kiss Goodnight, The (1996)&quot;,Action|Drama|Thriller\r\n1049,&quot;Ghost and the Darkness, The (1996)&quot;,Action|Adventure\r\n1050,Looking for Richard (1996),Documentary|Drama\r\n1051,Trees Lounge (1996),Drama\r\n1052,&quot;Proprietor, The (1996)&quot;,Drama\r\n1053,Normal Life (1996),Crime|Drama|Romance\r\n1054,Get on the Bus (1996),Drama\r\n1055,Shadow Conspiracy (1997),Thriller\r\n1056,Jude (1996),Drama\r\n1057,Everyone Says I Love You (1996),Comedy|Musical|Romance\r\n1058,Bitter Sugar (Azúcar amarga) (1996),Drama\r\n1059,William Shakespeare's Romeo + Juliet (1996),Drama|Romance\r\n1060,Swingers (1996),Comedy|Drama\r\n1061,Sleepers (1996),Thriller\r\n1062,&quot;Sunchaser, The (1996)&quot;,Drama\r\n1063,Johns (1996),Drama\r\n1064,Aladdin and the King of Thieves (1996),Animation|Children|Comedy|Fantasy|Musical|Romance\r\n1065,Five Angles on Murder (1950),Mystery\r\n1066,Shall We Dance (1937),Comedy|Musical|Romance\r\n1067,&quot;Damsel in Distress, A (1937)&quot;,Comedy|Musical|Romance\r\n1068,Crossfire (1947),Crime|Film-Noir\r\n1069,&quot;Murder, My Sweet (1944)&quot;,Crime|Film-Noir|Thriller\r\n1070,Macao (1952),Adventure\r\n1071,For the Moment (1994),Romance|War\r\n1073,Willy Wonka &amp; the Chocolate Factory (1971),Children|Comedy|Fantasy|Musical\r\n1075,&quot;Sexual Life of the Belgians, The (Vie sexuelle des Belges 1950-1978, La) (1994)&quot;,Comedy|Romance\r\n1076,&quot;Innocents, The (1961)&quot;,Drama|Horror|Thriller\r\n1077,Sleeper (1973),Comedy|Sci-Fi\r\n1078,Bananas (1971),Comedy|War\r\n1079,&quot;Fish Called Wanda, A (1988)&quot;,Comedy|Crime\r\n1080,Monty Python's Life of Brian (1979),Comedy\r\n1081,Victor/Victoria (1982),Comedy|Musical|Romance\r\n1082,&quot;Candidate, The (1972)&quot;,Drama\r\n1083,&quot;Great Race, The (1965)&quot;,Comedy|Musical\r\n1084,Bonnie and Clyde (1967),Crime|Drama\r\n1085,&quot;Old Man and the Sea, The (1958)&quot;,Adventure|Drama\r\n1086,Dial M for Murder (1954),Crime|Mystery|Thriller\r\n1087,Madame Butterfly (1995),Musical\r\n1088,Dirty Dancing (1987),Drama|Musical|Romance\r\n1089,Reservoir Dogs (1992),Crime|Mystery|Thriller\r\n1090,Platoon (1986),Drama|War\r\n1091,Weekend at Bernie's (1989),Comedy\r\n1092,Basic Instinct (1992),Crime|Mystery|Thriller\r\n1093,&quot;Doors, The (1991)&quot;,Drama\r\n1094,&quot;Crying Game, The (1992)&quot;,Drama|Romance|Thriller\r\n1095,Glengarry Glen Ross (1992),Drama\r\n1096,Sophie's Choice (1982),Drama\r\n1097,E.T. the Extra-Terrestrial (1982),Children|Drama|Sci-Fi\r\n1098,&quot;Search for One-eye Jimmy, The (1996)&quot;,Comedy\r\n1099,&quot;Christmas Carol, A (1938)&quot;,Children|Drama|Fantasy\r\n1100,Days of Thunder (1990),Action|Drama|Romance\r\n1101,Top Gun (1986),Action|Romance\r\n1102,American Strays (1996),Action\r\n1103,Rebel Without a Cause (1955),Drama\r\n1104,&quot;Streetcar Named Desire, A (1951)&quot;,Drama\r\n1105,Children of the Corn IV: The Gathering (1996),Horror\r\n1106,&quot;Leopard Son, The (1996)&quot;,Documentary\r\n1107,Loser (1991),Comedy\r\n1109,Charm's Incidents (Charms Zwischenfälle) (1996),Drama\r\n1110,Bird of Prey (1996),Action\r\n1111,Microcosmos (Microcosmos: Le peuple de l'herbe) (1996),Documentary\r\n1112,Palookaville (1996),Action|Comedy|Drama\r\n1113,&quot;Associate, The (1996)&quot;,Comedy\r\n1114,&quot;Funeral, The (1996)&quot;,Crime|Drama\r\n1115,Sleepover (1995),Drama\r\n1116,&quot;Single Girl, A (Fille seule, La) (1995)&quot;,Drama\r\n1117,&quot;Eighth Day, The (Huitième jour, Le) (1996)&quot;,Drama\r\n1118,North Star (a.k.a. Tashunga) (1995),Action|Adventure|Crime|Drama|Western\r\n1119,Drunks (1995),Drama\r\n1120,&quot;People vs. Larry Flynt, The (1996)&quot;,Comedy|Drama\r\n1121,Glory Daze (1995),Drama\r\n1122,Plutonium Circus (1995),Documentary\r\n1123,&quot;Perfect Candidate, A (1996)&quot;,Documentary\r\n1124,On Golden Pond (1981),Drama\r\n1125,&quot;Return of the Pink Panther, The (1975)&quot;,Comedy|Crime\r\n1126,Drop Dead Fred (1991),Comedy|Fantasy\r\n1127,&quot;Abyss, The (1989)&quot;,Action|Adventure|Sci-Fi|Thriller\r\n1128,&quot;Fog, The (1980)&quot;,Horror\r\n1129,Escape from New York (1981),Action|Adventure|Sci-Fi|Thriller\r\n1130,&quot;Howling, The (1980)&quot;,Horror|Mystery\r\n1131,Jean de Florette (1986),Drama|Mystery\r\n1132,Manon of the Spring (Manon des sources) (1986),Drama\r\n1133,Talking About Sex (1994),Comedy|Drama\r\n1134,Johnny 100 Pesos (Johnny cien pesos) (1993),Action|Drama\r\n1135,Private Benjamin (1980),Comedy\r\n1136,Monty Python and the Holy Grail (1975),Adventure|Comedy|Fantasy\r\n1137,Hustler White (1996),Romance\r\n1138,Dadetown (1995),Drama\r\n1139,Everything Relative (1996),Drama\r\n1140,Entertaining Angels: The Dorothy Day Story (1996),Drama\r\n1141,Last Call (Hoogste tijd) (1995),Drama\r\n1142,Get Over It (1996),Drama\r\n1143,Three Lives and Only One Death (Trois vies &amp; une seule mort) (1996),Comedy\r\n1144,&quot;Line King: The Al Hirschfeld Story, The (1996)&quot;,Documentary\r\n1145,Snowriders (1996),Documentary\r\n1146,Curtis's Charm (1995),Comedy|Drama\r\n1147,When We Were Kings (1996),Documentary\r\n1148,Wallace &amp; Gromit: The Wrong Trousers (1993),Animation|Children|Comedy|Crime\r\n1149,JLG/JLG (JLG/JLG - autoportrait de décembre) (1994),Documentary|Drama\r\n1150,&quot;Return of Martin Guerre, The (Retour de Martin Guerre, Le) (1982)&quot;,Drama\r\n1151,Faust (1994),Animation|Comedy|Thriller\r\n1152,He Walked by Night (1948),Crime|Film-Noir|Thriller\r\n1153,Raw Deal (1948),Film-Noir\r\n1154,T-Men (1947),Film-Noir\r\n1155,&quot;Invitation, The (Zaproszenie) (1986)&quot;,Drama\r\n1156,&quot;Children Are Watching Us, The (Bambini ci guardano, I) (1944)&quot;,Drama\r\n1157,&quot;Symphonie pastorale, La (1946)&quot;,Drama\r\n1158,Here Comes Cookie (1935),Comedy\r\n1159,Love in Bloom (1935),Romance\r\n1160,Six of a Kind (1934),Comedy\r\n1161,&quot;Tin Drum, The (Blechtrommel, Die) (1979)&quot;,Drama|War\r\n1162,&quot;Ruling Class, The (1972)&quot;,Comedy|Drama\r\n1163,Mina Tannenbaum (1994),Drama\r\n1164,2 ou 3 choses que je sais d'elle (2 or 3 Things I Know About Her) (1967),Drama\r\n1165,&quot;Bloody Child, The (1996)&quot;,Drama|Thriller\r\n1166,Farmer &amp; Chase (1997),Comedy\r\n1167,Dear God (1996),Comedy\r\n1168,Bad Moon (1996),Action|Adventure|Horror\r\n1169,American Dream (1990),Documentary\r\n1170,Best of the Best 3: No Turning Back (1995),Action\r\n1171,Bob Roberts (1992),Comedy\r\n1172,Cinema Paradiso (Nuovo cinema Paradiso) (1989),Drama\r\n1173,&quot;Cook the Thief His Wife &amp; Her Lover, The (1989)&quot;,Comedy|Drama\r\n1174,Dead Tired (Grosse Fatigue) (1994),Comedy\r\n1175,Delicatessen (1991),Comedy|Drama|Romance\r\n1176,&quot;Double Life of Veronique, The (Double Vie de Véronique, La) (1991)&quot;,Drama|Fantasy|Romance\r\n1177,Enchanted April (1992),Drama|Romance\r\n1178,Paths of Glory (1957),Drama|War\r\n1179,&quot;Grifters, The (1990)&quot;,Crime|Drama|Film-Noir\r\n1180,Hear My Song (1991),Comedy\r\n1181,&quot;Shooter, The (1997)&quot;,Western\r\n1183,&quot;English Patient, The (1996)&quot;,Drama|Romance|War\r\n1184,Mediterraneo (1991),Comedy|Drama\r\n1185,My Left Foot (1989),Drama\r\n1186,&quot;Sex, Lies, and Videotape (1989)&quot;,Drama\r\n1187,Passion Fish (1992),Drama\r\n1188,Strictly Ballroom (1992),Comedy|Romance\r\n1189,&quot;Thin Blue Line, The (1988)&quot;,Documentary\r\n1190,Tie Me Up! Tie Me Down! (¡Átame!) (1990),Crime|Drama|Romance\r\n1191,Madonna: Truth or Dare (1991),Documentary|Musical\r\n1192,Paris Is Burning (1990),Documentary\r\n1193,One Flew Over the Cuckoo's Nest (1975),Drama\r\n1194,Cheech and Chong's Up in Smoke (1978),Comedy\r\n1196,Star Wars: Episode V - The Empire Strikes Back (1980),Action|Adventure|Sci-Fi\r\n1197,&quot;Princess Bride, The (1987)&quot;,Action|Adventure|Comedy|Fantasy|Romance\r\n1198,Raiders of the Lost Ark (Indiana Jones and the Raiders of the Lost Ark) (1981),Action|Adventure\r\n1199,Brazil (1985),Fantasy|Sci-Fi\r\n1200,Aliens (1986),Action|Adventure|Horror|Sci-Fi\r\n1201,&quot;Good, the Bad and the Ugly, The (Buono, il brutto, il cattivo, Il) (1966)&quot;,Action|Adventure|Western\r\n1202,Withnail &amp; I (1987),Comedy\r\n1203,12 Angry Men (1957),Drama\r\n1204,Lawrence of Arabia (1962),Adventure|Drama|War\r\n1206,&quot;Clockwork Orange, A (1971)&quot;,Crime|Drama|Sci-Fi|Thriller\r\n1207,To Kill a Mockingbird (1962),Drama\r\n1208,Apocalypse Now (1979),Action|Drama|War\r\n1209,Once Upon a Time in the West (C'era una volta il West) (1968),Action|Drama|Western\r\n1210,Star Wars: Episode VI - Return of the Jedi (1983),Action|Adventure|Sci-Fi\r\n1211,&quot;Wings of Desire (Himmel über Berlin, Der) (1987)&quot;,Drama|Fantasy|Romance\r\n1212,&quot;Third Man, The (1949)&quot;,Film-Noir|Mystery|Thriller\r\n1213,Goodfellas (1990),Crime|Drama\r\n1214,Alien (1979),Horror|Sci-Fi\r\n1215,Army of Darkness (1993),Action|Adventure|Comedy|Fantasy|Horror\r\n1216,&quot;Big Blue, The (Grand bleu, Le) (1988)&quot;,Adventure|Drama|Romance\r\n1217,Ran (1985),Drama|War\r\n1218,&quot;Killer, The (Die xue shuang xiong) (1989)&quot;,Action|Crime|Drama|Thriller\r\n1219,Psycho (1960),Crime|Horror\r\n1220,&quot;Blues Brothers, The (1980)&quot;,Action|Comedy|Musical\r\n1221,&quot;Godfather: Part II, The (1974)&quot;,Crime|Drama\r\n1222,Full Metal Jacket (1987),Drama|War\r\n1223,&quot;Grand Day Out with Wallace and Gromit, A (1989)&quot;,Adventure|Animation|Children|Comedy|Sci-Fi\r\n1224,Henry V (1989),Action|Drama|Romance|War\r\n1225,Amadeus (1984),Drama\r\n1226,&quot;Quiet Man, The (1952)&quot;,Drama|Romance\r\n1227,Once Upon a Time in America (1984),Crime|Drama\r\n1228,Raging Bull (1980),Drama\r\n1230,Annie Hall (1977),Comedy|Romance\r\n1231,&quot;Right Stuff, The (1983)&quot;,Drama\r\n1232,Stalker (1979),Drama|Mystery|Sci-Fi\r\n1233,&quot;Boot, Das (Boat, The) (1981)&quot;,Action|Drama|War\r\n1234,&quot;Sting, The (1973)&quot;,Comedy|Crime\r\n1235,Harold and Maude (1971),Comedy|Drama|Romance\r\n1236,Trust (1990),Comedy|Drama|Romance\r\n1237,&quot;Seventh Seal, The (Sjunde inseglet, Det) (1957)&quot;,Drama\r\n1238,Local Hero (1983),Comedy\r\n1240,&quot;Terminator, The (1984)&quot;,Action|Sci-Fi|Thriller\r\n1241,Dead Alive (Braindead) (1992),Comedy|Fantasy|Horror\r\n1242,Glory (1989),Drama|War\r\n1243,Rosencrantz and Guildenstern Are Dead (1990),Comedy|Drama\r\n1244,Manhattan (1979),Comedy|Drama|Romance\r\n1245,Miller's Crossing (1990),Crime|Drama|Film-Noir|Thriller\r\n1246,Dead Poets Society (1989),Drama\r\n1247,&quot;Graduate, The (1967)&quot;,Comedy|Drama|Romance\r\n1248,Touch of Evil (1958),Crime|Film-Noir|Thriller\r\n1249,&quot;Femme Nikita, La (Nikita) (1990)&quot;,Action|Crime|Romance|Thriller\r\n1250,&quot;Bridge on the River Kwai, The (1957)&quot;,Adventure|Drama|War\r\n1251,8 1/2 (8½) (1963),Drama|Fantasy\r\n1252,Chinatown (1974),Crime|Film-Noir|Mystery|Thriller\r\n1253,&quot;Day the Earth Stood Still, The (1951)&quot;,Drama|Sci-Fi|Thriller\r\n1254,&quot;Treasure of the Sierra Madre, The (1948)&quot;,Action|Adventure|Drama|Western\r\n1255,Bad Taste (1987),Comedy|Horror|Sci-Fi\r\n1256,Duck Soup (1933),Comedy|Musical|War\r\n1257,Better Off Dead... (1985),Comedy|Romance\r\n1258,&quot;Shining, The (1980)&quot;,Horror\r\n1259,Stand by Me (1986),Adventure|Drama\r\n1260,M (1931),Crime|Film-Noir|Thriller\r\n1261,Evil Dead II (Dead by Dawn) (1987),Action|Comedy|Fantasy|Horror\r\n1262,&quot;Great Escape, The (1963)&quot;,Action|Adventure|Drama|War\r\n1263,&quot;Deer Hunter, The (1978)&quot;,Drama|War\r\n1264,Diva (1981),Action|Drama|Mystery|Romance|Thriller\r\n1265,Groundhog Day (1993),Comedy|Fantasy|Romance\r\n1266,Unforgiven (1992),Drama|Western\r\n1267,&quot;Manchurian Candidate, The (1962)&quot;,Crime|Thriller|War\r\n1268,Pump Up the Volume (1990),Comedy|Drama\r\n1269,Arsenic and Old Lace (1944),Comedy|Mystery|Thriller\r\n1270,Back to the Future (1985),Adventure|Comedy|Sci-Fi\r\n1271,Fried Green Tomatoes (1991),Comedy|Crime|Drama\r\n1272,Patton (1970),Drama|War\r\n1273,Down by Law (1986),Comedy|Drama|Film-Noir\r\n1274,Akira (1988),Action|Adventure|Animation|Sci-Fi\r\n1275,Highlander (1986),Action|Adventure|Fantasy\r\n1276,Cool Hand Luke (1967),Drama\r\n1277,Cyrano de Bergerac (1990),Comedy|Drama|Romance\r\n1278,Young Frankenstein (1974),Comedy|Fantasy\r\n1279,Night on Earth (1991),Comedy|Drama\r\n1280,Raise the Red Lantern (Da hong deng long gao gao gua) (1991),Drama\r\n1281,&quot;Great Dictator, The (1940)&quot;,Comedy|Drama|War\r\n1282,Fantasia (1940),Animation|Children|Fantasy|Musical\r\n1283,High Noon (1952),Drama|Western\r\n1284,&quot;Big Sleep, The (1946)&quot;,Crime|Film-Noir|Mystery\r\n1285,Heathers (1989),Comedy\r\n1286,Somewhere in Time (1980),Drama|Romance\r\n1287,Ben-Hur (1959),Action|Adventure|Drama\r\n1288,This Is Spinal Tap (1984),Comedy\r\n1289,Koyaanisqatsi (a.k.a. Koyaanisqatsi: Life Out of Balance) (1983),Documentary\r\n1290,Some Kind of Wonderful (1987),Drama|Romance\r\n1291,Indiana Jones and the Last Crusade (1989),Action|Adventure\r\n1292,Being There (1979),Comedy|Drama\r\n1293,Gandhi (1982),Drama\r\n1295,&quot;Unbearable Lightness of Being, The (1988)&quot;,Drama\r\n1296,&quot;Room with a View, A (1986)&quot;,Drama|Romance\r\n1297,Real Genius (1985),Comedy\r\n1298,Pink Floyd: The Wall (1982),Drama|Musical\r\n1299,&quot;Killing Fields, The (1984)&quot;,Drama|War\r\n1300,My Life as a Dog (Mitt liv som hund) (1985),Comedy|Drama\r\n1301,Forbidden Planet (1956),Drama|Sci-Fi\r\n1302,Field of Dreams (1989),Children|Drama|Fantasy\r\n1303,&quot;Man Who Would Be King, The (1975)&quot;,Adventure|Drama\r\n1304,Butch Cassidy and the Sundance Kid (1969),Action|Western\r\n1305,&quot;Paris, Texas (1984)&quot;,Drama|Romance\r\n1306,Until the End of the World (Bis ans Ende der Welt) (1991),Adventure|Drama|Sci-Fi\r\n1307,When Harry Met Sally... (1989),Comedy|Romance\r\n1308,I Shot a Man in Vegas (1995),Comedy\r\n1309,Parallel Sons (1995),Drama|Romance\r\n1310,Hype! (1996),Documentary\r\n1311,Santa with Muscles (1996),Comedy\r\n1312,Female Perversions (1996),Drama\r\n1313,Mad Dog Time (1996),Crime\r\n1314,Breathing Room (1996),Romance\r\n1315,Paris Was a Woman (1995),Documentary\r\n1316,Anna (1996),Drama\r\n1317,I'm Not Rappaport (1996),Comedy\r\n1318,Blue Juice (1995),Comedy|Drama\r\n1319,Kids of Survival (1996),Documentary\r\n1320,Alien³ (a.k.a. Alien 3) (1992),Action|Horror|Sci-Fi|Thriller\r\n1321,&quot;American Werewolf in London, An (1981)&quot;,Comedy|Horror|Thriller\r\n1322,Amityville 1992: It's About Time (1992),Horror\r\n1323,Amityville 3-D (1983),Horror\r\n1324,Amityville: Dollhouse (1996),Horror\r\n1325,Amityville: A New Generation (1993),Horror\r\n1326,Amityville II: The Possession (1982),Horror\r\n1327,&quot;Amityville Horror, The (1979)&quot;,Drama|Horror|Mystery|Thriller\r\n1328,&quot;Amityville Curse, The (1990)&quot;,Horror\r\n1329,Blood for Dracula (Andy Warhol's Dracula) (1974),Horror\r\n1330,April Fool's Day (1986),Horror\r\n1331,Audrey Rose (1977),Horror\r\n1332,&quot;Believers, The (1987)&quot;,Horror|Thriller\r\n1333,&quot;Birds, The (1963)&quot;,Horror|Thriller\r\n1334,&quot;Blob, The (1958)&quot;,Horror|Sci-Fi\r\n1335,Blood Beach (1981),Horror|Mystery\r\n1336,Body Parts (1991),Horror|Thriller\r\n1337,&quot;Body Snatcher, The (1945)&quot;,Drama|Horror|Thriller\r\n1339,Dracula (Bram Stoker's Dracula) (1992),Fantasy|Horror|Romance|Thriller\r\n1340,&quot;Bride of Frankenstein, The (Bride of Frankenstein) (1935)&quot;,Drama|Horror|Sci-Fi\r\n1341,Burnt Offerings (1976),Horror\r\n1342,Candyman (1992),Horror|Thriller\r\n1343,Cape Fear (1991),Thriller\r\n1344,Cape Fear (1962),Crime|Drama|Thriller\r\n1345,Carrie (1976),Drama|Fantasy|Horror|Thriller\r\n1346,Cat People (1982),Drama|Fantasy|Horror\r\n1347,&quot;Nightmare on Elm Street, A (1984)&quot;,Horror|Thriller\r\n1348,&quot;Nosferatu (Nosferatu, eine Symphonie des Grauens) (1922)&quot;,Horror\r\n1349,Vampire in Venice (Nosferatu a Venezia) (Nosferatu in Venice) (1986),Horror\r\n1350,&quot;Omen, The (1976)&quot;,Horror|Mystery|Thriller\r\n1351,Blood and Wine (Blood &amp; Wine) (1996),Crime|Drama|Thriller\r\n1352,Albino Alligator (1996),Crime|Thriller\r\n1353,&quot;Mirror Has Two Faces, The (1996)&quot;,Comedy|Drama|Romance\r\n1354,Breaking the Waves (1996),Drama|Mystery\r\n1355,Nightwatch (1997),Horror|Thriller\r\n1356,Star Trek: First Contact (1996),Action|Adventure|Sci-Fi|Thriller\r\n1357,Shine (1996),Drama|Romance\r\n1358,Sling Blade (1996),Drama\r\n1359,Jingle All the Way (1996),Children|Comedy\r\n1360,Identification of a Woman (Identificazione di una donna) (1982),Drama\r\n1361,Paradise Lost: The Child Murders at Robin Hood Hills (1996),Documentary\r\n1363,&quot;Preacher's Wife, The (1996)&quot;,Drama\r\n1364,Zero Kelvin (Kjærlighetens kjøtere) (1995),Drama\r\n1365,Ridicule (1996),Drama\r\n1366,&quot;Crucible, The (1996)&quot;,Drama\r\n1367,101 Dalmatians (1996),Adventure|Children|Comedy\r\n1368,&quot;Forbidden Christ, The (Cristo proibito, Il) (1950)&quot;,Drama\r\n1369,I Can't Sleep (J'ai pas sommeil) (1994),Drama|Thriller\r\n1370,Die Hard 2 (1990),Action|Adventure|Thriller\r\n1371,Star Trek: The Motion Picture (1979),Adventure|Sci-Fi\r\n1372,Star Trek VI: The Undiscovered Country (1991),Action|Mystery|Sci-Fi\r\n1373,Star Trek V: The Final Frontier (1989),Action|Sci-Fi\r\n1374,Star Trek II: The Wrath of Khan (1982),Action|Adventure|Sci-Fi|Thriller\r\n1375,Star Trek III: The Search for Spock (1984),Action|Adventure|Sci-Fi\r\n1376,Star Trek IV: The Voyage Home (1986),Adventure|Comedy|Sci-Fi\r\n1377,Batman Returns (1992),Action|Crime\r\n1378,Young Guns (1988),Action|Comedy|Western\r\n1379,Young Guns II (1990),Action|Western\r\n1380,Grease (1978),Comedy|Musical|Romance\r\n1381,Grease 2 (1982),Comedy|Musical|Romance\r\n1382,Marked for Death (1990),Action|Drama\r\n1383,Adrenalin: Fear the Rush (1996),Action|Sci-Fi\r\n1384,&quot;Substance of Fire, The (1996)&quot;,Drama\r\n1385,Under Siege (1992),Action|Drama|Thriller\r\n1386,Terror in a Texas Town (1958),Western\r\n1387,Jaws (1975),Action|Horror\r\n1388,Jaws 2 (1978),Horror|Thriller\r\n1389,Jaws 3-D (1983),Action|Horror\r\n1390,My Fellow Americans (1996),Comedy\r\n1391,Mars Attacks! (1996),Action|Comedy|Sci-Fi\r\n1392,Citizen Ruth (1996),Comedy|Drama\r\n1393,Jerry Maguire (1996),Drama|Romance\r\n1394,Raising Arizona (1987),Comedy\r\n1395,Tin Men (1987),Comedy|Drama\r\n1396,Sneakers (1992),Action|Comedy|Crime|Drama|Sci-Fi\r\n1397,Bastard Out of Carolina (1996),Drama\r\n1398,In Love and War (1996),Romance|War\r\n1399,Marvin's Room (1996),Drama\r\n1400,Somebody is Waiting (1996),Drama\r\n1401,Ghosts of Mississippi (1996),Drama\r\n1404,Night Falls on Manhattan (1996),Crime|Drama\r\n1405,Beavis and Butt-Head Do America (1996),Adventure|Animation|Comedy|Crime\r\n1406,&quot;Judgement in Stone, A (Cérémonie, La) (1995)&quot;,Drama\r\n1407,Scream (1996),Comedy|Horror|Mystery|Thriller\r\n1408,&quot;Last of the Mohicans, The (1992)&quot;,Action|Romance|War|Western\r\n1409,Michael (1996),Comedy|Drama|Fantasy|Romance\r\n1410,&quot;Evening Star, The (1996)&quot;,Comedy|Drama\r\n1411,Hamlet (1996),Crime|Drama|Romance\r\n1412,Some Mother's\n</div>",
       "datasetInfos": [],
       "metadata": {},
       "removedWidgets": [],
       "type": "html"
      }
     },
     "output_type": "display_data"
    }
   ],
   "source": [
    "%fs\n",
    "head mnt/training/movies/20m/movies.csv"
   ]
  },
  {
   "cell_type": "code",
   "execution_count": 0,
   "metadata": {
    "application/vnd.databricks.v1+cell": {
     "cellMetadata": {
      "byteLimit": 2048000,
      "rowLimit": 10000
     },
     "inputWidgets": {},
     "nuid": "4da0ff55-7a48-4b94-80d3-4663c11d186b",
     "showTitle": false,
     "title": ""
    }
   },
   "outputs": [
    {
     "output_type": "display_data",
     "data": {
      "text/html": [
       "<div>\n<style scoped>\n    .dataframe tbody tr th:only-of-type {\n        vertical-align: middle;\n    }\n\n    .dataframe tbody tr th {\n        vertical-align: top;\n    }\n\n    .dataframe thead th {\n        text-align: right;\n    }\n</style>\n<table border=\"1\" class=\"dataframe\">\n  <thead>\n    <tr style=\"text-align: right;\">\n      <th></th>\n      <th>movieId</th>\n      <th>title</th>\n      <th>genres</th>\n    </tr>\n  </thead>\n  <tbody>\n    <tr>\n      <th>0</th>\n      <td>1</td>\n      <td>Toy Story (1995)</td>\n      <td>Adventure|Animation|Children|Comedy|Fantasy</td>\n    </tr>\n    <tr>\n      <th>1</th>\n      <td>2</td>\n      <td>Jumanji (1995)</td>\n      <td>Adventure|Children|Fantasy</td>\n    </tr>\n    <tr>\n      <th>2</th>\n      <td>3</td>\n      <td>Grumpier Old Men (1995)</td>\n      <td>Comedy|Romance</td>\n    </tr>\n    <tr>\n      <th>3</th>\n      <td>4</td>\n      <td>Waiting to Exhale (1995)</td>\n      <td>Comedy|Drama|Romance</td>\n    </tr>\n    <tr>\n      <th>4</th>\n      <td>5</td>\n      <td>Father of the Bride Part II (1995)</td>\n      <td>Comedy</td>\n    </tr>\n  </tbody>\n</table>\n</div>"
      ]
     },
     "metadata": {
      "application/vnd.databricks.v1+output": {
       "addedWidgets": {},
       "arguments": {},
       "data": "<div>\n<style scoped>\n    .dataframe tbody tr th:only-of-type {\n        vertical-align: middle;\n    }\n\n    .dataframe tbody tr th {\n        vertical-align: top;\n    }\n\n    .dataframe thead th {\n        text-align: right;\n    }\n</style>\n<table border=\"1\" class=\"dataframe\">\n  <thead>\n    <tr style=\"text-align: right;\">\n      <th></th>\n      <th>movieId</th>\n      <th>title</th>\n      <th>genres</th>\n    </tr>\n  </thead>\n  <tbody>\n    <tr>\n      <th>0</th>\n      <td>1</td>\n      <td>Toy Story (1995)</td>\n      <td>Adventure|Animation|Children|Comedy|Fantasy</td>\n    </tr>\n    <tr>\n      <th>1</th>\n      <td>2</td>\n      <td>Jumanji (1995)</td>\n      <td>Adventure|Children|Fantasy</td>\n    </tr>\n    <tr>\n      <th>2</th>\n      <td>3</td>\n      <td>Grumpier Old Men (1995)</td>\n      <td>Comedy|Romance</td>\n    </tr>\n    <tr>\n      <th>3</th>\n      <td>4</td>\n      <td>Waiting to Exhale (1995)</td>\n      <td>Comedy|Drama|Romance</td>\n    </tr>\n    <tr>\n      <th>4</th>\n      <td>5</td>\n      <td>Father of the Bride Part II (1995)</td>\n      <td>Comedy</td>\n    </tr>\n  </tbody>\n</table>\n</div>",
       "datasetInfos": [],
       "metadata": {},
       "removedWidgets": [],
       "textData": "<div class=\"ansiout\">Out[57]: </div>",
       "type": "htmlSandbox"
      }
     },
     "output_type": "display_data"
    }
   ],
   "source": [
    "\n",
    "# with python\n",
    "import pandas as pd\n",
    "\n",
    "file_path = \"/dbfs/mnt/training/movies/20m/movies.csv\"\n",
    "df = pd.read_csv(file_path)\n",
    "df.head()"
   ]
  },
  {
   "cell_type": "markdown",
   "metadata": {
    "application/vnd.databricks.v1+cell": {
     "cellMetadata": {},
     "inputWidgets": {},
     "nuid": "2899a8f4-8435-4280-849d-f996589adbce",
     "showTitle": false,
     "title": ""
    }
   },
   "source": [
    "##![Spark Logo Tiny](https://files.training.databricks.com/images/wiki-book/general/logo_spark_tiny.png) Learning More\n",
    "\n",
    "We like to encourage you to explore the documentation to learn more about the various features of the Databricks platform and notebooks.\n",
    "* <a href=\"https://docs.azuredatabricks.net/user-guide/index.html\" target=\"_blank\">User Guide</a>\n",
    "* <a href=\"https://docs.databricks.com/user-guide/getting-started.html\" target=\"_blank\">Getting Started with Databricks</a>\n",
    "* <a href=\"https://docs.azuredatabricks.net/user-guide/notebooks/index.html\" target=\"_blank\">User Guide / Notebooks</a>\n",
    "* <a href=\"https://docs.databricks.com/user-guide/notebooks/index.html#importing-notebooks\" target=\"_blank\">Importing notebooks - Supported Formats</a>\n",
    "* <a href=\"https://docs.azuredatabricks.net/administration-guide/index.html\" target=\"_blank\">Administration Guide</a>\n",
    "* <a href=\"https://docs.databricks.com/user-guide/clusters/index.html\" target=\"_blank\">Cluster Configuration</a>\n",
    "* <a href=\"https://docs.azuredatabricks.net/api/index.html\" target=\"_blank\">REST API</a>\n",
    "* <a href=\"https://docs.azuredatabricks.net/release-notes/index.html\" target=\"_blank\">Release Notes</a>\n",
    "* <a href=\"https://docs.azuredatabricks.net\" target=\"_blank\">And much more!</a>"
   ]
  }
 ],
 "metadata": {
  "application/vnd.databricks.v1+notebook": {
   "dashboards": [],
   "language": "python",
   "notebookMetadata": {
    "mostRecentlyExecutedCommandWithImplicitDF": {
     "commandId": 3941021668342784,
     "dataframes": [
      "_sqldf"
     ]
    },
    "pythonIndentUnit": 2
   },
   "notebookName": "01-The-Databricks-Environment",
   "notebookOrigID": 1830718883683074,
   "widgets": {}
  }
 },
 "nbformat": 4,
 "nbformat_minor": 0
}
