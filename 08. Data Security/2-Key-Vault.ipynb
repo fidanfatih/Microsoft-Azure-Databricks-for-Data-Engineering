{
 "cells": [
  {
   "cell_type": "markdown",
   "metadata": {
    "application/vnd.databricks.v1+cell": {
     "cellMetadata": {},
     "inputWidgets": {},
     "nuid": "775df496-5c5c-4c0d-ba79-fbb9a9847580",
     "showTitle": false,
     "title": ""
    }
   },
   "source": [
    "#![Spark Logo Tiny](https://files.training.databricks.com/images/105/logo_spark_tiny.png) Key Vault-Backed Secret Scopes\n",
    "\n",
    "## Learning Objectives\n",
    "By the end of these lessons, you should be able to:\n",
    "* Configure Databricks to access Key Vault secrets\n",
    "* Read and write data directly from Blob Storage using secrets stored in Key Vault\n",
    "* Set different levels of access permission using SAS at the Storage service level\n",
    "* Mount Blob Storage into DBFS\n",
    "* Describe how mounting impacts secure access to data\n",
    "\n",
    "The overall goal of these three notebooks is to read and write data directly from Blob Storage using secrets stored in a Key Vault, accessed securely through the Databricks Secrets utility. \n",
    "\n",
    "This goal has been broken into 3 notebooks to make each step more digestible:\n",
    "1. `1 - Blob Storage` - In the first notebook, we will add a file to a Blob on a Storage Account and generate SAS tokens with different permissions levels\n",
    "1. `2 - Key Vault` - In the second notebook, we will configure an Azure Key Vault Access Policy and add text-based credentials as secrets\n",
    "1. `3 - Key Vault` Backed Secret Scopes - In the third notebook, we will define a Secret Scope in Databircks by linking to the Key Vault and use the previously stored credentials to read and write from the Storage Container"
   ]
  },
  {
   "cell_type": "markdown",
   "metadata": {
    "application/vnd.databricks.v1+cell": {
     "cellMetadata": {},
     "inputWidgets": {},
     "nuid": "e8b7dc76-09a5-4e99-994c-e1a6e984d0d6",
     "showTitle": false,
     "title": ""
    }
   },
   "source": [
    "##![Spark Logo Tiny](https://files.training.databricks.com/images/105/logo_spark_tiny.png) 2 - Key Vault\n",
    "\n",
    "[Azure Key Vault](https://docs.microsoft.com/en-us/azure/key-vault/key-vault-whatis) provides us with a number of options for storing and sharing secrets and keys between Azure applications, and has direct integration with Azure Databricks. In this notebook, we'll focus on configuring an access policy and creating Secrets. These instructions are based around configurations and settings for the ADB Core partner training, but should be adaptable to production requirements.\n",
    "\n",
    "**This is something that will generally be handled by the workspace adminstrator.** Only individuals with proper permissions in the Azure Active Directory will be able to link a Key Vault to the Databricks workspace. (Each Key Vault will map to a \"scope\" in Databricks, so enterprise solutions may have many different Key Vaults for different teams/personas who need different permissions.)\n",
    "\n",
    "### Learning Objectives\n",
    "By the end of this lesson, you should be able to:\n",
    "- Configure Key Vault Access Policies\n",
    "- Create Secrets that store SAS Tokens in a Key Vault"
   ]
  },
  {
   "cell_type": "markdown",
   "metadata": {
    "application/vnd.databricks.v1+cell": {
     "cellMetadata": {},
     "inputWidgets": {},
     "nuid": "def66646-3486-4db4-a609-ea6b95cbecfc",
     "showTitle": false,
     "title": ""
    }
   },
   "source": [
    "-sandbox\n",
    "\n",
    "<img alt=\"Caution\" title=\"Caution\" style=\"vertical-align: text-bottom; position: relative; height:1.3em; top:0.0em\" src=\"https://files.training.databricks.com/static/images/icon-warning.svg\"/> **PLEASE** open a new browser tab and navigate to <https://portal.azure.com>."
   ]
  },
  {
   "cell_type": "markdown",
   "metadata": {
    "application/vnd.databricks.v1+cell": {
     "cellMetadata": {},
     "inputWidgets": {},
     "nuid": "d19909ea-79c2-4228-8876-934fb106288a",
     "showTitle": false,
     "title": ""
    }
   },
   "source": [
    "## Configure Key Vault Access Policies\n",
    "\n",
    "1. Go to \"All resources\"\n",
    "2. Click on the Key Vault resource\n",
    "\n",
    "<img src=\"https://files.training.databricks.com/images/adbcore/config-keyvault/resources-kv.png\" width=800px />"
   ]
  },
  {
   "cell_type": "markdown",
   "metadata": {
    "application/vnd.databricks.v1+cell": {
     "cellMetadata": {},
     "inputWidgets": {},
     "nuid": "233f6b17-efe5-498e-9bd0-e5096dd2034a",
     "showTitle": false,
     "title": ""
    }
   },
   "source": [
    "## Navigate to Access Policies\n",
    "\n",
    "First, click on `Access policies` in the left-side plane.\n",
    "\n",
    "<img src=\"https://files.training.databricks.com/images/adbcore/config-keyvault/keyvault-home.png\" width=800px />"
   ]
  },
  {
   "cell_type": "markdown",
   "metadata": {
    "application/vnd.databricks.v1+cell": {
     "cellMetadata": {},
     "inputWidgets": {},
     "nuid": "f3c4228b-0854-4094-ab30-a6d510c4ffca",
     "showTitle": false,
     "title": ""
    }
   },
   "source": [
    "## Add Access Policy to Key Vault\n",
    "\n",
    "While our user is a \"Contributor\" on this resource, we must add an access policy to add/list/use secrets.\n",
    "\n",
    "Click \"Add access policy\"\n",
    "\n",
    "\n",
    "<img src=\"https://files.training.databricks.com/images/adbcore/config-keyvault/access-none.png\" width=800px />"
   ]
  },
  {
   "cell_type": "markdown",
   "metadata": {
    "application/vnd.databricks.v1+cell": {
     "cellMetadata": {},
     "inputWidgets": {},
     "nuid": "bfc30d54-6a23-479c-b276-7b099136ab22",
     "showTitle": false,
     "title": ""
    }
   },
   "source": [
    "1. Select \"Key, Secret, & Certificate Mangement\" from the dropdown\n",
    "2. Click to select a principal\n",
    "\n",
    "<img src=\"https://files.training.databricks.com/images/adbcore/config-keyvault/access-template.png\" />"
   ]
  },
  {
   "cell_type": "markdown",
   "metadata": {
    "application/vnd.databricks.v1+cell": {
     "cellMetadata": {},
     "inputWidgets": {},
     "nuid": "0b48db34-b72c-42fd-8a4c-400a6ecc4bda",
     "showTitle": false,
     "title": ""
    }
   },
   "source": [
    "1. Search for your user ID\n",
    "2. Click on the matching result to select\n",
    "3. Click \"Select\"\n",
    "\n",
    "<img src=\"https://files.training.databricks.com/images/adbcore/config-keyvault/access-principal.png\" />"
   ]
  },
  {
   "cell_type": "markdown",
   "metadata": {
    "application/vnd.databricks.v1+cell": {
     "cellMetadata": {},
     "inputWidgets": {},
     "nuid": "bca0bbea-4469-4b29-adf1-f14b12a8f589",
     "showTitle": false,
     "title": ""
    }
   },
   "source": [
    "Now you'll need to click \"Add\" and then...\n",
    "\n",
    "<img src=\"https://files.training.databricks.com/images/adbcore/config-keyvault/access-not-added.png\" />"
   ]
  },
  {
   "cell_type": "markdown",
   "metadata": {
    "application/vnd.databricks.v1+cell": {
     "cellMetadata": {},
     "inputWidgets": {},
     "nuid": "324a39e6-709f-4336-96b0-854bf125640e",
     "showTitle": false,
     "title": ""
    }
   },
   "source": [
    "## Save Configuration Changes\n",
    "\n",
    "... you'll click \"Save\" to finalize the configurations.\n",
    "\n",
    "<img src=\"https://files.training.databricks.com/images/adbcore/config-keyvault/access-not-saved.png\" />"
   ]
  },
  {
   "cell_type": "markdown",
   "metadata": {
    "application/vnd.databricks.v1+cell": {
     "cellMetadata": {},
     "inputWidgets": {},
     "nuid": "32ad2445-67b2-45ac-b832-3f21d263a30b",
     "showTitle": false,
     "title": ""
    }
   },
   "source": [
    "## Congratulations!\n",
    "\n",
    "**At this point you have**\n",
    "* Modified Access Policies in the Azure Key Vault\n",
    "\n",
    "### Next Steps\n",
    "\n",
    "**Your next steps are to:** \n",
    "* Create Secrets in the Key Vault"
   ]
  },
  {
   "cell_type": "markdown",
   "metadata": {
    "application/vnd.databricks.v1+cell": {
     "cellMetadata": {},
     "inputWidgets": {},
     "nuid": "4426515a-631b-40b4-bee8-6cda3f80cbf8",
     "showTitle": false,
     "title": ""
    }
   },
   "source": [
    "## Create secrets in Key Vault\n",
    "\n",
    "To create secrets in Key Vault that can be accessed from your new secret scope in Databricks, you need to either use the Azure portal or the Key Vault CLI. For simplicity's sake, we will use the Azure portal:\n",
    "\n",
    "1. Select **Secrets** in the left-hand menu.\n",
    "2. Select **+ Generate/Import** in the Secrets toolbar.\n",
    "\n",
    "<img src=\"https://files.training.databricks.com/images/adbcore/config-keyvault/secrets-none.png\" width=800px />"
   ]
  },
  {
   "cell_type": "markdown",
   "metadata": {
    "application/vnd.databricks.v1+cell": {
     "cellMetadata": {},
     "inputWidgets": {},
     "nuid": "a1e3769e-2a3b-4fa7-b230-67735b5fad26",
     "showTitle": false,
     "title": ""
    }
   },
   "source": [
    "## Create a storageread Secret\n",
    "\n",
    "In the next blade:\n",
    "\n",
    "* Enter the name of the secret\n",
    "  * For the `Name` field, enter **storageread**\n",
    "  * This will be the key to access the secret value; this will be visible in plain text\n",
    "* Paste/enter the value for the secret \n",
    "   * For the `Value` field, enter the **read-only SAS token** from the previous notebook.\n",
    "   * This will be the value that is stored as a secret; this will be `[REDACTED]`.\n",
    "* Click \"Create\"\n",
    "\n",
    "<img src=\"https://files.training.databricks.com/images/adbcore/config-keyvault/storageread.png\" />"
   ]
  },
  {
   "cell_type": "markdown",
   "metadata": {
    "application/vnd.databricks.v1+cell": {
     "cellMetadata": {},
     "inputWidgets": {},
     "nuid": "28ef2c36-1aba-45ec-b6fb-a72e0b25d086",
     "showTitle": false,
     "title": ""
    }
   },
   "source": [
    "## Create a storagewrite Secret\n",
    "\n",
    "You should see one secret now in your vault.\n",
    "\n",
    "<img src=\"https://files.training.databricks.com/images/adbcore/config-keyvault/secrets-1.png\" width=800px />\n",
    "\n",
    "You want to \"Generate/Import\" another secret.\n",
    "\n",
    "* Enter the name of the secret\n",
    "  * For the `Name` field, enter **storagewrite**\n",
    "  * This will be the key to access the secret value; this will be visible in plain text\n",
    "* Paste/enter the value for the secret \n",
    "   * For the `Value` field, enter the **full permissions SAS token** from the previous notebook.\n",
    "   * This will be the value that is stored as a secret; this will be `[REDACTED]`.\n",
    "* Click \"Create\""
   ]
  },
  {
   "cell_type": "markdown",
   "metadata": {
    "application/vnd.databricks.v1+cell": {
     "cellMetadata": {},
     "inputWidgets": {},
     "nuid": "5ae73d88-b2b8-4e99-a657-d19e4a9a5a58",
     "showTitle": false,
     "title": ""
    }
   },
   "source": [
    "## Create a storageaccount Secret\n",
    "\n",
    "Finally, you'll create one more secret.\n",
    "\n",
    "1. Name: `storageaccount`\n",
    "2. Value: copy/paste the name of your storage account\n",
    "\n",
    "<img src=\"https://files.training.databricks.com/images/adbcore/config-blob/account-name.png\"/>"
   ]
  },
  {
   "cell_type": "markdown",
   "metadata": {
    "application/vnd.databricks.v1+cell": {
     "cellMetadata": {},
     "inputWidgets": {},
     "nuid": "3d408e40-9333-44d6-8980-f38f993c33e9",
     "showTitle": false,
     "title": ""
    }
   },
   "source": [
    "## Return to the list view in the Azure Portal\n",
    "\n",
    "When you're done, you should see the following keys:\n",
    "\n",
    "<img src=\"https://files.training.databricks.com/images/adbcore/config-keyvault/secrets-all.png\" width=800px/>"
   ]
  },
  {
   "cell_type": "markdown",
   "metadata": {
    "application/vnd.databricks.v1+cell": {
     "cellMetadata": {},
     "inputWidgets": {},
     "nuid": "43ad238d-c07c-4f3b-b66c-148c38024107",
     "showTitle": false,
     "title": ""
    }
   },
   "source": [
    "## Congratulations!\n",
    "\n",
    "You have:\n",
    "* Modified Access Policies in the Azure Key Vault\n",
    "* Create Secrets in the Key Vault that use SAS tokens\n",
    "\n",
    "In this notebook, we stored the SAS tokens from the first notebook as Secrets in the Key Vault. In the next notebook, we will see how to connect Databricks to the Key Vault and access the SAS tokens to read and write from Blob Storage."
   ]
  }
 ],
 "metadata": {
  "application/vnd.databricks.v1+notebook": {
   "dashboards": [],
   "language": "python",
   "notebookMetadata": {
    "pythonIndentUnit": 2
   },
   "notebookName": "2-Key-Vault",
   "notebookOrigID": 861169210502801,
   "widgets": {}
  }
 },
 "nbformat": 4,
 "nbformat_minor": 0
}
