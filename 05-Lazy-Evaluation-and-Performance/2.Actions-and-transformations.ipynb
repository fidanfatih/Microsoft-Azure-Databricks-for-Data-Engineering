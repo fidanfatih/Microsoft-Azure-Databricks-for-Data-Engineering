{
 "cells": [
  {
   "cell_type": "markdown",
   "metadata": {
    "application/vnd.databricks.v1+cell": {
     "cellMetadata": {
      "byteLimit": 2048000,
      "rowLimit": 10000
     },
     "inputWidgets": {},
     "nuid": "b94b3918-cc42-47e1-b780-100c428afedf",
     "showTitle": false,
     "title": ""
    }
   },
   "source": [
    "# Actions & Transformations"
   ]
  },
  {
   "cell_type": "markdown",
   "metadata": {
    "application/vnd.databricks.v1+cell": {
     "cellMetadata": {
      "byteLimit": 2048000,
      "rowLimit": 10000
     },
     "inputWidgets": {},
     "nuid": "448856a1-1a6b-40d4-9a17-686fa8c0780d",
     "showTitle": false,
     "title": ""
    }
   },
   "source": [
    "##![Spark Logo Tiny](https://files.training.databricks.com/images/105/logo_spark_tiny.png) Getting Started\n",
    "\n",
    "Run the following cell to configure our \"classroom.\""
   ]
  },
  {
   "cell_type": "code",
   "execution_count": 0,
   "metadata": {
    "application/vnd.databricks.v1+cell": {
     "cellMetadata": {
      "byteLimit": 2048000,
      "rowLimit": 10000
     },
     "inputWidgets": {},
     "nuid": "165142ba-4fed-430f-a51a-5b34896457fd",
     "showTitle": false,
     "title": ""
    }
   },
   "outputs": [
    {
     "output_type": "display_data",
     "data": {
      "text/html": [
       "Initialized classroom variables & functions..."
      ]
     },
     "metadata": {
      "application/vnd.databricks.v1+output": {
       "addedWidgets": {},
       "arguments": {},
       "data": "Initialized classroom variables & functions...",
       "datasetInfos": [],
       "metadata": {
        "isDbfsCommandResult": false
       },
       "removedWidgets": [],
       "textData": null,
       "type": "htmlSandbox"
      }
     },
     "output_type": "display_data"
    },
    {
     "output_type": "display_data",
     "data": {
      "text/html": [
       "Datasets are already mounted to <b>/mnt/training</b> from <b>wasbs://training@dbtrainwesteurope.blob.core.windows.net/</b>"
      ]
     },
     "metadata": {
      "application/vnd.databricks.v1+output": {
       "addedWidgets": {},
       "arguments": {},
       "data": "Datasets are already mounted to <b>/mnt/training</b> from <b>wasbs://training@dbtrainwesteurope.blob.core.windows.net/</b>",
       "datasetInfos": [],
       "metadata": {
        "isDbfsCommandResult": false
       },
       "removedWidgets": [],
       "textData": null,
       "type": "htmlSandbox"
      }
     },
     "output_type": "display_data"
    },
    {
     "output_type": "display_data",
     "data": {
      "text/html": [
       "Created user-specific database"
      ]
     },
     "metadata": {
      "application/vnd.databricks.v1+output": {
       "addedWidgets": {},
       "arguments": {},
       "data": "Created user-specific database",
       "datasetInfos": [],
       "metadata": {
        "isDbfsCommandResult": false
       },
       "removedWidgets": [],
       "textData": null,
       "type": "htmlSandbox"
      }
     },
     "output_type": "display_data"
    },
    {
     "output_type": "display_data",
     "data": {
      "text/html": [
       "Using the database <b style=\"color:green\">fatihfidan52_gmail_com_db</b>."
      ]
     },
     "metadata": {
      "application/vnd.databricks.v1+output": {
       "addedWidgets": {},
       "arguments": {},
       "data": "Using the database <b style=\"color:green\">fatihfidan52_gmail_com_db</b>.",
       "datasetInfos": [],
       "metadata": {
        "isDbfsCommandResult": false
       },
       "removedWidgets": [],
       "textData": null,
       "type": "htmlSandbox"
      }
     },
     "output_type": "display_data"
    },
    {
     "output_type": "display_data",
     "data": {
      "text/html": [
       "All done!"
      ]
     },
     "metadata": {
      "application/vnd.databricks.v1+output": {
       "addedWidgets": {},
       "arguments": {},
       "data": "All done!",
       "datasetInfos": [],
       "metadata": {},
       "removedWidgets": [],
       "textData": null,
       "type": "htmlSandbox"
      }
     },
     "output_type": "display_data"
    }
   ],
   "source": [
    "%run ./Includes/Classroom-Setup"
   ]
  },
  {
   "cell_type": "code",
   "execution_count": 0,
   "metadata": {
    "application/vnd.databricks.v1+cell": {
     "cellMetadata": {
      "byteLimit": 2048000,
      "rowLimit": 10000
     },
     "inputWidgets": {},
     "nuid": "1aa06034-501d-4441-8e35-cd93d5dec529",
     "showTitle": false,
     "title": ""
    }
   },
   "outputs": [],
   "source": [
    "schemaDDL = \"NAME STRING, STATION STRING, LATITUDE FLOAT, LONGITUDE FLOAT, ELEVATION FLOAT, DATE DATE, UNIT STRING, TAVG FLOAT\"\n",
    "\n",
    "sourcePath = \"/mnt/training/weather/StationData/stationData.parquet/\"\n",
    "\n",
    "countsDF = (spark.read\n",
    "  .format(\"parquet\")\n",
    "  .schema(schemaDDL)\n",
    "  .load(sourcePath)\n",
    "  .groupBy(\"NAME\", \"UNIT\").count()\n",
    "  .withColumnRenamed(\"count\", \"counts\")\n",
    "  .orderBy(\"NAME\")\n",
    ")"
   ]
  },
  {
   "cell_type": "code",
   "execution_count": 0,
   "metadata": {
    "application/vnd.databricks.v1+cell": {
     "cellMetadata": {
      "byteLimit": 2048000,
      "rowLimit": 10000
     },
     "inputWidgets": {},
     "nuid": "c54e8617-4018-4ded-afd7-bb0af746a4a4",
     "showTitle": false,
     "title": ""
    }
   },
   "outputs": [
    {
     "output_type": "display_data",
     "data": {
      "text/html": [
       "<style scoped>\n  .table-result-container {\n    max-height: 300px;\n    overflow: auto;\n  }\n  table, th, td {\n    border: 1px solid black;\n    border-collapse: collapse;\n  }\n  th, td {\n    padding: 5px;\n  }\n  th {\n    text-align: left;\n  }\n</style><div class='table-result-container'><table class='table-result'><thead style='background-color: white'><tr><th>NAME</th><th>UNIT</th><th>counts</th></tr></thead><tbody><tr><td>BARNABY CALIFORNIA, CA US</td><td>C</td><td>151</td></tr><tr><td>BIG ROCK CALIFORNIA, CA US</td><td>C</td><td>151</td></tr><tr><td>BLACK DIAMOND CALIFORNIA, CA US</td><td>C</td><td>151</td></tr><tr><td>BRIONES CALIFORNIA, CA US</td><td>F</td><td>151</td></tr><tr><td>CONCORD BUCHANAN FIELD, CA US</td><td>F</td><td>149</td></tr><tr><td>HAYWARD AIR TERMINAL, CA US</td><td>F</td><td>149</td></tr><tr><td>HOUSTON INTERCONTINENTAL AIRPORT, TX US</td><td>F</td><td>150</td></tr><tr><td>HOUSTON WILLIAM P HOBBY AIRPORT, TX US</td><td>C</td><td>150</td></tr><tr><td>LAS TRAMPAS CALIFORNIA, CA US</td><td>C</td><td>151</td></tr><tr><td>LOS PRIETOS CALIFORNIA, CA US</td><td>F</td><td>151</td></tr><tr><td>MERRITT ISLAND FLORIDA, FL US</td><td>C</td><td>151</td></tr><tr><td>OAKLAND NORTH CALIFORNIA, CA US</td><td>F</td><td>151</td></tr><tr><td>OAKLAND SOUTH CALIFORNIA, CA US</td><td>F</td><td>151</td></tr><tr><td>PULGAS CALIFORNIA, CA US</td><td>F</td><td>151</td></tr><tr><td>SAN FRANCISCO INTERNATIONAL AIRPORT, CA US</td><td>C</td><td>149</td></tr><tr><td>SPRING VALLEY CALIFORNIA, CA US</td><td>F</td><td>151</td></tr><tr><td>WOODACRE CALIFORNIA, CA US</td><td>F</td><td>151</td></tr></tbody></table></div>"
      ]
     },
     "metadata": {
      "application/vnd.databricks.v1+output": {
       "addedWidgets": {},
       "aggData": [],
       "aggError": "",
       "aggOverflow": false,
       "aggSchema": [],
       "aggSeriesLimitReached": false,
       "aggType": "",
       "arguments": {},
       "columnCustomDisplayInfos": {},
       "data": [
        [
         "BARNABY CALIFORNIA, CA US",
         "C",
         151
        ],
        [
         "BIG ROCK CALIFORNIA, CA US",
         "C",
         151
        ],
        [
         "BLACK DIAMOND CALIFORNIA, CA US",
         "C",
         151
        ],
        [
         "BRIONES CALIFORNIA, CA US",
         "F",
         151
        ],
        [
         "CONCORD BUCHANAN FIELD, CA US",
         "F",
         149
        ],
        [
         "HAYWARD AIR TERMINAL, CA US",
         "F",
         149
        ],
        [
         "HOUSTON INTERCONTINENTAL AIRPORT, TX US",
         "F",
         150
        ],
        [
         "HOUSTON WILLIAM P HOBBY AIRPORT, TX US",
         "C",
         150
        ],
        [
         "LAS TRAMPAS CALIFORNIA, CA US",
         "C",
         151
        ],
        [
         "LOS PRIETOS CALIFORNIA, CA US",
         "F",
         151
        ],
        [
         "MERRITT ISLAND FLORIDA, FL US",
         "C",
         151
        ],
        [
         "OAKLAND NORTH CALIFORNIA, CA US",
         "F",
         151
        ],
        [
         "OAKLAND SOUTH CALIFORNIA, CA US",
         "F",
         151
        ],
        [
         "PULGAS CALIFORNIA, CA US",
         "F",
         151
        ],
        [
         "SAN FRANCISCO INTERNATIONAL AIRPORT, CA US",
         "C",
         149
        ],
        [
         "SPRING VALLEY CALIFORNIA, CA US",
         "F",
         151
        ],
        [
         "WOODACRE CALIFORNIA, CA US",
         "F",
         151
        ]
       ],
       "datasetInfos": [],
       "dbfsResultPath": null,
       "isJsonSchema": true,
       "metadata": {},
       "overflow": false,
       "plotOptions": {
        "customPlotOptions": {},
        "displayType": "table",
        "pivotAggregation": null,
        "pivotColumns": null,
        "xColumns": null,
        "yColumns": null
       },
       "removedWidgets": [],
       "schema": [
        {
         "metadata": "{}",
         "name": "NAME",
         "type": "\"string\""
        },
        {
         "metadata": "{}",
         "name": "UNIT",
         "type": "\"string\""
        },
        {
         "metadata": "{}",
         "name": "counts",
         "type": "\"long\""
        }
       ],
       "type": "table"
      }
     },
     "output_type": "display_data"
    }
   ],
   "source": [
    "countsDF.display()"
   ]
  },
  {
   "cell_type": "markdown",
   "metadata": {
    "application/vnd.databricks.v1+cell": {
     "cellMetadata": {
      "byteLimit": 2048000,
      "rowLimit": 10000
     },
     "inputWidgets": {},
     "nuid": "043b87c3-d53c-4422-9cea-2ac595563edb",
     "showTitle": false,
     "title": ""
    }
   },
   "source": [
    "-sandbox\n",
    "##![Spark Logo Tiny](https://files.training.databricks.com/images/105/logo_spark_tiny.png) Actions\n",
    "\n",
    "In production code, actions will generally **write data to persistent storage** using the DataFrameWriter discussed in other Azure Databricks learning path modules.\n",
    "\n",
    "During interactive code development in Databricks notebooks, the `display` method will frequently be used to **materialize a view of the data** after logic has been applied.\n",
    "\n",
    "A number of other actions provide the ability to return previews or specify physical execution plans for how logic will map to data. For the complete list, review the [API docs](https://spark.apache.org/docs/latest/api/scala/index.html#org.apache.spark.sql.Dataset).\n",
    "\n",
    "| Method | Return | Description |\n",
    "|--------|--------|-------------|\n",
    "| `collect()` | Collection | Returns an array that contains all of Rows in this Dataset. |\n",
    "| `count()` | Long | Returns the number of rows in the Dataset. |\n",
    "| `first()` | Row | Returns the first row. |\n",
    "| `foreach(f)` | - | Applies a function f to all rows. |\n",
    "| `foreachPartition(f)` | - | Applies a function f to each partition of this Dataset. |\n",
    "| `head()` | Row | Returns the first row. |\n",
    "| `reduce(f)` | Row | Reduces the elements of this Dataset using the specified binary function. |\n",
    "| `show(..)` | - | Displays the top 20 rows of Dataset in a tabular form. |\n",
    "| `take(n)` | Collection | Returns the first n rows in the Dataset. |\n",
    "| `toLocalIterator()` | Iterator | Return an iterator that contains all of Rows in this Dataset. |\n",
    "\n",
    "<img alt=\"Caution\" title=\"Caution\" style=\"vertical-align: text-bottom; position: relative; height:1.3em; top:0.0em\" src=\"https://files.training.databricks.com/static/images/icon-warning.svg\"/> Actions such as `collect` can lead to out of memory errors by forcing the collection of all data."
   ]
  },
  {
   "cell_type": "markdown",
   "metadata": {
    "application/vnd.databricks.v1+cell": {
     "cellMetadata": {
      "byteLimit": 2048000,
      "rowLimit": 10000
     },
     "inputWidgets": {},
     "nuid": "fc484081-be0a-4b24-8091-7dea9e4e2c95",
     "showTitle": false,
     "title": ""
    }
   },
   "source": [
    "##![Spark Logo Tiny](https://files.training.databricks.com/images/105/logo_spark_tiny.png) Transformations\n",
    "\n",
    "Transformations have the following key characteristics:\n",
    "* They eventually return another `DataFrame`.\n",
    "* They are immutable - that is each instance of a `DataFrame` cannot be altered once it's instantiated.\n",
    "  * This means other optimizations are possible - such as the use of shuffle files (to be discussed in detail later)\n",
    "* Are classified as either a Wide or Narrow operation\n",
    "\n",
    "Most operations in Spark are **transformations**. While many transformations are [DataFrame operations](https://spark.apache.org/docs/latest/api/scala/index.html#org.apache.spark.sql.Dataset), writing efficient Spark code will require importing methods from the `sql.functions` module, which contains [transformations corresponding to SQL built-in operations](https://spark.apache.org/docs/latest/api/scala/index.html#org.apache.spark.sql.functions$)."
   ]
  },
  {
   "cell_type": "markdown",
   "metadata": {
    "application/vnd.databricks.v1+cell": {
     "cellMetadata": {
      "byteLimit": 2048000,
      "rowLimit": 10000
     },
     "inputWidgets": {},
     "nuid": "b7e281b4-5101-4341-a43b-556bf261b90b",
     "showTitle": false,
     "title": ""
    }
   },
   "source": [
    "## Types of Transformations\n",
    "\n",
    "A transformation may be wide or narrow.\n",
    "\n",
    "A wide transformation requires sharing data across workers. \n",
    "\n",
    "A narrow transformation can be applied per partition/worker with no need to share or shuffle data to other workers."
   ]
  },
  {
   "cell_type": "markdown",
   "metadata": {
    "application/vnd.databricks.v1+cell": {
     "cellMetadata": {
      "byteLimit": 2048000,
      "rowLimit": 10000
     },
     "inputWidgets": {},
     "nuid": "0fc31899-1c8d-4bc8-9b05-893a257bb965",
     "showTitle": false,
     "title": ""
    }
   },
   "source": [
    "##![Spark Logo Tiny](https://files.training.databricks.com/images/105/logo_spark_tiny.png) Narrow Transformations\n",
    "\n",
    "The data required to compute the records in a single partition reside in at most one partition of the parent Dataframe.\n",
    "\n",
    "Examples include:\n",
    "* `filter(..)`\n",
    "* `drop(..)`\n",
    "* `coalesce()`\n",
    "\n",
    "![](https://databricks.com/wp-content/uploads/2018/05/Narrow-Transformation.png)"
   ]
  },
  {
   "cell_type": "code",
   "execution_count": 0,
   "metadata": {
    "application/vnd.databricks.v1+cell": {
     "cellMetadata": {
      "byteLimit": 2048000,
      "rowLimit": 10000
     },
     "inputWidgets": {},
     "nuid": "d06035a0-1f3e-4cef-9016-4a79593f8054",
     "showTitle": false,
     "title": ""
    }
   },
   "outputs": [
    {
     "output_type": "display_data",
     "data": {
      "text/html": [
       "<style scoped>\n  .table-result-container {\n    max-height: 300px;\n    overflow: auto;\n  }\n  table, th, td {\n    border: 1px solid black;\n    border-collapse: collapse;\n  }\n  th, td {\n    padding: 5px;\n  }\n  th {\n    text-align: left;\n  }\n</style><div class='table-result-container'><table class='table-result'><thead style='background-color: white'><tr><th>NAME</th><th>UNIT</th><th>counts</th></tr></thead><tbody><tr><td>HOUSTON INTERCONTINENTAL AIRPORT, TX US</td><td>F</td><td>150</td></tr><tr><td>HOUSTON WILLIAM P HOBBY AIRPORT, TX US</td><td>C</td><td>150</td></tr></tbody></table></div>"
      ]
     },
     "metadata": {
      "application/vnd.databricks.v1+output": {
       "addedWidgets": {},
       "aggData": [],
       "aggError": "",
       "aggOverflow": false,
       "aggSchema": [],
       "aggSeriesLimitReached": false,
       "aggType": "",
       "arguments": {},
       "columnCustomDisplayInfos": {},
       "data": [
        [
         "HOUSTON INTERCONTINENTAL AIRPORT, TX US",
         "F",
         150
        ],
        [
         "HOUSTON WILLIAM P HOBBY AIRPORT, TX US",
         "C",
         150
        ]
       ],
       "datasetInfos": [],
       "dbfsResultPath": null,
       "isJsonSchema": true,
       "metadata": {},
       "overflow": false,
       "plotOptions": {
        "customPlotOptions": {},
        "displayType": "table",
        "pivotAggregation": null,
        "pivotColumns": null,
        "xColumns": null,
        "yColumns": null
       },
       "removedWidgets": [],
       "schema": [
        {
         "metadata": "{}",
         "name": "NAME",
         "type": "\"string\""
        },
        {
         "metadata": "{}",
         "name": "UNIT",
         "type": "\"string\""
        },
        {
         "metadata": "{}",
         "name": "counts",
         "type": "\"long\""
        }
       ],
       "type": "table"
      }
     },
     "output_type": "display_data"
    }
   ],
   "source": [
    "from pyspark.sql.functions import col\n",
    "display(countsDF.filter(col(\"NAME\").like(\"%TX%\")))"
   ]
  },
  {
   "cell_type": "code",
   "execution_count": 0,
   "metadata": {
    "application/vnd.databricks.v1+cell": {
     "cellMetadata": {
      "byteLimit": 2048000,
      "implicitDf": true,
      "rowLimit": 10000
     },
     "inputWidgets": {},
     "nuid": "647c9948-ff9a-48f6-b987-3eb59975b2a5",
     "showTitle": false,
     "title": ""
    }
   },
   "outputs": [
    {
     "output_type": "display_data",
     "data": {
      "text/html": [
       "<style scoped>\n  .table-result-container {\n    max-height: 300px;\n    overflow: auto;\n  }\n  table, th, td {\n    border: 1px solid black;\n    border-collapse: collapse;\n  }\n  th, td {\n    padding: 5px;\n  }\n  th {\n    text-align: left;\n  }\n</style><div class='table-result-container'><table class='table-result'><thead style='background-color: white'><tr><th>NAME</th><th>UNIT</th><th>counts</th></tr></thead><tbody><tr><td>HOUSTON INTERCONTINENTAL AIRPORT, TX US</td><td>F</td><td>150</td></tr><tr><td>HOUSTON WILLIAM P HOBBY AIRPORT, TX US</td><td>C</td><td>150</td></tr></tbody></table></div>"
      ]
     },
     "metadata": {
      "application/vnd.databricks.v1+output": {
       "addedWidgets": {},
       "aggData": [],
       "aggError": "",
       "aggOverflow": false,
       "aggSchema": [],
       "aggSeriesLimitReached": false,
       "aggType": "",
       "arguments": {},
       "columnCustomDisplayInfos": {},
       "data": [
        [
         "HOUSTON INTERCONTINENTAL AIRPORT, TX US",
         "F",
         150
        ],
        [
         "HOUSTON WILLIAM P HOBBY AIRPORT, TX US",
         "C",
         150
        ]
       ],
       "datasetInfos": [],
       "dbfsResultPath": null,
       "isJsonSchema": true,
       "metadata": {},
       "overflow": false,
       "plotOptions": {
        "customPlotOptions": {},
        "displayType": "table",
        "pivotAggregation": null,
        "pivotColumns": null,
        "xColumns": null,
        "yColumns": null
       },
       "removedWidgets": [],
       "schema": [
        {
         "metadata": "{}",
         "name": "NAME",
         "type": "\"string\""
        },
        {
         "metadata": "{}",
         "name": "UNIT",
         "type": "\"string\""
        },
        {
         "metadata": "{}",
         "name": "counts",
         "type": "\"long\""
        }
       ],
       "type": "table"
      }
     },
     "output_type": "display_data"
    }
   ],
   "source": [
    "# Alternative\n",
    "countsDF.createOrReplaceTempView('df')\n",
    "spark.sql(\"\"\"SELECT * FROM df WHERE NAME LIKE '%TX%'\"\"\").display()"
   ]
  },
  {
   "cell_type": "markdown",
   "metadata": {
    "application/vnd.databricks.v1+cell": {
     "cellMetadata": {
      "byteLimit": 2048000,
      "rowLimit": 10000
     },
     "inputWidgets": {},
     "nuid": "fed2040d-92a1-484c-ba72-8ddc4879b24e",
     "showTitle": false,
     "title": ""
    }
   },
   "source": [
    "##![Spark Logo Tiny](https://files.training.databricks.com/images/105/logo_spark_tiny.png) Wide Transformations\n",
    "\n",
    "The data required to compute the records in a single partition may reside in many partitions of the parent Dataframe. These operations require that data is **shuffled** between executors.\n",
    "\n",
    "Examples include:\n",
    "* `distinct()`\n",
    "* `groupBy(..).sum()`\n",
    "* `repartition(n)`\n",
    "\n",
    "![](https://databricks.com/wp-content/uploads/2018/05/Wide-Transformation.png)"
   ]
  },
  {
   "cell_type": "code",
   "execution_count": 0,
   "metadata": {
    "application/vnd.databricks.v1+cell": {
     "cellMetadata": {
      "byteLimit": 2048000,
      "rowLimit": 10000
     },
     "inputWidgets": {},
     "nuid": "4e344ce3-faee-4046-aba9-07b889f83776",
     "showTitle": false,
     "title": ""
    }
   },
   "outputs": [
    {
     "output_type": "display_data",
     "data": {
      "text/html": [
       "<style scoped>\n  .table-result-container {\n    max-height: 300px;\n    overflow: auto;\n  }\n  table, th, td {\n    border: 1px solid black;\n    border-collapse: collapse;\n  }\n  th, td {\n    padding: 5px;\n  }\n  th {\n    text-align: left;\n  }\n</style><div class='table-result-container'><table class='table-result'><thead style='background-color: white'><tr><th>UNIT</th><th>sum(counts)</th></tr></thead><tbody><tr><td>F</td><td>1505</td></tr><tr><td>C</td><td>1054</td></tr></tbody></table></div>"
      ]
     },
     "metadata": {
      "application/vnd.databricks.v1+output": {
       "addedWidgets": {},
       "aggData": [],
       "aggError": "",
       "aggOverflow": false,
       "aggSchema": [],
       "aggSeriesLimitReached": false,
       "aggType": "",
       "arguments": {},
       "columnCustomDisplayInfos": {},
       "data": [
        [
         "F",
         1505
        ],
        [
         "C",
         1054
        ]
       ],
       "datasetInfos": [],
       "dbfsResultPath": null,
       "isJsonSchema": true,
       "metadata": {},
       "overflow": false,
       "plotOptions": {
        "customPlotOptions": {},
        "displayType": "table",
        "pivotAggregation": null,
        "pivotColumns": null,
        "xColumns": null,
        "yColumns": null
       },
       "removedWidgets": [],
       "schema": [
        {
         "metadata": "{}",
         "name": "UNIT",
         "type": "\"string\""
        },
        {
         "metadata": "{}",
         "name": "sum(counts)",
         "type": "\"long\""
        }
       ],
       "type": "table"
      }
     },
     "output_type": "display_data"
    }
   ],
   "source": [
    "display(countsDF.groupBy(\"UNIT\").sum(\"counts\"))"
   ]
  },
  {
   "cell_type": "code",
   "execution_count": 0,
   "metadata": {
    "application/vnd.databricks.v1+cell": {
     "cellMetadata": {
      "byteLimit": 2048000,
      "rowLimit": 10000
     },
     "inputWidgets": {},
     "nuid": "f011b867-742e-4d19-89cc-167dbefd81a2",
     "showTitle": false,
     "title": ""
    }
   },
   "outputs": [
    {
     "output_type": "display_data",
     "data": {
      "text/html": [
       "<style scoped>\n  .table-result-container {\n    max-height: 300px;\n    overflow: auto;\n  }\n  table, th, td {\n    border: 1px solid black;\n    border-collapse: collapse;\n  }\n  th, td {\n    padding: 5px;\n  }\n  th {\n    text-align: left;\n  }\n</style><div class='table-result-container'><table class='table-result'><thead style='background-color: white'><tr><th>UNIT</th><th>total_counts</th></tr></thead><tbody><tr><td>F</td><td>1505</td></tr><tr><td>C</td><td>1054</td></tr></tbody></table></div>"
      ]
     },
     "metadata": {
      "application/vnd.databricks.v1+output": {
       "addedWidgets": {},
       "aggData": [],
       "aggError": "",
       "aggOverflow": false,
       "aggSchema": [],
       "aggSeriesLimitReached": false,
       "aggType": "",
       "arguments": {},
       "columnCustomDisplayInfos": {},
       "data": [
        [
         "F",
         1505
        ],
        [
         "C",
         1054
        ]
       ],
       "datasetInfos": [],
       "dbfsResultPath": null,
       "isJsonSchema": true,
       "metadata": {},
       "overflow": false,
       "plotOptions": {
        "customPlotOptions": {},
        "displayType": "table",
        "pivotAggregation": null,
        "pivotColumns": null,
        "xColumns": null,
        "yColumns": null
       },
       "removedWidgets": [],
       "schema": [
        {
         "metadata": "{}",
         "name": "UNIT",
         "type": "\"string\""
        },
        {
         "metadata": "{}",
         "name": "total_counts",
         "type": "\"long\""
        }
       ],
       "type": "table"
      }
     },
     "output_type": "display_data"
    }
   ],
   "source": [
    "# Alternative\n",
    "countsDF.createOrReplaceTempView('df')\n",
    "spark.sql(\"\"\"SELECT UNIT, SUM(counts) as total_counts FROM df GROUP BY UNIT \"\"\").display()"
   ]
  },
  {
   "cell_type": "code",
   "execution_count": 0,
   "metadata": {
    "application/vnd.databricks.v1+cell": {
     "cellMetadata": {},
     "inputWidgets": {},
     "nuid": "e0a83ad5-05ce-478b-9c85-63b4a0e13f43",
     "showTitle": false,
     "title": ""
    }
   },
   "outputs": [],
   "source": [
    "# Overall, the Catalyst Optimizer helps to improve query performance, reduce query latency, and increase the scalability and efficiency of Spark applications."
   ]
  }
 ],
 "metadata": {
  "application/vnd.databricks.v1+notebook": {
   "dashboards": [],
   "language": "python",
   "notebookMetadata": {
    "mostRecentlyExecutedCommandWithImplicitDF": {
     "commandId": 2586464947860171,
     "dataframes": [
      "_sqldf"
     ]
    },
    "pythonIndentUnit": 2
   },
   "notebookName": "2.Actions-and-transformations",
   "notebookOrigID": 2586464947860079,
   "widgets": {}
  }
 },
 "nbformat": 4,
 "nbformat_minor": 0
}
