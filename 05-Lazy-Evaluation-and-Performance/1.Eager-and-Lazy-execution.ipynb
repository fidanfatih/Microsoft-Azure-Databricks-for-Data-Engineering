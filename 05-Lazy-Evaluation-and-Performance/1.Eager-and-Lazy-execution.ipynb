{
 "cells": [
  {
   "cell_type": "markdown",
   "metadata": {
    "application/vnd.databricks.v1+cell": {
     "cellMetadata": {
      "byteLimit": 2048000,
      "rowLimit": 10000
     },
     "inputWidgets": {},
     "nuid": "b94b3918-cc42-47e1-b780-100c428afedf",
     "showTitle": false,
     "title": ""
    }
   },
   "source": [
    "# Describe the difference between eager and lazy execution"
   ]
  },
  {
   "cell_type": "markdown",
   "metadata": {
    "application/vnd.databricks.v1+cell": {
     "cellMetadata": {
      "byteLimit": 2048000,
      "rowLimit": 10000
     },
     "inputWidgets": {},
     "nuid": "448856a1-1a6b-40d4-9a17-686fa8c0780d",
     "showTitle": false,
     "title": ""
    }
   },
   "source": [
    "##![Spark Logo Tiny](https://files.training.databricks.com/images/105/logo_spark_tiny.png) Getting Started\n",
    "\n",
    "Run the following cell to configure our \"classroom.\""
   ]
  },
  {
   "cell_type": "code",
   "execution_count": 0,
   "metadata": {
    "application/vnd.databricks.v1+cell": {
     "cellMetadata": {
      "byteLimit": 2048000,
      "rowLimit": 10000
     },
     "inputWidgets": {},
     "nuid": "165142ba-4fed-430f-a51a-5b34896457fd",
     "showTitle": false,
     "title": ""
    }
   },
   "outputs": [
    {
     "output_type": "display_data",
     "data": {
      "text/html": [
       "Initialized classroom variables & functions..."
      ]
     },
     "metadata": {
      "application/vnd.databricks.v1+output": {
       "addedWidgets": {},
       "arguments": {},
       "data": "Initialized classroom variables & functions...",
       "datasetInfos": [],
       "metadata": {
        "isDbfsCommandResult": false
       },
       "removedWidgets": [],
       "textData": null,
       "type": "htmlSandbox"
      }
     },
     "output_type": "display_data"
    },
    {
     "output_type": "display_data",
     "data": {
      "text/html": [
       "Datasets are already mounted to <b>/mnt/training</b> from <b>wasbs://training@dbtrainwesteurope.blob.core.windows.net/</b>"
      ]
     },
     "metadata": {
      "application/vnd.databricks.v1+output": {
       "addedWidgets": {},
       "arguments": {},
       "data": "Datasets are already mounted to <b>/mnt/training</b> from <b>wasbs://training@dbtrainwesteurope.blob.core.windows.net/</b>",
       "datasetInfos": [],
       "metadata": {
        "isDbfsCommandResult": false
       },
       "removedWidgets": [],
       "textData": null,
       "type": "htmlSandbox"
      }
     },
     "output_type": "display_data"
    },
    {
     "output_type": "display_data",
     "data": {
      "text/html": [
       "Created user-specific database"
      ]
     },
     "metadata": {
      "application/vnd.databricks.v1+output": {
       "addedWidgets": {},
       "arguments": {},
       "data": "Created user-specific database",
       "datasetInfos": [],
       "metadata": {
        "isDbfsCommandResult": false
       },
       "removedWidgets": [],
       "textData": null,
       "type": "htmlSandbox"
      }
     },
     "output_type": "display_data"
    },
    {
     "output_type": "display_data",
     "data": {
      "text/html": [
       "Using the database <b style=\"color:green\">fatihfidan52_gmail_com_db</b>."
      ]
     },
     "metadata": {
      "application/vnd.databricks.v1+output": {
       "addedWidgets": {},
       "arguments": {},
       "data": "Using the database <b style=\"color:green\">fatihfidan52_gmail_com_db</b>.",
       "datasetInfos": [],
       "metadata": {
        "isDbfsCommandResult": false
       },
       "removedWidgets": [],
       "textData": null,
       "type": "htmlSandbox"
      }
     },
     "output_type": "display_data"
    },
    {
     "output_type": "display_data",
     "data": {
      "text/html": [
       "All done!"
      ]
     },
     "metadata": {
      "application/vnd.databricks.v1+output": {
       "addedWidgets": {},
       "arguments": {},
       "data": "All done!",
       "datasetInfos": [],
       "metadata": {},
       "removedWidgets": [],
       "textData": null,
       "type": "htmlSandbox"
      }
     },
     "output_type": "display_data"
    }
   ],
   "source": [
    "%run ./Includes/Classroom-Setup"
   ]
  },
  {
   "cell_type": "markdown",
   "metadata": {
    "application/vnd.databricks.v1+cell": {
     "cellMetadata": {
      "byteLimit": 2048000,
      "rowLimit": 10000
     },
     "inputWidgets": {},
     "nuid": "b6e9cfb0-c8c4-44ce-9244-f03a5ac33a8d",
     "showTitle": false,
     "title": ""
    }
   },
   "source": [
    "##![Spark Logo Tiny](https://files.training.databricks.com/images/105/logo_spark_tiny.png) Laziness By Design\n",
    "\n",
    "Fundamental to Apache Spark are the notions that\n",
    "* Transformations are **LAZY**\n",
    "* Actions are **EAGER**\n",
    "\n",
    "The following code condenses the logic from the DataFrames modules in this learning path, and uses the DataFrames API to:\n",
    "- Specify a schema, format, and file source for the data to be loaded\n",
    "- Select columns to `GROUP BY`\n",
    "- Aggregate with a `COUNT`\n",
    "- Provide an alias name for the aggregate output\n",
    "- Specify a column to sort on\n",
    "\n",
    "This cell defines a series of **transformations**. By definition, this logic will result in a DataFrame and will not trigger any jobs."
   ]
  },
  {
   "cell_type": "code",
   "execution_count": 0,
   "metadata": {
    "application/vnd.databricks.v1+cell": {
     "cellMetadata": {
      "byteLimit": 2048000,
      "rowLimit": 10000
     },
     "inputWidgets": {},
     "nuid": "1aa06034-501d-4441-8e35-cd93d5dec529",
     "showTitle": false,
     "title": ""
    }
   },
   "outputs": [],
   "source": [
    "schemaDDL = \"NAME STRING, STATION STRING, LATITUDE FLOAT, LONGITUDE FLOAT, ELEVATION FLOAT, DATE DATE, UNIT STRING, TAVG FLOAT\"\n",
    "\n",
    "sourcePath = \"/mnt/training/weather/StationData/stationData.parquet/\"\n",
    "\n",
    "countsDF = (spark.read\n",
    "  .format(\"parquet\")\n",
    "  .schema(schemaDDL)\n",
    "  .load(sourcePath)\n",
    "  .groupBy(\"NAME\", \"UNIT\").count()\n",
    "  .withColumnRenamed(\"count\", \"counts\")\n",
    "  .orderBy(\"NAME\")\n",
    ")"
   ]
  },
  {
   "cell_type": "markdown",
   "metadata": {
    "application/vnd.databricks.v1+cell": {
     "cellMetadata": {
      "byteLimit": 2048000,
      "rowLimit": 10000
     },
     "inputWidgets": {},
     "nuid": "7c6c043b-a486-4d1f-979d-9b2f5bc0d64a",
     "showTitle": false,
     "title": ""
    }
   },
   "source": [
    "Because `display` is an **action**, a job _will_ be triggered, as logic is executed against the specified data to return a result."
   ]
  },
  {
   "cell_type": "code",
   "execution_count": 0,
   "metadata": {
    "application/vnd.databricks.v1+cell": {
     "cellMetadata": {
      "byteLimit": 2048000,
      "rowLimit": 10000
     },
     "inputWidgets": {},
     "nuid": "74b36d2a-dbeb-49f4-940b-9547ab3fe748",
     "showTitle": false,
     "title": ""
    }
   },
   "outputs": [
    {
     "output_type": "display_data",
     "data": {
      "text/html": [
       "<style scoped>\n  .table-result-container {\n    max-height: 300px;\n    overflow: auto;\n  }\n  table, th, td {\n    border: 1px solid black;\n    border-collapse: collapse;\n  }\n  th, td {\n    padding: 5px;\n  }\n  th {\n    text-align: left;\n  }\n</style><div class='table-result-container'><table class='table-result'><thead style='background-color: white'><tr><th>NAME</th><th>UNIT</th><th>counts</th></tr></thead><tbody><tr><td>BARNABY CALIFORNIA, CA US</td><td>C</td><td>151</td></tr><tr><td>BIG ROCK CALIFORNIA, CA US</td><td>C</td><td>151</td></tr><tr><td>BLACK DIAMOND CALIFORNIA, CA US</td><td>C</td><td>151</td></tr><tr><td>BRIONES CALIFORNIA, CA US</td><td>F</td><td>151</td></tr><tr><td>CONCORD BUCHANAN FIELD, CA US</td><td>F</td><td>149</td></tr><tr><td>HAYWARD AIR TERMINAL, CA US</td><td>F</td><td>149</td></tr><tr><td>HOUSTON INTERCONTINENTAL AIRPORT, TX US</td><td>F</td><td>150</td></tr><tr><td>HOUSTON WILLIAM P HOBBY AIRPORT, TX US</td><td>C</td><td>150</td></tr><tr><td>LAS TRAMPAS CALIFORNIA, CA US</td><td>C</td><td>151</td></tr><tr><td>LOS PRIETOS CALIFORNIA, CA US</td><td>F</td><td>151</td></tr><tr><td>MERRITT ISLAND FLORIDA, FL US</td><td>C</td><td>151</td></tr><tr><td>OAKLAND NORTH CALIFORNIA, CA US</td><td>F</td><td>151</td></tr><tr><td>OAKLAND SOUTH CALIFORNIA, CA US</td><td>F</td><td>151</td></tr><tr><td>PULGAS CALIFORNIA, CA US</td><td>F</td><td>151</td></tr><tr><td>SAN FRANCISCO INTERNATIONAL AIRPORT, CA US</td><td>C</td><td>149</td></tr><tr><td>SPRING VALLEY CALIFORNIA, CA US</td><td>F</td><td>151</td></tr><tr><td>WOODACRE CALIFORNIA, CA US</td><td>F</td><td>151</td></tr></tbody></table></div>"
      ]
     },
     "metadata": {
      "application/vnd.databricks.v1+output": {
       "addedWidgets": {},
       "aggData": [],
       "aggError": "",
       "aggOverflow": false,
       "aggSchema": [],
       "aggSeriesLimitReached": false,
       "aggType": "",
       "arguments": {},
       "columnCustomDisplayInfos": {},
       "data": [
        [
         "BARNABY CALIFORNIA, CA US",
         "C",
         151
        ],
        [
         "BIG ROCK CALIFORNIA, CA US",
         "C",
         151
        ],
        [
         "BLACK DIAMOND CALIFORNIA, CA US",
         "C",
         151
        ],
        [
         "BRIONES CALIFORNIA, CA US",
         "F",
         151
        ],
        [
         "CONCORD BUCHANAN FIELD, CA US",
         "F",
         149
        ],
        [
         "HAYWARD AIR TERMINAL, CA US",
         "F",
         149
        ],
        [
         "HOUSTON INTERCONTINENTAL AIRPORT, TX US",
         "F",
         150
        ],
        [
         "HOUSTON WILLIAM P HOBBY AIRPORT, TX US",
         "C",
         150
        ],
        [
         "LAS TRAMPAS CALIFORNIA, CA US",
         "C",
         151
        ],
        [
         "LOS PRIETOS CALIFORNIA, CA US",
         "F",
         151
        ],
        [
         "MERRITT ISLAND FLORIDA, FL US",
         "C",
         151
        ],
        [
         "OAKLAND NORTH CALIFORNIA, CA US",
         "F",
         151
        ],
        [
         "OAKLAND SOUTH CALIFORNIA, CA US",
         "F",
         151
        ],
        [
         "PULGAS CALIFORNIA, CA US",
         "F",
         151
        ],
        [
         "SAN FRANCISCO INTERNATIONAL AIRPORT, CA US",
         "C",
         149
        ],
        [
         "SPRING VALLEY CALIFORNIA, CA US",
         "F",
         151
        ],
        [
         "WOODACRE CALIFORNIA, CA US",
         "F",
         151
        ]
       ],
       "datasetInfos": [],
       "dbfsResultPath": null,
       "isJsonSchema": true,
       "metadata": {},
       "overflow": false,
       "plotOptions": {
        "customPlotOptions": {},
        "displayType": "table",
        "pivotAggregation": null,
        "pivotColumns": null,
        "xColumns": null,
        "yColumns": null
       },
       "removedWidgets": [],
       "schema": [
        {
         "metadata": "{}",
         "name": "NAME",
         "type": "\"string\""
        },
        {
         "metadata": "{}",
         "name": "UNIT",
         "type": "\"string\""
        },
        {
         "metadata": "{}",
         "name": "counts",
         "type": "\"long\""
        }
       ],
       "type": "table"
      }
     },
     "output_type": "display_data"
    }
   ],
   "source": [
    "display(countsDF)"
   ]
  },
  {
   "cell_type": "markdown",
   "metadata": {
    "application/vnd.databricks.v1+cell": {
     "cellMetadata": {
      "byteLimit": 2048000,
      "rowLimit": 10000
     },
     "inputWidgets": {},
     "nuid": "a7ab20bc-bb61-40b6-acce-5b253eaccccc",
     "showTitle": false,
     "title": ""
    }
   },
   "source": [
    "### Why is Laziness So Important?\n",
    "\n",
    "Laziness is at the core of Scala and Spark.\n",
    "\n",
    "It has a number of benefits:\n",
    "* Not forced to load all data at step #1\n",
    "  * Technically impossible with **REALLY** large datasets.\n",
    "* Easier to parallelize operations\n",
    "  * N different transformations can be processed on a single data element, on a single thread, on a single machine.\n",
    "* Optimizations can be applied prior to code compilation"
   ]
  },
  {
   "cell_type": "code",
   "execution_count": 0,
   "metadata": {
    "application/vnd.databricks.v1+cell": {
     "cellMetadata": {
      "byteLimit": 2048000,
      "rowLimit": 10000
     },
     "inputWidgets": {},
     "nuid": "c60d66bf-3403-42ef-b0ad-3d4478a47311",
     "showTitle": false,
     "title": ""
    }
   },
   "outputs": [],
   "source": [
    "# the laziness of Spark's transformations is a key factor in its efficiency, scalability, and fault tolerance, making it a powerful tool for big data processing."
   ]
  }
 ],
 "metadata": {
  "application/vnd.databricks.v1+notebook": {
   "dashboards": [],
   "language": "python",
   "notebookMetadata": {
    "pythonIndentUnit": 2
   },
   "notebookName": "1.Eager-and-Lazy-execution",
   "notebookOrigID": 2586464947860070,
   "widgets": {}
  }
 },
 "nbformat": 4,
 "nbformat_minor": 0
}
